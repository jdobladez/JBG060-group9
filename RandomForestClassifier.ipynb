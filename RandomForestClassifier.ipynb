{
 "cells": [
  {
   "cell_type": "markdown",
   "metadata": {},
   "source": [
    "## Libraries/Data required"
   ]
  },
  {
   "cell_type": "code",
   "execution_count": 2,
   "metadata": {
    "ExecuteTime": {
     "end_time": "2023-10-15T18:43:07.550765259Z",
     "start_time": "2023-10-15T18:43:07.503184675Z"
    }
   },
   "outputs": [],
   "source": [
    "import pandas as pd\n",
    "import numpy as np\n",
    "import matplotlib.pyplot as plt\n",
    "import seaborn as sns\n",
    "\n",
    "from sklearn.preprocessing import StandardScaler\n",
    "from sklearn.metrics import mean_squared_error, r2_score, accuracy_score, classification_report\n",
    "from sklearn.impute import SimpleImputer\n",
    "from sklearn.model_selection import TimeSeriesSplit\n",
    "from sklearn.metrics import log_loss, accuracy_score\n",
    "from statsmodels.regression.linear_model import OLS\n",
    "import statsmodels.api as sm\n",
    "from sklearn.ensemble import RandomForestClassifier\n",
    "from sklearn.preprocessing import LabelEncoder\n",
    "\n",
    "from sklearn.ensemble import RandomForestRegressor\n",
    "from sklearn.ensemble import GradientBoostingRegressor\n",
    "from sklearn.metrics import mean_squared_error\n",
    "from sklearn.metrics import log_loss\n",
    "from sklearn.metrics import classification_report\n",
    "\n",
    "\n",
    "data_dir = \"data/\" # Define data path"
   ]
  },
  {
   "cell_type": "code",
   "execution_count": 3,
   "metadata": {
    "ExecuteTime": {
     "end_time": "2023-10-15T18:43:13.171200932Z",
     "start_time": "2023-10-15T18:43:13.156045473Z"
    }
   },
   "outputs": [
    {
     "name": "stdout",
     "output_type": "stream",
     "text": [
      "78\n"
     ]
    }
   ],
   "source": [
    "df = pd.read_csv(data_dir + \"food_crises_reg_imputed.csv\") # Read data into DataFrame\n",
    "# df[\"date\"] = pd.to_datetime(df[\"year_month\"], format=\"%Y_%m\") # Create date column\n",
    "print(len(df['district'].unique()))\n",
    "df.set_index([\"date\", \"district\"], inplace=True) # Set index"
   ]
  },
  {
   "cell_type": "code",
   "execution_count": 4,
   "metadata": {
    "ExecuteTime": {
     "end_time": "2023-10-15T18:43:15.072496878Z",
     "start_time": "2023-10-15T18:43:15.040104123Z"
    },
    "collapsed": false
   },
   "outputs": [],
   "source": [
    "density_df = pd.read_csv(\"data/density_pop_ipc_region.csv\") # Read data into DataFrame\n",
    "density_df.set_index([\"datetime\", \"district\"], inplace=True) # Set index"
   ]
  },
  {
   "cell_type": "code",
   "execution_count": 5,
   "metadata": {
    "ExecuteTime": {
     "end_time": "2023-10-15T18:43:15.744997574Z",
     "start_time": "2023-10-15T18:43:15.717844785Z"
    },
    "collapsed": false
   },
   "outputs": [],
   "source": [
    "weighted_df = pd.read_csv(\"data/weighted_pop_ipc_region.csv\") # Read data into DataFrame\n",
    "weighted_df.set_index([\"datetime\", \"district\"], inplace=True) # Set index"
   ]
  },
  {
   "cell_type": "markdown",
   "metadata": {},
   "source": [
    "<BR>\n",
    "\n",
    "## Helper Functions"
   ]
  },
  {
   "cell_type": "markdown",
   "metadata": {},
   "source": [
    "Here we define a function that lags input variables. There are options for creating a rolling mean, taking the difference between subsequent rows, and dropping NaNs. Feature engineering can of course be extended much further than this."
   ]
  },
  {
   "cell_type": "code",
   "execution_count": 6,
   "metadata": {
    "ExecuteTime": {
     "end_time": "2023-10-15T18:43:17.579835897Z",
     "start_time": "2023-10-15T18:43:17.569805258Z"
    }
   },
   "outputs": [],
   "source": [
    "def create_lag_df(df, columns, lag, difference=False, rolling=None, dropna=False):\n",
    "    '''\n",
    "    Function to add lagged colums to dataframe\n",
    "    \n",
    "    Inputs:\n",
    "        df - Dataframe\n",
    "        columns - List of columns to create lags from\n",
    "        lag - The number of timesteps (in months for the default data) to lag the variable by\n",
    "        difference - Whether to take the difference between each observation as new column\n",
    "        rolling - The size of the rolling mean window, input None type to not use a rolling variable\n",
    "        dropna - Whether to drop NaN values\n",
    "        \n",
    "    Output:\n",
    "        df - Dataframe with the lagged columns added\n",
    "    '''\n",
    "    \n",
    "    for column in columns:\n",
    "        col = df[column].unstack()\n",
    "        if rolling:\n",
    "            col = col.rolling(rolling).mean()\n",
    "        if difference:\n",
    "            col = col.diff()\n",
    "        if dropna:\n",
    "            col = col.dropna(how='any')\n",
    "        df[f\"{column}_lag_{lag}\"] = col.shift(lag).stack()\n",
    "    return df"
   ]
  },
  {
   "cell_type": "markdown",
   "metadata": {},
   "source": [
    "<br>\n",
    "Here we define a function that plots a confusion matrix given a prediction and the true values, it can be used both for binary and categorical variables."
   ]
  },
  {
   "cell_type": "code",
   "execution_count": 7,
   "metadata": {
    "ExecuteTime": {
     "end_time": "2023-10-15T18:43:19.360561429Z",
     "start_time": "2023-10-15T18:43:19.350833191Z"
    }
   },
   "outputs": [],
   "source": [
    "def plot_ConfusionMatrix(prediction, true, binary=False):\n",
    "    '''\n",
    "    Function to plot a confusion matrix as a heatmap from a prediction and true values.\n",
    "    \n",
    "    Inputs:\n",
    "        prediction - The predicted values\n",
    "        true - the true values\n",
    "        binary - whether the variable is binary or not\n",
    "        \n",
    "    Output:\n",
    "        confusion_matrix - The calculated confusion matrix based on the prediction and true values.\n",
    "        \n",
    "        Also plots the confusion matrix as heatmap in an interactive environment such as Jupyter Notebook.\n",
    "    '''\n",
    "    \n",
    "    y_pred = prediction\n",
    "    \n",
    "    if not binary:\n",
    "        # Round prediction to nearest integer (i.e. the nearest phase)\n",
    "        y_pred = y_pred.round() \n",
    "        y_pred = np.minimum(y_pred, 5) # Cap maximum prediction at 5 (maximum phase)\n",
    "        y_pred = np.maximum(y_pred, 1) # Cap minimum prediction at 1 (minimum phase)\n",
    "\n",
    "    # Initialize confusion matrix\n",
    "    confusion_matrix = pd.crosstab(\n",
    "        true, y_pred, rownames=[\"Actual\"], colnames=[\"Predicted\"]\n",
    "    )\n",
    "\n",
    "    # Plot confusion matrix as heatmap\n",
    "    sns.heatmap(confusion_matrix, annot=True, fmt=\"g\")\n",
    "    plt.show()\n",
    "    plt.clf()\n",
    "    \n",
    "    return confusion_matrix"
   ]
  },
  {
   "cell_type": "markdown",
   "metadata": {},
   "source": [
    "## Making Predictions\n",
    "\n",
    "To simplify, we treat the IPC prediction problem as regression rather than classification,\n",
    "e.g., multivariable logistic regression might be more suited.\n",
    "<br><br>\n",
    "We use a TimeSeriesSplit to divide the data into 5 training-test splits and run cross-validation on these splits. \n",
    "<br>We report the confusion matrix (with training and test split as title) along with the model summary per split; the mean MAE and mean R2 are reported after completion of cross-validation.\n",
    "<br><br>\n",
    "First however, we create multiple lagged variables in the cell directly below."
   ]
  },
  {
   "cell_type": "code",
   "execution_count": 8,
   "metadata": {
    "ExecuteTime": {
     "end_time": "2023-10-15T18:43:20.680917304Z",
     "start_time": "2023-10-15T18:43:20.649442658Z"
    }
   },
   "outputs": [
    {
     "data": {
      "text/plain": [
       "Index(['country', 'district_code', 'centx', 'centy', 'year', 'month', 'ipc',\n",
       "       'ha', 'ndvi_mean', 'ndvi_anom', 'rain_mean', 'rain_anom', 'et_mean',\n",
       "       'et_anom', 'count_violence', 'sum_fatalities', 'food_price_idx', 'area',\n",
       "       'cropland_pct', 'pop', 'ruggedness_mean', 'pasture_pct', 'province',\n",
       "       'administrative_region', 'quarters', 'count_violence_lag_3',\n",
       "       'ndvi_anom_lag_3', 'food_price_idx_lag_3', 'ipc_lag_1', 'ipc_lag_2',\n",
       "       'ipc_lag_3'],\n",
       "      dtype='object')"
      ]
     },
     "execution_count": 8,
     "metadata": {},
     "output_type": "execute_result"
    }
   ],
   "source": [
    "# Create several lagged columns to use as explanatory variables for the model\n",
    "\n",
    "df = create_lag_df(df, ['count_violence', 'ndvi_anom'], 3, rolling=6) # 3-month-lagged rolling mean window of size 6\n",
    "df = create_lag_df(df, ['food_price_idx'], 3, difference=True, rolling=6) # difference of the 3-month-lagged rolling mean window of size 6\n",
    "df = create_lag_df(df, ['ipc'], 1, dropna=True) # 1-month-lag\n",
    "df = create_lag_df(df, ['ipc'], 2, dropna=True) # 2-month-lag\n",
    "df = create_lag_df(df, ['ipc'], 3, dropna=True) # 3-month-lag\n",
    "\n",
    "df.columns # View the newly created columns"
   ]
  },
  {
   "cell_type": "code",
   "execution_count": 9,
   "metadata": {
    "ExecuteTime": {
     "end_time": "2023-10-15T18:43:22.243619861Z",
     "start_time": "2023-10-15T18:43:22.195917246Z"
    },
    "collapsed": false
   },
   "outputs": [
    {
     "data": {
      "text/html": [
       "<div>\n",
       "<style scoped>\n",
       "    .dataframe tbody tr th:only-of-type {\n",
       "        vertical-align: middle;\n",
       "    }\n",
       "\n",
       "    .dataframe tbody tr th {\n",
       "        vertical-align: top;\n",
       "    }\n",
       "\n",
       "    .dataframe thead th {\n",
       "        text-align: right;\n",
       "    }\n",
       "</style>\n",
       "<table border=\"1\" class=\"dataframe\">\n",
       "  <thead>\n",
       "    <tr style=\"text-align: right;\">\n",
       "      <th></th>\n",
       "      <th>district</th>\n",
       "      <th>country</th>\n",
       "      <th>district_code</th>\n",
       "      <th>centx</th>\n",
       "      <th>centy</th>\n",
       "      <th>year_month</th>\n",
       "      <th>year</th>\n",
       "      <th>month</th>\n",
       "      <th>ipc</th>\n",
       "      <th>ha</th>\n",
       "      <th>...</th>\n",
       "      <th>total_region_pop</th>\n",
       "      <th>normalized_population</th>\n",
       "      <th>weighted_ipc_pop</th>\n",
       "      <th>generalized_ipc_pop</th>\n",
       "      <th>count_violence_lag_3</th>\n",
       "      <th>ndvi_anom_lag_3</th>\n",
       "      <th>food_price_idx_lag_3</th>\n",
       "      <th>ipc_lag_1</th>\n",
       "      <th>ipc_lag_2</th>\n",
       "      <th>ipc_lag_3</th>\n",
       "    </tr>\n",
       "    <tr>\n",
       "      <th>datetime</th>\n",
       "      <th></th>\n",
       "      <th></th>\n",
       "      <th></th>\n",
       "      <th></th>\n",
       "      <th></th>\n",
       "      <th></th>\n",
       "      <th></th>\n",
       "      <th></th>\n",
       "      <th></th>\n",
       "      <th></th>\n",
       "      <th></th>\n",
       "      <th></th>\n",
       "      <th></th>\n",
       "      <th></th>\n",
       "      <th></th>\n",
       "      <th></th>\n",
       "      <th></th>\n",
       "      <th></th>\n",
       "      <th></th>\n",
       "      <th></th>\n",
       "      <th></th>\n",
       "    </tr>\n",
       "  </thead>\n",
       "  <tbody>\n",
       "    <tr>\n",
       "      <th>2009-07-01</th>\n",
       "      <td>Bor</td>\n",
       "      <td>South Sudan</td>\n",
       "      <td>74</td>\n",
       "      <td>32.00486</td>\n",
       "      <td>6.465644</td>\n",
       "      <td>2009_07</td>\n",
       "      <td>2009</td>\n",
       "      <td>7</td>\n",
       "      <td>2.0</td>\n",
       "      <td>NaN</td>\n",
       "      <td>...</td>\n",
       "      <td>3394056.00</td>\n",
       "      <td>0.075608</td>\n",
       "      <td>0.151216</td>\n",
       "      <td>1.902810</td>\n",
       "      <td>NaN</td>\n",
       "      <td>NaN</td>\n",
       "      <td>NaN</td>\n",
       "      <td>NaN</td>\n",
       "      <td>NaN</td>\n",
       "      <td>NaN</td>\n",
       "    </tr>\n",
       "    <tr>\n",
       "      <th>2009-07-01</th>\n",
       "      <td>Terekeka</td>\n",
       "      <td>South Sudan</td>\n",
       "      <td>97</td>\n",
       "      <td>31.32576</td>\n",
       "      <td>5.662623</td>\n",
       "      <td>2009_07</td>\n",
       "      <td>2009</td>\n",
       "      <td>7</td>\n",
       "      <td>1.0</td>\n",
       "      <td>NaN</td>\n",
       "      <td>...</td>\n",
       "      <td>3284728.00</td>\n",
       "      <td>0.051538</td>\n",
       "      <td>0.051538</td>\n",
       "      <td>1.386920</td>\n",
       "      <td>NaN</td>\n",
       "      <td>NaN</td>\n",
       "      <td>NaN</td>\n",
       "      <td>NaN</td>\n",
       "      <td>NaN</td>\n",
       "      <td>NaN</td>\n",
       "    </tr>\n",
       "    <tr>\n",
       "      <th>2009-07-01</th>\n",
       "      <td>Duk</td>\n",
       "      <td>South Sudan</td>\n",
       "      <td>116</td>\n",
       "      <td>31.18647</td>\n",
       "      <td>7.617574</td>\n",
       "      <td>2009_07</td>\n",
       "      <td>2009</td>\n",
       "      <td>7</td>\n",
       "      <td>2.0</td>\n",
       "      <td>NaN</td>\n",
       "      <td>...</td>\n",
       "      <td>3394056.00</td>\n",
       "      <td>0.022458</td>\n",
       "      <td>0.044916</td>\n",
       "      <td>1.902810</td>\n",
       "      <td>NaN</td>\n",
       "      <td>NaN</td>\n",
       "      <td>NaN</td>\n",
       "      <td>NaN</td>\n",
       "      <td>NaN</td>\n",
       "      <td>NaN</td>\n",
       "    </tr>\n",
       "    <tr>\n",
       "      <th>2009-07-01</th>\n",
       "      <td>Tonj East</td>\n",
       "      <td>South Sudan</td>\n",
       "      <td>117</td>\n",
       "      <td>29.28494</td>\n",
       "      <td>7.847276</td>\n",
       "      <td>2009_07</td>\n",
       "      <td>2009</td>\n",
       "      <td>7</td>\n",
       "      <td>1.0</td>\n",
       "      <td>NaN</td>\n",
       "      <td>...</td>\n",
       "      <td>3036461.00</td>\n",
       "      <td>0.043199</td>\n",
       "      <td>0.043199</td>\n",
       "      <td>1.897398</td>\n",
       "      <td>NaN</td>\n",
       "      <td>NaN</td>\n",
       "      <td>NaN</td>\n",
       "      <td>NaN</td>\n",
       "      <td>NaN</td>\n",
       "      <td>NaN</td>\n",
       "    </tr>\n",
       "    <tr>\n",
       "      <th>2009-07-01</th>\n",
       "      <td>Fashoda</td>\n",
       "      <td>South Sudan</td>\n",
       "      <td>147</td>\n",
       "      <td>31.84424</td>\n",
       "      <td>9.980295</td>\n",
       "      <td>2009_07</td>\n",
       "      <td>2009</td>\n",
       "      <td>7</td>\n",
       "      <td>1.0</td>\n",
       "      <td>NaN</td>\n",
       "      <td>...</td>\n",
       "      <td>3394056.00</td>\n",
       "      <td>0.012878</td>\n",
       "      <td>0.012878</td>\n",
       "      <td>1.902810</td>\n",
       "      <td>NaN</td>\n",
       "      <td>NaN</td>\n",
       "      <td>NaN</td>\n",
       "      <td>NaN</td>\n",
       "      <td>NaN</td>\n",
       "      <td>NaN</td>\n",
       "    </tr>\n",
       "    <tr>\n",
       "      <th>...</th>\n",
       "      <td>...</td>\n",
       "      <td>...</td>\n",
       "      <td>...</td>\n",
       "      <td>...</td>\n",
       "      <td>...</td>\n",
       "      <td>...</td>\n",
       "      <td>...</td>\n",
       "      <td>...</td>\n",
       "      <td>...</td>\n",
       "      <td>...</td>\n",
       "      <td>...</td>\n",
       "      <td>...</td>\n",
       "      <td>...</td>\n",
       "      <td>...</td>\n",
       "      <td>...</td>\n",
       "      <td>...</td>\n",
       "      <td>...</td>\n",
       "      <td>...</td>\n",
       "      <td>...</td>\n",
       "      <td>...</td>\n",
       "      <td>...</td>\n",
       "    </tr>\n",
       "    <tr>\n",
       "      <th>2020-02-01</th>\n",
       "      <td>Koch</td>\n",
       "      <td>South Sudan</td>\n",
       "      <td>127</td>\n",
       "      <td>29.85742</td>\n",
       "      <td>8.633903</td>\n",
       "      <td>2020_02</td>\n",
       "      <td>2020</td>\n",
       "      <td>2</td>\n",
       "      <td>3.0</td>\n",
       "      <td>0.0</td>\n",
       "      <td>...</td>\n",
       "      <td>3860036.43</td>\n",
       "      <td>0.027077</td>\n",
       "      <td>0.081232</td>\n",
       "      <td>3.397920</td>\n",
       "      <td>0.166667</td>\n",
       "      <td>111.294617</td>\n",
       "      <td>2.234340</td>\n",
       "      <td>3.0</td>\n",
       "      <td>3.0</td>\n",
       "      <td>3.0</td>\n",
       "    </tr>\n",
       "    <tr>\n",
       "      <th>2020-02-01</th>\n",
       "      <td>Aweil Center</td>\n",
       "      <td>South Sudan</td>\n",
       "      <td>128</td>\n",
       "      <td>26.89562</td>\n",
       "      <td>8.417934</td>\n",
       "      <td>2020_02</td>\n",
       "      <td>2020</td>\n",
       "      <td>2</td>\n",
       "      <td>3.0</td>\n",
       "      <td>1.0</td>\n",
       "      <td>...</td>\n",
       "      <td>2666084.46</td>\n",
       "      <td>0.013140</td>\n",
       "      <td>0.039421</td>\n",
       "      <td>3.013384</td>\n",
       "      <td>0.000000</td>\n",
       "      <td>105.971917</td>\n",
       "      <td>3.064545</td>\n",
       "      <td>3.0</td>\n",
       "      <td>3.0</td>\n",
       "      <td>3.0</td>\n",
       "    </tr>\n",
       "    <tr>\n",
       "      <th>2020-02-01</th>\n",
       "      <td>Gogrial East</td>\n",
       "      <td>South Sudan</td>\n",
       "      <td>129</td>\n",
       "      <td>28.58906</td>\n",
       "      <td>8.597443</td>\n",
       "      <td>2020_02</td>\n",
       "      <td>2020</td>\n",
       "      <td>2</td>\n",
       "      <td>3.0</td>\n",
       "      <td>0.0</td>\n",
       "      <td>...</td>\n",
       "      <td>2666084.46</td>\n",
       "      <td>0.038477</td>\n",
       "      <td>0.115430</td>\n",
       "      <td>3.013384</td>\n",
       "      <td>0.166667</td>\n",
       "      <td>106.954817</td>\n",
       "      <td>2.734335</td>\n",
       "      <td>3.0</td>\n",
       "      <td>2.0</td>\n",
       "      <td>2.0</td>\n",
       "    </tr>\n",
       "    <tr>\n",
       "      <th>2020-02-01</th>\n",
       "      <td>Mayendit</td>\n",
       "      <td>South Sudan</td>\n",
       "      <td>122</td>\n",
       "      <td>29.91969</td>\n",
       "      <td>8.122516</td>\n",
       "      <td>2020_02</td>\n",
       "      <td>2020</td>\n",
       "      <td>2</td>\n",
       "      <td>3.0</td>\n",
       "      <td>1.0</td>\n",
       "      <td>...</td>\n",
       "      <td>3860036.43</td>\n",
       "      <td>0.019555</td>\n",
       "      <td>0.058665</td>\n",
       "      <td>3.397920</td>\n",
       "      <td>0.333333</td>\n",
       "      <td>108.414300</td>\n",
       "      <td>2.334342</td>\n",
       "      <td>3.0</td>\n",
       "      <td>3.0</td>\n",
       "      <td>3.0</td>\n",
       "    </tr>\n",
       "    <tr>\n",
       "      <th>2020-02-01</th>\n",
       "      <td>Malakal</td>\n",
       "      <td>South Sudan</td>\n",
       "      <td>151</td>\n",
       "      <td>31.64280</td>\n",
       "      <td>9.658457</td>\n",
       "      <td>2020_02</td>\n",
       "      <td>2020</td>\n",
       "      <td>2</td>\n",
       "      <td>4.0</td>\n",
       "      <td>0.0</td>\n",
       "      <td>...</td>\n",
       "      <td>3860036.43</td>\n",
       "      <td>0.042272</td>\n",
       "      <td>0.169088</td>\n",
       "      <td>3.397920</td>\n",
       "      <td>0.166667</td>\n",
       "      <td>111.723767</td>\n",
       "      <td>3.677937</td>\n",
       "      <td>4.0</td>\n",
       "      <td>3.0</td>\n",
       "      <td>3.0</td>\n",
       "    </tr>\n",
       "  </tbody>\n",
       "</table>\n",
       "<p>9984 rows × 38 columns</p>\n",
       "</div>"
      ],
      "text/plain": [
       "                district      country  district_code     centx     centy  \\\n",
       "datetime                                                                   \n",
       "2009-07-01           Bor  South Sudan             74  32.00486  6.465644   \n",
       "2009-07-01      Terekeka  South Sudan             97  31.32576  5.662623   \n",
       "2009-07-01           Duk  South Sudan            116  31.18647  7.617574   \n",
       "2009-07-01     Tonj East  South Sudan            117  29.28494  7.847276   \n",
       "2009-07-01       Fashoda  South Sudan            147  31.84424  9.980295   \n",
       "...                  ...          ...            ...       ...       ...   \n",
       "2020-02-01          Koch  South Sudan            127  29.85742  8.633903   \n",
       "2020-02-01  Aweil Center  South Sudan            128  26.89562  8.417934   \n",
       "2020-02-01  Gogrial East  South Sudan            129  28.58906  8.597443   \n",
       "2020-02-01      Mayendit  South Sudan            122  29.91969  8.122516   \n",
       "2020-02-01       Malakal  South Sudan            151  31.64280  9.658457   \n",
       "\n",
       "           year_month  year  month  ipc   ha  ...  total_region_pop  \\\n",
       "datetime                                      ...                     \n",
       "2009-07-01    2009_07  2009      7  2.0  NaN  ...        3394056.00   \n",
       "2009-07-01    2009_07  2009      7  1.0  NaN  ...        3284728.00   \n",
       "2009-07-01    2009_07  2009      7  2.0  NaN  ...        3394056.00   \n",
       "2009-07-01    2009_07  2009      7  1.0  NaN  ...        3036461.00   \n",
       "2009-07-01    2009_07  2009      7  1.0  NaN  ...        3394056.00   \n",
       "...               ...   ...    ...  ...  ...  ...               ...   \n",
       "2020-02-01    2020_02  2020      2  3.0  0.0  ...        3860036.43   \n",
       "2020-02-01    2020_02  2020      2  3.0  1.0  ...        2666084.46   \n",
       "2020-02-01    2020_02  2020      2  3.0  0.0  ...        2666084.46   \n",
       "2020-02-01    2020_02  2020      2  3.0  1.0  ...        3860036.43   \n",
       "2020-02-01    2020_02  2020      2  4.0  0.0  ...        3860036.43   \n",
       "\n",
       "            normalized_population  weighted_ipc_pop  generalized_ipc_pop  \\\n",
       "datetime                                                                   \n",
       "2009-07-01               0.075608          0.151216             1.902810   \n",
       "2009-07-01               0.051538          0.051538             1.386920   \n",
       "2009-07-01               0.022458          0.044916             1.902810   \n",
       "2009-07-01               0.043199          0.043199             1.897398   \n",
       "2009-07-01               0.012878          0.012878             1.902810   \n",
       "...                           ...               ...                  ...   \n",
       "2020-02-01               0.027077          0.081232             3.397920   \n",
       "2020-02-01               0.013140          0.039421             3.013384   \n",
       "2020-02-01               0.038477          0.115430             3.013384   \n",
       "2020-02-01               0.019555          0.058665             3.397920   \n",
       "2020-02-01               0.042272          0.169088             3.397920   \n",
       "\n",
       "            count_violence_lag_3  ndvi_anom_lag_3  food_price_idx_lag_3  \\\n",
       "datetime                                                                  \n",
       "2009-07-01                   NaN              NaN                   NaN   \n",
       "2009-07-01                   NaN              NaN                   NaN   \n",
       "2009-07-01                   NaN              NaN                   NaN   \n",
       "2009-07-01                   NaN              NaN                   NaN   \n",
       "2009-07-01                   NaN              NaN                   NaN   \n",
       "...                          ...              ...                   ...   \n",
       "2020-02-01              0.166667       111.294617              2.234340   \n",
       "2020-02-01              0.000000       105.971917              3.064545   \n",
       "2020-02-01              0.166667       106.954817              2.734335   \n",
       "2020-02-01              0.333333       108.414300              2.334342   \n",
       "2020-02-01              0.166667       111.723767              3.677937   \n",
       "\n",
       "            ipc_lag_1  ipc_lag_2  ipc_lag_3  \n",
       "datetime                                     \n",
       "2009-07-01        NaN        NaN        NaN  \n",
       "2009-07-01        NaN        NaN        NaN  \n",
       "2009-07-01        NaN        NaN        NaN  \n",
       "2009-07-01        NaN        NaN        NaN  \n",
       "2009-07-01        NaN        NaN        NaN  \n",
       "...               ...        ...        ...  \n",
       "2020-02-01        3.0        3.0        3.0  \n",
       "2020-02-01        3.0        3.0        3.0  \n",
       "2020-02-01        3.0        2.0        2.0  \n",
       "2020-02-01        3.0        3.0        3.0  \n",
       "2020-02-01        4.0        3.0        3.0  \n",
       "\n",
       "[9984 rows x 38 columns]"
      ]
     },
     "execution_count": 9,
     "metadata": {},
     "output_type": "execute_result"
    }
   ],
   "source": [
    "\n",
    "weighted_df = create_lag_df(weighted_df, ['count_violence', 'ndvi_anom'], 3, rolling=6) # 3-month-lagged rolling mean window of size 6\n",
    "weighted_df = create_lag_df(weighted_df, ['food_price_idx'], 3, difference=True, rolling=6) # difference of the 3-month-lagged rolling mean window of size 6\n",
    "weighted_df = create_lag_df(weighted_df, ['ipc'], 1, dropna=True) # 1-month-lag\n",
    "weighted_df = create_lag_df(weighted_df, ['ipc'], 2, dropna=True) # 2-month-lag\n",
    "weighted_df = create_lag_df(weighted_df, ['ipc'], 3, dropna=True) # 3-month-lag\n",
    "\n",
    "weighted_df.reset_index(inplace=True)\n",
    "weighted_df.set_index('datetime', inplace=True)\n",
    "weighted_df.sort_index(level=0, inplace=True) # Sort DataFrame by date\n",
    "weighted_df.index = pd.to_datetime(weighted_df.index)\n",
    "weighted_df"
   ]
  },
  {
   "cell_type": "code",
   "execution_count": 10,
   "metadata": {
    "ExecuteTime": {
     "end_time": "2023-10-15T18:43:23.349029099Z",
     "start_time": "2023-10-15T18:43:23.302567452Z"
    },
    "collapsed": false
   },
   "outputs": [
    {
     "data": {
      "text/html": [
       "<div>\n",
       "<style scoped>\n",
       "    .dataframe tbody tr th:only-of-type {\n",
       "        vertical-align: middle;\n",
       "    }\n",
       "\n",
       "    .dataframe tbody tr th {\n",
       "        vertical-align: top;\n",
       "    }\n",
       "\n",
       "    .dataframe thead th {\n",
       "        text-align: right;\n",
       "    }\n",
       "</style>\n",
       "<table border=\"1\" class=\"dataframe\">\n",
       "  <thead>\n",
       "    <tr style=\"text-align: right;\">\n",
       "      <th></th>\n",
       "      <th>district</th>\n",
       "      <th>country</th>\n",
       "      <th>district_code</th>\n",
       "      <th>centx</th>\n",
       "      <th>centy</th>\n",
       "      <th>year_month</th>\n",
       "      <th>year</th>\n",
       "      <th>month</th>\n",
       "      <th>ipc</th>\n",
       "      <th>ha</th>\n",
       "      <th>...</th>\n",
       "      <th>generalized_ipc_pop</th>\n",
       "      <th>pop_density</th>\n",
       "      <th>weighted_ipc_density</th>\n",
       "      <th>generalized_ipc_density</th>\n",
       "      <th>count_violence_lag_3</th>\n",
       "      <th>ndvi_anom_lag_3</th>\n",
       "      <th>food_price_idx_lag_3</th>\n",
       "      <th>ipc_lag_1</th>\n",
       "      <th>ipc_lag_2</th>\n",
       "      <th>ipc_lag_3</th>\n",
       "    </tr>\n",
       "    <tr>\n",
       "      <th>datetime</th>\n",
       "      <th></th>\n",
       "      <th></th>\n",
       "      <th></th>\n",
       "      <th></th>\n",
       "      <th></th>\n",
       "      <th></th>\n",
       "      <th></th>\n",
       "      <th></th>\n",
       "      <th></th>\n",
       "      <th></th>\n",
       "      <th></th>\n",
       "      <th></th>\n",
       "      <th></th>\n",
       "      <th></th>\n",
       "      <th></th>\n",
       "      <th></th>\n",
       "      <th></th>\n",
       "      <th></th>\n",
       "      <th></th>\n",
       "      <th></th>\n",
       "      <th></th>\n",
       "    </tr>\n",
       "  </thead>\n",
       "  <tbody>\n",
       "    <tr>\n",
       "      <th>2009-07-01</th>\n",
       "      <td>Bor</td>\n",
       "      <td>South Sudan</td>\n",
       "      <td>74</td>\n",
       "      <td>32.00486</td>\n",
       "      <td>6.465644</td>\n",
       "      <td>2009_07</td>\n",
       "      <td>2009</td>\n",
       "      <td>7</td>\n",
       "      <td>2.0</td>\n",
       "      <td>NaN</td>\n",
       "      <td>...</td>\n",
       "      <td>1.902810</td>\n",
       "      <td>1.831896e+07</td>\n",
       "      <td>3.663791e+07</td>\n",
       "      <td>1.840095</td>\n",
       "      <td>NaN</td>\n",
       "      <td>NaN</td>\n",
       "      <td>NaN</td>\n",
       "      <td>NaN</td>\n",
       "      <td>NaN</td>\n",
       "      <td>NaN</td>\n",
       "    </tr>\n",
       "    <tr>\n",
       "      <th>2009-07-01</th>\n",
       "      <td>Terekeka</td>\n",
       "      <td>South Sudan</td>\n",
       "      <td>97</td>\n",
       "      <td>31.32576</td>\n",
       "      <td>5.662623</td>\n",
       "      <td>2009_07</td>\n",
       "      <td>2009</td>\n",
       "      <td>7</td>\n",
       "      <td>1.0</td>\n",
       "      <td>NaN</td>\n",
       "      <td>...</td>\n",
       "      <td>1.386920</td>\n",
       "      <td>1.579304e+07</td>\n",
       "      <td>1.579304e+07</td>\n",
       "      <td>1.403153</td>\n",
       "      <td>NaN</td>\n",
       "      <td>NaN</td>\n",
       "      <td>NaN</td>\n",
       "      <td>NaN</td>\n",
       "      <td>NaN</td>\n",
       "      <td>NaN</td>\n",
       "    </tr>\n",
       "    <tr>\n",
       "      <th>2009-07-01</th>\n",
       "      <td>Duk</td>\n",
       "      <td>South Sudan</td>\n",
       "      <td>116</td>\n",
       "      <td>31.18647</td>\n",
       "      <td>7.617574</td>\n",
       "      <td>2009_07</td>\n",
       "      <td>2009</td>\n",
       "      <td>7</td>\n",
       "      <td>2.0</td>\n",
       "      <td>NaN</td>\n",
       "      <td>...</td>\n",
       "      <td>1.902810</td>\n",
       "      <td>1.107115e+07</td>\n",
       "      <td>2.214229e+07</td>\n",
       "      <td>1.840095</td>\n",
       "      <td>NaN</td>\n",
       "      <td>NaN</td>\n",
       "      <td>NaN</td>\n",
       "      <td>NaN</td>\n",
       "      <td>NaN</td>\n",
       "      <td>NaN</td>\n",
       "    </tr>\n",
       "    <tr>\n",
       "      <th>2009-07-01</th>\n",
       "      <td>Tonj East</td>\n",
       "      <td>South Sudan</td>\n",
       "      <td>117</td>\n",
       "      <td>29.28494</td>\n",
       "      <td>7.847276</td>\n",
       "      <td>2009_07</td>\n",
       "      <td>2009</td>\n",
       "      <td>7</td>\n",
       "      <td>1.0</td>\n",
       "      <td>NaN</td>\n",
       "      <td>...</td>\n",
       "      <td>1.897398</td>\n",
       "      <td>2.954181e+07</td>\n",
       "      <td>2.954181e+07</td>\n",
       "      <td>1.935449</td>\n",
       "      <td>NaN</td>\n",
       "      <td>NaN</td>\n",
       "      <td>NaN</td>\n",
       "      <td>NaN</td>\n",
       "      <td>NaN</td>\n",
       "      <td>NaN</td>\n",
       "    </tr>\n",
       "    <tr>\n",
       "      <th>2009-07-01</th>\n",
       "      <td>Fashoda</td>\n",
       "      <td>South Sudan</td>\n",
       "      <td>147</td>\n",
       "      <td>31.84424</td>\n",
       "      <td>9.980295</td>\n",
       "      <td>2009_07</td>\n",
       "      <td>2009</td>\n",
       "      <td>7</td>\n",
       "      <td>1.0</td>\n",
       "      <td>NaN</td>\n",
       "      <td>...</td>\n",
       "      <td>1.902810</td>\n",
       "      <td>1.210934e+07</td>\n",
       "      <td>1.210934e+07</td>\n",
       "      <td>1.840095</td>\n",
       "      <td>NaN</td>\n",
       "      <td>NaN</td>\n",
       "      <td>NaN</td>\n",
       "      <td>NaN</td>\n",
       "      <td>NaN</td>\n",
       "      <td>NaN</td>\n",
       "    </tr>\n",
       "    <tr>\n",
       "      <th>...</th>\n",
       "      <td>...</td>\n",
       "      <td>...</td>\n",
       "      <td>...</td>\n",
       "      <td>...</td>\n",
       "      <td>...</td>\n",
       "      <td>...</td>\n",
       "      <td>...</td>\n",
       "      <td>...</td>\n",
       "      <td>...</td>\n",
       "      <td>...</td>\n",
       "      <td>...</td>\n",
       "      <td>...</td>\n",
       "      <td>...</td>\n",
       "      <td>...</td>\n",
       "      <td>...</td>\n",
       "      <td>...</td>\n",
       "      <td>...</td>\n",
       "      <td>...</td>\n",
       "      <td>...</td>\n",
       "      <td>...</td>\n",
       "      <td>...</td>\n",
       "    </tr>\n",
       "    <tr>\n",
       "      <th>2020-02-01</th>\n",
       "      <td>Koch</td>\n",
       "      <td>South Sudan</td>\n",
       "      <td>127</td>\n",
       "      <td>29.85742</td>\n",
       "      <td>8.633903</td>\n",
       "      <td>2020_02</td>\n",
       "      <td>2020</td>\n",
       "      <td>2</td>\n",
       "      <td>3.0</td>\n",
       "      <td>0.0</td>\n",
       "      <td>...</td>\n",
       "      <td>3.397920</td>\n",
       "      <td>2.360382e+07</td>\n",
       "      <td>7.081147e+07</td>\n",
       "      <td>3.511564</td>\n",
       "      <td>0.166667</td>\n",
       "      <td>111.294617</td>\n",
       "      <td>2.234340</td>\n",
       "      <td>3.0</td>\n",
       "      <td>3.0</td>\n",
       "      <td>3.0</td>\n",
       "    </tr>\n",
       "    <tr>\n",
       "      <th>2020-02-01</th>\n",
       "      <td>Aweil Center</td>\n",
       "      <td>South Sudan</td>\n",
       "      <td>128</td>\n",
       "      <td>26.89562</td>\n",
       "      <td>8.417934</td>\n",
       "      <td>2020_02</td>\n",
       "      <td>2020</td>\n",
       "      <td>2</td>\n",
       "      <td>3.0</td>\n",
       "      <td>1.0</td>\n",
       "      <td>...</td>\n",
       "      <td>3.013384</td>\n",
       "      <td>3.127129e+06</td>\n",
       "      <td>9.381387e+06</td>\n",
       "      <td>3.047154</td>\n",
       "      <td>0.000000</td>\n",
       "      <td>105.971917</td>\n",
       "      <td>3.064545</td>\n",
       "      <td>3.0</td>\n",
       "      <td>3.0</td>\n",
       "      <td>3.0</td>\n",
       "    </tr>\n",
       "    <tr>\n",
       "      <th>2020-02-01</th>\n",
       "      <td>Gogrial East</td>\n",
       "      <td>South Sudan</td>\n",
       "      <td>129</td>\n",
       "      <td>28.58906</td>\n",
       "      <td>8.597443</td>\n",
       "      <td>2020_02</td>\n",
       "      <td>2020</td>\n",
       "      <td>2</td>\n",
       "      <td>3.0</td>\n",
       "      <td>0.0</td>\n",
       "      <td>...</td>\n",
       "      <td>3.013384</td>\n",
       "      <td>2.308662e+07</td>\n",
       "      <td>6.925985e+07</td>\n",
       "      <td>3.047154</td>\n",
       "      <td>0.166667</td>\n",
       "      <td>106.954817</td>\n",
       "      <td>2.734335</td>\n",
       "      <td>3.0</td>\n",
       "      <td>2.0</td>\n",
       "      <td>2.0</td>\n",
       "    </tr>\n",
       "    <tr>\n",
       "      <th>2020-02-01</th>\n",
       "      <td>Mayendit</td>\n",
       "      <td>South Sudan</td>\n",
       "      <td>122</td>\n",
       "      <td>29.91969</td>\n",
       "      <td>8.122516</td>\n",
       "      <td>2020_02</td>\n",
       "      <td>2020</td>\n",
       "      <td>2</td>\n",
       "      <td>3.0</td>\n",
       "      <td>1.0</td>\n",
       "      <td>...</td>\n",
       "      <td>3.397920</td>\n",
       "      <td>2.455531e+07</td>\n",
       "      <td>7.366593e+07</td>\n",
       "      <td>3.511564</td>\n",
       "      <td>0.333333</td>\n",
       "      <td>108.414300</td>\n",
       "      <td>2.334342</td>\n",
       "      <td>3.0</td>\n",
       "      <td>3.0</td>\n",
       "      <td>3.0</td>\n",
       "    </tr>\n",
       "    <tr>\n",
       "      <th>2020-02-01</th>\n",
       "      <td>Malakal</td>\n",
       "      <td>South Sudan</td>\n",
       "      <td>151</td>\n",
       "      <td>31.64280</td>\n",
       "      <td>9.658457</td>\n",
       "      <td>2020_02</td>\n",
       "      <td>2020</td>\n",
       "      <td>2</td>\n",
       "      <td>4.0</td>\n",
       "      <td>0.0</td>\n",
       "      <td>...</td>\n",
       "      <td>3.397920</td>\n",
       "      <td>2.153265e+08</td>\n",
       "      <td>8.613060e+08</td>\n",
       "      <td>3.511564</td>\n",
       "      <td>0.166667</td>\n",
       "      <td>111.723767</td>\n",
       "      <td>3.677937</td>\n",
       "      <td>4.0</td>\n",
       "      <td>3.0</td>\n",
       "      <td>3.0</td>\n",
       "    </tr>\n",
       "  </tbody>\n",
       "</table>\n",
       "<p>9984 rows × 41 columns</p>\n",
       "</div>"
      ],
      "text/plain": [
       "                district      country  district_code     centx     centy  \\\n",
       "datetime                                                                   \n",
       "2009-07-01           Bor  South Sudan             74  32.00486  6.465644   \n",
       "2009-07-01      Terekeka  South Sudan             97  31.32576  5.662623   \n",
       "2009-07-01           Duk  South Sudan            116  31.18647  7.617574   \n",
       "2009-07-01     Tonj East  South Sudan            117  29.28494  7.847276   \n",
       "2009-07-01       Fashoda  South Sudan            147  31.84424  9.980295   \n",
       "...                  ...          ...            ...       ...       ...   \n",
       "2020-02-01          Koch  South Sudan            127  29.85742  8.633903   \n",
       "2020-02-01  Aweil Center  South Sudan            128  26.89562  8.417934   \n",
       "2020-02-01  Gogrial East  South Sudan            129  28.58906  8.597443   \n",
       "2020-02-01      Mayendit  South Sudan            122  29.91969  8.122516   \n",
       "2020-02-01       Malakal  South Sudan            151  31.64280  9.658457   \n",
       "\n",
       "           year_month  year  month  ipc   ha  ...  generalized_ipc_pop  \\\n",
       "datetime                                      ...                        \n",
       "2009-07-01    2009_07  2009      7  2.0  NaN  ...             1.902810   \n",
       "2009-07-01    2009_07  2009      7  1.0  NaN  ...             1.386920   \n",
       "2009-07-01    2009_07  2009      7  2.0  NaN  ...             1.902810   \n",
       "2009-07-01    2009_07  2009      7  1.0  NaN  ...             1.897398   \n",
       "2009-07-01    2009_07  2009      7  1.0  NaN  ...             1.902810   \n",
       "...               ...   ...    ...  ...  ...  ...                  ...   \n",
       "2020-02-01    2020_02  2020      2  3.0  0.0  ...             3.397920   \n",
       "2020-02-01    2020_02  2020      2  3.0  1.0  ...             3.013384   \n",
       "2020-02-01    2020_02  2020      2  3.0  0.0  ...             3.013384   \n",
       "2020-02-01    2020_02  2020      2  3.0  1.0  ...             3.397920   \n",
       "2020-02-01    2020_02  2020      2  4.0  0.0  ...             3.397920   \n",
       "\n",
       "             pop_density  weighted_ipc_density  generalized_ipc_density  \\\n",
       "datetime                                                                  \n",
       "2009-07-01  1.831896e+07          3.663791e+07                 1.840095   \n",
       "2009-07-01  1.579304e+07          1.579304e+07                 1.403153   \n",
       "2009-07-01  1.107115e+07          2.214229e+07                 1.840095   \n",
       "2009-07-01  2.954181e+07          2.954181e+07                 1.935449   \n",
       "2009-07-01  1.210934e+07          1.210934e+07                 1.840095   \n",
       "...                  ...                   ...                      ...   \n",
       "2020-02-01  2.360382e+07          7.081147e+07                 3.511564   \n",
       "2020-02-01  3.127129e+06          9.381387e+06                 3.047154   \n",
       "2020-02-01  2.308662e+07          6.925985e+07                 3.047154   \n",
       "2020-02-01  2.455531e+07          7.366593e+07                 3.511564   \n",
       "2020-02-01  2.153265e+08          8.613060e+08                 3.511564   \n",
       "\n",
       "            count_violence_lag_3  ndvi_anom_lag_3  food_price_idx_lag_3  \\\n",
       "datetime                                                                  \n",
       "2009-07-01                   NaN              NaN                   NaN   \n",
       "2009-07-01                   NaN              NaN                   NaN   \n",
       "2009-07-01                   NaN              NaN                   NaN   \n",
       "2009-07-01                   NaN              NaN                   NaN   \n",
       "2009-07-01                   NaN              NaN                   NaN   \n",
       "...                          ...              ...                   ...   \n",
       "2020-02-01              0.166667       111.294617              2.234340   \n",
       "2020-02-01              0.000000       105.971917              3.064545   \n",
       "2020-02-01              0.166667       106.954817              2.734335   \n",
       "2020-02-01              0.333333       108.414300              2.334342   \n",
       "2020-02-01              0.166667       111.723767              3.677937   \n",
       "\n",
       "            ipc_lag_1  ipc_lag_2  ipc_lag_3  \n",
       "datetime                                     \n",
       "2009-07-01        NaN        NaN        NaN  \n",
       "2009-07-01        NaN        NaN        NaN  \n",
       "2009-07-01        NaN        NaN        NaN  \n",
       "2009-07-01        NaN        NaN        NaN  \n",
       "2009-07-01        NaN        NaN        NaN  \n",
       "...               ...        ...        ...  \n",
       "2020-02-01        3.0        3.0        3.0  \n",
       "2020-02-01        3.0        3.0        3.0  \n",
       "2020-02-01        3.0        2.0        2.0  \n",
       "2020-02-01        3.0        3.0        3.0  \n",
       "2020-02-01        4.0        3.0        3.0  \n",
       "\n",
       "[9984 rows x 41 columns]"
      ]
     },
     "execution_count": 10,
     "metadata": {},
     "output_type": "execute_result"
    }
   ],
   "source": [
    "\n",
    "density_df = create_lag_df(density_df, ['count_violence', 'ndvi_anom'], 3, rolling=6) # 3-month-lagged rolling mean window of size 6\n",
    "density_df = create_lag_df(density_df, ['food_price_idx'], 3, difference=True, rolling=6) # difference of the 3-month-lagged rolling mean window of size 6\n",
    "density_df = create_lag_df(density_df, ['ipc'], 1, dropna=True) # 1-month-lag\n",
    "density_df = create_lag_df(density_df, ['ipc'], 2, dropna=True) # 2-month-lag\n",
    "density_df = create_lag_df(density_df, ['ipc'], 3, dropna=True) # 3-month-lag\n",
    "\n",
    "density_df.reset_index(inplace=True)\n",
    "density_df.set_index('datetime', inplace=True)\n",
    "density_df.sort_index(level=0, inplace=True) # Sort DataFrame by date\n",
    "#d.index = pd.to_datetime(df.index)\n",
    "density_df"
   ]
  },
  {
   "cell_type": "code",
   "execution_count": 11,
   "metadata": {
    "ExecuteTime": {
     "end_time": "2023-10-15T18:43:33.231032835Z",
     "start_time": "2023-10-15T18:43:33.189348902Z"
    }
   },
   "outputs": [],
   "source": [
    "df.sort_index(level=0, inplace=True) # Sort DataFrame by date\n",
    "df = df.iloc[df['ipc'].notnull().argmax():].copy() # Drop rows until first notna value in ipc column"
   ]
  },
  {
   "cell_type": "markdown",
   "metadata": {},
   "source": [
    "## Incorporating News Features"
   ]
  },
  {
   "cell_type": "markdown",
   "metadata": {},
   "source": [
    "We look at country wide news features to simplify. E.g., we do not look at topics per district"
   ]
  },
  {
   "cell_type": "code",
   "execution_count": 12,
   "metadata": {
    "ExecuteTime": {
     "end_time": "2023-10-15T18:43:35.958637068Z",
     "start_time": "2023-10-15T18:43:35.830210674Z"
    }
   },
   "outputs": [],
   "source": [
    "news_df = pd.read_csv(data_dir + \"articles_topics_extra_topics.csv\") # Read news data into DataFrame\n",
    "\n",
    "# Create date column\n",
    "news_df[\"datetime\"] = pd.to_datetime(\n",
    "    pd.to_datetime(news_df[\"date\"], format=\"%Y-%m-%d\").dt.strftime(\"%Y-%m\"),\n",
    "    format=\"%Y-%m\",\n",
    ")"
   ]
  },
  {
   "cell_type": "code",
   "execution_count": 13,
   "metadata": {
    "ExecuteTime": {
     "end_time": "2023-10-15T18:22:41.406381782Z",
     "start_time": "2023-10-15T18:22:41.398270330Z"
    }
   },
   "outputs": [],
   "source": [
    "# news_df[news_df[\"date\"] > \"2011-09-09\"]"
   ]
  },
  {
   "cell_type": "code",
   "execution_count": 14,
   "metadata": {
    "ExecuteTime": {
     "end_time": "2023-10-15T18:43:38.546990154Z",
     "start_time": "2023-10-15T18:43:38.517064219Z"
    }
   },
   "outputs": [
    {
     "data": {
      "text/html": [
       "<div>\n",
       "<style scoped>\n",
       "    .dataframe tbody tr th:only-of-type {\n",
       "        vertical-align: middle;\n",
       "    }\n",
       "\n",
       "    .dataframe tbody tr th {\n",
       "        vertical-align: top;\n",
       "    }\n",
       "\n",
       "    .dataframe thead th {\n",
       "        text-align: right;\n",
       "    }\n",
       "</style>\n",
       "<table border=\"1\" class=\"dataframe\">\n",
       "  <thead>\n",
       "    <tr style=\"text-align: right;\">\n",
       "      <th></th>\n",
       "      <th>hunger</th>\n",
       "      <th>refugees</th>\n",
       "      <th>conflict</th>\n",
       "      <th>humanitarian</th>\n",
       "      <th>corruption</th>\n",
       "      <th>terrorism</th>\n",
       "      <th>nature</th>\n",
       "      <th>oil</th>\n",
       "      <th>livestock</th>\n",
       "    </tr>\n",
       "    <tr>\n",
       "      <th>date</th>\n",
       "      <th></th>\n",
       "      <th></th>\n",
       "      <th></th>\n",
       "      <th></th>\n",
       "      <th></th>\n",
       "      <th></th>\n",
       "      <th></th>\n",
       "      <th></th>\n",
       "      <th></th>\n",
       "    </tr>\n",
       "  </thead>\n",
       "  <tbody>\n",
       "    <tr>\n",
       "      <th>2011-06-27</th>\n",
       "      <td>0.000000e+00</td>\n",
       "      <td>0.000000e+00</td>\n",
       "      <td>0.000000e+00</td>\n",
       "      <td>0.000000e+00</td>\n",
       "      <td>0.000000e+00</td>\n",
       "      <td>0.000000</td>\n",
       "      <td>0.0</td>\n",
       "      <td>0.000000e+00</td>\n",
       "      <td>0.0</td>\n",
       "    </tr>\n",
       "    <tr>\n",
       "      <th>2011-06-28</th>\n",
       "      <td>0.000000e+00</td>\n",
       "      <td>0.000000e+00</td>\n",
       "      <td>0.000000e+00</td>\n",
       "      <td>0.000000e+00</td>\n",
       "      <td>0.000000e+00</td>\n",
       "      <td>0.000000</td>\n",
       "      <td>0.0</td>\n",
       "      <td>0.000000e+00</td>\n",
       "      <td>0.0</td>\n",
       "    </tr>\n",
       "    <tr>\n",
       "      <th>2011-06-29</th>\n",
       "      <td>0.000000e+00</td>\n",
       "      <td>0.000000e+00</td>\n",
       "      <td>0.000000e+00</td>\n",
       "      <td>0.000000e+00</td>\n",
       "      <td>0.000000e+00</td>\n",
       "      <td>0.000000</td>\n",
       "      <td>0.0</td>\n",
       "      <td>0.000000e+00</td>\n",
       "      <td>0.0</td>\n",
       "    </tr>\n",
       "    <tr>\n",
       "      <th>2011-06-30</th>\n",
       "      <td>0.000000e+00</td>\n",
       "      <td>0.000000e+00</td>\n",
       "      <td>0.000000e+00</td>\n",
       "      <td>0.000000e+00</td>\n",
       "      <td>0.000000e+00</td>\n",
       "      <td>0.000000</td>\n",
       "      <td>0.0</td>\n",
       "      <td>0.000000e+00</td>\n",
       "      <td>0.0</td>\n",
       "    </tr>\n",
       "    <tr>\n",
       "      <th>2011-07-01</th>\n",
       "      <td>0.000000e+00</td>\n",
       "      <td>0.000000e+00</td>\n",
       "      <td>1.666667e-01</td>\n",
       "      <td>0.000000e+00</td>\n",
       "      <td>0.000000e+00</td>\n",
       "      <td>0.000000</td>\n",
       "      <td>0.0</td>\n",
       "      <td>0.000000e+00</td>\n",
       "      <td>0.0</td>\n",
       "    </tr>\n",
       "    <tr>\n",
       "      <th>...</th>\n",
       "      <td>...</td>\n",
       "      <td>...</td>\n",
       "      <td>...</td>\n",
       "      <td>...</td>\n",
       "      <td>...</td>\n",
       "      <td>...</td>\n",
       "      <td>...</td>\n",
       "      <td>...</td>\n",
       "      <td>...</td>\n",
       "    </tr>\n",
       "    <tr>\n",
       "      <th>2023-04-20</th>\n",
       "      <td>1.480297e-16</td>\n",
       "      <td>1.480297e-16</td>\n",
       "      <td>7.401487e-17</td>\n",
       "      <td>3.700743e-17</td>\n",
       "      <td>7.401487e-17</td>\n",
       "      <td>0.000000</td>\n",
       "      <td>0.0</td>\n",
       "      <td>7.401487e-17</td>\n",
       "      <td>0.0</td>\n",
       "    </tr>\n",
       "    <tr>\n",
       "      <th>2023-04-23</th>\n",
       "      <td>1.480297e-16</td>\n",
       "      <td>1.480297e-16</td>\n",
       "      <td>3.333333e-01</td>\n",
       "      <td>3.700743e-17</td>\n",
       "      <td>7.401487e-17</td>\n",
       "      <td>0.000000</td>\n",
       "      <td>0.0</td>\n",
       "      <td>7.401487e-17</td>\n",
       "      <td>0.0</td>\n",
       "    </tr>\n",
       "    <tr>\n",
       "      <th>2023-04-24</th>\n",
       "      <td>1.480297e-16</td>\n",
       "      <td>1.480297e-16</td>\n",
       "      <td>3.333333e-01</td>\n",
       "      <td>3.700743e-17</td>\n",
       "      <td>7.401487e-17</td>\n",
       "      <td>0.000000</td>\n",
       "      <td>0.0</td>\n",
       "      <td>7.401487e-17</td>\n",
       "      <td>0.0</td>\n",
       "    </tr>\n",
       "    <tr>\n",
       "      <th>2023-04-26</th>\n",
       "      <td>1.480297e-16</td>\n",
       "      <td>1.480297e-16</td>\n",
       "      <td>3.333333e-01</td>\n",
       "      <td>3.700743e-17</td>\n",
       "      <td>7.401487e-17</td>\n",
       "      <td>0.333333</td>\n",
       "      <td>0.0</td>\n",
       "      <td>7.401487e-17</td>\n",
       "      <td>0.0</td>\n",
       "    </tr>\n",
       "    <tr>\n",
       "      <th>2023-04-28</th>\n",
       "      <td>1.480297e-16</td>\n",
       "      <td>1.480297e-16</td>\n",
       "      <td>7.401487e-17</td>\n",
       "      <td>3.700743e-17</td>\n",
       "      <td>7.401487e-17</td>\n",
       "      <td>0.333333</td>\n",
       "      <td>0.0</td>\n",
       "      <td>7.401487e-17</td>\n",
       "      <td>0.0</td>\n",
       "    </tr>\n",
       "  </tbody>\n",
       "</table>\n",
       "<p>3394 rows × 9 columns</p>\n",
       "</div>"
      ],
      "text/plain": [
       "                  hunger      refugees      conflict  humanitarian  \\\n",
       "date                                                                 \n",
       "2011-06-27  0.000000e+00  0.000000e+00  0.000000e+00  0.000000e+00   \n",
       "2011-06-28  0.000000e+00  0.000000e+00  0.000000e+00  0.000000e+00   \n",
       "2011-06-29  0.000000e+00  0.000000e+00  0.000000e+00  0.000000e+00   \n",
       "2011-06-30  0.000000e+00  0.000000e+00  0.000000e+00  0.000000e+00   \n",
       "2011-07-01  0.000000e+00  0.000000e+00  1.666667e-01  0.000000e+00   \n",
       "...                  ...           ...           ...           ...   \n",
       "2023-04-20  1.480297e-16  1.480297e-16  7.401487e-17  3.700743e-17   \n",
       "2023-04-23  1.480297e-16  1.480297e-16  3.333333e-01  3.700743e-17   \n",
       "2023-04-24  1.480297e-16  1.480297e-16  3.333333e-01  3.700743e-17   \n",
       "2023-04-26  1.480297e-16  1.480297e-16  3.333333e-01  3.700743e-17   \n",
       "2023-04-28  1.480297e-16  1.480297e-16  7.401487e-17  3.700743e-17   \n",
       "\n",
       "              corruption  terrorism  nature           oil  livestock  \n",
       "date                                                                  \n",
       "2011-06-27  0.000000e+00   0.000000     0.0  0.000000e+00        0.0  \n",
       "2011-06-28  0.000000e+00   0.000000     0.0  0.000000e+00        0.0  \n",
       "2011-06-29  0.000000e+00   0.000000     0.0  0.000000e+00        0.0  \n",
       "2011-06-30  0.000000e+00   0.000000     0.0  0.000000e+00        0.0  \n",
       "2011-07-01  0.000000e+00   0.000000     0.0  0.000000e+00        0.0  \n",
       "...                  ...        ...     ...           ...        ...  \n",
       "2023-04-20  7.401487e-17   0.000000     0.0  7.401487e-17        0.0  \n",
       "2023-04-23  7.401487e-17   0.000000     0.0  7.401487e-17        0.0  \n",
       "2023-04-24  7.401487e-17   0.000000     0.0  7.401487e-17        0.0  \n",
       "2023-04-26  7.401487e-17   0.333333     0.0  7.401487e-17        0.0  \n",
       "2023-04-28  7.401487e-17   0.333333     0.0  7.401487e-17        0.0  \n",
       "\n",
       "[3394 rows x 9 columns]"
      ]
     },
     "execution_count": 14,
     "metadata": {},
     "output_type": "execute_result"
    }
   ],
   "source": [
    "def create_news_features(columns):\n",
    "    cols = []\n",
    "    for column in columns:\n",
    "        col = news_df.groupby([\"date\"])[column].mean()\n",
    "        col = col.fillna(0)\n",
    "        col = col.rolling(3).mean()\n",
    "        col = col.shift(3)\n",
    "        cols.append(col)\n",
    "    return pd.concat(cols, axis=1)\n",
    "\n",
    "# country wide news features\n",
    "news_features = create_news_features(\n",
    "    [\"hunger\", 'refugees', 'conflict', 'humanitarian', 'corruption', 'terrorism', 'nature', 'oil', 'livestock'])\n",
    "news_features.dropna(how='all', inplace=True)\n",
    "news_features.index = pd.to_datetime(news_features.index)\n",
    "\n",
    "news_features"
   ]
  },
  {
   "cell_type": "code",
   "execution_count": 15,
   "metadata": {
    "ExecuteTime": {
     "end_time": "2023-10-15T18:43:42.048695436Z",
     "start_time": "2023-10-15T18:43:42.036419375Z"
    },
    "collapsed": false
   },
   "outputs": [],
   "source": [
    "binary_classification = {False: 0, True: 1}\n",
    "topics = [\"hunger\", \"refugees\", \"humanitarian\", \"conflict\", \"corruption\", \"terrorism\", \"nature\", 'oil', \"livestock\"]\n",
    "for topic in topics:\n",
    "    news_df[topic] = news_df[topic].map(binary_classification)"
   ]
  },
  {
   "cell_type": "code",
   "execution_count": 16,
   "metadata": {
    "ExecuteTime": {
     "end_time": "2023-10-15T18:43:43.387516275Z",
     "start_time": "2023-10-15T18:43:43.364866315Z"
    },
    "collapsed": false
   },
   "outputs": [
    {
     "data": {
      "text/html": [
       "<div>\n",
       "<style scoped>\n",
       "    .dataframe tbody tr th:only-of-type {\n",
       "        vertical-align: middle;\n",
       "    }\n",
       "\n",
       "    .dataframe tbody tr th {\n",
       "        vertical-align: top;\n",
       "    }\n",
       "\n",
       "    .dataframe thead th {\n",
       "        text-align: right;\n",
       "    }\n",
       "</style>\n",
       "<table border=\"1\" class=\"dataframe\">\n",
       "  <thead>\n",
       "    <tr style=\"text-align: right;\">\n",
       "      <th></th>\n",
       "      <th>district</th>\n",
       "      <th>country</th>\n",
       "      <th>district_code</th>\n",
       "      <th>centx</th>\n",
       "      <th>centy</th>\n",
       "      <th>year_month</th>\n",
       "      <th>year</th>\n",
       "      <th>month</th>\n",
       "      <th>ipc</th>\n",
       "      <th>ha</th>\n",
       "      <th>...</th>\n",
       "      <th>ipc_lag_3</th>\n",
       "      <th>hunger</th>\n",
       "      <th>refugees</th>\n",
       "      <th>conflict</th>\n",
       "      <th>humanitarian</th>\n",
       "      <th>corruption</th>\n",
       "      <th>terrorism</th>\n",
       "      <th>nature</th>\n",
       "      <th>oil</th>\n",
       "      <th>livestock</th>\n",
       "    </tr>\n",
       "  </thead>\n",
       "  <tbody>\n",
       "    <tr>\n",
       "      <th>2009-07-01</th>\n",
       "      <td>Bor</td>\n",
       "      <td>South Sudan</td>\n",
       "      <td>74</td>\n",
       "      <td>32.00486</td>\n",
       "      <td>6.465644</td>\n",
       "      <td>2009_07</td>\n",
       "      <td>2009</td>\n",
       "      <td>7</td>\n",
       "      <td>2.0</td>\n",
       "      <td>NaN</td>\n",
       "      <td>...</td>\n",
       "      <td>NaN</td>\n",
       "      <td>NaN</td>\n",
       "      <td>NaN</td>\n",
       "      <td>NaN</td>\n",
       "      <td>NaN</td>\n",
       "      <td>NaN</td>\n",
       "      <td>NaN</td>\n",
       "      <td>NaN</td>\n",
       "      <td>NaN</td>\n",
       "      <td>NaN</td>\n",
       "    </tr>\n",
       "    <tr>\n",
       "      <th>2009-07-01</th>\n",
       "      <td>Mundri East</td>\n",
       "      <td>South Sudan</td>\n",
       "      <td>92</td>\n",
       "      <td>30.68256</td>\n",
       "      <td>5.307882</td>\n",
       "      <td>2009_07</td>\n",
       "      <td>2009</td>\n",
       "      <td>7</td>\n",
       "      <td>1.0</td>\n",
       "      <td>NaN</td>\n",
       "      <td>...</td>\n",
       "      <td>NaN</td>\n",
       "      <td>NaN</td>\n",
       "      <td>NaN</td>\n",
       "      <td>NaN</td>\n",
       "      <td>NaN</td>\n",
       "      <td>NaN</td>\n",
       "      <td>NaN</td>\n",
       "      <td>NaN</td>\n",
       "      <td>NaN</td>\n",
       "      <td>NaN</td>\n",
       "    </tr>\n",
       "    <tr>\n",
       "      <th>2009-07-01</th>\n",
       "      <td>Nyirol</td>\n",
       "      <td>South Sudan</td>\n",
       "      <td>130</td>\n",
       "      <td>32.11970</td>\n",
       "      <td>8.583063</td>\n",
       "      <td>2009_07</td>\n",
       "      <td>2009</td>\n",
       "      <td>7</td>\n",
       "      <td>3.0</td>\n",
       "      <td>NaN</td>\n",
       "      <td>...</td>\n",
       "      <td>NaN</td>\n",
       "      <td>NaN</td>\n",
       "      <td>NaN</td>\n",
       "      <td>NaN</td>\n",
       "      <td>NaN</td>\n",
       "      <td>NaN</td>\n",
       "      <td>NaN</td>\n",
       "      <td>NaN</td>\n",
       "      <td>NaN</td>\n",
       "      <td>NaN</td>\n",
       "    </tr>\n",
       "    <tr>\n",
       "      <th>2009-07-01</th>\n",
       "      <td>Aweil East</td>\n",
       "      <td>South Sudan</td>\n",
       "      <td>141</td>\n",
       "      <td>27.61364</td>\n",
       "      <td>9.243139</td>\n",
       "      <td>2009_07</td>\n",
       "      <td>2009</td>\n",
       "      <td>7</td>\n",
       "      <td>3.0</td>\n",
       "      <td>NaN</td>\n",
       "      <td>...</td>\n",
       "      <td>NaN</td>\n",
       "      <td>NaN</td>\n",
       "      <td>NaN</td>\n",
       "      <td>NaN</td>\n",
       "      <td>NaN</td>\n",
       "      <td>NaN</td>\n",
       "      <td>NaN</td>\n",
       "      <td>NaN</td>\n",
       "      <td>NaN</td>\n",
       "      <td>NaN</td>\n",
       "    </tr>\n",
       "    <tr>\n",
       "      <th>2009-07-01</th>\n",
       "      <td>Yei</td>\n",
       "      <td>South Sudan</td>\n",
       "      <td>81</td>\n",
       "      <td>30.34454</td>\n",
       "      <td>4.252148</td>\n",
       "      <td>2009_07</td>\n",
       "      <td>2009</td>\n",
       "      <td>7</td>\n",
       "      <td>1.0</td>\n",
       "      <td>NaN</td>\n",
       "      <td>...</td>\n",
       "      <td>NaN</td>\n",
       "      <td>NaN</td>\n",
       "      <td>NaN</td>\n",
       "      <td>NaN</td>\n",
       "      <td>NaN</td>\n",
       "      <td>NaN</td>\n",
       "      <td>NaN</td>\n",
       "      <td>NaN</td>\n",
       "      <td>NaN</td>\n",
       "      <td>NaN</td>\n",
       "    </tr>\n",
       "    <tr>\n",
       "      <th>...</th>\n",
       "      <td>...</td>\n",
       "      <td>...</td>\n",
       "      <td>...</td>\n",
       "      <td>...</td>\n",
       "      <td>...</td>\n",
       "      <td>...</td>\n",
       "      <td>...</td>\n",
       "      <td>...</td>\n",
       "      <td>...</td>\n",
       "      <td>...</td>\n",
       "      <td>...</td>\n",
       "      <td>...</td>\n",
       "      <td>...</td>\n",
       "      <td>...</td>\n",
       "      <td>...</td>\n",
       "      <td>...</td>\n",
       "      <td>...</td>\n",
       "      <td>...</td>\n",
       "      <td>...</td>\n",
       "      <td>...</td>\n",
       "      <td>...</td>\n",
       "    </tr>\n",
       "    <tr>\n",
       "      <th>2020-02-01</th>\n",
       "      <td>Jur River</td>\n",
       "      <td>South Sudan</td>\n",
       "      <td>75</td>\n",
       "      <td>28.02439</td>\n",
       "      <td>7.592506</td>\n",
       "      <td>2020_02</td>\n",
       "      <td>2020</td>\n",
       "      <td>2</td>\n",
       "      <td>2.0</td>\n",
       "      <td>0.0</td>\n",
       "      <td>...</td>\n",
       "      <td>3.0</td>\n",
       "      <td>NaN</td>\n",
       "      <td>NaN</td>\n",
       "      <td>NaN</td>\n",
       "      <td>NaN</td>\n",
       "      <td>NaN</td>\n",
       "      <td>NaN</td>\n",
       "      <td>NaN</td>\n",
       "      <td>NaN</td>\n",
       "      <td>NaN</td>\n",
       "    </tr>\n",
       "    <tr>\n",
       "      <th>2020-02-01</th>\n",
       "      <td>Bor</td>\n",
       "      <td>South Sudan</td>\n",
       "      <td>74</td>\n",
       "      <td>32.00486</td>\n",
       "      <td>6.465644</td>\n",
       "      <td>2020_02</td>\n",
       "      <td>2020</td>\n",
       "      <td>2</td>\n",
       "      <td>3.0</td>\n",
       "      <td>0.0</td>\n",
       "      <td>...</td>\n",
       "      <td>3.0</td>\n",
       "      <td>NaN</td>\n",
       "      <td>NaN</td>\n",
       "      <td>NaN</td>\n",
       "      <td>NaN</td>\n",
       "      <td>NaN</td>\n",
       "      <td>NaN</td>\n",
       "      <td>NaN</td>\n",
       "      <td>NaN</td>\n",
       "      <td>NaN</td>\n",
       "    </tr>\n",
       "    <tr>\n",
       "      <th>2020-02-01</th>\n",
       "      <td>Juba</td>\n",
       "      <td>South Sudan</td>\n",
       "      <td>90</td>\n",
       "      <td>31.48342</td>\n",
       "      <td>4.717081</td>\n",
       "      <td>2020_02</td>\n",
       "      <td>2020</td>\n",
       "      <td>2</td>\n",
       "      <td>3.0</td>\n",
       "      <td>0.0</td>\n",
       "      <td>...</td>\n",
       "      <td>3.0</td>\n",
       "      <td>NaN</td>\n",
       "      <td>NaN</td>\n",
       "      <td>NaN</td>\n",
       "      <td>NaN</td>\n",
       "      <td>NaN</td>\n",
       "      <td>NaN</td>\n",
       "      <td>NaN</td>\n",
       "      <td>NaN</td>\n",
       "      <td>NaN</td>\n",
       "    </tr>\n",
       "    <tr>\n",
       "      <th>2020-02-01</th>\n",
       "      <td>Ikotos</td>\n",
       "      <td>South Sudan</td>\n",
       "      <td>80</td>\n",
       "      <td>33.13061</td>\n",
       "      <td>4.027118</td>\n",
       "      <td>2020_02</td>\n",
       "      <td>2020</td>\n",
       "      <td>2</td>\n",
       "      <td>3.0</td>\n",
       "      <td>0.0</td>\n",
       "      <td>...</td>\n",
       "      <td>2.0</td>\n",
       "      <td>NaN</td>\n",
       "      <td>NaN</td>\n",
       "      <td>NaN</td>\n",
       "      <td>NaN</td>\n",
       "      <td>NaN</td>\n",
       "      <td>NaN</td>\n",
       "      <td>NaN</td>\n",
       "      <td>NaN</td>\n",
       "      <td>NaN</td>\n",
       "    </tr>\n",
       "    <tr>\n",
       "      <th>2020-02-01</th>\n",
       "      <td>Malakal</td>\n",
       "      <td>South Sudan</td>\n",
       "      <td>151</td>\n",
       "      <td>31.64280</td>\n",
       "      <td>9.658457</td>\n",
       "      <td>2020_02</td>\n",
       "      <td>2020</td>\n",
       "      <td>2</td>\n",
       "      <td>4.0</td>\n",
       "      <td>0.0</td>\n",
       "      <td>...</td>\n",
       "      <td>3.0</td>\n",
       "      <td>NaN</td>\n",
       "      <td>NaN</td>\n",
       "      <td>NaN</td>\n",
       "      <td>NaN</td>\n",
       "      <td>NaN</td>\n",
       "      <td>NaN</td>\n",
       "      <td>NaN</td>\n",
       "      <td>NaN</td>\n",
       "      <td>NaN</td>\n",
       "    </tr>\n",
       "  </tbody>\n",
       "</table>\n",
       "<p>9984 rows × 46 columns</p>\n",
       "</div>"
      ],
      "text/plain": [
       "               district      country  district_code     centx     centy  \\\n",
       "2009-07-01          Bor  South Sudan             74  32.00486  6.465644   \n",
       "2009-07-01  Mundri East  South Sudan             92  30.68256  5.307882   \n",
       "2009-07-01       Nyirol  South Sudan            130  32.11970  8.583063   \n",
       "2009-07-01   Aweil East  South Sudan            141  27.61364  9.243139   \n",
       "2009-07-01          Yei  South Sudan             81  30.34454  4.252148   \n",
       "...                 ...          ...            ...       ...       ...   \n",
       "2020-02-01    Jur River  South Sudan             75  28.02439  7.592506   \n",
       "2020-02-01          Bor  South Sudan             74  32.00486  6.465644   \n",
       "2020-02-01         Juba  South Sudan             90  31.48342  4.717081   \n",
       "2020-02-01       Ikotos  South Sudan             80  33.13061  4.027118   \n",
       "2020-02-01      Malakal  South Sudan            151  31.64280  9.658457   \n",
       "\n",
       "           year_month  year  month  ipc   ha  ...  ipc_lag_3  hunger  \\\n",
       "2009-07-01    2009_07  2009      7  2.0  NaN  ...        NaN     NaN   \n",
       "2009-07-01    2009_07  2009      7  1.0  NaN  ...        NaN     NaN   \n",
       "2009-07-01    2009_07  2009      7  3.0  NaN  ...        NaN     NaN   \n",
       "2009-07-01    2009_07  2009      7  3.0  NaN  ...        NaN     NaN   \n",
       "2009-07-01    2009_07  2009      7  1.0  NaN  ...        NaN     NaN   \n",
       "...               ...   ...    ...  ...  ...  ...        ...     ...   \n",
       "2020-02-01    2020_02  2020      2  2.0  0.0  ...        3.0     NaN   \n",
       "2020-02-01    2020_02  2020      2  3.0  0.0  ...        3.0     NaN   \n",
       "2020-02-01    2020_02  2020      2  3.0  0.0  ...        3.0     NaN   \n",
       "2020-02-01    2020_02  2020      2  3.0  0.0  ...        2.0     NaN   \n",
       "2020-02-01    2020_02  2020      2  4.0  0.0  ...        3.0     NaN   \n",
       "\n",
       "            refugees  conflict  humanitarian  corruption  terrorism  nature  \\\n",
       "2009-07-01       NaN       NaN           NaN         NaN        NaN     NaN   \n",
       "2009-07-01       NaN       NaN           NaN         NaN        NaN     NaN   \n",
       "2009-07-01       NaN       NaN           NaN         NaN        NaN     NaN   \n",
       "2009-07-01       NaN       NaN           NaN         NaN        NaN     NaN   \n",
       "2009-07-01       NaN       NaN           NaN         NaN        NaN     NaN   \n",
       "...              ...       ...           ...         ...        ...     ...   \n",
       "2020-02-01       NaN       NaN           NaN         NaN        NaN     NaN   \n",
       "2020-02-01       NaN       NaN           NaN         NaN        NaN     NaN   \n",
       "2020-02-01       NaN       NaN           NaN         NaN        NaN     NaN   \n",
       "2020-02-01       NaN       NaN           NaN         NaN        NaN     NaN   \n",
       "2020-02-01       NaN       NaN           NaN         NaN        NaN     NaN   \n",
       "\n",
       "            oil  livestock  \n",
       "2009-07-01  NaN        NaN  \n",
       "2009-07-01  NaN        NaN  \n",
       "2009-07-01  NaN        NaN  \n",
       "2009-07-01  NaN        NaN  \n",
       "2009-07-01  NaN        NaN  \n",
       "...         ...        ...  \n",
       "2020-02-01  NaN        NaN  \n",
       "2020-02-01  NaN        NaN  \n",
       "2020-02-01  NaN        NaN  \n",
       "2020-02-01  NaN        NaN  \n",
       "2020-02-01  NaN        NaN  \n",
       "\n",
       "[9984 rows x 46 columns]"
      ]
     },
     "execution_count": 16,
     "metadata": {},
     "output_type": "execute_result"
    }
   ],
   "source": [
    "weighted_df.sort_index(level=0, inplace=True) # Sort DataFrame by date\n",
    "# weighted_df = weighted_df.iloc[weighted_df['ipc'].notnull().argmax():].copy() # Drop rows until first notna value in ipc column\n",
    "weighted_df = weighted_df.merge(news_features, left_index=True, right_index=True, how='left')\n",
    "weighted_df.drop(['province'], axis=1, inplace=True)\n",
    "weighted_df"
   ]
  },
  {
   "cell_type": "code",
   "execution_count": 17,
   "metadata": {
    "ExecuteTime": {
     "end_time": "2023-10-15T18:43:48.858728284Z",
     "start_time": "2023-10-15T18:43:48.831128258Z"
    },
    "collapsed": false
   },
   "outputs": [
    {
     "data": {
      "text/html": [
       "<div>\n",
       "<style scoped>\n",
       "    .dataframe tbody tr th:only-of-type {\n",
       "        vertical-align: middle;\n",
       "    }\n",
       "\n",
       "    .dataframe tbody tr th {\n",
       "        vertical-align: top;\n",
       "    }\n",
       "\n",
       "    .dataframe thead th {\n",
       "        text-align: right;\n",
       "    }\n",
       "</style>\n",
       "<table border=\"1\" class=\"dataframe\">\n",
       "  <thead>\n",
       "    <tr style=\"text-align: right;\">\n",
       "      <th></th>\n",
       "      <th>district</th>\n",
       "      <th>country</th>\n",
       "      <th>district_code</th>\n",
       "      <th>centx</th>\n",
       "      <th>centy</th>\n",
       "      <th>year_month</th>\n",
       "      <th>year</th>\n",
       "      <th>month</th>\n",
       "      <th>ipc</th>\n",
       "      <th>ha</th>\n",
       "      <th>...</th>\n",
       "      <th>ipc_lag_3</th>\n",
       "      <th>hunger</th>\n",
       "      <th>refugees</th>\n",
       "      <th>conflict</th>\n",
       "      <th>humanitarian</th>\n",
       "      <th>corruption</th>\n",
       "      <th>terrorism</th>\n",
       "      <th>nature</th>\n",
       "      <th>oil</th>\n",
       "      <th>livestock</th>\n",
       "    </tr>\n",
       "  </thead>\n",
       "  <tbody>\n",
       "    <tr>\n",
       "      <th>2009-07-01</th>\n",
       "      <td>Bor</td>\n",
       "      <td>South Sudan</td>\n",
       "      <td>74</td>\n",
       "      <td>32.00486</td>\n",
       "      <td>6.465644</td>\n",
       "      <td>2009_07</td>\n",
       "      <td>2009</td>\n",
       "      <td>7</td>\n",
       "      <td>2.0</td>\n",
       "      <td>NaN</td>\n",
       "      <td>...</td>\n",
       "      <td>NaN</td>\n",
       "      <td>NaN</td>\n",
       "      <td>NaN</td>\n",
       "      <td>NaN</td>\n",
       "      <td>NaN</td>\n",
       "      <td>NaN</td>\n",
       "      <td>NaN</td>\n",
       "      <td>NaN</td>\n",
       "      <td>NaN</td>\n",
       "      <td>NaN</td>\n",
       "    </tr>\n",
       "    <tr>\n",
       "      <th>2009-07-01</th>\n",
       "      <td>Mundri East</td>\n",
       "      <td>South Sudan</td>\n",
       "      <td>92</td>\n",
       "      <td>30.68256</td>\n",
       "      <td>5.307882</td>\n",
       "      <td>2009_07</td>\n",
       "      <td>2009</td>\n",
       "      <td>7</td>\n",
       "      <td>1.0</td>\n",
       "      <td>NaN</td>\n",
       "      <td>...</td>\n",
       "      <td>NaN</td>\n",
       "      <td>NaN</td>\n",
       "      <td>NaN</td>\n",
       "      <td>NaN</td>\n",
       "      <td>NaN</td>\n",
       "      <td>NaN</td>\n",
       "      <td>NaN</td>\n",
       "      <td>NaN</td>\n",
       "      <td>NaN</td>\n",
       "      <td>NaN</td>\n",
       "    </tr>\n",
       "    <tr>\n",
       "      <th>2009-07-01</th>\n",
       "      <td>Nyirol</td>\n",
       "      <td>South Sudan</td>\n",
       "      <td>130</td>\n",
       "      <td>32.11970</td>\n",
       "      <td>8.583063</td>\n",
       "      <td>2009_07</td>\n",
       "      <td>2009</td>\n",
       "      <td>7</td>\n",
       "      <td>3.0</td>\n",
       "      <td>NaN</td>\n",
       "      <td>...</td>\n",
       "      <td>NaN</td>\n",
       "      <td>NaN</td>\n",
       "      <td>NaN</td>\n",
       "      <td>NaN</td>\n",
       "      <td>NaN</td>\n",
       "      <td>NaN</td>\n",
       "      <td>NaN</td>\n",
       "      <td>NaN</td>\n",
       "      <td>NaN</td>\n",
       "      <td>NaN</td>\n",
       "    </tr>\n",
       "    <tr>\n",
       "      <th>2009-07-01</th>\n",
       "      <td>Aweil East</td>\n",
       "      <td>South Sudan</td>\n",
       "      <td>141</td>\n",
       "      <td>27.61364</td>\n",
       "      <td>9.243139</td>\n",
       "      <td>2009_07</td>\n",
       "      <td>2009</td>\n",
       "      <td>7</td>\n",
       "      <td>3.0</td>\n",
       "      <td>NaN</td>\n",
       "      <td>...</td>\n",
       "      <td>NaN</td>\n",
       "      <td>NaN</td>\n",
       "      <td>NaN</td>\n",
       "      <td>NaN</td>\n",
       "      <td>NaN</td>\n",
       "      <td>NaN</td>\n",
       "      <td>NaN</td>\n",
       "      <td>NaN</td>\n",
       "      <td>NaN</td>\n",
       "      <td>NaN</td>\n",
       "    </tr>\n",
       "    <tr>\n",
       "      <th>2009-07-01</th>\n",
       "      <td>Yei</td>\n",
       "      <td>South Sudan</td>\n",
       "      <td>81</td>\n",
       "      <td>30.34454</td>\n",
       "      <td>4.252148</td>\n",
       "      <td>2009_07</td>\n",
       "      <td>2009</td>\n",
       "      <td>7</td>\n",
       "      <td>1.0</td>\n",
       "      <td>NaN</td>\n",
       "      <td>...</td>\n",
       "      <td>NaN</td>\n",
       "      <td>NaN</td>\n",
       "      <td>NaN</td>\n",
       "      <td>NaN</td>\n",
       "      <td>NaN</td>\n",
       "      <td>NaN</td>\n",
       "      <td>NaN</td>\n",
       "      <td>NaN</td>\n",
       "      <td>NaN</td>\n",
       "      <td>NaN</td>\n",
       "    </tr>\n",
       "    <tr>\n",
       "      <th>...</th>\n",
       "      <td>...</td>\n",
       "      <td>...</td>\n",
       "      <td>...</td>\n",
       "      <td>...</td>\n",
       "      <td>...</td>\n",
       "      <td>...</td>\n",
       "      <td>...</td>\n",
       "      <td>...</td>\n",
       "      <td>...</td>\n",
       "      <td>...</td>\n",
       "      <td>...</td>\n",
       "      <td>...</td>\n",
       "      <td>...</td>\n",
       "      <td>...</td>\n",
       "      <td>...</td>\n",
       "      <td>...</td>\n",
       "      <td>...</td>\n",
       "      <td>...</td>\n",
       "      <td>...</td>\n",
       "      <td>...</td>\n",
       "      <td>...</td>\n",
       "    </tr>\n",
       "    <tr>\n",
       "      <th>2020-02-01</th>\n",
       "      <td>Jur River</td>\n",
       "      <td>South Sudan</td>\n",
       "      <td>75</td>\n",
       "      <td>28.02439</td>\n",
       "      <td>7.592506</td>\n",
       "      <td>2020_02</td>\n",
       "      <td>2020</td>\n",
       "      <td>2</td>\n",
       "      <td>2.0</td>\n",
       "      <td>0.0</td>\n",
       "      <td>...</td>\n",
       "      <td>3.0</td>\n",
       "      <td>NaN</td>\n",
       "      <td>NaN</td>\n",
       "      <td>NaN</td>\n",
       "      <td>NaN</td>\n",
       "      <td>NaN</td>\n",
       "      <td>NaN</td>\n",
       "      <td>NaN</td>\n",
       "      <td>NaN</td>\n",
       "      <td>NaN</td>\n",
       "    </tr>\n",
       "    <tr>\n",
       "      <th>2020-02-01</th>\n",
       "      <td>Bor</td>\n",
       "      <td>South Sudan</td>\n",
       "      <td>74</td>\n",
       "      <td>32.00486</td>\n",
       "      <td>6.465644</td>\n",
       "      <td>2020_02</td>\n",
       "      <td>2020</td>\n",
       "      <td>2</td>\n",
       "      <td>3.0</td>\n",
       "      <td>0.0</td>\n",
       "      <td>...</td>\n",
       "      <td>3.0</td>\n",
       "      <td>NaN</td>\n",
       "      <td>NaN</td>\n",
       "      <td>NaN</td>\n",
       "      <td>NaN</td>\n",
       "      <td>NaN</td>\n",
       "      <td>NaN</td>\n",
       "      <td>NaN</td>\n",
       "      <td>NaN</td>\n",
       "      <td>NaN</td>\n",
       "    </tr>\n",
       "    <tr>\n",
       "      <th>2020-02-01</th>\n",
       "      <td>Juba</td>\n",
       "      <td>South Sudan</td>\n",
       "      <td>90</td>\n",
       "      <td>31.48342</td>\n",
       "      <td>4.717081</td>\n",
       "      <td>2020_02</td>\n",
       "      <td>2020</td>\n",
       "      <td>2</td>\n",
       "      <td>3.0</td>\n",
       "      <td>0.0</td>\n",
       "      <td>...</td>\n",
       "      <td>3.0</td>\n",
       "      <td>NaN</td>\n",
       "      <td>NaN</td>\n",
       "      <td>NaN</td>\n",
       "      <td>NaN</td>\n",
       "      <td>NaN</td>\n",
       "      <td>NaN</td>\n",
       "      <td>NaN</td>\n",
       "      <td>NaN</td>\n",
       "      <td>NaN</td>\n",
       "    </tr>\n",
       "    <tr>\n",
       "      <th>2020-02-01</th>\n",
       "      <td>Ikotos</td>\n",
       "      <td>South Sudan</td>\n",
       "      <td>80</td>\n",
       "      <td>33.13061</td>\n",
       "      <td>4.027118</td>\n",
       "      <td>2020_02</td>\n",
       "      <td>2020</td>\n",
       "      <td>2</td>\n",
       "      <td>3.0</td>\n",
       "      <td>0.0</td>\n",
       "      <td>...</td>\n",
       "      <td>2.0</td>\n",
       "      <td>NaN</td>\n",
       "      <td>NaN</td>\n",
       "      <td>NaN</td>\n",
       "      <td>NaN</td>\n",
       "      <td>NaN</td>\n",
       "      <td>NaN</td>\n",
       "      <td>NaN</td>\n",
       "      <td>NaN</td>\n",
       "      <td>NaN</td>\n",
       "    </tr>\n",
       "    <tr>\n",
       "      <th>2020-02-01</th>\n",
       "      <td>Malakal</td>\n",
       "      <td>South Sudan</td>\n",
       "      <td>151</td>\n",
       "      <td>31.64280</td>\n",
       "      <td>9.658457</td>\n",
       "      <td>2020_02</td>\n",
       "      <td>2020</td>\n",
       "      <td>2</td>\n",
       "      <td>4.0</td>\n",
       "      <td>0.0</td>\n",
       "      <td>...</td>\n",
       "      <td>3.0</td>\n",
       "      <td>NaN</td>\n",
       "      <td>NaN</td>\n",
       "      <td>NaN</td>\n",
       "      <td>NaN</td>\n",
       "      <td>NaN</td>\n",
       "      <td>NaN</td>\n",
       "      <td>NaN</td>\n",
       "      <td>NaN</td>\n",
       "      <td>NaN</td>\n",
       "    </tr>\n",
       "  </tbody>\n",
       "</table>\n",
       "<p>9984 rows × 49 columns</p>\n",
       "</div>"
      ],
      "text/plain": [
       "               district      country  district_code     centx     centy  \\\n",
       "2009-07-01          Bor  South Sudan             74  32.00486  6.465644   \n",
       "2009-07-01  Mundri East  South Sudan             92  30.68256  5.307882   \n",
       "2009-07-01       Nyirol  South Sudan            130  32.11970  8.583063   \n",
       "2009-07-01   Aweil East  South Sudan            141  27.61364  9.243139   \n",
       "2009-07-01          Yei  South Sudan             81  30.34454  4.252148   \n",
       "...                 ...          ...            ...       ...       ...   \n",
       "2020-02-01    Jur River  South Sudan             75  28.02439  7.592506   \n",
       "2020-02-01          Bor  South Sudan             74  32.00486  6.465644   \n",
       "2020-02-01         Juba  South Sudan             90  31.48342  4.717081   \n",
       "2020-02-01       Ikotos  South Sudan             80  33.13061  4.027118   \n",
       "2020-02-01      Malakal  South Sudan            151  31.64280  9.658457   \n",
       "\n",
       "           year_month  year  month  ipc   ha  ...  ipc_lag_3  hunger  \\\n",
       "2009-07-01    2009_07  2009      7  2.0  NaN  ...        NaN     NaN   \n",
       "2009-07-01    2009_07  2009      7  1.0  NaN  ...        NaN     NaN   \n",
       "2009-07-01    2009_07  2009      7  3.0  NaN  ...        NaN     NaN   \n",
       "2009-07-01    2009_07  2009      7  3.0  NaN  ...        NaN     NaN   \n",
       "2009-07-01    2009_07  2009      7  1.0  NaN  ...        NaN     NaN   \n",
       "...               ...   ...    ...  ...  ...  ...        ...     ...   \n",
       "2020-02-01    2020_02  2020      2  2.0  0.0  ...        3.0     NaN   \n",
       "2020-02-01    2020_02  2020      2  3.0  0.0  ...        3.0     NaN   \n",
       "2020-02-01    2020_02  2020      2  3.0  0.0  ...        3.0     NaN   \n",
       "2020-02-01    2020_02  2020      2  3.0  0.0  ...        2.0     NaN   \n",
       "2020-02-01    2020_02  2020      2  4.0  0.0  ...        3.0     NaN   \n",
       "\n",
       "            refugees  conflict  humanitarian  corruption  terrorism  nature  \\\n",
       "2009-07-01       NaN       NaN           NaN         NaN        NaN     NaN   \n",
       "2009-07-01       NaN       NaN           NaN         NaN        NaN     NaN   \n",
       "2009-07-01       NaN       NaN           NaN         NaN        NaN     NaN   \n",
       "2009-07-01       NaN       NaN           NaN         NaN        NaN     NaN   \n",
       "2009-07-01       NaN       NaN           NaN         NaN        NaN     NaN   \n",
       "...              ...       ...           ...         ...        ...     ...   \n",
       "2020-02-01       NaN       NaN           NaN         NaN        NaN     NaN   \n",
       "2020-02-01       NaN       NaN           NaN         NaN        NaN     NaN   \n",
       "2020-02-01       NaN       NaN           NaN         NaN        NaN     NaN   \n",
       "2020-02-01       NaN       NaN           NaN         NaN        NaN     NaN   \n",
       "2020-02-01       NaN       NaN           NaN         NaN        NaN     NaN   \n",
       "\n",
       "            oil  livestock  \n",
       "2009-07-01  NaN        NaN  \n",
       "2009-07-01  NaN        NaN  \n",
       "2009-07-01  NaN        NaN  \n",
       "2009-07-01  NaN        NaN  \n",
       "2009-07-01  NaN        NaN  \n",
       "...         ...        ...  \n",
       "2020-02-01  NaN        NaN  \n",
       "2020-02-01  NaN        NaN  \n",
       "2020-02-01  NaN        NaN  \n",
       "2020-02-01  NaN        NaN  \n",
       "2020-02-01  NaN        NaN  \n",
       "\n",
       "[9984 rows x 49 columns]"
      ]
     },
     "execution_count": 17,
     "metadata": {},
     "output_type": "execute_result"
    }
   ],
   "source": [
    "density_df.index = pd.to_datetime(density_df.index)\n",
    "density_df.sort_index(level=0, inplace=True) # Sort DataFrame by date\n",
    "# df = df.iloc[df['ipc'].notnull().argmax():].copy() # Drop rows until first notna value in ipc column\n",
    "density_df = density_df.merge(news_features, left_index=True, right_index=True, how='left')\n",
    "density_df.drop(['province'], axis=1, inplace=True)\n",
    "density_df"
   ]
  },
  {
   "cell_type": "markdown",
   "metadata": {},
   "source": [
    "## Predicting using news features"
   ]
  },
  {
   "cell_type": "code",
   "execution_count": 18,
   "metadata": {
    "ExecuteTime": {
     "end_time": "2023-10-15T18:43:55.717361487Z",
     "start_time": "2023-10-15T18:43:55.693019377Z"
    }
   },
   "outputs": [],
   "source": [
    "df.sort_index(level=0, inplace=True) # Sort DataFrame by date\n",
    "df = df.iloc[df['ipc'].notnull().argmax():].copy() # Drop rows until first notna value in ipc column\n",
    "df = df.join(news_features, how=\"left\") # Join df with created news features"
   ]
  },
  {
   "cell_type": "code",
   "execution_count": 19,
   "metadata": {
    "ExecuteTime": {
     "end_time": "2023-10-15T18:43:56.893264206Z",
     "start_time": "2023-10-15T18:43:56.883953618Z"
    }
   },
   "outputs": [
    {
     "data": {
      "text/html": [
       "<div>\n",
       "<style scoped>\n",
       "    .dataframe tbody tr th:only-of-type {\n",
       "        vertical-align: middle;\n",
       "    }\n",
       "\n",
       "    .dataframe tbody tr th {\n",
       "        vertical-align: top;\n",
       "    }\n",
       "\n",
       "    .dataframe thead th {\n",
       "        text-align: right;\n",
       "    }\n",
       "</style>\n",
       "<table border=\"1\" class=\"dataframe\">\n",
       "  <thead>\n",
       "    <tr style=\"text-align: right;\">\n",
       "      <th></th>\n",
       "      <th></th>\n",
       "      <th>country</th>\n",
       "      <th>district_code</th>\n",
       "      <th>centx</th>\n",
       "      <th>centy</th>\n",
       "      <th>year</th>\n",
       "      <th>month</th>\n",
       "      <th>ipc</th>\n",
       "      <th>ha</th>\n",
       "      <th>ndvi_mean</th>\n",
       "      <th>ndvi_anom</th>\n",
       "      <th>...</th>\n",
       "      <th>ipc_lag_3</th>\n",
       "      <th>hunger</th>\n",
       "      <th>refugees</th>\n",
       "      <th>conflict</th>\n",
       "      <th>humanitarian</th>\n",
       "      <th>corruption</th>\n",
       "      <th>terrorism</th>\n",
       "      <th>nature</th>\n",
       "      <th>oil</th>\n",
       "      <th>livestock</th>\n",
       "    </tr>\n",
       "    <tr>\n",
       "      <th>date</th>\n",
       "      <th>district</th>\n",
       "      <th></th>\n",
       "      <th></th>\n",
       "      <th></th>\n",
       "      <th></th>\n",
       "      <th></th>\n",
       "      <th></th>\n",
       "      <th></th>\n",
       "      <th></th>\n",
       "      <th></th>\n",
       "      <th></th>\n",
       "      <th></th>\n",
       "      <th></th>\n",
       "      <th></th>\n",
       "      <th></th>\n",
       "      <th></th>\n",
       "      <th></th>\n",
       "      <th></th>\n",
       "      <th></th>\n",
       "      <th></th>\n",
       "      <th></th>\n",
       "      <th></th>\n",
       "    </tr>\n",
       "  </thead>\n",
       "  <tbody>\n",
       "    <tr>\n",
       "      <th rowspan=\"5\" valign=\"top\">2009-07-01</th>\n",
       "      <th>Abiemnhom</th>\n",
       "      <td>South Sudan</td>\n",
       "      <td>136</td>\n",
       "      <td>29.13019</td>\n",
       "      <td>9.550939</td>\n",
       "      <td>2009</td>\n",
       "      <td>7</td>\n",
       "      <td>2.0</td>\n",
       "      <td>NaN</td>\n",
       "      <td>0.698165</td>\n",
       "      <td>96.42507</td>\n",
       "      <td>...</td>\n",
       "      <td>NaN</td>\n",
       "      <td>NaN</td>\n",
       "      <td>NaN</td>\n",
       "      <td>NaN</td>\n",
       "      <td>NaN</td>\n",
       "      <td>NaN</td>\n",
       "      <td>NaN</td>\n",
       "      <td>NaN</td>\n",
       "      <td>NaN</td>\n",
       "      <td>NaN</td>\n",
       "    </tr>\n",
       "    <tr>\n",
       "      <th>Akobo</th>\n",
       "      <td>South Sudan</td>\n",
       "      <td>114</td>\n",
       "      <td>32.85308</td>\n",
       "      <td>7.799214</td>\n",
       "      <td>2009</td>\n",
       "      <td>7</td>\n",
       "      <td>4.0</td>\n",
       "      <td>NaN</td>\n",
       "      <td>0.474723</td>\n",
       "      <td>76.47572</td>\n",
       "      <td>...</td>\n",
       "      <td>NaN</td>\n",
       "      <td>NaN</td>\n",
       "      <td>NaN</td>\n",
       "      <td>NaN</td>\n",
       "      <td>NaN</td>\n",
       "      <td>NaN</td>\n",
       "      <td>NaN</td>\n",
       "      <td>NaN</td>\n",
       "      <td>NaN</td>\n",
       "      <td>NaN</td>\n",
       "    </tr>\n",
       "    <tr>\n",
       "      <th>Anzara</th>\n",
       "      <td>South Sudan</td>\n",
       "      <td>86</td>\n",
       "      <td>28.20598</td>\n",
       "      <td>5.309739</td>\n",
       "      <td>2009</td>\n",
       "      <td>7</td>\n",
       "      <td>1.0</td>\n",
       "      <td>NaN</td>\n",
       "      <td>0.812001</td>\n",
       "      <td>100.25750</td>\n",
       "      <td>...</td>\n",
       "      <td>NaN</td>\n",
       "      <td>NaN</td>\n",
       "      <td>NaN</td>\n",
       "      <td>NaN</td>\n",
       "      <td>NaN</td>\n",
       "      <td>NaN</td>\n",
       "      <td>NaN</td>\n",
       "      <td>NaN</td>\n",
       "      <td>NaN</td>\n",
       "      <td>NaN</td>\n",
       "    </tr>\n",
       "    <tr>\n",
       "      <th>Aweil Center</th>\n",
       "      <td>South Sudan</td>\n",
       "      <td>128</td>\n",
       "      <td>26.89562</td>\n",
       "      <td>8.417934</td>\n",
       "      <td>2009</td>\n",
       "      <td>7</td>\n",
       "      <td>2.0</td>\n",
       "      <td>NaN</td>\n",
       "      <td>0.723154</td>\n",
       "      <td>94.34696</td>\n",
       "      <td>...</td>\n",
       "      <td>NaN</td>\n",
       "      <td>NaN</td>\n",
       "      <td>NaN</td>\n",
       "      <td>NaN</td>\n",
       "      <td>NaN</td>\n",
       "      <td>NaN</td>\n",
       "      <td>NaN</td>\n",
       "      <td>NaN</td>\n",
       "      <td>NaN</td>\n",
       "      <td>NaN</td>\n",
       "    </tr>\n",
       "    <tr>\n",
       "      <th>Aweil East</th>\n",
       "      <td>South Sudan</td>\n",
       "      <td>141</td>\n",
       "      <td>27.61364</td>\n",
       "      <td>9.243139</td>\n",
       "      <td>2009</td>\n",
       "      <td>7</td>\n",
       "      <td>3.0</td>\n",
       "      <td>NaN</td>\n",
       "      <td>0.547611</td>\n",
       "      <td>86.30622</td>\n",
       "      <td>...</td>\n",
       "      <td>NaN</td>\n",
       "      <td>NaN</td>\n",
       "      <td>NaN</td>\n",
       "      <td>NaN</td>\n",
       "      <td>NaN</td>\n",
       "      <td>NaN</td>\n",
       "      <td>NaN</td>\n",
       "      <td>NaN</td>\n",
       "      <td>NaN</td>\n",
       "      <td>NaN</td>\n",
       "    </tr>\n",
       "  </tbody>\n",
       "</table>\n",
       "<p>5 rows × 40 columns</p>\n",
       "</div>"
      ],
      "text/plain": [
       "                             country  district_code     centx     centy  year  \\\n",
       "date       district                                                             \n",
       "2009-07-01 Abiemnhom     South Sudan            136  29.13019  9.550939  2009   \n",
       "           Akobo         South Sudan            114  32.85308  7.799214  2009   \n",
       "           Anzara        South Sudan             86  28.20598  5.309739  2009   \n",
       "           Aweil Center  South Sudan            128  26.89562  8.417934  2009   \n",
       "           Aweil East    South Sudan            141  27.61364  9.243139  2009   \n",
       "\n",
       "                         month  ipc  ha  ndvi_mean  ndvi_anom  ...  ipc_lag_3  \\\n",
       "date       district                                            ...              \n",
       "2009-07-01 Abiemnhom         7  2.0 NaN   0.698165   96.42507  ...        NaN   \n",
       "           Akobo             7  4.0 NaN   0.474723   76.47572  ...        NaN   \n",
       "           Anzara            7  1.0 NaN   0.812001  100.25750  ...        NaN   \n",
       "           Aweil Center      7  2.0 NaN   0.723154   94.34696  ...        NaN   \n",
       "           Aweil East        7  3.0 NaN   0.547611   86.30622  ...        NaN   \n",
       "\n",
       "                         hunger  refugees  conflict  humanitarian  corruption  \\\n",
       "date       district                                                             \n",
       "2009-07-01 Abiemnhom        NaN       NaN       NaN           NaN         NaN   \n",
       "           Akobo            NaN       NaN       NaN           NaN         NaN   \n",
       "           Anzara           NaN       NaN       NaN           NaN         NaN   \n",
       "           Aweil Center     NaN       NaN       NaN           NaN         NaN   \n",
       "           Aweil East       NaN       NaN       NaN           NaN         NaN   \n",
       "\n",
       "                         terrorism  nature  oil  livestock  \n",
       "date       district                                         \n",
       "2009-07-01 Abiemnhom           NaN     NaN  NaN        NaN  \n",
       "           Akobo               NaN     NaN  NaN        NaN  \n",
       "           Anzara              NaN     NaN  NaN        NaN  \n",
       "           Aweil Center        NaN     NaN  NaN        NaN  \n",
       "           Aweil East          NaN     NaN  NaN        NaN  \n",
       "\n",
       "[5 rows x 40 columns]"
      ]
     },
     "execution_count": 19,
     "metadata": {},
     "output_type": "execute_result"
    }
   ],
   "source": [
    "df.head()"
   ]
  },
  {
   "cell_type": "code",
   "execution_count": 20,
   "metadata": {
    "ExecuteTime": {
     "end_time": "2023-10-15T18:44:00.311631346Z",
     "start_time": "2023-10-15T18:44:00.270009293Z"
    }
   },
   "outputs": [
    {
     "data": {
      "text/html": [
       "<div>\n",
       "<style scoped>\n",
       "    .dataframe tbody tr th:only-of-type {\n",
       "        vertical-align: middle;\n",
       "    }\n",
       "\n",
       "    .dataframe tbody tr th {\n",
       "        vertical-align: top;\n",
       "    }\n",
       "\n",
       "    .dataframe thead th {\n",
       "        text-align: right;\n",
       "    }\n",
       "</style>\n",
       "<table border=\"1\" class=\"dataframe\">\n",
       "  <thead>\n",
       "    <tr style=\"text-align: right;\">\n",
       "      <th></th>\n",
       "      <th></th>\n",
       "      <th>country</th>\n",
       "      <th>district_code</th>\n",
       "      <th>centx</th>\n",
       "      <th>centy</th>\n",
       "      <th>year</th>\n",
       "      <th>month</th>\n",
       "      <th>ipc</th>\n",
       "      <th>ha</th>\n",
       "      <th>ndvi_mean</th>\n",
       "      <th>ndvi_anom</th>\n",
       "      <th>...</th>\n",
       "      <th>hunger</th>\n",
       "      <th>refugees</th>\n",
       "      <th>conflict</th>\n",
       "      <th>humanitarian</th>\n",
       "      <th>corruption</th>\n",
       "      <th>terrorism</th>\n",
       "      <th>nature</th>\n",
       "      <th>oil</th>\n",
       "      <th>livestock</th>\n",
       "      <th>crisis</th>\n",
       "    </tr>\n",
       "    <tr>\n",
       "      <th>date</th>\n",
       "      <th>district</th>\n",
       "      <th></th>\n",
       "      <th></th>\n",
       "      <th></th>\n",
       "      <th></th>\n",
       "      <th></th>\n",
       "      <th></th>\n",
       "      <th></th>\n",
       "      <th></th>\n",
       "      <th></th>\n",
       "      <th></th>\n",
       "      <th></th>\n",
       "      <th></th>\n",
       "      <th></th>\n",
       "      <th></th>\n",
       "      <th></th>\n",
       "      <th></th>\n",
       "      <th></th>\n",
       "      <th></th>\n",
       "      <th></th>\n",
       "      <th></th>\n",
       "      <th></th>\n",
       "    </tr>\n",
       "  </thead>\n",
       "  <tbody>\n",
       "    <tr>\n",
       "      <th rowspan=\"5\" valign=\"top\">2009-07-01</th>\n",
       "      <th>Abiemnhom</th>\n",
       "      <td>South Sudan</td>\n",
       "      <td>136</td>\n",
       "      <td>29.13019</td>\n",
       "      <td>9.550939</td>\n",
       "      <td>2009</td>\n",
       "      <td>7</td>\n",
       "      <td>2.0</td>\n",
       "      <td>NaN</td>\n",
       "      <td>0.698165</td>\n",
       "      <td>96.42507</td>\n",
       "      <td>...</td>\n",
       "      <td>NaN</td>\n",
       "      <td>NaN</td>\n",
       "      <td>NaN</td>\n",
       "      <td>NaN</td>\n",
       "      <td>NaN</td>\n",
       "      <td>NaN</td>\n",
       "      <td>NaN</td>\n",
       "      <td>NaN</td>\n",
       "      <td>NaN</td>\n",
       "      <td>0</td>\n",
       "    </tr>\n",
       "    <tr>\n",
       "      <th>Akobo</th>\n",
       "      <td>South Sudan</td>\n",
       "      <td>114</td>\n",
       "      <td>32.85308</td>\n",
       "      <td>7.799214</td>\n",
       "      <td>2009</td>\n",
       "      <td>7</td>\n",
       "      <td>4.0</td>\n",
       "      <td>NaN</td>\n",
       "      <td>0.474723</td>\n",
       "      <td>76.47572</td>\n",
       "      <td>...</td>\n",
       "      <td>NaN</td>\n",
       "      <td>NaN</td>\n",
       "      <td>NaN</td>\n",
       "      <td>NaN</td>\n",
       "      <td>NaN</td>\n",
       "      <td>NaN</td>\n",
       "      <td>NaN</td>\n",
       "      <td>NaN</td>\n",
       "      <td>NaN</td>\n",
       "      <td>1</td>\n",
       "    </tr>\n",
       "    <tr>\n",
       "      <th>Anzara</th>\n",
       "      <td>South Sudan</td>\n",
       "      <td>86</td>\n",
       "      <td>28.20598</td>\n",
       "      <td>5.309739</td>\n",
       "      <td>2009</td>\n",
       "      <td>7</td>\n",
       "      <td>1.0</td>\n",
       "      <td>NaN</td>\n",
       "      <td>0.812001</td>\n",
       "      <td>100.25750</td>\n",
       "      <td>...</td>\n",
       "      <td>NaN</td>\n",
       "      <td>NaN</td>\n",
       "      <td>NaN</td>\n",
       "      <td>NaN</td>\n",
       "      <td>NaN</td>\n",
       "      <td>NaN</td>\n",
       "      <td>NaN</td>\n",
       "      <td>NaN</td>\n",
       "      <td>NaN</td>\n",
       "      <td>0</td>\n",
       "    </tr>\n",
       "    <tr>\n",
       "      <th>Aweil Center</th>\n",
       "      <td>South Sudan</td>\n",
       "      <td>128</td>\n",
       "      <td>26.89562</td>\n",
       "      <td>8.417934</td>\n",
       "      <td>2009</td>\n",
       "      <td>7</td>\n",
       "      <td>2.0</td>\n",
       "      <td>NaN</td>\n",
       "      <td>0.723154</td>\n",
       "      <td>94.34696</td>\n",
       "      <td>...</td>\n",
       "      <td>NaN</td>\n",
       "      <td>NaN</td>\n",
       "      <td>NaN</td>\n",
       "      <td>NaN</td>\n",
       "      <td>NaN</td>\n",
       "      <td>NaN</td>\n",
       "      <td>NaN</td>\n",
       "      <td>NaN</td>\n",
       "      <td>NaN</td>\n",
       "      <td>0</td>\n",
       "    </tr>\n",
       "    <tr>\n",
       "      <th>Aweil East</th>\n",
       "      <td>South Sudan</td>\n",
       "      <td>141</td>\n",
       "      <td>27.61364</td>\n",
       "      <td>9.243139</td>\n",
       "      <td>2009</td>\n",
       "      <td>7</td>\n",
       "      <td>3.0</td>\n",
       "      <td>NaN</td>\n",
       "      <td>0.547611</td>\n",
       "      <td>86.30622</td>\n",
       "      <td>...</td>\n",
       "      <td>NaN</td>\n",
       "      <td>NaN</td>\n",
       "      <td>NaN</td>\n",
       "      <td>NaN</td>\n",
       "      <td>NaN</td>\n",
       "      <td>NaN</td>\n",
       "      <td>NaN</td>\n",
       "      <td>NaN</td>\n",
       "      <td>NaN</td>\n",
       "      <td>1</td>\n",
       "    </tr>\n",
       "  </tbody>\n",
       "</table>\n",
       "<p>5 rows × 41 columns</p>\n",
       "</div>"
      ],
      "text/plain": [
       "                             country  district_code     centx     centy  year  \\\n",
       "date       district                                                             \n",
       "2009-07-01 Abiemnhom     South Sudan            136  29.13019  9.550939  2009   \n",
       "           Akobo         South Sudan            114  32.85308  7.799214  2009   \n",
       "           Anzara        South Sudan             86  28.20598  5.309739  2009   \n",
       "           Aweil Center  South Sudan            128  26.89562  8.417934  2009   \n",
       "           Aweil East    South Sudan            141  27.61364  9.243139  2009   \n",
       "\n",
       "                         month  ipc  ha  ndvi_mean  ndvi_anom  ...  hunger  \\\n",
       "date       district                                            ...           \n",
       "2009-07-01 Abiemnhom         7  2.0 NaN   0.698165   96.42507  ...     NaN   \n",
       "           Akobo             7  4.0 NaN   0.474723   76.47572  ...     NaN   \n",
       "           Anzara            7  1.0 NaN   0.812001  100.25750  ...     NaN   \n",
       "           Aweil Center      7  2.0 NaN   0.723154   94.34696  ...     NaN   \n",
       "           Aweil East        7  3.0 NaN   0.547611   86.30622  ...     NaN   \n",
       "\n",
       "                         refugees  conflict  humanitarian  corruption  \\\n",
       "date       district                                                     \n",
       "2009-07-01 Abiemnhom          NaN       NaN           NaN         NaN   \n",
       "           Akobo              NaN       NaN           NaN         NaN   \n",
       "           Anzara             NaN       NaN           NaN         NaN   \n",
       "           Aweil Center       NaN       NaN           NaN         NaN   \n",
       "           Aweil East         NaN       NaN           NaN         NaN   \n",
       "\n",
       "                         terrorism  nature  oil  livestock  crisis  \n",
       "date       district                                                 \n",
       "2009-07-01 Abiemnhom           NaN     NaN  NaN        NaN       0  \n",
       "           Akobo               NaN     NaN  NaN        NaN       1  \n",
       "           Anzara              NaN     NaN  NaN        NaN       0  \n",
       "           Aweil Center        NaN     NaN  NaN        NaN       0  \n",
       "           Aweil East          NaN     NaN  NaN        NaN       1  \n",
       "\n",
       "[5 rows x 41 columns]"
      ]
     },
     "execution_count": 20,
     "metadata": {},
     "output_type": "execute_result"
    }
   ],
   "source": [
    "df['crisis'] = df['ipc'] >= 2.5\n",
    "df['crisis'] = df['crisis'].map(binary_classification)\n",
    "df.head()"
   ]
  },
  {
   "cell_type": "code",
   "execution_count": 21,
   "metadata": {
    "ExecuteTime": {
     "end_time": "2023-10-15T18:44:02.730217209Z",
     "start_time": "2023-10-15T18:44:02.709900072Z"
    },
    "collapsed": false
   },
   "outputs": [
    {
     "data": {
      "text/html": [
       "<div>\n",
       "<style scoped>\n",
       "    .dataframe tbody tr th:only-of-type {\n",
       "        vertical-align: middle;\n",
       "    }\n",
       "\n",
       "    .dataframe tbody tr th {\n",
       "        vertical-align: top;\n",
       "    }\n",
       "\n",
       "    .dataframe thead th {\n",
       "        text-align: right;\n",
       "    }\n",
       "</style>\n",
       "<table border=\"1\" class=\"dataframe\">\n",
       "  <thead>\n",
       "    <tr style=\"text-align: right;\">\n",
       "      <th></th>\n",
       "      <th>district</th>\n",
       "      <th>country</th>\n",
       "      <th>district_code</th>\n",
       "      <th>centx</th>\n",
       "      <th>centy</th>\n",
       "      <th>year_month</th>\n",
       "      <th>year</th>\n",
       "      <th>month</th>\n",
       "      <th>ipc</th>\n",
       "      <th>ha</th>\n",
       "      <th>...</th>\n",
       "      <th>hunger</th>\n",
       "      <th>refugees</th>\n",
       "      <th>conflict</th>\n",
       "      <th>humanitarian</th>\n",
       "      <th>corruption</th>\n",
       "      <th>terrorism</th>\n",
       "      <th>nature</th>\n",
       "      <th>oil</th>\n",
       "      <th>livestock</th>\n",
       "      <th>crisis</th>\n",
       "    </tr>\n",
       "  </thead>\n",
       "  <tbody>\n",
       "    <tr>\n",
       "      <th>2009-07-01</th>\n",
       "      <td>Bor</td>\n",
       "      <td>South Sudan</td>\n",
       "      <td>74</td>\n",
       "      <td>32.00486</td>\n",
       "      <td>6.465644</td>\n",
       "      <td>2009_07</td>\n",
       "      <td>2009</td>\n",
       "      <td>7</td>\n",
       "      <td>2.0</td>\n",
       "      <td>NaN</td>\n",
       "      <td>...</td>\n",
       "      <td>NaN</td>\n",
       "      <td>NaN</td>\n",
       "      <td>NaN</td>\n",
       "      <td>NaN</td>\n",
       "      <td>NaN</td>\n",
       "      <td>NaN</td>\n",
       "      <td>NaN</td>\n",
       "      <td>NaN</td>\n",
       "      <td>NaN</td>\n",
       "      <td>0</td>\n",
       "    </tr>\n",
       "    <tr>\n",
       "      <th>2009-07-01</th>\n",
       "      <td>Mundri East</td>\n",
       "      <td>South Sudan</td>\n",
       "      <td>92</td>\n",
       "      <td>30.68256</td>\n",
       "      <td>5.307882</td>\n",
       "      <td>2009_07</td>\n",
       "      <td>2009</td>\n",
       "      <td>7</td>\n",
       "      <td>1.0</td>\n",
       "      <td>NaN</td>\n",
       "      <td>...</td>\n",
       "      <td>NaN</td>\n",
       "      <td>NaN</td>\n",
       "      <td>NaN</td>\n",
       "      <td>NaN</td>\n",
       "      <td>NaN</td>\n",
       "      <td>NaN</td>\n",
       "      <td>NaN</td>\n",
       "      <td>NaN</td>\n",
       "      <td>NaN</td>\n",
       "      <td>0</td>\n",
       "    </tr>\n",
       "    <tr>\n",
       "      <th>2009-07-01</th>\n",
       "      <td>Nyirol</td>\n",
       "      <td>South Sudan</td>\n",
       "      <td>130</td>\n",
       "      <td>32.11970</td>\n",
       "      <td>8.583063</td>\n",
       "      <td>2009_07</td>\n",
       "      <td>2009</td>\n",
       "      <td>7</td>\n",
       "      <td>3.0</td>\n",
       "      <td>NaN</td>\n",
       "      <td>...</td>\n",
       "      <td>NaN</td>\n",
       "      <td>NaN</td>\n",
       "      <td>NaN</td>\n",
       "      <td>NaN</td>\n",
       "      <td>NaN</td>\n",
       "      <td>NaN</td>\n",
       "      <td>NaN</td>\n",
       "      <td>NaN</td>\n",
       "      <td>NaN</td>\n",
       "      <td>1</td>\n",
       "    </tr>\n",
       "    <tr>\n",
       "      <th>2009-07-01</th>\n",
       "      <td>Aweil East</td>\n",
       "      <td>South Sudan</td>\n",
       "      <td>141</td>\n",
       "      <td>27.61364</td>\n",
       "      <td>9.243139</td>\n",
       "      <td>2009_07</td>\n",
       "      <td>2009</td>\n",
       "      <td>7</td>\n",
       "      <td>3.0</td>\n",
       "      <td>NaN</td>\n",
       "      <td>...</td>\n",
       "      <td>NaN</td>\n",
       "      <td>NaN</td>\n",
       "      <td>NaN</td>\n",
       "      <td>NaN</td>\n",
       "      <td>NaN</td>\n",
       "      <td>NaN</td>\n",
       "      <td>NaN</td>\n",
       "      <td>NaN</td>\n",
       "      <td>NaN</td>\n",
       "      <td>1</td>\n",
       "    </tr>\n",
       "    <tr>\n",
       "      <th>2009-07-01</th>\n",
       "      <td>Yei</td>\n",
       "      <td>South Sudan</td>\n",
       "      <td>81</td>\n",
       "      <td>30.34454</td>\n",
       "      <td>4.252148</td>\n",
       "      <td>2009_07</td>\n",
       "      <td>2009</td>\n",
       "      <td>7</td>\n",
       "      <td>1.0</td>\n",
       "      <td>NaN</td>\n",
       "      <td>...</td>\n",
       "      <td>NaN</td>\n",
       "      <td>NaN</td>\n",
       "      <td>NaN</td>\n",
       "      <td>NaN</td>\n",
       "      <td>NaN</td>\n",
       "      <td>NaN</td>\n",
       "      <td>NaN</td>\n",
       "      <td>NaN</td>\n",
       "      <td>NaN</td>\n",
       "      <td>0</td>\n",
       "    </tr>\n",
       "  </tbody>\n",
       "</table>\n",
       "<p>5 rows × 47 columns</p>\n",
       "</div>"
      ],
      "text/plain": [
       "               district      country  district_code     centx     centy  \\\n",
       "2009-07-01          Bor  South Sudan             74  32.00486  6.465644   \n",
       "2009-07-01  Mundri East  South Sudan             92  30.68256  5.307882   \n",
       "2009-07-01       Nyirol  South Sudan            130  32.11970  8.583063   \n",
       "2009-07-01   Aweil East  South Sudan            141  27.61364  9.243139   \n",
       "2009-07-01          Yei  South Sudan             81  30.34454  4.252148   \n",
       "\n",
       "           year_month  year  month  ipc  ha  ...  hunger  refugees  conflict  \\\n",
       "2009-07-01    2009_07  2009      7  2.0 NaN  ...     NaN       NaN       NaN   \n",
       "2009-07-01    2009_07  2009      7  1.0 NaN  ...     NaN       NaN       NaN   \n",
       "2009-07-01    2009_07  2009      7  3.0 NaN  ...     NaN       NaN       NaN   \n",
       "2009-07-01    2009_07  2009      7  3.0 NaN  ...     NaN       NaN       NaN   \n",
       "2009-07-01    2009_07  2009      7  1.0 NaN  ...     NaN       NaN       NaN   \n",
       "\n",
       "            humanitarian  corruption  terrorism  nature  oil  livestock  \\\n",
       "2009-07-01           NaN         NaN        NaN     NaN  NaN        NaN   \n",
       "2009-07-01           NaN         NaN        NaN     NaN  NaN        NaN   \n",
       "2009-07-01           NaN         NaN        NaN     NaN  NaN        NaN   \n",
       "2009-07-01           NaN         NaN        NaN     NaN  NaN        NaN   \n",
       "2009-07-01           NaN         NaN        NaN     NaN  NaN        NaN   \n",
       "\n",
       "            crisis  \n",
       "2009-07-01       0  \n",
       "2009-07-01       0  \n",
       "2009-07-01       1  \n",
       "2009-07-01       1  \n",
       "2009-07-01       0  \n",
       "\n",
       "[5 rows x 47 columns]"
      ]
     },
     "execution_count": 21,
     "metadata": {},
     "output_type": "execute_result"
    }
   ],
   "source": [
    "weighted_df['crisis'] = weighted_df['ipc'] > 2.5\n",
    "weighted_df['crisis'] = weighted_df['crisis'].map(binary_classification)\n",
    "\n",
    "\n",
    "weighted_df.head()"
   ]
  },
  {
   "cell_type": "code",
   "execution_count": 22,
   "metadata": {
    "ExecuteTime": {
     "end_time": "2023-10-15T18:44:04.204395868Z",
     "start_time": "2023-10-15T18:44:04.192563201Z"
    },
    "collapsed": false
   },
   "outputs": [
    {
     "data": {
      "text/html": [
       "<div>\n",
       "<style scoped>\n",
       "    .dataframe tbody tr th:only-of-type {\n",
       "        vertical-align: middle;\n",
       "    }\n",
       "\n",
       "    .dataframe tbody tr th {\n",
       "        vertical-align: top;\n",
       "    }\n",
       "\n",
       "    .dataframe thead th {\n",
       "        text-align: right;\n",
       "    }\n",
       "</style>\n",
       "<table border=\"1\" class=\"dataframe\">\n",
       "  <thead>\n",
       "    <tr style=\"text-align: right;\">\n",
       "      <th></th>\n",
       "      <th>district</th>\n",
       "      <th>country</th>\n",
       "      <th>district_code</th>\n",
       "      <th>centx</th>\n",
       "      <th>centy</th>\n",
       "      <th>year_month</th>\n",
       "      <th>year</th>\n",
       "      <th>month</th>\n",
       "      <th>ipc</th>\n",
       "      <th>ha</th>\n",
       "      <th>...</th>\n",
       "      <th>hunger</th>\n",
       "      <th>refugees</th>\n",
       "      <th>conflict</th>\n",
       "      <th>humanitarian</th>\n",
       "      <th>corruption</th>\n",
       "      <th>terrorism</th>\n",
       "      <th>nature</th>\n",
       "      <th>oil</th>\n",
       "      <th>livestock</th>\n",
       "      <th>crisis</th>\n",
       "    </tr>\n",
       "  </thead>\n",
       "  <tbody>\n",
       "    <tr>\n",
       "      <th>2009-07-01</th>\n",
       "      <td>Bor</td>\n",
       "      <td>South Sudan</td>\n",
       "      <td>74</td>\n",
       "      <td>32.00486</td>\n",
       "      <td>6.465644</td>\n",
       "      <td>2009_07</td>\n",
       "      <td>2009</td>\n",
       "      <td>7</td>\n",
       "      <td>2.0</td>\n",
       "      <td>NaN</td>\n",
       "      <td>...</td>\n",
       "      <td>NaN</td>\n",
       "      <td>NaN</td>\n",
       "      <td>NaN</td>\n",
       "      <td>NaN</td>\n",
       "      <td>NaN</td>\n",
       "      <td>NaN</td>\n",
       "      <td>NaN</td>\n",
       "      <td>NaN</td>\n",
       "      <td>NaN</td>\n",
       "      <td>0</td>\n",
       "    </tr>\n",
       "    <tr>\n",
       "      <th>2009-07-01</th>\n",
       "      <td>Mundri East</td>\n",
       "      <td>South Sudan</td>\n",
       "      <td>92</td>\n",
       "      <td>30.68256</td>\n",
       "      <td>5.307882</td>\n",
       "      <td>2009_07</td>\n",
       "      <td>2009</td>\n",
       "      <td>7</td>\n",
       "      <td>1.0</td>\n",
       "      <td>NaN</td>\n",
       "      <td>...</td>\n",
       "      <td>NaN</td>\n",
       "      <td>NaN</td>\n",
       "      <td>NaN</td>\n",
       "      <td>NaN</td>\n",
       "      <td>NaN</td>\n",
       "      <td>NaN</td>\n",
       "      <td>NaN</td>\n",
       "      <td>NaN</td>\n",
       "      <td>NaN</td>\n",
       "      <td>0</td>\n",
       "    </tr>\n",
       "    <tr>\n",
       "      <th>2009-07-01</th>\n",
       "      <td>Nyirol</td>\n",
       "      <td>South Sudan</td>\n",
       "      <td>130</td>\n",
       "      <td>32.11970</td>\n",
       "      <td>8.583063</td>\n",
       "      <td>2009_07</td>\n",
       "      <td>2009</td>\n",
       "      <td>7</td>\n",
       "      <td>3.0</td>\n",
       "      <td>NaN</td>\n",
       "      <td>...</td>\n",
       "      <td>NaN</td>\n",
       "      <td>NaN</td>\n",
       "      <td>NaN</td>\n",
       "      <td>NaN</td>\n",
       "      <td>NaN</td>\n",
       "      <td>NaN</td>\n",
       "      <td>NaN</td>\n",
       "      <td>NaN</td>\n",
       "      <td>NaN</td>\n",
       "      <td>1</td>\n",
       "    </tr>\n",
       "    <tr>\n",
       "      <th>2009-07-01</th>\n",
       "      <td>Aweil East</td>\n",
       "      <td>South Sudan</td>\n",
       "      <td>141</td>\n",
       "      <td>27.61364</td>\n",
       "      <td>9.243139</td>\n",
       "      <td>2009_07</td>\n",
       "      <td>2009</td>\n",
       "      <td>7</td>\n",
       "      <td>3.0</td>\n",
       "      <td>NaN</td>\n",
       "      <td>...</td>\n",
       "      <td>NaN</td>\n",
       "      <td>NaN</td>\n",
       "      <td>NaN</td>\n",
       "      <td>NaN</td>\n",
       "      <td>NaN</td>\n",
       "      <td>NaN</td>\n",
       "      <td>NaN</td>\n",
       "      <td>NaN</td>\n",
       "      <td>NaN</td>\n",
       "      <td>1</td>\n",
       "    </tr>\n",
       "    <tr>\n",
       "      <th>2009-07-01</th>\n",
       "      <td>Yei</td>\n",
       "      <td>South Sudan</td>\n",
       "      <td>81</td>\n",
       "      <td>30.34454</td>\n",
       "      <td>4.252148</td>\n",
       "      <td>2009_07</td>\n",
       "      <td>2009</td>\n",
       "      <td>7</td>\n",
       "      <td>1.0</td>\n",
       "      <td>NaN</td>\n",
       "      <td>...</td>\n",
       "      <td>NaN</td>\n",
       "      <td>NaN</td>\n",
       "      <td>NaN</td>\n",
       "      <td>NaN</td>\n",
       "      <td>NaN</td>\n",
       "      <td>NaN</td>\n",
       "      <td>NaN</td>\n",
       "      <td>NaN</td>\n",
       "      <td>NaN</td>\n",
       "      <td>0</td>\n",
       "    </tr>\n",
       "  </tbody>\n",
       "</table>\n",
       "<p>5 rows × 50 columns</p>\n",
       "</div>"
      ],
      "text/plain": [
       "               district      country  district_code     centx     centy  \\\n",
       "2009-07-01          Bor  South Sudan             74  32.00486  6.465644   \n",
       "2009-07-01  Mundri East  South Sudan             92  30.68256  5.307882   \n",
       "2009-07-01       Nyirol  South Sudan            130  32.11970  8.583063   \n",
       "2009-07-01   Aweil East  South Sudan            141  27.61364  9.243139   \n",
       "2009-07-01          Yei  South Sudan             81  30.34454  4.252148   \n",
       "\n",
       "           year_month  year  month  ipc  ha  ...  hunger  refugees  conflict  \\\n",
       "2009-07-01    2009_07  2009      7  2.0 NaN  ...     NaN       NaN       NaN   \n",
       "2009-07-01    2009_07  2009      7  1.0 NaN  ...     NaN       NaN       NaN   \n",
       "2009-07-01    2009_07  2009      7  3.0 NaN  ...     NaN       NaN       NaN   \n",
       "2009-07-01    2009_07  2009      7  3.0 NaN  ...     NaN       NaN       NaN   \n",
       "2009-07-01    2009_07  2009      7  1.0 NaN  ...     NaN       NaN       NaN   \n",
       "\n",
       "            humanitarian  corruption  terrorism  nature  oil  livestock  \\\n",
       "2009-07-01           NaN         NaN        NaN     NaN  NaN        NaN   \n",
       "2009-07-01           NaN         NaN        NaN     NaN  NaN        NaN   \n",
       "2009-07-01           NaN         NaN        NaN     NaN  NaN        NaN   \n",
       "2009-07-01           NaN         NaN        NaN     NaN  NaN        NaN   \n",
       "2009-07-01           NaN         NaN        NaN     NaN  NaN        NaN   \n",
       "\n",
       "            crisis  \n",
       "2009-07-01       0  \n",
       "2009-07-01       0  \n",
       "2009-07-01       1  \n",
       "2009-07-01       1  \n",
       "2009-07-01       0  \n",
       "\n",
       "[5 rows x 50 columns]"
      ]
     },
     "execution_count": 22,
     "metadata": {},
     "output_type": "execute_result"
    }
   ],
   "source": [
    "density_df['crisis'] = density_df['ipc'] > 2.5\n",
    "density_df['crisis'] = density_df['crisis'].map(binary_classification)\n",
    "\n",
    "density_df.head()"
   ]
  },
  {
   "cell_type": "code",
   "execution_count": 23,
   "metadata": {
    "ExecuteTime": {
     "end_time": "2023-10-15T18:44:06.074292790Z",
     "start_time": "2023-10-15T18:44:06.052558784Z"
    }
   },
   "outputs": [
    {
     "data": {
      "text/plain": [
       "0    1978\n",
       "1    1064\n",
       "Name: crisis, dtype: int64"
      ]
     },
     "execution_count": 23,
     "metadata": {},
     "output_type": "execute_result"
    }
   ],
   "source": [
    "df['crisis'].value_counts()"
   ]
  },
  {
   "cell_type": "code",
   "execution_count": 24,
   "metadata": {
    "ExecuteTime": {
     "end_time": "2023-10-15T18:44:07.533867958Z",
     "start_time": "2023-10-15T18:44:07.525831316Z"
    }
   },
   "outputs": [
    {
     "data": {
      "text/plain": [
       "country                     0\n",
       "district_code               0\n",
       "centx                       0\n",
       "centy                       0\n",
       "year                        0\n",
       "month                       0\n",
       "ipc                         0\n",
       "ha                        858\n",
       "ndvi_mean                   0\n",
       "ndvi_anom                   0\n",
       "rain_mean                   0\n",
       "rain_anom                   0\n",
       "et_mean                     0\n",
       "et_anom                     0\n",
       "count_violence              0\n",
       "sum_fatalities              0\n",
       "food_price_idx              0\n",
       "area                        0\n",
       "cropland_pct                0\n",
       "pop                         0\n",
       "ruggedness_mean             0\n",
       "pasture_pct                 0\n",
       "province                    0\n",
       "administrative_region       0\n",
       "quarters                    0\n",
       "count_violence_lag_3      624\n",
       "ndvi_anom_lag_3           624\n",
       "food_price_idx_lag_3      702\n",
       "ipc_lag_1                  78\n",
       "ipc_lag_2                 156\n",
       "ipc_lag_3                 234\n",
       "hunger                   3042\n",
       "refugees                 3042\n",
       "conflict                 3042\n",
       "humanitarian             3042\n",
       "corruption               3042\n",
       "terrorism                3042\n",
       "nature                   3042\n",
       "oil                      3042\n",
       "livestock                3042\n",
       "crisis                      0\n",
       "dtype: int64"
      ]
     },
     "execution_count": 24,
     "metadata": {},
     "output_type": "execute_result"
    }
   ],
   "source": [
    "df.isna().sum()"
   ]
  },
  {
   "cell_type": "markdown",
   "metadata": {},
   "source": [
    "### RANDOM FOREST CLASSIFIER\n"
   ]
  },
  {
   "cell_type": "code",
   "execution_count": 25,
   "metadata": {
    "ExecuteTime": {
     "end_time": "2023-10-15T20:15:30.268226940Z",
     "start_time": "2023-10-15T20:15:27.014209717Z"
    },
    "collapsed": false
   },
   "outputs": [
    {
     "name": "stderr",
     "output_type": "stream",
     "text": [
      "c:\\Users\\Rafi\\AppData\\Local\\Programs\\Python\\Python310\\lib\\site-packages\\sklearn\\base.py:450: UserWarning: X does not have valid feature names, but RandomForestClassifier was fitted with feature names\n",
      "  warnings.warn(\n",
      "c:\\Users\\Rafi\\AppData\\Local\\Programs\\Python\\Python310\\lib\\site-packages\\sklearn\\base.py:450: UserWarning: X does not have valid feature names, but RandomForestClassifier was fitted with feature names\n",
      "  warnings.warn(\n",
      "c:\\Users\\Rafi\\AppData\\Local\\Programs\\Python\\Python310\\lib\\site-packages\\sklearn\\base.py:450: UserWarning: X does not have valid feature names, but RandomForestClassifier was fitted with feature names\n",
      "  warnings.warn(\n",
      "c:\\Users\\Rafi\\AppData\\Local\\Programs\\Python\\Python310\\lib\\site-packages\\sklearn\\base.py:450: UserWarning: X does not have valid feature names, but RandomForestClassifier was fitted with feature names\n",
      "  warnings.warn(\n",
      "c:\\Users\\Rafi\\AppData\\Local\\Programs\\Python\\Python310\\lib\\site-packages\\sklearn\\base.py:450: UserWarning: X does not have valid feature names, but RandomForestClassifier was fitted with feature names\n",
      "  warnings.warn(\n"
     ]
    },
    {
     "data": {
      "image/png": "[encoded data removed]",
      "text/plain": [
       "<Figure size 432x288 with 2 Axes>"
      ]
     },
     "metadata": {
      "needs_background": "light"
     },
     "output_type": "display_data"
    },
    {
     "name": "stdout",
     "output_type": "stream",
     "text": [
      "              precision    recall  f1-score   support\n",
      "\n",
      "           0       0.95      0.98      0.97      1378\n",
      "           1       0.90      0.75      0.82       286\n",
      "\n",
      "    accuracy                           0.94      1664\n",
      "   macro avg       0.92      0.87      0.89      1664\n",
      "weighted avg       0.94      0.94      0.94      1664\n",
      "\n"
     ]
    },
    {
     "name": "stderr",
     "output_type": "stream",
     "text": [
      "c:\\Users\\Rafi\\AppData\\Local\\Programs\\Python\\Python310\\lib\\site-packages\\sklearn\\base.py:450: UserWarning: X does not have valid feature names, but RandomForestClassifier was fitted with feature names\n",
      "  warnings.warn(\n",
      "c:\\Users\\Rafi\\AppData\\Local\\Programs\\Python\\Python310\\lib\\site-packages\\sklearn\\base.py:450: UserWarning: X does not have valid feature names, but RandomForestClassifier was fitted with feature names\n",
      "  warnings.warn(\n",
      "c:\\Users\\Rafi\\AppData\\Local\\Programs\\Python\\Python310\\lib\\site-packages\\sklearn\\base.py:450: UserWarning: X does not have valid feature names, but RandomForestClassifier was fitted with feature names\n",
      "  warnings.warn(\n",
      "c:\\Users\\Rafi\\AppData\\Local\\Programs\\Python\\Python310\\lib\\site-packages\\sklearn\\base.py:450: UserWarning: X does not have valid feature names, but RandomForestClassifier was fitted with feature names\n",
      "  warnings.warn(\n",
      "c:\\Users\\Rafi\\AppData\\Local\\Programs\\Python\\Python310\\lib\\site-packages\\sklearn\\base.py:450: UserWarning: X does not have valid feature names, but RandomForestClassifier was fitted with feature names\n",
      "  warnings.warn(\n"
     ]
    },
    {
     "data": {
      "image/png": "[encoded data removed]",
      "text/plain": [
       "<Figure size 432x288 with 2 Axes>"
      ]
     },
     "metadata": {
      "needs_background": "light"
     },
     "output_type": "display_data"
    },
    {
     "name": "stdout",
     "output_type": "stream",
     "text": [
      "              precision    recall  f1-score   support\n",
      "\n",
      "           0       0.97      0.98      0.97      1408\n",
      "           1       0.86      0.81      0.83       256\n",
      "\n",
      "    accuracy                           0.95      1664\n",
      "   macro avg       0.91      0.89      0.90      1664\n",
      "weighted avg       0.95      0.95      0.95      1664\n",
      "\n"
     ]
    },
    {
     "name": "stderr",
     "output_type": "stream",
     "text": [
      "c:\\Users\\Rafi\\AppData\\Local\\Programs\\Python\\Python310\\lib\\site-packages\\sklearn\\base.py:450: UserWarning: X does not have valid feature names, but RandomForestClassifier was fitted with feature names\n",
      "  warnings.warn(\n",
      "c:\\Users\\Rafi\\AppData\\Local\\Programs\\Python\\Python310\\lib\\site-packages\\sklearn\\base.py:450: UserWarning: X does not have valid feature names, but RandomForestClassifier was fitted with feature names\n",
      "  warnings.warn(\n",
      "c:\\Users\\Rafi\\AppData\\Local\\Programs\\Python\\Python310\\lib\\site-packages\\sklearn\\base.py:450: UserWarning: X does not have valid feature names, but RandomForestClassifier was fitted with feature names\n",
      "  warnings.warn(\n",
      "c:\\Users\\Rafi\\AppData\\Local\\Programs\\Python\\Python310\\lib\\site-packages\\sklearn\\base.py:450: UserWarning: X does not have valid feature names, but RandomForestClassifier was fitted with feature names\n",
      "  warnings.warn(\n",
      "c:\\Users\\Rafi\\AppData\\Local\\Programs\\Python\\Python310\\lib\\site-packages\\sklearn\\base.py:450: UserWarning: X does not have valid feature names, but RandomForestClassifier was fitted with feature names\n",
      "  warnings.warn(\n"
     ]
    },
    {
     "data": {
      "image/png": "[encoded data removed]",
      "text/plain": [
       "<Figure size 432x288 with 2 Axes>"
      ]
     },
     "metadata": {
      "needs_background": "light"
     },
     "output_type": "display_data"
    },
    {
     "name": "stdout",
     "output_type": "stream",
     "text": [
      "              precision    recall  f1-score   support\n",
      "\n",
      "           0       0.94      0.93      0.93      1161\n",
      "           1       0.84      0.87      0.85       503\n",
      "\n",
      "    accuracy                           0.91      1664\n",
      "   macro avg       0.89      0.90      0.89      1664\n",
      "weighted avg       0.91      0.91      0.91      1664\n",
      "\n"
     ]
    },
    {
     "name": "stderr",
     "output_type": "stream",
     "text": [
      "c:\\Users\\Rafi\\AppData\\Local\\Programs\\Python\\Python310\\lib\\site-packages\\sklearn\\base.py:450: UserWarning: X does not have valid feature names, but RandomForestClassifier was fitted with feature names\n",
      "  warnings.warn(\n",
      "c:\\Users\\Rafi\\AppData\\Local\\Programs\\Python\\Python310\\lib\\site-packages\\sklearn\\base.py:450: UserWarning: X does not have valid feature names, but RandomForestClassifier was fitted with feature names\n",
      "  warnings.warn(\n",
      "c:\\Users\\Rafi\\AppData\\Local\\Programs\\Python\\Python310\\lib\\site-packages\\sklearn\\base.py:450: UserWarning: X does not have valid feature names, but RandomForestClassifier was fitted with feature names\n",
      "  warnings.warn(\n",
      "c:\\Users\\Rafi\\AppData\\Local\\Programs\\Python\\Python310\\lib\\site-packages\\sklearn\\base.py:450: UserWarning: X does not have valid feature names, but RandomForestClassifier was fitted with feature names\n",
      "  warnings.warn(\n",
      "c:\\Users\\Rafi\\AppData\\Local\\Programs\\Python\\Python310\\lib\\site-packages\\sklearn\\base.py:450: UserWarning: X does not have valid feature names, but RandomForestClassifier was fitted with feature names\n",
      "  warnings.warn(\n"
     ]
    },
    {
     "data": {
      "image/png": "[encoded data removed]",
      "text/plain": [
       "<Figure size 432x288 with 2 Axes>"
      ]
     },
     "metadata": {
      "needs_background": "light"
     },
     "output_type": "display_data"
    },
    {
     "name": "stdout",
     "output_type": "stream",
     "text": [
      "              precision    recall  f1-score   support\n",
      "\n",
      "           0       0.70      0.89      0.78       701\n",
      "           1       0.90      0.73      0.80       963\n",
      "\n",
      "    accuracy                           0.80      1664\n",
      "   macro avg       0.80      0.81      0.79      1664\n",
      "weighted avg       0.82      0.80      0.80      1664\n",
      "\n"
     ]
    },
    {
     "name": "stderr",
     "output_type": "stream",
     "text": [
      "c:\\Users\\Rafi\\AppData\\Local\\Programs\\Python\\Python310\\lib\\site-packages\\sklearn\\base.py:450: UserWarning: X does not have valid feature names, but RandomForestClassifier was fitted with feature names\n",
      "  warnings.warn(\n",
      "c:\\Users\\Rafi\\AppData\\Local\\Programs\\Python\\Python310\\lib\\site-packages\\sklearn\\base.py:450: UserWarning: X does not have valid feature names, but RandomForestClassifier was fitted with feature names\n",
      "  warnings.warn(\n",
      "c:\\Users\\Rafi\\AppData\\Local\\Programs\\Python\\Python310\\lib\\site-packages\\sklearn\\base.py:450: UserWarning: X does not have valid feature names, but RandomForestClassifier was fitted with feature names\n",
      "  warnings.warn(\n",
      "c:\\Users\\Rafi\\AppData\\Local\\Programs\\Python\\Python310\\lib\\site-packages\\sklearn\\base.py:450: UserWarning: X does not have valid feature names, but RandomForestClassifier was fitted with feature names\n",
      "  warnings.warn(\n",
      "c:\\Users\\Rafi\\AppData\\Local\\Programs\\Python\\Python310\\lib\\site-packages\\sklearn\\base.py:450: UserWarning: X does not have valid feature names, but RandomForestClassifier was fitted with feature names\n",
      "  warnings.warn(\n"
     ]
    },
    {
     "data": {
      "image/png": "[encoded data removed]",
      "text/plain": [
       "<Figure size 432x288 with 2 Axes>"
      ]
     },
     "metadata": {
      "needs_background": "light"
     },
     "output_type": "display_data"
    },
    {
     "name": "stdout",
     "output_type": "stream",
     "text": [
      "              precision    recall  f1-score   support\n",
      "\n",
      "           0       0.66      0.58      0.62       632\n",
      "           1       0.76      0.82      0.79      1032\n",
      "\n",
      "    accuracy                           0.73      1664\n",
      "   macro avg       0.71      0.70      0.70      1664\n",
      "weighted avg       0.72      0.73      0.72      1664\n",
      "\n",
      "Mean Accuracy: 0.865144\n",
      "[0.9423076923076923, 0.9501201923076923, 0.9098557692307693, 0.7950721153846154, 0.7283653846153846]\n"
     ]
    },
    {
     "data": {
      "image/png": "[encoded data removed]",
      "text/plain": [
       "<Figure size 432x288 with 1 Axes>"
      ]
     },
     "metadata": {
      "needs_background": "light"
     },
     "output_type": "display_data"
    }
   ],
   "source": [
    "imputer = SimpleImputer(strategy='mean') \n",
    "\n",
    "df_copy = weighted_df.copy()\n",
    "df_copy.drop(['quarters', 'ha'], axis=1, inplace=True)\n",
    "X = df_copy.iloc[:, -16:-1] # Define explanatory variables\n",
    "X = sm.add_constant(X) # Add constant column of 1s for intercept\n",
    "y = df_copy[[\"crisis\"]] # Define target data\n",
    "\n",
    "cv = TimeSeriesSplit(n_splits=5) # Define TimeSeriesSplit with 5 splits\n",
    "\n",
    "# Initialize empty lists to score scores\n",
    "accuracy_values = list()\n",
    "binary_cross_entropy_loss = list()\n",
    "train_scores = list()\n",
    "valid_scores = list()\n",
    "train_loss_values_w = list()\n",
    "val_loss_values_w = list()\n",
    "\n",
    "for train_index, val_index in cv.split(X): # Loop over the different training-test splits\n",
    "\n",
    "    # Define X and y data\n",
    "    X_train, X_test = X.iloc[train_index], X.iloc[val_index]\n",
    "    y_train, y_val = y.iloc[train_index], y.iloc[val_index]\n",
    "\n",
    "    # If X_train doesn't contain any news features (this happens for earlier dates) we drop news columns from both X_train and X_test\n",
    "    X_train = X_train.dropna(axis=1, how='all').copy()\n",
    "    X_test = X_test[X_train.columns]\n",
    "    \n",
    "    #Interpolate training data to generate more training points\n",
    "    # X_train = X_train.groupby('district', as_index=False).apply(lambda group: group.interpolate())\n",
    "    # X_train.reset_index(level=0, drop=True, inplace=True)\n",
    "    # y_train = y_train.groupby('district', as_index=False).apply(lambda group: group.interpolate())\n",
    "    # y_train.reset_index(level=0, drop=True, inplace=True)\n",
    "\n",
    "    # Interpolate testing data using the same imputer as for training data\n",
    "    X_train = imputer.fit_transform(X_train)\n",
    "    X_test = imputer.transform(X_test)\n",
    "\n",
    "    # Train the RandomForestClassifier\n",
    "    # number of trees is 100, and  42 is just to initialize random number to make random choices during training\n",
    "    rf_classifier = RandomForestClassifier(n_estimators=100, random_state=42)\n",
    "    results = rf_classifier.fit(X=X_train, y=np.ravel(y_train))\n",
    "\n",
    "    rf_classifier.feature_names_in_ = list(X.columns)\n",
    "\n",
    "    # Predict on the test data\n",
    "    # Predict and calculate accuracy\n",
    "    y_train_pred = rf_classifier.predict(X_train)\n",
    "    y_pred = rf_classifier.predict(X_test)\n",
    "    \n",
    "    accuracy = accuracy_score(y_val, y_pred)\n",
    "    accuracy_values.append(accuracy)\n",
    "\n",
    "    pred_probabilities = rf_classifier.predict_proba(X_test)\n",
    "    binary_cross_entropy_loss.append(log_loss(y_val, pred_probabilities))\n",
    "    \n",
    "    train_scores.append(accuracy_score(y_train, y_train_pred))\n",
    "    valid_scores.append(accuracy_score(y_val, y_pred))\n",
    "    \n",
    "    train_loss = log_loss(y_train, rf_classifier.predict_proba(X_train)[:, 1])\n",
    "    val_loss = log_loss(y_val, rf_classifier.predict_proba(X_test)[:, 1])\n",
    "\n",
    "    train_loss_values_w.append(train_loss)\n",
    "    val_loss_values_w.append(val_loss)\n",
    "\n",
    "    plt.title('train %s - %s | test %s - %s' % (train_index[0], train_index[-1], val_index[0], val_index[-1]))\n",
    "    plot_ConfusionMatrix(prediction = y_pred, true = y_val['crisis'], binary=True) # Plot confusion matrix\n",
    "\n",
    "    print (classification_report(y_val,y_pred))\n",
    "print(f\"Mean Accuracy: {np.mean(accuracy_values):.6f}\") # Print MAE\n",
    "print(accuracy_values)\n",
    "\n",
    "plt.plot(binary_cross_entropy_loss)\n",
    "plt.legend(['Binary Cross Entropy Validation']) \n",
    "plt.xlabel('Iteration')\n",
    "plt.ylabel('Value')\n",
    "plt.show()\n",
    "\n",
    "\n",
    "\n",
    "# Why it predicts different values each time?\n",
    "# In the early years of the data, only ipc 1 and 2 prevail with ipc 3 occurs the least. Thus in the first two iterations it only predicts\n",
    "# 1 and 2. Then we see more ipc 3 for which it begins to predict in the 3rd iteration. The same can be said about ipc 4. In the final \n",
    "# iteration, it focuses on only predicting ipc 2 and 3 which the model thinks it predicts best.\n",
    "\n",
    "    "
   ]
  },
  {
   "cell_type": "code",
   "execution_count": 26,
   "metadata": {
    "ExecuteTime": {
     "end_time": "2023-10-15T20:15:23.784454988Z",
     "start_time": "2023-10-15T20:15:20.792567527Z"
    },
    "collapsed": false
   },
   "outputs": [
    {
     "name": "stderr",
     "output_type": "stream",
     "text": [
      "c:\\Users\\Rafi\\AppData\\Local\\Programs\\Python\\Python310\\lib\\site-packages\\sklearn\\base.py:450: UserWarning: X does not have valid feature names, but RandomForestClassifier was fitted with feature names\n",
      "  warnings.warn(\n",
      "c:\\Users\\Rafi\\AppData\\Local\\Programs\\Python\\Python310\\lib\\site-packages\\sklearn\\base.py:450: UserWarning: X does not have valid feature names, but RandomForestClassifier was fitted with feature names\n",
      "  warnings.warn(\n",
      "c:\\Users\\Rafi\\AppData\\Local\\Programs\\Python\\Python310\\lib\\site-packages\\sklearn\\base.py:450: UserWarning: X does not have valid feature names, but RandomForestClassifier was fitted with feature names\n",
      "  warnings.warn(\n",
      "c:\\Users\\Rafi\\AppData\\Local\\Programs\\Python\\Python310\\lib\\site-packages\\sklearn\\base.py:450: UserWarning: X does not have valid feature names, but RandomForestClassifier was fitted with feature names\n",
      "  warnings.warn(\n",
      "c:\\Users\\Rafi\\AppData\\Local\\Programs\\Python\\Python310\\lib\\site-packages\\sklearn\\base.py:450: UserWarning: X does not have valid feature names, but RandomForestClassifier was fitted with feature names\n",
      "  warnings.warn(\n"
     ]
    },
    {
     "data": {
      "image/png": "[encoded data removed]",
      "text/plain": [
       "<Figure size 432x288 with 2 Axes>"
      ]
     },
     "metadata": {
      "needs_background": "light"
     },
     "output_type": "display_data"
    },
    {
     "name": "stdout",
     "output_type": "stream",
     "text": [
      "              precision    recall  f1-score   support\n",
      "\n",
      "           0       0.95      0.98      0.97      1378\n",
      "           1       0.90      0.75      0.82       286\n",
      "\n",
      "    accuracy                           0.94      1664\n",
      "   macro avg       0.92      0.87      0.89      1664\n",
      "weighted avg       0.94      0.94      0.94      1664\n",
      "\n"
     ]
    },
    {
     "name": "stderr",
     "output_type": "stream",
     "text": [
      "c:\\Users\\Rafi\\AppData\\Local\\Programs\\Python\\Python310\\lib\\site-packages\\sklearn\\base.py:450: UserWarning: X does not have valid feature names, but RandomForestClassifier was fitted with feature names\n",
      "  warnings.warn(\n",
      "c:\\Users\\Rafi\\AppData\\Local\\Programs\\Python\\Python310\\lib\\site-packages\\sklearn\\base.py:450: UserWarning: X does not have valid feature names, but RandomForestClassifier was fitted with feature names\n",
      "  warnings.warn(\n",
      "c:\\Users\\Rafi\\AppData\\Local\\Programs\\Python\\Python310\\lib\\site-packages\\sklearn\\base.py:450: UserWarning: X does not have valid feature names, but RandomForestClassifier was fitted with feature names\n",
      "  warnings.warn(\n",
      "c:\\Users\\Rafi\\AppData\\Local\\Programs\\Python\\Python310\\lib\\site-packages\\sklearn\\base.py:450: UserWarning: X does not have valid feature names, but RandomForestClassifier was fitted with feature names\n",
      "  warnings.warn(\n",
      "c:\\Users\\Rafi\\AppData\\Local\\Programs\\Python\\Python310\\lib\\site-packages\\sklearn\\base.py:450: UserWarning: X does not have valid feature names, but RandomForestClassifier was fitted with feature names\n",
      "  warnings.warn(\n"
     ]
    },
    {
     "data": {
      "image/png": "[encoded data removed]",
      "text/plain": [
       "<Figure size 432x288 with 2 Axes>"
      ]
     },
     "metadata": {
      "needs_background": "light"
     },
     "output_type": "display_data"
    },
    {
     "name": "stdout",
     "output_type": "stream",
     "text": [
      "              precision    recall  f1-score   support\n",
      "\n",
      "           0       0.97      0.98      0.97      1408\n",
      "           1       0.86      0.81      0.83       256\n",
      "\n",
      "    accuracy                           0.95      1664\n",
      "   macro avg       0.91      0.89      0.90      1664\n",
      "weighted avg       0.95      0.95      0.95      1664\n",
      "\n"
     ]
    },
    {
     "name": "stderr",
     "output_type": "stream",
     "text": [
      "c:\\Users\\Rafi\\AppData\\Local\\Programs\\Python\\Python310\\lib\\site-packages\\sklearn\\base.py:450: UserWarning: X does not have valid feature names, but RandomForestClassifier was fitted with feature names\n",
      "  warnings.warn(\n",
      "c:\\Users\\Rafi\\AppData\\Local\\Programs\\Python\\Python310\\lib\\site-packages\\sklearn\\base.py:450: UserWarning: X does not have valid feature names, but RandomForestClassifier was fitted with feature names\n",
      "  warnings.warn(\n",
      "c:\\Users\\Rafi\\AppData\\Local\\Programs\\Python\\Python310\\lib\\site-packages\\sklearn\\base.py:450: UserWarning: X does not have valid feature names, but RandomForestClassifier was fitted with feature names\n",
      "  warnings.warn(\n",
      "c:\\Users\\Rafi\\AppData\\Local\\Programs\\Python\\Python310\\lib\\site-packages\\sklearn\\base.py:450: UserWarning: X does not have valid feature names, but RandomForestClassifier was fitted with feature names\n",
      "  warnings.warn(\n",
      "c:\\Users\\Rafi\\AppData\\Local\\Programs\\Python\\Python310\\lib\\site-packages\\sklearn\\base.py:450: UserWarning: X does not have valid feature names, but RandomForestClassifier was fitted with feature names\n",
      "  warnings.warn(\n"
     ]
    },
    {
     "data": {
      "image/png": "[encoded data removed]",
      "text/plain": [
       "<Figure size 432x288 with 2 Axes>"
      ]
     },
     "metadata": {
      "needs_background": "light"
     },
     "output_type": "display_data"
    },
    {
     "name": "stdout",
     "output_type": "stream",
     "text": [
      "              precision    recall  f1-score   support\n",
      "\n",
      "           0       0.94      0.93      0.93      1161\n",
      "           1       0.84      0.87      0.85       503\n",
      "\n",
      "    accuracy                           0.91      1664\n",
      "   macro avg       0.89      0.90      0.89      1664\n",
      "weighted avg       0.91      0.91      0.91      1664\n",
      "\n"
     ]
    },
    {
     "name": "stderr",
     "output_type": "stream",
     "text": [
      "c:\\Users\\Rafi\\AppData\\Local\\Programs\\Python\\Python310\\lib\\site-packages\\sklearn\\base.py:450: UserWarning: X does not have valid feature names, but RandomForestClassifier was fitted with feature names\n",
      "  warnings.warn(\n",
      "c:\\Users\\Rafi\\AppData\\Local\\Programs\\Python\\Python310\\lib\\site-packages\\sklearn\\base.py:450: UserWarning: X does not have valid feature names, but RandomForestClassifier was fitted with feature names\n",
      "  warnings.warn(\n",
      "c:\\Users\\Rafi\\AppData\\Local\\Programs\\Python\\Python310\\lib\\site-packages\\sklearn\\base.py:450: UserWarning: X does not have valid feature names, but RandomForestClassifier was fitted with feature names\n",
      "  warnings.warn(\n",
      "c:\\Users\\Rafi\\AppData\\Local\\Programs\\Python\\Python310\\lib\\site-packages\\sklearn\\base.py:450: UserWarning: X does not have valid feature names, but RandomForestClassifier was fitted with feature names\n",
      "  warnings.warn(\n",
      "c:\\Users\\Rafi\\AppData\\Local\\Programs\\Python\\Python310\\lib\\site-packages\\sklearn\\base.py:450: UserWarning: X does not have valid feature names, but RandomForestClassifier was fitted with feature names\n",
      "  warnings.warn(\n"
     ]
    },
    {
     "data": {
      "image/png": "[encoded data removed]",
      "text/plain": [
       "<Figure size 432x288 with 2 Axes>"
      ]
     },
     "metadata": {
      "needs_background": "light"
     },
     "output_type": "display_data"
    },
    {
     "name": "stdout",
     "output_type": "stream",
     "text": [
      "              precision    recall  f1-score   support\n",
      "\n",
      "           0       0.70      0.89      0.78       701\n",
      "           1       0.90      0.73      0.80       963\n",
      "\n",
      "    accuracy                           0.80      1664\n",
      "   macro avg       0.80      0.81      0.79      1664\n",
      "weighted avg       0.82      0.80      0.80      1664\n",
      "\n"
     ]
    },
    {
     "name": "stderr",
     "output_type": "stream",
     "text": [
      "c:\\Users\\Rafi\\AppData\\Local\\Programs\\Python\\Python310\\lib\\site-packages\\sklearn\\base.py:450: UserWarning: X does not have valid feature names, but RandomForestClassifier was fitted with feature names\n",
      "  warnings.warn(\n",
      "c:\\Users\\Rafi\\AppData\\Local\\Programs\\Python\\Python310\\lib\\site-packages\\sklearn\\base.py:450: UserWarning: X does not have valid feature names, but RandomForestClassifier was fitted with feature names\n",
      "  warnings.warn(\n",
      "c:\\Users\\Rafi\\AppData\\Local\\Programs\\Python\\Python310\\lib\\site-packages\\sklearn\\base.py:450: UserWarning: X does not have valid feature names, but RandomForestClassifier was fitted with feature names\n",
      "  warnings.warn(\n",
      "c:\\Users\\Rafi\\AppData\\Local\\Programs\\Python\\Python310\\lib\\site-packages\\sklearn\\base.py:450: UserWarning: X does not have valid feature names, but RandomForestClassifier was fitted with feature names\n",
      "  warnings.warn(\n",
      "c:\\Users\\Rafi\\AppData\\Local\\Programs\\Python\\Python310\\lib\\site-packages\\sklearn\\base.py:450: UserWarning: X does not have valid feature names, but RandomForestClassifier was fitted with feature names\n",
      "  warnings.warn(\n"
     ]
    },
    {
     "data": {
      "image/png": "[encoded data removed]",
      "text/plain": [
       "<Figure size 432x288 with 2 Axes>"
      ]
     },
     "metadata": {
      "needs_background": "light"
     },
     "output_type": "display_data"
    },
    {
     "name": "stdout",
     "output_type": "stream",
     "text": [
      "              precision    recall  f1-score   support\n",
      "\n",
      "           0       0.66      0.58      0.62       632\n",
      "           1       0.76      0.82      0.79      1032\n",
      "\n",
      "    accuracy                           0.73      1664\n",
      "   macro avg       0.71      0.70      0.70      1664\n",
      "weighted avg       0.72      0.73      0.72      1664\n",
      "\n",
      "Mean Accuracy: 0.865144\n",
      "[0.9423076923076923, 0.9501201923076923, 0.9098557692307693, 0.7950721153846154, 0.7283653846153846]\n"
     ]
    },
    {
     "data": {
      "image/png": "[encoded data removed]",
      "text/plain": [
       "<Figure size 432x288 with 1 Axes>"
      ]
     },
     "metadata": {
      "needs_background": "light"
     },
     "output_type": "display_data"
    }
   ],
   "source": [
    "imputer = SimpleImputer(strategy='mean') \n",
    "\n",
    "df_copy = density_df.copy()\n",
    "df_copy.drop(['quarters', 'ha'], axis=1, inplace=True)\n",
    "X = df_copy.iloc[:, -16:-1] # Define explanatory variables\n",
    "X = sm.add_constant(X) # Add constant column of 1s for intercept\n",
    "y = df_copy[[\"crisis\"]] # Define target data\n",
    "\n",
    "\n",
    "cv = TimeSeriesSplit(n_splits=5) # Define TimeSeriesSplit with 5 splits\n",
    "\n",
    "# Initialize empty lists to score scores\n",
    "accuracy_values = list()\n",
    "binary_cross_entropy_loss = list()\n",
    "train_scores = list()\n",
    "valid_scores = list()\n",
    "train_loss_values_d = list()\n",
    "val_loss_values_d = list()\n",
    "\n",
    "for train_index, val_index in cv.split(X): # Loop over the different training-test splits\n",
    "\n",
    "    # Define X and y data\n",
    "    X_train, X_test = X.iloc[train_index], X.iloc[val_index]\n",
    "    y_train, y_val = y.iloc[train_index], y.iloc[val_index]\n",
    "\n",
    "    # If X_train doesn't contain any news features (this happens for earlier dates) we drop news columns from both X_train and X_test\n",
    "    X_train = X_train.dropna(axis=1, how='all').copy()\n",
    "    X_test = X_test[X_train.columns]\n",
    "    \n",
    "    #Interpolate training data to generate more training points\n",
    "    # X_train = X_train.groupby('district', as_index=False).apply(lambda group: group.interpolate())\n",
    "    # X_train.reset_index(level=0, drop=True, inplace=True)\n",
    "    # y_train = y_train.groupby('district', as_index=False).apply(lambda group: group.interpolate())\n",
    "    # y_train.reset_index(level=0, drop=True, inplace=True)\n",
    "\n",
    "    # Interpolate testing data using the same imputer as for training data\n",
    "    X_train = imputer.fit_transform(X_train)\n",
    "    X_test = imputer.transform(X_test)\n",
    "\n",
    "    # Train the RandomForestClassifier\n",
    "    # number of trees is 100, and  42 is just to initialize random number to make random choices during training\n",
    "    rf_classifier = RandomForestClassifier(n_estimators=100, random_state=42)\n",
    "    results = rf_classifier.fit(X=X_train, y=np.ravel(y_train))\n",
    "\n",
    "    rf_classifier.feature_names_in_ = list(X.columns)\n",
    "\n",
    "    # Predict on the test data\n",
    "    # Predict and calculate accuracy\n",
    "    y_train_pred = rf_classifier.predict(X_train)\n",
    "    y_pred = rf_classifier.predict(X_test)\n",
    "    \n",
    "    accuracy = accuracy_score(y_val, y_pred)\n",
    "    accuracy_values.append(accuracy)\n",
    "\n",
    "    pred_probabilities = rf_classifier.predict_proba(X_test)\n",
    "    binary_cross_entropy_loss.append(log_loss(y_val, pred_probabilities))\n",
    "    \n",
    "    train_scores.append(accuracy_score(y_train, y_train_pred))\n",
    "    valid_scores.append(accuracy_score(y_val, y_pred))\n",
    "    \n",
    "    train_loss = log_loss(y_train, rf_classifier.predict_proba(X_train)[:, 1])\n",
    "    val_loss = log_loss(y_val, rf_classifier.predict_proba(X_test)[:, 1])\n",
    "\n",
    "    train_loss_values_d.append(train_loss)\n",
    "    val_loss_values_d.append(val_loss)\n",
    "\n",
    "    plt.title('train %s - %s | test %s - %s' % (train_index[0], train_index[-1], val_index[0], val_index[-1]))\n",
    "    plot_ConfusionMatrix(prediction = y_pred, true = y_val['crisis'], binary=True) # Plot confusion matrix\n",
    "\n",
    "    print (classification_report(y_val,y_pred))\n",
    "\n",
    "print(f\"Mean Accuracy: {np.mean(accuracy_values):.6f}\") # Print MAE\n",
    "print(accuracy_values)\n",
    "\n",
    "plt.plot(binary_cross_entropy_loss)\n",
    "plt.legend(['Binary Cross Entropy Validation']) \n",
    "plt.xlabel('Iteration')\n",
    "plt.ylabel('Value')\n",
    "plt.show()\n",
    "\n",
    "\n",
    "\n",
    "# Why it predicts different values each time?\n",
    "# In the early years of the data, only ipc 1 and 2 prevail with ipc 3 occurs the least. Thus in the first two iterations it only predicts\n",
    "# 1 and 2. Then we see more ipc 3 for which it begins to predict in the 3rd iteration. The same can be said about ipc 4. In the final \n",
    "# iteration, it focuses on only predicting ipc 2 and 3 which the model thinks it predicts best.\n",
    "\n",
    "    "
   ]
  },
  {
   "cell_type": "markdown",
   "metadata": {},
   "source": [
    "### LEARNING CURVE FOR RANDOM FOREST CLASSIFIER"
   ]
  },
  {
   "cell_type": "code",
   "execution_count": 27,
   "metadata": {
    "ExecuteTime": {
     "end_time": "2023-10-15T18:44:57.591737132Z",
     "start_time": "2023-10-15T18:44:57.455468314Z"
    },
    "collapsed": false
   },
   "outputs": [
    {
     "data": {
      "image/png": "[encoded data removed]",
      "text/plain": [
       "<Figure size 720x432 with 1 Axes>"
      ]
     },
     "metadata": {
      "needs_background": "light"
     },
     "output_type": "display_data"
    }
   ],
   "source": [
    "# After the loop, you can plot training and validation loss values for each split\n",
    "plt.figure(figsize=(10, 6))\n",
    "plt.plot(range(1, len(train_loss_values_w) + 1), train_loss_values_w, marker='o', label='Training Loss')\n",
    "plt.plot(range(1, len(val_loss_values_w) + 1), val_loss_values_w, marker='o', label='Validation Loss')\n",
    "plt.xlabel('Split')\n",
    "plt.ylabel('Log Loss')\n",
    "plt.title('Training and Validation Loss for Each Split - Weighted Population - Classifier')\n",
    "plt.legend()\n",
    "plt.grid(True)\n",
    "plt.show()\n"
   ]
  },
  {
   "cell_type": "code",
   "execution_count": 28,
   "metadata": {
    "ExecuteTime": {
     "end_time": "2023-10-15T18:45:01.253057576Z",
     "start_time": "2023-10-15T18:45:01.110607904Z"
    },
    "collapsed": false
   },
   "outputs": [
    {
     "data": {
      "image/png": "[encoded data removed]",
      "text/plain": [
       "<Figure size 720x432 with 1 Axes>"
      ]
     },
     "metadata": {
      "needs_background": "light"
     },
     "output_type": "display_data"
    }
   ],
   "source": [
    "# After the loop, you can plot training and validation loss values for each split\n",
    "plt.figure(figsize=(10, 6))\n",
    "plt.plot(range(1, len(train_loss_values_d) + 1), train_loss_values_d, marker='o', label='Training Loss')\n",
    "plt.plot(range(1, len(val_loss_values_d) + 1), val_loss_values_d, marker='o', label='Validation Loss')\n",
    "plt.xlabel('Split')\n",
    "plt.ylabel('Log Loss')\n",
    "plt.title('Training and Validation Loss for Each Split - Density Population - Classifier')\n",
    "plt.legend()\n",
    "plt.grid(True)\n",
    "plt.show()\n"
   ]
  },
  {
   "cell_type": "code",
   "execution_count": 29,
   "metadata": {
    "ExecuteTime": {
     "end_time": "2023-10-15T18:45:07.540336374Z",
     "start_time": "2023-10-15T18:45:07.410624853Z"
    }
   },
   "outputs": [
    {
     "data": {
      "image/png": "[encoded data removed]",
      "text/plain": [
       "<Figure size 720x432 with 1 Axes>"
      ]
     },
     "metadata": {
      "needs_background": "light"
     },
     "output_type": "display_data"
    }
   ],
   "source": [
    "# Plots learning curve to check if there was overfitting\n",
    "plt.figure(figsize=(10, 6))\n",
    "plt.title(\"Learning Curves\")\n",
    "plt.xlabel(\"Training Folds\")\n",
    "plt.ylabel(\"Accuracy\")\n",
    "plt.grid()\n",
    "plt.plot(range(1, 5 + 1), train_scores, 'o-', color=\"r\", label=\"Training score\")\n",
    "plt.plot(range(1, 5 + 1), valid_scores, 'o-', color=\"g\", label=\"Validation score\")\n",
    "plt.legend(loc=\"best\")\n",
    "plt.show()"
   ]
  },
  {
   "cell_type": "markdown",
   "metadata": {},
   "source": [
    "### IGNORE THIS"
   ]
  },
  {
   "cell_type": "code",
   "execution_count": 30,
   "metadata": {},
   "outputs": [],
   "source": [
    "# from sklearn.model_selection import RandomizedSearchCV\n",
    "# \n",
    "# # Number of trees in random forest\n",
    "# n_estimators = [int(x) for x in np.linspace(start = 10, stop = 80, num = 10)]\n",
    "# # Number of features to consider at every split\n",
    "# max_features = ['auto', 'sqrt']\n",
    "# # Maximum number of levels in tree\n",
    "# max_depth = [int(x) for x in np.linspace(10, 110, num = 11)]\n",
    "# max_depth.append(None)\n",
    "# # Minimum number of samples required to split a node\n",
    "# min_samples_split = [2, 5, 10]\n",
    "# # Minimum number of samples required at each leaf node\n",
    "# min_samples_leaf = [1, 2, 4]\n",
    "# # Method of selecting samples for training each tree\n",
    "# bootstrap = [True, False]\n",
    "# # Create the random grid\n",
    "# random_grid = {'n_estimators': n_estimators,\n",
    "#                'max_features': max_features,\n",
    "#                'max_depth': max_depth,\n",
    "#                'min_samples_split': min_samples_split,\n",
    "#                'min_samples_leaf': min_samples_leaf,\n",
    "#                'bootstrap': bootstrap}\n",
    "# \n",
    "# # Use the random grid to search for best hyperparameters\n",
    "# # First create the base model to tune\n",
    "# rfc = RandomForestClassifier()\n",
    "# # Random search of parameters, using 3 fold cross validation, \n",
    "# # search across 100 different combinations, and use all available cores\n",
    "# for x in range(2,11):\n",
    "#     rf_random = RandomizedSearchCV(estimator = rfc, param_distributions = random_grid, cv = x, verbose=2, n_jobs = 4)\n",
    "#     # Fit the random search model\n",
    "#     rf_random.fit(X_train_imputed, y_train)\n",
    "#     print(rf_random.best_params_)\n",
    "#     print (f'Train Accuracy - : {rf_random.score(X_train_imputed, y_train):.3f}')\n",
    "#     print (f'Test Accuracy - : {rf_random.score(X_test_imputed,y_val):.3f}')"
   ]
  },
  {
   "cell_type": "code",
   "execution_count": 31,
   "metadata": {},
   "outputs": [],
   "source": [
    "# rf_random.best_params_"
   ]
  },
  {
   "cell_type": "code",
   "execution_count": 32,
   "metadata": {},
   "outputs": [],
   "source": [
    "# print (f'Train Accuracy - : {rf_random.score(X_train_imputed, y_train):.3f}')\n",
    "# print (f'Test Accuracy - : {rf_random.score(X_test_imputed,y_val):.3f}')"
   ]
  },
  {
   "cell_type": "code",
   "execution_count": null,
   "metadata": {
    "collapsed": false
   },
   "outputs": [],
   "source": []
  },
  {
   "cell_type": "markdown",
   "metadata": {},
   "source": [
    "### RANDOM FOREST REGRESSOR"
   ]
  },
  {
   "cell_type": "code",
   "execution_count": 33,
   "metadata": {
    "ExecuteTime": {
     "end_time": "2023-10-15T20:13:33.544400731Z",
     "start_time": "2023-10-15T20:13:28.573140177Z"
    }
   },
   "outputs": [
    {
     "data": {
      "image/png": "[encoded data removed]",
      "text/plain": [
       "<Figure size 432x288 with 2 Axes>"
      ]
     },
     "metadata": {
      "needs_background": "light"
     },
     "output_type": "display_data"
    },
    {
     "name": "stdout",
     "output_type": "stream",
     "text": [
      "              precision    recall  f1-score   support\n",
      "\n",
      "           0       0.96      0.98      0.97      1378\n",
      "           1       0.88      0.81      0.84       286\n",
      "\n",
      "    accuracy                           0.95      1664\n",
      "   macro avg       0.92      0.89      0.91      1664\n",
      "weighted avg       0.95      0.95      0.95      1664\n",
      "\n"
     ]
    },
    {
     "data": {
      "image/png": "[encoded data removed]",
      "text/plain": [
       "<Figure size 432x288 with 2 Axes>"
      ]
     },
     "metadata": {
      "needs_background": "light"
     },
     "output_type": "display_data"
    },
    {
     "name": "stdout",
     "output_type": "stream",
     "text": [
      "              precision    recall  f1-score   support\n",
      "\n",
      "           0       0.98      0.91      0.94      1408\n",
      "           1       0.65      0.88      0.75       256\n",
      "\n",
      "    accuracy                           0.91      1664\n",
      "   macro avg       0.81      0.90      0.85      1664\n",
      "weighted avg       0.93      0.91      0.91      1664\n",
      "\n"
     ]
    },
    {
     "data": {
      "image/png": "[encoded data removed]",
      "text/plain": [
       "<Figure size 432x288 with 2 Axes>"
      ]
     },
     "metadata": {
      "needs_background": "light"
     },
     "output_type": "display_data"
    },
    {
     "name": "stdout",
     "output_type": "stream",
     "text": [
      "              precision    recall  f1-score   support\n",
      "\n",
      "           0       0.93      0.89      0.91      1161\n",
      "           1       0.77      0.85      0.81       503\n",
      "\n",
      "    accuracy                           0.88      1664\n",
      "   macro avg       0.85      0.87      0.86      1664\n",
      "weighted avg       0.88      0.88      0.88      1664\n",
      "\n"
     ]
    },
    {
     "data": {
      "image/png": "[encoded data removed]",
      "text/plain": [
       "<Figure size 432x288 with 2 Axes>"
      ]
     },
     "metadata": {
      "needs_background": "light"
     },
     "output_type": "display_data"
    },
    {
     "name": "stdout",
     "output_type": "stream",
     "text": [
      "              precision    recall  f1-score   support\n",
      "\n",
      "           0       0.76      0.87      0.81       701\n",
      "           1       0.89      0.80      0.85       963\n",
      "\n",
      "    accuracy                           0.83      1664\n",
      "   macro avg       0.83      0.84      0.83      1664\n",
      "weighted avg       0.84      0.83      0.83      1664\n",
      "\n"
     ]
    },
    {
     "data": {
      "image/png": "[encoded data removed]",
      "text/plain": [
       "<Figure size 432x288 with 2 Axes>"
      ]
     },
     "metadata": {
      "needs_background": "light"
     },
     "output_type": "display_data"
    },
    {
     "name": "stdout",
     "output_type": "stream",
     "text": [
      "              precision    recall  f1-score   support\n",
      "\n",
      "           0       0.66      0.76      0.71       632\n",
      "           1       0.84      0.75      0.79      1032\n",
      "\n",
      "    accuracy                           0.76      1664\n",
      "   macro avg       0.75      0.76      0.75      1664\n",
      "weighted avg       0.77      0.76      0.76      1664\n",
      "\n",
      "Mean Accuracy: 0.864784\n",
      "[0.9483173076923077, 0.9086538461538461, 0.8768028846153846, 0.8323317307692307, 0.7578125]\n"
     ]
    },
    {
     "data": {
      "image/png": "[encoded data removed]",
      "text/plain": [
       "<Figure size 432x288 with 1 Axes>"
      ]
     },
     "metadata": {
      "needs_background": "light"
     },
     "output_type": "display_data"
    }
   ],
   "source": [
    "\n",
    "imputer = SimpleImputer(strategy='mean') \n",
    "\n",
    "df_copy = weighted_df.copy()\n",
    "df_copy.drop(['quarters', 'ha'], axis=1, inplace=True)\n",
    "X = df_copy.iloc[:, -16:-1] # Define explanatory variables\n",
    "X = sm.add_constant(X) # Add constant column of 1s for intercept\n",
    "y = df_copy[[\"crisis\"]] # Define target data\n",
    "\n",
    "cv = TimeSeriesSplit(n_splits=5) # Define TimeSeriesSplit with 5 splits\n",
    "\n",
    "# Initialize empty lists to score scores\n",
    "accuracy_values = list()\n",
    "binary_cross_entropy_loss = list()\n",
    "train_scores = list()\n",
    "valid_scores = list()\n",
    "train_loss_values_w = list()\n",
    "val_loss_values_w = list()\n",
    "msquaredrf = list()\n",
    "rmserf = list()\n",
    "accuracyf = list()\n",
    "\n",
    "\n",
    "for train_index, val_index in cv.split(X): # Loop over the different training-test splits\n",
    "\n",
    "    # Define X and y data\n",
    "    X_train, X_test = X.iloc[train_index], X.iloc[val_index]\n",
    "    y_train, y_val = y.iloc[train_index], y.iloc[val_index]\n",
    "\n",
    "    # If X_train doesn't contain any news features (this happens for earlier dates) we drop news columns from both X_train and X_test\n",
    "    X_train = X_train.dropna(axis=1, how='all').copy()\n",
    "    X_test = X_test[X_train.columns]\n",
    "    \n",
    "    #Interpolate training data to generate more training points\n",
    "    # X_train = X_train.groupby('district', as_index=False).apply(lambda group: group.interpolate())\n",
    "    # X_train.reset_index(level=0, drop=True, inplace=True)\n",
    "    # y_train = y_train.groupby('district', as_index=False).apply(lambda group: group.interpolate())\n",
    "    # y_train.reset_index(level=0, drop=True, inplace=True)\n",
    "\n",
    "    # Interpolate testing data using the same imputer as for training data\n",
    "    X_train_imputed = imputer.fit_transform(X_train.values)\n",
    "    X_test_imputed = imputer.fit_transform(X_test.values)\n",
    "\n",
    "    model = RandomForestRegressor(random_state=42).fit(X_train_imputed, np.ravel(y_train))\n",
    "    y_pred = model.predict(X_test_imputed)\n",
    "    y_train_pred = model.predict(X_train_imputed)\n",
    "    rounded_y_pred = np.where(y_pred > 0.5, 1, 0)\n",
    "    rounded_y_train_pred = np.where(y_train_pred > 0.5, 1, 0)\n",
    "\n",
    "    m2 = mean_squared_error(y_val, rounded_y_pred)\n",
    "    msquaredrf.append(m2)\n",
    "    rmse = mean_squared_error(y_val, rounded_y_pred, squared=False)\n",
    "    rmserf.append(rmse)\n",
    "    accuracy = accuracy_score(y_val, rounded_y_pred)\n",
    "    accuracyf.append(accuracy)\n",
    "\n",
    "    train_scores.append(accuracy_score(y_train, rounded_y_train_pred))\n",
    "    valid_scores.append(accuracy_score(y_val, rounded_y_pred))\n",
    "    \n",
    "    train_loss = mean_squared_error(y_train, y_train_pred)\n",
    "    val_loss = mean_squared_error(y_val, y_pred)\n",
    "\n",
    "    train_loss_values_w.append(train_loss)\n",
    "    val_loss_values_w.append(val_loss)\n",
    "\n",
    "    plt.title('train %s - %s | test %s - %s' % (train_index[0], train_index[-1], val_index[0], val_index[-1]))\n",
    "    plot_ConfusionMatrix(prediction = rounded_y_pred, true = y_val['crisis'], binary=True) # Plot confusion matrix\n",
    "    \n",
    "    print(classification_report(y_val, rounded_y_pred))\n",
    "\n",
    "print(f\"Mean Accuracy: {np.mean(accuracyf):.6f}\") # Print MAE\n",
    "print(accuracyf)\n",
    "\n",
    "plt.plot(msquaredrf)\n",
    "plt.plot(rmserf)\n",
    "plt.legend(['m2', 'rmse']) \n",
    "plt.show()\n",
    "\n"
   ]
  },
  {
   "cell_type": "code",
   "execution_count": 34,
   "metadata": {
    "ExecuteTime": {
     "end_time": "2023-10-15T20:13:28.569872233Z",
     "start_time": "2023-10-15T20:13:23.648026866Z"
    },
    "collapsed": false
   },
   "outputs": [
    {
     "data": {
      "image/png": "[encoded data removed]",
      "text/plain": [
       "<Figure size 432x288 with 2 Axes>"
      ]
     },
     "metadata": {
      "needs_background": "light"
     },
     "output_type": "display_data"
    },
    {
     "name": "stdout",
     "output_type": "stream",
     "text": [
      "              precision    recall  f1-score   support\n",
      "\n",
      "           0       0.96      0.98      0.97      1378\n",
      "           1       0.88      0.81      0.84       286\n",
      "\n",
      "    accuracy                           0.95      1664\n",
      "   macro avg       0.92      0.89      0.91      1664\n",
      "weighted avg       0.95      0.95      0.95      1664\n",
      "\n"
     ]
    },
    {
     "data": {
      "image/png": "[encoded data removed]",
      "text/plain": [
       "<Figure size 432x288 with 2 Axes>"
      ]
     },
     "metadata": {
      "needs_background": "light"
     },
     "output_type": "display_data"
    },
    {
     "name": "stdout",
     "output_type": "stream",
     "text": [
      "              precision    recall  f1-score   support\n",
      "\n",
      "           0       0.98      0.91      0.94      1408\n",
      "           1       0.65      0.88      0.75       256\n",
      "\n",
      "    accuracy                           0.91      1664\n",
      "   macro avg       0.81      0.90      0.85      1664\n",
      "weighted avg       0.93      0.91      0.91      1664\n",
      "\n"
     ]
    },
    {
     "data": {
      "image/png": "[encoded data removed]",
      "text/plain": [
       "<Figure size 432x288 with 2 Axes>"
      ]
     },
     "metadata": {
      "needs_background": "light"
     },
     "output_type": "display_data"
    },
    {
     "name": "stdout",
     "output_type": "stream",
     "text": [
      "              precision    recall  f1-score   support\n",
      "\n",
      "           0       0.93      0.89      0.91      1161\n",
      "           1       0.77      0.85      0.81       503\n",
      "\n",
      "    accuracy                           0.88      1664\n",
      "   macro avg       0.85      0.87      0.86      1664\n",
      "weighted avg       0.88      0.88      0.88      1664\n",
      "\n"
     ]
    },
    {
     "data": {
      "image/png": "[encoded data removed]",
      "text/plain": [
       "<Figure size 432x288 with 2 Axes>"
      ]
     },
     "metadata": {
      "needs_background": "light"
     },
     "output_type": "display_data"
    },
    {
     "name": "stdout",
     "output_type": "stream",
     "text": [
      "              precision    recall  f1-score   support\n",
      "\n",
      "           0       0.76      0.87      0.81       701\n",
      "           1       0.89      0.80      0.85       963\n",
      "\n",
      "    accuracy                           0.83      1664\n",
      "   macro avg       0.83      0.84      0.83      1664\n",
      "weighted avg       0.84      0.83      0.83      1664\n",
      "\n"
     ]
    },
    {
     "data": {
      "image/png": "[encoded data removed]",
      "text/plain": [
       "<Figure size 432x288 with 2 Axes>"
      ]
     },
     "metadata": {
      "needs_background": "light"
     },
     "output_type": "display_data"
    },
    {
     "name": "stdout",
     "output_type": "stream",
     "text": [
      "              precision    recall  f1-score   support\n",
      "\n",
      "           0       0.66      0.76      0.71       632\n",
      "           1       0.84      0.75      0.79      1032\n",
      "\n",
      "    accuracy                           0.76      1664\n",
      "   macro avg       0.75      0.76      0.75      1664\n",
      "weighted avg       0.77      0.76      0.76      1664\n",
      "\n",
      "Mean Accuracy: 0.864784\n",
      "[0.9483173076923077, 0.9086538461538461, 0.8768028846153846, 0.8323317307692307, 0.7578125]\n"
     ]
    },
    {
     "data": {
      "image/png": "[encoded data removed]",
      "text/plain": [
       "<Figure size 432x288 with 1 Axes>"
      ]
     },
     "metadata": {
      "needs_background": "light"
     },
     "output_type": "display_data"
    }
   ],
   "source": [
    "\n",
    "imputer = SimpleImputer(strategy='mean') \n",
    "\n",
    "df_copy = density_df.copy()\n",
    "df_copy.drop(['quarters', 'ha'], axis=1, inplace=True)\n",
    "X = df_copy.iloc[:, -16:-1] # Define explanatory variables\n",
    "X = sm.add_constant(X) # Add constant column of 1s for intercept\n",
    "y = df_copy[[\"crisis\"]] # Define target data\n",
    "\n",
    "cv = TimeSeriesSplit(n_splits=5) # Define TimeSeriesSplit with 5 splits\n",
    "\n",
    "# Initialize empty lists to score scores\n",
    "accuracy_values = list()\n",
    "binary_cross_entropy_loss = list()\n",
    "train_scores = list()\n",
    "valid_scores = list()\n",
    "train_loss_values_d = list()\n",
    "val_loss_values_d = list()\n",
    "msquaredrf = list()\n",
    "rmserf = list()\n",
    "accuracyf = list()\n",
    "\n",
    "\n",
    "for train_index, val_index in cv.split(X): # Loop over the different training-test splits\n",
    "\n",
    "    # Define X and y data\n",
    "    X_train, X_test = X.iloc[train_index], X.iloc[val_index]\n",
    "    y_train, y_val = y.iloc[train_index], y.iloc[val_index]\n",
    "\n",
    "    # If X_train doesn't contain any news features (this happens for earlier dates) we drop news columns from both X_train and X_test\n",
    "    X_train = X_train.dropna(axis=1, how='all').copy()\n",
    "    X_test = X_test[X_train.columns]\n",
    "    \n",
    "    #Interpolate training data to generate more training points\n",
    "    # X_train = X_train.groupby('district', as_index=False).apply(lambda group: group.interpolate())\n",
    "    # X_train.reset_index(level=0, drop=True, inplace=True)\n",
    "    # y_train = y_train.groupby('district', as_index=False).apply(lambda group: group.interpolate())\n",
    "    # y_train.reset_index(level=0, drop=True, inplace=True)\n",
    "\n",
    "    # Interpolate testing data using the same imputer as for training data\n",
    "    X_train_imputed = imputer.fit_transform(X_train.values)\n",
    "    X_test_imputed = imputer.fit_transform(X_test.values)\n",
    "\n",
    "    model = RandomForestRegressor(random_state=42).fit(X_train_imputed, np.ravel(y_train))\n",
    "    y_pred = model.predict(X_test_imputed)\n",
    "    y_train_pred = model.predict(X_train_imputed)\n",
    "    rounded_y_pred = np.where(y_pred > 0.5, 1, 0)\n",
    "    rounded_y_train_pred = np.where(y_train_pred > 0.5, 1, 0)\n",
    "\n",
    "    m2 = mean_squared_error(y_val, rounded_y_pred)\n",
    "    msquaredrf.append(m2)\n",
    "    rmse = mean_squared_error(y_val, rounded_y_pred, squared=False)\n",
    "    rmserf.append(rmse)\n",
    "    accuracy = accuracy_score(y_val, rounded_y_pred)\n",
    "    accuracyf.append(accuracy)\n",
    "\n",
    "    train_scores.append(accuracy_score(y_train, rounded_y_train_pred))\n",
    "    valid_scores.append(accuracy_score(y_val, rounded_y_pred))\n",
    "    \n",
    "    train_loss = mean_squared_error(y_train, y_train_pred)\n",
    "    val_loss = mean_squared_error(y_val, y_pred)\n",
    "\n",
    "    train_loss_values_d.append(train_loss)\n",
    "    val_loss_values_d.append(val_loss)\n",
    "\n",
    "    plt.title('train %s - %s | test %s - %s' % (train_index[0], train_index[-1], val_index[0], val_index[-1]))\n",
    "    plot_ConfusionMatrix(prediction = rounded_y_pred, true = y_val['crisis'], binary=True) # Plot confusion matrix\n",
    "    print(classification_report(y_val, rounded_y_pred))\n",
    "\n",
    "print(f\"Mean Accuracy: {np.mean(accuracyf):.6f}\") # Print MAE\n",
    "print(accuracyf)\n",
    "\n",
    "plt.plot(msquaredrf)\n",
    "plt.plot(rmserf)\n",
    "plt.legend(['m2', 'rmse']) \n",
    "plt.show()\n",
    "\n"
   ]
  },
  {
   "cell_type": "markdown",
   "metadata": {},
   "source": [
    "### LEARNING CURVE FOR RANDOM FOREST REGRESSOR"
   ]
  },
  {
   "cell_type": "code",
   "execution_count": 35,
   "metadata": {
    "ExecuteTime": {
     "end_time": "2023-10-15T18:58:05.473365468Z",
     "start_time": "2023-10-15T18:58:05.326888255Z"
    },
    "collapsed": false
   },
   "outputs": [
    {
     "data": {
      "image/png": "[encoded data removed]",
      "text/plain": [
       "<Figure size 720x432 with 1 Axes>"
      ]
     },
     "metadata": {
      "needs_background": "light"
     },
     "output_type": "display_data"
    }
   ],
   "source": [
    "# After the loop, you can plot training and validation loss values for each split\n",
    "plt.figure(figsize=(10, 6))\n",
    "plt.plot(range(1, len(train_loss_values_w) + 1), train_loss_values_w, marker='o', label='Training Loss')\n",
    "plt.plot(range(1, len(val_loss_values_w) + 1), val_loss_values_w, marker='o', label='Validation Loss')\n",
    "plt.xlabel('Split')\n",
    "plt.ylabel('Log Loss')\n",
    "plt.title('Training and Validation Loss for Each Split - Weighted Population - Regressor')\n",
    "plt.legend()\n",
    "plt.grid(True)\n",
    "plt.show()\n"
   ]
  },
  {
   "cell_type": "code",
   "execution_count": 36,
   "metadata": {
    "ExecuteTime": {
     "end_time": "2023-10-15T18:58:11.353151908Z",
     "start_time": "2023-10-15T18:58:11.202922190Z"
    },
    "collapsed": false
   },
   "outputs": [
    {
     "data": {
      "image/png": "[encoded data removed]",
      "text/plain": [
       "<Figure size 720x432 with 1 Axes>"
      ]
     },
     "metadata": {
      "needs_background": "light"
     },
     "output_type": "display_data"
    }
   ],
   "source": [
    "# After the loop, you can plot training and validation loss values for each split\n",
    "plt.figure(figsize=(10, 6))\n",
    "plt.plot(range(1, len(train_loss_values_d) + 1), train_loss_values_d, marker='o', label='Training Loss')\n",
    "plt.plot(range(1, len(val_loss_values_d) + 1), val_loss_values_d, marker='o', label='Validation Loss')\n",
    "plt.xlabel('Split')\n",
    "plt.ylabel('Log Loss')\n",
    "plt.title('Training and Validation Loss for Each Split - Weighted Population - Regressor')\n",
    "plt.legend()\n",
    "plt.grid(True)\n",
    "plt.show()\n"
   ]
  },
  {
   "cell_type": "code",
   "execution_count": 37,
   "metadata": {
    "collapsed": false
   },
   "outputs": [
    {
     "data": {
      "image/png": "[encoded data removed]",
      "text/plain": [
       "<Figure size 720x432 with 1 Axes>"
      ]
     },
     "metadata": {
      "needs_background": "light"
     },
     "output_type": "display_data"
    }
   ],
   "source": [
    "# Plots learning curve to check if there was overfitting\n",
    "plt.figure(figsize=(10, 6))\n",
    "plt.title(\"Learning Curves\")\n",
    "plt.xlabel(\"Training Folds\")\n",
    "plt.ylabel(\"Accuracy\")\n",
    "plt.grid()\n",
    "plt.plot(range(1, 5 + 1), train_scores, 'o-', color=\"r\", label=\"Training score\")\n",
    "plt.plot(range(1, 5 + 1), valid_scores, 'o-', color=\"g\", label=\"Validation score\")\n",
    "plt.legend(loc=\"best\")\n",
    "plt.show()"
   ]
  },
  {
   "cell_type": "markdown",
   "metadata": {},
   "source": [
    "### GRADIENT BOOSTING REGRESSOR"
   ]
  },
  {
   "cell_type": "code",
   "execution_count": 38,
   "metadata": {
    "ExecuteTime": {
     "end_time": "2023-10-15T20:12:28.105183503Z",
     "start_time": "2023-10-15T20:12:24.786781372Z"
    },
    "collapsed": false
   },
   "outputs": [
    {
     "data": {
      "image/png": "[encoded data removed]",
      "text/plain": [
       "<Figure size 432x288 with 2 Axes>"
      ]
     },
     "metadata": {
      "needs_background": "light"
     },
     "output_type": "display_data"
    },
    {
     "name": "stdout",
     "output_type": "stream",
     "text": [
      "              precision    recall  f1-score   support\n",
      "\n",
      "           0       0.97      0.97      0.97      1378\n",
      "           1       0.87      0.87      0.87       286\n",
      "\n",
      "    accuracy                           0.95      1664\n",
      "   macro avg       0.92      0.92      0.92      1664\n",
      "weighted avg       0.95      0.95      0.95      1664\n",
      "\n"
     ]
    },
    {
     "data": {
      "image/png": "[encoded data removed]",
      "text/plain": [
       "<Figure size 432x288 with 2 Axes>"
      ]
     },
     "metadata": {
      "needs_background": "light"
     },
     "output_type": "display_data"
    },
    {
     "name": "stdout",
     "output_type": "stream",
     "text": [
      "              precision    recall  f1-score   support\n",
      "\n",
      "           0       0.97      0.95      0.96      1408\n",
      "           1       0.76      0.83      0.79       256\n",
      "\n",
      "    accuracy                           0.93      1664\n",
      "   macro avg       0.87      0.89      0.88      1664\n",
      "weighted avg       0.94      0.93      0.93      1664\n",
      "\n"
     ]
    },
    {
     "data": {
      "image/png": "[encoded data removed]",
      "text/plain": [
       "<Figure size 432x288 with 2 Axes>"
      ]
     },
     "metadata": {
      "needs_background": "light"
     },
     "output_type": "display_data"
    },
    {
     "name": "stdout",
     "output_type": "stream",
     "text": [
      "              precision    recall  f1-score   support\n",
      "\n",
      "           0       0.93      0.93      0.93      1161\n",
      "           1       0.83      0.85      0.84       503\n",
      "\n",
      "    accuracy                           0.90      1664\n",
      "   macro avg       0.88      0.89      0.88      1664\n",
      "weighted avg       0.90      0.90      0.90      1664\n",
      "\n"
     ]
    },
    {
     "data": {
      "image/png": "[encoded data removed]",
      "text/plain": [
       "<Figure size 432x288 with 2 Axes>"
      ]
     },
     "metadata": {
      "needs_background": "light"
     },
     "output_type": "display_data"
    },
    {
     "name": "stdout",
     "output_type": "stream",
     "text": [
      "              precision    recall  f1-score   support\n",
      "\n",
      "           0       0.76      0.90      0.82       701\n",
      "           1       0.91      0.79      0.85       963\n",
      "\n",
      "    accuracy                           0.83      1664\n",
      "   macro avg       0.83      0.84      0.83      1664\n",
      "weighted avg       0.85      0.83      0.84      1664\n",
      "\n"
     ]
    },
    {
     "data": {
      "image/png": "[encoded data removed]",
      "text/plain": [
       "<Figure size 432x288 with 2 Axes>"
      ]
     },
     "metadata": {
      "needs_background": "light"
     },
     "output_type": "display_data"
    },
    {
     "name": "stdout",
     "output_type": "stream",
     "text": [
      "              precision    recall  f1-score   support\n",
      "\n",
      "           0       0.73      0.77      0.75       632\n",
      "           1       0.85      0.83      0.84      1032\n",
      "\n",
      "    accuracy                           0.80      1664\n",
      "   macro avg       0.79      0.80      0.79      1664\n",
      "weighted avg       0.81      0.80      0.80      1664\n",
      "\n",
      "Mean Accuracy: 0.885697\n",
      "[0.9549278846153846, 0.9338942307692307, 0.9020432692307693, 0.8341346153846154, 0.8034855769230769]\n"
     ]
    },
    {
     "data": {
      "image/png": "[encoded data removed]",
      "text/plain": [
       "<Figure size 432x288 with 1 Axes>"
      ]
     },
     "metadata": {
      "needs_background": "light"
     },
     "output_type": "display_data"
    }
   ],
   "source": [
    "imputer = SimpleImputer(strategy='mean') \n",
    "\n",
    "df_copy = weighted_df.copy()\n",
    "df_copy.drop(['quarters', 'ha'], axis=1, inplace=True)\n",
    "X = df_copy.iloc[:, -16:-1] # Define explanatory variables\n",
    "X = sm.add_constant(X) # Add constant column of 1s for intercept\n",
    "y = df_copy[[\"crisis\"]] # Define target data\n",
    "\n",
    "cv = TimeSeriesSplit(n_splits=5) # Define TimeSeriesSplit with 5 splits\n",
    "\n",
    "# Initialize empty lists to score scores\n",
    "accuracy_values = list()\n",
    "binary_cross_entropy_loss = list()\n",
    "train_scores = list()\n",
    "valid_scores = list()\n",
    "train_loss_values_w = list()\n",
    "val_loss_values_w = list()\n",
    "msquaredgb = list()\n",
    "rmsegb = list()\n",
    "accuracyg = list()\n",
    "\n",
    "for train_index, val_index in cv.split(X): # Loop over the different training-test splits\n",
    "\n",
    "    # Define X and y data\n",
    "    X_train, X_test = X.iloc[train_index], X.iloc[val_index]\n",
    "    y_train, y_val = y.iloc[train_index], y.iloc[val_index]\n",
    "\n",
    "    # If X_train doesn't contain any news features (this happens for earlier dates) we drop news columns from both X_train and X_test\n",
    "    X_train = X_train.dropna(axis=1, how='all').copy()\n",
    "    X_test = X_test[X_train.columns]\n",
    "    \n",
    "    #Interpolate training data to generate more training points\n",
    "    # X_train = X_train.groupby('district', as_index=False).apply(lambda group: group.interpolate())\n",
    "    # X_train.reset_index(level=0, drop=True, inplace=True)\n",
    "    # y_train = y_train.groupby('district', as_index=False).apply(lambda group: group.interpolate())\n",
    "    # y_train.reset_index(level=0, drop=True, inplace=True)\n",
    "\n",
    "    # Interpolate testing data using the same imputer as for training data\n",
    "    X_train_imputed = imputer.fit_transform(X_train.values)\n",
    "    X_test_imputed = imputer.fit_transform(X_test.values)\n",
    "\n",
    "    model = GradientBoostingRegressor(random_state=42).fit(X_train_imputed, np.ravel(y_train))\n",
    "    y_pred = model.predict(X_test_imputed)\n",
    "    rounded_y_pred = np.where(y_pred > 0.5, 1, 0)\n",
    "    y_train_pred = model.predict(X_train_imputed)\n",
    "    rounded_y_train_pred = np.where(y_train_pred > 0.5, 1, 0)\n",
    "\n",
    "    m2 = mean_squared_error(y_val, rounded_y_pred)\n",
    "    msquaredgb.append(m2)\n",
    "    rmse = mean_squared_error(y_val, rounded_y_pred, squared=False)\n",
    "    rmsegb.append(rmse)\n",
    "    accuracy = accuracy_score(y_val, rounded_y_pred)\n",
    "    accuracyg.append(accuracy)\n",
    "\n",
    "    train_scores.append(accuracy_score(y_train, rounded_y_train_pred))\n",
    "    valid_scores.append(accuracy_score(y_val, rounded_y_pred))\n",
    "    \n",
    "    train_loss = mean_squared_error(y_train, y_train_pred)\n",
    "    val_loss = mean_squared_error(y_val, y_pred)\n",
    "\n",
    "    train_loss_values_w.append(train_loss)\n",
    "    val_loss_values_w.append(val_loss)\n",
    "\n",
    "\n",
    "    plt.title('train %s - %s | test %s - %s' % (train_index[0], train_index[-1], val_index[0], val_index[-1]))\n",
    "    plot_ConfusionMatrix(prediction = rounded_y_pred, true = y_val['crisis'], binary=True) # Plot confusion matrix\n",
    "    print(classification_report(y_val, rounded_y_pred))\n",
    "\n",
    "print(f\"Mean Accuracy: {np.mean(accuracyg):.6f}\") # Print MAE\n",
    "print(accuracyg)\n",
    "\n",
    "plt.plot(msquaredrf)\n",
    "plt.plot(rmserf)\n",
    "plt.legend(['m2', 'rmse']) \n",
    "plt.show()"
   ]
  },
  {
   "cell_type": "code",
   "execution_count": 73,
   "metadata": {
    "ExecuteTime": {
     "end_time": "2023-10-15T20:06:15.315545756Z",
     "start_time": "2023-10-15T20:06:11.903899870Z"
    },
    "collapsed": false
   },
   "outputs": [
    {
     "name": "stdout",
     "output_type": "stream",
     "text": [
      "                 district      country  district_code     centx      centy  \\\n",
      "2019-11-01           Leer  South Sudan            121  30.22817   8.174243   \n",
      "2019-11-01       Mayendit  South Sudan            122  29.91969   8.122516   \n",
      "2019-11-01    Mundri East  South Sudan             92  30.68256   5.307882   \n",
      "2019-11-01          Mvolo  South Sudan             98  30.03237   5.917979   \n",
      "2019-11-01  Kapoeta North  South Sudan             93  33.46191   5.306582   \n",
      "2019-11-01          Ulang  South Sudan            119  32.82720   8.579216   \n",
      "2019-11-01        Awerial  South Sudan             99  31.22946   6.150162   \n",
      "2019-11-01      Twic East  South Sudan            109  31.32270   7.100770   \n",
      "2019-11-01        Fashoda  South Sudan            147  31.84424   9.980295   \n",
      "2019-11-01   Rumbek North  South Sudan            113  29.70424   7.524580   \n",
      "2019-11-01           Pigi  South Sudan            134  31.44210   9.083722   \n",
      "2019-11-01  Rumbek Center  South Sudan            108  29.78404   7.018500   \n",
      "2019-11-01          Lafon  South Sudan             94  32.67142   5.249238   \n",
      "2019-11-01  Kapoeta South  South Sudan             87  33.68026   4.563413   \n",
      "2019-11-01   Gogrial East  South Sudan            129  28.58906   8.597443   \n",
      "2019-11-01        Tambura  South Sudan            102  27.14454   6.043462   \n",
      "2019-11-01     Aweil West  South Sudan            132  26.72393   8.930423   \n",
      "2019-11-01           Wulu  South Sudan            105  29.20889   6.200243   \n",
      "2019-11-01          Maban  South Sudan            139  33.45998  10.023910   \n",
      "2019-11-01         Nyirol  South Sudan            130  32.11970   8.583063   \n",
      "2019-11-01         Ikotos  South Sudan             80  33.13061   4.027118   \n",
      "2019-11-01         Anzara  South Sudan             86  28.20598   5.309739   \n",
      "2019-11-01   Gogrial West  South Sudan            131  28.10997   8.567440   \n",
      "2019-11-01     Yirol West  South Sudan            101  30.48698   6.395244   \n",
      "2019-11-01           Guit  South Sudan            140  30.07519   9.197522   \n",
      "2019-11-01          Pibor  South Sudan            104  33.56810   6.396368   \n",
      "2019-11-01        Pariang  South Sudan            142  30.11880   9.815146   \n",
      "2019-11-01         Maiwut  South Sudan            123  33.86245   8.740229   \n",
      "2019-11-01          Melut  South Sudan            149  32.56855  10.380960   \n",
      "2019-11-01            Yei  South Sudan             81  30.34454   4.252148   \n",
      "2019-11-01      Kajo Keji  South Sudan             79  31.46144   3.894441   \n",
      "2019-11-01           Ayod  South Sudan            124  30.98072   8.291426   \n",
      "2019-11-01           Renk  South Sudan            150  32.95721  11.362640   \n",
      "2019-11-01      Panyikang  South Sudan            144  31.45219   9.443533   \n",
      "2019-11-01           Uror  South Sudan            118  32.11129   7.625310   \n",
      "2019-11-01   Kapoeta East  South Sudan             95  34.60625   5.175935   \n",
      "2019-11-01        Cueibet  South Sudan            110  29.22492   7.082292   \n",
      "2019-11-01   Aweil Center  South Sudan            128  26.89562   8.417934   \n",
      "2019-11-01           Budi  South Sudan             88  33.44930   4.357813   \n",
      "2019-11-01    Rumbek East  South Sudan            106  30.01383   6.718670   \n",
      "2019-11-01           Twic  South Sudan            133  28.39142   9.135197   \n",
      "2019-11-01    Mundri West  South Sudan             91  30.20821   5.213937   \n",
      "2019-11-01            Bor  South Sudan             74  32.00486   6.465644   \n",
      "2019-11-01     Aweil East  South Sudan            141  27.61364   9.243139   \n",
      "2019-11-01     Tonj North  South Sudan            125  28.91646   8.246329   \n",
      "2019-11-01          Torit  South Sudan             89  32.56710   4.372431   \n",
      "2019-11-01    Aweil South  South Sudan            126  27.73611   8.667977   \n",
      "2019-11-01         Maridi  South Sudan             85  29.68465   5.096411   \n",
      "2019-11-01           Koch  South Sudan            127  29.85742   8.633903   \n",
      "2019-11-01           Juba  South Sudan             90  31.48342   4.717081   \n",
      "\n",
      "           year_month  year  month  ipc  ndvi_mean  ...  hunger  refugees  \\\n",
      "2019-11-01    2019_11  2019     11  3.0   0.664902  ...     NaN       NaN   \n",
      "2019-11-01    2019_11  2019     11  3.0   0.604150  ...     NaN       NaN   \n",
      "2019-11-01    2019_11  2019     11  2.0   0.635065  ...     NaN       NaN   \n",
      "2019-11-01    2019_11  2019     11  2.0   0.632568  ...     NaN       NaN   \n",
      "2019-11-01    2019_11  2019     11  3.0   0.665925  ...     NaN       NaN   \n",
      "2019-11-01    2019_11  2019     11  4.0   0.686016  ...     NaN       NaN   \n",
      "2019-11-01    2019_11  2019     11  3.0   0.651205  ...     NaN       NaN   \n",
      "2019-11-01    2019_11  2019     11  3.0   0.695091  ...     NaN       NaN   \n",
      "2019-11-01    2019_11  2019     11  3.0   0.540298  ...     NaN       NaN   \n",
      "2019-11-01    2019_11  2019     11  3.0   0.634860  ...     NaN       NaN   \n",
      "2019-11-01    2019_11  2019     11  3.0   0.636124  ...     NaN       NaN   \n",
      "2019-11-01    2019_11  2019     11  3.0   0.626996  ...     NaN       NaN   \n",
      "2019-11-01    2019_11  2019     11  3.0   0.625158  ...     NaN       NaN   \n",
      "2019-11-01    2019_11  2019     11  3.0   0.609734  ...     NaN       NaN   \n",
      "2019-11-01    2019_11  2019     11  2.0   0.567003  ...     NaN       NaN   \n",
      "2019-11-01    2019_11  2019     11  2.0   0.669609  ...     NaN       NaN   \n",
      "2019-11-01    2019_11  2019     11  3.0   0.472348  ...     NaN       NaN   \n",
      "2019-11-01    2019_11  2019     11  2.0   0.632113  ...     NaN       NaN   \n",
      "2019-11-01    2019_11  2019     11  4.0   0.549340  ...     NaN       NaN   \n",
      "2019-11-01    2019_11  2019     11  3.0   0.633489  ...     NaN       NaN   \n",
      "2019-11-01    2019_11  2019     11  2.0   0.648631  ...     NaN       NaN   \n",
      "2019-11-01    2019_11  2019     11  2.0   0.705129  ...     NaN       NaN   \n",
      "2019-11-01    2019_11  2019     11  3.0   0.498720  ...     NaN       NaN   \n",
      "2019-11-01    2019_11  2019     11  3.0   0.631098  ...     NaN       NaN   \n",
      "2019-11-01    2019_11  2019     11  3.0   0.628505  ...     NaN       NaN   \n",
      "2019-11-01    2019_11  2019     11  3.0   0.622066  ...     NaN       NaN   \n",
      "2019-11-01    2019_11  2019     11  3.0   0.514231  ...     NaN       NaN   \n",
      "2019-11-01    2019_11  2019     11  4.0   0.714164  ...     NaN       NaN   \n",
      "2019-11-01    2019_11  2019     11  3.0   0.483986  ...     NaN       NaN   \n",
      "2019-11-01    2019_11  2019     11  3.0   0.719950  ...     NaN       NaN   \n",
      "2019-11-01    2019_11  2019     11  2.0   0.677825  ...     NaN       NaN   \n",
      "2019-11-01    2019_11  2019     11  3.0   0.624935  ...     NaN       NaN   \n",
      "2019-11-01    2019_11  2019     11  3.0   0.427725  ...     NaN       NaN   \n",
      "2019-11-01    2019_11  2019     11  3.0   0.557940  ...     NaN       NaN   \n",
      "2019-11-01    2019_11  2019     11  3.0   0.652971  ...     NaN       NaN   \n",
      "2019-11-01    2019_11  2019     11  3.0   0.593779  ...     NaN       NaN   \n",
      "2019-11-01    2019_11  2019     11  3.0   0.585976  ...     NaN       NaN   \n",
      "2019-11-01    2019_11  2019     11  3.0   0.535402  ...     NaN       NaN   \n",
      "2019-11-01    2019_11  2019     11  3.0   0.630165  ...     NaN       NaN   \n",
      "2019-11-01    2019_11  2019     11  3.0   0.643385  ...     NaN       NaN   \n",
      "2019-11-01    2019_11  2019     11  3.0   0.534766  ...     NaN       NaN   \n",
      "2019-11-01    2019_11  2019     11  2.0   0.678815  ...     NaN       NaN   \n",
      "2019-11-01    2019_11  2019     11  3.0   0.641364  ...     NaN       NaN   \n",
      "2019-11-01    2019_11  2019     11  3.0   0.504947  ...     NaN       NaN   \n",
      "2019-11-01    2019_11  2019     11  3.0   0.581811  ...     NaN       NaN   \n",
      "2019-11-01    2019_11  2019     11  3.0   0.688006  ...     NaN       NaN   \n",
      "2019-11-01    2019_11  2019     11  3.0   0.530631  ...     NaN       NaN   \n",
      "2019-11-01    2019_11  2019     11  2.0   0.732065  ...     NaN       NaN   \n",
      "2019-11-01    2019_11  2019     11  3.0   0.653418  ...     NaN       NaN   \n",
      "2019-11-01    2019_11  2019     11  3.0   0.633067  ...     NaN       NaN   \n",
      "\n",
      "            conflict  humanitarian  corruption  terrorism  nature  oil  \\\n",
      "2019-11-01       NaN           NaN         NaN        NaN     NaN  NaN   \n",
      "2019-11-01       NaN           NaN         NaN        NaN     NaN  NaN   \n",
      "2019-11-01       NaN           NaN         NaN        NaN     NaN  NaN   \n",
      "2019-11-01       NaN           NaN         NaN        NaN     NaN  NaN   \n",
      "2019-11-01       NaN           NaN         NaN        NaN     NaN  NaN   \n",
      "2019-11-01       NaN           NaN         NaN        NaN     NaN  NaN   \n",
      "2019-11-01       NaN           NaN         NaN        NaN     NaN  NaN   \n",
      "2019-11-01       NaN           NaN         NaN        NaN     NaN  NaN   \n",
      "2019-11-01       NaN           NaN         NaN        NaN     NaN  NaN   \n",
      "2019-11-01       NaN           NaN         NaN        NaN     NaN  NaN   \n",
      "2019-11-01       NaN           NaN         NaN        NaN     NaN  NaN   \n",
      "2019-11-01       NaN           NaN         NaN        NaN     NaN  NaN   \n",
      "2019-11-01       NaN           NaN         NaN        NaN     NaN  NaN   \n",
      "2019-11-01       NaN           NaN         NaN        NaN     NaN  NaN   \n",
      "2019-11-01       NaN           NaN         NaN        NaN     NaN  NaN   \n",
      "2019-11-01       NaN           NaN         NaN        NaN     NaN  NaN   \n",
      "2019-11-01       NaN           NaN         NaN        NaN     NaN  NaN   \n",
      "2019-11-01       NaN           NaN         NaN        NaN     NaN  NaN   \n",
      "2019-11-01       NaN           NaN         NaN        NaN     NaN  NaN   \n",
      "2019-11-01       NaN           NaN         NaN        NaN     NaN  NaN   \n",
      "2019-11-01       NaN           NaN         NaN        NaN     NaN  NaN   \n",
      "2019-11-01       NaN           NaN         NaN        NaN     NaN  NaN   \n",
      "2019-11-01       NaN           NaN         NaN        NaN     NaN  NaN   \n",
      "2019-11-01       NaN           NaN         NaN        NaN     NaN  NaN   \n",
      "2019-11-01       NaN           NaN         NaN        NaN     NaN  NaN   \n",
      "2019-11-01       NaN           NaN         NaN        NaN     NaN  NaN   \n",
      "2019-11-01       NaN           NaN         NaN        NaN     NaN  NaN   \n",
      "2019-11-01       NaN           NaN         NaN        NaN     NaN  NaN   \n",
      "2019-11-01       NaN           NaN         NaN        NaN     NaN  NaN   \n",
      "2019-11-01       NaN           NaN         NaN        NaN     NaN  NaN   \n",
      "2019-11-01       NaN           NaN         NaN        NaN     NaN  NaN   \n",
      "2019-11-01       NaN           NaN         NaN        NaN     NaN  NaN   \n",
      "2019-11-01       NaN           NaN         NaN        NaN     NaN  NaN   \n",
      "2019-11-01       NaN           NaN         NaN        NaN     NaN  NaN   \n",
      "2019-11-01       NaN           NaN         NaN        NaN     NaN  NaN   \n",
      "2019-11-01       NaN           NaN         NaN        NaN     NaN  NaN   \n",
      "2019-11-01       NaN           NaN         NaN        NaN     NaN  NaN   \n",
      "2019-11-01       NaN           NaN         NaN        NaN     NaN  NaN   \n",
      "2019-11-01       NaN           NaN         NaN        NaN     NaN  NaN   \n",
      "2019-11-01       NaN           NaN         NaN        NaN     NaN  NaN   \n",
      "2019-11-01       NaN           NaN         NaN        NaN     NaN  NaN   \n",
      "2019-11-01       NaN           NaN         NaN        NaN     NaN  NaN   \n",
      "2019-11-01       NaN           NaN         NaN        NaN     NaN  NaN   \n",
      "2019-11-01       NaN           NaN         NaN        NaN     NaN  NaN   \n",
      "2019-11-01       NaN           NaN         NaN        NaN     NaN  NaN   \n",
      "2019-11-01       NaN           NaN         NaN        NaN     NaN  NaN   \n",
      "2019-11-01       NaN           NaN         NaN        NaN     NaN  NaN   \n",
      "2019-11-01       NaN           NaN         NaN        NaN     NaN  NaN   \n",
      "2019-11-01       NaN           NaN         NaN        NaN     NaN  NaN   \n",
      "2019-11-01       NaN           NaN         NaN        NaN     NaN  NaN   \n",
      "\n",
      "            livestock  crisis  \n",
      "2019-11-01        NaN       1  \n",
      "2019-11-01        NaN       1  \n",
      "2019-11-01        NaN       0  \n",
      "2019-11-01        NaN       0  \n",
      "2019-11-01        NaN       1  \n",
      "2019-11-01        NaN       1  \n",
      "2019-11-01        NaN       1  \n",
      "2019-11-01        NaN       1  \n",
      "2019-11-01        NaN       1  \n",
      "2019-11-01        NaN       1  \n",
      "2019-11-01        NaN       1  \n",
      "2019-11-01        NaN       1  \n",
      "2019-11-01        NaN       1  \n",
      "2019-11-01        NaN       1  \n",
      "2019-11-01        NaN       0  \n",
      "2019-11-01        NaN       0  \n",
      "2019-11-01        NaN       1  \n",
      "2019-11-01        NaN       0  \n",
      "2019-11-01        NaN       1  \n",
      "2019-11-01        NaN       1  \n",
      "2019-11-01        NaN       0  \n",
      "2019-11-01        NaN       0  \n",
      "2019-11-01        NaN       1  \n",
      "2019-11-01        NaN       1  \n",
      "2019-11-01        NaN       1  \n",
      "2019-11-01        NaN       1  \n",
      "2019-11-01        NaN       1  \n",
      "2019-11-01        NaN       1  \n",
      "2019-11-01        NaN       1  \n",
      "2019-11-01        NaN       1  \n",
      "2019-11-01        NaN       0  \n",
      "2019-11-01        NaN       1  \n",
      "2019-11-01        NaN       1  \n",
      "2019-11-01        NaN       1  \n",
      "2019-11-01        NaN       1  \n",
      "2019-11-01        NaN       1  \n",
      "2019-11-01        NaN       1  \n",
      "2019-11-01        NaN       1  \n",
      "2019-11-01        NaN       1  \n",
      "2019-11-01        NaN       1  \n",
      "2019-11-01        NaN       1  \n",
      "2019-11-01        NaN       0  \n",
      "2019-11-01        NaN       1  \n",
      "2019-11-01        NaN       1  \n",
      "2019-11-01        NaN       1  \n",
      "2019-11-01        NaN       1  \n",
      "2019-11-01        NaN       1  \n",
      "2019-11-01        NaN       0  \n",
      "2019-11-01        NaN       1  \n",
      "2019-11-01        NaN       1  \n",
      "\n",
      "[50 rows x 48 columns]\n"
     ]
    },
    {
     "data": {
      "image/png": "[encoded data removed]",
      "text/plain": [
       "<Figure size 432x288 with 2 Axes>"
      ]
     },
     "metadata": {
      "needs_background": "light"
     },
     "output_type": "display_data"
    },
    {
     "name": "stdout",
     "output_type": "stream",
     "text": [
      "              precision    recall  f1-score   support\n",
      "\n",
      "           0       0.97      0.98      0.97      1337\n",
      "           1       0.88      0.84      0.86       288\n",
      "\n",
      "    accuracy                           0.95      1625\n",
      "   macro avg       0.92      0.91      0.92      1625\n",
      "weighted avg       0.95      0.95      0.95      1625\n",
      "\n"
     ]
    },
    {
     "data": {
      "image/png": "[encoded data removed]",
      "text/plain": [
       "<Figure size 432x288 with 2 Axes>"
      ]
     },
     "metadata": {
      "needs_background": "light"
     },
     "output_type": "display_data"
    },
    {
     "name": "stdout",
     "output_type": "stream",
     "text": [
      "              precision    recall  f1-score   support\n",
      "\n",
      "           0       0.97      0.97      0.97      1400\n",
      "           1       0.81      0.81      0.81       225\n",
      "\n",
      "    accuracy                           0.95      1625\n",
      "   macro avg       0.89      0.89      0.89      1625\n",
      "weighted avg       0.95      0.95      0.95      1625\n",
      "\n"
     ]
    },
    {
     "data": {
      "image/png": "[encoded data removed]",
      "text/plain": [
       "<Figure size 432x288 with 2 Axes>"
      ]
     },
     "metadata": {
      "needs_background": "light"
     },
     "output_type": "display_data"
    },
    {
     "name": "stdout",
     "output_type": "stream",
     "text": [
      "              precision    recall  f1-score   support\n",
      "\n",
      "           0       0.94      0.96      0.95      1126\n",
      "           1       0.91      0.86      0.88       499\n",
      "\n",
      "    accuracy                           0.93      1625\n",
      "   macro avg       0.92      0.91      0.92      1625\n",
      "weighted avg       0.93      0.93      0.93      1625\n",
      "\n"
     ]
    },
    {
     "data": {
      "image/png": "[encoded data removed]",
      "text/plain": [
       "<Figure size 432x288 with 2 Axes>"
      ]
     },
     "metadata": {
      "needs_background": "light"
     },
     "output_type": "display_data"
    },
    {
     "name": "stdout",
     "output_type": "stream",
     "text": [
      "              precision    recall  f1-score   support\n",
      "\n",
      "           0       0.83      0.84      0.83       803\n",
      "           1       0.84      0.83      0.84       822\n",
      "\n",
      "    accuracy                           0.84      1625\n",
      "   macro avg       0.84      0.84      0.84      1625\n",
      "weighted avg       0.84      0.84      0.84      1625\n",
      "\n"
     ]
    },
    {
     "data": {
      "image/png": "[encoded data removed]",
      "text/plain": [
       "<Figure size 432x288 with 2 Axes>"
      ]
     },
     "metadata": {
      "needs_background": "light"
     },
     "output_type": "display_data"
    },
    {
     "name": "stdout",
     "output_type": "stream",
     "text": [
      "              precision    recall  f1-score   support\n",
      "\n",
      "           0       0.77      0.76      0.77       620\n",
      "           1       0.85      0.86      0.86      1005\n",
      "\n",
      "    accuracy                           0.82      1625\n",
      "   macro avg       0.81      0.81      0.81      1625\n",
      "weighted avg       0.82      0.82      0.82      1625\n",
      "\n",
      "Mean Accuracy: 0.897354\n",
      "[0.9513846153846154, 0.9464615384615385, 0.9298461538461539, 0.835076923076923, 0.824]\n"
     ]
    },
    {
     "data": {
      "image/png": "[encoded data removed]",
      "text/plain": [
       "<Figure size 432x288 with 1 Axes>"
      ]
     },
     "metadata": {
      "needs_background": "light"
     },
     "output_type": "display_data"
    }
   ],
   "source": [
    "imputer = SimpleImputer(strategy='mean') \n",
    "\n",
    "df_copy = density_df.copy()\n",
    "df_copy.drop(['quarters', 'ha'], axis=1, inplace=True)\n",
    "exclude_df = df_copy.loc[((df_copy[\"year\"] == 2020) & (df_copy[\"month\"] >= 1)) | ((df_copy[\"year\"] == 2019) & (df_copy[\"month\"] == 12))]\n",
    "df_copy = pd.concat([df_copy, exclude_df]).drop_duplicates(keep=False)\n",
    "X = df_copy.iloc[:, -16:-1] # Define explanatory variables\n",
    "X = sm.add_constant(X) # Add constant column of 1s for intercept\n",
    "y = df_copy[[\"crisis\"]] # Define target data\n",
    "\n",
    "cv = TimeSeriesSplit(n_splits=5) # Define TimeSeriesSplit with 5 splits\n",
    "\n",
    "# Initialize empty lists to score scores\n",
    "accuracy_values = list()\n",
    "binary_cross_entropy_loss = list()\n",
    "train_scores = list()\n",
    "valid_scores = list()\n",
    "train_loss_values_d = list()\n",
    "val_loss_values_d = list()\n",
    "msquaredgb = list()\n",
    "rmsegb = list()\n",
    "accuracyg = list()\n",
    "precision_list = []\n",
    "recall_list = []\n",
    "f1_score_list = []\n",
    "\n",
    "model = GradientBoostingRegressor(random_state=42)\n",
    "\n",
    "for train_index, val_index in cv.split(X): # Loop over the different training-test splits\n",
    "\n",
    "    # Define X and y data\n",
    "    X_train, X_test = X.iloc[train_index], X.iloc[val_index]\n",
    "    y_train, y_val = y.iloc[train_index], y.iloc[val_index]\n",
    "\n",
    "    # If X_train doesn't contain any news features (this happens for earlier dates) we drop news columns from both X_train and X_test\n",
    "    X_train = X_train.dropna(axis=1, how='all').copy()\n",
    "    X_test = X_test[X_train.columns]\n",
    "    \n",
    "    #Interpolate training data to generate more training points\n",
    "    # X_train = X_train.groupby('district', as_index=False).apply(lambda group: group.interpolate())\n",
    "    # X_train.reset_index(level=0, drop=True, inplace=True)\n",
    "    # y_train = y_train.groupby('district', as_index=False).apply(lambda group: group.interpolate())\n",
    "    # y_train.reset_index(level=0, drop=True, inplace=True)\n",
    "\n",
    "    # Interpolate testing data using the same imputer as for training data\n",
    "    X_train_imputed = imputer.fit_transform(X_train.values)\n",
    "    X_test_imputed = imputer.fit_transform(X_test.values)\n",
    "\n",
    "    model.fit(X_train_imputed, np.ravel(y_train))\n",
    "    y_pred = model.predict(X_test_imputed)\n",
    "    rounded_y_pred = np.where(y_pred > 0.5, 1, 0)\n",
    "    y_train_pred = model.predict(X_train_imputed)\n",
    "    rounded_y_train_pred = np.where(y_train_pred > 0.5, 1, 0)\n",
    "\n",
    "    m2 = mean_squared_error(y_val, rounded_y_pred)\n",
    "    msquaredgb.append(m2)\n",
    "    rmse = mean_squared_error(y_val, rounded_y_pred, squared=False)\n",
    "    rmsegb.append(rmse)\n",
    "    accuracy = accuracy_score(y_val, rounded_y_pred)\n",
    "    accuracyg.append(accuracy)\n",
    "\n",
    "    train_scores.append(accuracy_score(y_train, rounded_y_train_pred))\n",
    "    valid_scores.append(accuracy_score(y_val, rounded_y_pred))\n",
    "    \n",
    "    train_loss = mean_squared_error(y_train, y_train_pred)\n",
    "    val_loss = mean_squared_error(y_val, y_pred)\n",
    "\n",
    "    train_loss_values_d.append(train_loss)\n",
    "    val_loss_values_d.append(val_loss)\n",
    "\n",
    "    plt.title('train %s - %s | test %s - %s' % (train_index[0], train_index[-1], val_index[0], val_index[-1]))\n",
    "    plot_ConfusionMatrix(prediction = rounded_y_pred, true = y_val['crisis'], binary=True) # Plot confusion matrix\n",
    "    print(classification_report(y_val, rounded_y_pred))\n",
    "\n",
    "print(f\"Mean Accuracy: {np.mean(accuracyg):.6f}\") # Print MAE\n",
    "print(accuracyg)\n",
    "\n",
    "\n",
    "plt.plot(msquaredrf)\n",
    "plt.plot(rmserf)\n",
    "plt.legend(['m2', 'rmse']) \n",
    "plt.show()"
   ]
  },
  {
   "cell_type": "code",
   "execution_count": 87,
   "metadata": {},
   "outputs": [
    {
     "name": "stdout",
     "output_type": "stream",
     "text": [
      "0 occurs 42 times\n",
      "1 occurs 192 times\n",
      "0 occurs 30 times\n",
      "1 occurs 204 times\n"
     ]
    }
   ],
   "source": [
    "three_month_data = exclude_df.iloc[:, -16:-1]\n",
    "three_month_data = sm.add_constant(three_month_data)\n",
    "three_month_data = imputer.fit_transform(three_month_data.values)\n",
    "three_month_target = exclude_df[[\"crisis\"]]\n",
    "y_train_pred = model.predict(three_month_data)\n",
    "rounded_y_train_pred = np.where(y_train_pred > 0.5, 1, 0)\n",
    "# Get the unique values and their counts\n",
    "unique_values, counts = np.unique(rounded_y_train_pred, return_counts=True)\n",
    "\n",
    "# Print the results\n",
    "for value, count in zip(unique_values, counts):\n",
    "    print(f\"{value} occurs {count} times\")\n",
    "\n",
    "# Get the unique values and their counts\n",
    "unique_values, counts = np.unique(three_month_target['crisis'].values, return_counts=True)\n",
    "\n",
    "# Print the results\n",
    "for value, count in zip(unique_values, counts):\n",
    "    print(f\"{value} occurs {count} times\")\n"
   ]
  },
  {
   "cell_type": "code",
   "execution_count": 172,
   "metadata": {},
   "outputs": [
    {
     "data": {
      "application/vnd.plotly.v1+json": {
       "config": {
        "plotlyServerURL": "https://plot.ly"
       },
       "data": [
        {
         "customdata": [
          [
           "1"
          ],
          [
           "1"
          ],
          [
           "0"
          ],
          [
           "0"
          ]
         ],
         "hovertemplate": "Crisis?: %{customdata[0]}<br>Count: %{y}",
         "marker": {
          "color": "rgb(55, 83, 109)"
         },
         "name": "Actual",
         "type": "bar",
         "x": [
          2020,
          2019,
          2019,
          2020
         ],
         "y": [
          144,
          60,
          18,
          12
         ]
        },
        {
         "customdata": [
          [
           1
          ],
          [
           1
          ],
          [
           0
          ],
          [
           0
          ]
         ],
         "hovertemplate": "Crisis?: %{customdata[0]}<br>Count: %{y}",
         "marker": {
          "color": "rgb(26, 118, 255)"
         },
         "name": "Predicted",
         "type": "bar",
         "x": [
          2020,
          2019,
          2019,
          2020
         ],
         "y": [
          132,
          60,
          24,
          18
         ]
        }
       ],
       "layout": {
        "bargap": 0.3,
        "bargroupgap": 0.01,
        "barmode": "group",
        "height": 500,
        "legend": {
         "bgcolor": "rgba(255, 255, 255, 0)",
         "bordercolor": "rgba(255, 255, 255, 0)",
         "x": 0,
         "y": 1
        },
        "template": {
         "data": {
          "bar": [
           {
            "error_x": {
             "color": "#2a3f5f"
            },
            "error_y": {
             "color": "#2a3f5f"
            },
            "marker": {
             "line": {
              "color": "#E5ECF6",
              "width": 0.5
             },
             "pattern": {
              "fillmode": "overlay",
              "size": 10,
              "solidity": 0.2
             }
            },
            "type": "bar"
           }
          ],
          "barpolar": [
           {
            "marker": {
             "line": {
              "color": "#E5ECF6",
              "width": 0.5
             },
             "pattern": {
              "fillmode": "overlay",
              "size": 10,
              "solidity": 0.2
             }
            },
            "type": "barpolar"
           }
          ],
          "carpet": [
           {
            "aaxis": {
             "endlinecolor": "#2a3f5f",
             "gridcolor": "white",
             "linecolor": "white",
             "minorgridcolor": "white",
             "startlinecolor": "#2a3f5f"
            },
            "baxis": {
             "endlinecolor": "#2a3f5f",
             "gridcolor": "white",
             "linecolor": "white",
             "minorgridcolor": "white",
             "startlinecolor": "#2a3f5f"
            },
            "type": "carpet"
           }
          ],
          "choropleth": [
           {
            "colorbar": {
             "outlinewidth": 0,
             "ticks": ""
            },
            "type": "choropleth"
           }
          ],
          "contour": [
           {
            "colorbar": {
             "outlinewidth": 0,
             "ticks": ""
            },
            "colorscale": [
             [
              0,
              "#0d0887"
             ],
             [
              0.1111111111111111,
              "#46039f"
             ],
             [
              0.2222222222222222,
              "#7201a8"
             ],
             [
              0.3333333333333333,
              "#9c179e"
             ],
             [
              0.4444444444444444,
              "#bd3786"
             ],
             [
              0.5555555555555556,
              "#d8576b"
             ],
             [
              0.6666666666666666,
              "#ed7953"
             ],
             [
              0.7777777777777778,
              "#fb9f3a"
             ],
             [
              0.8888888888888888,
              "#fdca26"
             ],
             [
              1,
              "#f0f921"
             ]
            ],
            "type": "contour"
           }
          ],
          "contourcarpet": [
           {
            "colorbar": {
             "outlinewidth": 0,
             "ticks": ""
            },
            "type": "contourcarpet"
           }
          ],
          "heatmap": [
           {
            "colorbar": {
             "outlinewidth": 0,
             "ticks": ""
            },
            "colorscale": [
             [
              0,
              "#0d0887"
             ],
             [
              0.1111111111111111,
              "#46039f"
             ],
             [
              0.2222222222222222,
              "#7201a8"
             ],
             [
              0.3333333333333333,
              "#9c179e"
             ],
             [
              0.4444444444444444,
              "#bd3786"
             ],
             [
              0.5555555555555556,
              "#d8576b"
             ],
             [
              0.6666666666666666,
              "#ed7953"
             ],
             [
              0.7777777777777778,
              "#fb9f3a"
             ],
             [
              0.8888888888888888,
              "#fdca26"
             ],
             [
              1,
              "#f0f921"
             ]
            ],
            "type": "heatmap"
           }
          ],
          "heatmapgl": [
           {
            "colorbar": {
             "outlinewidth": 0,
             "ticks": ""
            },
            "colorscale": [
             [
              0,
              "#0d0887"
             ],
             [
              0.1111111111111111,
              "#46039f"
             ],
             [
              0.2222222222222222,
              "#7201a8"
             ],
             [
              0.3333333333333333,
              "#9c179e"
             ],
             [
              0.4444444444444444,
              "#bd3786"
             ],
             [
              0.5555555555555556,
              "#d8576b"
             ],
             [
              0.6666666666666666,
              "#ed7953"
             ],
             [
              0.7777777777777778,
              "#fb9f3a"
             ],
             [
              0.8888888888888888,
              "#fdca26"
             ],
             [
              1,
              "#f0f921"
             ]
            ],
            "type": "heatmapgl"
           }
          ],
          "histogram": [
           {
            "marker": {
             "pattern": {
              "fillmode": "overlay",
              "size": 10,
              "solidity": 0.2
             }
            },
            "type": "histogram"
           }
          ],
          "histogram2d": [
           {
            "colorbar": {
             "outlinewidth": 0,
             "ticks": ""
            },
            "colorscale": [
             [
              0,
              "#0d0887"
             ],
             [
              0.1111111111111111,
              "#46039f"
             ],
             [
              0.2222222222222222,
              "#7201a8"
             ],
             [
              0.3333333333333333,
              "#9c179e"
             ],
             [
              0.4444444444444444,
              "#bd3786"
             ],
             [
              0.5555555555555556,
              "#d8576b"
             ],
             [
              0.6666666666666666,
              "#ed7953"
             ],
             [
              0.7777777777777778,
              "#fb9f3a"
             ],
             [
              0.8888888888888888,
              "#fdca26"
             ],
             [
              1,
              "#f0f921"
             ]
            ],
            "type": "histogram2d"
           }
          ],
          "histogram2dcontour": [
           {
            "colorbar": {
             "outlinewidth": 0,
             "ticks": ""
            },
            "colorscale": [
             [
              0,
              "#0d0887"
             ],
             [
              0.1111111111111111,
              "#46039f"
             ],
             [
              0.2222222222222222,
              "#7201a8"
             ],
             [
              0.3333333333333333,
              "#9c179e"
             ],
             [
              0.4444444444444444,
              "#bd3786"
             ],
             [
              0.5555555555555556,
              "#d8576b"
             ],
             [
              0.6666666666666666,
              "#ed7953"
             ],
             [
              0.7777777777777778,
              "#fb9f3a"
             ],
             [
              0.8888888888888888,
              "#fdca26"
             ],
             [
              1,
              "#f0f921"
             ]
            ],
            "type": "histogram2dcontour"
           }
          ],
          "mesh3d": [
           {
            "colorbar": {
             "outlinewidth": 0,
             "ticks": ""
            },
            "type": "mesh3d"
           }
          ],
          "parcoords": [
           {
            "line": {
             "colorbar": {
              "outlinewidth": 0,
              "ticks": ""
             }
            },
            "type": "parcoords"
           }
          ],
          "pie": [
           {
            "automargin": true,
            "type": "pie"
           }
          ],
          "scatter": [
           {
            "fillpattern": {
             "fillmode": "overlay",
             "size": 10,
             "solidity": 0.2
            },
            "type": "scatter"
           }
          ],
          "scatter3d": [
           {
            "line": {
             "colorbar": {
              "outlinewidth": 0,
              "ticks": ""
             }
            },
            "marker": {
             "colorbar": {
              "outlinewidth": 0,
              "ticks": ""
             }
            },
            "type": "scatter3d"
           }
          ],
          "scattercarpet": [
           {
            "marker": {
             "colorbar": {
              "outlinewidth": 0,
              "ticks": ""
             }
            },
            "type": "scattercarpet"
           }
          ],
          "scattergeo": [
           {
            "marker": {
             "colorbar": {
              "outlinewidth": 0,
              "ticks": ""
             }
            },
            "type": "scattergeo"
           }
          ],
          "scattergl": [
           {
            "marker": {
             "colorbar": {
              "outlinewidth": 0,
              "ticks": ""
             }
            },
            "type": "scattergl"
           }
          ],
          "scattermapbox": [
           {
            "marker": {
             "colorbar": {
              "outlinewidth": 0,
              "ticks": ""
             }
            },
            "type": "scattermapbox"
           }
          ],
          "scatterpolar": [
           {
            "marker": {
             "colorbar": {
              "outlinewidth": 0,
              "ticks": ""
             }
            },
            "type": "scatterpolar"
           }
          ],
          "scatterpolargl": [
           {
            "marker": {
             "colorbar": {
              "outlinewidth": 0,
              "ticks": ""
             }
            },
            "type": "scatterpolargl"
           }
          ],
          "scatterternary": [
           {
            "marker": {
             "colorbar": {
              "outlinewidth": 0,
              "ticks": ""
             }
            },
            "type": "scatterternary"
           }
          ],
          "surface": [
           {
            "colorbar": {
             "outlinewidth": 0,
             "ticks": ""
            },
            "colorscale": [
             [
              0,
              "#0d0887"
             ],
             [
              0.1111111111111111,
              "#46039f"
             ],
             [
              0.2222222222222222,
              "#7201a8"
             ],
             [
              0.3333333333333333,
              "#9c179e"
             ],
             [
              0.4444444444444444,
              "#bd3786"
             ],
             [
              0.5555555555555556,
              "#d8576b"
             ],
             [
              0.6666666666666666,
              "#ed7953"
             ],
             [
              0.7777777777777778,
              "#fb9f3a"
             ],
             [
              0.8888888888888888,
              "#fdca26"
             ],
             [
              1,
              "#f0f921"
             ]
            ],
            "type": "surface"
           }
          ],
          "table": [
           {
            "cells": {
             "fill": {
              "color": "#EBF0F8"
             },
             "line": {
              "color": "white"
             }
            },
            "header": {
             "fill": {
              "color": "#C8D4E3"
             },
             "line": {
              "color": "white"
             }
            },
            "type": "table"
           }
          ]
         },
         "layout": {
          "annotationdefaults": {
           "arrowcolor": "#2a3f5f",
           "arrowhead": 0,
           "arrowwidth": 1
          },
          "autotypenumbers": "strict",
          "coloraxis": {
           "colorbar": {
            "outlinewidth": 0,
            "ticks": ""
           }
          },
          "colorscale": {
           "diverging": [
            [
             0,
             "#8e0152"
            ],
            [
             0.1,
             "#c51b7d"
            ],
            [
             0.2,
             "#de77ae"
            ],
            [
             0.3,
             "#f1b6da"
            ],
            [
             0.4,
             "#fde0ef"
            ],
            [
             0.5,
             "#f7f7f7"
            ],
            [
             0.6,
             "#e6f5d0"
            ],
            [
             0.7,
             "#b8e186"
            ],
            [
             0.8,
             "#7fbc41"
            ],
            [
             0.9,
             "#4d9221"
            ],
            [
             1,
             "#276419"
            ]
           ],
           "sequential": [
            [
             0,
             "#0d0887"
            ],
            [
             0.1111111111111111,
             "#46039f"
            ],
            [
             0.2222222222222222,
             "#7201a8"
            ],
            [
             0.3333333333333333,
             "#9c179e"
            ],
            [
             0.4444444444444444,
             "#bd3786"
            ],
            [
             0.5555555555555556,
             "#d8576b"
            ],
            [
             0.6666666666666666,
             "#ed7953"
            ],
            [
             0.7777777777777778,
             "#fb9f3a"
            ],
            [
             0.8888888888888888,
             "#fdca26"
            ],
            [
             1,
             "#f0f921"
            ]
           ],
           "sequentialminus": [
            [
             0,
             "#0d0887"
            ],
            [
             0.1111111111111111,
             "#46039f"
            ],
            [
             0.2222222222222222,
             "#7201a8"
            ],
            [
             0.3333333333333333,
             "#9c179e"
            ],
            [
             0.4444444444444444,
             "#bd3786"
            ],
            [
             0.5555555555555556,
             "#d8576b"
            ],
            [
             0.6666666666666666,
             "#ed7953"
            ],
            [
             0.7777777777777778,
             "#fb9f3a"
            ],
            [
             0.8888888888888888,
             "#fdca26"
            ],
            [
             1,
             "#f0f921"
            ]
           ]
          },
          "colorway": [
           "#636efa",
           "#EF553B",
           "#00cc96",
           "#ab63fa",
           "#FFA15A",
           "#19d3f3",
           "#FF6692",
           "#B6E880",
           "#FF97FF",
           "#FECB52"
          ],
          "font": {
           "color": "#2a3f5f"
          },
          "geo": {
           "bgcolor": "white",
           "lakecolor": "white",
           "landcolor": "#E5ECF6",
           "showlakes": true,
           "showland": true,
           "subunitcolor": "white"
          },
          "hoverlabel": {
           "align": "left"
          },
          "hovermode": "closest",
          "mapbox": {
           "style": "light"
          },
          "paper_bgcolor": "white",
          "plot_bgcolor": "#E5ECF6",
          "polar": {
           "angularaxis": {
            "gridcolor": "white",
            "linecolor": "white",
            "ticks": ""
           },
           "bgcolor": "#E5ECF6",
           "radialaxis": {
            "gridcolor": "white",
            "linecolor": "white",
            "ticks": ""
           }
          },
          "scene": {
           "xaxis": {
            "backgroundcolor": "#E5ECF6",
            "gridcolor": "white",
            "gridwidth": 2,
            "linecolor": "white",
            "showbackground": true,
            "ticks": "",
            "zerolinecolor": "white"
           },
           "yaxis": {
            "backgroundcolor": "#E5ECF6",
            "gridcolor": "white",
            "gridwidth": 2,
            "linecolor": "white",
            "showbackground": true,
            "ticks": "",
            "zerolinecolor": "white"
           },
           "zaxis": {
            "backgroundcolor": "#E5ECF6",
            "gridcolor": "white",
            "gridwidth": 2,
            "linecolor": "white",
            "showbackground": true,
            "ticks": "",
            "zerolinecolor": "white"
           }
          },
          "shapedefaults": {
           "line": {
            "color": "#2a3f5f"
           }
          },
          "ternary": {
           "aaxis": {
            "gridcolor": "white",
            "linecolor": "white",
            "ticks": ""
           },
           "baxis": {
            "gridcolor": "white",
            "linecolor": "white",
            "ticks": ""
           },
           "bgcolor": "#E5ECF6",
           "caxis": {
            "gridcolor": "white",
            "linecolor": "white",
            "ticks": ""
           }
          },
          "title": {
           "x": 0.05
          },
          "xaxis": {
           "automargin": true,
           "gridcolor": "white",
           "linecolor": "white",
           "ticks": "",
           "title": {
            "standoff": 15
           },
           "zerolinecolor": "white",
           "zerolinewidth": 2
          },
          "yaxis": {
           "automargin": true,
           "gridcolor": "white",
           "linecolor": "white",
           "ticks": "",
           "title": {
            "standoff": 15
           },
           "zerolinecolor": "white",
           "zerolinewidth": 2
          }
         }
        },
        "title": {
         "text": "3-month Future Prediction Performance Gradient Boosting"
        },
        "width": 600,
        "xaxis": {
         "tickfont": {
          "size": 14
         },
         "title": {
          "font": {
           "size": 16
          },
          "text": "Year"
         }
        },
        "yaxis": {
         "tickfont": {
          "size": 14
         },
         "title": {
          "font": {
           "size": 16
          },
          "text": "Count of Occurrences"
         }
        }
       }
      }
     },
     "metadata": {},
     "output_type": "display_data"
    }
   ],
   "source": [
    "import plotly.express as px\n",
    "import plotly.graph_objects as go\n",
    "\n",
    "predicted_df = exclude_df\n",
    "predicted_df['predicted'] = rounded_y_train_pred.tolist()\n",
    "\n",
    "b = predicted_df[['year', 'crisis']].value_counts()\n",
    "e = predicted_df[['year', \"predicted\"]].value_counts()\n",
    "c = b.to_frame(name='count')\n",
    "e = e.to_frame(name='count').reset_index()\n",
    "d = c.reset_index()\n",
    "\n",
    "plot = go.Figure()\n",
    "plot.add_trace(go.Bar(x=d[\"year\"],\n",
    "                y=d[\"count\"],\n",
    "                name='Actual',\n",
    "                marker_color='rgb(55, 83, 109)',\n",
    "                customdata=np.transpose([d['crisis'].tolist()]),\n",
    "                hovertemplate=\"<br>\".join([\n",
    "                \"Crisis?: %{customdata[0]}\",\n",
    "                \"Count: %{y}\"\n",
    "        ])\n",
    "                ))\n",
    "plot.add_trace(go.Bar(x=d[\"year\"],\n",
    "                y=e[\"count\"],\n",
    "                name='Predicted',\n",
    "                marker_color='rgb(26, 118, 255)',\n",
    "                customdata=np.transpose([e['predicted'].tolist()]),\n",
    "                hovertemplate=\"<br>\".join([\n",
    "                \"Crisis?: %{customdata[0]}\",\n",
    "                \"Count: %{y}\"\n",
    "        ])\n",
    "                ))\n",
    "\n",
    "plot.update_layout(\n",
    "    title='3-month Future Prediction Performance Gradient Boosting',\n",
    "    width=600,\n",
    "    height=500,\n",
    "    yaxis=dict(\n",
    "        title='Count of Occurrences',\n",
    "        titlefont_size=16,\n",
    "        tickfont_size=14,\n",
    "    ),\n",
    "    xaxis=dict(\n",
    "        title='Year',\n",
    "        titlefont_size=16,\n",
    "        tickfont_size=14,\n",
    "    ),\n",
    "    legend=dict(\n",
    "        x=0,\n",
    "        y=1.0,\n",
    "        bgcolor='rgba(255, 255, 255, 0)',\n",
    "        bordercolor='rgba(255, 255, 255, 0)'\n",
    "    ),\n",
    "    barmode='group',\n",
    "    bargap=0.3, # gap between bars of adjacent location coordinates.\n",
    "    bargroupgap=0.01 # gap between bars of the same location coordinate.\n",
    ")\n",
    "\n",
    "plot.show()"
   ]
  },
  {
   "cell_type": "code",
   "execution_count": null,
   "metadata": {},
   "outputs": [],
   "source": [
    "import plotly.express as px\n",
    "predicted = px.bar(predicted_df, x=\"year\", y=\"count\", color=\"ipc\", barmode='group', title='IPC Growth Over The Years')"
   ]
  },
  {
   "cell_type": "markdown",
   "metadata": {},
   "source": [
    "### OVERFITTING CHECK FOR GRADIENT BOOSTING REGRESSOR"
   ]
  },
  {
   "cell_type": "code",
   "execution_count": 59,
   "metadata": {
    "ExecuteTime": {
     "end_time": "2023-10-15T19:04:54.980435960Z",
     "start_time": "2023-10-15T19:04:54.830028081Z"
    },
    "collapsed": false
   },
   "outputs": [
    {
     "data": {
      "image/png": "[encoded data removed]",
      "text/plain": [
       "<Figure size 720x432 with 1 Axes>"
      ]
     },
     "metadata": {
      "needs_background": "light"
     },
     "output_type": "display_data"
    }
   ],
   "source": [
    "# After the loop, you can plot training and validation loss values for each split\n",
    "plt.figure(figsize=(10, 6))\n",
    "plt.plot(range(1, len(train_loss_values_w) + 1), train_loss_values_w, marker='o', label='Training Loss')\n",
    "plt.plot(range(1, len(val_loss_values_w) + 1), val_loss_values_w, marker='o', label='Validation Loss')\n",
    "plt.xlabel('Split')\n",
    "plt.ylabel('Log Loss')\n",
    "plt.title('Training and Validation Loss for Each Split - Weighted Population - GBoost')\n",
    "plt.legend()\n",
    "plt.grid(True)\n",
    "plt.show()\n"
   ]
  },
  {
   "cell_type": "code",
   "execution_count": 60,
   "metadata": {
    "ExecuteTime": {
     "end_time": "2023-10-15T19:04:01.836770456Z",
     "start_time": "2023-10-15T19:04:01.701737705Z"
    },
    "collapsed": false
   },
   "outputs": [
    {
     "data": {
      "image/png": "[encoded data removed]",
      "text/plain": [
       "<Figure size 720x432 with 1 Axes>"
      ]
     },
     "metadata": {
      "needs_background": "light"
     },
     "output_type": "display_data"
    }
   ],
   "source": [
    "# After the loop, you can plot training and validation loss values for each split\n",
    "plt.figure(figsize=(10, 6))\n",
    "plt.plot(range(1, len(train_loss_values_d) + 1), train_loss_values_d, marker='o', label='Training Loss')\n",
    "plt.plot(range(1, len(val_loss_values_d) + 1), val_loss_values_d, marker='o', label='Validation Loss')\n",
    "plt.xlabel('Split')\n",
    "plt.ylabel('Log Loss')\n",
    "plt.title('Training and Validation Loss for Each Split - Weighted Population - GBoost')\n",
    "plt.legend()\n",
    "plt.grid(True)\n",
    "plt.show()\n"
   ]
  },
  {
   "cell_type": "code",
   "execution_count": 42,
   "metadata": {},
   "outputs": [
    {
     "data": {
      "image/png": "[encoded data removed]",
      "text/plain": [
       "<Figure size 720x432 with 1 Axes>"
      ]
     },
     "metadata": {
      "needs_background": "light"
     },
     "output_type": "display_data"
    }
   ],
   "source": [
    "# Plots learning curve to check if there was overfitting\n",
    "plt.figure(figsize=(10, 6))\n",
    "plt.title(\"Learning Curves\")\n",
    "plt.xlabel(\"Training Folds\")\n",
    "plt.ylabel(\"Accuracy\")\n",
    "plt.grid()\n",
    "plt.plot(range(1, 5 + 1), train_scores, 'o-', color=\"r\", label=\"Training score\")\n",
    "plt.plot(range(1, 5 + 1), valid_scores, 'o-', color=\"g\", label=\"Validation score\")\n",
    "plt.legend(loc=\"best\")\n",
    "plt.show()"
   ]
  },
  {
   "cell_type": "code",
   "execution_count": 56,
   "metadata": {},
   "outputs": [
    {
     "name": "stderr",
     "output_type": "stream",
     "text": [
      "c:\\Users\\Rafi\\AppData\\Local\\Programs\\Python\\Python310\\lib\\site-packages\\sklearn\\ensemble\\_forest.py:400: FutureWarning: Criterion 'mse' was deprecated in v1.0 and will be removed in version 1.2. Use `criterion='squared_error'` which is equivalent.\n",
      "  warn(\n",
      "c:\\Users\\Rafi\\AppData\\Local\\Programs\\Python\\Python310\\lib\\site-packages\\sklearn\\ensemble\\_forest.py:416: FutureWarning: `max_features='auto'` has been deprecated in 1.1 and will be removed in 1.3. To keep the past behaviour, explicitly set `max_features=1.0` or remove this parameter as it is also the default value for RandomForestRegressors and ExtraTreesRegressors.\n",
      "  warn(\n",
      "c:\\Users\\Rafi\\AppData\\Local\\Programs\\Python\\Python310\\lib\\site-packages\\sklearn\\ensemble\\_forest.py:400: FutureWarning: Criterion 'mse' was deprecated in v1.0 and will be removed in version 1.2. Use `criterion='squared_error'` which is equivalent.\n",
      "  warn(\n",
      "c:\\Users\\Rafi\\AppData\\Local\\Programs\\Python\\Python310\\lib\\site-packages\\sklearn\\ensemble\\_forest.py:416: FutureWarning: `max_features='auto'` has been deprecated in 1.1 and will be removed in 1.3. To keep the past behaviour, explicitly set `max_features=1.0` or remove this parameter as it is also the default value for RandomForestRegressors and ExtraTreesRegressors.\n",
      "  warn(\n",
      "c:\\Users\\Rafi\\AppData\\Local\\Programs\\Python\\Python310\\lib\\site-packages\\sklearn\\ensemble\\_forest.py:400: FutureWarning: Criterion 'mse' was deprecated in v1.0 and will be removed in version 1.2. Use `criterion='squared_error'` which is equivalent.\n",
      "  warn(\n",
      "c:\\Users\\Rafi\\AppData\\Local\\Programs\\Python\\Python310\\lib\\site-packages\\sklearn\\ensemble\\_forest.py:416: FutureWarning: `max_features='auto'` has been deprecated in 1.1 and will be removed in 1.3. To keep the past behaviour, explicitly set `max_features=1.0` or remove this parameter as it is also the default value for RandomForestRegressors and ExtraTreesRegressors.\n",
      "  warn(\n",
      "c:\\Users\\Rafi\\AppData\\Local\\Programs\\Python\\Python310\\lib\\site-packages\\sklearn\\ensemble\\_forest.py:400: FutureWarning: Criterion 'mse' was deprecated in v1.0 and will be removed in version 1.2. Use `criterion='squared_error'` which is equivalent.\n",
      "  warn(\n",
      "c:\\Users\\Rafi\\AppData\\Local\\Programs\\Python\\Python310\\lib\\site-packages\\sklearn\\ensemble\\_forest.py:416: FutureWarning: `max_features='auto'` has been deprecated in 1.1 and will be removed in 1.3. To keep the past behaviour, explicitly set `max_features=1.0` or remove this parameter as it is also the default value for RandomForestRegressors and ExtraTreesRegressors.\n",
      "  warn(\n",
      "c:\\Users\\Rafi\\AppData\\Local\\Programs\\Python\\Python310\\lib\\site-packages\\sklearn\\ensemble\\_forest.py:400: FutureWarning: Criterion 'mse' was deprecated in v1.0 and will be removed in version 1.2. Use `criterion='squared_error'` which is equivalent.\n",
      "  warn(\n",
      "c:\\Users\\Rafi\\AppData\\Local\\Programs\\Python\\Python310\\lib\\site-packages\\sklearn\\ensemble\\_forest.py:416: FutureWarning: `max_features='auto'` has been deprecated in 1.1 and will be removed in 1.3. To keep the past behaviour, explicitly set `max_features=1.0` or remove this parameter as it is also the default value for RandomForestRegressors and ExtraTreesRegressors.\n",
      "  warn(\n",
      "c:\\Users\\Rafi\\AppData\\Local\\Programs\\Python\\Python310\\lib\\site-packages\\sklearn\\ensemble\\_forest.py:400: FutureWarning: Criterion 'mse' was deprecated in v1.0 and will be removed in version 1.2. Use `criterion='squared_error'` which is equivalent.\n",
      "  warn(\n",
      "c:\\Users\\Rafi\\AppData\\Local\\Programs\\Python\\Python310\\lib\\site-packages\\sklearn\\ensemble\\_forest.py:416: FutureWarning: `max_features='auto'` has been deprecated in 1.1 and will be removed in 1.3. To keep the past behaviour, explicitly set `max_features=1.0` or remove this parameter as it is also the default value for RandomForestRegressors and ExtraTreesRegressors.\n",
      "  warn(\n",
      "c:\\Users\\Rafi\\AppData\\Local\\Programs\\Python\\Python310\\lib\\site-packages\\sklearn\\ensemble\\_forest.py:400: FutureWarning: Criterion 'mse' was deprecated in v1.0 and will be removed in version 1.2. Use `criterion='squared_error'` which is equivalent.\n",
      "  warn(\n",
      "c:\\Users\\Rafi\\AppData\\Local\\Programs\\Python\\Python310\\lib\\site-packages\\sklearn\\ensemble\\_forest.py:416: FutureWarning: `max_features='auto'` has been deprecated in 1.1 and will be removed in 1.3. To keep the past behaviour, explicitly set `max_features=1.0` or remove this parameter as it is also the default value for RandomForestRegressors and ExtraTreesRegressors.\n",
      "  warn(\n",
      "c:\\Users\\Rafi\\AppData\\Local\\Programs\\Python\\Python310\\lib\\site-packages\\sklearn\\ensemble\\_forest.py:400: FutureWarning: Criterion 'mse' was deprecated in v1.0 and will be removed in version 1.2. Use `criterion='squared_error'` which is equivalent.\n",
      "  warn(\n",
      "c:\\Users\\Rafi\\AppData\\Local\\Programs\\Python\\Python310\\lib\\site-packages\\sklearn\\ensemble\\_forest.py:416: FutureWarning: `max_features='auto'` has been deprecated in 1.1 and will be removed in 1.3. To keep the past behaviour, explicitly set `max_features=1.0` or remove this parameter as it is also the default value for RandomForestRegressors and ExtraTreesRegressors.\n",
      "  warn(\n",
      "c:\\Users\\Rafi\\AppData\\Local\\Programs\\Python\\Python310\\lib\\site-packages\\sklearn\\ensemble\\_forest.py:400: FutureWarning: Criterion 'mse' was deprecated in v1.0 and will be removed in version 1.2. Use `criterion='squared_error'` which is equivalent.\n",
      "  warn(\n",
      "c:\\Users\\Rafi\\AppData\\Local\\Programs\\Python\\Python310\\lib\\site-packages\\sklearn\\ensemble\\_forest.py:416: FutureWarning: `max_features='auto'` has been deprecated in 1.1 and will be removed in 1.3. To keep the past behaviour, explicitly set `max_features=1.0` or remove this parameter as it is also the default value for RandomForestRegressors and ExtraTreesRegressors.\n",
      "  warn(\n",
      "c:\\Users\\Rafi\\AppData\\Local\\Programs\\Python\\Python310\\lib\\site-packages\\sklearn\\ensemble\\_forest.py:400: FutureWarning: Criterion 'mse' was deprecated in v1.0 and will be removed in version 1.2. Use `criterion='squared_error'` which is equivalent.\n",
      "  warn(\n",
      "c:\\Users\\Rafi\\AppData\\Local\\Programs\\Python\\Python310\\lib\\site-packages\\sklearn\\ensemble\\_forest.py:416: FutureWarning: `max_features='auto'` has been deprecated in 1.1 and will be removed in 1.3. To keep the past behaviour, explicitly set `max_features=1.0` or remove this parameter as it is also the default value for RandomForestRegressors and ExtraTreesRegressors.\n",
      "  warn(\n",
      "c:\\Users\\Rafi\\AppData\\Local\\Programs\\Python\\Python310\\lib\\site-packages\\sklearn\\ensemble\\_forest.py:400: FutureWarning: Criterion 'mse' was deprecated in v1.0 and will be removed in version 1.2. Use `criterion='squared_error'` which is equivalent.\n",
      "  warn(\n",
      "c:\\Users\\Rafi\\AppData\\Local\\Programs\\Python\\Python310\\lib\\site-packages\\sklearn\\ensemble\\_forest.py:416: FutureWarning: `max_features='auto'` has been deprecated in 1.1 and will be removed in 1.3. To keep the past behaviour, explicitly set `max_features=1.0` or remove this parameter as it is also the default value for RandomForestRegressors and ExtraTreesRegressors.\n",
      "  warn(\n",
      "c:\\Users\\Rafi\\AppData\\Local\\Programs\\Python\\Python310\\lib\\site-packages\\sklearn\\ensemble\\_forest.py:400: FutureWarning: Criterion 'mse' was deprecated in v1.0 and will be removed in version 1.2. Use `criterion='squared_error'` which is equivalent.\n",
      "  warn(\n",
      "c:\\Users\\Rafi\\AppData\\Local\\Programs\\Python\\Python310\\lib\\site-packages\\sklearn\\ensemble\\_forest.py:416: FutureWarning: `max_features='auto'` has been deprecated in 1.1 and will be removed in 1.3. To keep the past behaviour, explicitly set `max_features=1.0` or remove this parameter as it is also the default value for RandomForestRegressors and ExtraTreesRegressors.\n",
      "  warn(\n",
      "c:\\Users\\Rafi\\AppData\\Local\\Programs\\Python\\Python310\\lib\\site-packages\\sklearn\\ensemble\\_forest.py:400: FutureWarning: Criterion 'mse' was deprecated in v1.0 and will be removed in version 1.2. Use `criterion='squared_error'` which is equivalent.\n",
      "  warn(\n",
      "c:\\Users\\Rafi\\AppData\\Local\\Programs\\Python\\Python310\\lib\\site-packages\\sklearn\\ensemble\\_forest.py:416: FutureWarning: `max_features='auto'` has been deprecated in 1.1 and will be removed in 1.3. To keep the past behaviour, explicitly set `max_features=1.0` or remove this parameter as it is also the default value for RandomForestRegressors and ExtraTreesRegressors.\n",
      "  warn(\n",
      "c:\\Users\\Rafi\\AppData\\Local\\Programs\\Python\\Python310\\lib\\site-packages\\sklearn\\ensemble\\_forest.py:400: FutureWarning: Criterion 'mse' was deprecated in v1.0 and will be removed in version 1.2. Use `criterion='squared_error'` which is equivalent.\n",
      "  warn(\n",
      "c:\\Users\\Rafi\\AppData\\Local\\Programs\\Python\\Python310\\lib\\site-packages\\sklearn\\ensemble\\_forest.py:416: FutureWarning: `max_features='auto'` has been deprecated in 1.1 and will be removed in 1.3. To keep the past behaviour, explicitly set `max_features=1.0` or remove this parameter as it is also the default value for RandomForestRegressors and ExtraTreesRegressors.\n",
      "  warn(\n",
      "c:\\Users\\Rafi\\AppData\\Local\\Programs\\Python\\Python310\\lib\\site-packages\\sklearn\\ensemble\\_forest.py:400: FutureWarning: Criterion 'mse' was deprecated in v1.0 and will be removed in version 1.2. Use `criterion='squared_error'` which is equivalent.\n",
      "  warn(\n",
      "c:\\Users\\Rafi\\AppData\\Local\\Programs\\Python\\Python310\\lib\\site-packages\\sklearn\\ensemble\\_forest.py:416: FutureWarning: `max_features='auto'` has been deprecated in 1.1 and will be removed in 1.3. To keep the past behaviour, explicitly set `max_features=1.0` or remove this parameter as it is also the default value for RandomForestRegressors and ExtraTreesRegressors.\n",
      "  warn(\n"
     ]
    },
    {
     "name": "stdout",
     "output_type": "stream",
     "text": [
      "Iteration: 0\n"
     ]
    },
    {
     "name": "stderr",
     "output_type": "stream",
     "text": [
      "c:\\Users\\Rafi\\AppData\\Local\\Programs\\Python\\Python310\\lib\\site-packages\\sklearn\\ensemble\\_forest.py:400: FutureWarning: Criterion 'mse' was deprecated in v1.0 and will be removed in version 1.2. Use `criterion='squared_error'` which is equivalent.\n",
      "  warn(\n",
      "c:\\Users\\Rafi\\AppData\\Local\\Programs\\Python\\Python310\\lib\\site-packages\\sklearn\\ensemble\\_forest.py:416: FutureWarning: `max_features='auto'` has been deprecated in 1.1 and will be removed in 1.3. To keep the past behaviour, explicitly set `max_features=1.0` or remove this parameter as it is also the default value for RandomForestRegressors and ExtraTreesRegressors.\n",
      "  warn(\n",
      "c:\\Users\\Rafi\\AppData\\Local\\Programs\\Python\\Python310\\lib\\site-packages\\sklearn\\ensemble\\_forest.py:400: FutureWarning: Criterion 'mse' was deprecated in v1.0 and will be removed in version 1.2. Use `criterion='squared_error'` which is equivalent.\n",
      "  warn(\n",
      "c:\\Users\\Rafi\\AppData\\Local\\Programs\\Python\\Python310\\lib\\site-packages\\sklearn\\ensemble\\_forest.py:416: FutureWarning: `max_features='auto'` has been deprecated in 1.1 and will be removed in 1.3. To keep the past behaviour, explicitly set `max_features=1.0` or remove this parameter as it is also the default value for RandomForestRegressors and ExtraTreesRegressors.\n",
      "  warn(\n",
      "c:\\Users\\Rafi\\AppData\\Local\\Programs\\Python\\Python310\\lib\\site-packages\\sklearn\\ensemble\\_forest.py:400: FutureWarning: Criterion 'mse' was deprecated in v1.0 and will be removed in version 1.2. Use `criterion='squared_error'` which is equivalent.\n",
      "  warn(\n",
      "c:\\Users\\Rafi\\AppData\\Local\\Programs\\Python\\Python310\\lib\\site-packages\\sklearn\\ensemble\\_forest.py:416: FutureWarning: `max_features='auto'` has been deprecated in 1.1 and will be removed in 1.3. To keep the past behaviour, explicitly set `max_features=1.0` or remove this parameter as it is also the default value for RandomForestRegressors and ExtraTreesRegressors.\n",
      "  warn(\n",
      "c:\\Users\\Rafi\\AppData\\Local\\Programs\\Python\\Python310\\lib\\site-packages\\sklearn\\ensemble\\_forest.py:400: FutureWarning: Criterion 'mse' was deprecated in v1.0 and will be removed in version 1.2. Use `criterion='squared_error'` which is equivalent.\n",
      "  warn(\n",
      "c:\\Users\\Rafi\\AppData\\Local\\Programs\\Python\\Python310\\lib\\site-packages\\sklearn\\ensemble\\_forest.py:416: FutureWarning: `max_features='auto'` has been deprecated in 1.1 and will be removed in 1.3. To keep the past behaviour, explicitly set `max_features=1.0` or remove this parameter as it is also the default value for RandomForestRegressors and ExtraTreesRegressors.\n",
      "  warn(\n",
      "c:\\Users\\Rafi\\AppData\\Local\\Programs\\Python\\Python310\\lib\\site-packages\\sklearn\\ensemble\\_forest.py:400: FutureWarning: Criterion 'mse' was deprecated in v1.0 and will be removed in version 1.2. Use `criterion='squared_error'` which is equivalent.\n",
      "  warn(\n",
      "c:\\Users\\Rafi\\AppData\\Local\\Programs\\Python\\Python310\\lib\\site-packages\\sklearn\\ensemble\\_forest.py:416: FutureWarning: `max_features='auto'` has been deprecated in 1.1 and will be removed in 1.3. To keep the past behaviour, explicitly set `max_features=1.0` or remove this parameter as it is also the default value for RandomForestRegressors and ExtraTreesRegressors.\n",
      "  warn(\n",
      "c:\\Users\\Rafi\\AppData\\Local\\Programs\\Python\\Python310\\lib\\site-packages\\sklearn\\ensemble\\_forest.py:400: FutureWarning: Criterion 'mse' was deprecated in v1.0 and will be removed in version 1.2. Use `criterion='squared_error'` which is equivalent.\n",
      "  warn(\n",
      "c:\\Users\\Rafi\\AppData\\Local\\Programs\\Python\\Python310\\lib\\site-packages\\sklearn\\ensemble\\_forest.py:416: FutureWarning: `max_features='auto'` has been deprecated in 1.1 and will be removed in 1.3. To keep the past behaviour, explicitly set `max_features=1.0` or remove this parameter as it is also the default value for RandomForestRegressors and ExtraTreesRegressors.\n",
      "  warn(\n",
      "c:\\Users\\Rafi\\AppData\\Local\\Programs\\Python\\Python310\\lib\\site-packages\\sklearn\\ensemble\\_forest.py:400: FutureWarning: Criterion 'mse' was deprecated in v1.0 and will be removed in version 1.2. Use `criterion='squared_error'` which is equivalent.\n",
      "  warn(\n",
      "c:\\Users\\Rafi\\AppData\\Local\\Programs\\Python\\Python310\\lib\\site-packages\\sklearn\\ensemble\\_forest.py:416: FutureWarning: `max_features='auto'` has been deprecated in 1.1 and will be removed in 1.3. To keep the past behaviour, explicitly set `max_features=1.0` or remove this parameter as it is also the default value for RandomForestRegressors and ExtraTreesRegressors.\n",
      "  warn(\n",
      "c:\\Users\\Rafi\\AppData\\Local\\Programs\\Python\\Python310\\lib\\site-packages\\sklearn\\ensemble\\_forest.py:400: FutureWarning: Criterion 'mse' was deprecated in v1.0 and will be removed in version 1.2. Use `criterion='squared_error'` which is equivalent.\n",
      "  warn(\n",
      "c:\\Users\\Rafi\\AppData\\Local\\Programs\\Python\\Python310\\lib\\site-packages\\sklearn\\ensemble\\_forest.py:416: FutureWarning: `max_features='auto'` has been deprecated in 1.1 and will be removed in 1.3. To keep the past behaviour, explicitly set `max_features=1.0` or remove this parameter as it is also the default value for RandomForestRegressors and ExtraTreesRegressors.\n",
      "  warn(\n",
      "c:\\Users\\Rafi\\AppData\\Local\\Programs\\Python\\Python310\\lib\\site-packages\\sklearn\\ensemble\\_forest.py:400: FutureWarning: Criterion 'mse' was deprecated in v1.0 and will be removed in version 1.2. Use `criterion='squared_error'` which is equivalent.\n",
      "  warn(\n",
      "c:\\Users\\Rafi\\AppData\\Local\\Programs\\Python\\Python310\\lib\\site-packages\\sklearn\\ensemble\\_forest.py:416: FutureWarning: `max_features='auto'` has been deprecated in 1.1 and will be removed in 1.3. To keep the past behaviour, explicitly set `max_features=1.0` or remove this parameter as it is also the default value for RandomForestRegressors and ExtraTreesRegressors.\n",
      "  warn(\n",
      "c:\\Users\\Rafi\\AppData\\Local\\Programs\\Python\\Python310\\lib\\site-packages\\sklearn\\ensemble\\_forest.py:400: FutureWarning: Criterion 'mse' was deprecated in v1.0 and will be removed in version 1.2. Use `criterion='squared_error'` which is equivalent.\n",
      "  warn(\n",
      "c:\\Users\\Rafi\\AppData\\Local\\Programs\\Python\\Python310\\lib\\site-packages\\sklearn\\ensemble\\_forest.py:416: FutureWarning: `max_features='auto'` has been deprecated in 1.1 and will be removed in 1.3. To keep the past behaviour, explicitly set `max_features=1.0` or remove this parameter as it is also the default value for RandomForestRegressors and ExtraTreesRegressors.\n",
      "  warn(\n",
      "c:\\Users\\Rafi\\AppData\\Local\\Programs\\Python\\Python310\\lib\\site-packages\\sklearn\\ensemble\\_forest.py:400: FutureWarning: Criterion 'mse' was deprecated in v1.0 and will be removed in version 1.2. Use `criterion='squared_error'` which is equivalent.\n",
      "  warn(\n",
      "c:\\Users\\Rafi\\AppData\\Local\\Programs\\Python\\Python310\\lib\\site-packages\\sklearn\\ensemble\\_forest.py:416: FutureWarning: `max_features='auto'` has been deprecated in 1.1 and will be removed in 1.3. To keep the past behaviour, explicitly set `max_features=1.0` or remove this parameter as it is also the default value for RandomForestRegressors and ExtraTreesRegressors.\n",
      "  warn(\n",
      "c:\\Users\\Rafi\\AppData\\Local\\Programs\\Python\\Python310\\lib\\site-packages\\sklearn\\ensemble\\_forest.py:400: FutureWarning: Criterion 'mse' was deprecated in v1.0 and will be removed in version 1.2. Use `criterion='squared_error'` which is equivalent.\n",
      "  warn(\n",
      "c:\\Users\\Rafi\\AppData\\Local\\Programs\\Python\\Python310\\lib\\site-packages\\sklearn\\ensemble\\_forest.py:416: FutureWarning: `max_features='auto'` has been deprecated in 1.1 and will be removed in 1.3. To keep the past behaviour, explicitly set `max_features=1.0` or remove this parameter as it is also the default value for RandomForestRegressors and ExtraTreesRegressors.\n",
      "  warn(\n",
      "c:\\Users\\Rafi\\AppData\\Local\\Programs\\Python\\Python310\\lib\\site-packages\\sklearn\\ensemble\\_forest.py:400: FutureWarning: Criterion 'mse' was deprecated in v1.0 and will be removed in version 1.2. Use `criterion='squared_error'` which is equivalent.\n",
      "  warn(\n",
      "c:\\Users\\Rafi\\AppData\\Local\\Programs\\Python\\Python310\\lib\\site-packages\\sklearn\\ensemble\\_forest.py:416: FutureWarning: `max_features='auto'` has been deprecated in 1.1 and will be removed in 1.3. To keep the past behaviour, explicitly set `max_features=1.0` or remove this parameter as it is also the default value for RandomForestRegressors and ExtraTreesRegressors.\n",
      "  warn(\n",
      "c:\\Users\\Rafi\\AppData\\Local\\Programs\\Python\\Python310\\lib\\site-packages\\sklearn\\ensemble\\_forest.py:400: FutureWarning: Criterion 'mse' was deprecated in v1.0 and will be removed in version 1.2. Use `criterion='squared_error'` which is equivalent.\n",
      "  warn(\n",
      "c:\\Users\\Rafi\\AppData\\Local\\Programs\\Python\\Python310\\lib\\site-packages\\sklearn\\ensemble\\_forest.py:416: FutureWarning: `max_features='auto'` has been deprecated in 1.1 and will be removed in 1.3. To keep the past behaviour, explicitly set `max_features=1.0` or remove this parameter as it is also the default value for RandomForestRegressors and ExtraTreesRegressors.\n",
      "  warn(\n",
      "c:\\Users\\Rafi\\AppData\\Local\\Programs\\Python\\Python310\\lib\\site-packages\\sklearn\\ensemble\\_forest.py:400: FutureWarning: Criterion 'mse' was deprecated in v1.0 and will be removed in version 1.2. Use `criterion='squared_error'` which is equivalent.\n",
      "  warn(\n",
      "c:\\Users\\Rafi\\AppData\\Local\\Programs\\Python\\Python310\\lib\\site-packages\\sklearn\\ensemble\\_forest.py:416: FutureWarning: `max_features='auto'` has been deprecated in 1.1 and will be removed in 1.3. To keep the past behaviour, explicitly set `max_features=1.0` or remove this parameter as it is also the default value for RandomForestRegressors and ExtraTreesRegressors.\n",
      "  warn(\n"
     ]
    },
    {
     "name": "stdout",
     "output_type": "stream",
     "text": [
      "Iteration: 1\n"
     ]
    },
    {
     "name": "stderr",
     "output_type": "stream",
     "text": [
      "c:\\Users\\Rafi\\AppData\\Local\\Programs\\Python\\Python310\\lib\\site-packages\\sklearn\\ensemble\\_forest.py:400: FutureWarning: Criterion 'mse' was deprecated in v1.0 and will be removed in version 1.2. Use `criterion='squared_error'` which is equivalent.\n",
      "  warn(\n",
      "c:\\Users\\Rafi\\AppData\\Local\\Programs\\Python\\Python310\\lib\\site-packages\\sklearn\\ensemble\\_forest.py:416: FutureWarning: `max_features='auto'` has been deprecated in 1.1 and will be removed in 1.3. To keep the past behaviour, explicitly set `max_features=1.0` or remove this parameter as it is also the default value for RandomForestRegressors and ExtraTreesRegressors.\n",
      "  warn(\n",
      "c:\\Users\\Rafi\\AppData\\Local\\Programs\\Python\\Python310\\lib\\site-packages\\sklearn\\ensemble\\_forest.py:400: FutureWarning: Criterion 'mse' was deprecated in v1.0 and will be removed in version 1.2. Use `criterion='squared_error'` which is equivalent.\n",
      "  warn(\n",
      "c:\\Users\\Rafi\\AppData\\Local\\Programs\\Python\\Python310\\lib\\site-packages\\sklearn\\ensemble\\_forest.py:416: FutureWarning: `max_features='auto'` has been deprecated in 1.1 and will be removed in 1.3. To keep the past behaviour, explicitly set `max_features=1.0` or remove this parameter as it is also the default value for RandomForestRegressors and ExtraTreesRegressors.\n",
      "  warn(\n",
      "c:\\Users\\Rafi\\AppData\\Local\\Programs\\Python\\Python310\\lib\\site-packages\\sklearn\\ensemble\\_forest.py:400: FutureWarning: Criterion 'mse' was deprecated in v1.0 and will be removed in version 1.2. Use `criterion='squared_error'` which is equivalent.\n",
      "  warn(\n",
      "c:\\Users\\Rafi\\AppData\\Local\\Programs\\Python\\Python310\\lib\\site-packages\\sklearn\\ensemble\\_forest.py:416: FutureWarning: `max_features='auto'` has been deprecated in 1.1 and will be removed in 1.3. To keep the past behaviour, explicitly set `max_features=1.0` or remove this parameter as it is also the default value for RandomForestRegressors and ExtraTreesRegressors.\n",
      "  warn(\n",
      "c:\\Users\\Rafi\\AppData\\Local\\Programs\\Python\\Python310\\lib\\site-packages\\sklearn\\ensemble\\_forest.py:400: FutureWarning: Criterion 'mse' was deprecated in v1.0 and will be removed in version 1.2. Use `criterion='squared_error'` which is equivalent.\n",
      "  warn(\n",
      "c:\\Users\\Rafi\\AppData\\Local\\Programs\\Python\\Python310\\lib\\site-packages\\sklearn\\ensemble\\_forest.py:416: FutureWarning: `max_features='auto'` has been deprecated in 1.1 and will be removed in 1.3. To keep the past behaviour, explicitly set `max_features=1.0` or remove this parameter as it is also the default value for RandomForestRegressors and ExtraTreesRegressors.\n",
      "  warn(\n",
      "c:\\Users\\Rafi\\AppData\\Local\\Programs\\Python\\Python310\\lib\\site-packages\\sklearn\\ensemble\\_forest.py:400: FutureWarning: Criterion 'mse' was deprecated in v1.0 and will be removed in version 1.2. Use `criterion='squared_error'` which is equivalent.\n",
      "  warn(\n",
      "c:\\Users\\Rafi\\AppData\\Local\\Programs\\Python\\Python310\\lib\\site-packages\\sklearn\\ensemble\\_forest.py:416: FutureWarning: `max_features='auto'` has been deprecated in 1.1 and will be removed in 1.3. To keep the past behaviour, explicitly set `max_features=1.0` or remove this parameter as it is also the default value for RandomForestRegressors and ExtraTreesRegressors.\n",
      "  warn(\n",
      "c:\\Users\\Rafi\\AppData\\Local\\Programs\\Python\\Python310\\lib\\site-packages\\sklearn\\ensemble\\_forest.py:400: FutureWarning: Criterion 'mse' was deprecated in v1.0 and will be removed in version 1.2. Use `criterion='squared_error'` which is equivalent.\n",
      "  warn(\n",
      "c:\\Users\\Rafi\\AppData\\Local\\Programs\\Python\\Python310\\lib\\site-packages\\sklearn\\ensemble\\_forest.py:416: FutureWarning: `max_features='auto'` has been deprecated in 1.1 and will be removed in 1.3. To keep the past behaviour, explicitly set `max_features=1.0` or remove this parameter as it is also the default value for RandomForestRegressors and ExtraTreesRegressors.\n",
      "  warn(\n",
      "c:\\Users\\Rafi\\AppData\\Local\\Programs\\Python\\Python310\\lib\\site-packages\\sklearn\\ensemble\\_forest.py:400: FutureWarning: Criterion 'mse' was deprecated in v1.0 and will be removed in version 1.2. Use `criterion='squared_error'` which is equivalent.\n",
      "  warn(\n",
      "c:\\Users\\Rafi\\AppData\\Local\\Programs\\Python\\Python310\\lib\\site-packages\\sklearn\\ensemble\\_forest.py:416: FutureWarning: `max_features='auto'` has been deprecated in 1.1 and will be removed in 1.3. To keep the past behaviour, explicitly set `max_features=1.0` or remove this parameter as it is also the default value for RandomForestRegressors and ExtraTreesRegressors.\n",
      "  warn(\n",
      "c:\\Users\\Rafi\\AppData\\Local\\Programs\\Python\\Python310\\lib\\site-packages\\sklearn\\ensemble\\_forest.py:400: FutureWarning: Criterion 'mse' was deprecated in v1.0 and will be removed in version 1.2. Use `criterion='squared_error'` which is equivalent.\n",
      "  warn(\n",
      "c:\\Users\\Rafi\\AppData\\Local\\Programs\\Python\\Python310\\lib\\site-packages\\sklearn\\ensemble\\_forest.py:416: FutureWarning: `max_features='auto'` has been deprecated in 1.1 and will be removed in 1.3. To keep the past behaviour, explicitly set `max_features=1.0` or remove this parameter as it is also the default value for RandomForestRegressors and ExtraTreesRegressors.\n",
      "  warn(\n",
      "c:\\Users\\Rafi\\AppData\\Local\\Programs\\Python\\Python310\\lib\\site-packages\\sklearn\\ensemble\\_forest.py:400: FutureWarning: Criterion 'mse' was deprecated in v1.0 and will be removed in version 1.2. Use `criterion='squared_error'` which is equivalent.\n",
      "  warn(\n",
      "c:\\Users\\Rafi\\AppData\\Local\\Programs\\Python\\Python310\\lib\\site-packages\\sklearn\\ensemble\\_forest.py:416: FutureWarning: `max_features='auto'` has been deprecated in 1.1 and will be removed in 1.3. To keep the past behaviour, explicitly set `max_features=1.0` or remove this parameter as it is also the default value for RandomForestRegressors and ExtraTreesRegressors.\n",
      "  warn(\n",
      "c:\\Users\\Rafi\\AppData\\Local\\Programs\\Python\\Python310\\lib\\site-packages\\sklearn\\ensemble\\_forest.py:400: FutureWarning: Criterion 'mse' was deprecated in v1.0 and will be removed in version 1.2. Use `criterion='squared_error'` which is equivalent.\n",
      "  warn(\n",
      "c:\\Users\\Rafi\\AppData\\Local\\Programs\\Python\\Python310\\lib\\site-packages\\sklearn\\ensemble\\_forest.py:416: FutureWarning: `max_features='auto'` has been deprecated in 1.1 and will be removed in 1.3. To keep the past behaviour, explicitly set `max_features=1.0` or remove this parameter as it is also the default value for RandomForestRegressors and ExtraTreesRegressors.\n",
      "  warn(\n",
      "c:\\Users\\Rafi\\AppData\\Local\\Programs\\Python\\Python310\\lib\\site-packages\\sklearn\\ensemble\\_forest.py:400: FutureWarning: Criterion 'mse' was deprecated in v1.0 and will be removed in version 1.2. Use `criterion='squared_error'` which is equivalent.\n",
      "  warn(\n",
      "c:\\Users\\Rafi\\AppData\\Local\\Programs\\Python\\Python310\\lib\\site-packages\\sklearn\\ensemble\\_forest.py:416: FutureWarning: `max_features='auto'` has been deprecated in 1.1 and will be removed in 1.3. To keep the past behaviour, explicitly set `max_features=1.0` or remove this parameter as it is also the default value for RandomForestRegressors and ExtraTreesRegressors.\n",
      "  warn(\n",
      "c:\\Users\\Rafi\\AppData\\Local\\Programs\\Python\\Python310\\lib\\site-packages\\sklearn\\ensemble\\_forest.py:400: FutureWarning: Criterion 'mse' was deprecated in v1.0 and will be removed in version 1.2. Use `criterion='squared_error'` which is equivalent.\n",
      "  warn(\n",
      "c:\\Users\\Rafi\\AppData\\Local\\Programs\\Python\\Python310\\lib\\site-packages\\sklearn\\ensemble\\_forest.py:416: FutureWarning: `max_features='auto'` has been deprecated in 1.1 and will be removed in 1.3. To keep the past behaviour, explicitly set `max_features=1.0` or remove this parameter as it is also the default value for RandomForestRegressors and ExtraTreesRegressors.\n",
      "  warn(\n",
      "c:\\Users\\Rafi\\AppData\\Local\\Programs\\Python\\Python310\\lib\\site-packages\\sklearn\\ensemble\\_forest.py:400: FutureWarning: Criterion 'mse' was deprecated in v1.0 and will be removed in version 1.2. Use `criterion='squared_error'` which is equivalent.\n",
      "  warn(\n",
      "c:\\Users\\Rafi\\AppData\\Local\\Programs\\Python\\Python310\\lib\\site-packages\\sklearn\\ensemble\\_forest.py:416: FutureWarning: `max_features='auto'` has been deprecated in 1.1 and will be removed in 1.3. To keep the past behaviour, explicitly set `max_features=1.0` or remove this parameter as it is also the default value for RandomForestRegressors and ExtraTreesRegressors.\n",
      "  warn(\n",
      "c:\\Users\\Rafi\\AppData\\Local\\Programs\\Python\\Python310\\lib\\site-packages\\sklearn\\ensemble\\_forest.py:400: FutureWarning: Criterion 'mse' was deprecated in v1.0 and will be removed in version 1.2. Use `criterion='squared_error'` which is equivalent.\n",
      "  warn(\n",
      "c:\\Users\\Rafi\\AppData\\Local\\Programs\\Python\\Python310\\lib\\site-packages\\sklearn\\ensemble\\_forest.py:416: FutureWarning: `max_features='auto'` has been deprecated in 1.1 and will be removed in 1.3. To keep the past behaviour, explicitly set `max_features=1.0` or remove this parameter as it is also the default value for RandomForestRegressors and ExtraTreesRegressors.\n",
      "  warn(\n",
      "c:\\Users\\Rafi\\AppData\\Local\\Programs\\Python\\Python310\\lib\\site-packages\\sklearn\\ensemble\\_forest.py:400: FutureWarning: Criterion 'mse' was deprecated in v1.0 and will be removed in version 1.2. Use `criterion='squared_error'` which is equivalent.\n",
      "  warn(\n",
      "c:\\Users\\Rafi\\AppData\\Local\\Programs\\Python\\Python310\\lib\\site-packages\\sklearn\\ensemble\\_forest.py:416: FutureWarning: `max_features='auto'` has been deprecated in 1.1 and will be removed in 1.3. To keep the past behaviour, explicitly set `max_features=1.0` or remove this parameter as it is also the default value for RandomForestRegressors and ExtraTreesRegressors.\n",
      "  warn(\n"
     ]
    },
    {
     "name": "stdout",
     "output_type": "stream",
     "text": [
      "Iteration: 2\n"
     ]
    },
    {
     "name": "stderr",
     "output_type": "stream",
     "text": [
      "c:\\Users\\Rafi\\AppData\\Local\\Programs\\Python\\Python310\\lib\\site-packages\\sklearn\\ensemble\\_forest.py:400: FutureWarning: Criterion 'mse' was deprecated in v1.0 and will be removed in version 1.2. Use `criterion='squared_error'` which is equivalent.\n",
      "  warn(\n",
      "c:\\Users\\Rafi\\AppData\\Local\\Programs\\Python\\Python310\\lib\\site-packages\\sklearn\\ensemble\\_forest.py:416: FutureWarning: `max_features='auto'` has been deprecated in 1.1 and will be removed in 1.3. To keep the past behaviour, explicitly set `max_features=1.0` or remove this parameter as it is also the default value for RandomForestRegressors and ExtraTreesRegressors.\n",
      "  warn(\n",
      "c:\\Users\\Rafi\\AppData\\Local\\Programs\\Python\\Python310\\lib\\site-packages\\sklearn\\ensemble\\_forest.py:400: FutureWarning: Criterion 'mse' was deprecated in v1.0 and will be removed in version 1.2. Use `criterion='squared_error'` which is equivalent.\n",
      "  warn(\n",
      "c:\\Users\\Rafi\\AppData\\Local\\Programs\\Python\\Python310\\lib\\site-packages\\sklearn\\ensemble\\_forest.py:416: FutureWarning: `max_features='auto'` has been deprecated in 1.1 and will be removed in 1.3. To keep the past behaviour, explicitly set `max_features=1.0` or remove this parameter as it is also the default value for RandomForestRegressors and ExtraTreesRegressors.\n",
      "  warn(\n",
      "c:\\Users\\Rafi\\AppData\\Local\\Programs\\Python\\Python310\\lib\\site-packages\\sklearn\\ensemble\\_forest.py:400: FutureWarning: Criterion 'mse' was deprecated in v1.0 and will be removed in version 1.2. Use `criterion='squared_error'` which is equivalent.\n",
      "  warn(\n",
      "c:\\Users\\Rafi\\AppData\\Local\\Programs\\Python\\Python310\\lib\\site-packages\\sklearn\\ensemble\\_forest.py:416: FutureWarning: `max_features='auto'` has been deprecated in 1.1 and will be removed in 1.3. To keep the past behaviour, explicitly set `max_features=1.0` or remove this parameter as it is also the default value for RandomForestRegressors and ExtraTreesRegressors.\n",
      "  warn(\n",
      "c:\\Users\\Rafi\\AppData\\Local\\Programs\\Python\\Python310\\lib\\site-packages\\sklearn\\ensemble\\_forest.py:400: FutureWarning: Criterion 'mse' was deprecated in v1.0 and will be removed in version 1.2. Use `criterion='squared_error'` which is equivalent.\n",
      "  warn(\n",
      "c:\\Users\\Rafi\\AppData\\Local\\Programs\\Python\\Python310\\lib\\site-packages\\sklearn\\ensemble\\_forest.py:416: FutureWarning: `max_features='auto'` has been deprecated in 1.1 and will be removed in 1.3. To keep the past behaviour, explicitly set `max_features=1.0` or remove this parameter as it is also the default value for RandomForestRegressors and ExtraTreesRegressors.\n",
      "  warn(\n",
      "c:\\Users\\Rafi\\AppData\\Local\\Programs\\Python\\Python310\\lib\\site-packages\\sklearn\\ensemble\\_forest.py:400: FutureWarning: Criterion 'mse' was deprecated in v1.0 and will be removed in version 1.2. Use `criterion='squared_error'` which is equivalent.\n",
      "  warn(\n",
      "c:\\Users\\Rafi\\AppData\\Local\\Programs\\Python\\Python310\\lib\\site-packages\\sklearn\\ensemble\\_forest.py:416: FutureWarning: `max_features='auto'` has been deprecated in 1.1 and will be removed in 1.3. To keep the past behaviour, explicitly set `max_features=1.0` or remove this parameter as it is also the default value for RandomForestRegressors and ExtraTreesRegressors.\n",
      "  warn(\n",
      "c:\\Users\\Rafi\\AppData\\Local\\Programs\\Python\\Python310\\lib\\site-packages\\sklearn\\ensemble\\_forest.py:400: FutureWarning: Criterion 'mse' was deprecated in v1.0 and will be removed in version 1.2. Use `criterion='squared_error'` which is equivalent.\n",
      "  warn(\n",
      "c:\\Users\\Rafi\\AppData\\Local\\Programs\\Python\\Python310\\lib\\site-packages\\sklearn\\ensemble\\_forest.py:416: FutureWarning: `max_features='auto'` has been deprecated in 1.1 and will be removed in 1.3. To keep the past behaviour, explicitly set `max_features=1.0` or remove this parameter as it is also the default value for RandomForestRegressors and ExtraTreesRegressors.\n",
      "  warn(\n",
      "c:\\Users\\Rafi\\AppData\\Local\\Programs\\Python\\Python310\\lib\\site-packages\\sklearn\\ensemble\\_forest.py:400: FutureWarning: Criterion 'mse' was deprecated in v1.0 and will be removed in version 1.2. Use `criterion='squared_error'` which is equivalent.\n",
      "  warn(\n",
      "c:\\Users\\Rafi\\AppData\\Local\\Programs\\Python\\Python310\\lib\\site-packages\\sklearn\\ensemble\\_forest.py:416: FutureWarning: `max_features='auto'` has been deprecated in 1.1 and will be removed in 1.3. To keep the past behaviour, explicitly set `max_features=1.0` or remove this parameter as it is also the default value for RandomForestRegressors and ExtraTreesRegressors.\n",
      "  warn(\n",
      "c:\\Users\\Rafi\\AppData\\Local\\Programs\\Python\\Python310\\lib\\site-packages\\sklearn\\ensemble\\_forest.py:400: FutureWarning: Criterion 'mse' was deprecated in v1.0 and will be removed in version 1.2. Use `criterion='squared_error'` which is equivalent.\n",
      "  warn(\n",
      "c:\\Users\\Rafi\\AppData\\Local\\Programs\\Python\\Python310\\lib\\site-packages\\sklearn\\ensemble\\_forest.py:416: FutureWarning: `max_features='auto'` has been deprecated in 1.1 and will be removed in 1.3. To keep the past behaviour, explicitly set `max_features=1.0` or remove this parameter as it is also the default value for RandomForestRegressors and ExtraTreesRegressors.\n",
      "  warn(\n",
      "c:\\Users\\Rafi\\AppData\\Local\\Programs\\Python\\Python310\\lib\\site-packages\\sklearn\\ensemble\\_forest.py:400: FutureWarning: Criterion 'mse' was deprecated in v1.0 and will be removed in version 1.2. Use `criterion='squared_error'` which is equivalent.\n",
      "  warn(\n",
      "c:\\Users\\Rafi\\AppData\\Local\\Programs\\Python\\Python310\\lib\\site-packages\\sklearn\\ensemble\\_forest.py:416: FutureWarning: `max_features='auto'` has been deprecated in 1.1 and will be removed in 1.3. To keep the past behaviour, explicitly set `max_features=1.0` or remove this parameter as it is also the default value for RandomForestRegressors and ExtraTreesRegressors.\n",
      "  warn(\n",
      "c:\\Users\\Rafi\\AppData\\Local\\Programs\\Python\\Python310\\lib\\site-packages\\sklearn\\ensemble\\_forest.py:400: FutureWarning: Criterion 'mse' was deprecated in v1.0 and will be removed in version 1.2. Use `criterion='squared_error'` which is equivalent.\n",
      "  warn(\n",
      "c:\\Users\\Rafi\\AppData\\Local\\Programs\\Python\\Python310\\lib\\site-packages\\sklearn\\ensemble\\_forest.py:416: FutureWarning: `max_features='auto'` has been deprecated in 1.1 and will be removed in 1.3. To keep the past behaviour, explicitly set `max_features=1.0` or remove this parameter as it is also the default value for RandomForestRegressors and ExtraTreesRegressors.\n",
      "  warn(\n",
      "c:\\Users\\Rafi\\AppData\\Local\\Programs\\Python\\Python310\\lib\\site-packages\\sklearn\\ensemble\\_forest.py:400: FutureWarning: Criterion 'mse' was deprecated in v1.0 and will be removed in version 1.2. Use `criterion='squared_error'` which is equivalent.\n",
      "  warn(\n",
      "c:\\Users\\Rafi\\AppData\\Local\\Programs\\Python\\Python310\\lib\\site-packages\\sklearn\\ensemble\\_forest.py:416: FutureWarning: `max_features='auto'` has been deprecated in 1.1 and will be removed in 1.3. To keep the past behaviour, explicitly set `max_features=1.0` or remove this parameter as it is also the default value for RandomForestRegressors and ExtraTreesRegressors.\n",
      "  warn(\n",
      "c:\\Users\\Rafi\\AppData\\Local\\Programs\\Python\\Python310\\lib\\site-packages\\sklearn\\ensemble\\_forest.py:400: FutureWarning: Criterion 'mse' was deprecated in v1.0 and will be removed in version 1.2. Use `criterion='squared_error'` which is equivalent.\n",
      "  warn(\n",
      "c:\\Users\\Rafi\\AppData\\Local\\Programs\\Python\\Python310\\lib\\site-packages\\sklearn\\ensemble\\_forest.py:416: FutureWarning: `max_features='auto'` has been deprecated in 1.1 and will be removed in 1.3. To keep the past behaviour, explicitly set `max_features=1.0` or remove this parameter as it is also the default value for RandomForestRegressors and ExtraTreesRegressors.\n",
      "  warn(\n",
      "c:\\Users\\Rafi\\AppData\\Local\\Programs\\Python\\Python310\\lib\\site-packages\\sklearn\\ensemble\\_forest.py:400: FutureWarning: Criterion 'mse' was deprecated in v1.0 and will be removed in version 1.2. Use `criterion='squared_error'` which is equivalent.\n",
      "  warn(\n",
      "c:\\Users\\Rafi\\AppData\\Local\\Programs\\Python\\Python310\\lib\\site-packages\\sklearn\\ensemble\\_forest.py:416: FutureWarning: `max_features='auto'` has been deprecated in 1.1 and will be removed in 1.3. To keep the past behaviour, explicitly set `max_features=1.0` or remove this parameter as it is also the default value for RandomForestRegressors and ExtraTreesRegressors.\n",
      "  warn(\n",
      "c:\\Users\\Rafi\\AppData\\Local\\Programs\\Python\\Python310\\lib\\site-packages\\sklearn\\ensemble\\_forest.py:400: FutureWarning: Criterion 'mse' was deprecated in v1.0 and will be removed in version 1.2. Use `criterion='squared_error'` which is equivalent.\n",
      "  warn(\n",
      "c:\\Users\\Rafi\\AppData\\Local\\Programs\\Python\\Python310\\lib\\site-packages\\sklearn\\ensemble\\_forest.py:416: FutureWarning: `max_features='auto'` has been deprecated in 1.1 and will be removed in 1.3. To keep the past behaviour, explicitly set `max_features=1.0` or remove this parameter as it is also the default value for RandomForestRegressors and ExtraTreesRegressors.\n",
      "  warn(\n",
      "c:\\Users\\Rafi\\AppData\\Local\\Programs\\Python\\Python310\\lib\\site-packages\\sklearn\\ensemble\\_forest.py:400: FutureWarning: Criterion 'mse' was deprecated in v1.0 and will be removed in version 1.2. Use `criterion='squared_error'` which is equivalent.\n",
      "  warn(\n",
      "c:\\Users\\Rafi\\AppData\\Local\\Programs\\Python\\Python310\\lib\\site-packages\\sklearn\\ensemble\\_forest.py:416: FutureWarning: `max_features='auto'` has been deprecated in 1.1 and will be removed in 1.3. To keep the past behaviour, explicitly set `max_features=1.0` or remove this parameter as it is also the default value for RandomForestRegressors and ExtraTreesRegressors.\n",
      "  warn(\n"
     ]
    },
    {
     "name": "stdout",
     "output_type": "stream",
     "text": [
      "Iteration: 3\n"
     ]
    },
    {
     "ename": "AttributeError",
     "evalue": "'numpy.ndarray' object has no attribute 'isna'",
     "output_type": "error",
     "traceback": [
      "\u001b[1;31m---------------------------------------------------------------------------\u001b[0m",
      "\u001b[1;31mAttributeError\u001b[0m                            Traceback (most recent call last)",
      "\u001b[1;32md:\\University Stuff\\Data Challenge 3\\JBG060-group9\\RandomForestClassifier.ipynb Cell 58\u001b[0m line \u001b[0;36m<cell line: 22>\u001b[1;34m()\u001b[0m\n\u001b[0;32m     <a href='vscode-notebook-cell:/d%3A/University%20Stuff/Data%20Challenge%203/JBG060-group9/RandomForestClassifier.ipynb#Y111sZmlsZQ%3D%3D?line=18'>19</a>\u001b[0m X \u001b[39m=\u001b[39m imputer\u001b[39m.\u001b[39mfit_transform(X)\n\u001b[0;32m     <a href='vscode-notebook-cell:/d%3A/University%20Stuff/Data%20Challenge%203/JBG060-group9/RandomForestClassifier.ipynb#Y111sZmlsZQ%3D%3D?line=19'>20</a>\u001b[0m y \u001b[39m=\u001b[39m df_copy[[\u001b[39m\"\u001b[39m\u001b[39mcrisis\u001b[39m\u001b[39m\"\u001b[39m]] \u001b[39m# Define target data\u001b[39;00m\n\u001b[1;32m---> <a href='vscode-notebook-cell:/d%3A/University%20Stuff/Data%20Challenge%203/JBG060-group9/RandomForestClassifier.ipynb#Y111sZmlsZQ%3D%3D?line=21'>22</a>\u001b[0m \u001b[39mprint\u001b[39m(X\u001b[39m.\u001b[39;49misna()\u001b[39m.\u001b[39msum())\n\u001b[0;32m     <a href='vscode-notebook-cell:/d%3A/University%20Stuff/Data%20Challenge%203/JBG060-group9/RandomForestClassifier.ipynb#Y111sZmlsZQ%3D%3D?line=24'>25</a>\u001b[0m model \u001b[39m=\u001b[39m GradientBoostingRegressor()\n\u001b[0;32m     <a href='vscode-notebook-cell:/d%3A/University%20Stuff/Data%20Challenge%203/JBG060-group9/RandomForestClassifier.ipynb#Y111sZmlsZQ%3D%3D?line=26'>27</a>\u001b[0m grid_search \u001b[39m=\u001b[39m GridSearchCV(model, param_grid, scoring\u001b[39m=\u001b[39m\u001b[39m\"\u001b[39m\u001b[39mneg_log_loss\u001b[39m\u001b[39m\"\u001b[39m, n_jobs\u001b[39m=\u001b[39m\u001b[39m1\u001b[39m, cv\u001b[39m=\u001b[39mcv)\n",
      "\u001b[1;31mAttributeError\u001b[0m: 'numpy.ndarray' object has no attribute 'isna'"
     ]
    }
   ],
   "source": [
    "from sklearn.model_selection import GridSearchCV\n",
    "import sklearn.neighbors._base\n",
    "import sys\n",
    "sys.modules['sklearn.neighbors.base'] = sklearn.neighbors._base\n",
    "from missingpy import MissForest\n",
    "\n",
    "\n",
    "n_estimators = [50, 100, 200, 300, 400, 500]\n",
    "learning_rate = [0.0001, 0.001, 0.01, 0.1]\n",
    "param_grid = dict(learning_rate=learning_rate, n_estimators=n_estimators)\n",
    "\n",
    "# Initinalize empty lists to score scores\n",
    "accuracy_values = list()\n",
    "\n",
    "df_copy = weighted_df.copy()\n",
    "df_copy.drop(['quarters', 'ha'], axis=1, inplace=True)\n",
    "X = df_copy.iloc[:, -16:-1] # Define explanatory variables\n",
    "X = sm.add_constant(X) # Add constant column of 1s for intercept\n",
    "X = imputer.fit_transform(X)\n",
    "y = df_copy[[\"crisis\"]] # Define target data\n",
    "\n",
    "print(X.isna().sum())\n",
    "\n",
    "\n",
    "model = GradientBoostingRegressor()\n",
    "\n",
    "grid_search = GridSearchCV(model, param_grid, scoring=\"neg_log_loss\", n_jobs=1, cv=cv)\n",
    "grid_result = grid_search.fit(X, y)\n",
    "\n",
    "print(\"Best: %f using %s\" % (grid_result.best_score_, grid_result.best_params_))\n",
    "means = grid_result.cv_results_['mean_test_score']\n",
    "stds = grid_result.cv_results_['std_test_score']\n",
    "params = grid_result.cv_results_['params']\n",
    "for mean, stdev, param in zip(means, stds, params):\n",
    "\tprint(\"%f (%f) with: %r\" % (mean, stdev, param))\n",
    "# plot results\n",
    "scores = np.array(means).reshape(len(learning_rate), len(n_estimators))\n",
    "for i, value in enumerate(learning_rate):\n",
    "    plt.plot(n_estimators, scores[i], label='learning_rate: ' + str(value))\n",
    "plt.legend()\n",
    "plt.xlabel('n_estimators')\n",
    "plt.ylabel('Log Loss')\n",
    "\n"
   ]
  }
 ],
 "metadata": {
  "kernelspec": {
   "display_name": "Python 3 (ipykernel)",
   "language": "python",
   "name": "python3"
  },
  "language_info": {
   "codemirror_mode": {
    "name": "ipython",
    "version": 3
   },
   "file_extension": ".py",
   "mimetype": "text/x-python",
   "name": "python",
   "nbconvert_exporter": "python",
   "pygments_lexer": "ipython3",
   "version": "3.10.11"
  }
 },
 "nbformat": 4,
 "nbformat_minor": 4
}
