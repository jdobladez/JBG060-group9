{
 "cells": [
  {
   "cell_type": "markdown",
   "metadata": {},
   "source": [
    "## Libraries/Data required"
   ]
  },
  {
   "cell_type": "code",
   "execution_count": 1,
   "metadata": {},
   "outputs": [],
   "source": [
    "import pandas as pd\n",
    "import geopandas as gpd\n",
    "import numpy as np\n",
    "import matplotlib.pyplot as plt\n",
    "import seaborn as sns\n",
    "from sklearn.model_selection import TimeSeriesSplit\n",
    "from sklearn.metrics import accuracy_score\n",
    "\n",
    "\n",
    "# Import models\n",
    "from statsmodels.regression.linear_model import OLS\n",
    "import statsmodels.api as sm\n",
    "\n",
    "data_dir = \"data/\" # Define data path"
   ]
  },
  {
   "cell_type": "code",
   "execution_count": 3,
   "metadata": {},
   "outputs": [
    {
     "name": "stdout",
     "output_type": "stream",
     "text": [
      "78\n"
     ]
    }
   ],
   "source": [
    "df = pd.read_csv(data_dir + \"food_crises_reg_imputed.csv\") # Read data into DataFrame\n",
    "# df[\"date\"] = pd.to_datetime(df[\"year_month\"], format=\"%Y_%m\") # Create date column\n",
    "print(len(df['district'].unique()))\n",
    "df.set_index([\"date\", \"district\"], inplace=True) # Set index"
   ]
  },
  {
   "cell_type": "markdown",
   "metadata": {},
   "source": [
    "<BR>\n",
    "\n",
    "## Helper Functions"
   ]
  },
  {
   "cell_type": "markdown",
   "metadata": {},
   "source": [
    "Here we define a function that lags input variables. There are options for creating a rolling mean, taking the difference between subsequent rows, and dropping NaNs. Feature engineering can of course be extended much further than this."
   ]
  },
  {
   "cell_type": "code",
   "execution_count": 4,
   "metadata": {},
   "outputs": [],
   "source": [
    "def create_lag_df(df, columns, lag, difference=False, rolling=None, dropna=False):\n",
    "    '''\n",
    "    Function to add lagged colums to dataframe\n",
    "    \n",
    "    Inputs:\n",
    "        df - Dataframe\n",
    "        columns - List of columns to create lags from\n",
    "        lag - The number of timesteps (in months for the default data) to lag the variable by\n",
    "        difference - Whether to take the difference between each observation as new column\n",
    "        rolling - The size of the rolling mean window, input None type to not use a rolling variable\n",
    "        dropna - Whether to drop NaN values\n",
    "        \n",
    "    Output:\n",
    "        df - Dataframe with the lagged columns added\n",
    "    '''\n",
    "    \n",
    "    for column in columns:\n",
    "        col = df[column].unstack()\n",
    "        if rolling:\n",
    "            col = col.rolling(rolling).mean()\n",
    "        if difference:\n",
    "            col = col.diff()\n",
    "        if dropna:\n",
    "            col = col.dropna(how='any')\n",
    "        df[f\"{column}_lag_{lag}\"] = col.shift(lag).stack()\n",
    "    return df"
   ]
  },
  {
   "cell_type": "markdown",
   "metadata": {},
   "source": [
    "<br>\n",
    "Here we define a function that plots a confusion matrix given a prediction and the true values, it can be used both for binary and categorical variables."
   ]
  },
  {
   "cell_type": "code",
   "execution_count": 5,
   "metadata": {},
   "outputs": [],
   "source": [
    "def plot_ConfusionMatrix(prediction, true, binary=False):\n",
    "    '''\n",
    "    Function to plot a confusion matrix as a heatmap from a prediction and true values.\n",
    "    \n",
    "    Inputs:\n",
    "        prediction - The predicted values\n",
    "        true - the true values\n",
    "        binary - whether the variable is binary or not\n",
    "        \n",
    "    Output:\n",
    "        confusion_matrix - The calculated confusion matrix based on the prediction and true values.\n",
    "        \n",
    "        Also plots the confusion matrix as heatmap in an interactive environment such as Jupyter Notebook.\n",
    "    '''\n",
    "    \n",
    "    y_pred = prediction\n",
    "    \n",
    "    if not binary:\n",
    "        # Round prediction to nearest integer (i.e. the nearest phase)\n",
    "        y_pred = y_pred.round() \n",
    "        y_pred = np.minimum(y_pred, 5) # Cap maximum prediction at 5 (maximum phase)\n",
    "        y_pred = np.maximum(y_pred, 1) # Cap minimum prediction at 1 (minimum phase)\n",
    "\n",
    "    # Initialize confusion matrix\n",
    "    confusion_matrix = pd.crosstab(\n",
    "        true, y_pred, rownames=[\"Actual\"], colnames=[\"Predicted\"]\n",
    "    )\n",
    "\n",
    "    # Plot confusion matrix as heatmap\n",
    "    sns.heatmap(confusion_matrix, annot=True, fmt=\"g\")\n",
    "    plt.show()\n",
    "    plt.clf()\n",
    "    \n",
    "    return confusion_matrix"
   ]
  },
  {
   "cell_type": "markdown",
   "metadata": {},
   "source": [
    "## Making Predictions\n",
    "\n",
    "To simplify, we treat the IPC prediction problem as regression rather than classification,\n",
    "e.g., multivariable logistic regression might be more suited.\n",
    "<br><br>\n",
    "We use a TimeSeriesSplit to divide the data into 5 training-test splits and run cross-validation on these splits. \n",
    "<br>We report the confusion matrix (with training and test split as title) along with the model summary per split; the mean MAE and mean R2 are reported after completion of cross-validation.\n",
    "<br><br>\n",
    "First however, we create multiple lagged variables in the cell directly below."
   ]
  },
  {
   "cell_type": "code",
   "execution_count": 6,
   "metadata": {},
   "outputs": [
    {
     "data": {
      "text/plain": [
       "Index(['country', 'district_code', 'centx', 'centy', 'year', 'month', 'ipc',\n",
       "       'ha', 'ndvi_mean', 'ndvi_anom', 'rain_mean', 'rain_anom', 'et_mean',\n",
       "       'et_anom', 'count_violence', 'sum_fatalities', 'food_price_idx', 'area',\n",
       "       'cropland_pct', 'pop', 'ruggedness_mean', 'pasture_pct', 'province',\n",
       "       'administrative_region', 'quarters', 'count_violence_lag_3',\n",
       "       'ndvi_anom_lag_3', 'food_price_idx_lag_3', 'ipc_lag_1', 'ipc_lag_2',\n",
       "       'ipc_lag_3'],\n",
       "      dtype='object')"
      ]
     },
     "execution_count": 6,
     "metadata": {},
     "output_type": "execute_result"
    }
   ],
   "source": [
    "# Create several lagged columns to use as explanatory variables for the model\n",
    "\n",
    "df = create_lag_df(df, ['count_violence', 'ndvi_anom'], 3, rolling=6) # 3-month-lagged rolling mean window of size 6\n",
    "df = create_lag_df(df, ['food_price_idx'], 3, difference=True, rolling=6) # difference of the 3-month-lagged rolling mean window of size 6\n",
    "df = create_lag_df(df, ['ipc'], 1, dropna=True) # 1-month-lag\n",
    "df = create_lag_df(df, ['ipc'], 2, dropna=True) # 2-month-lag\n",
    "df = create_lag_df(df, ['ipc'], 3, dropna=True) # 3-month-lag\n",
    "\n",
    "df.columns # View the newly created columns"
   ]
  },
  {
   "cell_type": "code",
   "execution_count": 7,
   "metadata": {},
   "outputs": [],
   "source": [
    "df.sort_index(level=0, inplace=True) # Sort DataFrame by date\n",
    "df = df.iloc[df['ipc'].notnull().argmax():].copy() # Drop rows until first notna value in ipc column"
   ]
  },
  {
   "cell_type": "markdown",
   "metadata": {},
   "source": [
    "## Incorporating News Features"
   ]
  },
  {
   "cell_type": "markdown",
   "metadata": {},
   "source": [
    "We look at country wide news features to simplify. E.g., we do not look at topics per district"
   ]
  },
  {
   "cell_type": "code",
   "execution_count": 8,
   "metadata": {},
   "outputs": [],
   "source": [
    "news_df = pd.read_csv(data_dir + \"articles_topics_extra_topics.csv\") # Read news data into DataFrame\n",
    "\n",
    "# Create date column\n",
    "news_df[\"date\"] = pd.to_datetime(\n",
    "    pd.to_datetime(news_df[\"date\"], format=\"%Y-%m-%d\").dt.strftime(\"%Y-%m\"),\n",
    "    format=\"%Y-%m\",\n",
    ")"
   ]
  },
  {
   "cell_type": "code",
   "execution_count": 9,
   "metadata": {},
   "outputs": [
    {
     "data": {
      "text/html": [
       "<div>\n",
       "<style scoped>\n",
       "    .dataframe tbody tr th:only-of-type {\n",
       "        vertical-align: middle;\n",
       "    }\n",
       "\n",
       "    .dataframe tbody tr th {\n",
       "        vertical-align: top;\n",
       "    }\n",
       "\n",
       "    .dataframe thead th {\n",
       "        text-align: right;\n",
       "    }\n",
       "</style>\n",
       "<table border=\"1\" class=\"dataframe\">\n",
       "  <thead>\n",
       "    <tr style=\"text-align: right;\">\n",
       "      <th></th>\n",
       "      <th>summary</th>\n",
       "      <th>date</th>\n",
       "      <th>location_article</th>\n",
       "      <th>lat</th>\n",
       "      <th>lng</th>\n",
       "      <th>hunger</th>\n",
       "      <th>refugees</th>\n",
       "      <th>humanitarian</th>\n",
       "      <th>conflict</th>\n",
       "      <th>corruption</th>\n",
       "      <th>terrorism</th>\n",
       "      <th>nature</th>\n",
       "      <th>oil</th>\n",
       "      <th>livestock</th>\n",
       "    </tr>\n",
       "  </thead>\n",
       "  <tbody>\n",
       "    <tr>\n",
       "      <th>765</th>\n",
       "      <td>The article discusses South Sudan's President ...</td>\n",
       "      <td>2011-10-01</td>\n",
       "      <td>Juba</td>\n",
       "      <td>4.859363</td>\n",
       "      <td>31.571250</td>\n",
       "      <td>False</td>\n",
       "      <td>False</td>\n",
       "      <td>False</td>\n",
       "      <td>False</td>\n",
       "      <td>True</td>\n",
       "      <td>False</td>\n",
       "      <td>False</td>\n",
       "      <td>False</td>\n",
       "      <td>False</td>\n",
       "    </tr>\n",
       "    <tr>\n",
       "      <th>766</th>\n",
       "      <td>The article discusses the escalation of violen...</td>\n",
       "      <td>2011-10-01</td>\n",
       "      <td>South Kordofan</td>\n",
       "      <td>11.036544</td>\n",
       "      <td>30.895824</td>\n",
       "      <td>False</td>\n",
       "      <td>False</td>\n",
       "      <td>False</td>\n",
       "      <td>False</td>\n",
       "      <td>False</td>\n",
       "      <td>False</td>\n",
       "      <td>False</td>\n",
       "      <td>False</td>\n",
       "      <td>False</td>\n",
       "    </tr>\n",
       "    <tr>\n",
       "      <th>767</th>\n",
       "      <td>The article discusses Sudan's president Omer a...</td>\n",
       "      <td>2011-10-01</td>\n",
       "      <td>Khartoum</td>\n",
       "      <td>15.500654</td>\n",
       "      <td>32.559899</td>\n",
       "      <td>False</td>\n",
       "      <td>False</td>\n",
       "      <td>False</td>\n",
       "      <td>False</td>\n",
       "      <td>False</td>\n",
       "      <td>False</td>\n",
       "      <td>False</td>\n",
       "      <td>False</td>\n",
       "      <td>False</td>\n",
       "    </tr>\n",
       "    <tr>\n",
       "      <th>768</th>\n",
       "      <td>The article discusses President Kiir directing...</td>\n",
       "      <td>2011-10-01</td>\n",
       "      <td>Juba</td>\n",
       "      <td>4.859363</td>\n",
       "      <td>31.571250</td>\n",
       "      <td>False</td>\n",
       "      <td>False</td>\n",
       "      <td>False</td>\n",
       "      <td>False</td>\n",
       "      <td>False</td>\n",
       "      <td>False</td>\n",
       "      <td>True</td>\n",
       "      <td>False</td>\n",
       "      <td>True</td>\n",
       "    </tr>\n",
       "    <tr>\n",
       "      <th>772</th>\n",
       "      <td>The article discusses the return of Lam Akol A...</td>\n",
       "      <td>2011-10-01</td>\n",
       "      <td>Juba International Airport</td>\n",
       "      <td>4.871189</td>\n",
       "      <td>31.602117</td>\n",
       "      <td>False</td>\n",
       "      <td>False</td>\n",
       "      <td>False</td>\n",
       "      <td>False</td>\n",
       "      <td>False</td>\n",
       "      <td>False</td>\n",
       "      <td>False</td>\n",
       "      <td>False</td>\n",
       "      <td>False</td>\n",
       "    </tr>\n",
       "    <tr>\n",
       "      <th>...</th>\n",
       "      <td>...</td>\n",
       "      <td>...</td>\n",
       "      <td>...</td>\n",
       "      <td>...</td>\n",
       "      <td>...</td>\n",
       "      <td>...</td>\n",
       "      <td>...</td>\n",
       "      <td>...</td>\n",
       "      <td>...</td>\n",
       "      <td>...</td>\n",
       "      <td>...</td>\n",
       "      <td>...</td>\n",
       "      <td>...</td>\n",
       "      <td>...</td>\n",
       "    </tr>\n",
       "    <tr>\n",
       "      <th>18515</th>\n",
       "      <td>The article discusses the successful delivery ...</td>\n",
       "      <td>2023-04-01</td>\n",
       "      <td>Maiwut Primary Health Care Centre</td>\n",
       "      <td>8.606200</td>\n",
       "      <td>33.924100</td>\n",
       "      <td>False</td>\n",
       "      <td>False</td>\n",
       "      <td>False</td>\n",
       "      <td>False</td>\n",
       "      <td>False</td>\n",
       "      <td>False</td>\n",
       "      <td>False</td>\n",
       "      <td>False</td>\n",
       "      <td>False</td>\n",
       "    </tr>\n",
       "    <tr>\n",
       "      <th>18516</th>\n",
       "      <td>The article discusses the bombing and forced e...</td>\n",
       "      <td>2023-04-01</td>\n",
       "      <td>Khartoum</td>\n",
       "      <td>15.500654</td>\n",
       "      <td>32.559899</td>\n",
       "      <td>False</td>\n",
       "      <td>False</td>\n",
       "      <td>False</td>\n",
       "      <td>False</td>\n",
       "      <td>False</td>\n",
       "      <td>False</td>\n",
       "      <td>False</td>\n",
       "      <td>False</td>\n",
       "      <td>False</td>\n",
       "    </tr>\n",
       "    <tr>\n",
       "      <th>18517</th>\n",
       "      <td>The article discusses how Prime Minister Abiy ...</td>\n",
       "      <td>2023-04-01</td>\n",
       "      <td>Addis Ababa</td>\n",
       "      <td>8.980603</td>\n",
       "      <td>38.757761</td>\n",
       "      <td>False</td>\n",
       "      <td>False</td>\n",
       "      <td>False</td>\n",
       "      <td>False</td>\n",
       "      <td>False</td>\n",
       "      <td>False</td>\n",
       "      <td>False</td>\n",
       "      <td>False</td>\n",
       "      <td>False</td>\n",
       "    </tr>\n",
       "    <tr>\n",
       "      <th>18518</th>\n",
       "      <td>The article discusses the collapse of a commer...</td>\n",
       "      <td>2023-04-01</td>\n",
       "      <td>Kampala International University</td>\n",
       "      <td>0.294360</td>\n",
       "      <td>32.603970</td>\n",
       "      <td>False</td>\n",
       "      <td>False</td>\n",
       "      <td>False</td>\n",
       "      <td>True</td>\n",
       "      <td>False</td>\n",
       "      <td>False</td>\n",
       "      <td>False</td>\n",
       "      <td>False</td>\n",
       "      <td>False</td>\n",
       "    </tr>\n",
       "    <tr>\n",
       "      <th>18519</th>\n",
       "      <td>The article discusses the establishment of a m...</td>\n",
       "      <td>2023-04-01</td>\n",
       "      <td>North Darfur State</td>\n",
       "      <td>15.766197</td>\n",
       "      <td>24.904221</td>\n",
       "      <td>False</td>\n",
       "      <td>False</td>\n",
       "      <td>False</td>\n",
       "      <td>False</td>\n",
       "      <td>False</td>\n",
       "      <td>False</td>\n",
       "      <td>False</td>\n",
       "      <td>False</td>\n",
       "      <td>False</td>\n",
       "    </tr>\n",
       "  </tbody>\n",
       "</table>\n",
       "<p>17718 rows × 14 columns</p>\n",
       "</div>"
      ],
      "text/plain": [
       "                                                 summary       date  \\\n",
       "765    The article discusses South Sudan's President ... 2011-10-01   \n",
       "766    The article discusses the escalation of violen... 2011-10-01   \n",
       "767    The article discusses Sudan's president Omer a... 2011-10-01   \n",
       "768    The article discusses President Kiir directing... 2011-10-01   \n",
       "772    The article discusses the return of Lam Akol A... 2011-10-01   \n",
       "...                                                  ...        ...   \n",
       "18515  The article discusses the successful delivery ... 2023-04-01   \n",
       "18516  The article discusses the bombing and forced e... 2023-04-01   \n",
       "18517  The article discusses how Prime Minister Abiy ... 2023-04-01   \n",
       "18518  The article discusses the collapse of a commer... 2023-04-01   \n",
       "18519  The article discusses the establishment of a m... 2023-04-01   \n",
       "\n",
       "                        location_article        lat        lng  hunger  \\\n",
       "765                                 Juba   4.859363  31.571250   False   \n",
       "766                       South Kordofan  11.036544  30.895824   False   \n",
       "767                             Khartoum  15.500654  32.559899   False   \n",
       "768                                 Juba   4.859363  31.571250   False   \n",
       "772           Juba International Airport   4.871189  31.602117   False   \n",
       "...                                  ...        ...        ...     ...   \n",
       "18515  Maiwut Primary Health Care Centre   8.606200  33.924100   False   \n",
       "18516                           Khartoum  15.500654  32.559899   False   \n",
       "18517                        Addis Ababa   8.980603  38.757761   False   \n",
       "18518   Kampala International University   0.294360  32.603970   False   \n",
       "18519                 North Darfur State  15.766197  24.904221   False   \n",
       "\n",
       "       refugees  humanitarian  conflict  corruption  terrorism  nature    oil  \\\n",
       "765       False         False     False        True      False   False  False   \n",
       "766       False         False     False       False      False   False  False   \n",
       "767       False         False     False       False      False   False  False   \n",
       "768       False         False     False       False      False    True  False   \n",
       "772       False         False     False       False      False   False  False   \n",
       "...         ...           ...       ...         ...        ...     ...    ...   \n",
       "18515     False         False     False       False      False   False  False   \n",
       "18516     False         False     False       False      False   False  False   \n",
       "18517     False         False     False       False      False   False  False   \n",
       "18518     False         False      True       False      False   False  False   \n",
       "18519     False         False     False       False      False   False  False   \n",
       "\n",
       "       livestock  \n",
       "765        False  \n",
       "766        False  \n",
       "767        False  \n",
       "768         True  \n",
       "772        False  \n",
       "...          ...  \n",
       "18515      False  \n",
       "18516      False  \n",
       "18517      False  \n",
       "18518      False  \n",
       "18519      False  \n",
       "\n",
       "[17718 rows x 14 columns]"
      ]
     },
     "execution_count": 9,
     "metadata": {},
     "output_type": "execute_result"
    }
   ],
   "source": [
    "news_df[news_df[\"date\"] > \"2011-09-09\"]"
   ]
  },
  {
   "cell_type": "code",
   "execution_count": 10,
   "metadata": {},
   "outputs": [],
   "source": [
    "def create_news_features(columns):\n",
    "    cols = []\n",
    "    for column in columns:\n",
    "        col = news_df.groupby([\"date\"])[column].mean()\n",
    "        col = col.fillna(0)\n",
    "        col = col.rolling(3).mean()\n",
    "        col = col.shift(3)\n",
    "        cols.append(col)\n",
    "    return pd.concat(cols, axis=1)"
   ]
  },
  {
   "cell_type": "code",
   "execution_count": 11,
   "metadata": {},
   "outputs": [],
   "source": [
    "# country wide news features\n",
    "news_features = create_news_features([\"hunger\", \"refugees\", \"humanitarian\", \"conflict\", \"corruption\", \"terrorism\", \"nature\", 'oil', \"livestock\"])"
   ]
  },
  {
   "cell_type": "code",
   "execution_count": 12,
   "metadata": {},
   "outputs": [],
   "source": [
    "binary_classification = {False: 0, True: 1}\n",
    "topics = [\"hunger\", \"refugees\", \"humanitarian\", \"conflict\", \"corruption\", \"terrorism\", \"nature\", 'oil', \"livestock\"]\n",
    "for topic in topics:\n",
    "    news_df[topic] = news_df[topic].map(binary_classification)"
   ]
  },
  {
   "cell_type": "markdown",
   "metadata": {},
   "source": [
    "## Predicting using news features"
   ]
  },
  {
   "cell_type": "code",
   "execution_count": 13,
   "metadata": {},
   "outputs": [],
   "source": [
    "df.sort_index(level=0, inplace=True) # Sort DataFrame by date\n",
    "df = df.iloc[df['ipc'].notnull().argmax():].copy() # Drop rows until first notna value in ipc column\n",
    "df = df.join(news_features, how=\"left\") # Join df with created news features"
   ]
  },
  {
   "cell_type": "code",
   "execution_count": 14,
   "metadata": {},
   "outputs": [
    {
     "data": {
      "text/html": [
       "<div>\n",
       "<style scoped>\n",
       "    .dataframe tbody tr th:only-of-type {\n",
       "        vertical-align: middle;\n",
       "    }\n",
       "\n",
       "    .dataframe tbody tr th {\n",
       "        vertical-align: top;\n",
       "    }\n",
       "\n",
       "    .dataframe thead th {\n",
       "        text-align: right;\n",
       "    }\n",
       "</style>\n",
       "<table border=\"1\" class=\"dataframe\">\n",
       "  <thead>\n",
       "    <tr style=\"text-align: right;\">\n",
       "      <th></th>\n",
       "      <th></th>\n",
       "      <th>country</th>\n",
       "      <th>district_code</th>\n",
       "      <th>centx</th>\n",
       "      <th>centy</th>\n",
       "      <th>year</th>\n",
       "      <th>month</th>\n",
       "      <th>ipc</th>\n",
       "      <th>ha</th>\n",
       "      <th>ndvi_mean</th>\n",
       "      <th>ndvi_anom</th>\n",
       "      <th>...</th>\n",
       "      <th>ipc_lag_3</th>\n",
       "      <th>hunger</th>\n",
       "      <th>refugees</th>\n",
       "      <th>humanitarian</th>\n",
       "      <th>conflict</th>\n",
       "      <th>corruption</th>\n",
       "      <th>terrorism</th>\n",
       "      <th>nature</th>\n",
       "      <th>oil</th>\n",
       "      <th>livestock</th>\n",
       "    </tr>\n",
       "    <tr>\n",
       "      <th>date</th>\n",
       "      <th>district</th>\n",
       "      <th></th>\n",
       "      <th></th>\n",
       "      <th></th>\n",
       "      <th></th>\n",
       "      <th></th>\n",
       "      <th></th>\n",
       "      <th></th>\n",
       "      <th></th>\n",
       "      <th></th>\n",
       "      <th></th>\n",
       "      <th></th>\n",
       "      <th></th>\n",
       "      <th></th>\n",
       "      <th></th>\n",
       "      <th></th>\n",
       "      <th></th>\n",
       "      <th></th>\n",
       "      <th></th>\n",
       "      <th></th>\n",
       "      <th></th>\n",
       "      <th></th>\n",
       "    </tr>\n",
       "  </thead>\n",
       "  <tbody>\n",
       "    <tr>\n",
       "      <th rowspan=\"5\" valign=\"top\">2009-07-01</th>\n",
       "      <th>Abiemnhom</th>\n",
       "      <td>South Sudan</td>\n",
       "      <td>136</td>\n",
       "      <td>29.13019</td>\n",
       "      <td>9.550939</td>\n",
       "      <td>2009</td>\n",
       "      <td>7</td>\n",
       "      <td>2.0</td>\n",
       "      <td>NaN</td>\n",
       "      <td>0.698165</td>\n",
       "      <td>96.42507</td>\n",
       "      <td>...</td>\n",
       "      <td>NaN</td>\n",
       "      <td>NaN</td>\n",
       "      <td>NaN</td>\n",
       "      <td>NaN</td>\n",
       "      <td>NaN</td>\n",
       "      <td>NaN</td>\n",
       "      <td>NaN</td>\n",
       "      <td>NaN</td>\n",
       "      <td>NaN</td>\n",
       "      <td>NaN</td>\n",
       "    </tr>\n",
       "    <tr>\n",
       "      <th>Akobo</th>\n",
       "      <td>South Sudan</td>\n",
       "      <td>114</td>\n",
       "      <td>32.85308</td>\n",
       "      <td>7.799214</td>\n",
       "      <td>2009</td>\n",
       "      <td>7</td>\n",
       "      <td>4.0</td>\n",
       "      <td>NaN</td>\n",
       "      <td>0.474723</td>\n",
       "      <td>76.47572</td>\n",
       "      <td>...</td>\n",
       "      <td>NaN</td>\n",
       "      <td>NaN</td>\n",
       "      <td>NaN</td>\n",
       "      <td>NaN</td>\n",
       "      <td>NaN</td>\n",
       "      <td>NaN</td>\n",
       "      <td>NaN</td>\n",
       "      <td>NaN</td>\n",
       "      <td>NaN</td>\n",
       "      <td>NaN</td>\n",
       "    </tr>\n",
       "    <tr>\n",
       "      <th>Anzara</th>\n",
       "      <td>South Sudan</td>\n",
       "      <td>86</td>\n",
       "      <td>28.20598</td>\n",
       "      <td>5.309739</td>\n",
       "      <td>2009</td>\n",
       "      <td>7</td>\n",
       "      <td>1.0</td>\n",
       "      <td>NaN</td>\n",
       "      <td>0.812001</td>\n",
       "      <td>100.25750</td>\n",
       "      <td>...</td>\n",
       "      <td>NaN</td>\n",
       "      <td>NaN</td>\n",
       "      <td>NaN</td>\n",
       "      <td>NaN</td>\n",
       "      <td>NaN</td>\n",
       "      <td>NaN</td>\n",
       "      <td>NaN</td>\n",
       "      <td>NaN</td>\n",
       "      <td>NaN</td>\n",
       "      <td>NaN</td>\n",
       "    </tr>\n",
       "    <tr>\n",
       "      <th>Aweil Center</th>\n",
       "      <td>South Sudan</td>\n",
       "      <td>128</td>\n",
       "      <td>26.89562</td>\n",
       "      <td>8.417934</td>\n",
       "      <td>2009</td>\n",
       "      <td>7</td>\n",
       "      <td>2.0</td>\n",
       "      <td>NaN</td>\n",
       "      <td>0.723154</td>\n",
       "      <td>94.34696</td>\n",
       "      <td>...</td>\n",
       "      <td>NaN</td>\n",
       "      <td>NaN</td>\n",
       "      <td>NaN</td>\n",
       "      <td>NaN</td>\n",
       "      <td>NaN</td>\n",
       "      <td>NaN</td>\n",
       "      <td>NaN</td>\n",
       "      <td>NaN</td>\n",
       "      <td>NaN</td>\n",
       "      <td>NaN</td>\n",
       "    </tr>\n",
       "    <tr>\n",
       "      <th>Aweil East</th>\n",
       "      <td>South Sudan</td>\n",
       "      <td>141</td>\n",
       "      <td>27.61364</td>\n",
       "      <td>9.243139</td>\n",
       "      <td>2009</td>\n",
       "      <td>7</td>\n",
       "      <td>3.0</td>\n",
       "      <td>NaN</td>\n",
       "      <td>0.547611</td>\n",
       "      <td>86.30622</td>\n",
       "      <td>...</td>\n",
       "      <td>NaN</td>\n",
       "      <td>NaN</td>\n",
       "      <td>NaN</td>\n",
       "      <td>NaN</td>\n",
       "      <td>NaN</td>\n",
       "      <td>NaN</td>\n",
       "      <td>NaN</td>\n",
       "      <td>NaN</td>\n",
       "      <td>NaN</td>\n",
       "      <td>NaN</td>\n",
       "    </tr>\n",
       "  </tbody>\n",
       "</table>\n",
       "<p>5 rows × 40 columns</p>\n",
       "</div>"
      ],
      "text/plain": [
       "                             country  district_code     centx     centy  year  \\\n",
       "date       district                                                             \n",
       "2009-07-01 Abiemnhom     South Sudan            136  29.13019  9.550939  2009   \n",
       "           Akobo         South Sudan            114  32.85308  7.799214  2009   \n",
       "           Anzara        South Sudan             86  28.20598  5.309739  2009   \n",
       "           Aweil Center  South Sudan            128  26.89562  8.417934  2009   \n",
       "           Aweil East    South Sudan            141  27.61364  9.243139  2009   \n",
       "\n",
       "                         month  ipc  ha  ndvi_mean  ndvi_anom  ...  ipc_lag_3  \\\n",
       "date       district                                            ...              \n",
       "2009-07-01 Abiemnhom         7  2.0 NaN   0.698165   96.42507  ...        NaN   \n",
       "           Akobo             7  4.0 NaN   0.474723   76.47572  ...        NaN   \n",
       "           Anzara            7  1.0 NaN   0.812001  100.25750  ...        NaN   \n",
       "           Aweil Center      7  2.0 NaN   0.723154   94.34696  ...        NaN   \n",
       "           Aweil East        7  3.0 NaN   0.547611   86.30622  ...        NaN   \n",
       "\n",
       "                         hunger  refugees  humanitarian  conflict  corruption  \\\n",
       "date       district                                                             \n",
       "2009-07-01 Abiemnhom        NaN       NaN           NaN       NaN         NaN   \n",
       "           Akobo            NaN       NaN           NaN       NaN         NaN   \n",
       "           Anzara           NaN       NaN           NaN       NaN         NaN   \n",
       "           Aweil Center     NaN       NaN           NaN       NaN         NaN   \n",
       "           Aweil East       NaN       NaN           NaN       NaN         NaN   \n",
       "\n",
       "                         terrorism  nature  oil  livestock  \n",
       "date       district                                         \n",
       "2009-07-01 Abiemnhom           NaN     NaN  NaN        NaN  \n",
       "           Akobo               NaN     NaN  NaN        NaN  \n",
       "           Anzara              NaN     NaN  NaN        NaN  \n",
       "           Aweil Center        NaN     NaN  NaN        NaN  \n",
       "           Aweil East          NaN     NaN  NaN        NaN  \n",
       "\n",
       "[5 rows x 40 columns]"
      ]
     },
     "execution_count": 14,
     "metadata": {},
     "output_type": "execute_result"
    }
   ],
   "source": [
    "df.head()"
   ]
  },
  {
   "cell_type": "code",
   "execution_count": 15,
   "metadata": {},
   "outputs": [
    {
     "data": {
      "text/html": [
       "<div>\n",
       "<style scoped>\n",
       "    .dataframe tbody tr th:only-of-type {\n",
       "        vertical-align: middle;\n",
       "    }\n",
       "\n",
       "    .dataframe tbody tr th {\n",
       "        vertical-align: top;\n",
       "    }\n",
       "\n",
       "    .dataframe thead th {\n",
       "        text-align: right;\n",
       "    }\n",
       "</style>\n",
       "<table border=\"1\" class=\"dataframe\">\n",
       "  <thead>\n",
       "    <tr style=\"text-align: right;\">\n",
       "      <th></th>\n",
       "      <th></th>\n",
       "      <th>country</th>\n",
       "      <th>district_code</th>\n",
       "      <th>centx</th>\n",
       "      <th>centy</th>\n",
       "      <th>year</th>\n",
       "      <th>month</th>\n",
       "      <th>ipc</th>\n",
       "      <th>ha</th>\n",
       "      <th>ndvi_mean</th>\n",
       "      <th>ndvi_anom</th>\n",
       "      <th>...</th>\n",
       "      <th>hunger</th>\n",
       "      <th>refugees</th>\n",
       "      <th>humanitarian</th>\n",
       "      <th>conflict</th>\n",
       "      <th>corruption</th>\n",
       "      <th>terrorism</th>\n",
       "      <th>nature</th>\n",
       "      <th>oil</th>\n",
       "      <th>livestock</th>\n",
       "      <th>crisis</th>\n",
       "    </tr>\n",
       "    <tr>\n",
       "      <th>date</th>\n",
       "      <th>district</th>\n",
       "      <th></th>\n",
       "      <th></th>\n",
       "      <th></th>\n",
       "      <th></th>\n",
       "      <th></th>\n",
       "      <th></th>\n",
       "      <th></th>\n",
       "      <th></th>\n",
       "      <th></th>\n",
       "      <th></th>\n",
       "      <th></th>\n",
       "      <th></th>\n",
       "      <th></th>\n",
       "      <th></th>\n",
       "      <th></th>\n",
       "      <th></th>\n",
       "      <th></th>\n",
       "      <th></th>\n",
       "      <th></th>\n",
       "      <th></th>\n",
       "      <th></th>\n",
       "    </tr>\n",
       "  </thead>\n",
       "  <tbody>\n",
       "    <tr>\n",
       "      <th rowspan=\"5\" valign=\"top\">2009-07-01</th>\n",
       "      <th>Abiemnhom</th>\n",
       "      <td>South Sudan</td>\n",
       "      <td>136</td>\n",
       "      <td>29.13019</td>\n",
       "      <td>9.550939</td>\n",
       "      <td>2009</td>\n",
       "      <td>7</td>\n",
       "      <td>2.0</td>\n",
       "      <td>NaN</td>\n",
       "      <td>0.698165</td>\n",
       "      <td>96.42507</td>\n",
       "      <td>...</td>\n",
       "      <td>NaN</td>\n",
       "      <td>NaN</td>\n",
       "      <td>NaN</td>\n",
       "      <td>NaN</td>\n",
       "      <td>NaN</td>\n",
       "      <td>NaN</td>\n",
       "      <td>NaN</td>\n",
       "      <td>NaN</td>\n",
       "      <td>NaN</td>\n",
       "      <td>0</td>\n",
       "    </tr>\n",
       "    <tr>\n",
       "      <th>Akobo</th>\n",
       "      <td>South Sudan</td>\n",
       "      <td>114</td>\n",
       "      <td>32.85308</td>\n",
       "      <td>7.799214</td>\n",
       "      <td>2009</td>\n",
       "      <td>7</td>\n",
       "      <td>4.0</td>\n",
       "      <td>NaN</td>\n",
       "      <td>0.474723</td>\n",
       "      <td>76.47572</td>\n",
       "      <td>...</td>\n",
       "      <td>NaN</td>\n",
       "      <td>NaN</td>\n",
       "      <td>NaN</td>\n",
       "      <td>NaN</td>\n",
       "      <td>NaN</td>\n",
       "      <td>NaN</td>\n",
       "      <td>NaN</td>\n",
       "      <td>NaN</td>\n",
       "      <td>NaN</td>\n",
       "      <td>1</td>\n",
       "    </tr>\n",
       "    <tr>\n",
       "      <th>Anzara</th>\n",
       "      <td>South Sudan</td>\n",
       "      <td>86</td>\n",
       "      <td>28.20598</td>\n",
       "      <td>5.309739</td>\n",
       "      <td>2009</td>\n",
       "      <td>7</td>\n",
       "      <td>1.0</td>\n",
       "      <td>NaN</td>\n",
       "      <td>0.812001</td>\n",
       "      <td>100.25750</td>\n",
       "      <td>...</td>\n",
       "      <td>NaN</td>\n",
       "      <td>NaN</td>\n",
       "      <td>NaN</td>\n",
       "      <td>NaN</td>\n",
       "      <td>NaN</td>\n",
       "      <td>NaN</td>\n",
       "      <td>NaN</td>\n",
       "      <td>NaN</td>\n",
       "      <td>NaN</td>\n",
       "      <td>0</td>\n",
       "    </tr>\n",
       "    <tr>\n",
       "      <th>Aweil Center</th>\n",
       "      <td>South Sudan</td>\n",
       "      <td>128</td>\n",
       "      <td>26.89562</td>\n",
       "      <td>8.417934</td>\n",
       "      <td>2009</td>\n",
       "      <td>7</td>\n",
       "      <td>2.0</td>\n",
       "      <td>NaN</td>\n",
       "      <td>0.723154</td>\n",
       "      <td>94.34696</td>\n",
       "      <td>...</td>\n",
       "      <td>NaN</td>\n",
       "      <td>NaN</td>\n",
       "      <td>NaN</td>\n",
       "      <td>NaN</td>\n",
       "      <td>NaN</td>\n",
       "      <td>NaN</td>\n",
       "      <td>NaN</td>\n",
       "      <td>NaN</td>\n",
       "      <td>NaN</td>\n",
       "      <td>0</td>\n",
       "    </tr>\n",
       "    <tr>\n",
       "      <th>Aweil East</th>\n",
       "      <td>South Sudan</td>\n",
       "      <td>141</td>\n",
       "      <td>27.61364</td>\n",
       "      <td>9.243139</td>\n",
       "      <td>2009</td>\n",
       "      <td>7</td>\n",
       "      <td>3.0</td>\n",
       "      <td>NaN</td>\n",
       "      <td>0.547611</td>\n",
       "      <td>86.30622</td>\n",
       "      <td>...</td>\n",
       "      <td>NaN</td>\n",
       "      <td>NaN</td>\n",
       "      <td>NaN</td>\n",
       "      <td>NaN</td>\n",
       "      <td>NaN</td>\n",
       "      <td>NaN</td>\n",
       "      <td>NaN</td>\n",
       "      <td>NaN</td>\n",
       "      <td>NaN</td>\n",
       "      <td>1</td>\n",
       "    </tr>\n",
       "  </tbody>\n",
       "</table>\n",
       "<p>5 rows × 41 columns</p>\n",
       "</div>"
      ],
      "text/plain": [
       "                             country  district_code     centx     centy  year  \\\n",
       "date       district                                                             \n",
       "2009-07-01 Abiemnhom     South Sudan            136  29.13019  9.550939  2009   \n",
       "           Akobo         South Sudan            114  32.85308  7.799214  2009   \n",
       "           Anzara        South Sudan             86  28.20598  5.309739  2009   \n",
       "           Aweil Center  South Sudan            128  26.89562  8.417934  2009   \n",
       "           Aweil East    South Sudan            141  27.61364  9.243139  2009   \n",
       "\n",
       "                         month  ipc  ha  ndvi_mean  ndvi_anom  ...  hunger  \\\n",
       "date       district                                            ...           \n",
       "2009-07-01 Abiemnhom         7  2.0 NaN   0.698165   96.42507  ...     NaN   \n",
       "           Akobo             7  4.0 NaN   0.474723   76.47572  ...     NaN   \n",
       "           Anzara            7  1.0 NaN   0.812001  100.25750  ...     NaN   \n",
       "           Aweil Center      7  2.0 NaN   0.723154   94.34696  ...     NaN   \n",
       "           Aweil East        7  3.0 NaN   0.547611   86.30622  ...     NaN   \n",
       "\n",
       "                         refugees  humanitarian  conflict  corruption  \\\n",
       "date       district                                                     \n",
       "2009-07-01 Abiemnhom          NaN           NaN       NaN         NaN   \n",
       "           Akobo              NaN           NaN       NaN         NaN   \n",
       "           Anzara             NaN           NaN       NaN         NaN   \n",
       "           Aweil Center       NaN           NaN       NaN         NaN   \n",
       "           Aweil East         NaN           NaN       NaN         NaN   \n",
       "\n",
       "                         terrorism  nature  oil  livestock  crisis  \n",
       "date       district                                                 \n",
       "2009-07-01 Abiemnhom           NaN     NaN  NaN        NaN       0  \n",
       "           Akobo               NaN     NaN  NaN        NaN       1  \n",
       "           Anzara              NaN     NaN  NaN        NaN       0  \n",
       "           Aweil Center        NaN     NaN  NaN        NaN       0  \n",
       "           Aweil East          NaN     NaN  NaN        NaN       1  \n",
       "\n",
       "[5 rows x 41 columns]"
      ]
     },
     "execution_count": 15,
     "metadata": {},
     "output_type": "execute_result"
    }
   ],
   "source": [
    "df['crisis'] = df['ipc'] >= 3.0\n",
    "df['crisis'] = df['crisis'].map(binary_classification)\n",
    "df.head()"
   ]
  },
  {
   "cell_type": "code",
   "execution_count": 16,
   "metadata": {},
   "outputs": [
    {
     "data": {
      "text/plain": [
       "0    1978\n",
       "1    1064\n",
       "Name: crisis, dtype: int64"
      ]
     },
     "execution_count": 16,
     "metadata": {},
     "output_type": "execute_result"
    }
   ],
   "source": [
    "df['crisis'].value_counts()"
   ]
  },
  {
   "cell_type": "code",
   "execution_count": 18,
   "metadata": {},
   "outputs": [
    {
     "data": {
      "text/plain": [
       "country                     0\n",
       "district_code               0\n",
       "centx                       0\n",
       "centy                       0\n",
       "year                        0\n",
       "month                       0\n",
       "ipc                         0\n",
       "ha                        858\n",
       "ndvi_mean                   0\n",
       "ndvi_anom                   0\n",
       "rain_mean                   0\n",
       "rain_anom                   0\n",
       "et_mean                     0\n",
       "et_anom                     0\n",
       "count_violence              0\n",
       "sum_fatalities              0\n",
       "food_price_idx              0\n",
       "area                        0\n",
       "cropland_pct                0\n",
       "pop                         0\n",
       "ruggedness_mean             0\n",
       "pasture_pct                 0\n",
       "province                    0\n",
       "administrative_region       0\n",
       "quarters                    0\n",
       "count_violence_lag_3      624\n",
       "ndvi_anom_lag_3           624\n",
       "food_price_idx_lag_3      702\n",
       "ipc_lag_1                  78\n",
       "ipc_lag_2                 156\n",
       "ipc_lag_3                 234\n",
       "hunger                   3042\n",
       "refugees                 3042\n",
       "humanitarian             3042\n",
       "conflict                 3042\n",
       "corruption               3042\n",
       "terrorism                3042\n",
       "nature                   3042\n",
       "oil                      3042\n",
       "livestock                3042\n",
       "crisis                      0\n",
       "dtype: int64"
      ]
     },
     "execution_count": 18,
     "metadata": {},
     "output_type": "execute_result"
    }
   ],
   "source": [
    "df.isna().sum()"
   ]
  },
  {
   "cell_type": "code",
   "execution_count": 20,
   "metadata": {},
   "outputs": [
    {
     "name": "stdout",
     "output_type": "stream",
     "text": [
      "Index(['quarters', 'count_violence_lag_3', 'ndvi_anom_lag_3',\n",
      "       'food_price_idx_lag_3', 'ipc_lag_1', 'ipc_lag_2', 'ipc_lag_3', 'hunger',\n",
      "       'refugees', 'humanitarian', 'conflict', 'corruption', 'terrorism',\n",
      "       'nature', 'oil', 'livestock'],\n",
      "      dtype='object')\n"
     ]
    },
    {
     "ename": "ValueError",
     "evalue": "could not convert string to float: '2009Q3'",
     "output_type": "error",
     "traceback": [
      "\u001b[1;31m---------------------------------------------------------------------------\u001b[0m",
      "\u001b[1;31mValueError\u001b[0m                                Traceback (most recent call last)",
      "\u001b[1;32md:\\University Stuff\\Data Challenge 3\\JBG060-group9\\RandomForestClassifier.ipynb Cell 25\u001b[0m line \u001b[0;36m<cell line: 35>\u001b[1;34m()\u001b[0m\n\u001b[0;32m     <a href='vscode-notebook-cell:/d%3A/University%20Stuff/Data%20Challenge%203/JBG060-group9/RandomForestClassifier.ipynb#X24sZmlsZQ%3D%3D?line=48'>49</a>\u001b[0m y_train\u001b[39m.\u001b[39mreset_index(level\u001b[39m=\u001b[39m\u001b[39m0\u001b[39m, drop\u001b[39m=\u001b[39m\u001b[39mTrue\u001b[39;00m, inplace\u001b[39m=\u001b[39m\u001b[39mTrue\u001b[39;00m)\n\u001b[0;32m     <a href='vscode-notebook-cell:/d%3A/University%20Stuff/Data%20Challenge%203/JBG060-group9/RandomForestClassifier.ipynb#X24sZmlsZQ%3D%3D?line=50'>51</a>\u001b[0m \u001b[39m# Interpolate testing data using the same imputer as for training data\u001b[39;00m\n\u001b[1;32m---> <a href='vscode-notebook-cell:/d%3A/University%20Stuff/Data%20Challenge%203/JBG060-group9/RandomForestClassifier.ipynb#X24sZmlsZQ%3D%3D?line=51'>52</a>\u001b[0m X_train_imputed \u001b[39m=\u001b[39m imputer\u001b[39m.\u001b[39;49mfit_transform(X_train\u001b[39m.\u001b[39;49mvalues)\n\u001b[0;32m     <a href='vscode-notebook-cell:/d%3A/University%20Stuff/Data%20Challenge%203/JBG060-group9/RandomForestClassifier.ipynb#X24sZmlsZQ%3D%3D?line=52'>53</a>\u001b[0m X_test_imputed \u001b[39m=\u001b[39m imputer\u001b[39m.\u001b[39mfit_transform(X_test\u001b[39m.\u001b[39mvalues)\n\u001b[0;32m     <a href='vscode-notebook-cell:/d%3A/University%20Stuff/Data%20Challenge%203/JBG060-group9/RandomForestClassifier.ipynb#X24sZmlsZQ%3D%3D?line=54'>55</a>\u001b[0m \u001b[39m# Train the RandomForestClassifier\u001b[39;00m\n\u001b[0;32m     <a href='vscode-notebook-cell:/d%3A/University%20Stuff/Data%20Challenge%203/JBG060-group9/RandomForestClassifier.ipynb#X24sZmlsZQ%3D%3D?line=55'>56</a>\u001b[0m \u001b[39m# number of trees is 100, and  42 is just to initialize random number to make random choices during training\u001b[39;00m\n",
      "File \u001b[1;32mc:\\Users\\Rafi\\AppData\\Local\\Programs\\Python\\Python310\\lib\\site-packages\\missingpy\\missforest.py:556\u001b[0m, in \u001b[0;36mMissForest.fit_transform\u001b[1;34m(self, X, y, **fit_params)\u001b[0m\n\u001b[0;32m    542\u001b[0m \u001b[39mdef\u001b[39;00m \u001b[39mfit_transform\u001b[39m(\u001b[39mself\u001b[39m, X, y\u001b[39m=\u001b[39m\u001b[39mNone\u001b[39;00m, \u001b[39m*\u001b[39m\u001b[39m*\u001b[39mfit_params):\n\u001b[0;32m    543\u001b[0m \u001b[39m    \u001b[39m\u001b[39m\"\"\"Fit MissForest and impute all missing values in X.\u001b[39;00m\n\u001b[0;32m    544\u001b[0m \n\u001b[0;32m    545\u001b[0m \u001b[39m    Parameters\u001b[39;00m\n\u001b[1;32m   (...)\u001b[0m\n\u001b[0;32m    554\u001b[0m \u001b[39m        Returns imputed dataset.\u001b[39;00m\n\u001b[0;32m    555\u001b[0m \u001b[39m    \"\"\"\u001b[39;00m\n\u001b[1;32m--> 556\u001b[0m     \u001b[39mreturn\u001b[39;00m \u001b[39mself\u001b[39m\u001b[39m.\u001b[39mfit(X, \u001b[39m*\u001b[39m\u001b[39m*\u001b[39mfit_params)\u001b[39m.\u001b[39mtransform(X)\n",
      "File \u001b[1;32mc:\\Users\\Rafi\\AppData\\Local\\Programs\\Python\\Python310\\lib\\site-packages\\missingpy\\missforest.py:440\u001b[0m, in \u001b[0;36mMissForest.fit\u001b[1;34m(self, X, y, cat_vars)\u001b[0m\n\u001b[0;32m    436\u001b[0m \u001b[39m# Check data integrity and calling arguments\u001b[39;00m\n\u001b[0;32m    437\u001b[0m force_all_finite \u001b[39m=\u001b[39m \u001b[39mFalse\u001b[39;00m \u001b[39mif\u001b[39;00m \u001b[39mself\u001b[39m\u001b[39m.\u001b[39mmissing_values \u001b[39min\u001b[39;00m [\u001b[39m\"\u001b[39m\u001b[39mNaN\u001b[39m\u001b[39m\"\u001b[39m,\n\u001b[0;32m    438\u001b[0m                                                     np\u001b[39m.\u001b[39mnan] \u001b[39melse\u001b[39;00m \u001b[39mTrue\u001b[39;00m\n\u001b[1;32m--> 440\u001b[0m X \u001b[39m=\u001b[39m check_array(X, accept_sparse\u001b[39m=\u001b[39;49m\u001b[39mFalse\u001b[39;49;00m, dtype\u001b[39m=\u001b[39;49mnp\u001b[39m.\u001b[39;49mfloat64,\n\u001b[0;32m    441\u001b[0m                 force_all_finite\u001b[39m=\u001b[39;49mforce_all_finite, copy\u001b[39m=\u001b[39;49m\u001b[39mself\u001b[39;49m\u001b[39m.\u001b[39;49mcopy)\n\u001b[0;32m    443\u001b[0m \u001b[39m# Check for +/- inf\u001b[39;00m\n\u001b[0;32m    444\u001b[0m \u001b[39mif\u001b[39;00m np\u001b[39m.\u001b[39many(np\u001b[39m.\u001b[39misinf(X)):\n",
      "File \u001b[1;32mc:\\Users\\Rafi\\AppData\\Local\\Programs\\Python\\Python310\\lib\\site-packages\\sklearn\\utils\\validation.py:856\u001b[0m, in \u001b[0;36mcheck_array\u001b[1;34m(array, accept_sparse, accept_large_sparse, dtype, order, copy, force_all_finite, ensure_2d, allow_nd, ensure_min_samples, ensure_min_features, estimator, input_name)\u001b[0m\n\u001b[0;32m    854\u001b[0m         array \u001b[39m=\u001b[39m array\u001b[39m.\u001b[39mastype(dtype, casting\u001b[39m=\u001b[39m\u001b[39m\"\u001b[39m\u001b[39munsafe\u001b[39m\u001b[39m\"\u001b[39m, copy\u001b[39m=\u001b[39m\u001b[39mFalse\u001b[39;00m)\n\u001b[0;32m    855\u001b[0m     \u001b[39melse\u001b[39;00m:\n\u001b[1;32m--> 856\u001b[0m         array \u001b[39m=\u001b[39m np\u001b[39m.\u001b[39;49masarray(array, order\u001b[39m=\u001b[39;49morder, dtype\u001b[39m=\u001b[39;49mdtype)\n\u001b[0;32m    857\u001b[0m \u001b[39mexcept\u001b[39;00m ComplexWarning \u001b[39mas\u001b[39;00m complex_warning:\n\u001b[0;32m    858\u001b[0m     \u001b[39mraise\u001b[39;00m \u001b[39mValueError\u001b[39;00m(\n\u001b[0;32m    859\u001b[0m         \u001b[39m\"\u001b[39m\u001b[39mComplex data not supported\u001b[39m\u001b[39m\\n\u001b[39;00m\u001b[39m{}\u001b[39;00m\u001b[39m\\n\u001b[39;00m\u001b[39m\"\u001b[39m\u001b[39m.\u001b[39mformat(array)\n\u001b[0;32m    860\u001b[0m     ) \u001b[39mfrom\u001b[39;00m \u001b[39mcomplex_warning\u001b[39;00m\n",
      "\u001b[1;31mValueError\u001b[0m: could not convert string to float: '2009Q3'"
     ]
    }
   ],
   "source": [
    "from sklearn.ensemble import RandomForestClassifier\n",
    "import sklearn.neighbors._base\n",
    "import sys\n",
    "sys.modules['sklearn.neighbors.base'] = sklearn.neighbors._base\n",
    "from missingpy import MissForest\n",
    "from sklearn.metrics import accuracy_score, classification_report\n",
    "from sklearn.preprocessing import LabelEncoder\n",
    "import warnings\n",
    "\n",
    "# Specifying the warnings to be ignored\n",
    "warnings.filterwarnings(\n",
    "    action=\"ignore\",\n",
    "    message=\"Criterion 'mse'\",\n",
    ")\n",
    "warnings.filterwarnings(\n",
    "    action=\"ignore\",\n",
    "    message=\"`max_features='auto'`\",\n",
    ")\n",
    "\n",
    "imputer = MissForest(verbose=0)\n",
    "label_encoder = LabelEncoder()\n",
    "df_copy = df.copy() # Make a copy of the original df\n",
    "df_copy.ffill(inplace=True) # Data imputation using forward fill\n",
    "\n",
    "X = df_copy.iloc[:, -16:-1] # Define explanatory variables\n",
    "print(X.columns)\n",
    "X = sm.add_constant(X) # Add constant column of 1s for intercept\n",
    "y = df_copy[[\"crisis\"]] # Define target data\n",
    "\n",
    "cv = TimeSeriesSplit(n_splits=5) # Define TimeSeriesSplit with 5 splits\n",
    "\n",
    "# Initinalize empty lists to score scores\n",
    "accuracy_values = list()\n",
    "\n",
    "for train_index, val_index in cv.split(X): # Loop over the different training-test splits\n",
    "\n",
    "    # Define X and y data\n",
    "    X_train, X_test = X.iloc[train_index], X.iloc[val_index]\n",
    "    y_train, y_val = y.iloc[train_index], y.iloc[val_index]\n",
    "\n",
    "    # If X_train doesn't contain any news features (this happens for earlier dates) we drop news columns from both X_train and X_test\n",
    "    X_train = X_train.dropna(axis=1, how='all').copy()\n",
    "    X_test = X_test[X_train.columns]\n",
    "    \n",
    "    #Interpolate training data to generate more training points\n",
    "    X_train = X_train.groupby('district', as_index=False).apply(lambda group: group.interpolate())\n",
    "    X_train.reset_index(level=0, drop=True, inplace=True)\n",
    "    y_train = y_train.groupby('district', as_index=False).apply(lambda group: group.interpolate())\n",
    "    y_train.reset_index(level=0, drop=True, inplace=True)\n",
    "\n",
    "    # Interpolate testing data using the same imputer as for training data\n",
    "    X_train_imputed = imputer.fit_transform(X_train.values)\n",
    "    X_test_imputed = imputer.fit_transform(X_test.values)\n",
    "\n",
    "    # Train the RandomForestClassifier\n",
    "    # number of trees is 100, and  42 is just to initialize random number to make random choices during training\n",
    "    rf_classifier = RandomForestClassifier(n_estimators=100, random_state=42)\n",
    "    results = rf_classifier.fit(X=X_train_imputed, y=np.ravel(y_train))\n",
    "\n",
    "    rf_classifier.feature_names_in_ = list(X.columns)\n",
    "\n",
    "    # Predict on the test data\n",
    "    y_pred = rf_classifier.predict(X_test_imputed)\n",
    "    \n",
    "    accuracy = accuracy_score(y_val, y_pred)\n",
    "    accuracy_values.append(accuracy)\n",
    "\n",
    "    plt.title('train %s - %s | test %s - %s' % (train_index[0], train_index[-1], val_index[0], val_index[-1]))\n",
    "    plot_ConfusionMatrix(prediction = y_pred, true = y_val['crisis'], binary=True) # Plot confusion matrix\n",
    "\n",
    "    print (classification_report(y_val,y_pred))\n",
    "\n",
    "\n",
    "print(f\"Mean Accuracy: {np.mean(accuracy_values):.6f}\") # Print MAE\n",
    "print(accuracy_values)\n",
    "\n",
    "# Why it predicts different values each time?\n",
    "# In the early years of the data, only ipc 1 and 2 prevail with ipc 3 occurs the least. Thus in the first two iterations it only predicts\n",
    "# 1 and 2. Then we see more ipc 3 for which it begins to predict in the 3rd iteration. The same can be said about ipc 4. In the final \n",
    "# iteration, it focuses on only predicting ipc 2 and 3 which the model thinks it predicts best.\n",
    "\n",
    "    "
   ]
  },
  {
   "cell_type": "code",
   "execution_count": 232,
   "metadata": {},
   "outputs": [
    {
     "name": "stdout",
     "output_type": "stream",
     "text": [
      "Fitting 2 folds for each of 10 candidates, totalling 20 fits\n"
     ]
    },
    {
     "name": "stderr",
     "output_type": "stream",
     "text": [
      "c:\\Users\\Rafi\\AppData\\Local\\Programs\\Python\\Python310\\lib\\site-packages\\sklearn\\model_selection\\_search.py:910: DataConversionWarning: A column-vector y was passed when a 1d array was expected. Please change the shape of y to (n_samples,), for example using ravel().\n",
      "  self.best_estimator_.fit(X, y, **fit_params)\n"
     ]
    },
    {
     "name": "stdout",
     "output_type": "stream",
     "text": [
      "{'n_estimators': 25, 'min_samples_split': 5, 'min_samples_leaf': 4, 'max_features': 'sqrt', 'max_depth': 30, 'bootstrap': True}\n",
      "Train Accuracy - : 0.974\n",
      "Test Accuracy - : 0.816\n",
      "Fitting 3 folds for each of 10 candidates, totalling 30 fits\n"
     ]
    },
    {
     "name": "stderr",
     "output_type": "stream",
     "text": [
      "c:\\Users\\Rafi\\AppData\\Local\\Programs\\Python\\Python310\\lib\\site-packages\\sklearn\\model_selection\\_search.py:910: DataConversionWarning: A column-vector y was passed when a 1d array was expected. Please change the shape of y to (n_samples,), for example using ravel().\n",
      "  self.best_estimator_.fit(X, y, **fit_params)\n"
     ]
    },
    {
     "name": "stdout",
     "output_type": "stream",
     "text": [
      "{'n_estimators': 72, 'min_samples_split': 10, 'min_samples_leaf': 4, 'max_features': 'sqrt', 'max_depth': 20, 'bootstrap': True}\n",
      "Train Accuracy - : 0.975\n",
      "Test Accuracy - : 0.821\n",
      "Fitting 4 folds for each of 10 candidates, totalling 40 fits\n"
     ]
    },
    {
     "name": "stderr",
     "output_type": "stream",
     "text": [
      "c:\\Users\\Rafi\\AppData\\Local\\Programs\\Python\\Python310\\lib\\site-packages\\sklearn\\model_selection\\_search.py:910: DataConversionWarning: A column-vector y was passed when a 1d array was expected. Please change the shape of y to (n_samples,), for example using ravel().\n",
      "  self.best_estimator_.fit(X, y, **fit_params)\n"
     ]
    },
    {
     "name": "stdout",
     "output_type": "stream",
     "text": [
      "{'n_estimators': 64, 'min_samples_split': 10, 'min_samples_leaf': 4, 'max_features': 'auto', 'max_depth': 110, 'bootstrap': True}\n",
      "Train Accuracy - : 0.975\n",
      "Test Accuracy - : 0.820\n",
      "Fitting 5 folds for each of 10 candidates, totalling 50 fits\n"
     ]
    },
    {
     "name": "stderr",
     "output_type": "stream",
     "text": [
      "c:\\Users\\Rafi\\AppData\\Local\\Programs\\Python\\Python310\\lib\\site-packages\\sklearn\\model_selection\\_search.py:910: DataConversionWarning: A column-vector y was passed when a 1d array was expected. Please change the shape of y to (n_samples,), for example using ravel().\n",
      "  self.best_estimator_.fit(X, y, **fit_params)\n"
     ]
    },
    {
     "name": "stdout",
     "output_type": "stream",
     "text": [
      "{'n_estimators': 56, 'min_samples_split': 10, 'min_samples_leaf': 4, 'max_features': 'auto', 'max_depth': 20, 'bootstrap': True}\n",
      "Train Accuracy - : 0.973\n",
      "Test Accuracy - : 0.822\n",
      "Fitting 6 folds for each of 10 candidates, totalling 60 fits\n"
     ]
    },
    {
     "name": "stderr",
     "output_type": "stream",
     "text": [
      "c:\\Users\\Rafi\\AppData\\Local\\Programs\\Python\\Python310\\lib\\site-packages\\sklearn\\model_selection\\_search.py:910: DataConversionWarning: A column-vector y was passed when a 1d array was expected. Please change the shape of y to (n_samples,), for example using ravel().\n",
      "  self.best_estimator_.fit(X, y, **fit_params)\n"
     ]
    },
    {
     "name": "stdout",
     "output_type": "stream",
     "text": [
      "{'n_estimators': 48, 'min_samples_split': 10, 'min_samples_leaf': 4, 'max_features': 'sqrt', 'max_depth': 30, 'bootstrap': True}\n",
      "Train Accuracy - : 0.974\n",
      "Test Accuracy - : 0.823\n",
      "Fitting 7 folds for each of 10 candidates, totalling 70 fits\n"
     ]
    },
    {
     "name": "stderr",
     "output_type": "stream",
     "text": [
      "c:\\Users\\Rafi\\AppData\\Local\\Programs\\Python\\Python310\\lib\\site-packages\\sklearn\\model_selection\\_search.py:910: DataConversionWarning: A column-vector y was passed when a 1d array was expected. Please change the shape of y to (n_samples,), for example using ravel().\n",
      "  self.best_estimator_.fit(X, y, **fit_params)\n"
     ]
    },
    {
     "name": "stdout",
     "output_type": "stream",
     "text": [
      "{'n_estimators': 64, 'min_samples_split': 10, 'min_samples_leaf': 4, 'max_features': 'sqrt', 'max_depth': 100, 'bootstrap': True}\n",
      "Train Accuracy - : 0.975\n",
      "Test Accuracy - : 0.822\n",
      "Fitting 8 folds for each of 10 candidates, totalling 80 fits\n"
     ]
    },
    {
     "name": "stderr",
     "output_type": "stream",
     "text": [
      "c:\\Users\\Rafi\\AppData\\Local\\Programs\\Python\\Python310\\lib\\site-packages\\sklearn\\model_selection\\_search.py:910: DataConversionWarning: A column-vector y was passed when a 1d array was expected. Please change the shape of y to (n_samples,), for example using ravel().\n",
      "  self.best_estimator_.fit(X, y, **fit_params)\n"
     ]
    },
    {
     "name": "stdout",
     "output_type": "stream",
     "text": [
      "{'n_estimators': 41, 'min_samples_split': 5, 'min_samples_leaf': 4, 'max_features': 'auto', 'max_depth': None, 'bootstrap': True}\n",
      "Train Accuracy - : 0.975\n",
      "Test Accuracy - : 0.812\n",
      "Fitting 9 folds for each of 10 candidates, totalling 90 fits\n"
     ]
    },
    {
     "name": "stderr",
     "output_type": "stream",
     "text": [
      "c:\\Users\\Rafi\\AppData\\Local\\Programs\\Python\\Python310\\lib\\site-packages\\sklearn\\model_selection\\_search.py:910: DataConversionWarning: A column-vector y was passed when a 1d array was expected. Please change the shape of y to (n_samples,), for example using ravel().\n",
      "  self.best_estimator_.fit(X, y, **fit_params)\n"
     ]
    },
    {
     "name": "stdout",
     "output_type": "stream",
     "text": [
      "{'n_estimators': 25, 'min_samples_split': 2, 'min_samples_leaf': 4, 'max_features': 'sqrt', 'max_depth': 30, 'bootstrap': True}\n",
      "Train Accuracy - : 0.974\n",
      "Test Accuracy - : 0.823\n",
      "Fitting 10 folds for each of 10 candidates, totalling 100 fits\n"
     ]
    },
    {
     "name": "stderr",
     "output_type": "stream",
     "text": [
      "c:\\Users\\Rafi\\AppData\\Local\\Programs\\Python\\Python310\\lib\\site-packages\\sklearn\\model_selection\\_search.py:910: DataConversionWarning: A column-vector y was passed when a 1d array was expected. Please change the shape of y to (n_samples,), for example using ravel().\n",
      "  self.best_estimator_.fit(X, y, **fit_params)\n"
     ]
    },
    {
     "name": "stdout",
     "output_type": "stream",
     "text": [
      "{'n_estimators': 56, 'min_samples_split': 5, 'min_samples_leaf': 4, 'max_features': 'sqrt', 'max_depth': 10, 'bootstrap': True}\n",
      "Train Accuracy - : 0.971\n",
      "Test Accuracy - : 0.818\n"
     ]
    }
   ],
   "source": [
    "from sklearn.model_selection import RandomizedSearchCV\n",
    "\n",
    "# Number of trees in random forest\n",
    "n_estimators = [int(x) for x in np.linspace(start = 10, stop = 80, num = 10)]\n",
    "# Number of features to consider at every split\n",
    "max_features = ['auto', 'sqrt']\n",
    "# Maximum number of levels in tree\n",
    "max_depth = [int(x) for x in np.linspace(10, 110, num = 11)]\n",
    "max_depth.append(None)\n",
    "# Minimum number of samples required to split a node\n",
    "min_samples_split = [2, 5, 10]\n",
    "# Minimum number of samples required at each leaf node\n",
    "min_samples_leaf = [1, 2, 4]\n",
    "# Method of selecting samples for training each tree\n",
    "bootstrap = [True, False]\n",
    "# Create the random grid\n",
    "random_grid = {'n_estimators': n_estimators,\n",
    "               'max_features': max_features,\n",
    "               'max_depth': max_depth,\n",
    "               'min_samples_split': min_samples_split,\n",
    "               'min_samples_leaf': min_samples_leaf,\n",
    "               'bootstrap': bootstrap}\n",
    "\n",
    "# Use the random grid to search for best hyperparameters\n",
    "# First create the base model to tune\n",
    "rfc = RandomForestClassifier()\n",
    "# Random search of parameters, using 3 fold cross validation, \n",
    "# search across 100 different combinations, and use all available cores\n",
    "for x in range(2,11):\n",
    "    rf_random = RandomizedSearchCV(estimator = rfc, param_distributions = random_grid, cv = x, verbose=2, n_jobs = 4)\n",
    "    # Fit the random search model\n",
    "    rf_random.fit(X_train_imputed, y_train)\n",
    "    print(rf_random.best_params_)\n",
    "    print (f'Train Accuracy - : {rf_random.score(X_train_imputed, y_train):.3f}')\n",
    "    print (f'Test Accuracy - : {rf_random.score(X_test_imputed,y_val):.3f}')"
   ]
  },
  {
   "cell_type": "code",
   "execution_count": 233,
   "metadata": {},
   "outputs": [
    {
     "data": {
      "text/plain": [
       "{'n_estimators': 56,\n",
       " 'min_samples_split': 5,\n",
       " 'min_samples_leaf': 4,\n",
       " 'max_features': 'sqrt',\n",
       " 'max_depth': 10,\n",
       " 'bootstrap': True}"
      ]
     },
     "execution_count": 233,
     "metadata": {},
     "output_type": "execute_result"
    }
   ],
   "source": [
    "rf_random.best_params_"
   ]
  },
  {
   "cell_type": "code",
   "execution_count": 234,
   "metadata": {},
   "outputs": [
    {
     "name": "stdout",
     "output_type": "stream",
     "text": [
      "Train Accuracy - : 0.971\n",
      "Test Accuracy - : 0.818\n"
     ]
    }
   ],
   "source": [
    "print (f'Train Accuracy - : {rf_random.score(X_train_imputed, y_train):.3f}')\n",
    "print (f'Test Accuracy - : {rf_random.score(X_test_imputed,y_val):.3f}')"
   ]
  },
  {
   "cell_type": "code",
   "execution_count": 263,
   "metadata": {},
   "outputs": [
    {
     "name": "stdout",
     "output_type": "stream",
     "text": [
      "Iteration: 0\n",
      "Iteration: 1\n",
      "Iteration: 2\n",
      "Iteration: 3\n",
      "Iteration: 4\n",
      "Iteration: 5\n"
     ]
    },
    {
     "name": "stderr",
     "output_type": "stream",
     "text": [
      "c:\\Users\\Rafi\\AppData\\Local\\Programs\\Python\\Python310\\lib\\site-packages\\missingpy\\missforest.py:528: UserWarning: No missing value located; returning original dataset.\n",
      "  warnings.warn(\"No missing value located; returning original \"\n"
     ]
    },
    {
     "data": {
      "image/png": "[encoded data removed]",
      "text/plain": [
       "<Figure size 432x288 with 2 Axes>"
      ]
     },
     "metadata": {
      "needs_background": "light"
     },
     "output_type": "display_data"
    },
    {
     "name": "stdout",
     "output_type": "stream",
     "text": [
      "Iteration: 0\n",
      "Iteration: 1\n",
      "Iteration: 2\n",
      "Iteration: 3\n"
     ]
    },
    {
     "name": "stderr",
     "output_type": "stream",
     "text": [
      "c:\\Users\\Rafi\\AppData\\Local\\Programs\\Python\\Python310\\lib\\site-packages\\missingpy\\missforest.py:528: UserWarning: No missing value located; returning original dataset.\n",
      "  warnings.warn(\"No missing value located; returning original \"\n"
     ]
    },
    {
     "data": {
      "image/png": "[encoded data removed]",
      "text/plain": [
       "<Figure size 432x288 with 2 Axes>"
      ]
     },
     "metadata": {
      "needs_background": "light"
     },
     "output_type": "display_data"
    },
    {
     "name": "stdout",
     "output_type": "stream",
     "text": [
      "Iteration: 0\n",
      "Iteration: 1\n",
      "Iteration: 2\n"
     ]
    },
    {
     "name": "stderr",
     "output_type": "stream",
     "text": [
      "c:\\Users\\Rafi\\AppData\\Local\\Programs\\Python\\Python310\\lib\\site-packages\\missingpy\\missforest.py:528: UserWarning: No missing value located; returning original dataset.\n",
      "  warnings.warn(\"No missing value located; returning original \"\n"
     ]
    },
    {
     "data": {
      "image/png": "[encoded data removed]",
      "text/plain": [
       "<Figure size 432x288 with 2 Axes>"
      ]
     },
     "metadata": {
      "needs_background": "light"
     },
     "output_type": "display_data"
    },
    {
     "name": "stdout",
     "output_type": "stream",
     "text": [
      "Iteration: 0\n",
      "Iteration: 1\n",
      "Iteration: 2\n",
      "Iteration: 3\n",
      "Iteration: 4\n",
      "Iteration: 5\n"
     ]
    },
    {
     "name": "stderr",
     "output_type": "stream",
     "text": [
      "c:\\Users\\Rafi\\AppData\\Local\\Programs\\Python\\Python310\\lib\\site-packages\\missingpy\\missforest.py:528: UserWarning: No missing value located; returning original dataset.\n",
      "  warnings.warn(\"No missing value located; returning original \"\n"
     ]
    },
    {
     "data": {
      "image/png": "[encoded data removed]",
      "text/plain": [
       "<Figure size 432x288 with 2 Axes>"
      ]
     },
     "metadata": {
      "needs_background": "light"
     },
     "output_type": "display_data"
    },
    {
     "name": "stdout",
     "output_type": "stream",
     "text": [
      "Iteration: 0\n",
      "Iteration: 1\n",
      "Iteration: 2\n"
     ]
    },
    {
     "name": "stderr",
     "output_type": "stream",
     "text": [
      "c:\\Users\\Rafi\\AppData\\Local\\Programs\\Python\\Python310\\lib\\site-packages\\missingpy\\missforest.py:528: UserWarning: No missing value located; returning original dataset.\n",
      "  warnings.warn(\"No missing value located; returning original \"\n"
     ]
    },
    {
     "data": {
      "image/png": "[encoded data removed]",
      "text/plain": [
       "<Figure size 432x288 with 2 Axes>"
      ]
     },
     "metadata": {
      "needs_background": "light"
     },
     "output_type": "display_data"
    },
    {
     "name": "stdout",
     "output_type": "stream",
     "text": [
      "Mean Accuracy: 0.863702\n",
      "[0.9561298076923077, 0.9332932692307693, 0.8563701923076923, 0.8155048076923077, 0.7572115384615384]\n"
     ]
    },
    {
     "data": {
      "image/png": "[encoded data removed]",
      "text/plain": [
       "<Figure size 432x288 with 1 Axes>"
      ]
     },
     "metadata": {
      "needs_background": "light"
     },
     "output_type": "display_data"
    }
   ],
   "source": [
    "from sklearn.ensemble import RandomForestRegressor\n",
    "from sklearn.ensemble import GradientBoostingRegressor\n",
    "from sklearn.metrics import mean_squared_error\n",
    "\n",
    "msquaredrf = list()\n",
    "rmserf = list()\n",
    "accuracyf = list()\n",
    "\n",
    "for train_index, val_index in cv.split(X): # Loop over the different training-test splits\n",
    "\n",
    "    # Define X and y data\n",
    "    X_train, X_test = X.iloc[train_index], X.iloc[val_index]\n",
    "    y_train, y_val = y.iloc[train_index], y.iloc[val_index]\n",
    "\n",
    "    # If X_train doesn't contain any news features (this happens for earlier dates) we drop news columns from both X_train and X_test\n",
    "    X_train = X_train.dropna(axis=1, how='all').copy()\n",
    "    X_test = X_test[X_train.columns]\n",
    "    \n",
    "    #Interpolate training data to generate more training points\n",
    "    X_train = X_train.groupby('district', as_index=False).apply(lambda group: group.interpolate())\n",
    "    X_train.reset_index(level=0, drop=True, inplace=True)\n",
    "    y_train = y_train.groupby('district', as_index=False).apply(lambda group: group.interpolate())\n",
    "    y_train.reset_index(level=0, drop=True, inplace=True)\n",
    "\n",
    "    # Interpolate testing data using the same imputer as for training data\n",
    "    X_train_imputed = imputer.fit_transform(X_train.values)\n",
    "    X_test_imputed = imputer.fit_transform(X_test.values)\n",
    "\n",
    "    model = RandomForestRegressor(random_state=42).fit(X_train_imputed, np.ravel(y_train))\n",
    "    y_pred = model.predict(X_test_imputed)\n",
    "    y_pred = model.predict(X_test_imputed)\n",
    "    rounded_y_pred = np.where(y_pred > 0.5, 1, 0)\n",
    "\n",
    "    m2 = mean_squared_error(y_val, rounded_y_pred)\n",
    "    msquaredrf.append(m2)\n",
    "    rmse = mean_squared_error(y_val, rounded_y_pred, squared=False)\n",
    "    rmserf.append(rmse)\n",
    "    accuracy = accuracy_score(y_val, rounded_y_pred)\n",
    "    accuracyf.append(accuracy)\n",
    "\n",
    "    plt.title('train %s - %s | test %s - %s' % (train_index[0], train_index[-1], val_index[0], val_index[-1]))\n",
    "    plot_ConfusionMatrix(prediction = rounded_y_pred, true = y_val['crisis'], binary=True) # Plot confusion matrix\n",
    "\n",
    "print(f\"Mean Accuracy: {np.mean(accuracyf):.6f}\") # Print MAE\n",
    "print(accuracyf)\n",
    "\n",
    "plt.plot(msquaredrf)\n",
    "plt.plot(rmserf)\n",
    "plt.legend(['m2', 'rmse']) \n",
    "plt.show()\n",
    "\n"
   ]
  },
  {
   "cell_type": "code",
   "execution_count": 264,
   "metadata": {},
   "outputs": [
    {
     "name": "stdout",
     "output_type": "stream",
     "text": [
      "Iteration: 0\n",
      "Iteration: 1\n",
      "[0.         0.00102997 0.0310646  0.0285503  0.91433321 0.00095971\n",
      " 0.02406221]\n"
     ]
    },
    {
     "name": "stderr",
     "output_type": "stream",
     "text": [
      "c:\\Users\\Rafi\\AppData\\Local\\Programs\\Python\\Python310\\lib\\site-packages\\missingpy\\missforest.py:528: UserWarning: No missing value located; returning original dataset.\n",
      "  warnings.warn(\"No missing value located; returning original \"\n"
     ]
    },
    {
     "data": {
      "image/png": "[encoded data removed]",
      "text/plain": [
       "<Figure size 432x288 with 2 Axes>"
      ]
     },
     "metadata": {
      "needs_background": "light"
     },
     "output_type": "display_data"
    },
    {
     "name": "stdout",
     "output_type": "stream",
     "text": [
      "Iteration: 0\n",
      "Iteration: 1\n",
      "Iteration: 2\n",
      "Iteration: 3\n"
     ]
    },
    {
     "name": "stderr",
     "output_type": "stream",
     "text": [
      "c:\\Users\\Rafi\\AppData\\Local\\Programs\\Python\\Python310\\lib\\site-packages\\missingpy\\missforest.py:528: UserWarning: No missing value located; returning original dataset.\n",
      "  warnings.warn(\"No missing value located; returning original \"\n"
     ]
    },
    {
     "name": "stdout",
     "output_type": "stream",
     "text": [
      "[0.00000000e+00 7.16861380e-03 2.97548395e-02 1.49993230e-02\n",
      " 8.85486463e-01 9.35665293e-04 7.60565521e-03 1.83236367e-03\n",
      " 2.83244454e-02 3.33720524e-04 4.77527171e-03 5.40287437e-03\n",
      " 6.33422041e-03 1.88519683e-03 2.17334055e-04 4.94401319e-03]\n"
     ]
    },
    {
     "data": {
      "image/png": "[encoded data removed]",
      "text/plain": [
       "<Figure size 432x288 with 2 Axes>"
      ]
     },
     "metadata": {
      "needs_background": "light"
     },
     "output_type": "display_data"
    },
    {
     "name": "stdout",
     "output_type": "stream",
     "text": [
      "Iteration: 0\n",
      "Iteration: 1\n",
      "Iteration: 2\n",
      "Iteration: 3\n"
     ]
    },
    {
     "name": "stderr",
     "output_type": "stream",
     "text": [
      "c:\\Users\\Rafi\\AppData\\Local\\Programs\\Python\\Python310\\lib\\site-packages\\missingpy\\missforest.py:528: UserWarning: No missing value located; returning original dataset.\n",
      "  warnings.warn(\"No missing value located; returning original \"\n"
     ]
    },
    {
     "name": "stdout",
     "output_type": "stream",
     "text": [
      "[0.00000000e+00 4.64809271e-03 1.95867040e-02 1.18893668e-02\n",
      " 8.54509101e-01 4.90351146e-04 1.45706191e-02 5.38872904e-03\n",
      " 1.62691577e-02 3.14500342e-03 1.85603222e-02 3.72999483e-04\n",
      " 1.35609760e-02 1.78899454e-02 6.88711811e-03 1.22315141e-02]\n"
     ]
    },
    {
     "data": {
      "image/png": "[encoded data removed]",
      "text/plain": [
       "<Figure size 432x288 with 2 Axes>"
      ]
     },
     "metadata": {
      "needs_background": "light"
     },
     "output_type": "display_data"
    },
    {
     "name": "stdout",
     "output_type": "stream",
     "text": [
      "Iteration: 0\n",
      "Iteration: 1\n",
      "Iteration: 2\n",
      "Iteration: 3\n"
     ]
    },
    {
     "name": "stderr",
     "output_type": "stream",
     "text": [
      "c:\\Users\\Rafi\\AppData\\Local\\Programs\\Python\\Python310\\lib\\site-packages\\missingpy\\missforest.py:528: UserWarning: No missing value located; returning original dataset.\n",
      "  warnings.warn(\"No missing value located; returning original \"\n"
     ]
    },
    {
     "name": "stdout",
     "output_type": "stream",
     "text": [
      "[0.00000000e+00 1.57362711e-03 6.49087579e-03 7.53485170e-03\n",
      " 8.31356600e-01 1.78367121e-03 1.22160176e-02 3.58191993e-03\n",
      " 1.57110064e-02 6.50082439e-04 9.26711664e-03 2.11493923e-02\n",
      " 5.30949641e-02 2.25283323e-02 6.13445454e-03 6.92708801e-03]\n"
     ]
    },
    {
     "data": {
      "image/png": "[encoded data removed]",
      "text/plain": [
       "<Figure size 432x288 with 2 Axes>"
      ]
     },
     "metadata": {
      "needs_background": "light"
     },
     "output_type": "display_data"
    },
    {
     "name": "stdout",
     "output_type": "stream",
     "text": [
      "Iteration: 0\n",
      "Iteration: 1\n",
      "Iteration: 2\n"
     ]
    },
    {
     "name": "stderr",
     "output_type": "stream",
     "text": [
      "c:\\Users\\Rafi\\AppData\\Local\\Programs\\Python\\Python310\\lib\\site-packages\\missingpy\\missforest.py:528: UserWarning: No missing value located; returning original dataset.\n",
      "  warnings.warn(\"No missing value located; returning original \"\n"
     ]
    },
    {
     "name": "stdout",
     "output_type": "stream",
     "text": [
      "[0.         0.00157323 0.00186811 0.00869857 0.81146358 0.00114922\n",
      " 0.00836747 0.01749461 0.01844291 0.00612927 0.01397371 0.00840272\n",
      " 0.04674303 0.02020954 0.0153465  0.02013751]\n"
     ]
    },
    {
     "data": {
      "image/png": "[encoded data removed]",
      "text/plain": [
       "<Figure size 432x288 with 2 Axes>"
      ]
     },
     "metadata": {
      "needs_background": "light"
     },
     "output_type": "display_data"
    },
    {
     "name": "stdout",
     "output_type": "stream",
     "text": [
      "Mean Accuracy: 0.867308\n",
      "[0.8804086538461539, 0.9332932692307693, 0.8389423076923077, 0.8876201923076923, 0.7962740384615384]\n"
     ]
    },
    {
     "data": {
      "image/png": "[encoded data removed]",
      "text/plain": [
       "<Figure size 432x288 with 1 Axes>"
      ]
     },
     "metadata": {
      "needs_background": "light"
     },
     "output_type": "display_data"
    }
   ],
   "source": [
    "msquaredgb = list()\n",
    "rmsegb = list()\n",
    "accuracyg = list()\n",
    "\n",
    "for train_index, val_index in cv.split(X): # Loop over the different training-test splits\n",
    "\n",
    "    # Define X and y data\n",
    "    X_train, X_test = X.iloc[train_index], X.iloc[val_index]\n",
    "    y_train, y_val = y.iloc[train_index], y.iloc[val_index]\n",
    "\n",
    "    # If X_train doesn't contain any news features (this happens for earlier dates) we drop news columns from both X_train and X_test\n",
    "    X_train = X_train.dropna(axis=1, how='all').copy()\n",
    "    X_test = X_test[X_train.columns]\n",
    "    \n",
    "    #Interpolate training data to generate more training points\n",
    "    X_train = X_train.groupby('district', as_index=False).apply(lambda group: group.interpolate())\n",
    "    X_train.reset_index(level=0, drop=True, inplace=True)\n",
    "    y_train = y_train.groupby('district', as_index=False).apply(lambda group: group.interpolate())\n",
    "    y_train.reset_index(level=0, drop=True, inplace=True)\n",
    "\n",
    "    # Interpolate testing data using the same imputer as for training data\n",
    "    X_train_imputed = imputer.fit_transform(X_train.values)\n",
    "    X_test_imputed = imputer.fit_transform(X_test.values)\n",
    "\n",
    "    model = GradientBoostingRegressor(random_state=42).fit(X_train_imputed, np.ravel(y_train))\n",
    "    print(model.feature_importances_)\n",
    "    y_pred = model.predict(X_test_imputed)\n",
    "    rounded_y_pred = np.where(y_pred > 0.5, 1, 0)\n",
    "\n",
    "    m2 = mean_squared_error(y_val, rounded_y_pred)\n",
    "    msquaredgb.append(m2)\n",
    "    rmse = mean_squared_error(y_val, rounded_y_pred, squared=False)\n",
    "    rmsegb.append(rmse)\n",
    "    accuracy = accuracy_score(y_val, rounded_y_pred)\n",
    "    accuracyg.append(accuracy)\n",
    "\n",
    "    plt.title('train %s - %s | test %s - %s' % (train_index[0], train_index[-1], val_index[0], val_index[-1]))\n",
    "    plot_ConfusionMatrix(prediction = rounded_y_pred, true = y_val['crisis'], binary=True) # Plot confusion matrix\n",
    "\n",
    "print(f\"Mean Accuracy: {np.mean(accuracyg):.6f}\") # Print MAE\n",
    "print(accuracyg)\n",
    "\n",
    "plt.plot(msquaredrf)\n",
    "plt.plot(rmserf)\n",
    "plt.legend(['m2', 'rmse']) \n",
    "plt.show()"
   ]
  },
  {
   "cell_type": "code",
   "execution_count": null,
   "metadata": {},
   "outputs": [
    {
     "name": "stdout",
     "output_type": "stream",
     "text": [
      "Iteration: 0\n",
      "Iteration: 1\n",
      "Iteration: 2\n",
      "Iteration: 3\n",
      "Iteration: 4\n"
     ]
    },
    {
     "name": "stderr",
     "output_type": "stream",
     "text": [
      "c:\\Users\\Rafi\\AppData\\Local\\Programs\\Python\\Python310\\lib\\site-packages\\missingpy\\missforest.py:528: UserWarning: No missing value located; returning original dataset.\n",
      "  warnings.warn(\"No missing value located; returning original \"\n",
      "c:\\Users\\Rafi\\AppData\\Local\\Programs\\Python\\Python310\\lib\\site-packages\\sklearn\\base.py:493: FutureWarning: The feature names should match those that were passed during fit. Starting version 1.2, an error will be raised.\n",
      "Feature names seen at fit time, yet now missing:\n",
      "- conflict\n",
      "- corruption\n",
      "- humanitarian\n",
      "- hunger\n",
      "- livestock\n",
      "- ...\n",
      "\n",
      "  warnings.warn(message, FutureWarning)\n"
     ]
    },
    {
     "data": {
      "image/png": "[encoded data removed]",
      "text/plain": [
       "<Figure size 432x288 with 2 Axes>"
      ]
     },
     "metadata": {
      "needs_background": "light"
     },
     "output_type": "display_data"
    },
    {
     "name": "stdout",
     "output_type": "stream",
     "text": [
      "              precision    recall  f1-score   support\n",
      "\n",
      "           0       0.95      0.99      0.97      1378\n",
      "           1       0.92      0.76      0.83       286\n",
      "\n",
      "    accuracy                           0.95      1664\n",
      "   macro avg       0.93      0.87      0.90      1664\n",
      "weighted avg       0.94      0.95      0.94      1664\n",
      "\n",
      "Iteration: 0\n",
      "Iteration: 1\n"
     ]
    },
    {
     "name": "stderr",
     "output_type": "stream",
     "text": [
      "c:\\Users\\Rafi\\AppData\\Local\\Programs\\Python\\Python310\\lib\\site-packages\\missingpy\\missforest.py:528: UserWarning: No missing value located; returning original dataset.\n",
      "  warnings.warn(\"No missing value located; returning original \"\n"
     ]
    },
    {
     "data": {
      "image/png": "[encoded data removed]",
      "text/plain": [
       "<Figure size 432x288 with 2 Axes>"
      ]
     },
     "metadata": {
      "needs_background": "light"
     },
     "output_type": "display_data"
    },
    {
     "name": "stdout",
     "output_type": "stream",
     "text": [
      "              precision    recall  f1-score   support\n",
      "\n",
      "           0       0.97      0.97      0.97      1408\n",
      "           1       0.85      0.82      0.83       256\n",
      "\n",
      "    accuracy                           0.95      1664\n",
      "   macro avg       0.91      0.90      0.90      1664\n",
      "weighted avg       0.95      0.95      0.95      1664\n",
      "\n",
      "Iteration: 0\n",
      "Iteration: 1\n",
      "Iteration: 2\n",
      "Iteration: 3\n",
      "Iteration: 4\n"
     ]
    },
    {
     "name": "stderr",
     "output_type": "stream",
     "text": [
      "c:\\Users\\Rafi\\AppData\\Local\\Programs\\Python\\Python310\\lib\\site-packages\\missingpy\\missforest.py:528: UserWarning: No missing value located; returning original dataset.\n",
      "  warnings.warn(\"No missing value located; returning original \"\n"
     ]
    },
    {
     "data": {
      "image/png": "[encoded data removed]",
      "text/plain": [
       "<Figure size 432x288 with 2 Axes>"
      ]
     },
     "metadata": {
      "needs_background": "light"
     },
     "output_type": "display_data"
    },
    {
     "name": "stdout",
     "output_type": "stream",
     "text": [
      "              precision    recall  f1-score   support\n",
      "\n",
      "           0       0.92      0.94      0.93      1161\n",
      "           1       0.85      0.82      0.83       503\n",
      "\n",
      "    accuracy                           0.90      1664\n",
      "   macro avg       0.88      0.88      0.88      1664\n",
      "weighted avg       0.90      0.90      0.90      1664\n",
      "\n",
      "Iteration: 0\n",
      "Iteration: 1\n",
      "Iteration: 2\n",
      "Iteration: 3\n"
     ]
    },
    {
     "name": "stderr",
     "output_type": "stream",
     "text": [
      "c:\\Users\\Rafi\\AppData\\Local\\Programs\\Python\\Python310\\lib\\site-packages\\missingpy\\missforest.py:528: UserWarning: No missing value located; returning original dataset.\n",
      "  warnings.warn(\"No missing value located; returning original \"\n"
     ]
    },
    {
     "data": {
      "image/png": "[encoded data removed]",
      "text/plain": [
       "<Figure size 432x288 with 2 Axes>"
      ]
     },
     "metadata": {
      "needs_background": "light"
     },
     "output_type": "display_data"
    },
    {
     "name": "stdout",
     "output_type": "stream",
     "text": [
      "              precision    recall  f1-score   support\n",
      "\n",
      "           0       0.82      0.93      0.87       703\n",
      "           1       0.94      0.85      0.89       961\n",
      "\n",
      "    accuracy                           0.88      1664\n",
      "   macro avg       0.88      0.89      0.88      1664\n",
      "weighted avg       0.89      0.88      0.88      1664\n",
      "\n",
      "Iteration: 0\n",
      "Iteration: 1\n",
      "Iteration: 2\n",
      "Iteration: 3\n",
      "Iteration: 4\n",
      "Iteration: 5\n"
     ]
    },
    {
     "name": "stderr",
     "output_type": "stream",
     "text": [
      "c:\\Users\\Rafi\\AppData\\Local\\Programs\\Python\\Python310\\lib\\site-packages\\missingpy\\missforest.py:528: UserWarning: No missing value located; returning original dataset.\n",
      "  warnings.warn(\"No missing value located; returning original \"\n"
     ]
    },
    {
     "data": {
      "image/png": "[encoded data removed]",
      "text/plain": [
       "<Figure size 432x288 with 2 Axes>"
      ]
     },
     "metadata": {
      "needs_background": "light"
     },
     "output_type": "display_data"
    },
    {
     "name": "stdout",
     "output_type": "stream",
     "text": [
      "              precision    recall  f1-score   support\n",
      "\n",
      "           0       0.76      0.76      0.76       630\n",
      "           1       0.86      0.86      0.86      1034\n",
      "\n",
      "    accuracy                           0.82      1664\n",
      "   macro avg       0.81      0.81      0.81      1664\n",
      "weighted avg       0.82      0.82      0.82      1664\n",
      "\n",
      "Mean Accuracy: 0.899399\n",
      "[0.9459134615384616, 0.9495192307692307, 0.9002403846153846, 0.8804086538461539, 0.8209134615384616]\n"
     ]
    },
    {
     "data": {
      "text/plain": [
       "<Figure size 432x288 with 0 Axes>"
      ]
     },
     "metadata": {},
     "output_type": "display_data"
    }
   ],
   "source": [
    "# Initinalize empty lists to score scores\n",
    "accuracy_values = list()\n",
    "\n",
    "df2 = df_copy.copy()\n",
    "df2.set_index('administrative_region', append=True, inplace=True)\n",
    "X_new = df2.iloc[:, -16:-1] # Define explanatory variables\n",
    "X_new = sm.add_constant(X_new) # Add constant column of 1s for intercept\n",
    "y_new = df2[[\"crisis\"]] # Define target data\n",
    "\n",
    "for train_index, val_index in cv.split(X_new): # Loop over the different training-test splits\n",
    "\n",
    "    # Define X and y data\n",
    "    X_train, X_test = X_new.iloc[train_index], X_new.iloc[val_index]\n",
    "    y_train, y_val = y_new.iloc[train_index], y_new.iloc[val_index]\n",
    "\n",
    "    # If X_train doesn't contain any news features (this happens for earlier dates) we drop news columns from both X_train and X_test\n",
    "    X_train = X_train.dropna(axis=1, how='all').copy()\n",
    "    X_test = X_test[X_train.columns]\n",
    "\n",
    "    #Interpolate training data to generate more training points\n",
    "    X_train = X_train.groupby('administrative_region', as_index=False).apply(lambda group: group.interpolate())\n",
    "    X_train.reset_index(level=0, drop=True, inplace=True)\n",
    "    y_train = y_train.groupby('administrative_region', as_index=False).apply(lambda group: group.interpolate())\n",
    "    y_train.reset_index(level=0, drop=True, inplace=True)\n",
    "\n",
    "    # Interpolate testing data using the same imputer as for training data\n",
    "    X_train_imputed = imputer.fit_transform(X_train.values)\n",
    "    X_test_imputed = imputer.fit_transform(X_test.values)\n",
    "\n",
    "    # Train the RandomForestClassifier\n",
    "    # number of trees is 100, and  42 is just to initialize random number to make random choices during training\n",
    "    rf_classifier = RandomForestClassifier(n_estimators=100, random_state=42)\n",
    "    results = rf_classifier.fit(X=X_train_imputed, y=np.ravel(y_train))\n",
    "\n",
    "    rf_classifier.feature_names_in_ = list(X.columns)\n",
    "\n",
    "    # Predict on the test data\n",
    "    y_pred = rf_classifier.predict(X_test)\n",
    "    \n",
    "    accuracy = accuracy_score(y_val, y_pred)\n",
    "    accuracy_values.append(accuracy)\n",
    "\n",
    "    plt.title('train %s - %s | test %s - %s' % (train_index[0], train_index[-1], val_index[0], val_index[-1]))\n",
    "    plot_ConfusionMatrix(prediction = y_pred, true = y_val['crisis'], binary=True) # Plot confusion matrix\n",
    "\n",
    "    print (classification_report(y_val,y_pred))\n",
    "\n",
    "\n",
    "print(f\"Mean Accuracy: {np.mean(accuracy_values):.6f}\") # Print MAE\n",
    "print(accuracy_values)"
   ]
  }
 ],
 "metadata": {
  "kernelspec": {
   "display_name": "Python 3 (ipykernel)",
   "language": "python",
   "name": "python3"
  },
  "language_info": {
   "codemirror_mode": {
    "name": "ipython",
    "version": 3
   },
   "file_extension": ".py",
   "mimetype": "text/x-python",
   "name": "python",
   "nbconvert_exporter": "python",
   "pygments_lexer": "ipython3",
   "version": "3.10.11"
  }
 },
 "nbformat": 4,
 "nbformat_minor": 4
}
