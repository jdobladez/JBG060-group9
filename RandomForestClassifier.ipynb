{
 "cells": [
  {
   "cell_type": "markdown",
   "metadata": {},
   "source": [
    "## Libraries/Data required"
   ]
  },
  {
   "cell_type": "code",
   "execution_count": 1,
   "metadata": {},
   "outputs": [],
   "source": [
    "import pandas as pd\n",
    "import geopandas as gpd\n",
    "import numpy as np\n",
    "import matplotlib.pyplot as plt\n",
    "import seaborn as sns\n",
    "from sklearn.model_selection import TimeSeriesSplit\n",
    "from sklearn.metrics import accuracy_score\n",
    "\n",
    "\n",
    "# Import models\n",
    "from statsmodels.regression.linear_model import OLS\n",
    "import statsmodels.api as sm\n",
    "\n",
    "data_dir = \"data/\" # Define data path"
   ]
  },
  {
   "cell_type": "code",
   "execution_count": 2,
   "metadata": {},
   "outputs": [
    {
     "name": "stdout",
     "output_type": "stream",
     "text": [
      "78\n"
     ]
    }
   ],
   "source": [
    "df = pd.read_csv(data_dir + \"food_crises_cleaned.csv\") # Read data into DataFrame\n",
    "df[\"date\"] = pd.to_datetime(df[\"year_month\"], format=\"%Y_%m\") # Create date column\n",
    "print(len(df['district'].unique()))\n",
    "df.set_index([\"date\", \"district\"], inplace=True) # Set index"
   ]
  },
  {
   "cell_type": "markdown",
   "metadata": {},
   "source": [
    "<BR>\n",
    "\n",
    "## Helper Functions"
   ]
  },
  {
   "cell_type": "markdown",
   "metadata": {},
   "source": [
    "Here we define a function that lags input variables. There are options for creating a rolling mean, taking the difference between subsequent rows, and dropping NaNs. Feature engineering can of course be extended much further than this."
   ]
  },
  {
   "cell_type": "code",
   "execution_count": 3,
   "metadata": {},
   "outputs": [],
   "source": [
    "def create_lag_df(df, columns, lag, difference=False, rolling=None, dropna=False):\n",
    "    '''\n",
    "    Function to add lagged colums to dataframe\n",
    "    \n",
    "    Inputs:\n",
    "        df - Dataframe\n",
    "        columns - List of columns to create lags from\n",
    "        lag - The number of timesteps (in months for the default data) to lag the variable by\n",
    "        difference - Whether to take the difference between each observation as new column\n",
    "        rolling - The size of the rolling mean window, input None type to not use a rolling variable\n",
    "        dropna - Whether to drop NaN values\n",
    "        \n",
    "    Output:\n",
    "        df - Dataframe with the lagged columns added\n",
    "    '''\n",
    "    \n",
    "    for column in columns:\n",
    "        col = df[column].unstack()\n",
    "        if rolling:\n",
    "            col = col.rolling(rolling).mean()\n",
    "        if difference:\n",
    "            col = col.diff()\n",
    "        if dropna:\n",
    "            col = col.dropna(how='any')\n",
    "        df[f\"{column}_lag_{lag}\"] = col.shift(lag).stack()\n",
    "    return df"
   ]
  },
  {
   "cell_type": "markdown",
   "metadata": {},
   "source": [
    "<br>\n",
    "Here we define a function that plots a confusion matrix given a prediction and the true values, it can be used both for binary and categorical variables."
   ]
  },
  {
   "cell_type": "code",
   "execution_count": 4,
   "metadata": {},
   "outputs": [],
   "source": [
    "def plot_ConfusionMatrix(prediction, true, binary=False):\n",
    "    '''\n",
    "    Function to plot a confusion matrix as a heatmap from a prediction and true values.\n",
    "    \n",
    "    Inputs:\n",
    "        prediction - The predicted values\n",
    "        true - the true values\n",
    "        binary - whether the variable is binary or not\n",
    "        \n",
    "    Output:\n",
    "        confusion_matrix - The calculated confusion matrix based on the prediction and true values.\n",
    "        \n",
    "        Also plots the confusion matrix as heatmap in an interactive environment such as Jupyter Notebook.\n",
    "    '''\n",
    "    \n",
    "    y_pred = prediction\n",
    "    \n",
    "    if not binary:\n",
    "        # Round prediction to nearest integer (i.e. the nearest phase)\n",
    "        y_pred = y_pred.round() \n",
    "        y_pred = np.minimum(y_pred, 5) # Cap maximum prediction at 5 (maximum phase)\n",
    "        y_pred = np.maximum(y_pred, 1) # Cap minimum prediction at 1 (minimum phase)\n",
    "\n",
    "    # Initialize confusion matrix\n",
    "    confusion_matrix = pd.crosstab(\n",
    "        true, y_pred, rownames=[\"Actual\"], colnames=[\"Predicted\"]\n",
    "    )\n",
    "\n",
    "    # Plot confusion matrix as heatmap\n",
    "    sns.heatmap(confusion_matrix, annot=True, fmt=\"g\")\n",
    "    plt.show()\n",
    "    plt.clf()\n",
    "    \n",
    "    return confusion_matrix"
   ]
  },
  {
   "cell_type": "markdown",
   "metadata": {},
   "source": [
    "## Making Predictions\n",
    "\n",
    "To simplify, we treat the IPC prediction problem as regression rather than classification,\n",
    "e.g., multivariable logistic regression might be more suited.\n",
    "<br><br>\n",
    "We use a TimeSeriesSplit to divide the data into 5 training-test splits and run cross-validation on these splits. \n",
    "<br>We report the confusion matrix (with training and test split as title) along with the model summary per split; the mean MAE and mean R2 are reported after completion of cross-validation.\n",
    "<br><br>\n",
    "First however, we create multiple lagged variables in the cell directly below."
   ]
  },
  {
   "cell_type": "code",
   "execution_count": 5,
   "metadata": {},
   "outputs": [
    {
     "data": {
      "text/plain": [
       "Index(['country', 'district_code', 'centx', 'centy', 'year_month', 'year',\n",
       "       'month', 'ipc', 'ha', 'ndvi_mean', 'ndvi_anom', 'rain_mean',\n",
       "       'rain_anom', 'et_mean', 'et_anom', 'count_violence', 'sum_fatalities',\n",
       "       'food_price_idx', 'area', 'cropland_pct', 'pop', 'ruggedness_mean',\n",
       "       'pasture_pct', 'count_violence_lag_3', 'ndvi_anom_lag_3',\n",
       "       'food_price_idx_lag_3', 'ipc_lag_1', 'ipc_lag_2', 'ipc_lag_3'],\n",
       "      dtype='object')"
      ]
     },
     "execution_count": 5,
     "metadata": {},
     "output_type": "execute_result"
    }
   ],
   "source": [
    "# Create several lagged columns to use as explanatory variables for the model\n",
    "\n",
    "df = create_lag_df(df, ['count_violence', 'ndvi_anom'], 3, rolling=6) # 3-month-lagged rolling mean window of size 6\n",
    "df = create_lag_df(df, ['food_price_idx'], 3, difference=True, rolling=6) # difference of the 3-month-lagged rolling mean window of size 6\n",
    "df = create_lag_df(df, ['ipc'], 1, dropna=True) # 1-month-lag\n",
    "df = create_lag_df(df, ['ipc'], 2, dropna=True) # 2-month-lag\n",
    "df = create_lag_df(df, ['ipc'], 3, dropna=True) # 3-month-lag\n",
    "\n",
    "df.columns # View the newly created columns"
   ]
  },
  {
   "cell_type": "code",
   "execution_count": 6,
   "metadata": {},
   "outputs": [],
   "source": [
    "df.sort_index(level=0, inplace=True) # Sort DataFrame by date\n",
    "df = df.iloc[df['ipc'].notnull().argmax():].copy() # Drop rows until first notna value in ipc column"
   ]
  },
  {
   "cell_type": "markdown",
   "metadata": {},
   "source": [
    "## Incorporating News Features"
   ]
  },
  {
   "cell_type": "markdown",
   "metadata": {},
   "source": [
    "We look at country wide news features to simplify. E.g., we do not look at topics per district"
   ]
  },
  {
   "cell_type": "code",
   "execution_count": 8,
   "metadata": {},
   "outputs": [],
   "source": [
    "news_df = pd.read_csv(data_dir + \"articles_topics.csv\") # Read news data into DataFrame\n",
    "\n",
    "# Create date column\n",
    "news_df[\"date\"] = pd.to_datetime(\n",
    "    pd.to_datetime(news_df[\"date\"], format=\"%Y-%m-%d\").dt.strftime(\"%Y-%m\"),\n",
    "    format=\"%Y-%m\",\n",
    ")"
   ]
  },
  {
   "cell_type": "code",
   "execution_count": 9,
   "metadata": {},
   "outputs": [],
   "source": [
    "def create_news_features(columns):\n",
    "    cols = []\n",
    "    for column in columns:\n",
    "        col = news_df.groupby([\"date\"])[column].mean()\n",
    "        col = col.fillna(0)\n",
    "        col = col.rolling(3).mean()\n",
    "        col = col.shift(3)\n",
    "        cols.append(col)\n",
    "    return pd.concat(cols, axis=1)"
   ]
  },
  {
   "cell_type": "code",
   "execution_count": 10,
   "metadata": {},
   "outputs": [],
   "source": [
    "# country wide news features\n",
    "news_features = create_news_features([\"hunger\", 'refugees', 'conflict', 'humanitarian'])"
   ]
  },
  {
   "cell_type": "markdown",
   "metadata": {},
   "source": [
    "## Predicting using news features"
   ]
  },
  {
   "cell_type": "code",
   "execution_count": 11,
   "metadata": {},
   "outputs": [],
   "source": [
    "df.sort_index(level=0, inplace=True) # Sort DataFrame by date\n",
    "df = df.iloc[df['ipc'].notnull().argmax():].copy() # Drop rows until first notna value in ipc column\n",
    "df = df.join(news_features, how=\"left\") # Join df with created news features"
   ]
  },
  {
   "cell_type": "code",
   "execution_count": 12,
   "metadata": {},
   "outputs": [
    {
     "name": "stdout",
     "output_type": "stream",
     "text": [
      "Iteration: 0\n",
      "Iteration: 1\n",
      "Iteration: 2\n",
      "Iteration: 3\n",
      "0\n",
      "0\n"
     ]
    },
    {
     "name": "stderr",
     "output_type": "stream",
     "text": [
      "c:\\Users\\Rafi\\AppData\\Local\\Programs\\Python\\Python310\\lib\\site-packages\\missingpy\\missforest.py:528: UserWarning: No missing value located; returning original dataset.\n",
      "  warnings.warn(\"No missing value located; returning original \"\n",
      "c:\\Users\\Rafi\\AppData\\Local\\Programs\\Python\\Python310\\lib\\site-packages\\sklearn\\base.py:493: FutureWarning: The feature names should match those that were passed during fit. Starting version 1.2, an error will be raised.\n",
      "Feature names seen at fit time, yet now missing:\n",
      "- conflict\n",
      "- humanitarian\n",
      "- hunger\n",
      "- refugees\n",
      "\n",
      "  warnings.warn(message, FutureWarning)\n"
     ]
    },
    {
     "data": {
      "image/png": "[encoded data removed]",
      "text/plain": [
       "<Figure size 432x288 with 2 Axes>"
      ]
     },
     "metadata": {
      "needs_background": "light"
     },
     "output_type": "display_data"
    },
    {
     "name": "stderr",
     "output_type": "stream",
     "text": [
      "c:\\Users\\Rafi\\AppData\\Local\\Programs\\Python\\Python310\\lib\\site-packages\\sklearn\\metrics\\_classification.py:1334: UndefinedMetricWarning: Precision and F-score are ill-defined and being set to 0.0 in labels with no predicted samples. Use `zero_division` parameter to control this behavior.\n",
      "  _warn_prf(average, modifier, msg_start, len(result))\n",
      "c:\\Users\\Rafi\\AppData\\Local\\Programs\\Python\\Python310\\lib\\site-packages\\sklearn\\metrics\\_classification.py:1334: UndefinedMetricWarning: Precision and F-score are ill-defined and being set to 0.0 in labels with no predicted samples. Use `zero_division` parameter to control this behavior.\n",
      "  _warn_prf(average, modifier, msg_start, len(result))\n",
      "c:\\Users\\Rafi\\AppData\\Local\\Programs\\Python\\Python310\\lib\\site-packages\\sklearn\\metrics\\_classification.py:1334: UndefinedMetricWarning: Precision and F-score are ill-defined and being set to 0.0 in labels with no predicted samples. Use `zero_division` parameter to control this behavior.\n",
      "  _warn_prf(average, modifier, msg_start, len(result))\n"
     ]
    },
    {
     "name": "stdout",
     "output_type": "stream",
     "text": [
      "              precision    recall  f1-score   support\n",
      "\n",
      "           1       0.37      0.59      0.46       572\n",
      "           2       0.60      0.54      0.57       842\n",
      "           3       0.00      0.00      0.00       250\n",
      "\n",
      "    accuracy                           0.48      1664\n",
      "   macro avg       0.32      0.38      0.34      1664\n",
      "weighted avg       0.43      0.48      0.44      1664\n",
      "\n",
      "Iteration: 0\n",
      "Iteration: 1\n",
      "Iteration: 2\n",
      "0\n",
      "0\n"
     ]
    },
    {
     "name": "stderr",
     "output_type": "stream",
     "text": [
      "c:\\Users\\Rafi\\AppData\\Local\\Programs\\Python\\Python310\\lib\\site-packages\\missingpy\\missforest.py:528: UserWarning: No missing value located; returning original dataset.\n",
      "  warnings.warn(\"No missing value located; returning original \"\n"
     ]
    },
    {
     "data": {
      "image/png": "[encoded data removed]",
      "text/plain": [
       "<Figure size 432x288 with 2 Axes>"
      ]
     },
     "metadata": {
      "needs_background": "light"
     },
     "output_type": "display_data"
    },
    {
     "name": "stderr",
     "output_type": "stream",
     "text": [
      "c:\\Users\\Rafi\\AppData\\Local\\Programs\\Python\\Python310\\lib\\site-packages\\sklearn\\metrics\\_classification.py:1334: UndefinedMetricWarning: Precision and F-score are ill-defined and being set to 0.0 in labels with no predicted samples. Use `zero_division` parameter to control this behavior.\n",
      "  _warn_prf(average, modifier, msg_start, len(result))\n",
      "c:\\Users\\Rafi\\AppData\\Local\\Programs\\Python\\Python310\\lib\\site-packages\\sklearn\\metrics\\_classification.py:1334: UndefinedMetricWarning: Precision and F-score are ill-defined and being set to 0.0 in labels with no predicted samples. Use `zero_division` parameter to control this behavior.\n",
      "  _warn_prf(average, modifier, msg_start, len(result))\n",
      "c:\\Users\\Rafi\\AppData\\Local\\Programs\\Python\\Python310\\lib\\site-packages\\sklearn\\metrics\\_classification.py:1334: UndefinedMetricWarning: Precision and F-score are ill-defined and being set to 0.0 in labels with no predicted samples. Use `zero_division` parameter to control this behavior.\n",
      "  _warn_prf(average, modifier, msg_start, len(result))\n"
     ]
    },
    {
     "name": "stdout",
     "output_type": "stream",
     "text": [
      "              precision    recall  f1-score   support\n",
      "\n",
      "           1       0.22      0.09      0.13       683\n",
      "           2       0.50      0.79      0.61       887\n",
      "           3       0.00      0.00      0.00        82\n",
      "           4       0.00      0.00      0.00        12\n",
      "\n",
      "    accuracy                           0.46      1664\n",
      "   macro avg       0.18      0.22      0.19      1664\n",
      "weighted avg       0.36      0.46      0.38      1664\n",
      "\n",
      "Iteration: 0\n",
      "Iteration: 1\n",
      "Iteration: 2\n",
      "Iteration: 3\n",
      "0\n",
      "0\n"
     ]
    },
    {
     "name": "stderr",
     "output_type": "stream",
     "text": [
      "c:\\Users\\Rafi\\AppData\\Local\\Programs\\Python\\Python310\\lib\\site-packages\\missingpy\\missforest.py:528: UserWarning: No missing value located; returning original dataset.\n",
      "  warnings.warn(\"No missing value located; returning original \"\n"
     ]
    },
    {
     "data": {
      "image/png": "[encoded data removed]",
      "text/plain": [
       "<Figure size 432x288 with 2 Axes>"
      ]
     },
     "metadata": {
      "needs_background": "light"
     },
     "output_type": "display_data"
    },
    {
     "name": "stderr",
     "output_type": "stream",
     "text": [
      "c:\\Users\\Rafi\\AppData\\Local\\Programs\\Python\\Python310\\lib\\site-packages\\sklearn\\metrics\\_classification.py:1334: UndefinedMetricWarning: Precision and F-score are ill-defined and being set to 0.0 in labels with no predicted samples. Use `zero_division` parameter to control this behavior.\n",
      "  _warn_prf(average, modifier, msg_start, len(result))\n",
      "c:\\Users\\Rafi\\AppData\\Local\\Programs\\Python\\Python310\\lib\\site-packages\\sklearn\\metrics\\_classification.py:1334: UndefinedMetricWarning: Precision and F-score are ill-defined and being set to 0.0 in labels with no predicted samples. Use `zero_division` parameter to control this behavior.\n",
      "  _warn_prf(average, modifier, msg_start, len(result))\n",
      "c:\\Users\\Rafi\\AppData\\Local\\Programs\\Python\\Python310\\lib\\site-packages\\sklearn\\metrics\\_classification.py:1334: UndefinedMetricWarning: Precision and F-score are ill-defined and being set to 0.0 in labels with no predicted samples. Use `zero_division` parameter to control this behavior.\n",
      "  _warn_prf(average, modifier, msg_start, len(result))\n"
     ]
    },
    {
     "name": "stdout",
     "output_type": "stream",
     "text": [
      "              precision    recall  f1-score   support\n",
      "\n",
      "           1       0.09      0.08      0.09       240\n",
      "           2       0.68      0.83      0.74      1161\n",
      "           3       0.47      0.07      0.12       232\n",
      "           4       0.00      0.00      0.00        31\n",
      "\n",
      "    accuracy                           0.60      1664\n",
      "   macro avg       0.31      0.24      0.24      1664\n",
      "weighted avg       0.55      0.60      0.55      1664\n",
      "\n",
      "Iteration: 0\n",
      "Iteration: 1\n",
      "Iteration: 2\n",
      "Iteration: 3\n",
      "Iteration: 4\n",
      "Iteration: 5\n",
      "Iteration: 6\n",
      "Iteration: 7\n",
      "0\n",
      "0\n"
     ]
    },
    {
     "name": "stderr",
     "output_type": "stream",
     "text": [
      "c:\\Users\\Rafi\\AppData\\Local\\Programs\\Python\\Python310\\lib\\site-packages\\missingpy\\missforest.py:528: UserWarning: No missing value located; returning original dataset.\n",
      "  warnings.warn(\"No missing value located; returning original \"\n"
     ]
    },
    {
     "data": {
      "image/png": "[encoded data removed]",
      "text/plain": [
       "<Figure size 432x288 with 2 Axes>"
      ]
     },
     "metadata": {
      "needs_background": "light"
     },
     "output_type": "display_data"
    },
    {
     "name": "stderr",
     "output_type": "stream",
     "text": [
      "c:\\Users\\Rafi\\AppData\\Local\\Programs\\Python\\Python310\\lib\\site-packages\\sklearn\\metrics\\_classification.py:1334: UndefinedMetricWarning: Precision and F-score are ill-defined and being set to 0.0 in labels with no predicted samples. Use `zero_division` parameter to control this behavior.\n",
      "  _warn_prf(average, modifier, msg_start, len(result))\n",
      "c:\\Users\\Rafi\\AppData\\Local\\Programs\\Python\\Python310\\lib\\site-packages\\sklearn\\metrics\\_classification.py:1334: UndefinedMetricWarning: Recall and F-score are ill-defined and being set to 0.0 in labels with no true samples. Use `zero_division` parameter to control this behavior.\n",
      "  _warn_prf(average, modifier, msg_start, len(result))\n",
      "c:\\Users\\Rafi\\AppData\\Local\\Programs\\Python\\Python310\\lib\\site-packages\\sklearn\\metrics\\_classification.py:1334: UndefinedMetricWarning: Precision and F-score are ill-defined and being set to 0.0 in labels with no predicted samples. Use `zero_division` parameter to control this behavior.\n",
      "  _warn_prf(average, modifier, msg_start, len(result))\n",
      "c:\\Users\\Rafi\\AppData\\Local\\Programs\\Python\\Python310\\lib\\site-packages\\sklearn\\metrics\\_classification.py:1334: UndefinedMetricWarning: Recall and F-score are ill-defined and being set to 0.0 in labels with no true samples. Use `zero_division` parameter to control this behavior.\n",
      "  _warn_prf(average, modifier, msg_start, len(result))\n",
      "c:\\Users\\Rafi\\AppData\\Local\\Programs\\Python\\Python310\\lib\\site-packages\\sklearn\\metrics\\_classification.py:1334: UndefinedMetricWarning: Precision and F-score are ill-defined and being set to 0.0 in labels with no predicted samples. Use `zero_division` parameter to control this behavior.\n",
      "  _warn_prf(average, modifier, msg_start, len(result))\n",
      "c:\\Users\\Rafi\\AppData\\Local\\Programs\\Python\\Python310\\lib\\site-packages\\sklearn\\metrics\\_classification.py:1334: UndefinedMetricWarning: Recall and F-score are ill-defined and being set to 0.0 in labels with no true samples. Use `zero_division` parameter to control this behavior.\n",
      "  _warn_prf(average, modifier, msg_start, len(result))\n"
     ]
    },
    {
     "name": "stdout",
     "output_type": "stream",
     "text": [
      "              precision    recall  f1-score   support\n",
      "\n",
      "           1       0.00      0.00      0.00         0\n",
      "           2       0.12      0.23      0.16       342\n",
      "           3       0.94      0.40      0.57      1262\n",
      "           4       0.07      0.24      0.10        59\n",
      "           5       0.00      0.00      0.00         1\n",
      "\n",
      "    accuracy                           0.36      1664\n",
      "   macro avg       0.22      0.18      0.17      1664\n",
      "weighted avg       0.74      0.36      0.47      1664\n",
      "\n",
      "Iteration: 0\n",
      "Iteration: 1\n",
      "Iteration: 2\n",
      "Iteration: 3\n",
      "0\n",
      "0\n"
     ]
    },
    {
     "name": "stderr",
     "output_type": "stream",
     "text": [
      "c:\\Users\\Rafi\\AppData\\Local\\Programs\\Python\\Python310\\lib\\site-packages\\missingpy\\missforest.py:528: UserWarning: No missing value located; returning original dataset.\n",
      "  warnings.warn(\"No missing value located; returning original \"\n"
     ]
    },
    {
     "data": {
      "image/png": "[encoded data removed]",
      "text/plain": [
       "<Figure size 432x288 with 2 Axes>"
      ]
     },
     "metadata": {
      "needs_background": "light"
     },
     "output_type": "display_data"
    },
    {
     "name": "stdout",
     "output_type": "stream",
     "text": [
      "              precision    recall  f1-score   support\n",
      "\n",
      "           1       0.00      0.00      0.00         0\n",
      "           2       0.05      0.52      0.09        61\n",
      "           3       0.48      0.47      0.47      1057\n",
      "           4       0.00      0.00      0.00       546\n",
      "\n",
      "    accuracy                           0.32      1664\n",
      "   macro avg       0.13      0.25      0.14      1664\n",
      "weighted avg       0.31      0.32      0.30      1664\n",
      "\n",
      "Mean Accuracy: 0.442308\n",
      "[0.47596153846153844, 0.4573317307692308, 0.5973557692307693, 0.3635817307692308, 0.3173076923076923]\n"
     ]
    },
    {
     "name": "stderr",
     "output_type": "stream",
     "text": [
      "c:\\Users\\Rafi\\AppData\\Local\\Programs\\Python\\Python310\\lib\\site-packages\\sklearn\\metrics\\_classification.py:1334: UndefinedMetricWarning: Precision and F-score are ill-defined and being set to 0.0 in labels with no predicted samples. Use `zero_division` parameter to control this behavior.\n",
      "  _warn_prf(average, modifier, msg_start, len(result))\n",
      "c:\\Users\\Rafi\\AppData\\Local\\Programs\\Python\\Python310\\lib\\site-packages\\sklearn\\metrics\\_classification.py:1334: UndefinedMetricWarning: Recall and F-score are ill-defined and being set to 0.0 in labels with no true samples. Use `zero_division` parameter to control this behavior.\n",
      "  _warn_prf(average, modifier, msg_start, len(result))\n",
      "c:\\Users\\Rafi\\AppData\\Local\\Programs\\Python\\Python310\\lib\\site-packages\\sklearn\\metrics\\_classification.py:1334: UndefinedMetricWarning: Precision and F-score are ill-defined and being set to 0.0 in labels with no predicted samples. Use `zero_division` parameter to control this behavior.\n",
      "  _warn_prf(average, modifier, msg_start, len(result))\n",
      "c:\\Users\\Rafi\\AppData\\Local\\Programs\\Python\\Python310\\lib\\site-packages\\sklearn\\metrics\\_classification.py:1334: UndefinedMetricWarning: Recall and F-score are ill-defined and being set to 0.0 in labels with no true samples. Use `zero_division` parameter to control this behavior.\n",
      "  _warn_prf(average, modifier, msg_start, len(result))\n",
      "c:\\Users\\Rafi\\AppData\\Local\\Programs\\Python\\Python310\\lib\\site-packages\\sklearn\\metrics\\_classification.py:1334: UndefinedMetricWarning: Precision and F-score are ill-defined and being set to 0.0 in labels with no predicted samples. Use `zero_division` parameter to control this behavior.\n",
      "  _warn_prf(average, modifier, msg_start, len(result))\n",
      "c:\\Users\\Rafi\\AppData\\Local\\Programs\\Python\\Python310\\lib\\site-packages\\sklearn\\metrics\\_classification.py:1334: UndefinedMetricWarning: Recall and F-score are ill-defined and being set to 0.0 in labels with no true samples. Use `zero_division` parameter to control this behavior.\n",
      "  _warn_prf(average, modifier, msg_start, len(result))\n"
     ]
    },
    {
     "data": {
      "text/plain": [
       "<Figure size 432x288 with 0 Axes>"
      ]
     },
     "metadata": {},
     "output_type": "display_data"
    }
   ],
   "source": [
    "from sklearn.ensemble import RandomForestClassifier\n",
    "import sklearn.neighbors._base\n",
    "import sys\n",
    "sys.modules['sklearn.neighbors.base'] = sklearn.neighbors._base\n",
    "from missingpy import MissForest\n",
    "from sklearn.metrics import accuracy_score, classification_report\n",
    "from sklearn.preprocessing import LabelEncoder\n",
    "import warnings\n",
    "\n",
    "warnings.filterwarnings(\n",
    "    action=\"ignore\",\n",
    "    message=\"Criterion 'mse'\",\n",
    ")\n",
    "warnings.filterwarnings(\n",
    "    action=\"ignore\",\n",
    "    message=\"`max_features='auto'`\",\n",
    ")\n",
    "\n",
    "imputer = MissForest()\n",
    "label_encoder = LabelEncoder()\n",
    "df_copy = df.copy()\n",
    "df_copy.ffill(inplace=True)\n",
    "df_copy['ipc'] = df_copy['ipc'].astype('int')\n",
    "\n",
    "X = df_copy.iloc[:, -5:] # Define explanatory variables\n",
    "X = sm.add_constant(X) # Add constant column of 1s for intercept\n",
    "y = df_copy[[\"ipc\"]] # Define target data\n",
    "\n",
    "cv = TimeSeriesSplit(n_splits=5) # Define TimeSeriesSplit with 5 splits\n",
    "\n",
    "# Initinalize empty lists to score scores\n",
    "accuracy_values = list()\n",
    "\n",
    "for train_index, val_index in cv.split(X): # Loop over the different training-test splits\n",
    "\n",
    "    # Define X and y data\n",
    "    X_train, X_test = X.iloc[train_index], X.iloc[val_index]\n",
    "    y_train, y_val = y.iloc[train_index], y.iloc[val_index]\n",
    "\n",
    "    # If X_train doesn't contain any news features (this happens for earlier dates) we drop news columns from both X_train and X_test\n",
    "    X_train = X_train.dropna(axis=1, how='all').copy()\n",
    "    X_test = X_test[X_train.columns]\n",
    "    \n",
    "    #Interpolate training data to generate more training points\n",
    "    X_train = X_train.groupby('district', as_index=False).apply(lambda group: group.interpolate())\n",
    "    X_train.reset_index(level=0, drop=True, inplace=True)\n",
    "    y_train = y_train.groupby('district', as_index=False).apply(lambda group: group.interpolate())\n",
    "    y_train.reset_index(level=0, drop=True, inplace=True)\n",
    "\n",
    "    # Interpolate testing data using the same imputer as for training data\n",
    "    X_train_imputed = imputer.fit_transform(X_train.values)\n",
    "    X_test_imputed = imputer.fit_transform(X_test.values)\n",
    "\n",
    "    print(np.count_nonzero(np.isnan(X_train_imputed)))\n",
    "    print(np.count_nonzero(np.isnan(X_test_imputed)))\n",
    "\n",
    "    # Train the RandomForestClassifier\n",
    "    # number of trees is 100, and  42 is just to initialize random number to make random choices during training\n",
    "    rf_classifier = RandomForestClassifier(n_estimators=100, random_state=42)\n",
    "    results = rf_classifier.fit(X=X_train_imputed, y=np.ravel(y_train))\n",
    "\n",
    "    rf_classifier.feature_names_in_ = list(X.columns)\n",
    "\n",
    "    # Predict on the test data\n",
    "    y_pred = rf_classifier.predict(X_test)\n",
    "    \n",
    "    accuracy = accuracy_score(y_val, y_pred)\n",
    "    accuracy_values.append(accuracy)\n",
    "\n",
    "    plt.title('train %s - %s | test %s - %s' % (train_index[0], train_index[-1], val_index[0], val_index[-1]))\n",
    "    plot_ConfusionMatrix(prediction = y_pred, true = y_val['ipc']) # Plot confusion matrix\n",
    "\n",
    "    print (classification_report(y_val,y_pred))\n",
    "\n",
    "\n",
    "print(f\"Mean Accuracy: {np.mean(accuracy_values):.6f}\") # Print MAE\n",
    "print(accuracy_values)\n",
    "\n",
    "# Why it predicts different values each time?\n",
    "# In the early years of the data, only ipc 1 and 2 prevail with ipc 3 occurs the least. Thus in the first two iterations it only predicts\n",
    "# 1 and 2. Then we see more ipc 3 for which it begins to predict in the 3rd iteration. The same can be said about ipc 4. In the final \n",
    "# iteration, it focuses on only predicting ipc 2 and 3 which the model thinks it predicts best.\n",
    "\n",
    "    "
   ]
  }
 ],
 "metadata": {
  "kernelspec": {
   "display_name": "Python 3 (ipykernel)",
   "language": "python",
   "name": "python3"
  },
  "language_info": {
   "codemirror_mode": {
    "name": "ipython",
    "version": 3
   },
   "file_extension": ".py",
   "mimetype": "text/x-python",
   "name": "python",
   "nbconvert_exporter": "python",
   "pygments_lexer": "ipython3",
   "version": "3.10.11"
  }
 },
 "nbformat": 4,
 "nbformat_minor": 4
}
