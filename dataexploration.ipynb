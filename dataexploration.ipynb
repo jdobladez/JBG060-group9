{
 "cells": [
  {
   "cell_type": "code",
   "execution_count": 1,
   "metadata": {},
   "outputs": [],
   "source": [
    "import pandas as pd\n",
    "import numpy as np\n",
    "import dash\n",
    "import plotly.express as px"
   ]
  },
  {
   "cell_type": "code",
   "execution_count": 2,
   "metadata": {},
   "outputs": [
    {
     "data": {
      "text/html": [
       "<div>\n",
       "<style scoped>\n",
       "    .dataframe tbody tr th:only-of-type {\n",
       "        vertical-align: middle;\n",
       "    }\n",
       "\n",
       "    .dataframe tbody tr th {\n",
       "        vertical-align: top;\n",
       "    }\n",
       "\n",
       "    .dataframe thead th {\n",
       "        text-align: right;\n",
       "    }\n",
       "</style>\n",
       "<table border=\"1\" class=\"dataframe\">\n",
       "  <thead>\n",
       "    <tr style=\"text-align: right;\">\n",
       "      <th></th>\n",
       "      <th>summary</th>\n",
       "      <th>date</th>\n",
       "      <th>location_article</th>\n",
       "      <th>lat</th>\n",
       "      <th>lng</th>\n",
       "    </tr>\n",
       "  </thead>\n",
       "  <tbody>\n",
       "    <tr>\n",
       "      <th>0</th>\n",
       "      <td>The article discusses the passing of the new C...</td>\n",
       "      <td>2011-07-07</td>\n",
       "      <td>Juba</td>\n",
       "      <td>4.859363</td>\n",
       "      <td>31.571250</td>\n",
       "    </tr>\n",
       "    <tr>\n",
       "      <th>1</th>\n",
       "      <td>The article discusses the military actions tak...</td>\n",
       "      <td>2011-07-03</td>\n",
       "      <td>Abyei</td>\n",
       "      <td>9.838551</td>\n",
       "      <td>28.486396</td>\n",
       "    </tr>\n",
       "    <tr>\n",
       "      <th>2</th>\n",
       "      <td>The article discusses the signing of a Framewo...</td>\n",
       "      <td>2011-06-30</td>\n",
       "      <td>Southern Kordofan</td>\n",
       "      <td>11.036544</td>\n",
       "      <td>30.895824</td>\n",
       "    </tr>\n",
       "    <tr>\n",
       "      <th>3</th>\n",
       "      <td>The article discusses the upcoming independenc...</td>\n",
       "      <td>2011-07-04</td>\n",
       "      <td>South Sudan</td>\n",
       "      <td>6.876992</td>\n",
       "      <td>31.306979</td>\n",
       "    </tr>\n",
       "    <tr>\n",
       "      <th>4</th>\n",
       "      <td>The article discusses the need for South Sudan...</td>\n",
       "      <td>2011-07-02</td>\n",
       "      <td>Juba</td>\n",
       "      <td>4.859363</td>\n",
       "      <td>31.571250</td>\n",
       "    </tr>\n",
       "    <tr>\n",
       "      <th>5</th>\n",
       "      <td>The article discusses the United States' respo...</td>\n",
       "      <td>2011-07-06</td>\n",
       "      <td>Addis Ababa</td>\n",
       "      <td>8.980603</td>\n",
       "      <td>38.757761</td>\n",
       "    </tr>\n",
       "    <tr>\n",
       "      <th>6</th>\n",
       "      <td>The article discusses the recent independence ...</td>\n",
       "      <td>2011-06-30</td>\n",
       "      <td>Kakuma Refugee Camp</td>\n",
       "      <td>3.709066</td>\n",
       "      <td>34.862484</td>\n",
       "    </tr>\n",
       "    <tr>\n",
       "      <th>7</th>\n",
       "      <td>The article discusses the suspension of commer...</td>\n",
       "      <td>2011-07-07</td>\n",
       "      <td>Entebbe</td>\n",
       "      <td>0.051184</td>\n",
       "      <td>32.463708</td>\n",
       "    </tr>\n",
       "    <tr>\n",
       "      <th>8</th>\n",
       "      <td>The article discusses the Elders' letter of co...</td>\n",
       "      <td>2011-07-07</td>\n",
       "      <td>Juba</td>\n",
       "      <td>4.859363</td>\n",
       "      <td>31.571250</td>\n",
       "    </tr>\n",
       "    <tr>\n",
       "      <th>9</th>\n",
       "      <td>The article discusses the history of Sudan and...</td>\n",
       "      <td>2011-07-06</td>\n",
       "      <td>Southern Sudan</td>\n",
       "      <td>6.876992</td>\n",
       "      <td>31.306979</td>\n",
       "    </tr>\n",
       "    <tr>\n",
       "      <th>10</th>\n",
       "      <td>The article discusses a mock parade conducted ...</td>\n",
       "      <td>2011-07-01</td>\n",
       "      <td>Juba</td>\n",
       "      <td>4.859363</td>\n",
       "      <td>31.571250</td>\n",
       "    </tr>\n",
       "    <tr>\n",
       "      <th>11</th>\n",
       "      <td>The article discusses the South Sudan governme...</td>\n",
       "      <td>2011-07-03</td>\n",
       "      <td>Juba</td>\n",
       "      <td>4.859363</td>\n",
       "      <td>31.571250</td>\n",
       "    </tr>\n",
       "    <tr>\n",
       "      <th>12</th>\n",
       "      <td>The article discusses Congressman Donald M. Pa...</td>\n",
       "      <td>2011-07-06</td>\n",
       "      <td>Washington, DC</td>\n",
       "      <td>38.907192</td>\n",
       "      <td>-77.036871</td>\n",
       "    </tr>\n",
       "    <tr>\n",
       "      <th>13</th>\n",
       "      <td>The article discusses the preparations for Sou...</td>\n",
       "      <td>2011-07-07</td>\n",
       "      <td>Juba</td>\n",
       "      <td>4.859363</td>\n",
       "      <td>31.571250</td>\n",
       "    </tr>\n",
       "    <tr>\n",
       "      <th>14</th>\n",
       "      <td>The article discusses the ongoing fuel crisis ...</td>\n",
       "      <td>2011-07-06</td>\n",
       "      <td>Juba</td>\n",
       "      <td>4.859363</td>\n",
       "      <td>31.571250</td>\n",
       "    </tr>\n",
       "    <tr>\n",
       "      <th>15</th>\n",
       "      <td>The article discusses the preparations of the ...</td>\n",
       "      <td>2011-07-05</td>\n",
       "      <td>Juba</td>\n",
       "      <td>4.859363</td>\n",
       "      <td>31.571250</td>\n",
       "    </tr>\n",
       "    <tr>\n",
       "      <th>16</th>\n",
       "      <td>The article discusses the warning issued by se...</td>\n",
       "      <td>2011-07-07</td>\n",
       "      <td>Juba</td>\n",
       "      <td>4.859363</td>\n",
       "      <td>31.571250</td>\n",
       "    </tr>\n",
       "    <tr>\n",
       "      <th>17</th>\n",
       "      <td>The article discusses the urgent need to addre...</td>\n",
       "      <td>2011-07-07</td>\n",
       "      <td>Juba</td>\n",
       "      <td>4.859363</td>\n",
       "      <td>31.571250</td>\n",
       "    </tr>\n",
       "    <tr>\n",
       "      <th>18</th>\n",
       "      <td>The article discusses the potential for full-s...</td>\n",
       "      <td>2011-07-07</td>\n",
       "      <td>Abyei</td>\n",
       "      <td>9.838551</td>\n",
       "      <td>28.486396</td>\n",
       "    </tr>\n",
       "    <tr>\n",
       "      <th>19</th>\n",
       "      <td>The article discusses the progress made in neg...</td>\n",
       "      <td>2011-07-06</td>\n",
       "      <td>Addis Ababa</td>\n",
       "      <td>8.980603</td>\n",
       "      <td>38.757761</td>\n",
       "    </tr>\n",
       "  </tbody>\n",
       "</table>\n",
       "</div>"
      ],
      "text/plain": [
       "                                              summary        date  \\\n",
       "0   The article discusses the passing of the new C...  2011-07-07   \n",
       "1   The article discusses the military actions tak...  2011-07-03   \n",
       "2   The article discusses the signing of a Framewo...  2011-06-30   \n",
       "3   The article discusses the upcoming independenc...  2011-07-04   \n",
       "4   The article discusses the need for South Sudan...  2011-07-02   \n",
       "5   The article discusses the United States' respo...  2011-07-06   \n",
       "6   The article discusses the recent independence ...  2011-06-30   \n",
       "7   The article discusses the suspension of commer...  2011-07-07   \n",
       "8   The article discusses the Elders' letter of co...  2011-07-07   \n",
       "9   The article discusses the history of Sudan and...  2011-07-06   \n",
       "10  The article discusses a mock parade conducted ...  2011-07-01   \n",
       "11  The article discusses the South Sudan governme...  2011-07-03   \n",
       "12  The article discusses Congressman Donald M. Pa...  2011-07-06   \n",
       "13  The article discusses the preparations for Sou...  2011-07-07   \n",
       "14  The article discusses the ongoing fuel crisis ...  2011-07-06   \n",
       "15  The article discusses the preparations of the ...  2011-07-05   \n",
       "16  The article discusses the warning issued by se...  2011-07-07   \n",
       "17  The article discusses the urgent need to addre...  2011-07-07   \n",
       "18  The article discusses the potential for full-s...  2011-07-07   \n",
       "19  The article discusses the progress made in neg...  2011-07-06   \n",
       "\n",
       "       location_article        lat        lng  \n",
       "0                  Juba   4.859363  31.571250  \n",
       "1                 Abyei   9.838551  28.486396  \n",
       "2     Southern Kordofan  11.036544  30.895824  \n",
       "3           South Sudan   6.876992  31.306979  \n",
       "4                  Juba   4.859363  31.571250  \n",
       "5           Addis Ababa   8.980603  38.757761  \n",
       "6   Kakuma Refugee Camp   3.709066  34.862484  \n",
       "7               Entebbe   0.051184  32.463708  \n",
       "8                  Juba   4.859363  31.571250  \n",
       "9        Southern Sudan   6.876992  31.306979  \n",
       "10                 Juba   4.859363  31.571250  \n",
       "11                 Juba   4.859363  31.571250  \n",
       "12       Washington, DC  38.907192 -77.036871  \n",
       "13                 Juba   4.859363  31.571250  \n",
       "14                 Juba   4.859363  31.571250  \n",
       "15                 Juba   4.859363  31.571250  \n",
       "16                 Juba   4.859363  31.571250  \n",
       "17                 Juba   4.859363  31.571250  \n",
       "18                Abyei   9.838551  28.486396  \n",
       "19          Addis Ababa   8.980603  38.757761  "
      ]
     },
     "execution_count": 2,
     "metadata": {},
     "output_type": "execute_result"
    }
   ],
   "source": [
    "articles = pd.read_csv(\"data/articles_summary_cleaned.csv\")\n",
    "articles.head(20)"
   ]
  },
  {
   "cell_type": "code",
   "execution_count": 3,
   "metadata": {},
   "outputs": [
    {
     "data": {
      "text/html": [
       "<div>\n",
       "<style scoped>\n",
       "    .dataframe tbody tr th:only-of-type {\n",
       "        vertical-align: middle;\n",
       "    }\n",
       "\n",
       "    .dataframe tbody tr th {\n",
       "        vertical-align: top;\n",
       "    }\n",
       "\n",
       "    .dataframe thead th {\n",
       "        text-align: right;\n",
       "    }\n",
       "</style>\n",
       "<table border=\"1\" class=\"dataframe\">\n",
       "  <thead>\n",
       "    <tr style=\"text-align: right;\">\n",
       "      <th></th>\n",
       "      <th>summary</th>\n",
       "      <th>date</th>\n",
       "      <th>location_article</th>\n",
       "      <th>lat</th>\n",
       "      <th>lng</th>\n",
       "    </tr>\n",
       "  </thead>\n",
       "  <tbody>\n",
       "    <tr>\n",
       "      <th>18192</th>\n",
       "      <td>The article discusses the deployment of a mult...</td>\n",
       "      <td>2021-11-23</td>\n",
       "      <td>Morobo</td>\n",
       "      <td>3.684114</td>\n",
       "      <td>30.776658</td>\n",
       "    </tr>\n",
       "  </tbody>\n",
       "</table>\n",
       "</div>"
      ],
      "text/plain": [
       "                                                 summary        date  \\\n",
       "18192  The article discusses the deployment of a mult...  2021-11-23   \n",
       "\n",
       "      location_article       lat        lng  \n",
       "18192           Morobo  3.684114  30.776658  "
      ]
     },
     "execution_count": 3,
     "metadata": {},
     "output_type": "execute_result"
    }
   ],
   "source": [
    "articles[articles['location_article']=='Morobo']"
   ]
  },
  {
   "cell_type": "code",
   "execution_count": 4,
   "metadata": {},
   "outputs": [
    {
     "data": {
      "text/html": [
       "<div>\n",
       "<style scoped>\n",
       "    .dataframe tbody tr th:only-of-type {\n",
       "        vertical-align: middle;\n",
       "    }\n",
       "\n",
       "    .dataframe tbody tr th {\n",
       "        vertical-align: top;\n",
       "    }\n",
       "\n",
       "    .dataframe thead th {\n",
       "        text-align: right;\n",
       "    }\n",
       "</style>\n",
       "<table border=\"1\" class=\"dataframe\">\n",
       "  <thead>\n",
       "    <tr style=\"text-align: right;\">\n",
       "      <th></th>\n",
       "      <th>country</th>\n",
       "      <th>district_code</th>\n",
       "      <th>district</th>\n",
       "      <th>centx</th>\n",
       "      <th>centy</th>\n",
       "      <th>year_month</th>\n",
       "      <th>year</th>\n",
       "      <th>month</th>\n",
       "      <th>ipc</th>\n",
       "      <th>ha</th>\n",
       "      <th>...</th>\n",
       "      <th>et_anom</th>\n",
       "      <th>count_violence</th>\n",
       "      <th>sum_fatalities</th>\n",
       "      <th>food_price_idx</th>\n",
       "      <th>area</th>\n",
       "      <th>cropland_pct</th>\n",
       "      <th>pop</th>\n",
       "      <th>ruggedness_mean</th>\n",
       "      <th>pasture_pct</th>\n",
       "      <th>date</th>\n",
       "    </tr>\n",
       "  </thead>\n",
       "  <tbody>\n",
       "    <tr>\n",
       "      <th>0</th>\n",
       "      <td>South Sudan</td>\n",
       "      <td>74</td>\n",
       "      <td>Bor</td>\n",
       "      <td>32.00486</td>\n",
       "      <td>6.465644</td>\n",
       "      <td>2007_01</td>\n",
       "      <td>2007</td>\n",
       "      <td>1</td>\n",
       "      <td>NaN</td>\n",
       "      <td>NaN</td>\n",
       "      <td>...</td>\n",
       "      <td>0.048880</td>\n",
       "      <td>0</td>\n",
       "      <td>0</td>\n",
       "      <td>0.561363</td>\n",
       "      <td>14008.33</td>\n",
       "      <td>7.961984</td>\n",
       "      <td>239344.0</td>\n",
       "      <td>11393.76</td>\n",
       "      <td>90.8503</td>\n",
       "      <td>2007-01-01</td>\n",
       "    </tr>\n",
       "    <tr>\n",
       "      <th>1</th>\n",
       "      <td>South Sudan</td>\n",
       "      <td>74</td>\n",
       "      <td>Bor</td>\n",
       "      <td>32.00486</td>\n",
       "      <td>6.465644</td>\n",
       "      <td>2007_02</td>\n",
       "      <td>2007</td>\n",
       "      <td>2</td>\n",
       "      <td>NaN</td>\n",
       "      <td>NaN</td>\n",
       "      <td>...</td>\n",
       "      <td>-0.457928</td>\n",
       "      <td>0</td>\n",
       "      <td>0</td>\n",
       "      <td>0.565693</td>\n",
       "      <td>14008.33</td>\n",
       "      <td>7.961984</td>\n",
       "      <td>239344.0</td>\n",
       "      <td>11393.76</td>\n",
       "      <td>90.8503</td>\n",
       "      <td>2007-02-01</td>\n",
       "    </tr>\n",
       "    <tr>\n",
       "      <th>2</th>\n",
       "      <td>South Sudan</td>\n",
       "      <td>74</td>\n",
       "      <td>Bor</td>\n",
       "      <td>32.00486</td>\n",
       "      <td>6.465644</td>\n",
       "      <td>2007_03</td>\n",
       "      <td>2007</td>\n",
       "      <td>3</td>\n",
       "      <td>NaN</td>\n",
       "      <td>NaN</td>\n",
       "      <td>...</td>\n",
       "      <td>-0.590175</td>\n",
       "      <td>0</td>\n",
       "      <td>0</td>\n",
       "      <td>0.592437</td>\n",
       "      <td>14008.33</td>\n",
       "      <td>7.961984</td>\n",
       "      <td>239344.0</td>\n",
       "      <td>11393.76</td>\n",
       "      <td>90.8503</td>\n",
       "      <td>2007-03-01</td>\n",
       "    </tr>\n",
       "    <tr>\n",
       "      <th>3</th>\n",
       "      <td>South Sudan</td>\n",
       "      <td>74</td>\n",
       "      <td>Bor</td>\n",
       "      <td>32.00486</td>\n",
       "      <td>6.465644</td>\n",
       "      <td>2007_04</td>\n",
       "      <td>2007</td>\n",
       "      <td>4</td>\n",
       "      <td>NaN</td>\n",
       "      <td>NaN</td>\n",
       "      <td>...</td>\n",
       "      <td>-1.845536</td>\n",
       "      <td>0</td>\n",
       "      <td>0</td>\n",
       "      <td>0.605352</td>\n",
       "      <td>14008.33</td>\n",
       "      <td>7.961984</td>\n",
       "      <td>239344.0</td>\n",
       "      <td>11393.76</td>\n",
       "      <td>90.8503</td>\n",
       "      <td>2007-04-01</td>\n",
       "    </tr>\n",
       "    <tr>\n",
       "      <th>4</th>\n",
       "      <td>South Sudan</td>\n",
       "      <td>74</td>\n",
       "      <td>Bor</td>\n",
       "      <td>32.00486</td>\n",
       "      <td>6.465644</td>\n",
       "      <td>2007_05</td>\n",
       "      <td>2007</td>\n",
       "      <td>5</td>\n",
       "      <td>NaN</td>\n",
       "      <td>NaN</td>\n",
       "      <td>...</td>\n",
       "      <td>-2.972735</td>\n",
       "      <td>0</td>\n",
       "      <td>0</td>\n",
       "      <td>0.618699</td>\n",
       "      <td>14008.33</td>\n",
       "      <td>7.961984</td>\n",
       "      <td>239344.0</td>\n",
       "      <td>11393.76</td>\n",
       "      <td>90.8503</td>\n",
       "      <td>2007-05-01</td>\n",
       "    </tr>\n",
       "    <tr>\n",
       "      <th>5</th>\n",
       "      <td>South Sudan</td>\n",
       "      <td>74</td>\n",
       "      <td>Bor</td>\n",
       "      <td>32.00486</td>\n",
       "      <td>6.465644</td>\n",
       "      <td>2007_06</td>\n",
       "      <td>2007</td>\n",
       "      <td>6</td>\n",
       "      <td>NaN</td>\n",
       "      <td>NaN</td>\n",
       "      <td>...</td>\n",
       "      <td>1.762026</td>\n",
       "      <td>0</td>\n",
       "      <td>0</td>\n",
       "      <td>0.654720</td>\n",
       "      <td>14008.33</td>\n",
       "      <td>7.961984</td>\n",
       "      <td>239344.0</td>\n",
       "      <td>11393.76</td>\n",
       "      <td>90.8503</td>\n",
       "      <td>2007-06-01</td>\n",
       "    </tr>\n",
       "    <tr>\n",
       "      <th>6</th>\n",
       "      <td>South Sudan</td>\n",
       "      <td>74</td>\n",
       "      <td>Bor</td>\n",
       "      <td>32.00486</td>\n",
       "      <td>6.465644</td>\n",
       "      <td>2007_07</td>\n",
       "      <td>2007</td>\n",
       "      <td>7</td>\n",
       "      <td>NaN</td>\n",
       "      <td>NaN</td>\n",
       "      <td>...</td>\n",
       "      <td>4.739519</td>\n",
       "      <td>0</td>\n",
       "      <td>0</td>\n",
       "      <td>0.668911</td>\n",
       "      <td>14008.33</td>\n",
       "      <td>7.961984</td>\n",
       "      <td>239344.0</td>\n",
       "      <td>11393.76</td>\n",
       "      <td>90.8503</td>\n",
       "      <td>2007-07-01</td>\n",
       "    </tr>\n",
       "    <tr>\n",
       "      <th>7</th>\n",
       "      <td>South Sudan</td>\n",
       "      <td>74</td>\n",
       "      <td>Bor</td>\n",
       "      <td>32.00486</td>\n",
       "      <td>6.465644</td>\n",
       "      <td>2007_08</td>\n",
       "      <td>2007</td>\n",
       "      <td>8</td>\n",
       "      <td>NaN</td>\n",
       "      <td>NaN</td>\n",
       "      <td>...</td>\n",
       "      <td>4.267536</td>\n",
       "      <td>0</td>\n",
       "      <td>0</td>\n",
       "      <td>0.707018</td>\n",
       "      <td>14008.33</td>\n",
       "      <td>7.961984</td>\n",
       "      <td>239344.0</td>\n",
       "      <td>11393.76</td>\n",
       "      <td>90.8503</td>\n",
       "      <td>2007-08-01</td>\n",
       "    </tr>\n",
       "    <tr>\n",
       "      <th>8</th>\n",
       "      <td>South Sudan</td>\n",
       "      <td>74</td>\n",
       "      <td>Bor</td>\n",
       "      <td>32.00486</td>\n",
       "      <td>6.465644</td>\n",
       "      <td>2007_09</td>\n",
       "      <td>2007</td>\n",
       "      <td>9</td>\n",
       "      <td>NaN</td>\n",
       "      <td>NaN</td>\n",
       "      <td>...</td>\n",
       "      <td>-0.952097</td>\n",
       "      <td>0</td>\n",
       "      <td>0</td>\n",
       "      <td>0.705286</td>\n",
       "      <td>14008.33</td>\n",
       "      <td>7.961984</td>\n",
       "      <td>239344.0</td>\n",
       "      <td>11393.76</td>\n",
       "      <td>90.8503</td>\n",
       "      <td>2007-09-01</td>\n",
       "    </tr>\n",
       "    <tr>\n",
       "      <th>9</th>\n",
       "      <td>South Sudan</td>\n",
       "      <td>74</td>\n",
       "      <td>Bor</td>\n",
       "      <td>32.00486</td>\n",
       "      <td>6.465644</td>\n",
       "      <td>2007_10</td>\n",
       "      <td>2007</td>\n",
       "      <td>10</td>\n",
       "      <td>NaN</td>\n",
       "      <td>NaN</td>\n",
       "      <td>...</td>\n",
       "      <td>-2.062405</td>\n",
       "      <td>0</td>\n",
       "      <td>0</td>\n",
       "      <td>0.718695</td>\n",
       "      <td>14008.33</td>\n",
       "      <td>7.961984</td>\n",
       "      <td>239344.0</td>\n",
       "      <td>11393.76</td>\n",
       "      <td>90.8503</td>\n",
       "      <td>2007-10-01</td>\n",
       "    </tr>\n",
       "    <tr>\n",
       "      <th>10</th>\n",
       "      <td>South Sudan</td>\n",
       "      <td>74</td>\n",
       "      <td>Bor</td>\n",
       "      <td>32.00486</td>\n",
       "      <td>6.465644</td>\n",
       "      <td>2007_11</td>\n",
       "      <td>2007</td>\n",
       "      <td>11</td>\n",
       "      <td>NaN</td>\n",
       "      <td>NaN</td>\n",
       "      <td>...</td>\n",
       "      <td>-1.048091</td>\n",
       "      <td>2</td>\n",
       "      <td>34</td>\n",
       "      <td>0.705722</td>\n",
       "      <td>14008.33</td>\n",
       "      <td>7.961984</td>\n",
       "      <td>239344.0</td>\n",
       "      <td>11393.76</td>\n",
       "      <td>90.8503</td>\n",
       "      <td>2007-11-01</td>\n",
       "    </tr>\n",
       "    <tr>\n",
       "      <th>11</th>\n",
       "      <td>South Sudan</td>\n",
       "      <td>74</td>\n",
       "      <td>Bor</td>\n",
       "      <td>32.00486</td>\n",
       "      <td>6.465644</td>\n",
       "      <td>2007_12</td>\n",
       "      <td>2007</td>\n",
       "      <td>12</td>\n",
       "      <td>NaN</td>\n",
       "      <td>NaN</td>\n",
       "      <td>...</td>\n",
       "      <td>-1.923172</td>\n",
       "      <td>0</td>\n",
       "      <td>0</td>\n",
       "      <td>0.709122</td>\n",
       "      <td>14008.33</td>\n",
       "      <td>7.961984</td>\n",
       "      <td>239344.0</td>\n",
       "      <td>11393.76</td>\n",
       "      <td>90.8503</td>\n",
       "      <td>2007-12-01</td>\n",
       "    </tr>\n",
       "    <tr>\n",
       "      <th>12</th>\n",
       "      <td>South Sudan</td>\n",
       "      <td>74</td>\n",
       "      <td>Bor</td>\n",
       "      <td>32.00486</td>\n",
       "      <td>6.465644</td>\n",
       "      <td>2008_01</td>\n",
       "      <td>2008</td>\n",
       "      <td>1</td>\n",
       "      <td>NaN</td>\n",
       "      <td>NaN</td>\n",
       "      <td>...</td>\n",
       "      <td>-0.020508</td>\n",
       "      <td>0</td>\n",
       "      <td>0</td>\n",
       "      <td>0.736144</td>\n",
       "      <td>14008.33</td>\n",
       "      <td>7.961984</td>\n",
       "      <td>247988.7</td>\n",
       "      <td>11393.76</td>\n",
       "      <td>90.8503</td>\n",
       "      <td>2008-01-01</td>\n",
       "    </tr>\n",
       "    <tr>\n",
       "      <th>13</th>\n",
       "      <td>South Sudan</td>\n",
       "      <td>74</td>\n",
       "      <td>Bor</td>\n",
       "      <td>32.00486</td>\n",
       "      <td>6.465644</td>\n",
       "      <td>2008_02</td>\n",
       "      <td>2008</td>\n",
       "      <td>2</td>\n",
       "      <td>NaN</td>\n",
       "      <td>NaN</td>\n",
       "      <td>...</td>\n",
       "      <td>-0.502316</td>\n",
       "      <td>1</td>\n",
       "      <td>0</td>\n",
       "      <td>0.740665</td>\n",
       "      <td>14008.33</td>\n",
       "      <td>7.961984</td>\n",
       "      <td>247988.7</td>\n",
       "      <td>11393.76</td>\n",
       "      <td>90.8503</td>\n",
       "      <td>2008-02-01</td>\n",
       "    </tr>\n",
       "    <tr>\n",
       "      <th>14</th>\n",
       "      <td>South Sudan</td>\n",
       "      <td>74</td>\n",
       "      <td>Bor</td>\n",
       "      <td>32.00486</td>\n",
       "      <td>6.465644</td>\n",
       "      <td>2008_03</td>\n",
       "      <td>2008</td>\n",
       "      <td>3</td>\n",
       "      <td>NaN</td>\n",
       "      <td>NaN</td>\n",
       "      <td>...</td>\n",
       "      <td>-0.564416</td>\n",
       "      <td>0</td>\n",
       "      <td>0</td>\n",
       "      <td>0.757019</td>\n",
       "      <td>14008.33</td>\n",
       "      <td>7.961984</td>\n",
       "      <td>247988.7</td>\n",
       "      <td>11393.76</td>\n",
       "      <td>90.8503</td>\n",
       "      <td>2008-03-01</td>\n",
       "    </tr>\n",
       "    <tr>\n",
       "      <th>15</th>\n",
       "      <td>South Sudan</td>\n",
       "      <td>74</td>\n",
       "      <td>Bor</td>\n",
       "      <td>32.00486</td>\n",
       "      <td>6.465644</td>\n",
       "      <td>2008_04</td>\n",
       "      <td>2008</td>\n",
       "      <td>4</td>\n",
       "      <td>NaN</td>\n",
       "      <td>NaN</td>\n",
       "      <td>...</td>\n",
       "      <td>0.614419</td>\n",
       "      <td>0</td>\n",
       "      <td>0</td>\n",
       "      <td>0.774889</td>\n",
       "      <td>14008.33</td>\n",
       "      <td>7.961984</td>\n",
       "      <td>247988.7</td>\n",
       "      <td>11393.76</td>\n",
       "      <td>90.8503</td>\n",
       "      <td>2008-04-01</td>\n",
       "    </tr>\n",
       "    <tr>\n",
       "      <th>16</th>\n",
       "      <td>South Sudan</td>\n",
       "      <td>74</td>\n",
       "      <td>Bor</td>\n",
       "      <td>32.00486</td>\n",
       "      <td>6.465644</td>\n",
       "      <td>2008_05</td>\n",
       "      <td>2008</td>\n",
       "      <td>5</td>\n",
       "      <td>NaN</td>\n",
       "      <td>NaN</td>\n",
       "      <td>...</td>\n",
       "      <td>0.718046</td>\n",
       "      <td>0</td>\n",
       "      <td>0</td>\n",
       "      <td>0.749765</td>\n",
       "      <td>14008.33</td>\n",
       "      <td>7.961984</td>\n",
       "      <td>247988.7</td>\n",
       "      <td>11393.76</td>\n",
       "      <td>90.8503</td>\n",
       "      <td>2008-05-01</td>\n",
       "    </tr>\n",
       "    <tr>\n",
       "      <th>17</th>\n",
       "      <td>South Sudan</td>\n",
       "      <td>74</td>\n",
       "      <td>Bor</td>\n",
       "      <td>32.00486</td>\n",
       "      <td>6.465644</td>\n",
       "      <td>2008_06</td>\n",
       "      <td>2008</td>\n",
       "      <td>6</td>\n",
       "      <td>NaN</td>\n",
       "      <td>NaN</td>\n",
       "      <td>...</td>\n",
       "      <td>-0.581775</td>\n",
       "      <td>0</td>\n",
       "      <td>0</td>\n",
       "      <td>0.758313</td>\n",
       "      <td>14008.33</td>\n",
       "      <td>7.961984</td>\n",
       "      <td>247988.7</td>\n",
       "      <td>11393.76</td>\n",
       "      <td>90.8503</td>\n",
       "      <td>2008-06-01</td>\n",
       "    </tr>\n",
       "    <tr>\n",
       "      <th>18</th>\n",
       "      <td>South Sudan</td>\n",
       "      <td>74</td>\n",
       "      <td>Bor</td>\n",
       "      <td>32.00486</td>\n",
       "      <td>6.465644</td>\n",
       "      <td>2008_07</td>\n",
       "      <td>2008</td>\n",
       "      <td>7</td>\n",
       "      <td>NaN</td>\n",
       "      <td>NaN</td>\n",
       "      <td>...</td>\n",
       "      <td>-3.340564</td>\n",
       "      <td>0</td>\n",
       "      <td>0</td>\n",
       "      <td>0.787817</td>\n",
       "      <td>14008.33</td>\n",
       "      <td>7.961984</td>\n",
       "      <td>247988.7</td>\n",
       "      <td>11393.76</td>\n",
       "      <td>90.8503</td>\n",
       "      <td>2008-07-01</td>\n",
       "    </tr>\n",
       "    <tr>\n",
       "      <th>19</th>\n",
       "      <td>South Sudan</td>\n",
       "      <td>74</td>\n",
       "      <td>Bor</td>\n",
       "      <td>32.00486</td>\n",
       "      <td>6.465644</td>\n",
       "      <td>2008_08</td>\n",
       "      <td>2008</td>\n",
       "      <td>8</td>\n",
       "      <td>NaN</td>\n",
       "      <td>NaN</td>\n",
       "      <td>...</td>\n",
       "      <td>-2.272952</td>\n",
       "      <td>2</td>\n",
       "      <td>19</td>\n",
       "      <td>0.751833</td>\n",
       "      <td>14008.33</td>\n",
       "      <td>7.961984</td>\n",
       "      <td>247988.7</td>\n",
       "      <td>11393.76</td>\n",
       "      <td>90.8503</td>\n",
       "      <td>2008-08-01</td>\n",
       "    </tr>\n",
       "  </tbody>\n",
       "</table>\n",
       "<p>20 rows × 25 columns</p>\n",
       "</div>"
      ],
      "text/plain": [
       "        country  district_code district     centx     centy year_month  year  \\\n",
       "0   South Sudan             74      Bor  32.00486  6.465644    2007_01  2007   \n",
       "1   South Sudan             74      Bor  32.00486  6.465644    2007_02  2007   \n",
       "2   South Sudan             74      Bor  32.00486  6.465644    2007_03  2007   \n",
       "3   South Sudan             74      Bor  32.00486  6.465644    2007_04  2007   \n",
       "4   South Sudan             74      Bor  32.00486  6.465644    2007_05  2007   \n",
       "5   South Sudan             74      Bor  32.00486  6.465644    2007_06  2007   \n",
       "6   South Sudan             74      Bor  32.00486  6.465644    2007_07  2007   \n",
       "7   South Sudan             74      Bor  32.00486  6.465644    2007_08  2007   \n",
       "8   South Sudan             74      Bor  32.00486  6.465644    2007_09  2007   \n",
       "9   South Sudan             74      Bor  32.00486  6.465644    2007_10  2007   \n",
       "10  South Sudan             74      Bor  32.00486  6.465644    2007_11  2007   \n",
       "11  South Sudan             74      Bor  32.00486  6.465644    2007_12  2007   \n",
       "12  South Sudan             74      Bor  32.00486  6.465644    2008_01  2008   \n",
       "13  South Sudan             74      Bor  32.00486  6.465644    2008_02  2008   \n",
       "14  South Sudan             74      Bor  32.00486  6.465644    2008_03  2008   \n",
       "15  South Sudan             74      Bor  32.00486  6.465644    2008_04  2008   \n",
       "16  South Sudan             74      Bor  32.00486  6.465644    2008_05  2008   \n",
       "17  South Sudan             74      Bor  32.00486  6.465644    2008_06  2008   \n",
       "18  South Sudan             74      Bor  32.00486  6.465644    2008_07  2008   \n",
       "19  South Sudan             74      Bor  32.00486  6.465644    2008_08  2008   \n",
       "\n",
       "    month  ipc  ha  ...   et_anom  count_violence  sum_fatalities  \\\n",
       "0       1  NaN NaN  ...  0.048880               0               0   \n",
       "1       2  NaN NaN  ... -0.457928               0               0   \n",
       "2       3  NaN NaN  ... -0.590175               0               0   \n",
       "3       4  NaN NaN  ... -1.845536               0               0   \n",
       "4       5  NaN NaN  ... -2.972735               0               0   \n",
       "5       6  NaN NaN  ...  1.762026               0               0   \n",
       "6       7  NaN NaN  ...  4.739519               0               0   \n",
       "7       8  NaN NaN  ...  4.267536               0               0   \n",
       "8       9  NaN NaN  ... -0.952097               0               0   \n",
       "9      10  NaN NaN  ... -2.062405               0               0   \n",
       "10     11  NaN NaN  ... -1.048091               2              34   \n",
       "11     12  NaN NaN  ... -1.923172               0               0   \n",
       "12      1  NaN NaN  ... -0.020508               0               0   \n",
       "13      2  NaN NaN  ... -0.502316               1               0   \n",
       "14      3  NaN NaN  ... -0.564416               0               0   \n",
       "15      4  NaN NaN  ...  0.614419               0               0   \n",
       "16      5  NaN NaN  ...  0.718046               0               0   \n",
       "17      6  NaN NaN  ... -0.581775               0               0   \n",
       "18      7  NaN NaN  ... -3.340564               0               0   \n",
       "19      8  NaN NaN  ... -2.272952               2              19   \n",
       "\n",
       "    food_price_idx      area  cropland_pct       pop  ruggedness_mean  \\\n",
       "0         0.561363  14008.33      7.961984  239344.0         11393.76   \n",
       "1         0.565693  14008.33      7.961984  239344.0         11393.76   \n",
       "2         0.592437  14008.33      7.961984  239344.0         11393.76   \n",
       "3         0.605352  14008.33      7.961984  239344.0         11393.76   \n",
       "4         0.618699  14008.33      7.961984  239344.0         11393.76   \n",
       "5         0.654720  14008.33      7.961984  239344.0         11393.76   \n",
       "6         0.668911  14008.33      7.961984  239344.0         11393.76   \n",
       "7         0.707018  14008.33      7.961984  239344.0         11393.76   \n",
       "8         0.705286  14008.33      7.961984  239344.0         11393.76   \n",
       "9         0.718695  14008.33      7.961984  239344.0         11393.76   \n",
       "10        0.705722  14008.33      7.961984  239344.0         11393.76   \n",
       "11        0.709122  14008.33      7.961984  239344.0         11393.76   \n",
       "12        0.736144  14008.33      7.961984  247988.7         11393.76   \n",
       "13        0.740665  14008.33      7.961984  247988.7         11393.76   \n",
       "14        0.757019  14008.33      7.961984  247988.7         11393.76   \n",
       "15        0.774889  14008.33      7.961984  247988.7         11393.76   \n",
       "16        0.749765  14008.33      7.961984  247988.7         11393.76   \n",
       "17        0.758313  14008.33      7.961984  247988.7         11393.76   \n",
       "18        0.787817  14008.33      7.961984  247988.7         11393.76   \n",
       "19        0.751833  14008.33      7.961984  247988.7         11393.76   \n",
       "\n",
       "    pasture_pct        date  \n",
       "0       90.8503  2007-01-01  \n",
       "1       90.8503  2007-02-01  \n",
       "2       90.8503  2007-03-01  \n",
       "3       90.8503  2007-04-01  \n",
       "4       90.8503  2007-05-01  \n",
       "5       90.8503  2007-06-01  \n",
       "6       90.8503  2007-07-01  \n",
       "7       90.8503  2007-08-01  \n",
       "8       90.8503  2007-09-01  \n",
       "9       90.8503  2007-10-01  \n",
       "10      90.8503  2007-11-01  \n",
       "11      90.8503  2007-12-01  \n",
       "12      90.8503  2008-01-01  \n",
       "13      90.8503  2008-02-01  \n",
       "14      90.8503  2008-03-01  \n",
       "15      90.8503  2008-04-01  \n",
       "16      90.8503  2008-05-01  \n",
       "17      90.8503  2008-06-01  \n",
       "18      90.8503  2008-07-01  \n",
       "19      90.8503  2008-08-01  \n",
       "\n",
       "[20 rows x 25 columns]"
      ]
     },
     "execution_count": 4,
     "metadata": {},
     "output_type": "execute_result"
    }
   ],
   "source": [
    "food = pd.read_csv(\"data/food_crises_cleaned.csv\")\n",
    "food.head(20)"
   ]
  },
  {
   "cell_type": "code",
   "execution_count": 5,
   "metadata": {},
   "outputs": [],
   "source": [
    "provinces = {\n",
    "    'Bahr El Ghazal' : ['Yirol East', 'Awerial', 'Wau', 'Rumbek Center', 'Yirol West', 'Cueibet', 'Rumbek North', 'Rumbek East', 'Rumbek East', 'Wulu', 'Aweil East', 'Aweil South', 'Aweil Center', 'Gogrial West', 'Gogrial East', 'Tonj North', 'Tonj East', 'Tonj South', 'Twic', 'Raja', 'Aweil North', 'Aweil West', 'Aweil West', 'Jur River', 'Bagari'],\n",
    "    'Equatoria' : ['Juba', 'Lafon', 'Terekeka', 'Jemeiza', 'Gwor', 'Tali', 'Tigor', 'Yei', 'Lainya', 'Morobo', 'Kajo Keji', 'Lopa', 'Torit', 'Ikotos', 'Magwi', 'Kapoeta North', 'Kapoeta East', 'Kapoeta South', 'Budi', 'Mvolo', 'Mundri West', 'Mundri East', 'Yambio', 'Ezo', 'Anzara', 'Maridi', 'Ibba', 'Tambura', 'Nagero'],\n",
    "    'Greater Upper Nile' : ['Akobo', 'Panyikang', 'Fashoda', 'Malakal', 'Uror', 'Nyirol', 'Pochalla', 'Pibor', 'Ayod', 'Fangak', 'Bor', 'Twic East', 'Duk', 'Mayom', 'Koch', 'Rubkona', 'Guit', 'Pariang', 'Abiemnhom', 'Mayendit', 'Leer', 'Panyijiar', 'Akoka', 'Pigi', 'Baliet', 'Panyikangr', 'Kodok', 'Manyo', 'Ulang', 'Nasir', 'Longchuk', 'Koma', 'Maiwut', 'Renk', 'Maban', 'Melut']\n",
    "}\n",
    "food['administrative_region'] = food['district'].map(lambda x,d=provinces: next((k for k in d.keys() if x in d[k]), None))\n",
    "food.to_csv('data/food_crises_updated.csv')"
   ]
  },
  {
   "cell_type": "code",
   "execution_count": 6,
   "metadata": {},
   "outputs": [
    {
     "data": {
      "application/vnd.plotly.v1+json": {
       "config": {
        "plotlyServerURL": "https://plot.ly"
       },
       "data": [
        {
         "alignmentgroup": "True",
         "hovertemplate": "ipc=3.0<br>year=%{x}<br>count=%{y}<extra></extra>",
         "legendgroup": "3.0",
         "marker": {
          "color": "#636efa",
          "pattern": {
           "shape": ""
          }
         },
         "name": "3.0",
         "offsetgroup": "3.0",
         "orientation": "v",
         "showlegend": true,
         "textposition": "auto",
         "type": "bar",
         "x": [
          2019,
          2018,
          2017,
          2016,
          2015,
          2014,
          2012,
          2020,
          2011,
          2013,
          2009,
          2010
         ],
         "xaxis": "x",
         "y": [
          164,
          163,
          141,
          90,
          66,
          60,
          59,
          55,
          38,
          22,
          18,
          3
         ],
         "yaxis": "y"
        },
        {
         "alignmentgroup": "True",
         "hovertemplate": "ipc=1.0<br>year=%{x}<br>count=%{y}<extra></extra>",
         "legendgroup": "1.0",
         "marker": {
          "color": "#EF553B",
          "pattern": {
           "shape": ""
          }
         },
         "name": "1.0",
         "offsetgroup": "1.0",
         "orientation": "v",
         "showlegend": true,
         "textposition": "auto",
         "type": "bar",
         "x": [
          2010,
          2011,
          2013,
          2012,
          2014,
          2009,
          2015,
          2016
         ],
         "xaxis": "x",
         "y": [
          161,
          159,
          150,
          136,
          100,
          80,
          73,
          11
         ],
         "yaxis": "y"
        },
        {
         "alignmentgroup": "True",
         "hovertemplate": "ipc=2.0<br>year=%{x}<br>count=%{y}<extra></extra>",
         "legendgroup": "2.0",
         "marker": {
          "color": "#00cc96",
          "pattern": {
           "shape": ""
          }
         },
         "name": "2.0",
         "offsetgroup": "2.0",
         "orientation": "v",
         "showlegend": true,
         "textposition": "auto",
         "type": "bar",
         "x": [
          2015,
          2010,
          2013,
          2014,
          2012,
          2011,
          2016,
          2017,
          2009,
          2018,
          2019,
          2020
         ],
         "xaxis": "x",
         "y": [
          154,
          146,
          140,
          140,
          117,
          115,
          114,
          57,
          56,
          38,
          25,
          6
         ],
         "yaxis": "y"
        },
        {
         "alignmentgroup": "True",
         "hovertemplate": "ipc=4.0<br>year=%{x}<br>count=%{y}<extra></extra>",
         "legendgroup": "4.0",
         "marker": {
          "color": "#ab63fa",
          "pattern": {
           "shape": ""
          }
         },
         "name": "4.0",
         "offsetgroup": "4.0",
         "orientation": "v",
         "showlegend": true,
         "textposition": "auto",
         "type": "bar",
         "x": [
          2019,
          2017,
          2018,
          2015,
          2016,
          2020,
          2014,
          2009,
          2010
         ],
         "xaxis": "x",
         "y": [
          45,
          35,
          33,
          19,
          19,
          17,
          12,
          2,
          2
         ],
         "yaxis": "y"
        },
        {
         "alignmentgroup": "True",
         "hovertemplate": "ipc=5.0<br>year=%{x}<br>count=%{y}<extra></extra>",
         "legendgroup": "5.0",
         "marker": {
          "color": "#FFA15A",
          "pattern": {
           "shape": ""
          }
         },
         "name": "5.0",
         "offsetgroup": "5.0",
         "orientation": "v",
         "showlegend": true,
         "textposition": "auto",
         "type": "bar",
         "x": [
          2017
         ],
         "xaxis": "x",
         "y": [
          1
         ],
         "yaxis": "y"
        }
       ],
       "layout": {
        "barmode": "group",
        "legend": {
         "title": {
          "text": "ipc"
         },
         "tracegroupgap": 0
        },
        "template": {
         "data": {
          "bar": [
           {
            "error_x": {
             "color": "#2a3f5f"
            },
            "error_y": {
             "color": "#2a3f5f"
            },
            "marker": {
             "line": {
              "color": "#E5ECF6",
              "width": 0.5
             },
             "pattern": {
              "fillmode": "overlay",
              "size": 10,
              "solidity": 0.2
             }
            },
            "type": "bar"
           }
          ],
          "barpolar": [
           {
            "marker": {
             "line": {
              "color": "#E5ECF6",
              "width": 0.5
             },
             "pattern": {
              "fillmode": "overlay",
              "size": 10,
              "solidity": 0.2
             }
            },
            "type": "barpolar"
           }
          ],
          "carpet": [
           {
            "aaxis": {
             "endlinecolor": "#2a3f5f",
             "gridcolor": "white",
             "linecolor": "white",
             "minorgridcolor": "white",
             "startlinecolor": "#2a3f5f"
            },
            "baxis": {
             "endlinecolor": "#2a3f5f",
             "gridcolor": "white",
             "linecolor": "white",
             "minorgridcolor": "white",
             "startlinecolor": "#2a3f5f"
            },
            "type": "carpet"
           }
          ],
          "choropleth": [
           {
            "colorbar": {
             "outlinewidth": 0,
             "ticks": ""
            },
            "type": "choropleth"
           }
          ],
          "contour": [
           {
            "colorbar": {
             "outlinewidth": 0,
             "ticks": ""
            },
            "colorscale": [
             [
              0,
              "#0d0887"
             ],
             [
              0.1111111111111111,
              "#46039f"
             ],
             [
              0.2222222222222222,
              "#7201a8"
             ],
             [
              0.3333333333333333,
              "#9c179e"
             ],
             [
              0.4444444444444444,
              "#bd3786"
             ],
             [
              0.5555555555555556,
              "#d8576b"
             ],
             [
              0.6666666666666666,
              "#ed7953"
             ],
             [
              0.7777777777777778,
              "#fb9f3a"
             ],
             [
              0.8888888888888888,
              "#fdca26"
             ],
             [
              1,
              "#f0f921"
             ]
            ],
            "type": "contour"
           }
          ],
          "contourcarpet": [
           {
            "colorbar": {
             "outlinewidth": 0,
             "ticks": ""
            },
            "type": "contourcarpet"
           }
          ],
          "heatmap": [
           {
            "colorbar": {
             "outlinewidth": 0,
             "ticks": ""
            },
            "colorscale": [
             [
              0,
              "#0d0887"
             ],
             [
              0.1111111111111111,
              "#46039f"
             ],
             [
              0.2222222222222222,
              "#7201a8"
             ],
             [
              0.3333333333333333,
              "#9c179e"
             ],
             [
              0.4444444444444444,
              "#bd3786"
             ],
             [
              0.5555555555555556,
              "#d8576b"
             ],
             [
              0.6666666666666666,
              "#ed7953"
             ],
             [
              0.7777777777777778,
              "#fb9f3a"
             ],
             [
              0.8888888888888888,
              "#fdca26"
             ],
             [
              1,
              "#f0f921"
             ]
            ],
            "type": "heatmap"
           }
          ],
          "heatmapgl": [
           {
            "colorbar": {
             "outlinewidth": 0,
             "ticks": ""
            },
            "colorscale": [
             [
              0,
              "#0d0887"
             ],
             [
              0.1111111111111111,
              "#46039f"
             ],
             [
              0.2222222222222222,
              "#7201a8"
             ],
             [
              0.3333333333333333,
              "#9c179e"
             ],
             [
              0.4444444444444444,
              "#bd3786"
             ],
             [
              0.5555555555555556,
              "#d8576b"
             ],
             [
              0.6666666666666666,
              "#ed7953"
             ],
             [
              0.7777777777777778,
              "#fb9f3a"
             ],
             [
              0.8888888888888888,
              "#fdca26"
             ],
             [
              1,
              "#f0f921"
             ]
            ],
            "type": "heatmapgl"
           }
          ],
          "histogram": [
           {
            "marker": {
             "pattern": {
              "fillmode": "overlay",
              "size": 10,
              "solidity": 0.2
             }
            },
            "type": "histogram"
           }
          ],
          "histogram2d": [
           {
            "colorbar": {
             "outlinewidth": 0,
             "ticks": ""
            },
            "colorscale": [
             [
              0,
              "#0d0887"
             ],
             [
              0.1111111111111111,
              "#46039f"
             ],
             [
              0.2222222222222222,
              "#7201a8"
             ],
             [
              0.3333333333333333,
              "#9c179e"
             ],
             [
              0.4444444444444444,
              "#bd3786"
             ],
             [
              0.5555555555555556,
              "#d8576b"
             ],
             [
              0.6666666666666666,
              "#ed7953"
             ],
             [
              0.7777777777777778,
              "#fb9f3a"
             ],
             [
              0.8888888888888888,
              "#fdca26"
             ],
             [
              1,
              "#f0f921"
             ]
            ],
            "type": "histogram2d"
           }
          ],
          "histogram2dcontour": [
           {
            "colorbar": {
             "outlinewidth": 0,
             "ticks": ""
            },
            "colorscale": [
             [
              0,
              "#0d0887"
             ],
             [
              0.1111111111111111,
              "#46039f"
             ],
             [
              0.2222222222222222,
              "#7201a8"
             ],
             [
              0.3333333333333333,
              "#9c179e"
             ],
             [
              0.4444444444444444,
              "#bd3786"
             ],
             [
              0.5555555555555556,
              "#d8576b"
             ],
             [
              0.6666666666666666,
              "#ed7953"
             ],
             [
              0.7777777777777778,
              "#fb9f3a"
             ],
             [
              0.8888888888888888,
              "#fdca26"
             ],
             [
              1,
              "#f0f921"
             ]
            ],
            "type": "histogram2dcontour"
           }
          ],
          "mesh3d": [
           {
            "colorbar": {
             "outlinewidth": 0,
             "ticks": ""
            },
            "type": "mesh3d"
           }
          ],
          "parcoords": [
           {
            "line": {
             "colorbar": {
              "outlinewidth": 0,
              "ticks": ""
             }
            },
            "type": "parcoords"
           }
          ],
          "pie": [
           {
            "automargin": true,
            "type": "pie"
           }
          ],
          "scatter": [
           {
            "fillpattern": {
             "fillmode": "overlay",
             "size": 10,
             "solidity": 0.2
            },
            "type": "scatter"
           }
          ],
          "scatter3d": [
           {
            "line": {
             "colorbar": {
              "outlinewidth": 0,
              "ticks": ""
             }
            },
            "marker": {
             "colorbar": {
              "outlinewidth": 0,
              "ticks": ""
             }
            },
            "type": "scatter3d"
           }
          ],
          "scattercarpet": [
           {
            "marker": {
             "colorbar": {
              "outlinewidth": 0,
              "ticks": ""
             }
            },
            "type": "scattercarpet"
           }
          ],
          "scattergeo": [
           {
            "marker": {
             "colorbar": {
              "outlinewidth": 0,
              "ticks": ""
             }
            },
            "type": "scattergeo"
           }
          ],
          "scattergl": [
           {
            "marker": {
             "colorbar": {
              "outlinewidth": 0,
              "ticks": ""
             }
            },
            "type": "scattergl"
           }
          ],
          "scattermapbox": [
           {
            "marker": {
             "colorbar": {
              "outlinewidth": 0,
              "ticks": ""
             }
            },
            "type": "scattermapbox"
           }
          ],
          "scatterpolar": [
           {
            "marker": {
             "colorbar": {
              "outlinewidth": 0,
              "ticks": ""
             }
            },
            "type": "scatterpolar"
           }
          ],
          "scatterpolargl": [
           {
            "marker": {
             "colorbar": {
              "outlinewidth": 0,
              "ticks": ""
             }
            },
            "type": "scatterpolargl"
           }
          ],
          "scatterternary": [
           {
            "marker": {
             "colorbar": {
              "outlinewidth": 0,
              "ticks": ""
             }
            },
            "type": "scatterternary"
           }
          ],
          "surface": [
           {
            "colorbar": {
             "outlinewidth": 0,
             "ticks": ""
            },
            "colorscale": [
             [
              0,
              "#0d0887"
             ],
             [
              0.1111111111111111,
              "#46039f"
             ],
             [
              0.2222222222222222,
              "#7201a8"
             ],
             [
              0.3333333333333333,
              "#9c179e"
             ],
             [
              0.4444444444444444,
              "#bd3786"
             ],
             [
              0.5555555555555556,
              "#d8576b"
             ],
             [
              0.6666666666666666,
              "#ed7953"
             ],
             [
              0.7777777777777778,
              "#fb9f3a"
             ],
             [
              0.8888888888888888,
              "#fdca26"
             ],
             [
              1,
              "#f0f921"
             ]
            ],
            "type": "surface"
           }
          ],
          "table": [
           {
            "cells": {
             "fill": {
              "color": "#EBF0F8"
             },
             "line": {
              "color": "white"
             }
            },
            "header": {
             "fill": {
              "color": "#C8D4E3"
             },
             "line": {
              "color": "white"
             }
            },
            "type": "table"
           }
          ]
         },
         "layout": {
          "annotationdefaults": {
           "arrowcolor": "#2a3f5f",
           "arrowhead": 0,
           "arrowwidth": 1
          },
          "autotypenumbers": "strict",
          "coloraxis": {
           "colorbar": {
            "outlinewidth": 0,
            "ticks": ""
           }
          },
          "colorscale": {
           "diverging": [
            [
             0,
             "#8e0152"
            ],
            [
             0.1,
             "#c51b7d"
            ],
            [
             0.2,
             "#de77ae"
            ],
            [
             0.3,
             "#f1b6da"
            ],
            [
             0.4,
             "#fde0ef"
            ],
            [
             0.5,
             "#f7f7f7"
            ],
            [
             0.6,
             "#e6f5d0"
            ],
            [
             0.7,
             "#b8e186"
            ],
            [
             0.8,
             "#7fbc41"
            ],
            [
             0.9,
             "#4d9221"
            ],
            [
             1,
             "#276419"
            ]
           ],
           "sequential": [
            [
             0,
             "#0d0887"
            ],
            [
             0.1111111111111111,
             "#46039f"
            ],
            [
             0.2222222222222222,
             "#7201a8"
            ],
            [
             0.3333333333333333,
             "#9c179e"
            ],
            [
             0.4444444444444444,
             "#bd3786"
            ],
            [
             0.5555555555555556,
             "#d8576b"
            ],
            [
             0.6666666666666666,
             "#ed7953"
            ],
            [
             0.7777777777777778,
             "#fb9f3a"
            ],
            [
             0.8888888888888888,
             "#fdca26"
            ],
            [
             1,
             "#f0f921"
            ]
           ],
           "sequentialminus": [
            [
             0,
             "#0d0887"
            ],
            [
             0.1111111111111111,
             "#46039f"
            ],
            [
             0.2222222222222222,
             "#7201a8"
            ],
            [
             0.3333333333333333,
             "#9c179e"
            ],
            [
             0.4444444444444444,
             "#bd3786"
            ],
            [
             0.5555555555555556,
             "#d8576b"
            ],
            [
             0.6666666666666666,
             "#ed7953"
            ],
            [
             0.7777777777777778,
             "#fb9f3a"
            ],
            [
             0.8888888888888888,
             "#fdca26"
            ],
            [
             1,
             "#f0f921"
            ]
           ]
          },
          "colorway": [
           "#636efa",
           "#EF553B",
           "#00cc96",
           "#ab63fa",
           "#FFA15A",
           "#19d3f3",
           "#FF6692",
           "#B6E880",
           "#FF97FF",
           "#FECB52"
          ],
          "font": {
           "color": "#2a3f5f"
          },
          "geo": {
           "bgcolor": "white",
           "lakecolor": "white",
           "landcolor": "#E5ECF6",
           "showlakes": true,
           "showland": true,
           "subunitcolor": "white"
          },
          "hoverlabel": {
           "align": "left"
          },
          "hovermode": "closest",
          "mapbox": {
           "style": "light"
          },
          "paper_bgcolor": "white",
          "plot_bgcolor": "#E5ECF6",
          "polar": {
           "angularaxis": {
            "gridcolor": "white",
            "linecolor": "white",
            "ticks": ""
           },
           "bgcolor": "#E5ECF6",
           "radialaxis": {
            "gridcolor": "white",
            "linecolor": "white",
            "ticks": ""
           }
          },
          "scene": {
           "xaxis": {
            "backgroundcolor": "#E5ECF6",
            "gridcolor": "white",
            "gridwidth": 2,
            "linecolor": "white",
            "showbackground": true,
            "ticks": "",
            "zerolinecolor": "white"
           },
           "yaxis": {
            "backgroundcolor": "#E5ECF6",
            "gridcolor": "white",
            "gridwidth": 2,
            "linecolor": "white",
            "showbackground": true,
            "ticks": "",
            "zerolinecolor": "white"
           },
           "zaxis": {
            "backgroundcolor": "#E5ECF6",
            "gridcolor": "white",
            "gridwidth": 2,
            "linecolor": "white",
            "showbackground": true,
            "ticks": "",
            "zerolinecolor": "white"
           }
          },
          "shapedefaults": {
           "line": {
            "color": "#2a3f5f"
           }
          },
          "ternary": {
           "aaxis": {
            "gridcolor": "white",
            "linecolor": "white",
            "ticks": ""
           },
           "baxis": {
            "gridcolor": "white",
            "linecolor": "white",
            "ticks": ""
           },
           "bgcolor": "#E5ECF6",
           "caxis": {
            "gridcolor": "white",
            "linecolor": "white",
            "ticks": ""
           }
          },
          "title": {
           "x": 0.05
          },
          "xaxis": {
           "automargin": true,
           "gridcolor": "white",
           "linecolor": "white",
           "ticks": "",
           "title": {
            "standoff": 15
           },
           "zerolinecolor": "white",
           "zerolinewidth": 2
          },
          "yaxis": {
           "automargin": true,
           "gridcolor": "white",
           "linecolor": "white",
           "ticks": "",
           "title": {
            "standoff": 15
           },
           "zerolinecolor": "white",
           "zerolinewidth": 2
          }
         }
        },
        "title": {
         "text": "IPC Growth Over The Years"
        },
        "xaxis": {
         "anchor": "y",
         "domain": [
          0,
          1
         ],
         "title": {
          "text": "year"
         }
        },
        "yaxis": {
         "anchor": "x",
         "domain": [
          0,
          1
         ],
         "title": {
          "text": "count"
         }
        }
       }
      }
     },
     "metadata": {},
     "output_type": "display_data"
    }
   ],
   "source": [
    "food_updated = pd.read_csv(\"data/food_crises_updated.csv\")\n",
    "a = food_updated[food_updated['ipc'].isna() == False]\n",
    "a = a.sort_values('ipc')\n",
    "a['ipc'] = a['ipc'].astype('string')\n",
    "b = a[['year', 'ipc']].value_counts()\n",
    "c = b.to_frame(name='count')\n",
    "d = c.reset_index()\n",
    "fig_bar = px.bar(d, x=\"year\", y=\"count\", color=\"ipc\", barmode='group', title='IPC Growth Over The Years')\n",
    "fig_bar.show()\n"
   ]
  },
  {
   "cell_type": "code",
   "execution_count": 41,
   "metadata": {},
   "outputs": [
    {
     "data": {
      "text/plain": [
       "1"
      ]
     },
     "execution_count": 41,
     "metadata": {},
     "output_type": "execute_result"
    }
   ],
   "source": [
    "food_updated.loc[(food_updated['ipc']==3) & (food_updated['year']==2018)]\n",
    "food_updated.loc[(food_updated['district']=='Abiemnhom') & (food_updated['year']==2009)]"
   ]
  },
  {
   "cell_type": "code",
   "execution_count": 8,
   "metadata": {},
   "outputs": [
    {
     "name": "stderr",
     "output_type": "stream",
     "text": [
      "C:\\Users\\Rafi\\AppData\\Local\\Temp\\ipykernel_26188\\874474025.py:2: SettingWithCopyWarning:\n",
      "\n",
      "\n",
      "A value is trying to be set on a copy of a slice from a DataFrame.\n",
      "Try using .loc[row_indexer,col_indexer] = value instead\n",
      "\n",
      "See the caveats in the documentation: https://pandas.pydata.org/pandas-docs/stable/user_guide/indexing.html#returning-a-view-versus-a-copy\n",
      "\n"
     ]
    },
    {
     "data": {
      "application/vnd.plotly.v1+json": {
       "config": {
        "plotlyServerURL": "https://plot.ly"
       },
       "data": [
        {
         "alignmentgroup": "True",
         "hovertemplate": "ha=0.0<br>administrative_region=%{x}<br>count=%{y}<extra></extra>",
         "legendgroup": "0.0",
         "marker": {
          "color": "#636efa",
          "pattern": {
           "shape": ""
          }
         },
         "name": "0.0",
         "offsetgroup": "0.0",
         "orientation": "v",
         "showlegend": true,
         "textposition": "auto",
         "type": "bar",
         "x": [
          "Greater Upper Nile",
          "Equatoria",
          "Bahr El Ghazal"
         ],
         "xaxis": "x",
         "y": [
          700,
          652,
          558
         ],
         "yaxis": "y"
        },
        {
         "alignmentgroup": "True",
         "hovertemplate": "ha=1.0<br>administrative_region=%{x}<br>count=%{y}<extra></extra>",
         "legendgroup": "1.0",
         "marker": {
          "color": "#EF553B",
          "pattern": {
           "shape": ""
          }
         },
         "name": "1.0",
         "offsetgroup": "1.0",
         "orientation": "v",
         "showlegend": true,
         "textposition": "auto",
         "type": "bar",
         "x": [
          "Greater Upper Nile",
          "Bahr El Ghazal",
          "Equatoria"
         ],
         "xaxis": "x",
         "y": [
          196,
          58,
          20
         ],
         "yaxis": "y"
        }
       ],
       "layout": {
        "barmode": "group",
        "legend": {
         "title": {
          "text": "ha"
         },
         "tracegroupgap": 0
        },
        "template": {
         "data": {
          "bar": [
           {
            "error_x": {
             "color": "#2a3f5f"
            },
            "error_y": {
             "color": "#2a3f5f"
            },
            "marker": {
             "line": {
              "color": "#E5ECF6",
              "width": 0.5
             },
             "pattern": {
              "fillmode": "overlay",
              "size": 10,
              "solidity": 0.2
             }
            },
            "type": "bar"
           }
          ],
          "barpolar": [
           {
            "marker": {
             "line": {
              "color": "#E5ECF6",
              "width": 0.5
             },
             "pattern": {
              "fillmode": "overlay",
              "size": 10,
              "solidity": 0.2
             }
            },
            "type": "barpolar"
           }
          ],
          "carpet": [
           {
            "aaxis": {
             "endlinecolor": "#2a3f5f",
             "gridcolor": "white",
             "linecolor": "white",
             "minorgridcolor": "white",
             "startlinecolor": "#2a3f5f"
            },
            "baxis": {
             "endlinecolor": "#2a3f5f",
             "gridcolor": "white",
             "linecolor": "white",
             "minorgridcolor": "white",
             "startlinecolor": "#2a3f5f"
            },
            "type": "carpet"
           }
          ],
          "choropleth": [
           {
            "colorbar": {
             "outlinewidth": 0,
             "ticks": ""
            },
            "type": "choropleth"
           }
          ],
          "contour": [
           {
            "colorbar": {
             "outlinewidth": 0,
             "ticks": ""
            },
            "colorscale": [
             [
              0,
              "#0d0887"
             ],
             [
              0.1111111111111111,
              "#46039f"
             ],
             [
              0.2222222222222222,
              "#7201a8"
             ],
             [
              0.3333333333333333,
              "#9c179e"
             ],
             [
              0.4444444444444444,
              "#bd3786"
             ],
             [
              0.5555555555555556,
              "#d8576b"
             ],
             [
              0.6666666666666666,
              "#ed7953"
             ],
             [
              0.7777777777777778,
              "#fb9f3a"
             ],
             [
              0.8888888888888888,
              "#fdca26"
             ],
             [
              1,
              "#f0f921"
             ]
            ],
            "type": "contour"
           }
          ],
          "contourcarpet": [
           {
            "colorbar": {
             "outlinewidth": 0,
             "ticks": ""
            },
            "type": "contourcarpet"
           }
          ],
          "heatmap": [
           {
            "colorbar": {
             "outlinewidth": 0,
             "ticks": ""
            },
            "colorscale": [
             [
              0,
              "#0d0887"
             ],
             [
              0.1111111111111111,
              "#46039f"
             ],
             [
              0.2222222222222222,
              "#7201a8"
             ],
             [
              0.3333333333333333,
              "#9c179e"
             ],
             [
              0.4444444444444444,
              "#bd3786"
             ],
             [
              0.5555555555555556,
              "#d8576b"
             ],
             [
              0.6666666666666666,
              "#ed7953"
             ],
             [
              0.7777777777777778,
              "#fb9f3a"
             ],
             [
              0.8888888888888888,
              "#fdca26"
             ],
             [
              1,
              "#f0f921"
             ]
            ],
            "type": "heatmap"
           }
          ],
          "heatmapgl": [
           {
            "colorbar": {
             "outlinewidth": 0,
             "ticks": ""
            },
            "colorscale": [
             [
              0,
              "#0d0887"
             ],
             [
              0.1111111111111111,
              "#46039f"
             ],
             [
              0.2222222222222222,
              "#7201a8"
             ],
             [
              0.3333333333333333,
              "#9c179e"
             ],
             [
              0.4444444444444444,
              "#bd3786"
             ],
             [
              0.5555555555555556,
              "#d8576b"
             ],
             [
              0.6666666666666666,
              "#ed7953"
             ],
             [
              0.7777777777777778,
              "#fb9f3a"
             ],
             [
              0.8888888888888888,
              "#fdca26"
             ],
             [
              1,
              "#f0f921"
             ]
            ],
            "type": "heatmapgl"
           }
          ],
          "histogram": [
           {
            "marker": {
             "pattern": {
              "fillmode": "overlay",
              "size": 10,
              "solidity": 0.2
             }
            },
            "type": "histogram"
           }
          ],
          "histogram2d": [
           {
            "colorbar": {
             "outlinewidth": 0,
             "ticks": ""
            },
            "colorscale": [
             [
              0,
              "#0d0887"
             ],
             [
              0.1111111111111111,
              "#46039f"
             ],
             [
              0.2222222222222222,
              "#7201a8"
             ],
             [
              0.3333333333333333,
              "#9c179e"
             ],
             [
              0.4444444444444444,
              "#bd3786"
             ],
             [
              0.5555555555555556,
              "#d8576b"
             ],
             [
              0.6666666666666666,
              "#ed7953"
             ],
             [
              0.7777777777777778,
              "#fb9f3a"
             ],
             [
              0.8888888888888888,
              "#fdca26"
             ],
             [
              1,
              "#f0f921"
             ]
            ],
            "type": "histogram2d"
           }
          ],
          "histogram2dcontour": [
           {
            "colorbar": {
             "outlinewidth": 0,
             "ticks": ""
            },
            "colorscale": [
             [
              0,
              "#0d0887"
             ],
             [
              0.1111111111111111,
              "#46039f"
             ],
             [
              0.2222222222222222,
              "#7201a8"
             ],
             [
              0.3333333333333333,
              "#9c179e"
             ],
             [
              0.4444444444444444,
              "#bd3786"
             ],
             [
              0.5555555555555556,
              "#d8576b"
             ],
             [
              0.6666666666666666,
              "#ed7953"
             ],
             [
              0.7777777777777778,
              "#fb9f3a"
             ],
             [
              0.8888888888888888,
              "#fdca26"
             ],
             [
              1,
              "#f0f921"
             ]
            ],
            "type": "histogram2dcontour"
           }
          ],
          "mesh3d": [
           {
            "colorbar": {
             "outlinewidth": 0,
             "ticks": ""
            },
            "type": "mesh3d"
           }
          ],
          "parcoords": [
           {
            "line": {
             "colorbar": {
              "outlinewidth": 0,
              "ticks": ""
             }
            },
            "type": "parcoords"
           }
          ],
          "pie": [
           {
            "automargin": true,
            "type": "pie"
           }
          ],
          "scatter": [
           {
            "fillpattern": {
             "fillmode": "overlay",
             "size": 10,
             "solidity": 0.2
            },
            "type": "scatter"
           }
          ],
          "scatter3d": [
           {
            "line": {
             "colorbar": {
              "outlinewidth": 0,
              "ticks": ""
             }
            },
            "marker": {
             "colorbar": {
              "outlinewidth": 0,
              "ticks": ""
             }
            },
            "type": "scatter3d"
           }
          ],
          "scattercarpet": [
           {
            "marker": {
             "colorbar": {
              "outlinewidth": 0,
              "ticks": ""
             }
            },
            "type": "scattercarpet"
           }
          ],
          "scattergeo": [
           {
            "marker": {
             "colorbar": {
              "outlinewidth": 0,
              "ticks": ""
             }
            },
            "type": "scattergeo"
           }
          ],
          "scattergl": [
           {
            "marker": {
             "colorbar": {
              "outlinewidth": 0,
              "ticks": ""
             }
            },
            "type": "scattergl"
           }
          ],
          "scattermapbox": [
           {
            "marker": {
             "colorbar": {
              "outlinewidth": 0,
              "ticks": ""
             }
            },
            "type": "scattermapbox"
           }
          ],
          "scatterpolar": [
           {
            "marker": {
             "colorbar": {
              "outlinewidth": 0,
              "ticks": ""
             }
            },
            "type": "scatterpolar"
           }
          ],
          "scatterpolargl": [
           {
            "marker": {
             "colorbar": {
              "outlinewidth": 0,
              "ticks": ""
             }
            },
            "type": "scatterpolargl"
           }
          ],
          "scatterternary": [
           {
            "marker": {
             "colorbar": {
              "outlinewidth": 0,
              "ticks": ""
             }
            },
            "type": "scatterternary"
           }
          ],
          "surface": [
           {
            "colorbar": {
             "outlinewidth": 0,
             "ticks": ""
            },
            "colorscale": [
             [
              0,
              "#0d0887"
             ],
             [
              0.1111111111111111,
              "#46039f"
             ],
             [
              0.2222222222222222,
              "#7201a8"
             ],
             [
              0.3333333333333333,
              "#9c179e"
             ],
             [
              0.4444444444444444,
              "#bd3786"
             ],
             [
              0.5555555555555556,
              "#d8576b"
             ],
             [
              0.6666666666666666,
              "#ed7953"
             ],
             [
              0.7777777777777778,
              "#fb9f3a"
             ],
             [
              0.8888888888888888,
              "#fdca26"
             ],
             [
              1,
              "#f0f921"
             ]
            ],
            "type": "surface"
           }
          ],
          "table": [
           {
            "cells": {
             "fill": {
              "color": "#EBF0F8"
             },
             "line": {
              "color": "white"
             }
            },
            "header": {
             "fill": {
              "color": "#C8D4E3"
             },
             "line": {
              "color": "white"
             }
            },
            "type": "table"
           }
          ]
         },
         "layout": {
          "annotationdefaults": {
           "arrowcolor": "#2a3f5f",
           "arrowhead": 0,
           "arrowwidth": 1
          },
          "autotypenumbers": "strict",
          "coloraxis": {
           "colorbar": {
            "outlinewidth": 0,
            "ticks": ""
           }
          },
          "colorscale": {
           "diverging": [
            [
             0,
             "#8e0152"
            ],
            [
             0.1,
             "#c51b7d"
            ],
            [
             0.2,
             "#de77ae"
            ],
            [
             0.3,
             "#f1b6da"
            ],
            [
             0.4,
             "#fde0ef"
            ],
            [
             0.5,
             "#f7f7f7"
            ],
            [
             0.6,
             "#e6f5d0"
            ],
            [
             0.7,
             "#b8e186"
            ],
            [
             0.8,
             "#7fbc41"
            ],
            [
             0.9,
             "#4d9221"
            ],
            [
             1,
             "#276419"
            ]
           ],
           "sequential": [
            [
             0,
             "#0d0887"
            ],
            [
             0.1111111111111111,
             "#46039f"
            ],
            [
             0.2222222222222222,
             "#7201a8"
            ],
            [
             0.3333333333333333,
             "#9c179e"
            ],
            [
             0.4444444444444444,
             "#bd3786"
            ],
            [
             0.5555555555555556,
             "#d8576b"
            ],
            [
             0.6666666666666666,
             "#ed7953"
            ],
            [
             0.7777777777777778,
             "#fb9f3a"
            ],
            [
             0.8888888888888888,
             "#fdca26"
            ],
            [
             1,
             "#f0f921"
            ]
           ],
           "sequentialminus": [
            [
             0,
             "#0d0887"
            ],
            [
             0.1111111111111111,
             "#46039f"
            ],
            [
             0.2222222222222222,
             "#7201a8"
            ],
            [
             0.3333333333333333,
             "#9c179e"
            ],
            [
             0.4444444444444444,
             "#bd3786"
            ],
            [
             0.5555555555555556,
             "#d8576b"
            ],
            [
             0.6666666666666666,
             "#ed7953"
            ],
            [
             0.7777777777777778,
             "#fb9f3a"
            ],
            [
             0.8888888888888888,
             "#fdca26"
            ],
            [
             1,
             "#f0f921"
            ]
           ]
          },
          "colorway": [
           "#636efa",
           "#EF553B",
           "#00cc96",
           "#ab63fa",
           "#FFA15A",
           "#19d3f3",
           "#FF6692",
           "#B6E880",
           "#FF97FF",
           "#FECB52"
          ],
          "font": {
           "color": "#2a3f5f"
          },
          "geo": {
           "bgcolor": "white",
           "lakecolor": "white",
           "landcolor": "#E5ECF6",
           "showlakes": true,
           "showland": true,
           "subunitcolor": "white"
          },
          "hoverlabel": {
           "align": "left"
          },
          "hovermode": "closest",
          "mapbox": {
           "style": "light"
          },
          "paper_bgcolor": "white",
          "plot_bgcolor": "#E5ECF6",
          "polar": {
           "angularaxis": {
            "gridcolor": "white",
            "linecolor": "white",
            "ticks": ""
           },
           "bgcolor": "#E5ECF6",
           "radialaxis": {
            "gridcolor": "white",
            "linecolor": "white",
            "ticks": ""
           }
          },
          "scene": {
           "xaxis": {
            "backgroundcolor": "#E5ECF6",
            "gridcolor": "white",
            "gridwidth": 2,
            "linecolor": "white",
            "showbackground": true,
            "ticks": "",
            "zerolinecolor": "white"
           },
           "yaxis": {
            "backgroundcolor": "#E5ECF6",
            "gridcolor": "white",
            "gridwidth": 2,
            "linecolor": "white",
            "showbackground": true,
            "ticks": "",
            "zerolinecolor": "white"
           },
           "zaxis": {
            "backgroundcolor": "#E5ECF6",
            "gridcolor": "white",
            "gridwidth": 2,
            "linecolor": "white",
            "showbackground": true,
            "ticks": "",
            "zerolinecolor": "white"
           }
          },
          "shapedefaults": {
           "line": {
            "color": "#2a3f5f"
           }
          },
          "ternary": {
           "aaxis": {
            "gridcolor": "white",
            "linecolor": "white",
            "ticks": ""
           },
           "baxis": {
            "gridcolor": "white",
            "linecolor": "white",
            "ticks": ""
           },
           "bgcolor": "#E5ECF6",
           "caxis": {
            "gridcolor": "white",
            "linecolor": "white",
            "ticks": ""
           }
          },
          "title": {
           "x": 0.05
          },
          "xaxis": {
           "automargin": true,
           "gridcolor": "white",
           "linecolor": "white",
           "ticks": "",
           "title": {
            "standoff": 15
           },
           "zerolinecolor": "white",
           "zerolinewidth": 2
          },
          "yaxis": {
           "automargin": true,
           "gridcolor": "white",
           "linecolor": "white",
           "ticks": "",
           "title": {
            "standoff": 15
           },
           "zerolinecolor": "white",
           "zerolinewidth": 2
          }
         }
        },
        "title": {
         "text": "Aid Received in Each Region"
        },
        "xaxis": {
         "anchor": "y",
         "domain": [
          0,
          1
         ],
         "title": {
          "text": "administrative_region"
         }
        },
        "yaxis": {
         "anchor": "x",
         "domain": [
          0,
          1
         ],
         "title": {
          "text": "count"
         }
        }
       }
      }
     },
     "metadata": {},
     "output_type": "display_data"
    }
   ],
   "source": [
    "e = food_updated[food_updated['ha'].notnull()]\n",
    "e['ha'] = e['ha'].astype('string')\n",
    "f = e[['administrative_region', 'ha']].value_counts()\n",
    "g = f.to_frame(name='count').reset_index()\n",
    "fig_freq = px.bar(g, x=\"administrative_region\", y=\"count\", color=\"ha\", barmode=\"group\", title='Aid Received in Each Region')\n",
    "fig_freq.show()"
   ]
  },
  {
   "cell_type": "code",
   "execution_count": 9,
   "metadata": {},
   "outputs": [
    {
     "data": {
      "application/vnd.plotly.v1+json": {
       "config": {
        "plotlyServerURL": "https://plot.ly"
       },
       "data": [
        {
         "alignmentgroup": "True",
         "hovertemplate": "administrative_region=Bahr El Ghazal<br>year=%{x}<br>count=%{y}<extra></extra>",
         "legendgroup": "Bahr El Ghazal",
         "marker": {
          "color": "#636efa",
          "pattern": {
           "shape": ""
          }
         },
         "name": "Bahr El Ghazal",
         "offsetgroup": "Bahr El Ghazal",
         "orientation": "v",
         "showlegend": true,
         "textposition": "auto",
         "type": "bar",
         "x": [
          2012,
          2013,
          2015,
          2016,
          2017,
          2018,
          2019,
          2020
         ],
         "xaxis": "x",
         "y": [
          3,
          3,
          1,
          6,
          9,
          23,
          12,
          1
         ],
         "yaxis": "y"
        },
        {
         "alignmentgroup": "True",
         "hovertemplate": "administrative_region=Greater Upper Nile<br>year=%{x}<br>count=%{y}<extra></extra>",
         "legendgroup": "Greater Upper Nile",
         "marker": {
          "color": "#EF553B",
          "pattern": {
           "shape": ""
          }
         },
         "name": "Greater Upper Nile",
         "offsetgroup": "Greater Upper Nile",
         "orientation": "v",
         "showlegend": true,
         "textposition": "auto",
         "type": "bar",
         "x": [
          2012,
          2013,
          2014,
          2015,
          2016,
          2017,
          2018,
          2019,
          2020
         ],
         "xaxis": "x",
         "y": [
          15,
          9,
          10,
          30,
          9,
          31,
          53,
          27,
          12
         ],
         "yaxis": "y"
        },
        {
         "alignmentgroup": "True",
         "hovertemplate": "administrative_region=Equatoria<br>year=%{x}<br>count=%{y}<extra></extra>",
         "legendgroup": "Equatoria",
         "marker": {
          "color": "#00cc96",
          "pattern": {
           "shape": ""
          }
         },
         "name": "Equatoria",
         "offsetgroup": "Equatoria",
         "orientation": "v",
         "showlegend": true,
         "textposition": "auto",
         "type": "bar",
         "x": [
          2013,
          2016,
          2017,
          2018,
          2019
         ],
         "xaxis": "x",
         "y": [
          3,
          1,
          3,
          10,
          3
         ],
         "yaxis": "y"
        }
       ],
       "layout": {
        "barmode": "group",
        "legend": {
         "title": {
          "text": "administrative_region"
         },
         "tracegroupgap": 0
        },
        "template": {
         "data": {
          "bar": [
           {
            "error_x": {
             "color": "#2a3f5f"
            },
            "error_y": {
             "color": "#2a3f5f"
            },
            "marker": {
             "line": {
              "color": "#E5ECF6",
              "width": 0.5
             },
             "pattern": {
              "fillmode": "overlay",
              "size": 10,
              "solidity": 0.2
             }
            },
            "type": "bar"
           }
          ],
          "barpolar": [
           {
            "marker": {
             "line": {
              "color": "#E5ECF6",
              "width": 0.5
             },
             "pattern": {
              "fillmode": "overlay",
              "size": 10,
              "solidity": 0.2
             }
            },
            "type": "barpolar"
           }
          ],
          "carpet": [
           {
            "aaxis": {
             "endlinecolor": "#2a3f5f",
             "gridcolor": "white",
             "linecolor": "white",
             "minorgridcolor": "white",
             "startlinecolor": "#2a3f5f"
            },
            "baxis": {
             "endlinecolor": "#2a3f5f",
             "gridcolor": "white",
             "linecolor": "white",
             "minorgridcolor": "white",
             "startlinecolor": "#2a3f5f"
            },
            "type": "carpet"
           }
          ],
          "choropleth": [
           {
            "colorbar": {
             "outlinewidth": 0,
             "ticks": ""
            },
            "type": "choropleth"
           }
          ],
          "contour": [
           {
            "colorbar": {
             "outlinewidth": 0,
             "ticks": ""
            },
            "colorscale": [
             [
              0,
              "#0d0887"
             ],
             [
              0.1111111111111111,
              "#46039f"
             ],
             [
              0.2222222222222222,
              "#7201a8"
             ],
             [
              0.3333333333333333,
              "#9c179e"
             ],
             [
              0.4444444444444444,
              "#bd3786"
             ],
             [
              0.5555555555555556,
              "#d8576b"
             ],
             [
              0.6666666666666666,
              "#ed7953"
             ],
             [
              0.7777777777777778,
              "#fb9f3a"
             ],
             [
              0.8888888888888888,
              "#fdca26"
             ],
             [
              1,
              "#f0f921"
             ]
            ],
            "type": "contour"
           }
          ],
          "contourcarpet": [
           {
            "colorbar": {
             "outlinewidth": 0,
             "ticks": ""
            },
            "type": "contourcarpet"
           }
          ],
          "heatmap": [
           {
            "colorbar": {
             "outlinewidth": 0,
             "ticks": ""
            },
            "colorscale": [
             [
              0,
              "#0d0887"
             ],
             [
              0.1111111111111111,
              "#46039f"
             ],
             [
              0.2222222222222222,
              "#7201a8"
             ],
             [
              0.3333333333333333,
              "#9c179e"
             ],
             [
              0.4444444444444444,
              "#bd3786"
             ],
             [
              0.5555555555555556,
              "#d8576b"
             ],
             [
              0.6666666666666666,
              "#ed7953"
             ],
             [
              0.7777777777777778,
              "#fb9f3a"
             ],
             [
              0.8888888888888888,
              "#fdca26"
             ],
             [
              1,
              "#f0f921"
             ]
            ],
            "type": "heatmap"
           }
          ],
          "heatmapgl": [
           {
            "colorbar": {
             "outlinewidth": 0,
             "ticks": ""
            },
            "colorscale": [
             [
              0,
              "#0d0887"
             ],
             [
              0.1111111111111111,
              "#46039f"
             ],
             [
              0.2222222222222222,
              "#7201a8"
             ],
             [
              0.3333333333333333,
              "#9c179e"
             ],
             [
              0.4444444444444444,
              "#bd3786"
             ],
             [
              0.5555555555555556,
              "#d8576b"
             ],
             [
              0.6666666666666666,
              "#ed7953"
             ],
             [
              0.7777777777777778,
              "#fb9f3a"
             ],
             [
              0.8888888888888888,
              "#fdca26"
             ],
             [
              1,
              "#f0f921"
             ]
            ],
            "type": "heatmapgl"
           }
          ],
          "histogram": [
           {
            "marker": {
             "pattern": {
              "fillmode": "overlay",
              "size": 10,
              "solidity": 0.2
             }
            },
            "type": "histogram"
           }
          ],
          "histogram2d": [
           {
            "colorbar": {
             "outlinewidth": 0,
             "ticks": ""
            },
            "colorscale": [
             [
              0,
              "#0d0887"
             ],
             [
              0.1111111111111111,
              "#46039f"
             ],
             [
              0.2222222222222222,
              "#7201a8"
             ],
             [
              0.3333333333333333,
              "#9c179e"
             ],
             [
              0.4444444444444444,
              "#bd3786"
             ],
             [
              0.5555555555555556,
              "#d8576b"
             ],
             [
              0.6666666666666666,
              "#ed7953"
             ],
             [
              0.7777777777777778,
              "#fb9f3a"
             ],
             [
              0.8888888888888888,
              "#fdca26"
             ],
             [
              1,
              "#f0f921"
             ]
            ],
            "type": "histogram2d"
           }
          ],
          "histogram2dcontour": [
           {
            "colorbar": {
             "outlinewidth": 0,
             "ticks": ""
            },
            "colorscale": [
             [
              0,
              "#0d0887"
             ],
             [
              0.1111111111111111,
              "#46039f"
             ],
             [
              0.2222222222222222,
              "#7201a8"
             ],
             [
              0.3333333333333333,
              "#9c179e"
             ],
             [
              0.4444444444444444,
              "#bd3786"
             ],
             [
              0.5555555555555556,
              "#d8576b"
             ],
             [
              0.6666666666666666,
              "#ed7953"
             ],
             [
              0.7777777777777778,
              "#fb9f3a"
             ],
             [
              0.8888888888888888,
              "#fdca26"
             ],
             [
              1,
              "#f0f921"
             ]
            ],
            "type": "histogram2dcontour"
           }
          ],
          "mesh3d": [
           {
            "colorbar": {
             "outlinewidth": 0,
             "ticks": ""
            },
            "type": "mesh3d"
           }
          ],
          "parcoords": [
           {
            "line": {
             "colorbar": {
              "outlinewidth": 0,
              "ticks": ""
             }
            },
            "type": "parcoords"
           }
          ],
          "pie": [
           {
            "automargin": true,
            "type": "pie"
           }
          ],
          "scatter": [
           {
            "fillpattern": {
             "fillmode": "overlay",
             "size": 10,
             "solidity": 0.2
            },
            "type": "scatter"
           }
          ],
          "scatter3d": [
           {
            "line": {
             "colorbar": {
              "outlinewidth": 0,
              "ticks": ""
             }
            },
            "marker": {
             "colorbar": {
              "outlinewidth": 0,
              "ticks": ""
             }
            },
            "type": "scatter3d"
           }
          ],
          "scattercarpet": [
           {
            "marker": {
             "colorbar": {
              "outlinewidth": 0,
              "ticks": ""
             }
            },
            "type": "scattercarpet"
           }
          ],
          "scattergeo": [
           {
            "marker": {
             "colorbar": {
              "outlinewidth": 0,
              "ticks": ""
             }
            },
            "type": "scattergeo"
           }
          ],
          "scattergl": [
           {
            "marker": {
             "colorbar": {
              "outlinewidth": 0,
              "ticks": ""
             }
            },
            "type": "scattergl"
           }
          ],
          "scattermapbox": [
           {
            "marker": {
             "colorbar": {
              "outlinewidth": 0,
              "ticks": ""
             }
            },
            "type": "scattermapbox"
           }
          ],
          "scatterpolar": [
           {
            "marker": {
             "colorbar": {
              "outlinewidth": 0,
              "ticks": ""
             }
            },
            "type": "scatterpolar"
           }
          ],
          "scatterpolargl": [
           {
            "marker": {
             "colorbar": {
              "outlinewidth": 0,
              "ticks": ""
             }
            },
            "type": "scatterpolargl"
           }
          ],
          "scatterternary": [
           {
            "marker": {
             "colorbar": {
              "outlinewidth": 0,
              "ticks": ""
             }
            },
            "type": "scatterternary"
           }
          ],
          "surface": [
           {
            "colorbar": {
             "outlinewidth": 0,
             "ticks": ""
            },
            "colorscale": [
             [
              0,
              "#0d0887"
             ],
             [
              0.1111111111111111,
              "#46039f"
             ],
             [
              0.2222222222222222,
              "#7201a8"
             ],
             [
              0.3333333333333333,
              "#9c179e"
             ],
             [
              0.4444444444444444,
              "#bd3786"
             ],
             [
              0.5555555555555556,
              "#d8576b"
             ],
             [
              0.6666666666666666,
              "#ed7953"
             ],
             [
              0.7777777777777778,
              "#fb9f3a"
             ],
             [
              0.8888888888888888,
              "#fdca26"
             ],
             [
              1,
              "#f0f921"
             ]
            ],
            "type": "surface"
           }
          ],
          "table": [
           {
            "cells": {
             "fill": {
              "color": "#EBF0F8"
             },
             "line": {
              "color": "white"
             }
            },
            "header": {
             "fill": {
              "color": "#C8D4E3"
             },
             "line": {
              "color": "white"
             }
            },
            "type": "table"
           }
          ]
         },
         "layout": {
          "annotationdefaults": {
           "arrowcolor": "#2a3f5f",
           "arrowhead": 0,
           "arrowwidth": 1
          },
          "autotypenumbers": "strict",
          "coloraxis": {
           "colorbar": {
            "outlinewidth": 0,
            "ticks": ""
           }
          },
          "colorscale": {
           "diverging": [
            [
             0,
             "#8e0152"
            ],
            [
             0.1,
             "#c51b7d"
            ],
            [
             0.2,
             "#de77ae"
            ],
            [
             0.3,
             "#f1b6da"
            ],
            [
             0.4,
             "#fde0ef"
            ],
            [
             0.5,
             "#f7f7f7"
            ],
            [
             0.6,
             "#e6f5d0"
            ],
            [
             0.7,
             "#b8e186"
            ],
            [
             0.8,
             "#7fbc41"
            ],
            [
             0.9,
             "#4d9221"
            ],
            [
             1,
             "#276419"
            ]
           ],
           "sequential": [
            [
             0,
             "#0d0887"
            ],
            [
             0.1111111111111111,
             "#46039f"
            ],
            [
             0.2222222222222222,
             "#7201a8"
            ],
            [
             0.3333333333333333,
             "#9c179e"
            ],
            [
             0.4444444444444444,
             "#bd3786"
            ],
            [
             0.5555555555555556,
             "#d8576b"
            ],
            [
             0.6666666666666666,
             "#ed7953"
            ],
            [
             0.7777777777777778,
             "#fb9f3a"
            ],
            [
             0.8888888888888888,
             "#fdca26"
            ],
            [
             1,
             "#f0f921"
            ]
           ],
           "sequentialminus": [
            [
             0,
             "#0d0887"
            ],
            [
             0.1111111111111111,
             "#46039f"
            ],
            [
             0.2222222222222222,
             "#7201a8"
            ],
            [
             0.3333333333333333,
             "#9c179e"
            ],
            [
             0.4444444444444444,
             "#bd3786"
            ],
            [
             0.5555555555555556,
             "#d8576b"
            ],
            [
             0.6666666666666666,
             "#ed7953"
            ],
            [
             0.7777777777777778,
             "#fb9f3a"
            ],
            [
             0.8888888888888888,
             "#fdca26"
            ],
            [
             1,
             "#f0f921"
            ]
           ]
          },
          "colorway": [
           "#636efa",
           "#EF553B",
           "#00cc96",
           "#ab63fa",
           "#FFA15A",
           "#19d3f3",
           "#FF6692",
           "#B6E880",
           "#FF97FF",
           "#FECB52"
          ],
          "font": {
           "color": "#2a3f5f"
          },
          "geo": {
           "bgcolor": "white",
           "lakecolor": "white",
           "landcolor": "#E5ECF6",
           "showlakes": true,
           "showland": true,
           "subunitcolor": "white"
          },
          "hoverlabel": {
           "align": "left"
          },
          "hovermode": "closest",
          "mapbox": {
           "style": "light"
          },
          "paper_bgcolor": "white",
          "plot_bgcolor": "#E5ECF6",
          "polar": {
           "angularaxis": {
            "gridcolor": "white",
            "linecolor": "white",
            "ticks": ""
           },
           "bgcolor": "#E5ECF6",
           "radialaxis": {
            "gridcolor": "white",
            "linecolor": "white",
            "ticks": ""
           }
          },
          "scene": {
           "xaxis": {
            "backgroundcolor": "#E5ECF6",
            "gridcolor": "white",
            "gridwidth": 2,
            "linecolor": "white",
            "showbackground": true,
            "ticks": "",
            "zerolinecolor": "white"
           },
           "yaxis": {
            "backgroundcolor": "#E5ECF6",
            "gridcolor": "white",
            "gridwidth": 2,
            "linecolor": "white",
            "showbackground": true,
            "ticks": "",
            "zerolinecolor": "white"
           },
           "zaxis": {
            "backgroundcolor": "#E5ECF6",
            "gridcolor": "white",
            "gridwidth": 2,
            "linecolor": "white",
            "showbackground": true,
            "ticks": "",
            "zerolinecolor": "white"
           }
          },
          "shapedefaults": {
           "line": {
            "color": "#2a3f5f"
           }
          },
          "ternary": {
           "aaxis": {
            "gridcolor": "white",
            "linecolor": "white",
            "ticks": ""
           },
           "baxis": {
            "gridcolor": "white",
            "linecolor": "white",
            "ticks": ""
           },
           "bgcolor": "#E5ECF6",
           "caxis": {
            "gridcolor": "white",
            "linecolor": "white",
            "ticks": ""
           }
          },
          "title": {
           "x": 0.05
          },
          "xaxis": {
           "automargin": true,
           "gridcolor": "white",
           "linecolor": "white",
           "ticks": "",
           "title": {
            "standoff": 15
           },
           "zerolinecolor": "white",
           "zerolinewidth": 2
          },
          "yaxis": {
           "automargin": true,
           "gridcolor": "white",
           "linecolor": "white",
           "ticks": "",
           "title": {
            "standoff": 15
           },
           "zerolinecolor": "white",
           "zerolinewidth": 2
          }
         }
        },
        "title": {
         "text": "Comparison of Aid Received Per Region"
        },
        "xaxis": {
         "anchor": "y",
         "domain": [
          0,
          1
         ],
         "title": {
          "text": "year"
         }
        },
        "yaxis": {
         "anchor": "x",
         "domain": [
          0,
          1
         ],
         "title": {
          "text": "count"
         }
        }
       }
      }
     },
     "metadata": {},
     "output_type": "display_data"
    }
   ],
   "source": [
    "received_aids = e[e['ha']==\"1.0\"]\n",
    "occurence = received_aids[['year','administrative_region', 'ha']].value_counts()\n",
    "occurence = occurence.to_frame(name='count').reset_index().sort_values(by='year')\n",
    "fig_aid = px.bar(occurence, color=\"administrative_region\", y=\"count\", x=\"year\", barmode=\"group\", title='Comparison of Aid Received Per Region')\n",
    "fig_aid.show()"
   ]
  },
  {
   "cell_type": "code",
   "execution_count": 10,
   "metadata": {},
   "outputs": [
    {
     "data": {
      "application/vnd.plotly.v1+json": {
       "config": {
        "plotlyServerURL": "https://plot.ly"
       },
       "data": [
        {
         "hovertemplate": "ha=1.0<br>year=%{x}<br>count=%{y}<extra></extra>",
         "legendgroup": "1.0",
         "line": {
          "color": "#636efa",
          "dash": "solid"
         },
         "marker": {
          "symbol": "circle"
         },
         "mode": "lines",
         "name": "1.0",
         "orientation": "v",
         "showlegend": true,
         "type": "scatter",
         "x": [
          2012,
          2013,
          2014,
          2015,
          2016,
          2017,
          2018,
          2019,
          2020
         ],
         "xaxis": "x",
         "y": [
          18,
          15,
          10,
          31,
          16,
          43,
          86,
          42,
          13
         ],
         "yaxis": "y"
        },
        {
         "hovertemplate": "ha=0.0<br>year=%{x}<br>count=%{y}<extra></extra>",
         "legendgroup": "0.0",
         "line": {
          "color": "#EF553B",
          "dash": "solid"
         },
         "marker": {
          "symbol": "circle"
         },
         "mode": "lines",
         "name": "0.0",
         "orientation": "v",
         "showlegend": true,
         "type": "scatter",
         "x": [
          2012,
          2013,
          2014,
          2015,
          2016,
          2017,
          2018,
          2019,
          2020
         ],
         "xaxis": "x",
         "y": [
          216,
          297,
          302,
          281,
          218,
          191,
          148,
          192,
          65
         ],
         "yaxis": "y"
        }
       ],
       "layout": {
        "legend": {
         "title": {
          "text": "ha"
         },
         "tracegroupgap": 0
        },
        "template": {
         "data": {
          "bar": [
           {
            "error_x": {
             "color": "#2a3f5f"
            },
            "error_y": {
             "color": "#2a3f5f"
            },
            "marker": {
             "line": {
              "color": "#E5ECF6",
              "width": 0.5
             },
             "pattern": {
              "fillmode": "overlay",
              "size": 10,
              "solidity": 0.2
             }
            },
            "type": "bar"
           }
          ],
          "barpolar": [
           {
            "marker": {
             "line": {
              "color": "#E5ECF6",
              "width": 0.5
             },
             "pattern": {
              "fillmode": "overlay",
              "size": 10,
              "solidity": 0.2
             }
            },
            "type": "barpolar"
           }
          ],
          "carpet": [
           {
            "aaxis": {
             "endlinecolor": "#2a3f5f",
             "gridcolor": "white",
             "linecolor": "white",
             "minorgridcolor": "white",
             "startlinecolor": "#2a3f5f"
            },
            "baxis": {
             "endlinecolor": "#2a3f5f",
             "gridcolor": "white",
             "linecolor": "white",
             "minorgridcolor": "white",
             "startlinecolor": "#2a3f5f"
            },
            "type": "carpet"
           }
          ],
          "choropleth": [
           {
            "colorbar": {
             "outlinewidth": 0,
             "ticks": ""
            },
            "type": "choropleth"
           }
          ],
          "contour": [
           {
            "colorbar": {
             "outlinewidth": 0,
             "ticks": ""
            },
            "colorscale": [
             [
              0,
              "#0d0887"
             ],
             [
              0.1111111111111111,
              "#46039f"
             ],
             [
              0.2222222222222222,
              "#7201a8"
             ],
             [
              0.3333333333333333,
              "#9c179e"
             ],
             [
              0.4444444444444444,
              "#bd3786"
             ],
             [
              0.5555555555555556,
              "#d8576b"
             ],
             [
              0.6666666666666666,
              "#ed7953"
             ],
             [
              0.7777777777777778,
              "#fb9f3a"
             ],
             [
              0.8888888888888888,
              "#fdca26"
             ],
             [
              1,
              "#f0f921"
             ]
            ],
            "type": "contour"
           }
          ],
          "contourcarpet": [
           {
            "colorbar": {
             "outlinewidth": 0,
             "ticks": ""
            },
            "type": "contourcarpet"
           }
          ],
          "heatmap": [
           {
            "colorbar": {
             "outlinewidth": 0,
             "ticks": ""
            },
            "colorscale": [
             [
              0,
              "#0d0887"
             ],
             [
              0.1111111111111111,
              "#46039f"
             ],
             [
              0.2222222222222222,
              "#7201a8"
             ],
             [
              0.3333333333333333,
              "#9c179e"
             ],
             [
              0.4444444444444444,
              "#bd3786"
             ],
             [
              0.5555555555555556,
              "#d8576b"
             ],
             [
              0.6666666666666666,
              "#ed7953"
             ],
             [
              0.7777777777777778,
              "#fb9f3a"
             ],
             [
              0.8888888888888888,
              "#fdca26"
             ],
             [
              1,
              "#f0f921"
             ]
            ],
            "type": "heatmap"
           }
          ],
          "heatmapgl": [
           {
            "colorbar": {
             "outlinewidth": 0,
             "ticks": ""
            },
            "colorscale": [
             [
              0,
              "#0d0887"
             ],
             [
              0.1111111111111111,
              "#46039f"
             ],
             [
              0.2222222222222222,
              "#7201a8"
             ],
             [
              0.3333333333333333,
              "#9c179e"
             ],
             [
              0.4444444444444444,
              "#bd3786"
             ],
             [
              0.5555555555555556,
              "#d8576b"
             ],
             [
              0.6666666666666666,
              "#ed7953"
             ],
             [
              0.7777777777777778,
              "#fb9f3a"
             ],
             [
              0.8888888888888888,
              "#fdca26"
             ],
             [
              1,
              "#f0f921"
             ]
            ],
            "type": "heatmapgl"
           }
          ],
          "histogram": [
           {
            "marker": {
             "pattern": {
              "fillmode": "overlay",
              "size": 10,
              "solidity": 0.2
             }
            },
            "type": "histogram"
           }
          ],
          "histogram2d": [
           {
            "colorbar": {
             "outlinewidth": 0,
             "ticks": ""
            },
            "colorscale": [
             [
              0,
              "#0d0887"
             ],
             [
              0.1111111111111111,
              "#46039f"
             ],
             [
              0.2222222222222222,
              "#7201a8"
             ],
             [
              0.3333333333333333,
              "#9c179e"
             ],
             [
              0.4444444444444444,
              "#bd3786"
             ],
             [
              0.5555555555555556,
              "#d8576b"
             ],
             [
              0.6666666666666666,
              "#ed7953"
             ],
             [
              0.7777777777777778,
              "#fb9f3a"
             ],
             [
              0.8888888888888888,
              "#fdca26"
             ],
             [
              1,
              "#f0f921"
             ]
            ],
            "type": "histogram2d"
           }
          ],
          "histogram2dcontour": [
           {
            "colorbar": {
             "outlinewidth": 0,
             "ticks": ""
            },
            "colorscale": [
             [
              0,
              "#0d0887"
             ],
             [
              0.1111111111111111,
              "#46039f"
             ],
             [
              0.2222222222222222,
              "#7201a8"
             ],
             [
              0.3333333333333333,
              "#9c179e"
             ],
             [
              0.4444444444444444,
              "#bd3786"
             ],
             [
              0.5555555555555556,
              "#d8576b"
             ],
             [
              0.6666666666666666,
              "#ed7953"
             ],
             [
              0.7777777777777778,
              "#fb9f3a"
             ],
             [
              0.8888888888888888,
              "#fdca26"
             ],
             [
              1,
              "#f0f921"
             ]
            ],
            "type": "histogram2dcontour"
           }
          ],
          "mesh3d": [
           {
            "colorbar": {
             "outlinewidth": 0,
             "ticks": ""
            },
            "type": "mesh3d"
           }
          ],
          "parcoords": [
           {
            "line": {
             "colorbar": {
              "outlinewidth": 0,
              "ticks": ""
             }
            },
            "type": "parcoords"
           }
          ],
          "pie": [
           {
            "automargin": true,
            "type": "pie"
           }
          ],
          "scatter": [
           {
            "fillpattern": {
             "fillmode": "overlay",
             "size": 10,
             "solidity": 0.2
            },
            "type": "scatter"
           }
          ],
          "scatter3d": [
           {
            "line": {
             "colorbar": {
              "outlinewidth": 0,
              "ticks": ""
             }
            },
            "marker": {
             "colorbar": {
              "outlinewidth": 0,
              "ticks": ""
             }
            },
            "type": "scatter3d"
           }
          ],
          "scattercarpet": [
           {
            "marker": {
             "colorbar": {
              "outlinewidth": 0,
              "ticks": ""
             }
            },
            "type": "scattercarpet"
           }
          ],
          "scattergeo": [
           {
            "marker": {
             "colorbar": {
              "outlinewidth": 0,
              "ticks": ""
             }
            },
            "type": "scattergeo"
           }
          ],
          "scattergl": [
           {
            "marker": {
             "colorbar": {
              "outlinewidth": 0,
              "ticks": ""
             }
            },
            "type": "scattergl"
           }
          ],
          "scattermapbox": [
           {
            "marker": {
             "colorbar": {
              "outlinewidth": 0,
              "ticks": ""
             }
            },
            "type": "scattermapbox"
           }
          ],
          "scatterpolar": [
           {
            "marker": {
             "colorbar": {
              "outlinewidth": 0,
              "ticks": ""
             }
            },
            "type": "scatterpolar"
           }
          ],
          "scatterpolargl": [
           {
            "marker": {
             "colorbar": {
              "outlinewidth": 0,
              "ticks": ""
             }
            },
            "type": "scatterpolargl"
           }
          ],
          "scatterternary": [
           {
            "marker": {
             "colorbar": {
              "outlinewidth": 0,
              "ticks": ""
             }
            },
            "type": "scatterternary"
           }
          ],
          "surface": [
           {
            "colorbar": {
             "outlinewidth": 0,
             "ticks": ""
            },
            "colorscale": [
             [
              0,
              "#0d0887"
             ],
             [
              0.1111111111111111,
              "#46039f"
             ],
             [
              0.2222222222222222,
              "#7201a8"
             ],
             [
              0.3333333333333333,
              "#9c179e"
             ],
             [
              0.4444444444444444,
              "#bd3786"
             ],
             [
              0.5555555555555556,
              "#d8576b"
             ],
             [
              0.6666666666666666,
              "#ed7953"
             ],
             [
              0.7777777777777778,
              "#fb9f3a"
             ],
             [
              0.8888888888888888,
              "#fdca26"
             ],
             [
              1,
              "#f0f921"
             ]
            ],
            "type": "surface"
           }
          ],
          "table": [
           {
            "cells": {
             "fill": {
              "color": "#EBF0F8"
             },
             "line": {
              "color": "white"
             }
            },
            "header": {
             "fill": {
              "color": "#C8D4E3"
             },
             "line": {
              "color": "white"
             }
            },
            "type": "table"
           }
          ]
         },
         "layout": {
          "annotationdefaults": {
           "arrowcolor": "#2a3f5f",
           "arrowhead": 0,
           "arrowwidth": 1
          },
          "autotypenumbers": "strict",
          "coloraxis": {
           "colorbar": {
            "outlinewidth": 0,
            "ticks": ""
           }
          },
          "colorscale": {
           "diverging": [
            [
             0,
             "#8e0152"
            ],
            [
             0.1,
             "#c51b7d"
            ],
            [
             0.2,
             "#de77ae"
            ],
            [
             0.3,
             "#f1b6da"
            ],
            [
             0.4,
             "#fde0ef"
            ],
            [
             0.5,
             "#f7f7f7"
            ],
            [
             0.6,
             "#e6f5d0"
            ],
            [
             0.7,
             "#b8e186"
            ],
            [
             0.8,
             "#7fbc41"
            ],
            [
             0.9,
             "#4d9221"
            ],
            [
             1,
             "#276419"
            ]
           ],
           "sequential": [
            [
             0,
             "#0d0887"
            ],
            [
             0.1111111111111111,
             "#46039f"
            ],
            [
             0.2222222222222222,
             "#7201a8"
            ],
            [
             0.3333333333333333,
             "#9c179e"
            ],
            [
             0.4444444444444444,
             "#bd3786"
            ],
            [
             0.5555555555555556,
             "#d8576b"
            ],
            [
             0.6666666666666666,
             "#ed7953"
            ],
            [
             0.7777777777777778,
             "#fb9f3a"
            ],
            [
             0.8888888888888888,
             "#fdca26"
            ],
            [
             1,
             "#f0f921"
            ]
           ],
           "sequentialminus": [
            [
             0,
             "#0d0887"
            ],
            [
             0.1111111111111111,
             "#46039f"
            ],
            [
             0.2222222222222222,
             "#7201a8"
            ],
            [
             0.3333333333333333,
             "#9c179e"
            ],
            [
             0.4444444444444444,
             "#bd3786"
            ],
            [
             0.5555555555555556,
             "#d8576b"
            ],
            [
             0.6666666666666666,
             "#ed7953"
            ],
            [
             0.7777777777777778,
             "#fb9f3a"
            ],
            [
             0.8888888888888888,
             "#fdca26"
            ],
            [
             1,
             "#f0f921"
            ]
           ]
          },
          "colorway": [
           "#636efa",
           "#EF553B",
           "#00cc96",
           "#ab63fa",
           "#FFA15A",
           "#19d3f3",
           "#FF6692",
           "#B6E880",
           "#FF97FF",
           "#FECB52"
          ],
          "font": {
           "color": "#2a3f5f"
          },
          "geo": {
           "bgcolor": "white",
           "lakecolor": "white",
           "landcolor": "#E5ECF6",
           "showlakes": true,
           "showland": true,
           "subunitcolor": "white"
          },
          "hoverlabel": {
           "align": "left"
          },
          "hovermode": "closest",
          "mapbox": {
           "style": "light"
          },
          "paper_bgcolor": "white",
          "plot_bgcolor": "#E5ECF6",
          "polar": {
           "angularaxis": {
            "gridcolor": "white",
            "linecolor": "white",
            "ticks": ""
           },
           "bgcolor": "#E5ECF6",
           "radialaxis": {
            "gridcolor": "white",
            "linecolor": "white",
            "ticks": ""
           }
          },
          "scene": {
           "xaxis": {
            "backgroundcolor": "#E5ECF6",
            "gridcolor": "white",
            "gridwidth": 2,
            "linecolor": "white",
            "showbackground": true,
            "ticks": "",
            "zerolinecolor": "white"
           },
           "yaxis": {
            "backgroundcolor": "#E5ECF6",
            "gridcolor": "white",
            "gridwidth": 2,
            "linecolor": "white",
            "showbackground": true,
            "ticks": "",
            "zerolinecolor": "white"
           },
           "zaxis": {
            "backgroundcolor": "#E5ECF6",
            "gridcolor": "white",
            "gridwidth": 2,
            "linecolor": "white",
            "showbackground": true,
            "ticks": "",
            "zerolinecolor": "white"
           }
          },
          "shapedefaults": {
           "line": {
            "color": "#2a3f5f"
           }
          },
          "ternary": {
           "aaxis": {
            "gridcolor": "white",
            "linecolor": "white",
            "ticks": ""
           },
           "baxis": {
            "gridcolor": "white",
            "linecolor": "white",
            "ticks": ""
           },
           "bgcolor": "#E5ECF6",
           "caxis": {
            "gridcolor": "white",
            "linecolor": "white",
            "ticks": ""
           }
          },
          "title": {
           "x": 0.05
          },
          "xaxis": {
           "automargin": true,
           "gridcolor": "white",
           "linecolor": "white",
           "ticks": "",
           "title": {
            "standoff": 15
           },
           "zerolinecolor": "white",
           "zerolinewidth": 2
          },
          "yaxis": {
           "automargin": true,
           "gridcolor": "white",
           "linecolor": "white",
           "ticks": "",
           "title": {
            "standoff": 15
           },
           "zerolinecolor": "white",
           "zerolinewidth": 2
          }
         }
        },
        "title": {
         "text": "Trend of Aid Received"
        },
        "xaxis": {
         "anchor": "y",
         "domain": [
          0,
          1
         ],
         "title": {
          "text": "year"
         }
        },
        "yaxis": {
         "anchor": "x",
         "domain": [
          0,
          1
         ],
         "title": {
          "text": "count"
         }
        }
       }
      }
     },
     "metadata": {},
     "output_type": "display_data"
    }
   ],
   "source": [
    "\n",
    "h = e[['year', 'ha']].value_counts()\n",
    "i = h.to_frame(name='count').reset_index().sort_values(by='year')\n",
    "trend_aid = px.line(i, x='year', y='count', color='ha', title=\"Trend of Aid Received\")\n",
    "trend_aid.show()"
   ]
  },
  {
   "cell_type": "code",
   "execution_count": 11,
   "metadata": {},
   "outputs": [
    {
     "data": {
      "application/vnd.plotly.v1+json": {
       "config": {
        "plotlyServerURL": "https://plot.ly"
       },
       "data": [
        {
         "marker": {
          "color": "#00CC96"
         },
         "name": "3.0",
         "type": "bar",
         "x": [
          2019,
          2018,
          2017,
          2016,
          2015,
          2014,
          2012,
          2020,
          2011,
          2013,
          2009,
          2010
         ],
         "y": [
          164,
          163,
          141,
          90,
          66,
          60,
          59,
          55,
          38,
          22,
          18,
          3
         ]
        },
        {
         "marker": {
          "color": "#636EFA"
         },
         "name": "1.0",
         "type": "bar",
         "x": [
          2010,
          2011,
          2013,
          2012,
          2014,
          2009,
          2015,
          2016
         ],
         "y": [
          161,
          159,
          150,
          136,
          100,
          80,
          73,
          11
         ]
        },
        {
         "marker": {
          "color": "#EF553B"
         },
         "name": "2.0",
         "type": "bar",
         "x": [
          2015,
          2010,
          2013,
          2014,
          2012,
          2011,
          2016,
          2017,
          2009,
          2018,
          2019,
          2020
         ],
         "y": [
          154,
          146,
          140,
          140,
          117,
          115,
          114,
          57,
          56,
          38,
          25,
          6
         ]
        },
        {
         "marker": {
          "color": "#AB63FA"
         },
         "name": "4.0",
         "type": "bar",
         "x": [
          2019,
          2017,
          2018,
          2015,
          2016,
          2020,
          2014,
          2009,
          2010
         ],
         "y": [
          45,
          35,
          33,
          19,
          19,
          17,
          12,
          2,
          2
         ]
        },
        {
         "marker": {
          "color": "#FFA15A"
         },
         "name": "5.0",
         "type": "bar",
         "x": [
          2017
         ],
         "y": [
          1
         ]
        },
        {
         "marker": {
          "color": "#FF6692"
         },
         "name": "1.0",
         "type": "scatter",
         "x": [
          2012,
          2013,
          2014,
          2015,
          2016,
          2017,
          2018,
          2019,
          2020
         ],
         "y": [
          18,
          15,
          10,
          31,
          16,
          43,
          86,
          42,
          13
         ]
        },
        {
         "marker": {
          "color": "#19D3F3"
         },
         "name": "0.0",
         "type": "scatter",
         "x": [
          2012,
          2013,
          2014,
          2015,
          2016,
          2017,
          2018,
          2019,
          2020
         ],
         "y": [
          216,
          297,
          302,
          281,
          218,
          191,
          148,
          192,
          65
         ]
        }
       ],
       "layout": {
        "template": {
         "data": {
          "bar": [
           {
            "error_x": {
             "color": "#2a3f5f"
            },
            "error_y": {
             "color": "#2a3f5f"
            },
            "marker": {
             "line": {
              "color": "#E5ECF6",
              "width": 0.5
             },
             "pattern": {
              "fillmode": "overlay",
              "size": 10,
              "solidity": 0.2
             }
            },
            "type": "bar"
           }
          ],
          "barpolar": [
           {
            "marker": {
             "line": {
              "color": "#E5ECF6",
              "width": 0.5
             },
             "pattern": {
              "fillmode": "overlay",
              "size": 10,
              "solidity": 0.2
             }
            },
            "type": "barpolar"
           }
          ],
          "carpet": [
           {
            "aaxis": {
             "endlinecolor": "#2a3f5f",
             "gridcolor": "white",
             "linecolor": "white",
             "minorgridcolor": "white",
             "startlinecolor": "#2a3f5f"
            },
            "baxis": {
             "endlinecolor": "#2a3f5f",
             "gridcolor": "white",
             "linecolor": "white",
             "minorgridcolor": "white",
             "startlinecolor": "#2a3f5f"
            },
            "type": "carpet"
           }
          ],
          "choropleth": [
           {
            "colorbar": {
             "outlinewidth": 0,
             "ticks": ""
            },
            "type": "choropleth"
           }
          ],
          "contour": [
           {
            "colorbar": {
             "outlinewidth": 0,
             "ticks": ""
            },
            "colorscale": [
             [
              0,
              "#0d0887"
             ],
             [
              0.1111111111111111,
              "#46039f"
             ],
             [
              0.2222222222222222,
              "#7201a8"
             ],
             [
              0.3333333333333333,
              "#9c179e"
             ],
             [
              0.4444444444444444,
              "#bd3786"
             ],
             [
              0.5555555555555556,
              "#d8576b"
             ],
             [
              0.6666666666666666,
              "#ed7953"
             ],
             [
              0.7777777777777778,
              "#fb9f3a"
             ],
             [
              0.8888888888888888,
              "#fdca26"
             ],
             [
              1,
              "#f0f921"
             ]
            ],
            "type": "contour"
           }
          ],
          "contourcarpet": [
           {
            "colorbar": {
             "outlinewidth": 0,
             "ticks": ""
            },
            "type": "contourcarpet"
           }
          ],
          "heatmap": [
           {
            "colorbar": {
             "outlinewidth": 0,
             "ticks": ""
            },
            "colorscale": [
             [
              0,
              "#0d0887"
             ],
             [
              0.1111111111111111,
              "#46039f"
             ],
             [
              0.2222222222222222,
              "#7201a8"
             ],
             [
              0.3333333333333333,
              "#9c179e"
             ],
             [
              0.4444444444444444,
              "#bd3786"
             ],
             [
              0.5555555555555556,
              "#d8576b"
             ],
             [
              0.6666666666666666,
              "#ed7953"
             ],
             [
              0.7777777777777778,
              "#fb9f3a"
             ],
             [
              0.8888888888888888,
              "#fdca26"
             ],
             [
              1,
              "#f0f921"
             ]
            ],
            "type": "heatmap"
           }
          ],
          "heatmapgl": [
           {
            "colorbar": {
             "outlinewidth": 0,
             "ticks": ""
            },
            "colorscale": [
             [
              0,
              "#0d0887"
             ],
             [
              0.1111111111111111,
              "#46039f"
             ],
             [
              0.2222222222222222,
              "#7201a8"
             ],
             [
              0.3333333333333333,
              "#9c179e"
             ],
             [
              0.4444444444444444,
              "#bd3786"
             ],
             [
              0.5555555555555556,
              "#d8576b"
             ],
             [
              0.6666666666666666,
              "#ed7953"
             ],
             [
              0.7777777777777778,
              "#fb9f3a"
             ],
             [
              0.8888888888888888,
              "#fdca26"
             ],
             [
              1,
              "#f0f921"
             ]
            ],
            "type": "heatmapgl"
           }
          ],
          "histogram": [
           {
            "marker": {
             "pattern": {
              "fillmode": "overlay",
              "size": 10,
              "solidity": 0.2
             }
            },
            "type": "histogram"
           }
          ],
          "histogram2d": [
           {
            "colorbar": {
             "outlinewidth": 0,
             "ticks": ""
            },
            "colorscale": [
             [
              0,
              "#0d0887"
             ],
             [
              0.1111111111111111,
              "#46039f"
             ],
             [
              0.2222222222222222,
              "#7201a8"
             ],
             [
              0.3333333333333333,
              "#9c179e"
             ],
             [
              0.4444444444444444,
              "#bd3786"
             ],
             [
              0.5555555555555556,
              "#d8576b"
             ],
             [
              0.6666666666666666,
              "#ed7953"
             ],
             [
              0.7777777777777778,
              "#fb9f3a"
             ],
             [
              0.8888888888888888,
              "#fdca26"
             ],
             [
              1,
              "#f0f921"
             ]
            ],
            "type": "histogram2d"
           }
          ],
          "histogram2dcontour": [
           {
            "colorbar": {
             "outlinewidth": 0,
             "ticks": ""
            },
            "colorscale": [
             [
              0,
              "#0d0887"
             ],
             [
              0.1111111111111111,
              "#46039f"
             ],
             [
              0.2222222222222222,
              "#7201a8"
             ],
             [
              0.3333333333333333,
              "#9c179e"
             ],
             [
              0.4444444444444444,
              "#bd3786"
             ],
             [
              0.5555555555555556,
              "#d8576b"
             ],
             [
              0.6666666666666666,
              "#ed7953"
             ],
             [
              0.7777777777777778,
              "#fb9f3a"
             ],
             [
              0.8888888888888888,
              "#fdca26"
             ],
             [
              1,
              "#f0f921"
             ]
            ],
            "type": "histogram2dcontour"
           }
          ],
          "mesh3d": [
           {
            "colorbar": {
             "outlinewidth": 0,
             "ticks": ""
            },
            "type": "mesh3d"
           }
          ],
          "parcoords": [
           {
            "line": {
             "colorbar": {
              "outlinewidth": 0,
              "ticks": ""
             }
            },
            "type": "parcoords"
           }
          ],
          "pie": [
           {
            "automargin": true,
            "type": "pie"
           }
          ],
          "scatter": [
           {
            "fillpattern": {
             "fillmode": "overlay",
             "size": 10,
             "solidity": 0.2
            },
            "type": "scatter"
           }
          ],
          "scatter3d": [
           {
            "line": {
             "colorbar": {
              "outlinewidth": 0,
              "ticks": ""
             }
            },
            "marker": {
             "colorbar": {
              "outlinewidth": 0,
              "ticks": ""
             }
            },
            "type": "scatter3d"
           }
          ],
          "scattercarpet": [
           {
            "marker": {
             "colorbar": {
              "outlinewidth": 0,
              "ticks": ""
             }
            },
            "type": "scattercarpet"
           }
          ],
          "scattergeo": [
           {
            "marker": {
             "colorbar": {
              "outlinewidth": 0,
              "ticks": ""
             }
            },
            "type": "scattergeo"
           }
          ],
          "scattergl": [
           {
            "marker": {
             "colorbar": {
              "outlinewidth": 0,
              "ticks": ""
             }
            },
            "type": "scattergl"
           }
          ],
          "scattermapbox": [
           {
            "marker": {
             "colorbar": {
              "outlinewidth": 0,
              "ticks": ""
             }
            },
            "type": "scattermapbox"
           }
          ],
          "scatterpolar": [
           {
            "marker": {
             "colorbar": {
              "outlinewidth": 0,
              "ticks": ""
             }
            },
            "type": "scatterpolar"
           }
          ],
          "scatterpolargl": [
           {
            "marker": {
             "colorbar": {
              "outlinewidth": 0,
              "ticks": ""
             }
            },
            "type": "scatterpolargl"
           }
          ],
          "scatterternary": [
           {
            "marker": {
             "colorbar": {
              "outlinewidth": 0,
              "ticks": ""
             }
            },
            "type": "scatterternary"
           }
          ],
          "surface": [
           {
            "colorbar": {
             "outlinewidth": 0,
             "ticks": ""
            },
            "colorscale": [
             [
              0,
              "#0d0887"
             ],
             [
              0.1111111111111111,
              "#46039f"
             ],
             [
              0.2222222222222222,
              "#7201a8"
             ],
             [
              0.3333333333333333,
              "#9c179e"
             ],
             [
              0.4444444444444444,
              "#bd3786"
             ],
             [
              0.5555555555555556,
              "#d8576b"
             ],
             [
              0.6666666666666666,
              "#ed7953"
             ],
             [
              0.7777777777777778,
              "#fb9f3a"
             ],
             [
              0.8888888888888888,
              "#fdca26"
             ],
             [
              1,
              "#f0f921"
             ]
            ],
            "type": "surface"
           }
          ],
          "table": [
           {
            "cells": {
             "fill": {
              "color": "#EBF0F8"
             },
             "line": {
              "color": "white"
             }
            },
            "header": {
             "fill": {
              "color": "#C8D4E3"
             },
             "line": {
              "color": "white"
             }
            },
            "type": "table"
           }
          ]
         },
         "layout": {
          "annotationdefaults": {
           "arrowcolor": "#2a3f5f",
           "arrowhead": 0,
           "arrowwidth": 1
          },
          "autotypenumbers": "strict",
          "coloraxis": {
           "colorbar": {
            "outlinewidth": 0,
            "ticks": ""
           }
          },
          "colorscale": {
           "diverging": [
            [
             0,
             "#8e0152"
            ],
            [
             0.1,
             "#c51b7d"
            ],
            [
             0.2,
             "#de77ae"
            ],
            [
             0.3,
             "#f1b6da"
            ],
            [
             0.4,
             "#fde0ef"
            ],
            [
             0.5,
             "#f7f7f7"
            ],
            [
             0.6,
             "#e6f5d0"
            ],
            [
             0.7,
             "#b8e186"
            ],
            [
             0.8,
             "#7fbc41"
            ],
            [
             0.9,
             "#4d9221"
            ],
            [
             1,
             "#276419"
            ]
           ],
           "sequential": [
            [
             0,
             "#0d0887"
            ],
            [
             0.1111111111111111,
             "#46039f"
            ],
            [
             0.2222222222222222,
             "#7201a8"
            ],
            [
             0.3333333333333333,
             "#9c179e"
            ],
            [
             0.4444444444444444,
             "#bd3786"
            ],
            [
             0.5555555555555556,
             "#d8576b"
            ],
            [
             0.6666666666666666,
             "#ed7953"
            ],
            [
             0.7777777777777778,
             "#fb9f3a"
            ],
            [
             0.8888888888888888,
             "#fdca26"
            ],
            [
             1,
             "#f0f921"
            ]
           ],
           "sequentialminus": [
            [
             0,
             "#0d0887"
            ],
            [
             0.1111111111111111,
             "#46039f"
            ],
            [
             0.2222222222222222,
             "#7201a8"
            ],
            [
             0.3333333333333333,
             "#9c179e"
            ],
            [
             0.4444444444444444,
             "#bd3786"
            ],
            [
             0.5555555555555556,
             "#d8576b"
            ],
            [
             0.6666666666666666,
             "#ed7953"
            ],
            [
             0.7777777777777778,
             "#fb9f3a"
            ],
            [
             0.8888888888888888,
             "#fdca26"
            ],
            [
             1,
             "#f0f921"
            ]
           ]
          },
          "colorway": [
           "#636efa",
           "#EF553B",
           "#00cc96",
           "#ab63fa",
           "#FFA15A",
           "#19d3f3",
           "#FF6692",
           "#B6E880",
           "#FF97FF",
           "#FECB52"
          ],
          "font": {
           "color": "#2a3f5f"
          },
          "geo": {
           "bgcolor": "white",
           "lakecolor": "white",
           "landcolor": "#E5ECF6",
           "showlakes": true,
           "showland": true,
           "subunitcolor": "white"
          },
          "hoverlabel": {
           "align": "left"
          },
          "hovermode": "closest",
          "mapbox": {
           "style": "light"
          },
          "paper_bgcolor": "white",
          "plot_bgcolor": "#E5ECF6",
          "polar": {
           "angularaxis": {
            "gridcolor": "white",
            "linecolor": "white",
            "ticks": ""
           },
           "bgcolor": "#E5ECF6",
           "radialaxis": {
            "gridcolor": "white",
            "linecolor": "white",
            "ticks": ""
           }
          },
          "scene": {
           "xaxis": {
            "backgroundcolor": "#E5ECF6",
            "gridcolor": "white",
            "gridwidth": 2,
            "linecolor": "white",
            "showbackground": true,
            "ticks": "",
            "zerolinecolor": "white"
           },
           "yaxis": {
            "backgroundcolor": "#E5ECF6",
            "gridcolor": "white",
            "gridwidth": 2,
            "linecolor": "white",
            "showbackground": true,
            "ticks": "",
            "zerolinecolor": "white"
           },
           "zaxis": {
            "backgroundcolor": "#E5ECF6",
            "gridcolor": "white",
            "gridwidth": 2,
            "linecolor": "white",
            "showbackground": true,
            "ticks": "",
            "zerolinecolor": "white"
           }
          },
          "shapedefaults": {
           "line": {
            "color": "#2a3f5f"
           }
          },
          "ternary": {
           "aaxis": {
            "gridcolor": "white",
            "linecolor": "white",
            "ticks": ""
           },
           "baxis": {
            "gridcolor": "white",
            "linecolor": "white",
            "ticks": ""
           },
           "bgcolor": "#E5ECF6",
           "caxis": {
            "gridcolor": "white",
            "linecolor": "white",
            "ticks": ""
           }
          },
          "title": {
           "x": 0.05
          },
          "xaxis": {
           "automargin": true,
           "gridcolor": "white",
           "linecolor": "white",
           "ticks": "",
           "title": {
            "standoff": 15
           },
           "zerolinecolor": "white",
           "zerolinewidth": 2
          },
          "yaxis": {
           "automargin": true,
           "gridcolor": "white",
           "linecolor": "white",
           "ticks": "",
           "title": {
            "standoff": 15
           },
           "zerolinecolor": "white",
           "zerolinewidth": 2
          }
         }
        },
        "title": {
         "text": "Impact of Aid on IPC 2009 - 2020"
        },
        "xaxis": {
         "title": {
          "text": "Year"
         }
        },
        "yaxis": {
         "title": {
          "text": "Count"
         }
        }
       }
      }
     },
     "metadata": {},
     "output_type": "display_data"
    }
   ],
   "source": [
    "import plotly.graph_objects as go\n",
    "# assign colors to type using a dictionary\n",
    "colors = {'1.0':px.colors.qualitative.Plotly[0],\n",
    "          '2.0':px.colors.qualitative.Plotly[1],\n",
    "          '3.0':px.colors.qualitative.Plotly[2],\n",
    "          '4.0':px.colors.qualitative.Plotly[3],\n",
    "          '5.0':px.colors.qualitative.Plotly[4]}\n",
    "\n",
    "colors_2 = {'0.0':px.colors.qualitative.Plotly[5],\n",
    "          '1.0':px.colors.qualitative.Plotly[6]}\n",
    "\n",
    "fig_comb = go.Figure()\n",
    "\n",
    "for r in d['ipc'].unique():\n",
    "    dfp = d[d['ipc']==r]\n",
    "    fig_comb.add_traces(go.Bar(x=dfp['year'], y = dfp['count'], name=r,\n",
    "                         marker_color=colors[r]))\n",
    "\n",
    "for a in i['ha'].unique():\n",
    "    dfp = i[i['ha']==a]\n",
    "    fig_comb.add_traces(go.Scatter(x=dfp['year'], y = dfp['count'], name=a,\n",
    "                         marker_color=colors_2[a]))\n",
    "\n",
    "fig_comb.update_layout(\n",
    "    title=\"Impact of Aid on IPC 2009 - 2020\",\n",
    "    xaxis_title=\"Year\",\n",
    "    yaxis_title=\"Count\",\n",
    ")\n",
    "\n",
    "fig_comb.show()"
   ]
  },
  {
   "cell_type": "code",
   "execution_count": 12,
   "metadata": {},
   "outputs": [
    {
     "name": "stderr",
     "output_type": "stream",
     "text": [
      "C:\\Users\\Rafi\\AppData\\Local\\Temp\\ipykernel_26188\\369114443.py:2: SettingWithCopyWarning:\n",
      "\n",
      "\n",
      "A value is trying to be set on a copy of a slice from a DataFrame.\n",
      "Try using .loc[row_indexer,col_indexer] = value instead\n",
      "\n",
      "See the caveats in the documentation: https://pandas.pydata.org/pandas-docs/stable/user_guide/indexing.html#returning-a-view-versus-a-copy\n",
      "\n"
     ]
    },
    {
     "data": {
      "application/vnd.plotly.v1+json": {
       "config": {
        "plotlyServerURL": "https://plot.ly"
       },
       "data": [
        {
         "alignmentgroup": "True",
         "hovertemplate": "ipc=1.0<br>administrative_region=Equatoria<br>year=%{x}<br>count=%{y}<extra></extra>",
         "legendgroup": "",
         "marker": {
          "color": "#636efa",
          "pattern": {
           "shape": ""
          }
         },
         "name": "",
         "offsetgroup": "",
         "orientation": "v",
         "showlegend": false,
         "textposition": "auto",
         "type": "bar",
         "x": [
          2009,
          2010,
          2011,
          2012,
          2013,
          2014,
          2015,
          2016
         ],
         "xaxis": "x13",
         "y": [
          30,
          62,
          66,
          80,
          82,
          63,
          65,
          10
         ],
         "yaxis": "y13"
        },
        {
         "alignmentgroup": "True",
         "hovertemplate": "ipc=1.0<br>administrative_region=Bahr El Ghazal<br>year=%{x}<br>count=%{y}<extra></extra>",
         "legendgroup": "",
         "marker": {
          "color": "#636efa",
          "pattern": {
           "shape": ""
          }
         },
         "name": "",
         "offsetgroup": "",
         "orientation": "v",
         "showlegend": false,
         "textposition": "auto",
         "type": "bar",
         "x": [
          2009,
          2010,
          2011,
          2012,
          2013,
          2014,
          2015
         ],
         "xaxis": "x14",
         "y": [
          22,
          46,
          39,
          26,
          29,
          33,
          5
         ],
         "yaxis": "y14"
        },
        {
         "alignmentgroup": "True",
         "hovertemplate": "ipc=1.0<br>administrative_region=Greater Upper Nile<br>year=%{x}<br>count=%{y}<extra></extra>",
         "legendgroup": "",
         "marker": {
          "color": "#636efa",
          "pattern": {
           "shape": ""
          }
         },
         "name": "",
         "offsetgroup": "",
         "orientation": "v",
         "showlegend": false,
         "textposition": "auto",
         "type": "bar",
         "x": [
          2009,
          2010,
          2011,
          2012,
          2013,
          2014,
          2015,
          2016
         ],
         "xaxis": "x15",
         "y": [
          28,
          53,
          54,
          30,
          39,
          4,
          3,
          1
         ],
         "yaxis": "y15"
        },
        {
         "alignmentgroup": "True",
         "hovertemplate": "ipc=2.0<br>administrative_region=Equatoria<br>year=%{x}<br>count=%{y}<extra></extra>",
         "legendgroup": "",
         "marker": {
          "color": "#636efa",
          "pattern": {
           "shape": ""
          }
         },
         "name": "",
         "offsetgroup": "",
         "orientation": "v",
         "showlegend": false,
         "textposition": "auto",
         "type": "bar",
         "x": [
          2009,
          2010,
          2011,
          2012,
          2013,
          2014,
          2015,
          2016,
          2017,
          2018,
          2019,
          2020
         ],
         "xaxis": "x10",
         "y": [
          17,
          34,
          27,
          16,
          14,
          30,
          31,
          42,
          26,
          23,
          18,
          4
         ],
         "yaxis": "y10"
        },
        {
         "alignmentgroup": "True",
         "hovertemplate": "ipc=2.0<br>administrative_region=Bahr El Ghazal<br>year=%{x}<br>count=%{y}<extra></extra>",
         "legendgroup": "",
         "marker": {
          "color": "#636efa",
          "pattern": {
           "shape": ""
          }
         },
         "name": "",
         "offsetgroup": "",
         "orientation": "v",
         "showlegend": false,
         "textposition": "auto",
         "type": "bar",
         "x": [
          2009,
          2010,
          2011,
          2012,
          2013,
          2014,
          2015,
          2016,
          2017,
          2018,
          2019,
          2020
         ],
         "xaxis": "x11",
         "y": [
          12,
          41,
          38,
          37,
          54,
          54,
          68,
          38,
          11,
          10,
          4,
          2
         ],
         "yaxis": "y11"
        },
        {
         "alignmentgroup": "True",
         "hovertemplate": "ipc=2.0<br>administrative_region=Greater Upper Nile<br>year=%{x}<br>count=%{y}<extra></extra>",
         "legendgroup": "",
         "marker": {
          "color": "#636efa",
          "pattern": {
           "shape": ""
          }
         },
         "name": "",
         "offsetgroup": "",
         "orientation": "v",
         "showlegend": false,
         "textposition": "auto",
         "type": "bar",
         "x": [
          2009,
          2010,
          2011,
          2012,
          2013,
          2014,
          2015,
          2016,
          2017,
          2018,
          2019
         ],
         "xaxis": "x12",
         "y": [
          27,
          71,
          50,
          64,
          72,
          56,
          55,
          34,
          20,
          5,
          3
         ],
         "yaxis": "y12"
        },
        {
         "alignmentgroup": "True",
         "hovertemplate": "ipc=3.0<br>administrative_region=Equatoria<br>year=%{x}<br>count=%{y}<extra></extra>",
         "legendgroup": "",
         "marker": {
          "color": "#636efa",
          "pattern": {
           "shape": ""
          }
         },
         "name": "",
         "offsetgroup": "",
         "orientation": "v",
         "showlegend": false,
         "textposition": "auto",
         "type": "bar",
         "x": [
          2009,
          2011,
          2014,
          2016,
          2017,
          2018,
          2019,
          2020
         ],
         "xaxis": "x7",
         "y": [
          1,
          3,
          3,
          19,
          42,
          44,
          49,
          17
         ],
         "yaxis": "y7"
        },
        {
         "alignmentgroup": "True",
         "hovertemplate": "ipc=3.0<br>administrative_region=Bahr El Ghazal<br>year=%{x}<br>count=%{y}<extra></extra>",
         "legendgroup": "",
         "marker": {
          "color": "#636efa",
          "pattern": {
           "shape": ""
          }
         },
         "name": "",
         "offsetgroup": "",
         "orientation": "v",
         "showlegend": false,
         "textposition": "auto",
         "type": "bar",
         "x": [
          2009,
          2010,
          2011,
          2012,
          2013,
          2014,
          2015,
          2016,
          2017,
          2018,
          2019,
          2020
         ],
         "xaxis": "x8",
         "y": [
          10,
          1,
          11,
          25,
          5,
          1,
          15,
          22,
          48,
          50,
          45,
          17
         ],
         "yaxis": "y8"
        },
        {
         "alignmentgroup": "True",
         "hovertemplate": "ipc=3.0<br>administrative_region=Greater Upper Nile<br>year=%{x}<br>count=%{y}<extra></extra>",
         "legendgroup": "",
         "marker": {
          "color": "#636efa",
          "pattern": {
           "shape": ""
          }
         },
         "name": "",
         "offsetgroup": "",
         "orientation": "v",
         "showlegend": false,
         "textposition": "auto",
         "type": "bar",
         "x": [
          2009,
          2010,
          2011,
          2012,
          2013,
          2014,
          2015,
          2016,
          2017,
          2018,
          2019,
          2020
         ],
         "xaxis": "x9",
         "y": [
          7,
          2,
          24,
          34,
          17,
          56,
          51,
          49,
          51,
          69,
          70,
          21
         ],
         "yaxis": "y9"
        },
        {
         "alignmentgroup": "True",
         "hovertemplate": "ipc=4.0<br>administrative_region=Equatoria<br>year=%{x}<br>count=%{y}<extra></extra>",
         "legendgroup": "",
         "marker": {
          "color": "#636efa",
          "pattern": {
           "shape": ""
          }
         },
         "name": "",
         "offsetgroup": "",
         "orientation": "v",
         "showlegend": false,
         "textposition": "auto",
         "type": "bar",
         "x": [
          2016,
          2017,
          2018,
          2019,
          2020
         ],
         "xaxis": "x4",
         "y": [
          1,
          4,
          5,
          5,
          3
         ],
         "yaxis": "y4"
        },
        {
         "alignmentgroup": "True",
         "hovertemplate": "ipc=4.0<br>administrative_region=Bahr El Ghazal<br>year=%{x}<br>count=%{y}<extra></extra>",
         "legendgroup": "",
         "marker": {
          "color": "#636efa",
          "pattern": {
           "shape": ""
          }
         },
         "name": "",
         "offsetgroup": "",
         "orientation": "v",
         "showlegend": false,
         "textposition": "auto",
         "type": "bar",
         "x": [
          2016,
          2017,
          2018,
          2019,
          2020
         ],
         "xaxis": "x5",
         "y": [
          6,
          7,
          6,
          17,
          3
         ],
         "yaxis": "y5"
        },
        {
         "alignmentgroup": "True",
         "hovertemplate": "ipc=4.0<br>administrative_region=Greater Upper Nile<br>year=%{x}<br>count=%{y}<extra></extra>",
         "legendgroup": "",
         "marker": {
          "color": "#636efa",
          "pattern": {
           "shape": ""
          }
         },
         "name": "",
         "offsetgroup": "",
         "orientation": "v",
         "showlegend": false,
         "textposition": "auto",
         "type": "bar",
         "x": [
          2009,
          2010,
          2014,
          2015,
          2016,
          2017,
          2018,
          2019,
          2020
         ],
         "xaxis": "x6",
         "y": [
          2,
          2,
          12,
          19,
          12,
          24,
          22,
          23,
          11
         ],
         "yaxis": "y6"
        },
        {
         "alignmentgroup": "True",
         "hovertemplate": "ipc=5.0<br>administrative_region=Greater Upper Nile<br>year=%{x}<br>count=%{y}<extra></extra>",
         "legendgroup": "",
         "marker": {
          "color": "#636efa",
          "pattern": {
           "shape": ""
          }
         },
         "name": "",
         "offsetgroup": "",
         "orientation": "v",
         "showlegend": false,
         "textposition": "auto",
         "type": "bar",
         "x": [
          2017
         ],
         "xaxis": "x3",
         "y": [
          1
         ],
         "yaxis": "y3"
        }
       ],
       "layout": {
        "annotations": [
         {
          "font": {},
          "showarrow": false,
          "text": "administrative_region=Equatoria",
          "x": 0.15666666666666665,
          "xanchor": "center",
          "xref": "paper",
          "y": 1,
          "yanchor": "bottom",
          "yref": "paper"
         },
         {
          "font": {},
          "showarrow": false,
          "text": "administrative_region=Bahr El Ghazal",
          "x": 0.49,
          "xanchor": "center",
          "xref": "paper",
          "y": 1,
          "yanchor": "bottom",
          "yref": "paper"
         },
         {
          "font": {},
          "showarrow": false,
          "text": "administrative_region=Greater Upper Nile",
          "x": 0.8233333333333333,
          "xanchor": "center",
          "xref": "paper",
          "y": 1,
          "yanchor": "bottom",
          "yref": "paper"
         },
         {
          "font": {},
          "showarrow": false,
          "text": "ipc=5.0",
          "textangle": 90,
          "x": 0.98,
          "xanchor": "left",
          "xref": "paper",
          "y": 0.08800000000000001,
          "yanchor": "middle",
          "yref": "paper"
         },
         {
          "font": {},
          "showarrow": false,
          "text": "ipc=4.0",
          "textangle": 90,
          "x": 0.98,
          "xanchor": "left",
          "xref": "paper",
          "y": 0.29400000000000004,
          "yanchor": "middle",
          "yref": "paper"
         },
         {
          "font": {},
          "showarrow": false,
          "text": "ipc=3.0",
          "textangle": 90,
          "x": 0.98,
          "xanchor": "left",
          "xref": "paper",
          "y": 0.5,
          "yanchor": "middle",
          "yref": "paper"
         },
         {
          "font": {},
          "showarrow": false,
          "text": "ipc=2.0",
          "textangle": 90,
          "x": 0.98,
          "xanchor": "left",
          "xref": "paper",
          "y": 0.706,
          "yanchor": "middle",
          "yref": "paper"
         },
         {
          "font": {},
          "showarrow": false,
          "text": "ipc=1.0",
          "textangle": 90,
          "x": 0.98,
          "xanchor": "left",
          "xref": "paper",
          "y": 0.912,
          "yanchor": "middle",
          "yref": "paper"
         }
        ],
        "barmode": "group",
        "legend": {
         "tracegroupgap": 0
        },
        "margin": {
         "t": 60
        },
        "template": {
         "data": {
          "bar": [
           {
            "error_x": {
             "color": "#2a3f5f"
            },
            "error_y": {
             "color": "#2a3f5f"
            },
            "marker": {
             "line": {
              "color": "#E5ECF6",
              "width": 0.5
             },
             "pattern": {
              "fillmode": "overlay",
              "size": 10,
              "solidity": 0.2
             }
            },
            "type": "bar"
           }
          ],
          "barpolar": [
           {
            "marker": {
             "line": {
              "color": "#E5ECF6",
              "width": 0.5
             },
             "pattern": {
              "fillmode": "overlay",
              "size": 10,
              "solidity": 0.2
             }
            },
            "type": "barpolar"
           }
          ],
          "carpet": [
           {
            "aaxis": {
             "endlinecolor": "#2a3f5f",
             "gridcolor": "white",
             "linecolor": "white",
             "minorgridcolor": "white",
             "startlinecolor": "#2a3f5f"
            },
            "baxis": {
             "endlinecolor": "#2a3f5f",
             "gridcolor": "white",
             "linecolor": "white",
             "minorgridcolor": "white",
             "startlinecolor": "#2a3f5f"
            },
            "type": "carpet"
           }
          ],
          "choropleth": [
           {
            "colorbar": {
             "outlinewidth": 0,
             "ticks": ""
            },
            "type": "choropleth"
           }
          ],
          "contour": [
           {
            "colorbar": {
             "outlinewidth": 0,
             "ticks": ""
            },
            "colorscale": [
             [
              0,
              "#0d0887"
             ],
             [
              0.1111111111111111,
              "#46039f"
             ],
             [
              0.2222222222222222,
              "#7201a8"
             ],
             [
              0.3333333333333333,
              "#9c179e"
             ],
             [
              0.4444444444444444,
              "#bd3786"
             ],
             [
              0.5555555555555556,
              "#d8576b"
             ],
             [
              0.6666666666666666,
              "#ed7953"
             ],
             [
              0.7777777777777778,
              "#fb9f3a"
             ],
             [
              0.8888888888888888,
              "#fdca26"
             ],
             [
              1,
              "#f0f921"
             ]
            ],
            "type": "contour"
           }
          ],
          "contourcarpet": [
           {
            "colorbar": {
             "outlinewidth": 0,
             "ticks": ""
            },
            "type": "contourcarpet"
           }
          ],
          "heatmap": [
           {
            "colorbar": {
             "outlinewidth": 0,
             "ticks": ""
            },
            "colorscale": [
             [
              0,
              "#0d0887"
             ],
             [
              0.1111111111111111,
              "#46039f"
             ],
             [
              0.2222222222222222,
              "#7201a8"
             ],
             [
              0.3333333333333333,
              "#9c179e"
             ],
             [
              0.4444444444444444,
              "#bd3786"
             ],
             [
              0.5555555555555556,
              "#d8576b"
             ],
             [
              0.6666666666666666,
              "#ed7953"
             ],
             [
              0.7777777777777778,
              "#fb9f3a"
             ],
             [
              0.8888888888888888,
              "#fdca26"
             ],
             [
              1,
              "#f0f921"
             ]
            ],
            "type": "heatmap"
           }
          ],
          "heatmapgl": [
           {
            "colorbar": {
             "outlinewidth": 0,
             "ticks": ""
            },
            "colorscale": [
             [
              0,
              "#0d0887"
             ],
             [
              0.1111111111111111,
              "#46039f"
             ],
             [
              0.2222222222222222,
              "#7201a8"
             ],
             [
              0.3333333333333333,
              "#9c179e"
             ],
             [
              0.4444444444444444,
              "#bd3786"
             ],
             [
              0.5555555555555556,
              "#d8576b"
             ],
             [
              0.6666666666666666,
              "#ed7953"
             ],
             [
              0.7777777777777778,
              "#fb9f3a"
             ],
             [
              0.8888888888888888,
              "#fdca26"
             ],
             [
              1,
              "#f0f921"
             ]
            ],
            "type": "heatmapgl"
           }
          ],
          "histogram": [
           {
            "marker": {
             "pattern": {
              "fillmode": "overlay",
              "size": 10,
              "solidity": 0.2
             }
            },
            "type": "histogram"
           }
          ],
          "histogram2d": [
           {
            "colorbar": {
             "outlinewidth": 0,
             "ticks": ""
            },
            "colorscale": [
             [
              0,
              "#0d0887"
             ],
             [
              0.1111111111111111,
              "#46039f"
             ],
             [
              0.2222222222222222,
              "#7201a8"
             ],
             [
              0.3333333333333333,
              "#9c179e"
             ],
             [
              0.4444444444444444,
              "#bd3786"
             ],
             [
              0.5555555555555556,
              "#d8576b"
             ],
             [
              0.6666666666666666,
              "#ed7953"
             ],
             [
              0.7777777777777778,
              "#fb9f3a"
             ],
             [
              0.8888888888888888,
              "#fdca26"
             ],
             [
              1,
              "#f0f921"
             ]
            ],
            "type": "histogram2d"
           }
          ],
          "histogram2dcontour": [
           {
            "colorbar": {
             "outlinewidth": 0,
             "ticks": ""
            },
            "colorscale": [
             [
              0,
              "#0d0887"
             ],
             [
              0.1111111111111111,
              "#46039f"
             ],
             [
              0.2222222222222222,
              "#7201a8"
             ],
             [
              0.3333333333333333,
              "#9c179e"
             ],
             [
              0.4444444444444444,
              "#bd3786"
             ],
             [
              0.5555555555555556,
              "#d8576b"
             ],
             [
              0.6666666666666666,
              "#ed7953"
             ],
             [
              0.7777777777777778,
              "#fb9f3a"
             ],
             [
              0.8888888888888888,
              "#fdca26"
             ],
             [
              1,
              "#f0f921"
             ]
            ],
            "type": "histogram2dcontour"
           }
          ],
          "mesh3d": [
           {
            "colorbar": {
             "outlinewidth": 0,
             "ticks": ""
            },
            "type": "mesh3d"
           }
          ],
          "parcoords": [
           {
            "line": {
             "colorbar": {
              "outlinewidth": 0,
              "ticks": ""
             }
            },
            "type": "parcoords"
           }
          ],
          "pie": [
           {
            "automargin": true,
            "type": "pie"
           }
          ],
          "scatter": [
           {
            "fillpattern": {
             "fillmode": "overlay",
             "size": 10,
             "solidity": 0.2
            },
            "type": "scatter"
           }
          ],
          "scatter3d": [
           {
            "line": {
             "colorbar": {
              "outlinewidth": 0,
              "ticks": ""
             }
            },
            "marker": {
             "colorbar": {
              "outlinewidth": 0,
              "ticks": ""
             }
            },
            "type": "scatter3d"
           }
          ],
          "scattercarpet": [
           {
            "marker": {
             "colorbar": {
              "outlinewidth": 0,
              "ticks": ""
             }
            },
            "type": "scattercarpet"
           }
          ],
          "scattergeo": [
           {
            "marker": {
             "colorbar": {
              "outlinewidth": 0,
              "ticks": ""
             }
            },
            "type": "scattergeo"
           }
          ],
          "scattergl": [
           {
            "marker": {
             "colorbar": {
              "outlinewidth": 0,
              "ticks": ""
             }
            },
            "type": "scattergl"
           }
          ],
          "scattermapbox": [
           {
            "marker": {
             "colorbar": {
              "outlinewidth": 0,
              "ticks": ""
             }
            },
            "type": "scattermapbox"
           }
          ],
          "scatterpolar": [
           {
            "marker": {
             "colorbar": {
              "outlinewidth": 0,
              "ticks": ""
             }
            },
            "type": "scatterpolar"
           }
          ],
          "scatterpolargl": [
           {
            "marker": {
             "colorbar": {
              "outlinewidth": 0,
              "ticks": ""
             }
            },
            "type": "scatterpolargl"
           }
          ],
          "scatterternary": [
           {
            "marker": {
             "colorbar": {
              "outlinewidth": 0,
              "ticks": ""
             }
            },
            "type": "scatterternary"
           }
          ],
          "surface": [
           {
            "colorbar": {
             "outlinewidth": 0,
             "ticks": ""
            },
            "colorscale": [
             [
              0,
              "#0d0887"
             ],
             [
              0.1111111111111111,
              "#46039f"
             ],
             [
              0.2222222222222222,
              "#7201a8"
             ],
             [
              0.3333333333333333,
              "#9c179e"
             ],
             [
              0.4444444444444444,
              "#bd3786"
             ],
             [
              0.5555555555555556,
              "#d8576b"
             ],
             [
              0.6666666666666666,
              "#ed7953"
             ],
             [
              0.7777777777777778,
              "#fb9f3a"
             ],
             [
              0.8888888888888888,
              "#fdca26"
             ],
             [
              1,
              "#f0f921"
             ]
            ],
            "type": "surface"
           }
          ],
          "table": [
           {
            "cells": {
             "fill": {
              "color": "#EBF0F8"
             },
             "line": {
              "color": "white"
             }
            },
            "header": {
             "fill": {
              "color": "#C8D4E3"
             },
             "line": {
              "color": "white"
             }
            },
            "type": "table"
           }
          ]
         },
         "layout": {
          "annotationdefaults": {
           "arrowcolor": "#2a3f5f",
           "arrowhead": 0,
           "arrowwidth": 1
          },
          "autotypenumbers": "strict",
          "coloraxis": {
           "colorbar": {
            "outlinewidth": 0,
            "ticks": ""
           }
          },
          "colorscale": {
           "diverging": [
            [
             0,
             "#8e0152"
            ],
            [
             0.1,
             "#c51b7d"
            ],
            [
             0.2,
             "#de77ae"
            ],
            [
             0.3,
             "#f1b6da"
            ],
            [
             0.4,
             "#fde0ef"
            ],
            [
             0.5,
             "#f7f7f7"
            ],
            [
             0.6,
             "#e6f5d0"
            ],
            [
             0.7,
             "#b8e186"
            ],
            [
             0.8,
             "#7fbc41"
            ],
            [
             0.9,
             "#4d9221"
            ],
            [
             1,
             "#276419"
            ]
           ],
           "sequential": [
            [
             0,
             "#0d0887"
            ],
            [
             0.1111111111111111,
             "#46039f"
            ],
            [
             0.2222222222222222,
             "#7201a8"
            ],
            [
             0.3333333333333333,
             "#9c179e"
            ],
            [
             0.4444444444444444,
             "#bd3786"
            ],
            [
             0.5555555555555556,
             "#d8576b"
            ],
            [
             0.6666666666666666,
             "#ed7953"
            ],
            [
             0.7777777777777778,
             "#fb9f3a"
            ],
            [
             0.8888888888888888,
             "#fdca26"
            ],
            [
             1,
             "#f0f921"
            ]
           ],
           "sequentialminus": [
            [
             0,
             "#0d0887"
            ],
            [
             0.1111111111111111,
             "#46039f"
            ],
            [
             0.2222222222222222,
             "#7201a8"
            ],
            [
             0.3333333333333333,
             "#9c179e"
            ],
            [
             0.4444444444444444,
             "#bd3786"
            ],
            [
             0.5555555555555556,
             "#d8576b"
            ],
            [
             0.6666666666666666,
             "#ed7953"
            ],
            [
             0.7777777777777778,
             "#fb9f3a"
            ],
            [
             0.8888888888888888,
             "#fdca26"
            ],
            [
             1,
             "#f0f921"
            ]
           ]
          },
          "colorway": [
           "#636efa",
           "#EF553B",
           "#00cc96",
           "#ab63fa",
           "#FFA15A",
           "#19d3f3",
           "#FF6692",
           "#B6E880",
           "#FF97FF",
           "#FECB52"
          ],
          "font": {
           "color": "#2a3f5f"
          },
          "geo": {
           "bgcolor": "white",
           "lakecolor": "white",
           "landcolor": "#E5ECF6",
           "showlakes": true,
           "showland": true,
           "subunitcolor": "white"
          },
          "hoverlabel": {
           "align": "left"
          },
          "hovermode": "closest",
          "mapbox": {
           "style": "light"
          },
          "paper_bgcolor": "white",
          "plot_bgcolor": "#E5ECF6",
          "polar": {
           "angularaxis": {
            "gridcolor": "white",
            "linecolor": "white",
            "ticks": ""
           },
           "bgcolor": "#E5ECF6",
           "radialaxis": {
            "gridcolor": "white",
            "linecolor": "white",
            "ticks": ""
           }
          },
          "scene": {
           "xaxis": {
            "backgroundcolor": "#E5ECF6",
            "gridcolor": "white",
            "gridwidth": 2,
            "linecolor": "white",
            "showbackground": true,
            "ticks": "",
            "zerolinecolor": "white"
           },
           "yaxis": {
            "backgroundcolor": "#E5ECF6",
            "gridcolor": "white",
            "gridwidth": 2,
            "linecolor": "white",
            "showbackground": true,
            "ticks": "",
            "zerolinecolor": "white"
           },
           "zaxis": {
            "backgroundcolor": "#E5ECF6",
            "gridcolor": "white",
            "gridwidth": 2,
            "linecolor": "white",
            "showbackground": true,
            "ticks": "",
            "zerolinecolor": "white"
           }
          },
          "shapedefaults": {
           "line": {
            "color": "#2a3f5f"
           }
          },
          "ternary": {
           "aaxis": {
            "gridcolor": "white",
            "linecolor": "white",
            "ticks": ""
           },
           "baxis": {
            "gridcolor": "white",
            "linecolor": "white",
            "ticks": ""
           },
           "bgcolor": "#E5ECF6",
           "caxis": {
            "gridcolor": "white",
            "linecolor": "white",
            "ticks": ""
           }
          },
          "title": {
           "x": 0.05
          },
          "xaxis": {
           "automargin": true,
           "gridcolor": "white",
           "linecolor": "white",
           "ticks": "",
           "title": {
            "standoff": 15
           },
           "zerolinecolor": "white",
           "zerolinewidth": 2
          },
          "yaxis": {
           "automargin": true,
           "gridcolor": "white",
           "linecolor": "white",
           "ticks": "",
           "title": {
            "standoff": 15
           },
           "zerolinecolor": "white",
           "zerolinewidth": 2
          }
         }
        },
        "xaxis": {
         "anchor": "y",
         "domain": [
          0,
          0.3133333333333333
         ],
         "title": {
          "text": "year"
         }
        },
        "xaxis10": {
         "anchor": "y10",
         "domain": [
          0,
          0.3133333333333333
         ],
         "matches": "x",
         "showticklabels": false
        },
        "xaxis11": {
         "anchor": "y11",
         "domain": [
          0.3333333333333333,
          0.6466666666666666
         ],
         "matches": "x",
         "showticklabels": false
        },
        "xaxis12": {
         "anchor": "y12",
         "domain": [
          0.6666666666666666,
          0.98
         ],
         "matches": "x",
         "showticklabels": false
        },
        "xaxis13": {
         "anchor": "y13",
         "domain": [
          0,
          0.3133333333333333
         ],
         "matches": "x",
         "showticklabels": false
        },
        "xaxis14": {
         "anchor": "y14",
         "domain": [
          0.3333333333333333,
          0.6466666666666666
         ],
         "matches": "x",
         "showticklabels": false
        },
        "xaxis15": {
         "anchor": "y15",
         "domain": [
          0.6666666666666666,
          0.98
         ],
         "matches": "x",
         "showticklabels": false
        },
        "xaxis2": {
         "anchor": "y2",
         "domain": [
          0.3333333333333333,
          0.6466666666666666
         ],
         "matches": "x",
         "title": {
          "text": "year"
         }
        },
        "xaxis3": {
         "anchor": "y3",
         "domain": [
          0.6666666666666666,
          0.98
         ],
         "matches": "x",
         "title": {
          "text": "year"
         }
        },
        "xaxis4": {
         "anchor": "y4",
         "domain": [
          0,
          0.3133333333333333
         ],
         "matches": "x",
         "showticklabels": false
        },
        "xaxis5": {
         "anchor": "y5",
         "domain": [
          0.3333333333333333,
          0.6466666666666666
         ],
         "matches": "x",
         "showticklabels": false
        },
        "xaxis6": {
         "anchor": "y6",
         "domain": [
          0.6666666666666666,
          0.98
         ],
         "matches": "x",
         "showticklabels": false
        },
        "xaxis7": {
         "anchor": "y7",
         "domain": [
          0,
          0.3133333333333333
         ],
         "matches": "x",
         "showticklabels": false
        },
        "xaxis8": {
         "anchor": "y8",
         "domain": [
          0.3333333333333333,
          0.6466666666666666
         ],
         "matches": "x",
         "showticklabels": false
        },
        "xaxis9": {
         "anchor": "y9",
         "domain": [
          0.6666666666666666,
          0.98
         ],
         "matches": "x",
         "showticklabels": false
        },
        "yaxis": {
         "anchor": "x",
         "domain": [
          0,
          0.17600000000000002
         ],
         "title": {
          "text": "count"
         }
        },
        "yaxis10": {
         "anchor": "x10",
         "domain": [
          0.618,
          0.794
         ],
         "matches": "y",
         "title": {
          "text": "count"
         }
        },
        "yaxis11": {
         "anchor": "x11",
         "domain": [
          0.618,
          0.794
         ],
         "matches": "y",
         "showticklabels": false
        },
        "yaxis12": {
         "anchor": "x12",
         "domain": [
          0.618,
          0.794
         ],
         "matches": "y",
         "showticklabels": false
        },
        "yaxis13": {
         "anchor": "x13",
         "domain": [
          0.8240000000000001,
          1
         ],
         "matches": "y",
         "title": {
          "text": "count"
         }
        },
        "yaxis14": {
         "anchor": "x14",
         "domain": [
          0.8240000000000001,
          1
         ],
         "matches": "y",
         "showticklabels": false
        },
        "yaxis15": {
         "anchor": "x15",
         "domain": [
          0.8240000000000001,
          1
         ],
         "matches": "y",
         "showticklabels": false
        },
        "yaxis2": {
         "anchor": "x2",
         "domain": [
          0,
          0.17600000000000002
         ],
         "matches": "y",
         "showticklabels": false
        },
        "yaxis3": {
         "anchor": "x3",
         "domain": [
          0,
          0.17600000000000002
         ],
         "matches": "y",
         "showticklabels": false
        },
        "yaxis4": {
         "anchor": "x4",
         "domain": [
          0.20600000000000002,
          0.382
         ],
         "matches": "y",
         "title": {
          "text": "count"
         }
        },
        "yaxis5": {
         "anchor": "x5",
         "domain": [
          0.20600000000000002,
          0.382
         ],
         "matches": "y",
         "showticklabels": false
        },
        "yaxis6": {
         "anchor": "x6",
         "domain": [
          0.20600000000000002,
          0.382
         ],
         "matches": "y",
         "showticklabels": false
        },
        "yaxis7": {
         "anchor": "x7",
         "domain": [
          0.41200000000000003,
          0.5880000000000001
         ],
         "matches": "y",
         "title": {
          "text": "count"
         }
        },
        "yaxis8": {
         "anchor": "x8",
         "domain": [
          0.41200000000000003,
          0.5880000000000001
         ],
         "matches": "y",
         "showticklabels": false
        },
        "yaxis9": {
         "anchor": "x9",
         "domain": [
          0.41200000000000003,
          0.5880000000000001
         ],
         "matches": "y",
         "showticklabels": false
        }
       }
      }
     },
     "metadata": {},
     "output_type": "display_data"
    }
   ],
   "source": [
    "regional_ipc = food_updated[food_updated['ipc'].notnull()]\n",
    "regional_ipc['ipc'] = regional_ipc['ipc'].astype('string')\n",
    "ipc_total_regional = regional_ipc[['year','administrative_region', 'ipc']].value_counts()\n",
    "ipc_total_regional = ipc_total_regional.to_frame(name='count').reset_index().sort_values(by='year')\n",
    "\n",
    "\n",
    "fig_district = px.bar(\n",
    "    ipc_total_regional,\n",
    "    x=\"year\", y=\"count\", barmode='group',\n",
    "    facet_row=\"ipc\", facet_col=\"administrative_region\",\n",
    "    category_orders={\"ipc\": [\"1.0\", \"2.0\", \"3.0\", \"4.0\", \"5.0\"],\n",
    "                              \"administrative_region\": [\"Equatoria\", \"Bahr El Ghazal\", \"Greater Upper Nile\"]}\n",
    ")\n",
    "\n",
    "fig_district.show()"
   ]
  },
  {
   "cell_type": "code",
   "execution_count": 13,
   "metadata": {},
   "outputs": [
    {
     "data": {
      "application/vnd.plotly.v1+json": {
       "config": {
        "plotlyServerURL": "https://plot.ly"
       },
       "data": [
        {
         "domain": {
          "x": [
           0,
           0.2888888888888889
          ],
          "y": [
           0.84375,
           1
          ]
         },
         "hole": 0.4,
         "hoverinfo": "label+percent+name",
         "labels": [
          "Equatoria",
          "Bahr El Ghazal",
          "Greater Upper Nile"
         ],
         "name": "2009",
         "type": "pie",
         "values": [
          10,
          7,
          2,
          1
         ]
        },
        {
         "domain": {
          "x": [
           0.35555555555555557,
           0.6444444444444445
          ],
          "y": [
           0.84375,
           1
          ]
         },
         "hole": 0.4,
         "hoverinfo": "label+percent+name",
         "labels": [
          "Equatoria",
          "Bahr El Ghazal",
          "Greater Upper Nile"
         ],
         "name": "2010",
         "type": "pie",
         "values": [
          2,
          1,
          2
         ]
        },
        {
         "domain": {
          "x": [
           0.7111111111111111,
           1
          ],
          "y": [
           0.84375,
           1
          ]
         },
         "hole": 0.4,
         "hoverinfo": "label+percent+name",
         "labels": [
          "Equatoria",
          "Bahr El Ghazal",
          "Greater Upper Nile"
         ],
         "name": "2011",
         "type": "pie",
         "values": [
          3,
          11,
          24
         ]
        },
        {
         "domain": {
          "x": [
           0,
           0.2888888888888889
          ],
          "y": [
           0.5625,
           0.71875
          ]
         },
         "hole": 0.4,
         "hoverinfo": "label+percent+name",
         "labels": [
          "Equatoria",
          "Bahr El Ghazal",
          "Greater Upper Nile"
         ],
         "name": "2012",
         "type": "pie",
         "values": [
          25,
          34
         ]
        },
        {
         "domain": {
          "x": [
           0.35555555555555557,
           0.6444444444444445
          ],
          "y": [
           0.5625,
           0.71875
          ]
         },
         "hole": 0.4,
         "hoverinfo": "label+percent+name",
         "labels": [
          "Equatoria",
          "Bahr El Ghazal",
          "Greater Upper Nile"
         ],
         "name": "2013",
         "type": "pie",
         "values": [
          17,
          5
         ]
        },
        {
         "domain": {
          "x": [
           0.7111111111111111,
           1
          ],
          "y": [
           0.5625,
           0.71875
          ]
         },
         "hole": 0.4,
         "hoverinfo": "label+percent+name",
         "labels": [
          "Equatoria",
          "Bahr El Ghazal",
          "Greater Upper Nile"
         ],
         "name": "2014",
         "type": "pie",
         "values": [
          12,
          3,
          1,
          56
         ]
        },
        {
         "domain": {
          "x": [
           0,
           0.2888888888888889
          ],
          "y": [
           0.28125,
           0.4375
          ]
         },
         "hole": 0.4,
         "hoverinfo": "label+percent+name",
         "labels": [
          "Equatoria",
          "Bahr El Ghazal",
          "Greater Upper Nile"
         ],
         "name": "2015",
         "type": "pie",
         "values": [
          19,
          15,
          51
         ]
        },
        {
         "domain": {
          "x": [
           0.35555555555555557,
           0.6444444444444445
          ],
          "y": [
           0.28125,
           0.4375
          ]
         },
         "hole": 0.4,
         "hoverinfo": "label+percent+name",
         "labels": [
          "Equatoria",
          "Bahr El Ghazal",
          "Greater Upper Nile"
         ],
         "name": "2016",
         "type": "pie",
         "values": [
          49,
          12,
          19,
          1,
          6,
          22
         ]
        },
        {
         "domain": {
          "x": [
           0.7111111111111111,
           1
          ],
          "y": [
           0.28125,
           0.4375
          ]
         },
         "hole": 0.4,
         "hoverinfo": "label+percent+name",
         "labels": [
          "Equatoria",
          "Bahr El Ghazal",
          "Greater Upper Nile"
         ],
         "name": "2017",
         "type": "pie",
         "values": [
          7,
          4,
          1,
          24,
          51,
          42,
          48
         ]
        },
        {
         "domain": {
          "x": [
           0,
           0.2888888888888889
          ],
          "y": [
           0,
           0.15625
          ]
         },
         "hole": 0.4,
         "hoverinfo": "label+percent+name",
         "labels": [
          "Equatoria",
          "Bahr El Ghazal",
          "Greater Upper Nile"
         ],
         "name": "2018",
         "type": "pie",
         "values": [
          44,
          5,
          22,
          6,
          50,
          69
         ]
        },
        {
         "domain": {
          "x": [
           0.35555555555555557,
           0.6444444444444445
          ],
          "y": [
           0,
           0.15625
          ]
         },
         "hole": 0.4,
         "hoverinfo": "label+percent+name",
         "labels": [
          "Equatoria",
          "Bahr El Ghazal",
          "Greater Upper Nile"
         ],
         "name": "2019",
         "type": "pie",
         "values": [
          45,
          70,
          49,
          23,
          5,
          17
         ]
        },
        {
         "domain": {
          "x": [
           0.7111111111111111,
           1
          ],
          "y": [
           0,
           0.15625
          ]
         },
         "hole": 0.4,
         "hoverinfo": "label+percent+name",
         "labels": [
          "Equatoria",
          "Bahr El Ghazal",
          "Greater Upper Nile"
         ],
         "name": "2020",
         "type": "pie",
         "values": [
          3,
          3,
          21,
          17,
          17,
          11
         ]
        }
       ],
       "layout": {
        "annotations": [
         {
          "font": {
           "size": 16
          },
          "showarrow": false,
          "text": "2009",
          "x": 0.14444444444444446,
          "xanchor": "center",
          "xref": "paper",
          "y": 1,
          "yanchor": "bottom",
          "yref": "paper"
         },
         {
          "font": {
           "size": 16
          },
          "showarrow": false,
          "text": "2010",
          "x": 0.5,
          "xanchor": "center",
          "xref": "paper",
          "y": 1,
          "yanchor": "bottom",
          "yref": "paper"
         },
         {
          "font": {
           "size": 16
          },
          "showarrow": false,
          "text": "2011",
          "x": 0.8555555555555556,
          "xanchor": "center",
          "xref": "paper",
          "y": 1,
          "yanchor": "bottom",
          "yref": "paper"
         },
         {
          "font": {
           "size": 16
          },
          "showarrow": false,
          "text": "2012",
          "x": 0.14444444444444446,
          "xanchor": "center",
          "xref": "paper",
          "y": 0.71875,
          "yanchor": "bottom",
          "yref": "paper"
         },
         {
          "font": {
           "size": 16
          },
          "showarrow": false,
          "text": "2013",
          "x": 0.5,
          "xanchor": "center",
          "xref": "paper",
          "y": 0.71875,
          "yanchor": "bottom",
          "yref": "paper"
         },
         {
          "font": {
           "size": 16
          },
          "showarrow": false,
          "text": "2014",
          "x": 0.8555555555555556,
          "xanchor": "center",
          "xref": "paper",
          "y": 0.71875,
          "yanchor": "bottom",
          "yref": "paper"
         },
         {
          "font": {
           "size": 16
          },
          "showarrow": false,
          "text": "2015",
          "x": 0.14444444444444446,
          "xanchor": "center",
          "xref": "paper",
          "y": 0.4375,
          "yanchor": "bottom",
          "yref": "paper"
         },
         {
          "font": {
           "size": 16
          },
          "showarrow": false,
          "text": "2016",
          "x": 0.5,
          "xanchor": "center",
          "xref": "paper",
          "y": 0.4375,
          "yanchor": "bottom",
          "yref": "paper"
         },
         {
          "font": {
           "size": 16
          },
          "showarrow": false,
          "text": "2017",
          "x": 0.8555555555555556,
          "xanchor": "center",
          "xref": "paper",
          "y": 0.4375,
          "yanchor": "bottom",
          "yref": "paper"
         },
         {
          "font": {
           "size": 16
          },
          "showarrow": false,
          "text": "2018",
          "x": 0.14444444444444446,
          "xanchor": "center",
          "xref": "paper",
          "y": 0.15625,
          "yanchor": "bottom",
          "yref": "paper"
         },
         {
          "font": {
           "size": 16
          },
          "showarrow": false,
          "text": "2019",
          "x": 0.5,
          "xanchor": "center",
          "xref": "paper",
          "y": 0.15625,
          "yanchor": "bottom",
          "yref": "paper"
         },
         {
          "font": {
           "size": 16
          },
          "showarrow": false,
          "text": "2020",
          "x": 0.8555555555555556,
          "xanchor": "center",
          "xref": "paper",
          "y": 0.15625,
          "yanchor": "bottom",
          "yref": "paper"
         }
        ],
        "height": 800,
        "margin": {
         "b": 20,
         "l": 5,
         "r": 5,
         "t": 60
        },
        "template": {
         "data": {
          "bar": [
           {
            "error_x": {
             "color": "#2a3f5f"
            },
            "error_y": {
             "color": "#2a3f5f"
            },
            "marker": {
             "line": {
              "color": "#E5ECF6",
              "width": 0.5
             },
             "pattern": {
              "fillmode": "overlay",
              "size": 10,
              "solidity": 0.2
             }
            },
            "type": "bar"
           }
          ],
          "barpolar": [
           {
            "marker": {
             "line": {
              "color": "#E5ECF6",
              "width": 0.5
             },
             "pattern": {
              "fillmode": "overlay",
              "size": 10,
              "solidity": 0.2
             }
            },
            "type": "barpolar"
           }
          ],
          "carpet": [
           {
            "aaxis": {
             "endlinecolor": "#2a3f5f",
             "gridcolor": "white",
             "linecolor": "white",
             "minorgridcolor": "white",
             "startlinecolor": "#2a3f5f"
            },
            "baxis": {
             "endlinecolor": "#2a3f5f",
             "gridcolor": "white",
             "linecolor": "white",
             "minorgridcolor": "white",
             "startlinecolor": "#2a3f5f"
            },
            "type": "carpet"
           }
          ],
          "choropleth": [
           {
            "colorbar": {
             "outlinewidth": 0,
             "ticks": ""
            },
            "type": "choropleth"
           }
          ],
          "contour": [
           {
            "colorbar": {
             "outlinewidth": 0,
             "ticks": ""
            },
            "colorscale": [
             [
              0,
              "#0d0887"
             ],
             [
              0.1111111111111111,
              "#46039f"
             ],
             [
              0.2222222222222222,
              "#7201a8"
             ],
             [
              0.3333333333333333,
              "#9c179e"
             ],
             [
              0.4444444444444444,
              "#bd3786"
             ],
             [
              0.5555555555555556,
              "#d8576b"
             ],
             [
              0.6666666666666666,
              "#ed7953"
             ],
             [
              0.7777777777777778,
              "#fb9f3a"
             ],
             [
              0.8888888888888888,
              "#fdca26"
             ],
             [
              1,
              "#f0f921"
             ]
            ],
            "type": "contour"
           }
          ],
          "contourcarpet": [
           {
            "colorbar": {
             "outlinewidth": 0,
             "ticks": ""
            },
            "type": "contourcarpet"
           }
          ],
          "heatmap": [
           {
            "colorbar": {
             "outlinewidth": 0,
             "ticks": ""
            },
            "colorscale": [
             [
              0,
              "#0d0887"
             ],
             [
              0.1111111111111111,
              "#46039f"
             ],
             [
              0.2222222222222222,
              "#7201a8"
             ],
             [
              0.3333333333333333,
              "#9c179e"
             ],
             [
              0.4444444444444444,
              "#bd3786"
             ],
             [
              0.5555555555555556,
              "#d8576b"
             ],
             [
              0.6666666666666666,
              "#ed7953"
             ],
             [
              0.7777777777777778,
              "#fb9f3a"
             ],
             [
              0.8888888888888888,
              "#fdca26"
             ],
             [
              1,
              "#f0f921"
             ]
            ],
            "type": "heatmap"
           }
          ],
          "heatmapgl": [
           {
            "colorbar": {
             "outlinewidth": 0,
             "ticks": ""
            },
            "colorscale": [
             [
              0,
              "#0d0887"
             ],
             [
              0.1111111111111111,
              "#46039f"
             ],
             [
              0.2222222222222222,
              "#7201a8"
             ],
             [
              0.3333333333333333,
              "#9c179e"
             ],
             [
              0.4444444444444444,
              "#bd3786"
             ],
             [
              0.5555555555555556,
              "#d8576b"
             ],
             [
              0.6666666666666666,
              "#ed7953"
             ],
             [
              0.7777777777777778,
              "#fb9f3a"
             ],
             [
              0.8888888888888888,
              "#fdca26"
             ],
             [
              1,
              "#f0f921"
             ]
            ],
            "type": "heatmapgl"
           }
          ],
          "histogram": [
           {
            "marker": {
             "pattern": {
              "fillmode": "overlay",
              "size": 10,
              "solidity": 0.2
             }
            },
            "type": "histogram"
           }
          ],
          "histogram2d": [
           {
            "colorbar": {
             "outlinewidth": 0,
             "ticks": ""
            },
            "colorscale": [
             [
              0,
              "#0d0887"
             ],
             [
              0.1111111111111111,
              "#46039f"
             ],
             [
              0.2222222222222222,
              "#7201a8"
             ],
             [
              0.3333333333333333,
              "#9c179e"
             ],
             [
              0.4444444444444444,
              "#bd3786"
             ],
             [
              0.5555555555555556,
              "#d8576b"
             ],
             [
              0.6666666666666666,
              "#ed7953"
             ],
             [
              0.7777777777777778,
              "#fb9f3a"
             ],
             [
              0.8888888888888888,
              "#fdca26"
             ],
             [
              1,
              "#f0f921"
             ]
            ],
            "type": "histogram2d"
           }
          ],
          "histogram2dcontour": [
           {
            "colorbar": {
             "outlinewidth": 0,
             "ticks": ""
            },
            "colorscale": [
             [
              0,
              "#0d0887"
             ],
             [
              0.1111111111111111,
              "#46039f"
             ],
             [
              0.2222222222222222,
              "#7201a8"
             ],
             [
              0.3333333333333333,
              "#9c179e"
             ],
             [
              0.4444444444444444,
              "#bd3786"
             ],
             [
              0.5555555555555556,
              "#d8576b"
             ],
             [
              0.6666666666666666,
              "#ed7953"
             ],
             [
              0.7777777777777778,
              "#fb9f3a"
             ],
             [
              0.8888888888888888,
              "#fdca26"
             ],
             [
              1,
              "#f0f921"
             ]
            ],
            "type": "histogram2dcontour"
           }
          ],
          "mesh3d": [
           {
            "colorbar": {
             "outlinewidth": 0,
             "ticks": ""
            },
            "type": "mesh3d"
           }
          ],
          "parcoords": [
           {
            "line": {
             "colorbar": {
              "outlinewidth": 0,
              "ticks": ""
             }
            },
            "type": "parcoords"
           }
          ],
          "pie": [
           {
            "automargin": true,
            "type": "pie"
           }
          ],
          "scatter": [
           {
            "fillpattern": {
             "fillmode": "overlay",
             "size": 10,
             "solidity": 0.2
            },
            "type": "scatter"
           }
          ],
          "scatter3d": [
           {
            "line": {
             "colorbar": {
              "outlinewidth": 0,
              "ticks": ""
             }
            },
            "marker": {
             "colorbar": {
              "outlinewidth": 0,
              "ticks": ""
             }
            },
            "type": "scatter3d"
           }
          ],
          "scattercarpet": [
           {
            "marker": {
             "colorbar": {
              "outlinewidth": 0,
              "ticks": ""
             }
            },
            "type": "scattercarpet"
           }
          ],
          "scattergeo": [
           {
            "marker": {
             "colorbar": {
              "outlinewidth": 0,
              "ticks": ""
             }
            },
            "type": "scattergeo"
           }
          ],
          "scattergl": [
           {
            "marker": {
             "colorbar": {
              "outlinewidth": 0,
              "ticks": ""
             }
            },
            "type": "scattergl"
           }
          ],
          "scattermapbox": [
           {
            "marker": {
             "colorbar": {
              "outlinewidth": 0,
              "ticks": ""
             }
            },
            "type": "scattermapbox"
           }
          ],
          "scatterpolar": [
           {
            "marker": {
             "colorbar": {
              "outlinewidth": 0,
              "ticks": ""
             }
            },
            "type": "scatterpolar"
           }
          ],
          "scatterpolargl": [
           {
            "marker": {
             "colorbar": {
              "outlinewidth": 0,
              "ticks": ""
             }
            },
            "type": "scatterpolargl"
           }
          ],
          "scatterternary": [
           {
            "marker": {
             "colorbar": {
              "outlinewidth": 0,
              "ticks": ""
             }
            },
            "type": "scatterternary"
           }
          ],
          "surface": [
           {
            "colorbar": {
             "outlinewidth": 0,
             "ticks": ""
            },
            "colorscale": [
             [
              0,
              "#0d0887"
             ],
             [
              0.1111111111111111,
              "#46039f"
             ],
             [
              0.2222222222222222,
              "#7201a8"
             ],
             [
              0.3333333333333333,
              "#9c179e"
             ],
             [
              0.4444444444444444,
              "#bd3786"
             ],
             [
              0.5555555555555556,
              "#d8576b"
             ],
             [
              0.6666666666666666,
              "#ed7953"
             ],
             [
              0.7777777777777778,
              "#fb9f3a"
             ],
             [
              0.8888888888888888,
              "#fdca26"
             ],
             [
              1,
              "#f0f921"
             ]
            ],
            "type": "surface"
           }
          ],
          "table": [
           {
            "cells": {
             "fill": {
              "color": "#EBF0F8"
             },
             "line": {
              "color": "white"
             }
            },
            "header": {
             "fill": {
              "color": "#C8D4E3"
             },
             "line": {
              "color": "white"
             }
            },
            "type": "table"
           }
          ]
         },
         "layout": {
          "annotationdefaults": {
           "arrowcolor": "#2a3f5f",
           "arrowhead": 0,
           "arrowwidth": 1
          },
          "autotypenumbers": "strict",
          "coloraxis": {
           "colorbar": {
            "outlinewidth": 0,
            "ticks": ""
           }
          },
          "colorscale": {
           "diverging": [
            [
             0,
             "#8e0152"
            ],
            [
             0.1,
             "#c51b7d"
            ],
            [
             0.2,
             "#de77ae"
            ],
            [
             0.3,
             "#f1b6da"
            ],
            [
             0.4,
             "#fde0ef"
            ],
            [
             0.5,
             "#f7f7f7"
            ],
            [
             0.6,
             "#e6f5d0"
            ],
            [
             0.7,
             "#b8e186"
            ],
            [
             0.8,
             "#7fbc41"
            ],
            [
             0.9,
             "#4d9221"
            ],
            [
             1,
             "#276419"
            ]
           ],
           "sequential": [
            [
             0,
             "#0d0887"
            ],
            [
             0.1111111111111111,
             "#46039f"
            ],
            [
             0.2222222222222222,
             "#7201a8"
            ],
            [
             0.3333333333333333,
             "#9c179e"
            ],
            [
             0.4444444444444444,
             "#bd3786"
            ],
            [
             0.5555555555555556,
             "#d8576b"
            ],
            [
             0.6666666666666666,
             "#ed7953"
            ],
            [
             0.7777777777777778,
             "#fb9f3a"
            ],
            [
             0.8888888888888888,
             "#fdca26"
            ],
            [
             1,
             "#f0f921"
            ]
           ],
           "sequentialminus": [
            [
             0,
             "#0d0887"
            ],
            [
             0.1111111111111111,
             "#46039f"
            ],
            [
             0.2222222222222222,
             "#7201a8"
            ],
            [
             0.3333333333333333,
             "#9c179e"
            ],
            [
             0.4444444444444444,
             "#bd3786"
            ],
            [
             0.5555555555555556,
             "#d8576b"
            ],
            [
             0.6666666666666666,
             "#ed7953"
            ],
            [
             0.7777777777777778,
             "#fb9f3a"
            ],
            [
             0.8888888888888888,
             "#fdca26"
            ],
            [
             1,
             "#f0f921"
            ]
           ]
          },
          "colorway": [
           "#636efa",
           "#EF553B",
           "#00cc96",
           "#ab63fa",
           "#FFA15A",
           "#19d3f3",
           "#FF6692",
           "#B6E880",
           "#FF97FF",
           "#FECB52"
          ],
          "font": {
           "color": "#2a3f5f"
          },
          "geo": {
           "bgcolor": "white",
           "lakecolor": "white",
           "landcolor": "#E5ECF6",
           "showlakes": true,
           "showland": true,
           "subunitcolor": "white"
          },
          "hoverlabel": {
           "align": "left"
          },
          "hovermode": "closest",
          "mapbox": {
           "style": "light"
          },
          "paper_bgcolor": "white",
          "plot_bgcolor": "#E5ECF6",
          "polar": {
           "angularaxis": {
            "gridcolor": "white",
            "linecolor": "white",
            "ticks": ""
           },
           "bgcolor": "#E5ECF6",
           "radialaxis": {
            "gridcolor": "white",
            "linecolor": "white",
            "ticks": ""
           }
          },
          "scene": {
           "xaxis": {
            "backgroundcolor": "#E5ECF6",
            "gridcolor": "white",
            "gridwidth": 2,
            "linecolor": "white",
            "showbackground": true,
            "ticks": "",
            "zerolinecolor": "white"
           },
           "yaxis": {
            "backgroundcolor": "#E5ECF6",
            "gridcolor": "white",
            "gridwidth": 2,
            "linecolor": "white",
            "showbackground": true,
            "ticks": "",
            "zerolinecolor": "white"
           },
           "zaxis": {
            "backgroundcolor": "#E5ECF6",
            "gridcolor": "white",
            "gridwidth": 2,
            "linecolor": "white",
            "showbackground": true,
            "ticks": "",
            "zerolinecolor": "white"
           }
          },
          "shapedefaults": {
           "line": {
            "color": "#2a3f5f"
           }
          },
          "ternary": {
           "aaxis": {
            "gridcolor": "white",
            "linecolor": "white",
            "ticks": ""
           },
           "baxis": {
            "gridcolor": "white",
            "linecolor": "white",
            "ticks": ""
           },
           "bgcolor": "#E5ECF6",
           "caxis": {
            "gridcolor": "white",
            "linecolor": "white",
            "ticks": ""
           }
          },
          "title": {
           "x": 0.05
          },
          "xaxis": {
           "automargin": true,
           "gridcolor": "white",
           "linecolor": "white",
           "ticks": "",
           "title": {
            "standoff": 15
           },
           "zerolinecolor": "white",
           "zerolinewidth": 2
          },
          "yaxis": {
           "automargin": true,
           "gridcolor": "white",
           "linecolor": "white",
           "ticks": "",
           "title": {
            "standoff": 15
           },
           "zerolinecolor": "white",
           "zerolinewidth": 2
          }
         }
        },
        "title": {
         "text": "Proportion of IPC 3.0 and Above in each Region"
        },
        "width": 800
       }
      }
     },
     "metadata": {},
     "output_type": "display_data"
    }
   ],
   "source": [
    "from plotly.subplots import make_subplots\n",
    "\n",
    "labels = [\"Equatoria\", \"Bahr El Ghazal\", \"Greater Upper Nile\"]\n",
    "\n",
    "ipc_total_regional = ipc_total_regional[ipc_total_regional['ipc'].astype(float) >= 3.0]\n",
    "\n",
    "\n",
    "# Create subplots: use 'domain' type for Pie subplot\n",
    "fig_pies = make_subplots(rows=4, cols=3, specs=[[{'type':'domain'}, {'type':'domain'}, {'type':'domain'}], \n",
    "                                                [{'type':'domain'}, {'type':'domain'}, {'type':'domain'}], \n",
    "                                                [{'type':'domain'}, {'type':'domain'}, {'type':'domain'}], \n",
    "                                                [{'type':'domain'}, {'type':'domain'}, {'type':'domain'}]],\n",
    "                                                subplot_titles=[str(x) for x in ipc_total_regional['year'].unique()],)\n",
    "index = 0\n",
    "for row in range(1,5):\n",
    "    for col in range(1,4):\n",
    "        fig_pies.add_trace(go.Pie(labels=labels, \n",
    "                                  values=ipc_total_regional[ipc_total_regional['year']==ipc_total_regional['year'].unique()[index]]['count'],\n",
    "                                  name=str(ipc_total_regional['year'].unique()[index])),\n",
    "                    row, col)\n",
    "        index+=1\n",
    "\n",
    "\n",
    "# Use `hole` to create a donut-like pie chart\n",
    "fig_pies.update_traces(hole=.4, hoverinfo=\"label+percent+name\")\n",
    "fig_pies.update_layout(\n",
    "    margin=dict(l=5, r=5, t=60, b=20),\n",
    ")\n",
    "fig_pies.update_layout(height=800, width=800,\n",
    "                  title_text=\"Proportion of IPC 3.0 and Above in each Region\")\n",
    "\n",
    "fig_pies.show()\n"
   ]
  },
  {
   "cell_type": "code",
   "execution_count": 14,
   "metadata": {},
   "outputs": [
    {
     "data": {
      "text/html": [
       "<div>\n",
       "<style scoped>\n",
       "    .dataframe tbody tr th:only-of-type {\n",
       "        vertical-align: middle;\n",
       "    }\n",
       "\n",
       "    .dataframe tbody tr th {\n",
       "        vertical-align: top;\n",
       "    }\n",
       "\n",
       "    .dataframe thead th {\n",
       "        text-align: right;\n",
       "    }\n",
       "</style>\n",
       "<table border=\"1\" class=\"dataframe\">\n",
       "  <thead>\n",
       "    <tr style=\"text-align: right;\">\n",
       "      <th></th>\n",
       "      <th>title</th>\n",
       "      <th>date</th>\n",
       "      <th>paragraphs</th>\n",
       "      <th>publisher</th>\n",
       "    </tr>\n",
       "  </thead>\n",
       "  <tbody>\n",
       "    <tr>\n",
       "      <th>0</th>\n",
       "      <td>South Sudan: A Former Child Soldier Fights to ...</td>\n",
       "      <td>2021-02-12</td>\n",
       "      <td>Sara, who was abducted at age 12, spent two ye...</td>\n",
       "      <td>Thomson Reuters Foundation (London)</td>\n",
       "    </tr>\n",
       "    <tr>\n",
       "      <th>1</th>\n",
       "      <td>South Sudan: #budget2019 - Will It Lead to Mor...</td>\n",
       "      <td>2019-02-21</td>\n",
       "      <td>Legal claims against the department now amount...</td>\n",
       "      <td>Bhekisisa (Johannesburg)</td>\n",
       "    </tr>\n",
       "    <tr>\n",
       "      <th>2</th>\n",
       "      <td>South Sudan: Retired NBA Star Elected Basketba...</td>\n",
       "      <td>2019-11-25</td>\n",
       "      <td>Former NBA star Luol Ajou Deng has been electe...</td>\n",
       "      <td>The East African (Nairobi)</td>\n",
       "    </tr>\n",
       "    <tr>\n",
       "      <th>3</th>\n",
       "      <td>South Sudan - Political Violence On the Rise, ...</td>\n",
       "      <td>2022-02-11</td>\n",
       "      <td>UN human rights experts have warned of increas...</td>\n",
       "      <td>UN News Service</td>\n",
       "    </tr>\n",
       "    <tr>\n",
       "      <th>4</th>\n",
       "      <td>South Sudan: S. Sudan Receives First Astrazene...</td>\n",
       "      <td>2021-03-25</td>\n",
       "      <td>Juba — South Sudan on Thursday received 132,00...</td>\n",
       "      <td>The East African (Nairobi)</td>\n",
       "    </tr>\n",
       "    <tr>\n",
       "      <th>5</th>\n",
       "      <td>South Sudan: Adut Akech Fuming After Australia...</td>\n",
       "      <td>2019-08-26</td>\n",
       "      <td>Cape Town — South Sudanese-Australian model Ad...</td>\n",
       "      <td>allAfrica.com</td>\n",
       "    </tr>\n",
       "    <tr>\n",
       "      <th>6</th>\n",
       "      <td>South Sudan: President Salva Kiir Sacks Army C...</td>\n",
       "      <td>2021-04-10</td>\n",
       "      <td>South Sudan President Salva Kiir has appointed...</td>\n",
       "      <td>The Nation (Nairobi)</td>\n",
       "    </tr>\n",
       "    <tr>\n",
       "      <th>7</th>\n",
       "      <td>South Sudan's Arms Embargo Still Crucial for C...</td>\n",
       "      <td>2021-05-26</td>\n",
       "      <td>UN Security Council Should Renew Embargo, Dema...</td>\n",
       "      <td>Human Rights Watch (Washington, DC)</td>\n",
       "    </tr>\n",
       "    <tr>\n",
       "      <th>8</th>\n",
       "      <td>Africa: Pope Francis Prepares for Long-Awaited...</td>\n",
       "      <td>2023-01-18</td>\n",
       "      <td>Rome — Pope Francis is set travel to the Democ...</td>\n",
       "      <td>Voice of America (Washington, DC)</td>\n",
       "    </tr>\n",
       "    <tr>\n",
       "      <th>9</th>\n",
       "      <td>South Sudan: Raila Odinga Offers to Be Mediator</td>\n",
       "      <td>2018-06-06</td>\n",
       "      <td>Former Kenyan Prime Minister Raila Odinga said...</td>\n",
       "      <td>Voice of America (Washington, DC)</td>\n",
       "    </tr>\n",
       "    <tr>\n",
       "      <th>10</th>\n",
       "      <td>South Sudan: Ambassador Yohannes Teklemicael M...</td>\n",
       "      <td>2022-06-18</td>\n",
       "      <td>Asmara — Mr. Yohannes Teklemicael, Eritrean Am...</td>\n",
       "      <td>Shabait.com (Asmara)</td>\n",
       "    </tr>\n",
       "    <tr>\n",
       "      <th>11</th>\n",
       "      <td>South Sudan: Immediate Action to Respond to th...</td>\n",
       "      <td>2022-11-21</td>\n",
       "      <td>El Obeid — The situation of the internally dis...</td>\n",
       "      <td>Fides News Agency (Vatican)</td>\n",
       "    </tr>\n",
       "    <tr>\n",
       "      <th>12</th>\n",
       "      <td>South Sudan: Talks On Sudan-South Sudan Border...</td>\n",
       "      <td>2021-06-18</td>\n",
       "      <td>Khartoum — Deputy Chairman of Sudan's Transiti...</td>\n",
       "      <td>Dabanga (Amsterdam)</td>\n",
       "    </tr>\n",
       "    <tr>\n",
       "      <th>13</th>\n",
       "      <td>South Sudan: With Engineers and Roadway Repair...</td>\n",
       "      <td>2021-08-18</td>\n",
       "      <td>Blue helmets from Thailand working with the UN...</td>\n",
       "      <td>UN News Service</td>\n",
       "    </tr>\n",
       "    <tr>\n",
       "      <th>14</th>\n",
       "      <td>South Sudan: The 'Executioner' Who Would Kill ...</td>\n",
       "      <td>2019-05-05</td>\n",
       "      <td>Reports of torture and killings by South Sudan...</td>\n",
       "      <td>The Nation (Nairobi)</td>\n",
       "    </tr>\n",
       "    <tr>\n",
       "      <th>15</th>\n",
       "      <td>South Sudan: Al-Burhan Concludes Visit to Repu...</td>\n",
       "      <td>2023-01-12</td>\n",
       "      <td>Khartoum — The President of the Transitional S...</td>\n",
       "      <td>Sudan News Agency (Khartoum)</td>\n",
       "    </tr>\n",
       "    <tr>\n",
       "      <th>16</th>\n",
       "      <td>South Sudan: Church and Conflict in South Sudan</td>\n",
       "      <td>2018-07-03</td>\n",
       "      <td>Throughout fifty years of struggles, South Sud...</td>\n",
       "      <td>Inter Press Service</td>\n",
       "    </tr>\n",
       "    <tr>\n",
       "      <th>17</th>\n",
       "      <td>South Sudan: Bishop Warns Delegates Against Sp...</td>\n",
       "      <td>2018-05-22</td>\n",
       "      <td>Addis Ababa — Bishop John Jok Chol of Akobo Di...</td>\n",
       "      <td>Catholic Information Service for Africa (Nairobi)</td>\n",
       "    </tr>\n",
       "    <tr>\n",
       "      <th>18</th>\n",
       "      <td>South Sudan: Rebels to Release Detained Kenyan...</td>\n",
       "      <td>2018-02-18</td>\n",
       "      <td>After more than a month in captivity, two Keny...</td>\n",
       "      <td>The Nation (Nairobi)</td>\n",
       "    </tr>\n",
       "    <tr>\n",
       "      <th>19</th>\n",
       "      <td>South Sudan: Lack of Power Lines Hurts South S...</td>\n",
       "      <td>2019-08-31</td>\n",
       "      <td>South Sudan's chance to be the first major con...</td>\n",
       "      <td>The East African (Nairobi)</td>\n",
       "    </tr>\n",
       "  </tbody>\n",
       "</table>\n",
       "</div>"
      ],
      "text/plain": [
       "                                                title        date  \\\n",
       "0   South Sudan: A Former Child Soldier Fights to ...  2021-02-12   \n",
       "1   South Sudan: #budget2019 - Will It Lead to Mor...  2019-02-21   \n",
       "2   South Sudan: Retired NBA Star Elected Basketba...  2019-11-25   \n",
       "3   South Sudan - Political Violence On the Rise, ...  2022-02-11   \n",
       "4   South Sudan: S. Sudan Receives First Astrazene...  2021-03-25   \n",
       "5   South Sudan: Adut Akech Fuming After Australia...  2019-08-26   \n",
       "6   South Sudan: President Salva Kiir Sacks Army C...  2021-04-10   \n",
       "7   South Sudan's Arms Embargo Still Crucial for C...  2021-05-26   \n",
       "8   Africa: Pope Francis Prepares for Long-Awaited...  2023-01-18   \n",
       "9     South Sudan: Raila Odinga Offers to Be Mediator  2018-06-06   \n",
       "10  South Sudan: Ambassador Yohannes Teklemicael M...  2022-06-18   \n",
       "11  South Sudan: Immediate Action to Respond to th...  2022-11-21   \n",
       "12  South Sudan: Talks On Sudan-South Sudan Border...  2021-06-18   \n",
       "13  South Sudan: With Engineers and Roadway Repair...  2021-08-18   \n",
       "14  South Sudan: The 'Executioner' Who Would Kill ...  2019-05-05   \n",
       "15  South Sudan: Al-Burhan Concludes Visit to Repu...  2023-01-12   \n",
       "16    South Sudan: Church and Conflict in South Sudan  2018-07-03   \n",
       "17  South Sudan: Bishop Warns Delegates Against Sp...  2018-05-22   \n",
       "18  South Sudan: Rebels to Release Detained Kenyan...  2018-02-18   \n",
       "19  South Sudan: Lack of Power Lines Hurts South S...  2019-08-31   \n",
       "\n",
       "                                           paragraphs  \\\n",
       "0   Sara, who was abducted at age 12, spent two ye...   \n",
       "1   Legal claims against the department now amount...   \n",
       "2   Former NBA star Luol Ajou Deng has been electe...   \n",
       "3   UN human rights experts have warned of increas...   \n",
       "4   Juba — South Sudan on Thursday received 132,00...   \n",
       "5   Cape Town — South Sudanese-Australian model Ad...   \n",
       "6   South Sudan President Salva Kiir has appointed...   \n",
       "7   UN Security Council Should Renew Embargo, Dema...   \n",
       "8   Rome — Pope Francis is set travel to the Democ...   \n",
       "9   Former Kenyan Prime Minister Raila Odinga said...   \n",
       "10  Asmara — Mr. Yohannes Teklemicael, Eritrean Am...   \n",
       "11  El Obeid — The situation of the internally dis...   \n",
       "12  Khartoum — Deputy Chairman of Sudan's Transiti...   \n",
       "13  Blue helmets from Thailand working with the UN...   \n",
       "14  Reports of torture and killings by South Sudan...   \n",
       "15  Khartoum — The President of the Transitional S...   \n",
       "16  Throughout fifty years of struggles, South Sud...   \n",
       "17  Addis Ababa — Bishop John Jok Chol of Akobo Di...   \n",
       "18  After more than a month in captivity, two Keny...   \n",
       "19  South Sudan's chance to be the first major con...   \n",
       "\n",
       "                                            publisher  \n",
       "0                 Thomson Reuters Foundation (London)  \n",
       "1                            Bhekisisa (Johannesburg)  \n",
       "2                          The East African (Nairobi)  \n",
       "3                                     UN News Service  \n",
       "4                          The East African (Nairobi)  \n",
       "5                                       allAfrica.com  \n",
       "6                                The Nation (Nairobi)  \n",
       "7                 Human Rights Watch (Washington, DC)  \n",
       "8                   Voice of America (Washington, DC)  \n",
       "9                   Voice of America (Washington, DC)  \n",
       "10                               Shabait.com (Asmara)  \n",
       "11                        Fides News Agency (Vatican)  \n",
       "12                                Dabanga (Amsterdam)  \n",
       "13                                    UN News Service  \n",
       "14                               The Nation (Nairobi)  \n",
       "15                       Sudan News Agency (Khartoum)  \n",
       "16                                Inter Press Service  \n",
       "17  Catholic Information Service for Africa (Nairobi)  \n",
       "18                               The Nation (Nairobi)  \n",
       "19                         The East African (Nairobi)  "
      ]
     },
     "execution_count": 14,
     "metadata": {},
     "output_type": "execute_result"
    }
   ],
   "source": [
    "allafrica = pd.read_csv(\"data/all_africa_southsudan.csv\")\n",
    "allafrica.astype({'title': 'string', 'paragraphs': 'string', 'publisher': 'string', 'date':'datetime64'}).dtypes\n",
    "allafrica.head(20)"
   ]
  },
  {
   "cell_type": "code",
   "execution_count": 15,
   "metadata": {},
   "outputs": [
    {
     "data": {
      "text/html": [
       "<div>\n",
       "<style scoped>\n",
       "    .dataframe tbody tr th:only-of-type {\n",
       "        vertical-align: middle;\n",
       "    }\n",
       "\n",
       "    .dataframe tbody tr th {\n",
       "        vertical-align: top;\n",
       "    }\n",
       "\n",
       "    .dataframe thead th {\n",
       "        text-align: right;\n",
       "    }\n",
       "</style>\n",
       "<table border=\"1\" class=\"dataframe\">\n",
       "  <thead>\n",
       "    <tr style=\"text-align: right;\">\n",
       "      <th></th>\n",
       "      <th>title</th>\n",
       "      <th>date</th>\n",
       "      <th>paragraphs</th>\n",
       "      <th>publisher</th>\n",
       "      <th>on_topic</th>\n",
       "    </tr>\n",
       "  </thead>\n",
       "  <tbody>\n",
       "    <tr>\n",
       "      <th>7</th>\n",
       "      <td>South Sudan's Arms Embargo Still Crucial for C...</td>\n",
       "      <td>2021-05-26</td>\n",
       "      <td>UN Security Council Should Renew Embargo, Dema...</td>\n",
       "      <td>Human Rights Watch (Washington, DC)</td>\n",
       "      <td>True</td>\n",
       "    </tr>\n",
       "    <tr>\n",
       "      <th>11</th>\n",
       "      <td>South Sudan: Immediate Action to Respond to th...</td>\n",
       "      <td>2022-11-21</td>\n",
       "      <td>El Obeid — The situation of the internally dis...</td>\n",
       "      <td>Fides News Agency (Vatican)</td>\n",
       "      <td>True</td>\n",
       "    </tr>\n",
       "    <tr>\n",
       "      <th>20</th>\n",
       "      <td>South Sudan: Warring Parties Use Sexual Violen...</td>\n",
       "      <td>2022-03-18</td>\n",
       "      <td>Excerpts from the report of the United Nations...</td>\n",
       "      <td>allAfrica.com</td>\n",
       "      <td>True</td>\n",
       "    </tr>\n",
       "    <tr>\n",
       "      <th>37</th>\n",
       "      <td>South Sudan: Empowering People With Disabiliti...</td>\n",
       "      <td>2021-12-03</td>\n",
       "      <td>As hunger levels rise in South Sudan, WFP ensu...</td>\n",
       "      <td>United Nations World Food Programme (Rome)</td>\n",
       "      <td>True</td>\n",
       "    </tr>\n",
       "    <tr>\n",
       "      <th>38</th>\n",
       "      <td>South Sudan Sets to Improve Malaria Surveillan...</td>\n",
       "      <td>2018-09-10</td>\n",
       "      <td>Malaria, a disease endemic in South Sudan with...</td>\n",
       "      <td>World Health Organization (Geneva)</td>\n",
       "      <td>True</td>\n",
       "    </tr>\n",
       "    <tr>\n",
       "      <th>...</th>\n",
       "      <td>...</td>\n",
       "      <td>...</td>\n",
       "      <td>...</td>\n",
       "      <td>...</td>\n",
       "      <td>...</td>\n",
       "    </tr>\n",
       "    <tr>\n",
       "      <th>18197</th>\n",
       "      <td>Sudan: NGOs Welcome Ceasefire Agreement in Sou...</td>\n",
       "      <td>2014-01-27</td>\n",
       "      <td>Juba — Any views expressed in this article are...</td>\n",
       "      <td>AlertNet</td>\n",
       "      <td>True</td>\n",
       "    </tr>\n",
       "    <tr>\n",
       "      <th>18202</th>\n",
       "      <td>Africa: Survival Kits Provide Lifeline to Disp...</td>\n",
       "      <td>2015-06-16</td>\n",
       "      <td>Juba — International partners launch joint eff...</td>\n",
       "      <td>Food and Agriculture Organization of the Unite...</td>\n",
       "      <td>True</td>\n",
       "    </tr>\n",
       "    <tr>\n",
       "      <th>18205</th>\n",
       "      <td>East Africa: Pastoralists Move to North Uganda...</td>\n",
       "      <td>2017-02-20</td>\n",
       "      <td>As Uganda grapples with food insecurity, which...</td>\n",
       "      <td>The East African (Nairobi)</td>\n",
       "      <td>True</td>\n",
       "    </tr>\n",
       "    <tr>\n",
       "      <th>18217</th>\n",
       "      <td>South Sudan: UNHCR Highlights Urgency of Need ...</td>\n",
       "      <td>2014-03-07</td>\n",
       "      <td>This is a summary of what was said by UNHCR sp...</td>\n",
       "      <td>United Nations High Commissioner for Refugees</td>\n",
       "      <td>True</td>\n",
       "    </tr>\n",
       "    <tr>\n",
       "      <th>18221</th>\n",
       "      <td>South Sudan: A Fantasy of Finality - the UN Im...</td>\n",
       "      <td>2020-09-23</td>\n",
       "      <td>Debating Ideas is a new section that aims to r...</td>\n",
       "      <td>African Arguments</td>\n",
       "      <td>True</td>\n",
       "    </tr>\n",
       "  </tbody>\n",
       "</table>\n",
       "<p>2865 rows × 5 columns</p>\n",
       "</div>"
      ],
      "text/plain": [
       "                                                   title        date  \\\n",
       "7      South Sudan's Arms Embargo Still Crucial for C...  2021-05-26   \n",
       "11     South Sudan: Immediate Action to Respond to th...  2022-11-21   \n",
       "20     South Sudan: Warring Parties Use Sexual Violen...  2022-03-18   \n",
       "37     South Sudan: Empowering People With Disabiliti...  2021-12-03   \n",
       "38     South Sudan Sets to Improve Malaria Surveillan...  2018-09-10   \n",
       "...                                                  ...         ...   \n",
       "18197  Sudan: NGOs Welcome Ceasefire Agreement in Sou...  2014-01-27   \n",
       "18202  Africa: Survival Kits Provide Lifeline to Disp...  2015-06-16   \n",
       "18205  East Africa: Pastoralists Move to North Uganda...  2017-02-20   \n",
       "18217  South Sudan: UNHCR Highlights Urgency of Need ...  2014-03-07   \n",
       "18221  South Sudan: A Fantasy of Finality - the UN Im...  2020-09-23   \n",
       "\n",
       "                                              paragraphs  \\\n",
       "7      UN Security Council Should Renew Embargo, Dema...   \n",
       "11     El Obeid — The situation of the internally dis...   \n",
       "20     Excerpts from the report of the United Nations...   \n",
       "37     As hunger levels rise in South Sudan, WFP ensu...   \n",
       "38     Malaria, a disease endemic in South Sudan with...   \n",
       "...                                                  ...   \n",
       "18197  Juba — Any views expressed in this article are...   \n",
       "18202  Juba — International partners launch joint eff...   \n",
       "18205  As Uganda grapples with food insecurity, which...   \n",
       "18217  This is a summary of what was said by UNHCR sp...   \n",
       "18221  Debating Ideas is a new section that aims to r...   \n",
       "\n",
       "                                               publisher  on_topic  \n",
       "7                    Human Rights Watch (Washington, DC)      True  \n",
       "11                           Fides News Agency (Vatican)      True  \n",
       "20                                         allAfrica.com      True  \n",
       "37            United Nations World Food Programme (Rome)      True  \n",
       "38                    World Health Organization (Geneva)      True  \n",
       "...                                                  ...       ...  \n",
       "18197                                           AlertNet      True  \n",
       "18202  Food and Agriculture Organization of the Unite...      True  \n",
       "18205                         The East African (Nairobi)      True  \n",
       "18217      United Nations High Commissioner for Refugees      True  \n",
       "18221                                  African Arguments      True  \n",
       "\n",
       "[2865 rows x 5 columns]"
      ]
     },
     "execution_count": 15,
     "metadata": {},
     "output_type": "execute_result"
    }
   ],
   "source": [
    "keywords = ['Hunger', 'Crisis', 'Food Insecurity', 'Looting', 'Rainfall', 'Flee', 'Corruption', 'Displaced', 'Livestock', 'Farmland', 'War', 'Coup', 'Corrupt', 'Self-reliance', 'Dehydrated', 'Disaster', 'Donations', 'Economic Crisis', 'Droughts', 'Floods', 'Malnourished', 'Harvest', 'Inflation', 'Stolen Food Aid', 'Food', 'Climate Change', 'Starvation']\n",
    "allafrica['on_topic'] = allafrica['paragraphs'].apply(lambda x, a=keywords: next((True for k in a if k in x), False))\n",
    "allafrica[allafrica['on_topic']==True]"
   ]
  },
  {
   "cell_type": "code",
   "execution_count": 16,
   "metadata": {},
   "outputs": [
    {
     "data": {
      "text/plain": [
       "array(['000', '10', '100', '14', '15', '19', '20', '200', '2011', '2012',\n",
       "       '2013', '2014', '2015', '30', '40', '50', '500', 'ababa',\n",
       "       'abducted', 'abraham', 'abuse', 'abuses', 'abyei', 'access',\n",
       "       'accord', 'accountability', 'accusations', 'accuse', 'accused',\n",
       "       'accuses', 'act', 'action', 'activist', 'activists', 'addis',\n",
       "       'additional', 'address', 'administration', 'admits', 'afdb',\n",
       "       'affairs', 'affected', 'affirms', 'africa', 'african', 'agencies',\n",
       "       'agency', 'aggression', 'agree', 'agreement', 'agreements',\n",
       "       'agrees', 'agriculture', 'ahead', 'aid', 'air', 'airport', 'akol',\n",
       "       'al', 'allegations', 'alleged', 'ambassador', 'ambush', 'amid',\n",
       "       'amnesty', 'amum', 'analysis', 'angola', 'anniversary',\n",
       "       'announces', 'anti', 'appeal', 'appeals', 'appointed',\n",
       "       'appointment', 'appoints', 'approves', 'archbishop', 'area',\n",
       "       'areas', 'armed', 'arms', 'army', 'arrest', 'arrested', 'arrests',\n",
       "       'arrive', 'arrives', 'asks', 'assembly', 'assistance',\n",
       "       'association', 'athor', 'atrocities', 'attack', 'attacks',\n",
       "       'attempt', 'attend', 'au', 'august', 'austerity', 'australia',\n",
       "       'authorities', 'avoid', 'aweil', 'backs', 'bad', 'bahr', 'ban',\n",
       "       'bank', 'base', 'bashir', 'battle', 'begin', 'begins', 'bentiu',\n",
       "       'better', 'bid', 'big', 'bilateral', 'billion', 'bishop', 'blame',\n",
       "       'blames', 'blue', 'body', 'bombing', 'bombs', 'boost', 'bor',\n",
       "       'border', 'borders', 'boss', 'boycott', 'briefing', 'bring',\n",
       "       'british', 'budget', 'buhari', 'build', 'building', 'burundi',\n",
       "       'business', 'cabinet', 'calls', 'calm', 'camp', 'campaign',\n",
       "       'camps', 'canada', 'capacity', 'capital', 'car', 'care', 'case',\n",
       "       'cases', 'cattle', 'cease', 'ceasefire', 'celebrate',\n",
       "       'celebrations', 'central', 'centre', 'cessation', 'chairman',\n",
       "       'chairperson', 'challenge', 'challenges', 'change', 'charges',\n",
       "       'chief', 'child', 'children', 'china', 'chinese', 'cholera',\n",
       "       'church', 'citizen', 'citizens', 'city', 'civil', 'civilian',\n",
       "       'civilians', 'claim', 'claims', 'clash', 'clashes', 'clinton',\n",
       "       'close', 'closure', 'collapse', 'commander', 'commends',\n",
       "       'commission', 'commissioner', 'commitment', 'committed',\n",
       "       'committee', 'communities', 'community', 'companies', 'company',\n",
       "       'compound', 'concern', 'concerned', 'concerns', 'concludes',\n",
       "       'condemn', 'condemns', 'conditions', 'conference', 'confirms',\n",
       "       'conflict', 'conflicts', 'congo', 'congratulates', 'constitution',\n",
       "       'constitutional', 'construction', 'continue', 'continued',\n",
       "       'continues', 'control', 'cooperation', 'coordinator', 'corridor',\n",
       "       'corruption', 'council', 'countries', 'country', 'county', 'coup',\n",
       "       'court', 'covid', 'crimes', 'crises', 'crisis', 'critical',\n",
       "       'cross', 'cup', 'currency', 'current', 'cut', 'daily', 'darfur',\n",
       "       'david', 'day', 'days', 'dc', 'dead', 'deadline', 'deadly', 'deal',\n",
       "       'death', 'deaths', 'debate', 'decision', 'declaration', 'declares',\n",
       "       'defence', 'defense', 'delay', 'delayed', 'delegation', 'demand',\n",
       "       'demands', 'demarcation', 'democracy', 'democratic', 'deng',\n",
       "       'denies', 'deny', 'department', 'deploy', 'deployment', 'deploys',\n",
       "       'dept', 'deputy', 'despite', 'detained', 'detainees', 'detention',\n",
       "       'development', 'dialogue', 'diaspora', 'die', 'dies', 'dinka',\n",
       "       'diplomat', 'diplomatic', 'disarmament', 'discuss', 'discusses',\n",
       "       'disease', 'dismisses', 'displaced', 'displacement', 'dispute',\n",
       "       'disputed', 'disputes', 'does', 'don', 'donates', 'donors',\n",
       "       'downplays', 'dr', 'eac', 'east', 'eastern', 'ebola', 'economic',\n",
       "       'economy', 'education', 'efforts', 'egypt', 'el', 'election',\n",
       "       'elections', 'embargo', 'embassy', 'emergency', 'end', 'ending',\n",
       "       'enter', 'envoy', 'envoys', 'equatoria', 'eritrea', 'establish',\n",
       "       'ethiopia', 'ethiopian', 'ethnic', 'eu', 'ex', 'executive',\n",
       "       'experts', 'exports', 'expresses', 'extends', 'eyes', 'face',\n",
       "       'faces', 'facing', 'factions', 'fail', 'failed', 'failing',\n",
       "       'failure', 'families', 'family', 'famine', 'farmers', 'fear',\n",
       "       'fears', 'federal', 'federalism', 'fees', 'fight', 'fighting',\n",
       "       'final', 'finance', 'financial', 'flee', 'fleeing', 'flights',\n",
       "       'flood', 'flooding', 'floods', 'fm', 'following', 'food',\n",
       "       'football', 'force', 'forced', 'forces', 'foreign', 'form',\n",
       "       'formation', 'forms', 'forum', 'forward', 'fragile', 'free',\n",
       "       'freedom', 'fresh', 'fuel', 'fund', 'funding', 'funds', 'future',\n",
       "       'gambia', 'garang', 'gen', 'gender', 'general', 'genocide', 'gets',\n",
       "       'ghazal', 'girls', 'gives', 'global', 'good', 'gov', 'governance',\n",
       "       'government', 'governor', 'governors', 'govt', 'grant', 'greater',\n",
       "       'group', 'groups', 'gunmen', 'hails', 'hand', 'hands', 'hard',\n",
       "       'head', 'heads', 'health', 'heavy', 'heglig', 'held', 'helicopter',\n",
       "       'help', 'helps', 'high', 'higher', 'highlights', 'history', 'hit',\n",
       "       'hits', 'hiv', 'hold', 'holds', 'home', 'hope', 'hopes',\n",
       "       'hospital', 'host', 'hostilities', 'hosts', 'house', 'human',\n",
       "       'humanitarian', 'hundreds', 'hunger', 'icc', 'idps', 'igad',\n",
       "       'igga', 'illegal', 'immediate', 'implement', 'implementation',\n",
       "       'improve', 'increase', 'increases', 'independence', 'independent',\n",
       "       'influx', 'information', 'initiative', 'injured', 'inquiry',\n",
       "       'insecurity', 'inside', 'inter', 'interim', 'interior',\n",
       "       'international', 'intervention', 'investigate', 'investigation',\n",
       "       'investment', 'involvement', 'iom', 'isaiah', 'israel', 'issue',\n",
       "       'issues', 'japan', 'jem', 'john', 'join', 'joins', 'joint',\n",
       "       'jonglei', 'journalist', 'journalists', 'juba', 'just', 'justice',\n",
       "       'kenya', 'kenyan', 'kenyans', 'kenyatta', 'kerry', 'key',\n",
       "       'khartoum', 'kicks', 'kiir', 'kill', 'killed', 'killing',\n",
       "       'killings', 'kills', 'kirr', 'kony', 'kordofan', 'labour', 'lack',\n",
       "       'lakes', 'land', 'lasting', 'latest', 'lauds', 'launch',\n",
       "       'launched', 'launches', 'law', 'lawmakers', 'lead', 'leader',\n",
       "       'leaders', 'leadership', 'league', 'leave', 'leaves', 'led',\n",
       "       'legal', 'lessons', 'let', 'letter', 'level', 'liberation', 'life',\n",
       "       'like', 'lives', 'living', 'local', 'long', 'looming', 'looms',\n",
       "       'lost', 'lou', 'lra', 'lt', 'machar', 'major', 'make', 'makes',\n",
       "       'making', 'malakal', 'malaria', 'malnutrition', 'man',\n",
       "       'management', 'mandate', 'market', 'marks', 'mass', 'massacre',\n",
       "       'massive', 'mayardit', 'mbeki', 'measures', 'media', 'mediate',\n",
       "       'mediation', 'mediators', 'medical', 'meet', 'meeting', 'meets',\n",
       "       'member', 'members', 'membership', 'message', 'military',\n",
       "       'militia', 'militias', 'million', 'millions', 'minister',\n",
       "       'ministers', 'ministry', 'missing', 'mission', 'money', 'month',\n",
       "       'months', 'mou', 'movement', 'mp', 'mps', 'mr', 'msf', 'murder',\n",
       "       'murle', 'museveni', 'nairobi', 'names', 'nation', 'national',\n",
       "       'nationals', 'nations', 'ncp', 'near', 'need', 'needed', 'needs',\n",
       "       'negotiations', 'new', 'news', 'newspaper', 'nigeria', 'nile',\n",
       "       'non', 'north', 'northern', 'nuer', 'number', 'obama', 'ocha',\n",
       "       'offers', 'office', 'officer', 'officers', 'official', 'officials',\n",
       "       'oil', 'old', 'ongoing', 'open', 'opens', 'operation',\n",
       "       'operations', 'opposition', 'order', 'orders', 'outbreak', 'oxfam',\n",
       "       'pact', 'pagan', 'panel', 'parliament', 'parliamentary', 'parties',\n",
       "       'partners', 'party', 'passes', 'pay', 'peace', 'peaceful',\n",
       "       'peacekeepers', 'peacekeeping', 'penalty', 'people', 'percent',\n",
       "       'personnel', 'pibor', 'pipeline', 'place', 'plan', 'plane',\n",
       "       'plans', 'pledges', 'pm', 'point', 'police', 'policy', 'polio',\n",
       "       'political', 'politicians', 'politics', 'port', 'position',\n",
       "       'positions', 'positive', 'possible', 'post', 'power', 'prepare',\n",
       "       'presence', 'presidency', 'president', 'presidential',\n",
       "       'presidents', 'press', 'pressure', 'prevent', 'prices', 'prime',\n",
       "       'private', 'probe', 'problem', 'problems', 'process', 'production',\n",
       "       'progress', 'project', 'projects', 'promote', 'proposal',\n",
       "       'proposed', 'proposes', 'protect', 'protection', 'protest',\n",
       "       'protests', 'provide', 'provides', 'public', 'push', 'radio',\n",
       "       'raid', 'rains', 'ramaphosa', 'rape', 'reach', 'reached',\n",
       "       'reaches', 'ready', 'rebel', 'rebellion', 'rebels', 'receive',\n",
       "       'receives', 'recent', 'reconciliation', 'red', 'reduce',\n",
       "       'referendum', 'reform', 'refugee', 'refugees', 'regime', 'region',\n",
       "       'regional', 'reiterates', 'reject', 'rejects', 'relations',\n",
       "       'release', 'released', 'releases', 'relief', 'relocation',\n",
       "       'remain', 'remains', 'renewed', 'renews', 'report', 'reports',\n",
       "       'representative', 'republic', 'residents', 'resignation',\n",
       "       'resolution', 'resolve', 'resources', 'respect', 'response',\n",
       "       'responsible', 'resume', 'resumes', 'resumption', 'return',\n",
       "       'returnees', 'returns', 'revenge', 'review', 'rice', 'riek',\n",
       "       'right', 'rights', 'rise', 'rising', 'risk', 'risks', 'rival',\n",
       "       'rivals', 'river', 'road', 'roads', 'role', 'round', 'row', 'rss',\n",
       "       'ruling', 'rumbek', 'run', 'rwanda', 'rwandan', 'sa', 'sacks',\n",
       "       'saf', 'safe', 'safety', 'salva', 'sanctions', 'save', 'say',\n",
       "       'says', 'scale', 'school', 'season', 'secession', 'second',\n",
       "       'secretary', 'sector', 'security', 'seek', 'seeking', 'seeks',\n",
       "       'self', 'send', 'sends', 'senior', 'service', 'services', 'set',\n",
       "       'sets', 'seven', 'sexual', 'sharing', 'shortages', 'shot',\n",
       "       'shutdown', 'sides', 'sign', 'signed', 'signing', 'signs', 'site',\n",
       "       'situation', 'slams', 'society', 'soldiers', 'solution', 'somalia',\n",
       "       'soon', 'south', 'southern', 'speaker', 'special', 'spla', 'split',\n",
       "       'splm', 'spokesperson', 'spread', 'stability', 'staff', 'stage',\n",
       "       'start', 'starts', 'state', 'statement', 'states', 'status',\n",
       "       'step', 'steps', 'stop', 'story', 'stranded', 'strategic',\n",
       "       'strategy', 'strengthen', 'strike', 'struggle', 'students',\n",
       "       'sudan', 'sudanese', 'sudans', 'suffering', 'summit', 'supplies',\n",
       "       'support', 'supporting', 'supports', 'suspected', 'suspends',\n",
       "       'sworn', 'takes', 'taking', 'talk', 'talks', 'tanzania',\n",
       "       'targeted', 'tax', 'teachers', 'team', 'tells', 'tension',\n",
       "       'tensions', 'territory', 'test', 'thousands', 'threat', 'threaten',\n",
       "       'threatens', 'threats', 'ties', 'time', 'today', 'told', 'town',\n",
       "       'trade', 'traders', 'training', 'transitional', 'travel',\n",
       "       'treatment', 'tribal', 'tribalism', 'troika', 'troops', 'truce',\n",
       "       'twic', 'uganda', 'ugandan', 'ugandans', 'uhuru', 'uk',\n",
       "       'undersecretary', 'unhcr', 'unicef', 'union', 'united', 'unity',\n",
       "       'university', 'unmiss', 'unrest', 'unsc', 'updf', 'upper', 'urge',\n",
       "       'urged', 'urgent', 'urges', 'usa', 'use', 'vaccination', 'vice',\n",
       "       'victims', 'violations', 'violence', 'vision', 'visit', 'visits',\n",
       "       'voices', 'vote', 'vows', 'vp', 'vulnerable', 'wani', 'want',\n",
       "       'wants', 'war', 'warn', 'warns', 'warrap', 'warring', 'washington',\n",
       "       'water', 'wau', 'way', 'weapons', 'week', 'weeks', 'welcome',\n",
       "       'welcomes', 'west', 'western', 'wfp', 'white', 'withdraw',\n",
       "       'withdrawal', 'woman', 'women', 'work', 'worker', 'workers',\n",
       "       'working', 'workshop', 'world', 'worsening', 'wounded', 'yau',\n",
       "       'year', 'years', 'yei', 'yida', 'young', 'youth', 'youths',\n",
       "       'zimbabwe', 'zone'], dtype=object)"
      ]
     },
     "execution_count": 16,
     "metadata": {},
     "output_type": "execute_result"
    }
   ],
   "source": [
    "from sklearn.feature_extraction.text import CountVectorizer\n",
    "\n",
    "corpus = allafrica['title'].values.tolist()\n",
    "\n",
    "vectorizer = CountVectorizer(stop_words='english', min_df=20)\n",
    "X = vectorizer.fit_transform(corpus)\n",
    "vectorizer.get_feature_names_out()\n",
    "\n",
    "\n"
   ]
  },
  {
   "cell_type": "code",
   "execution_count": 17,
   "metadata": {},
   "outputs": [
    {
     "data": {
      "text/plain": [
       "array([[0, 0, 0, ..., 0, 0, 0],\n",
       "       [0, 0, 0, ..., 0, 0, 0],\n",
       "       [0, 0, 0, ..., 0, 0, 0],\n",
       "       ...,\n",
       "       [0, 0, 0, ..., 0, 0, 0],\n",
       "       [0, 0, 0, ..., 0, 0, 0],\n",
       "       [0, 0, 0, ..., 0, 0, 0]], dtype=int64)"
      ]
     },
     "execution_count": 17,
     "metadata": {},
     "output_type": "execute_result"
    }
   ],
   "source": [
    "X.toarray()"
   ]
  },
  {
   "cell_type": "code",
   "execution_count": 18,
   "metadata": {},
   "outputs": [],
   "source": [
    "from numbers import Number\n",
    "\n",
    "cleaned_list = [value for value in vectorizer.get_feature_names_out() if not isinstance(value, Number)]"
   ]
  },
  {
   "cell_type": "code",
   "execution_count": 19,
   "metadata": {},
   "outputs": [
    {
     "name": "stdout",
     "output_type": "stream",
     "text": [
      "[[  218    48    50    31    38   110    36    29    29    39    30    43\n",
      "     47    30    22    30    29    91    20    33    21    42   341    56\n",
      "     25    26    24    50    41   134    41    72    21    33   118    22\n",
      "     45    32    27    20    44    36    29  1426   303    63    66    20\n",
      "     83   277    67    23    48    72   330    53    25    20   139    25\n",
      "     45   121    21   135    35    32    20    30    74    53    50    47\n",
      "     54    29    27    62    40    26    56    76    83    75   356    67\n",
      "     42    26    47    73    40    57    91    22    24    38   194   139\n",
      "     32    35   258    20    20    20    43    22    24    44    24   158\n",
      "     96   111    43   263    26    33    39    59    27    20    22    28\n",
      "     60    40    31    36    44    39    25    23    45   125   262    34\n",
      "     29    20    52    38    28    48    21    39    54    35    43    98\n",
      "    436    27   104    61    84    22    21    81    23    29    56    40\n",
      "     59    40   140    30    28   129    26    29    28    32    23    61\n",
      "     47    25   280   128   195   129    44    68    64    31   112    26\n",
      "    134    36   204    45    77    35   123    21    26    24    21    35\n",
      "     20    97    64    48    49   113    42   226    26    32    22    47\n",
      "     52    23    31    29   190    42    99    33   435    36    38    22\n",
      "     47    21    23    67    20    76    54   101    20    22    96   295\n",
      "     56   459   128    67    81   105    63    28   345    30    53    21\n",
      "     32    37    22    37   204    21   123    48    37    90    32    45\n",
      "    313    92    23    28    64    26    38    39    27    35    24    81\n",
      "     59    79    20    43    20    44   146    35    42    30    32    21\n",
      "     20   114    71    43    67    26   114    79    43    21    22    50\n",
      "     29    31    45    96    26    25    35   153    30    50    28    23\n",
      "     32    33    41    25    25   131    92   691    25    26    91    29\n",
      "     92    94   160   178    25    43    46    33    67   227    22    21\n",
      "    188    24   125    46    35   416    49    74    62    76    27    26\n",
      "     20    30    41    20    88    43    31    32    31    40    20    40\n",
      "     34    37    85    20    41    38    29    48    22    71   274    23\n",
      "     46    32    82    38    25    28    25    31    39    29   247    24\n",
      "    105    32   149   183    41    28    27    41    26    23    50    35\n",
      "     86    24    29    42    40    58    34    36    37    26   140    38\n",
      "     31   163    49    36    54    38    30    25   532   219    35   443\n",
      "     25    57   131    69    27    25    22    23    26    54    35   143\n",
      "     30    64    42    20   124    21    94    23    23    26    49    36\n",
      "     26    79    60    74    59    28    29    32    55    23    39   193\n",
      "    297    43    84    33    45   236    25    25    44    39    57    39\n",
      "     32    22   214    32    30    60    39    44    26    71    24    28\n",
      "     43    40   161    37    24    29    35    31    22    30    27    40\n",
      "    100    34    23    28    79    48   113   459    58    63  1035    24\n",
      "    112   627    72    52    53    40    48   515    27  1039    46   260\n",
      "    113    56    45    28    29    67    20    44   177    47    27    38\n",
      "     24    38    25   105    47    23    26   186   343    82    29    51\n",
      "     45    29    20    22    38    91    41    26    55    23    42    26\n",
      "     81    41    23    35    20    30    35    21   386    39    38    20\n",
      "     27    75    27    23    23    22    49    40    21    31    22    30\n",
      "     25    29    36    90    20    56    22    30   104   158   153    45\n",
      "     61    31    50   152    31    20   252    20   451    98   161    43\n",
      "    172    34    24    35    21    33    44    75    38    74    25    41\n",
      "     84    39    21   393   218    27    54    25    24    97    43    90\n",
      "     74   580    29    22   105   227    23   137    46   116    34    62\n",
      "     21    26    43    22    53   233   141   475    30    51    81    42\n",
      "     38    47   179    34    61    57    26    33    23    23   171    23\n",
      "    144    60    89    42    34  1236    50   123    94    20   290    41\n",
      "     22    56    58    20    70    28    41    80    33    26   200    31\n",
      "     29   192    23    49    28    34    20    27    23    59    76    20\n",
      "     27    26   969    56    28   128    36    25    24    28    24    30\n",
      "     32    21   114    63    86    66    25    20    45    23    22    58\n",
      "     77    29    32    22    21    68    29    37    36    22    26    38\n",
      "     58    21    23    72   242    32   512    33    98    38    80    32\n",
      "     20    42    31   178   431    29    69   108    28    31    60   109\n",
      "    113    35    23    65    29    25    30    36    32   185    63    29\n",
      "    123    26    21    58    49    22    31   120    20    87    29    28\n",
      "    115    46    40    26    62    26    91    43   281    50    22    53\n",
      "     23    45    47    28    78    20    69    25    30    62    28    45\n",
      "     20   142    24    22    26    50    24    39   206   127    29   101\n",
      "    537    21    62    24    20    53    96    43   576    43    23    75\n",
      "     22    36    26    54    57    40    72    21    36    38    26    22\n",
      "     26    26    27   126    33    30    37    21   154    25    77   125\n",
      "     57    64    31 19060    50    48    86   174    31   299    48    20\n",
      "     30    71    20    50    26   877   145   140    24    40    24    90\n",
      "     22    21    21    25    24    34    40    92 21991   892    82    25\n",
      "    126    21   304    29    41    21    25    20    35    22    21   544\n",
      "     83    29    21    24    65    91    25    36    21    24   119    43\n",
      "     37    79    22    49    81    32    22    79    94    57    40    49\n",
      "     27    24    45    31    22   147    21    37   790    98    25    41\n",
      "     52    21   137    66   144    61   293    54    79    21    50    40\n",
      "    132    46    52    56   343    24    38    26    75    39    44   389\n",
      "     21   189    78    21    23    68    99    21    23    44    44   370\n",
      "     37   197    68    73    22    77    86    49    35    47    22    38\n",
      "    170    38    66    91    31    36    45    31   152    72    21    94\n",
      "     38    23   153    25    27    62    98    57    20    22    27   160\n",
      "     20    44    28]]\n"
     ]
    }
   ],
   "source": [
    "sum_of_words = np.sum(X, axis=0)\n",
    "print(sum_of_words)\n"
   ]
  },
  {
   "cell_type": "code",
   "execution_count": 20,
   "metadata": {},
   "outputs": [
    {
     "data": {
      "text/html": [
       "<div>\n",
       "<style scoped>\n",
       "    .dataframe tbody tr th:only-of-type {\n",
       "        vertical-align: middle;\n",
       "    }\n",
       "\n",
       "    .dataframe tbody tr th {\n",
       "        vertical-align: top;\n",
       "    }\n",
       "\n",
       "    .dataframe thead th {\n",
       "        text-align: right;\n",
       "    }\n",
       "</style>\n",
       "<table border=\"1\" class=\"dataframe\">\n",
       "  <thead>\n",
       "    <tr style=\"text-align: right;\">\n",
       "      <th></th>\n",
       "      <th>word</th>\n",
       "      <th>count</th>\n",
       "    </tr>\n",
       "  </thead>\n",
       "  <tbody>\n",
       "    <tr>\n",
       "      <th>0</th>\n",
       "      <td>000</td>\n",
       "      <td>218</td>\n",
       "    </tr>\n",
       "    <tr>\n",
       "      <th>1</th>\n",
       "      <td>10</td>\n",
       "      <td>48</td>\n",
       "    </tr>\n",
       "    <tr>\n",
       "      <th>2</th>\n",
       "      <td>100</td>\n",
       "      <td>50</td>\n",
       "    </tr>\n",
       "    <tr>\n",
       "      <th>3</th>\n",
       "      <td>14</td>\n",
       "      <td>31</td>\n",
       "    </tr>\n",
       "    <tr>\n",
       "      <th>4</th>\n",
       "      <td>15</td>\n",
       "      <td>38</td>\n",
       "    </tr>\n",
       "  </tbody>\n",
       "</table>\n",
       "</div>"
      ],
      "text/plain": [
       "  word  count\n",
       "0  000    218\n",
       "1   10     48\n",
       "2  100     50\n",
       "3   14     31\n",
       "4   15     38"
      ]
     },
     "execution_count": 20,
     "metadata": {},
     "output_type": "execute_result"
    }
   ],
   "source": [
    "data_count = sum_of_words.tolist()[0]\n",
    "word_count = zip(vectorizer.get_feature_names_out(), data_count)\n",
    "dfh = pd.DataFrame(word_count, columns=['word', 'count'])\n",
    "\n",
    "dfh.head()"
   ]
  },
  {
   "cell_type": "code",
   "execution_count": 21,
   "metadata": {},
   "outputs": [
    {
     "data": {
      "application/vnd.plotly.v1+json": {
       "config": {
        "plotlyServerURL": "https://plot.ly"
       },
       "data": [
        {
         "alignmentgroup": "True",
         "hovertemplate": "word=%{x}<br>count=%{y}<extra></extra>",
         "legendgroup": "",
         "marker": {
          "color": "#636efa",
          "pattern": {
           "shape": ""
          }
         },
         "name": "",
         "offsetgroup": "",
         "orientation": "v",
         "showlegend": false,
         "textposition": "auto",
         "type": "bar",
         "x": [
          "000",
          "abyei",
          "africa",
          "african",
          "agreement",
          "aid",
          "army",
          "au",
          "bashir",
          "border",
          "calls",
          "chief",
          "civilians",
          "community",
          "conflict",
          "council",
          "country",
          "crisis",
          "darfur",
          "deal",
          "east",
          "end",
          "ethiopia",
          "fighting",
          "food",
          "government",
          "governor",
          "govt",
          "humanitarian",
          "igad",
          "independence",
          "jonglei",
          "juba",
          "kenya",
          "khartoum",
          "kiir",
          "killed",
          "leaders",
          "machar",
          "million",
          "minister",
          "nation",
          "national",
          "new",
          "nile",
          "official",
          "oil",
          "peace",
          "people",
          "police",
          "president",
          "rebel",
          "rebels",
          "refugees",
          "rights",
          "salva",
          "says",
          "security",
          "south",
          "splm",
          "state",
          "sudan",
          "sudanese",
          "support",
          "talks",
          "uganda",
          "unity",
          "urges",
          "violence",
          "war"
         ],
         "xaxis": "x",
         "y": [
          218,
          341,
          1426,
          303,
          277,
          330,
          356,
          258,
          263,
          262,
          436,
          280,
          204,
          226,
          435,
          295,
          459,
          345,
          204,
          313,
          691,
          227,
          416,
          274,
          247,
          532,
          219,
          443,
          297,
          236,
          214,
          459,
          1035,
          627,
          515,
          1039,
          260,
          343,
          386,
          252,
          451,
          393,
          218,
          580,
          227,
          233,
          475,
          1236,
          290,
          200,
          969,
          242,
          512,
          431,
          281,
          206,
          537,
          576,
          19060,
          299,
          877,
          21991,
          892,
          304,
          544,
          790,
          293,
          343,
          389,
          370
         ],
         "yaxis": "y"
        }
       ],
       "layout": {
        "barmode": "relative",
        "legend": {
         "tracegroupgap": 0
        },
        "template": {
         "data": {
          "bar": [
           {
            "error_x": {
             "color": "#2a3f5f"
            },
            "error_y": {
             "color": "#2a3f5f"
            },
            "marker": {
             "line": {
              "color": "#E5ECF6",
              "width": 0.5
             },
             "pattern": {
              "fillmode": "overlay",
              "size": 10,
              "solidity": 0.2
             }
            },
            "type": "bar"
           }
          ],
          "barpolar": [
           {
            "marker": {
             "line": {
              "color": "#E5ECF6",
              "width": 0.5
             },
             "pattern": {
              "fillmode": "overlay",
              "size": 10,
              "solidity": 0.2
             }
            },
            "type": "barpolar"
           }
          ],
          "carpet": [
           {
            "aaxis": {
             "endlinecolor": "#2a3f5f",
             "gridcolor": "white",
             "linecolor": "white",
             "minorgridcolor": "white",
             "startlinecolor": "#2a3f5f"
            },
            "baxis": {
             "endlinecolor": "#2a3f5f",
             "gridcolor": "white",
             "linecolor": "white",
             "minorgridcolor": "white",
             "startlinecolor": "#2a3f5f"
            },
            "type": "carpet"
           }
          ],
          "choropleth": [
           {
            "colorbar": {
             "outlinewidth": 0,
             "ticks": ""
            },
            "type": "choropleth"
           }
          ],
          "contour": [
           {
            "colorbar": {
             "outlinewidth": 0,
             "ticks": ""
            },
            "colorscale": [
             [
              0,
              "#0d0887"
             ],
             [
              0.1111111111111111,
              "#46039f"
             ],
             [
              0.2222222222222222,
              "#7201a8"
             ],
             [
              0.3333333333333333,
              "#9c179e"
             ],
             [
              0.4444444444444444,
              "#bd3786"
             ],
             [
              0.5555555555555556,
              "#d8576b"
             ],
             [
              0.6666666666666666,
              "#ed7953"
             ],
             [
              0.7777777777777778,
              "#fb9f3a"
             ],
             [
              0.8888888888888888,
              "#fdca26"
             ],
             [
              1,
              "#f0f921"
             ]
            ],
            "type": "contour"
           }
          ],
          "contourcarpet": [
           {
            "colorbar": {
             "outlinewidth": 0,
             "ticks": ""
            },
            "type": "contourcarpet"
           }
          ],
          "heatmap": [
           {
            "colorbar": {
             "outlinewidth": 0,
             "ticks": ""
            },
            "colorscale": [
             [
              0,
              "#0d0887"
             ],
             [
              0.1111111111111111,
              "#46039f"
             ],
             [
              0.2222222222222222,
              "#7201a8"
             ],
             [
              0.3333333333333333,
              "#9c179e"
             ],
             [
              0.4444444444444444,
              "#bd3786"
             ],
             [
              0.5555555555555556,
              "#d8576b"
             ],
             [
              0.6666666666666666,
              "#ed7953"
             ],
             [
              0.7777777777777778,
              "#fb9f3a"
             ],
             [
              0.8888888888888888,
              "#fdca26"
             ],
             [
              1,
              "#f0f921"
             ]
            ],
            "type": "heatmap"
           }
          ],
          "heatmapgl": [
           {
            "colorbar": {
             "outlinewidth": 0,
             "ticks": ""
            },
            "colorscale": [
             [
              0,
              "#0d0887"
             ],
             [
              0.1111111111111111,
              "#46039f"
             ],
             [
              0.2222222222222222,
              "#7201a8"
             ],
             [
              0.3333333333333333,
              "#9c179e"
             ],
             [
              0.4444444444444444,
              "#bd3786"
             ],
             [
              0.5555555555555556,
              "#d8576b"
             ],
             [
              0.6666666666666666,
              "#ed7953"
             ],
             [
              0.7777777777777778,
              "#fb9f3a"
             ],
             [
              0.8888888888888888,
              "#fdca26"
             ],
             [
              1,
              "#f0f921"
             ]
            ],
            "type": "heatmapgl"
           }
          ],
          "histogram": [
           {
            "marker": {
             "pattern": {
              "fillmode": "overlay",
              "size": 10,
              "solidity": 0.2
             }
            },
            "type": "histogram"
           }
          ],
          "histogram2d": [
           {
            "colorbar": {
             "outlinewidth": 0,
             "ticks": ""
            },
            "colorscale": [
             [
              0,
              "#0d0887"
             ],
             [
              0.1111111111111111,
              "#46039f"
             ],
             [
              0.2222222222222222,
              "#7201a8"
             ],
             [
              0.3333333333333333,
              "#9c179e"
             ],
             [
              0.4444444444444444,
              "#bd3786"
             ],
             [
              0.5555555555555556,
              "#d8576b"
             ],
             [
              0.6666666666666666,
              "#ed7953"
             ],
             [
              0.7777777777777778,
              "#fb9f3a"
             ],
             [
              0.8888888888888888,
              "#fdca26"
             ],
             [
              1,
              "#f0f921"
             ]
            ],
            "type": "histogram2d"
           }
          ],
          "histogram2dcontour": [
           {
            "colorbar": {
             "outlinewidth": 0,
             "ticks": ""
            },
            "colorscale": [
             [
              0,
              "#0d0887"
             ],
             [
              0.1111111111111111,
              "#46039f"
             ],
             [
              0.2222222222222222,
              "#7201a8"
             ],
             [
              0.3333333333333333,
              "#9c179e"
             ],
             [
              0.4444444444444444,
              "#bd3786"
             ],
             [
              0.5555555555555556,
              "#d8576b"
             ],
             [
              0.6666666666666666,
              "#ed7953"
             ],
             [
              0.7777777777777778,
              "#fb9f3a"
             ],
             [
              0.8888888888888888,
              "#fdca26"
             ],
             [
              1,
              "#f0f921"
             ]
            ],
            "type": "histogram2dcontour"
           }
          ],
          "mesh3d": [
           {
            "colorbar": {
             "outlinewidth": 0,
             "ticks": ""
            },
            "type": "mesh3d"
           }
          ],
          "parcoords": [
           {
            "line": {
             "colorbar": {
              "outlinewidth": 0,
              "ticks": ""
             }
            },
            "type": "parcoords"
           }
          ],
          "pie": [
           {
            "automargin": true,
            "type": "pie"
           }
          ],
          "scatter": [
           {
            "fillpattern": {
             "fillmode": "overlay",
             "size": 10,
             "solidity": 0.2
            },
            "type": "scatter"
           }
          ],
          "scatter3d": [
           {
            "line": {
             "colorbar": {
              "outlinewidth": 0,
              "ticks": ""
             }
            },
            "marker": {
             "colorbar": {
              "outlinewidth": 0,
              "ticks": ""
             }
            },
            "type": "scatter3d"
           }
          ],
          "scattercarpet": [
           {
            "marker": {
             "colorbar": {
              "outlinewidth": 0,
              "ticks": ""
             }
            },
            "type": "scattercarpet"
           }
          ],
          "scattergeo": [
           {
            "marker": {
             "colorbar": {
              "outlinewidth": 0,
              "ticks": ""
             }
            },
            "type": "scattergeo"
           }
          ],
          "scattergl": [
           {
            "marker": {
             "colorbar": {
              "outlinewidth": 0,
              "ticks": ""
             }
            },
            "type": "scattergl"
           }
          ],
          "scattermapbox": [
           {
            "marker": {
             "colorbar": {
              "outlinewidth": 0,
              "ticks": ""
             }
            },
            "type": "scattermapbox"
           }
          ],
          "scatterpolar": [
           {
            "marker": {
             "colorbar": {
              "outlinewidth": 0,
              "ticks": ""
             }
            },
            "type": "scatterpolar"
           }
          ],
          "scatterpolargl": [
           {
            "marker": {
             "colorbar": {
              "outlinewidth": 0,
              "ticks": ""
             }
            },
            "type": "scatterpolargl"
           }
          ],
          "scatterternary": [
           {
            "marker": {
             "colorbar": {
              "outlinewidth": 0,
              "ticks": ""
             }
            },
            "type": "scatterternary"
           }
          ],
          "surface": [
           {
            "colorbar": {
             "outlinewidth": 0,
             "ticks": ""
            },
            "colorscale": [
             [
              0,
              "#0d0887"
             ],
             [
              0.1111111111111111,
              "#46039f"
             ],
             [
              0.2222222222222222,
              "#7201a8"
             ],
             [
              0.3333333333333333,
              "#9c179e"
             ],
             [
              0.4444444444444444,
              "#bd3786"
             ],
             [
              0.5555555555555556,
              "#d8576b"
             ],
             [
              0.6666666666666666,
              "#ed7953"
             ],
             [
              0.7777777777777778,
              "#fb9f3a"
             ],
             [
              0.8888888888888888,
              "#fdca26"
             ],
             [
              1,
              "#f0f921"
             ]
            ],
            "type": "surface"
           }
          ],
          "table": [
           {
            "cells": {
             "fill": {
              "color": "#EBF0F8"
             },
             "line": {
              "color": "white"
             }
            },
            "header": {
             "fill": {
              "color": "#C8D4E3"
             },
             "line": {
              "color": "white"
             }
            },
            "type": "table"
           }
          ]
         },
         "layout": {
          "annotationdefaults": {
           "arrowcolor": "#2a3f5f",
           "arrowhead": 0,
           "arrowwidth": 1
          },
          "autotypenumbers": "strict",
          "coloraxis": {
           "colorbar": {
            "outlinewidth": 0,
            "ticks": ""
           }
          },
          "colorscale": {
           "diverging": [
            [
             0,
             "#8e0152"
            ],
            [
             0.1,
             "#c51b7d"
            ],
            [
             0.2,
             "#de77ae"
            ],
            [
             0.3,
             "#f1b6da"
            ],
            [
             0.4,
             "#fde0ef"
            ],
            [
             0.5,
             "#f7f7f7"
            ],
            [
             0.6,
             "#e6f5d0"
            ],
            [
             0.7,
             "#b8e186"
            ],
            [
             0.8,
             "#7fbc41"
            ],
            [
             0.9,
             "#4d9221"
            ],
            [
             1,
             "#276419"
            ]
           ],
           "sequential": [
            [
             0,
             "#0d0887"
            ],
            [
             0.1111111111111111,
             "#46039f"
            ],
            [
             0.2222222222222222,
             "#7201a8"
            ],
            [
             0.3333333333333333,
             "#9c179e"
            ],
            [
             0.4444444444444444,
             "#bd3786"
            ],
            [
             0.5555555555555556,
             "#d8576b"
            ],
            [
             0.6666666666666666,
             "#ed7953"
            ],
            [
             0.7777777777777778,
             "#fb9f3a"
            ],
            [
             0.8888888888888888,
             "#fdca26"
            ],
            [
             1,
             "#f0f921"
            ]
           ],
           "sequentialminus": [
            [
             0,
             "#0d0887"
            ],
            [
             0.1111111111111111,
             "#46039f"
            ],
            [
             0.2222222222222222,
             "#7201a8"
            ],
            [
             0.3333333333333333,
             "#9c179e"
            ],
            [
             0.4444444444444444,
             "#bd3786"
            ],
            [
             0.5555555555555556,
             "#d8576b"
            ],
            [
             0.6666666666666666,
             "#ed7953"
            ],
            [
             0.7777777777777778,
             "#fb9f3a"
            ],
            [
             0.8888888888888888,
             "#fdca26"
            ],
            [
             1,
             "#f0f921"
            ]
           ]
          },
          "colorway": [
           "#636efa",
           "#EF553B",
           "#00cc96",
           "#ab63fa",
           "#FFA15A",
           "#19d3f3",
           "#FF6692",
           "#B6E880",
           "#FF97FF",
           "#FECB52"
          ],
          "font": {
           "color": "#2a3f5f"
          },
          "geo": {
           "bgcolor": "white",
           "lakecolor": "white",
           "landcolor": "#E5ECF6",
           "showlakes": true,
           "showland": true,
           "subunitcolor": "white"
          },
          "hoverlabel": {
           "align": "left"
          },
          "hovermode": "closest",
          "mapbox": {
           "style": "light"
          },
          "paper_bgcolor": "white",
          "plot_bgcolor": "#E5ECF6",
          "polar": {
           "angularaxis": {
            "gridcolor": "white",
            "linecolor": "white",
            "ticks": ""
           },
           "bgcolor": "#E5ECF6",
           "radialaxis": {
            "gridcolor": "white",
            "linecolor": "white",
            "ticks": ""
           }
          },
          "scene": {
           "xaxis": {
            "backgroundcolor": "#E5ECF6",
            "gridcolor": "white",
            "gridwidth": 2,
            "linecolor": "white",
            "showbackground": true,
            "ticks": "",
            "zerolinecolor": "white"
           },
           "yaxis": {
            "backgroundcolor": "#E5ECF6",
            "gridcolor": "white",
            "gridwidth": 2,
            "linecolor": "white",
            "showbackground": true,
            "ticks": "",
            "zerolinecolor": "white"
           },
           "zaxis": {
            "backgroundcolor": "#E5ECF6",
            "gridcolor": "white",
            "gridwidth": 2,
            "linecolor": "white",
            "showbackground": true,
            "ticks": "",
            "zerolinecolor": "white"
           }
          },
          "shapedefaults": {
           "line": {
            "color": "#2a3f5f"
           }
          },
          "ternary": {
           "aaxis": {
            "gridcolor": "white",
            "linecolor": "white",
            "ticks": ""
           },
           "baxis": {
            "gridcolor": "white",
            "linecolor": "white",
            "ticks": ""
           },
           "bgcolor": "#E5ECF6",
           "caxis": {
            "gridcolor": "white",
            "linecolor": "white",
            "ticks": ""
           }
          },
          "title": {
           "x": 0.05
          },
          "xaxis": {
           "automargin": true,
           "gridcolor": "white",
           "linecolor": "white",
           "ticks": "",
           "title": {
            "standoff": 15
           },
           "zerolinecolor": "white",
           "zerolinewidth": 2
          },
          "yaxis": {
           "automargin": true,
           "gridcolor": "white",
           "linecolor": "white",
           "ticks": "",
           "title": {
            "standoff": 15
           },
           "zerolinecolor": "white",
           "zerolinewidth": 2
          }
         }
        },
        "title": {
         "text": "Frequency of words used in article titles"
        },
        "xaxis": {
         "anchor": "y",
         "domain": [
          0,
          1
         ],
         "title": {
          "text": "word"
         }
        },
        "yaxis": {
         "anchor": "x",
         "domain": [
          0,
          1
         ],
         "title": {
          "text": "count"
         }
        }
       }
      }
     },
     "metadata": {},
     "output_type": "display_data"
    }
   ],
   "source": [
    "more_than_x = dfh[dfh['count']>=200]\n",
    "fig = px.bar(more_than_x, x=\"word\", y=\"count\", title='Frequency of words used in article titles')\n",
    "fig.show()"
   ]
  },
  {
   "cell_type": "code",
   "execution_count": 22,
   "metadata": {},
   "outputs": [
    {
     "data": {
      "text/html": [
       "<div>\n",
       "<style scoped>\n",
       "    .dataframe tbody tr th:only-of-type {\n",
       "        vertical-align: middle;\n",
       "    }\n",
       "\n",
       "    .dataframe tbody tr th {\n",
       "        vertical-align: top;\n",
       "    }\n",
       "\n",
       "    .dataframe thead th {\n",
       "        text-align: right;\n",
       "    }\n",
       "</style>\n",
       "<table border=\"1\" class=\"dataframe\">\n",
       "  <thead>\n",
       "    <tr style=\"text-align: right;\">\n",
       "      <th></th>\n",
       "      <th>summary</th>\n",
       "      <th>date</th>\n",
       "      <th>location_article</th>\n",
       "      <th>lat</th>\n",
       "      <th>lng</th>\n",
       "      <th>hunger</th>\n",
       "      <th>refugees</th>\n",
       "      <th>humanitarian</th>\n",
       "      <th>conflict</th>\n",
       "    </tr>\n",
       "  </thead>\n",
       "  <tbody>\n",
       "    <tr>\n",
       "      <th>48</th>\n",
       "      <td>The article discusses the decision of Western ...</td>\n",
       "      <td>2011-06-30</td>\n",
       "      <td>Yambio County</td>\n",
       "      <td>4.891862</td>\n",
       "      <td>28.486396</td>\n",
       "      <td>True</td>\n",
       "      <td>False</td>\n",
       "      <td>False</td>\n",
       "      <td>False</td>\n",
       "    </tr>\n",
       "    <tr>\n",
       "      <th>172</th>\n",
       "      <td>The article discusses a joint appeal launched ...</td>\n",
       "      <td>2011-07-09</td>\n",
       "      <td>Dadaab refugee camp</td>\n",
       "      <td>0.092580</td>\n",
       "      <td>40.319072</td>\n",
       "      <td>True</td>\n",
       "      <td>False</td>\n",
       "      <td>True</td>\n",
       "      <td>False</td>\n",
       "    </tr>\n",
       "    <tr>\n",
       "      <th>260</th>\n",
       "      <td>The article discusses the South Sudan governme...</td>\n",
       "      <td>2011-07-14</td>\n",
       "      <td>Juba</td>\n",
       "      <td>4.859363</td>\n",
       "      <td>31.571250</td>\n",
       "      <td>True</td>\n",
       "      <td>False</td>\n",
       "      <td>False</td>\n",
       "      <td>False</td>\n",
       "    </tr>\n",
       "    <tr>\n",
       "      <th>310</th>\n",
       "      <td>The article discusses the worst famine in the ...</td>\n",
       "      <td>2011-07-24</td>\n",
       "      <td>Dadaab</td>\n",
       "      <td>0.092580</td>\n",
       "      <td>40.319072</td>\n",
       "      <td>True</td>\n",
       "      <td>False</td>\n",
       "      <td>False</td>\n",
       "      <td>False</td>\n",
       "    </tr>\n",
       "    <tr>\n",
       "      <th>358</th>\n",
       "      <td>The article discusses the EU delegation's advi...</td>\n",
       "      <td>2011-07-22</td>\n",
       "      <td>Juba</td>\n",
       "      <td>4.859363</td>\n",
       "      <td>31.571250</td>\n",
       "      <td>True</td>\n",
       "      <td>False</td>\n",
       "      <td>True</td>\n",
       "      <td>False</td>\n",
       "    </tr>\n",
       "    <tr>\n",
       "      <th>...</th>\n",
       "      <td>...</td>\n",
       "      <td>...</td>\n",
       "      <td>...</td>\n",
       "      <td>...</td>\n",
       "      <td>...</td>\n",
       "      <td>...</td>\n",
       "      <td>...</td>\n",
       "      <td>...</td>\n",
       "      <td>...</td>\n",
       "    </tr>\n",
       "    <tr>\n",
       "      <th>18377</th>\n",
       "      <td>The article discusses the African Development ...</td>\n",
       "      <td>2022-07-15</td>\n",
       "      <td>Northern Bahr el Ghazal</td>\n",
       "      <td>8.536045</td>\n",
       "      <td>26.796785</td>\n",
       "      <td>True</td>\n",
       "      <td>False</td>\n",
       "      <td>False</td>\n",
       "      <td>False</td>\n",
       "    </tr>\n",
       "    <tr>\n",
       "      <th>18398</th>\n",
       "      <td>The article discusses how the humanitarian pri...</td>\n",
       "      <td>2022-08-22</td>\n",
       "      <td>Unity State</td>\n",
       "      <td>8.927721</td>\n",
       "      <td>29.788925</td>\n",
       "      <td>True</td>\n",
       "      <td>False</td>\n",
       "      <td>True</td>\n",
       "      <td>False</td>\n",
       "    </tr>\n",
       "    <tr>\n",
       "      <th>18411</th>\n",
       "      <td>The article discusses how up to eight million ...</td>\n",
       "      <td>2022-11-03</td>\n",
       "      <td>Northern Bahr el Ghazal</td>\n",
       "      <td>8.536045</td>\n",
       "      <td>26.796785</td>\n",
       "      <td>True</td>\n",
       "      <td>False</td>\n",
       "      <td>False</td>\n",
       "      <td>False</td>\n",
       "    </tr>\n",
       "    <tr>\n",
       "      <th>18440</th>\n",
       "      <td>The article discusses the International Day of...</td>\n",
       "      <td>2022-08-29</td>\n",
       "      <td>Juba</td>\n",
       "      <td>4.859363</td>\n",
       "      <td>31.571250</td>\n",
       "      <td>True</td>\n",
       "      <td>False</td>\n",
       "      <td>False</td>\n",
       "      <td>False</td>\n",
       "    </tr>\n",
       "    <tr>\n",
       "      <th>18496</th>\n",
       "      <td>The article discusses how conflict, political ...</td>\n",
       "      <td>2023-01-30</td>\n",
       "      <td>Nairobi</td>\n",
       "      <td>-1.292066</td>\n",
       "      <td>36.821946</td>\n",
       "      <td>True</td>\n",
       "      <td>False</td>\n",
       "      <td>False</td>\n",
       "      <td>False</td>\n",
       "    </tr>\n",
       "  </tbody>\n",
       "</table>\n",
       "<p>658 rows × 9 columns</p>\n",
       "</div>"
      ],
      "text/plain": [
       "                                                 summary        date  \\\n",
       "48     The article discusses the decision of Western ...  2011-06-30   \n",
       "172    The article discusses a joint appeal launched ...  2011-07-09   \n",
       "260    The article discusses the South Sudan governme...  2011-07-14   \n",
       "310    The article discusses the worst famine in the ...  2011-07-24   \n",
       "358    The article discusses the EU delegation's advi...  2011-07-22   \n",
       "...                                                  ...         ...   \n",
       "18377  The article discusses the African Development ...  2022-07-15   \n",
       "18398  The article discusses how the humanitarian pri...  2022-08-22   \n",
       "18411  The article discusses how up to eight million ...  2022-11-03   \n",
       "18440  The article discusses the International Day of...  2022-08-29   \n",
       "18496  The article discusses how conflict, political ...  2023-01-30   \n",
       "\n",
       "              location_article       lat        lng  hunger  refugees  \\\n",
       "48               Yambio County  4.891862  28.486396    True     False   \n",
       "172        Dadaab refugee camp  0.092580  40.319072    True     False   \n",
       "260                       Juba  4.859363  31.571250    True     False   \n",
       "310                     Dadaab  0.092580  40.319072    True     False   \n",
       "358                       Juba  4.859363  31.571250    True     False   \n",
       "...                        ...       ...        ...     ...       ...   \n",
       "18377  Northern Bahr el Ghazal  8.536045  26.796785    True     False   \n",
       "18398              Unity State  8.927721  29.788925    True     False   \n",
       "18411  Northern Bahr el Ghazal  8.536045  26.796785    True     False   \n",
       "18440                     Juba  4.859363  31.571250    True     False   \n",
       "18496                  Nairobi -1.292066  36.821946    True     False   \n",
       "\n",
       "       humanitarian  conflict  \n",
       "48            False     False  \n",
       "172            True     False  \n",
       "260           False     False  \n",
       "310           False     False  \n",
       "358            True     False  \n",
       "...             ...       ...  \n",
       "18377         False     False  \n",
       "18398          True     False  \n",
       "18411         False     False  \n",
       "18440         False     False  \n",
       "18496         False     False  \n",
       "\n",
       "[658 rows x 9 columns]"
      ]
     },
     "execution_count": 22,
     "metadata": {},
     "output_type": "execute_result"
    }
   ],
   "source": [
    "art_tops = pd.read_csv(\"data/articles_topics.csv\")\n",
    "art_tops[art_tops['hunger']==True]"
   ]
  },
  {
   "cell_type": "code",
   "execution_count": 23,
   "metadata": {},
   "outputs": [],
   "source": [
    "from sklearn.ensemble import RandomForestClassifier\n",
    "# Splitting the dataset into the Training set and Test set\n",
    "from sklearn.model_selection import train_test_split\n",
    "# Making the Confusion Matrix\n",
    "from sklearn.metrics import confusion_matrix\n",
    "import statsmodels.api as sm\n",
    "from sklearn.model_selection import TimeSeriesSplit\n",
    "from sklearn.metrics import accuracy_score\n",
    "import matplotlib.pyplot as plt\n",
    "import seaborn as sns\n"
   ]
  },
  {
   "cell_type": "code",
   "execution_count": 24,
   "metadata": {},
   "outputs": [],
   "source": [
    "# Function to get the corresponding topic for each row\n",
    "def get_corresponding_topic(row):\n",
    "    topics = [col for col in row.index if row[col] == True]\n",
    "    if topics:\n",
    "        return topics[0]\n",
    "    else:\n",
    "        return 'No Topic'  # If none of the topics are True"
   ]
  },
  {
   "cell_type": "code",
   "execution_count": 25,
   "metadata": {},
   "outputs": [
    {
     "data": {
      "text/html": [
       "<div>\n",
       "<style scoped>\n",
       "    .dataframe tbody tr th:only-of-type {\n",
       "        vertical-align: middle;\n",
       "    }\n",
       "\n",
       "    .dataframe tbody tr th {\n",
       "        vertical-align: top;\n",
       "    }\n",
       "\n",
       "    .dataframe thead th {\n",
       "        text-align: right;\n",
       "    }\n",
       "</style>\n",
       "<table border=\"1\" class=\"dataframe\">\n",
       "  <thead>\n",
       "    <tr style=\"text-align: right;\">\n",
       "      <th></th>\n",
       "      <th>summary</th>\n",
       "      <th>date</th>\n",
       "      <th>location_article</th>\n",
       "      <th>lat</th>\n",
       "      <th>lng</th>\n",
       "      <th>hunger</th>\n",
       "      <th>refugees</th>\n",
       "      <th>humanitarian</th>\n",
       "      <th>conflict</th>\n",
       "      <th>label</th>\n",
       "    </tr>\n",
       "  </thead>\n",
       "  <tbody>\n",
       "    <tr>\n",
       "      <th>0</th>\n",
       "      <td>The article discusses the passing of the new C...</td>\n",
       "      <td>2011-07-01</td>\n",
       "      <td>Juba</td>\n",
       "      <td>4.859363</td>\n",
       "      <td>31.571250</td>\n",
       "      <td>False</td>\n",
       "      <td>False</td>\n",
       "      <td>False</td>\n",
       "      <td>False</td>\n",
       "      <td>No Topic</td>\n",
       "    </tr>\n",
       "    <tr>\n",
       "      <th>1</th>\n",
       "      <td>The article discusses the military actions tak...</td>\n",
       "      <td>2011-07-01</td>\n",
       "      <td>Abyei</td>\n",
       "      <td>9.838551</td>\n",
       "      <td>28.486396</td>\n",
       "      <td>False</td>\n",
       "      <td>False</td>\n",
       "      <td>False</td>\n",
       "      <td>False</td>\n",
       "      <td>No Topic</td>\n",
       "    </tr>\n",
       "    <tr>\n",
       "      <th>2</th>\n",
       "      <td>The article discusses the signing of a Framewo...</td>\n",
       "      <td>2011-06-01</td>\n",
       "      <td>Southern Kordofan</td>\n",
       "      <td>11.036544</td>\n",
       "      <td>30.895824</td>\n",
       "      <td>False</td>\n",
       "      <td>False</td>\n",
       "      <td>False</td>\n",
       "      <td>False</td>\n",
       "      <td>No Topic</td>\n",
       "    </tr>\n",
       "    <tr>\n",
       "      <th>3</th>\n",
       "      <td>The article discusses the upcoming independenc...</td>\n",
       "      <td>2011-07-01</td>\n",
       "      <td>South Sudan</td>\n",
       "      <td>6.876992</td>\n",
       "      <td>31.306979</td>\n",
       "      <td>False</td>\n",
       "      <td>False</td>\n",
       "      <td>False</td>\n",
       "      <td>False</td>\n",
       "      <td>No Topic</td>\n",
       "    </tr>\n",
       "    <tr>\n",
       "      <th>4</th>\n",
       "      <td>The article discusses the need for South Sudan...</td>\n",
       "      <td>2011-07-01</td>\n",
       "      <td>Juba</td>\n",
       "      <td>4.859363</td>\n",
       "      <td>31.571250</td>\n",
       "      <td>False</td>\n",
       "      <td>False</td>\n",
       "      <td>False</td>\n",
       "      <td>False</td>\n",
       "      <td>No Topic</td>\n",
       "    </tr>\n",
       "  </tbody>\n",
       "</table>\n",
       "</div>"
      ],
      "text/plain": [
       "                                             summary       date  \\\n",
       "0  The article discusses the passing of the new C... 2011-07-01   \n",
       "1  The article discusses the military actions tak... 2011-07-01   \n",
       "2  The article discusses the signing of a Framewo... 2011-06-01   \n",
       "3  The article discusses the upcoming independenc... 2011-07-01   \n",
       "4  The article discusses the need for South Sudan... 2011-07-01   \n",
       "\n",
       "    location_article        lat        lng  hunger  refugees  humanitarian  \\\n",
       "0               Juba   4.859363  31.571250   False     False         False   \n",
       "1              Abyei   9.838551  28.486396   False     False         False   \n",
       "2  Southern Kordofan  11.036544  30.895824   False     False         False   \n",
       "3        South Sudan   6.876992  31.306979   False     False         False   \n",
       "4               Juba   4.859363  31.571250   False     False         False   \n",
       "\n",
       "   conflict     label  \n",
       "0     False  No Topic  \n",
       "1     False  No Topic  \n",
       "2     False  No Topic  \n",
       "3     False  No Topic  \n",
       "4     False  No Topic  "
      ]
     },
     "execution_count": 25,
     "metadata": {},
     "output_type": "execute_result"
    }
   ],
   "source": [
    "art_top = pd.read_csv(\"data/articles_topics.csv\")  \n",
    "art_top['label'] = art_top.apply(get_corresponding_topic, axis=1)\n",
    "art_top[\"date\"] = pd.to_datetime(\n",
    "    pd.to_datetime(art_top[\"date\"], format=\"%Y-%m-%d\").dt.strftime(\"%Y-%m\"),\n",
    "    format=\"%Y-%m\",\n",
    ")\n",
    "\n",
    "art_top.head()"
   ]
  },
  {
   "cell_type": "code",
   "execution_count": 26,
   "metadata": {},
   "outputs": [
    {
     "data": {
      "text/plain": [
       "<Axes: >"
      ]
     },
     "execution_count": 26,
     "metadata": {},
     "output_type": "execute_result"
    },
    {
     "data": {
      "image/png": "[encoded data removed]",
      "text/plain": [
       "<Figure size 432x288 with 1 Axes>"
      ]
     },
     "metadata": {
      "needs_background": "light"
     },
     "output_type": "display_data"
    }
   ],
   "source": [
    "food_updated[food_updated['district_code']==77]['cropland_pct'].plot()"
   ]
  },
  {
   "cell_type": "code",
   "execution_count": 27,
   "metadata": {},
   "outputs": [
    {
     "data": {
      "text/plain": [
       "Index(['Unnamed: 0', 'country', 'district_code', 'district', 'centx', 'centy',\n",
       "       'year_month', 'year', 'month', 'ipc', 'ha', 'ndvi_mean', 'ndvi_anom',\n",
       "       'rain_mean', 'rain_anom', 'et_mean', 'et_anom', 'count_violence',\n",
       "       'sum_fatalities', 'food_price_idx', 'area', 'cropland_pct', 'pop',\n",
       "       'ruggedness_mean', 'pasture_pct', 'date', 'administrative_region'],\n",
       "      dtype='object')"
      ]
     },
     "execution_count": 27,
     "metadata": {},
     "output_type": "execute_result"
    }
   ],
   "source": [
    "food_updated.columns"
   ]
  },
  {
   "cell_type": "code",
   "execution_count": 36,
   "metadata": {},
   "outputs": [],
   "source": [
    "articles_file = open(\"articles_categorization.txt\", \"w\", encoding=\"utf-8\")\n",
    "\n",
    "art_num = 1\n",
    "\n",
    "for article in articles['summary']:\n",
    "    new_format = str(art_num)+ \". \"+ article+'\\n'\n",
    "    articles_file.write(new_format)\n",
    "    art_num+=1\n",
    "\n",
    "articles_file.close()\n",
    "\n"
   ]
  },
  {
   "cell_type": "code",
   "execution_count": null,
   "metadata": {},
   "outputs": [],
   "source": []
  }
 ],
 "metadata": {
  "kernelspec": {
   "display_name": "Python 3",
   "language": "python",
   "name": "python3"
  },
  "language_info": {
   "codemirror_mode": {
    "name": "ipython",
    "version": 3
   },
   "file_extension": ".py",
   "mimetype": "text/x-python",
   "name": "python",
   "nbconvert_exporter": "python",
   "pygments_lexer": "ipython3",
   "version": "3.10.11"
  },
  "orig_nbformat": 4
 },
 "nbformat": 4,
 "nbformat_minor": 2
}
