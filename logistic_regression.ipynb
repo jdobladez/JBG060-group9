{
 "cells": [
  {
   "cell_type": "code",
   "execution_count": 34,
   "id": "initial_id",
   "metadata": {
    "ExecuteTime": {
     "end_time": "2023-10-15T17:22:30.449064615Z",
     "start_time": "2023-10-15T17:22:30.347096756Z"
    },
    "collapsed": true
   },
   "outputs": [],
   "source": [
    "import numpy as np\n",
    "import pandas as pd\n",
    "from sklearn.linear_model import LogisticRegression\n",
    "\n",
    "from sklearn.preprocessing import StandardScaler\n",
    "import matplotlib.pyplot as plt\n",
    "import seaborn as sns\n",
    "\n",
    "from sklearn.metrics import mean_squared_error, r2_score, accuracy_score, classification_report\n",
    "from sklearn.impute import SimpleImputer\n",
    "from sklearn.model_selection import TimeSeriesSplit\n",
    "from sklearn.metrics import log_loss, accuracy_score\n"
   ]
  },
  {
   "cell_type": "code",
   "execution_count": 35,
   "id": "33dcae002a2d0708",
   "metadata": {
    "ExecuteTime": {
     "end_time": "2023-10-15T17:22:32.094884024Z",
     "start_time": "2023-10-15T17:22:32.064884521Z"
    },
    "collapsed": false
   },
   "outputs": [],
   "source": [
    "weighted_df = pd.read_csv(\"data/weighted_pop_ipc_region.csv\") # Read data into DataFrame\n",
    "weighted_df.set_index([\"datetime\", \"district\"], inplace=True) # Set index"
   ]
  },
  {
   "cell_type": "code",
   "execution_count": 36,
   "id": "c47dc73ee74dafe6",
   "metadata": {
    "ExecuteTime": {
     "end_time": "2023-10-15T17:22:33.699035500Z",
     "start_time": "2023-10-15T17:22:33.654753624Z"
    },
    "collapsed": false
   },
   "outputs": [],
   "source": [
    "density_df = pd.read_csv(\"data/density_pop_ipc_region.csv\") # Read data into DataFrame\n",
    "density_df.set_index([\"datetime\", \"district\"], inplace=True) # Set index"
   ]
  },
  {
   "cell_type": "code",
   "execution_count": 37,
   "id": "c015bb956d32c565",
   "metadata": {
    "ExecuteTime": {
     "end_time": "2023-10-15T17:22:35.428850589Z",
     "start_time": "2023-10-15T17:22:35.422580799Z"
    },
    "collapsed": false
   },
   "outputs": [],
   "source": [
    "def create_lag_df(df, columns, lag, difference=False, rolling=None, dropna=False):\n",
    "    '''\n",
    "    Function to add lagged colums to dataframe\n",
    "    \n",
    "    Inputs:\n",
    "        df - Dataframe\n",
    "        columns - List of columns to create lags from\n",
    "        lag - The number of timesteps (in months for the default data) to lag the variable by\n",
    "        difference - Whether to take the difference between each observation as new column\n",
    "        rolling - The size of the rolling mean window, input None type to not use a rolling variable\n",
    "        dropna - Whether to drop NaN values\n",
    "        \n",
    "    Output:\n",
    "        df - Dataframe with the lagged columns added\n",
    "    '''\n",
    "    \n",
    "    for column in columns:\n",
    "        col = df[column].unstack()\n",
    "        if rolling:\n",
    "            col = col.rolling(rolling).mean()\n",
    "        if difference:\n",
    "            col = col.diff()\n",
    "        if dropna:\n",
    "            col = col.dropna(how='any')\n",
    "        df[f\"{column}_lag_{lag}\"] = col.shift(lag).stack()\n",
    "    return df\n",
    "\n",
    "def plot_ConfusionMatrix(prediction, true, binary=False):\n",
    "    '''\n",
    "    Function to plot a confusion matrix as a heatmap from a prediction and true values.\n",
    "    \n",
    "    Inputs:\n",
    "        prediction - The predicted values\n",
    "        true - the true values\n",
    "        binary - whether the variable is binary or not\n",
    "        \n",
    "    Output:\n",
    "        confusion_matrix - The calculated confusion matrix based on the prediction and true values.\n",
    "        \n",
    "        Also plots the confusion matrix as heatmap in an interactive environment such as Jupyter Notebook.\n",
    "    '''\n",
    "    \n",
    "    y_pred = prediction\n",
    "    \n",
    "    if not binary:\n",
    "        # Round prediction to nearest integer (i.e. the nearest phase)\n",
    "        y_pred = y_pred.round() \n",
    "        y_pred = np.minimum(y_pred, 5) # Cap maximum prediction at 5 (maximum phase)\n",
    "        y_pred = np.maximum(y_pred, 1) # Cap minimum prediction at 1 (minimum phase)\n",
    "\n",
    "    # Initialize confusion matrix\n",
    "    confusion_matrix = pd.crosstab(\n",
    "        true, y_pred, rownames=[\"Actual\"], colnames=[\"Predicted\"]\n",
    "    )\n",
    "\n",
    "    # Plot confusion matrix as heatmap\n",
    "    sns.heatmap(confusion_matrix, annot=True, fmt=\"g\")\n",
    "    plt.show()\n",
    "    plt.clf()\n",
    "    \n",
    "    return confusion_matrix"
   ]
  },
  {
   "cell_type": "code",
   "execution_count": 38,
   "id": "25412a8fbcb103fc",
   "metadata": {
    "ExecuteTime": {
     "end_time": "2023-10-15T17:22:42.047983517Z",
     "start_time": "2023-10-15T17:22:41.974797735Z"
    },
    "collapsed": false
   },
   "outputs": [
    {
     "data": {
      "text/html": [
       "<div>\n",
       "<style scoped>\n",
       "    .dataframe tbody tr th:only-of-type {\n",
       "        vertical-align: middle;\n",
       "    }\n",
       "\n",
       "    .dataframe tbody tr th {\n",
       "        vertical-align: top;\n",
       "    }\n",
       "\n",
       "    .dataframe thead th {\n",
       "        text-align: right;\n",
       "    }\n",
       "</style>\n",
       "<table border=\"1\" class=\"dataframe\">\n",
       "  <thead>\n",
       "    <tr style=\"text-align: right;\">\n",
       "      <th></th>\n",
       "      <th>district</th>\n",
       "      <th>country</th>\n",
       "      <th>district_code</th>\n",
       "      <th>centx</th>\n",
       "      <th>centy</th>\n",
       "      <th>year_month</th>\n",
       "      <th>year</th>\n",
       "      <th>month</th>\n",
       "      <th>ipc</th>\n",
       "      <th>ha</th>\n",
       "      <th>...</th>\n",
       "      <th>total_region_pop</th>\n",
       "      <th>normalized_population</th>\n",
       "      <th>weighted_ipc_pop</th>\n",
       "      <th>generalized_ipc_pop</th>\n",
       "      <th>count_violence_lag_3</th>\n",
       "      <th>ndvi_anom_lag_3</th>\n",
       "      <th>food_price_idx_lag_3</th>\n",
       "      <th>ipc_lag_1</th>\n",
       "      <th>ipc_lag_2</th>\n",
       "      <th>ipc_lag_3</th>\n",
       "    </tr>\n",
       "    <tr>\n",
       "      <th>datetime</th>\n",
       "      <th></th>\n",
       "      <th></th>\n",
       "      <th></th>\n",
       "      <th></th>\n",
       "      <th></th>\n",
       "      <th></th>\n",
       "      <th></th>\n",
       "      <th></th>\n",
       "      <th></th>\n",
       "      <th></th>\n",
       "      <th></th>\n",
       "      <th></th>\n",
       "      <th></th>\n",
       "      <th></th>\n",
       "      <th></th>\n",
       "      <th></th>\n",
       "      <th></th>\n",
       "      <th></th>\n",
       "      <th></th>\n",
       "      <th></th>\n",
       "      <th></th>\n",
       "    </tr>\n",
       "  </thead>\n",
       "  <tbody>\n",
       "    <tr>\n",
       "      <th>2009-07-01</th>\n",
       "      <td>Bor</td>\n",
       "      <td>South Sudan</td>\n",
       "      <td>74</td>\n",
       "      <td>32.00486</td>\n",
       "      <td>6.465644</td>\n",
       "      <td>2009_07</td>\n",
       "      <td>2009</td>\n",
       "      <td>7</td>\n",
       "      <td>2.0</td>\n",
       "      <td>NaN</td>\n",
       "      <td>...</td>\n",
       "      <td>3394056.00</td>\n",
       "      <td>0.075608</td>\n",
       "      <td>0.151216</td>\n",
       "      <td>1.902810</td>\n",
       "      <td>NaN</td>\n",
       "      <td>NaN</td>\n",
       "      <td>NaN</td>\n",
       "      <td>NaN</td>\n",
       "      <td>NaN</td>\n",
       "      <td>NaN</td>\n",
       "    </tr>\n",
       "    <tr>\n",
       "      <th>2009-07-01</th>\n",
       "      <td>Terekeka</td>\n",
       "      <td>South Sudan</td>\n",
       "      <td>97</td>\n",
       "      <td>31.32576</td>\n",
       "      <td>5.662623</td>\n",
       "      <td>2009_07</td>\n",
       "      <td>2009</td>\n",
       "      <td>7</td>\n",
       "      <td>1.0</td>\n",
       "      <td>NaN</td>\n",
       "      <td>...</td>\n",
       "      <td>3284728.00</td>\n",
       "      <td>0.051538</td>\n",
       "      <td>0.051538</td>\n",
       "      <td>1.386920</td>\n",
       "      <td>NaN</td>\n",
       "      <td>NaN</td>\n",
       "      <td>NaN</td>\n",
       "      <td>NaN</td>\n",
       "      <td>NaN</td>\n",
       "      <td>NaN</td>\n",
       "    </tr>\n",
       "    <tr>\n",
       "      <th>2009-07-01</th>\n",
       "      <td>Duk</td>\n",
       "      <td>South Sudan</td>\n",
       "      <td>116</td>\n",
       "      <td>31.18647</td>\n",
       "      <td>7.617574</td>\n",
       "      <td>2009_07</td>\n",
       "      <td>2009</td>\n",
       "      <td>7</td>\n",
       "      <td>2.0</td>\n",
       "      <td>NaN</td>\n",
       "      <td>...</td>\n",
       "      <td>3394056.00</td>\n",
       "      <td>0.022458</td>\n",
       "      <td>0.044916</td>\n",
       "      <td>1.902810</td>\n",
       "      <td>NaN</td>\n",
       "      <td>NaN</td>\n",
       "      <td>NaN</td>\n",
       "      <td>NaN</td>\n",
       "      <td>NaN</td>\n",
       "      <td>NaN</td>\n",
       "    </tr>\n",
       "    <tr>\n",
       "      <th>2009-07-01</th>\n",
       "      <td>Tonj East</td>\n",
       "      <td>South Sudan</td>\n",
       "      <td>117</td>\n",
       "      <td>29.28494</td>\n",
       "      <td>7.847276</td>\n",
       "      <td>2009_07</td>\n",
       "      <td>2009</td>\n",
       "      <td>7</td>\n",
       "      <td>1.0</td>\n",
       "      <td>NaN</td>\n",
       "      <td>...</td>\n",
       "      <td>3036461.00</td>\n",
       "      <td>0.043199</td>\n",
       "      <td>0.043199</td>\n",
       "      <td>1.897398</td>\n",
       "      <td>NaN</td>\n",
       "      <td>NaN</td>\n",
       "      <td>NaN</td>\n",
       "      <td>NaN</td>\n",
       "      <td>NaN</td>\n",
       "      <td>NaN</td>\n",
       "    </tr>\n",
       "    <tr>\n",
       "      <th>2009-07-01</th>\n",
       "      <td>Fashoda</td>\n",
       "      <td>South Sudan</td>\n",
       "      <td>147</td>\n",
       "      <td>31.84424</td>\n",
       "      <td>9.980295</td>\n",
       "      <td>2009_07</td>\n",
       "      <td>2009</td>\n",
       "      <td>7</td>\n",
       "      <td>1.0</td>\n",
       "      <td>NaN</td>\n",
       "      <td>...</td>\n",
       "      <td>3394056.00</td>\n",
       "      <td>0.012878</td>\n",
       "      <td>0.012878</td>\n",
       "      <td>1.902810</td>\n",
       "      <td>NaN</td>\n",
       "      <td>NaN</td>\n",
       "      <td>NaN</td>\n",
       "      <td>NaN</td>\n",
       "      <td>NaN</td>\n",
       "      <td>NaN</td>\n",
       "    </tr>\n",
       "    <tr>\n",
       "      <th>...</th>\n",
       "      <td>...</td>\n",
       "      <td>...</td>\n",
       "      <td>...</td>\n",
       "      <td>...</td>\n",
       "      <td>...</td>\n",
       "      <td>...</td>\n",
       "      <td>...</td>\n",
       "      <td>...</td>\n",
       "      <td>...</td>\n",
       "      <td>...</td>\n",
       "      <td>...</td>\n",
       "      <td>...</td>\n",
       "      <td>...</td>\n",
       "      <td>...</td>\n",
       "      <td>...</td>\n",
       "      <td>...</td>\n",
       "      <td>...</td>\n",
       "      <td>...</td>\n",
       "      <td>...</td>\n",
       "      <td>...</td>\n",
       "      <td>...</td>\n",
       "    </tr>\n",
       "    <tr>\n",
       "      <th>2020-02-01</th>\n",
       "      <td>Koch</td>\n",
       "      <td>South Sudan</td>\n",
       "      <td>127</td>\n",
       "      <td>29.85742</td>\n",
       "      <td>8.633903</td>\n",
       "      <td>2020_02</td>\n",
       "      <td>2020</td>\n",
       "      <td>2</td>\n",
       "      <td>3.0</td>\n",
       "      <td>0.0</td>\n",
       "      <td>...</td>\n",
       "      <td>3860036.43</td>\n",
       "      <td>0.027077</td>\n",
       "      <td>0.081232</td>\n",
       "      <td>3.397920</td>\n",
       "      <td>0.166667</td>\n",
       "      <td>111.294617</td>\n",
       "      <td>2.234340</td>\n",
       "      <td>3.0</td>\n",
       "      <td>3.0</td>\n",
       "      <td>3.0</td>\n",
       "    </tr>\n",
       "    <tr>\n",
       "      <th>2020-02-01</th>\n",
       "      <td>Aweil Center</td>\n",
       "      <td>South Sudan</td>\n",
       "      <td>128</td>\n",
       "      <td>26.89562</td>\n",
       "      <td>8.417934</td>\n",
       "      <td>2020_02</td>\n",
       "      <td>2020</td>\n",
       "      <td>2</td>\n",
       "      <td>3.0</td>\n",
       "      <td>1.0</td>\n",
       "      <td>...</td>\n",
       "      <td>2666084.46</td>\n",
       "      <td>0.013140</td>\n",
       "      <td>0.039421</td>\n",
       "      <td>3.013384</td>\n",
       "      <td>0.000000</td>\n",
       "      <td>105.971917</td>\n",
       "      <td>3.064545</td>\n",
       "      <td>3.0</td>\n",
       "      <td>3.0</td>\n",
       "      <td>3.0</td>\n",
       "    </tr>\n",
       "    <tr>\n",
       "      <th>2020-02-01</th>\n",
       "      <td>Gogrial East</td>\n",
       "      <td>South Sudan</td>\n",
       "      <td>129</td>\n",
       "      <td>28.58906</td>\n",
       "      <td>8.597443</td>\n",
       "      <td>2020_02</td>\n",
       "      <td>2020</td>\n",
       "      <td>2</td>\n",
       "      <td>3.0</td>\n",
       "      <td>0.0</td>\n",
       "      <td>...</td>\n",
       "      <td>2666084.46</td>\n",
       "      <td>0.038477</td>\n",
       "      <td>0.115430</td>\n",
       "      <td>3.013384</td>\n",
       "      <td>0.166667</td>\n",
       "      <td>106.954817</td>\n",
       "      <td>2.734335</td>\n",
       "      <td>3.0</td>\n",
       "      <td>2.0</td>\n",
       "      <td>2.0</td>\n",
       "    </tr>\n",
       "    <tr>\n",
       "      <th>2020-02-01</th>\n",
       "      <td>Mayendit</td>\n",
       "      <td>South Sudan</td>\n",
       "      <td>122</td>\n",
       "      <td>29.91969</td>\n",
       "      <td>8.122516</td>\n",
       "      <td>2020_02</td>\n",
       "      <td>2020</td>\n",
       "      <td>2</td>\n",
       "      <td>3.0</td>\n",
       "      <td>1.0</td>\n",
       "      <td>...</td>\n",
       "      <td>3860036.43</td>\n",
       "      <td>0.019555</td>\n",
       "      <td>0.058665</td>\n",
       "      <td>3.397920</td>\n",
       "      <td>0.333333</td>\n",
       "      <td>108.414300</td>\n",
       "      <td>2.334342</td>\n",
       "      <td>3.0</td>\n",
       "      <td>3.0</td>\n",
       "      <td>3.0</td>\n",
       "    </tr>\n",
       "    <tr>\n",
       "      <th>2020-02-01</th>\n",
       "      <td>Malakal</td>\n",
       "      <td>South Sudan</td>\n",
       "      <td>151</td>\n",
       "      <td>31.64280</td>\n",
       "      <td>9.658457</td>\n",
       "      <td>2020_02</td>\n",
       "      <td>2020</td>\n",
       "      <td>2</td>\n",
       "      <td>4.0</td>\n",
       "      <td>0.0</td>\n",
       "      <td>...</td>\n",
       "      <td>3860036.43</td>\n",
       "      <td>0.042272</td>\n",
       "      <td>0.169088</td>\n",
       "      <td>3.397920</td>\n",
       "      <td>0.166667</td>\n",
       "      <td>111.723767</td>\n",
       "      <td>3.677937</td>\n",
       "      <td>4.0</td>\n",
       "      <td>3.0</td>\n",
       "      <td>3.0</td>\n",
       "    </tr>\n",
       "  </tbody>\n",
       "</table>\n",
       "<p>9984 rows × 38 columns</p>\n",
       "</div>"
      ],
      "text/plain": [
       "                district      country  district_code     centx     centy  \\\n",
       "datetime                                                                   \n",
       "2009-07-01           Bor  South Sudan             74  32.00486  6.465644   \n",
       "2009-07-01      Terekeka  South Sudan             97  31.32576  5.662623   \n",
       "2009-07-01           Duk  South Sudan            116  31.18647  7.617574   \n",
       "2009-07-01     Tonj East  South Sudan            117  29.28494  7.847276   \n",
       "2009-07-01       Fashoda  South Sudan            147  31.84424  9.980295   \n",
       "...                  ...          ...            ...       ...       ...   \n",
       "2020-02-01          Koch  South Sudan            127  29.85742  8.633903   \n",
       "2020-02-01  Aweil Center  South Sudan            128  26.89562  8.417934   \n",
       "2020-02-01  Gogrial East  South Sudan            129  28.58906  8.597443   \n",
       "2020-02-01      Mayendit  South Sudan            122  29.91969  8.122516   \n",
       "2020-02-01       Malakal  South Sudan            151  31.64280  9.658457   \n",
       "\n",
       "           year_month  year  month  ipc   ha  ...  total_region_pop  \\\n",
       "datetime                                      ...                     \n",
       "2009-07-01    2009_07  2009      7  2.0  NaN  ...        3394056.00   \n",
       "2009-07-01    2009_07  2009      7  1.0  NaN  ...        3284728.00   \n",
       "2009-07-01    2009_07  2009      7  2.0  NaN  ...        3394056.00   \n",
       "2009-07-01    2009_07  2009      7  1.0  NaN  ...        3036461.00   \n",
       "2009-07-01    2009_07  2009      7  1.0  NaN  ...        3394056.00   \n",
       "...               ...   ...    ...  ...  ...  ...               ...   \n",
       "2020-02-01    2020_02  2020      2  3.0  0.0  ...        3860036.43   \n",
       "2020-02-01    2020_02  2020      2  3.0  1.0  ...        2666084.46   \n",
       "2020-02-01    2020_02  2020      2  3.0  0.0  ...        2666084.46   \n",
       "2020-02-01    2020_02  2020      2  3.0  1.0  ...        3860036.43   \n",
       "2020-02-01    2020_02  2020      2  4.0  0.0  ...        3860036.43   \n",
       "\n",
       "            normalized_population  weighted_ipc_pop  generalized_ipc_pop  \\\n",
       "datetime                                                                   \n",
       "2009-07-01               0.075608          0.151216             1.902810   \n",
       "2009-07-01               0.051538          0.051538             1.386920   \n",
       "2009-07-01               0.022458          0.044916             1.902810   \n",
       "2009-07-01               0.043199          0.043199             1.897398   \n",
       "2009-07-01               0.012878          0.012878             1.902810   \n",
       "...                           ...               ...                  ...   \n",
       "2020-02-01               0.027077          0.081232             3.397920   \n",
       "2020-02-01               0.013140          0.039421             3.013384   \n",
       "2020-02-01               0.038477          0.115430             3.013384   \n",
       "2020-02-01               0.019555          0.058665             3.397920   \n",
       "2020-02-01               0.042272          0.169088             3.397920   \n",
       "\n",
       "            count_violence_lag_3  ndvi_anom_lag_3  food_price_idx_lag_3  \\\n",
       "datetime                                                                  \n",
       "2009-07-01                   NaN              NaN                   NaN   \n",
       "2009-07-01                   NaN              NaN                   NaN   \n",
       "2009-07-01                   NaN              NaN                   NaN   \n",
       "2009-07-01                   NaN              NaN                   NaN   \n",
       "2009-07-01                   NaN              NaN                   NaN   \n",
       "...                          ...              ...                   ...   \n",
       "2020-02-01              0.166667       111.294617              2.234340   \n",
       "2020-02-01              0.000000       105.971917              3.064545   \n",
       "2020-02-01              0.166667       106.954817              2.734335   \n",
       "2020-02-01              0.333333       108.414300              2.334342   \n",
       "2020-02-01              0.166667       111.723767              3.677937   \n",
       "\n",
       "            ipc_lag_1  ipc_lag_2  ipc_lag_3  \n",
       "datetime                                     \n",
       "2009-07-01        NaN        NaN        NaN  \n",
       "2009-07-01        NaN        NaN        NaN  \n",
       "2009-07-01        NaN        NaN        NaN  \n",
       "2009-07-01        NaN        NaN        NaN  \n",
       "2009-07-01        NaN        NaN        NaN  \n",
       "...               ...        ...        ...  \n",
       "2020-02-01        3.0        3.0        3.0  \n",
       "2020-02-01        3.0        3.0        3.0  \n",
       "2020-02-01        3.0        2.0        2.0  \n",
       "2020-02-01        3.0        3.0        3.0  \n",
       "2020-02-01        4.0        3.0        3.0  \n",
       "\n",
       "[9984 rows x 38 columns]"
      ]
     },
     "execution_count": 38,
     "metadata": {},
     "output_type": "execute_result"
    }
   ],
   "source": [
    "\n",
    "weighted_df = create_lag_df(weighted_df, ['count_violence', 'ndvi_anom'], 3, rolling=6) # 3-month-lagged rolling mean window of size 6\n",
    "weighted_df = create_lag_df(weighted_df, ['food_price_idx'], 3, difference=True, rolling=6) # difference of the 3-month-lagged rolling mean window of size 6\n",
    "weighted_df = create_lag_df(weighted_df, ['ipc'], 1, dropna=True) # 1-month-lag\n",
    "weighted_df = create_lag_df(weighted_df, ['ipc'], 2, dropna=True) # 2-month-lag\n",
    "weighted_df = create_lag_df(weighted_df, ['ipc'], 3, dropna=True) # 3-month-lag\n",
    "\n",
    "weighted_df.reset_index(inplace=True)\n",
    "weighted_df.set_index('datetime', inplace=True)\n",
    "weighted_df.sort_index(level=0, inplace=True) # Sort DataFrame by date\n",
    "weighted_df.index = pd.to_datetime(weighted_df.index)\n",
    "weighted_df"
   ]
  },
  {
   "cell_type": "code",
   "execution_count": 39,
   "id": "10e51229a0f72461",
   "metadata": {
    "ExecuteTime": {
     "end_time": "2023-10-15T17:22:45.035769105Z",
     "start_time": "2023-10-15T17:22:44.943219501Z"
    },
    "collapsed": false
   },
   "outputs": [
    {
     "data": {
      "text/html": [
       "<div>\n",
       "<style scoped>\n",
       "    .dataframe tbody tr th:only-of-type {\n",
       "        vertical-align: middle;\n",
       "    }\n",
       "\n",
       "    .dataframe tbody tr th {\n",
       "        vertical-align: top;\n",
       "    }\n",
       "\n",
       "    .dataframe thead th {\n",
       "        text-align: right;\n",
       "    }\n",
       "</style>\n",
       "<table border=\"1\" class=\"dataframe\">\n",
       "  <thead>\n",
       "    <tr style=\"text-align: right;\">\n",
       "      <th></th>\n",
       "      <th>district</th>\n",
       "      <th>country</th>\n",
       "      <th>district_code</th>\n",
       "      <th>centx</th>\n",
       "      <th>centy</th>\n",
       "      <th>year_month</th>\n",
       "      <th>year</th>\n",
       "      <th>month</th>\n",
       "      <th>ipc</th>\n",
       "      <th>ha</th>\n",
       "      <th>...</th>\n",
       "      <th>generalized_ipc_pop</th>\n",
       "      <th>pop_density</th>\n",
       "      <th>weighted_ipc_density</th>\n",
       "      <th>generalized_ipc_density</th>\n",
       "      <th>count_violence_lag_3</th>\n",
       "      <th>ndvi_anom_lag_3</th>\n",
       "      <th>food_price_idx_lag_3</th>\n",
       "      <th>ipc_lag_1</th>\n",
       "      <th>ipc_lag_2</th>\n",
       "      <th>ipc_lag_3</th>\n",
       "    </tr>\n",
       "    <tr>\n",
       "      <th>datetime</th>\n",
       "      <th></th>\n",
       "      <th></th>\n",
       "      <th></th>\n",
       "      <th></th>\n",
       "      <th></th>\n",
       "      <th></th>\n",
       "      <th></th>\n",
       "      <th></th>\n",
       "      <th></th>\n",
       "      <th></th>\n",
       "      <th></th>\n",
       "      <th></th>\n",
       "      <th></th>\n",
       "      <th></th>\n",
       "      <th></th>\n",
       "      <th></th>\n",
       "      <th></th>\n",
       "      <th></th>\n",
       "      <th></th>\n",
       "      <th></th>\n",
       "      <th></th>\n",
       "    </tr>\n",
       "  </thead>\n",
       "  <tbody>\n",
       "    <tr>\n",
       "      <th>2009-07-01</th>\n",
       "      <td>Bor</td>\n",
       "      <td>South Sudan</td>\n",
       "      <td>74</td>\n",
       "      <td>32.00486</td>\n",
       "      <td>6.465644</td>\n",
       "      <td>2009_07</td>\n",
       "      <td>2009</td>\n",
       "      <td>7</td>\n",
       "      <td>2.0</td>\n",
       "      <td>NaN</td>\n",
       "      <td>...</td>\n",
       "      <td>1.902810</td>\n",
       "      <td>1.831896e+07</td>\n",
       "      <td>3.663791e+07</td>\n",
       "      <td>1.840095</td>\n",
       "      <td>NaN</td>\n",
       "      <td>NaN</td>\n",
       "      <td>NaN</td>\n",
       "      <td>NaN</td>\n",
       "      <td>NaN</td>\n",
       "      <td>NaN</td>\n",
       "    </tr>\n",
       "    <tr>\n",
       "      <th>2009-07-01</th>\n",
       "      <td>Terekeka</td>\n",
       "      <td>South Sudan</td>\n",
       "      <td>97</td>\n",
       "      <td>31.32576</td>\n",
       "      <td>5.662623</td>\n",
       "      <td>2009_07</td>\n",
       "      <td>2009</td>\n",
       "      <td>7</td>\n",
       "      <td>1.0</td>\n",
       "      <td>NaN</td>\n",
       "      <td>...</td>\n",
       "      <td>1.386920</td>\n",
       "      <td>1.579304e+07</td>\n",
       "      <td>1.579304e+07</td>\n",
       "      <td>1.403153</td>\n",
       "      <td>NaN</td>\n",
       "      <td>NaN</td>\n",
       "      <td>NaN</td>\n",
       "      <td>NaN</td>\n",
       "      <td>NaN</td>\n",
       "      <td>NaN</td>\n",
       "    </tr>\n",
       "    <tr>\n",
       "      <th>2009-07-01</th>\n",
       "      <td>Duk</td>\n",
       "      <td>South Sudan</td>\n",
       "      <td>116</td>\n",
       "      <td>31.18647</td>\n",
       "      <td>7.617574</td>\n",
       "      <td>2009_07</td>\n",
       "      <td>2009</td>\n",
       "      <td>7</td>\n",
       "      <td>2.0</td>\n",
       "      <td>NaN</td>\n",
       "      <td>...</td>\n",
       "      <td>1.902810</td>\n",
       "      <td>1.107115e+07</td>\n",
       "      <td>2.214229e+07</td>\n",
       "      <td>1.840095</td>\n",
       "      <td>NaN</td>\n",
       "      <td>NaN</td>\n",
       "      <td>NaN</td>\n",
       "      <td>NaN</td>\n",
       "      <td>NaN</td>\n",
       "      <td>NaN</td>\n",
       "    </tr>\n",
       "    <tr>\n",
       "      <th>2009-07-01</th>\n",
       "      <td>Tonj East</td>\n",
       "      <td>South Sudan</td>\n",
       "      <td>117</td>\n",
       "      <td>29.28494</td>\n",
       "      <td>7.847276</td>\n",
       "      <td>2009_07</td>\n",
       "      <td>2009</td>\n",
       "      <td>7</td>\n",
       "      <td>1.0</td>\n",
       "      <td>NaN</td>\n",
       "      <td>...</td>\n",
       "      <td>1.897398</td>\n",
       "      <td>2.954181e+07</td>\n",
       "      <td>2.954181e+07</td>\n",
       "      <td>1.935449</td>\n",
       "      <td>NaN</td>\n",
       "      <td>NaN</td>\n",
       "      <td>NaN</td>\n",
       "      <td>NaN</td>\n",
       "      <td>NaN</td>\n",
       "      <td>NaN</td>\n",
       "    </tr>\n",
       "    <tr>\n",
       "      <th>2009-07-01</th>\n",
       "      <td>Fashoda</td>\n",
       "      <td>South Sudan</td>\n",
       "      <td>147</td>\n",
       "      <td>31.84424</td>\n",
       "      <td>9.980295</td>\n",
       "      <td>2009_07</td>\n",
       "      <td>2009</td>\n",
       "      <td>7</td>\n",
       "      <td>1.0</td>\n",
       "      <td>NaN</td>\n",
       "      <td>...</td>\n",
       "      <td>1.902810</td>\n",
       "      <td>1.210934e+07</td>\n",
       "      <td>1.210934e+07</td>\n",
       "      <td>1.840095</td>\n",
       "      <td>NaN</td>\n",
       "      <td>NaN</td>\n",
       "      <td>NaN</td>\n",
       "      <td>NaN</td>\n",
       "      <td>NaN</td>\n",
       "      <td>NaN</td>\n",
       "    </tr>\n",
       "    <tr>\n",
       "      <th>...</th>\n",
       "      <td>...</td>\n",
       "      <td>...</td>\n",
       "      <td>...</td>\n",
       "      <td>...</td>\n",
       "      <td>...</td>\n",
       "      <td>...</td>\n",
       "      <td>...</td>\n",
       "      <td>...</td>\n",
       "      <td>...</td>\n",
       "      <td>...</td>\n",
       "      <td>...</td>\n",
       "      <td>...</td>\n",
       "      <td>...</td>\n",
       "      <td>...</td>\n",
       "      <td>...</td>\n",
       "      <td>...</td>\n",
       "      <td>...</td>\n",
       "      <td>...</td>\n",
       "      <td>...</td>\n",
       "      <td>...</td>\n",
       "      <td>...</td>\n",
       "    </tr>\n",
       "    <tr>\n",
       "      <th>2020-02-01</th>\n",
       "      <td>Koch</td>\n",
       "      <td>South Sudan</td>\n",
       "      <td>127</td>\n",
       "      <td>29.85742</td>\n",
       "      <td>8.633903</td>\n",
       "      <td>2020_02</td>\n",
       "      <td>2020</td>\n",
       "      <td>2</td>\n",
       "      <td>3.0</td>\n",
       "      <td>0.0</td>\n",
       "      <td>...</td>\n",
       "      <td>3.397920</td>\n",
       "      <td>2.360382e+07</td>\n",
       "      <td>7.081147e+07</td>\n",
       "      <td>3.511564</td>\n",
       "      <td>0.166667</td>\n",
       "      <td>111.294617</td>\n",
       "      <td>2.234340</td>\n",
       "      <td>3.0</td>\n",
       "      <td>3.0</td>\n",
       "      <td>3.0</td>\n",
       "    </tr>\n",
       "    <tr>\n",
       "      <th>2020-02-01</th>\n",
       "      <td>Aweil Center</td>\n",
       "      <td>South Sudan</td>\n",
       "      <td>128</td>\n",
       "      <td>26.89562</td>\n",
       "      <td>8.417934</td>\n",
       "      <td>2020_02</td>\n",
       "      <td>2020</td>\n",
       "      <td>2</td>\n",
       "      <td>3.0</td>\n",
       "      <td>1.0</td>\n",
       "      <td>...</td>\n",
       "      <td>3.013384</td>\n",
       "      <td>3.127129e+06</td>\n",
       "      <td>9.381387e+06</td>\n",
       "      <td>3.047154</td>\n",
       "      <td>0.000000</td>\n",
       "      <td>105.971917</td>\n",
       "      <td>3.064545</td>\n",
       "      <td>3.0</td>\n",
       "      <td>3.0</td>\n",
       "      <td>3.0</td>\n",
       "    </tr>\n",
       "    <tr>\n",
       "      <th>2020-02-01</th>\n",
       "      <td>Gogrial East</td>\n",
       "      <td>South Sudan</td>\n",
       "      <td>129</td>\n",
       "      <td>28.58906</td>\n",
       "      <td>8.597443</td>\n",
       "      <td>2020_02</td>\n",
       "      <td>2020</td>\n",
       "      <td>2</td>\n",
       "      <td>3.0</td>\n",
       "      <td>0.0</td>\n",
       "      <td>...</td>\n",
       "      <td>3.013384</td>\n",
       "      <td>2.308662e+07</td>\n",
       "      <td>6.925985e+07</td>\n",
       "      <td>3.047154</td>\n",
       "      <td>0.166667</td>\n",
       "      <td>106.954817</td>\n",
       "      <td>2.734335</td>\n",
       "      <td>3.0</td>\n",
       "      <td>2.0</td>\n",
       "      <td>2.0</td>\n",
       "    </tr>\n",
       "    <tr>\n",
       "      <th>2020-02-01</th>\n",
       "      <td>Mayendit</td>\n",
       "      <td>South Sudan</td>\n",
       "      <td>122</td>\n",
       "      <td>29.91969</td>\n",
       "      <td>8.122516</td>\n",
       "      <td>2020_02</td>\n",
       "      <td>2020</td>\n",
       "      <td>2</td>\n",
       "      <td>3.0</td>\n",
       "      <td>1.0</td>\n",
       "      <td>...</td>\n",
       "      <td>3.397920</td>\n",
       "      <td>2.455531e+07</td>\n",
       "      <td>7.366593e+07</td>\n",
       "      <td>3.511564</td>\n",
       "      <td>0.333333</td>\n",
       "      <td>108.414300</td>\n",
       "      <td>2.334342</td>\n",
       "      <td>3.0</td>\n",
       "      <td>3.0</td>\n",
       "      <td>3.0</td>\n",
       "    </tr>\n",
       "    <tr>\n",
       "      <th>2020-02-01</th>\n",
       "      <td>Malakal</td>\n",
       "      <td>South Sudan</td>\n",
       "      <td>151</td>\n",
       "      <td>31.64280</td>\n",
       "      <td>9.658457</td>\n",
       "      <td>2020_02</td>\n",
       "      <td>2020</td>\n",
       "      <td>2</td>\n",
       "      <td>4.0</td>\n",
       "      <td>0.0</td>\n",
       "      <td>...</td>\n",
       "      <td>3.397920</td>\n",
       "      <td>2.153265e+08</td>\n",
       "      <td>8.613060e+08</td>\n",
       "      <td>3.511564</td>\n",
       "      <td>0.166667</td>\n",
       "      <td>111.723767</td>\n",
       "      <td>3.677937</td>\n",
       "      <td>4.0</td>\n",
       "      <td>3.0</td>\n",
       "      <td>3.0</td>\n",
       "    </tr>\n",
       "  </tbody>\n",
       "</table>\n",
       "<p>9984 rows × 41 columns</p>\n",
       "</div>"
      ],
      "text/plain": [
       "                district      country  district_code     centx     centy  \\\n",
       "datetime                                                                   \n",
       "2009-07-01           Bor  South Sudan             74  32.00486  6.465644   \n",
       "2009-07-01      Terekeka  South Sudan             97  31.32576  5.662623   \n",
       "2009-07-01           Duk  South Sudan            116  31.18647  7.617574   \n",
       "2009-07-01     Tonj East  South Sudan            117  29.28494  7.847276   \n",
       "2009-07-01       Fashoda  South Sudan            147  31.84424  9.980295   \n",
       "...                  ...          ...            ...       ...       ...   \n",
       "2020-02-01          Koch  South Sudan            127  29.85742  8.633903   \n",
       "2020-02-01  Aweil Center  South Sudan            128  26.89562  8.417934   \n",
       "2020-02-01  Gogrial East  South Sudan            129  28.58906  8.597443   \n",
       "2020-02-01      Mayendit  South Sudan            122  29.91969  8.122516   \n",
       "2020-02-01       Malakal  South Sudan            151  31.64280  9.658457   \n",
       "\n",
       "           year_month  year  month  ipc   ha  ...  generalized_ipc_pop  \\\n",
       "datetime                                      ...                        \n",
       "2009-07-01    2009_07  2009      7  2.0  NaN  ...             1.902810   \n",
       "2009-07-01    2009_07  2009      7  1.0  NaN  ...             1.386920   \n",
       "2009-07-01    2009_07  2009      7  2.0  NaN  ...             1.902810   \n",
       "2009-07-01    2009_07  2009      7  1.0  NaN  ...             1.897398   \n",
       "2009-07-01    2009_07  2009      7  1.0  NaN  ...             1.902810   \n",
       "...               ...   ...    ...  ...  ...  ...                  ...   \n",
       "2020-02-01    2020_02  2020      2  3.0  0.0  ...             3.397920   \n",
       "2020-02-01    2020_02  2020      2  3.0  1.0  ...             3.013384   \n",
       "2020-02-01    2020_02  2020      2  3.0  0.0  ...             3.013384   \n",
       "2020-02-01    2020_02  2020      2  3.0  1.0  ...             3.397920   \n",
       "2020-02-01    2020_02  2020      2  4.0  0.0  ...             3.397920   \n",
       "\n",
       "             pop_density  weighted_ipc_density  generalized_ipc_density  \\\n",
       "datetime                                                                  \n",
       "2009-07-01  1.831896e+07          3.663791e+07                 1.840095   \n",
       "2009-07-01  1.579304e+07          1.579304e+07                 1.403153   \n",
       "2009-07-01  1.107115e+07          2.214229e+07                 1.840095   \n",
       "2009-07-01  2.954181e+07          2.954181e+07                 1.935449   \n",
       "2009-07-01  1.210934e+07          1.210934e+07                 1.840095   \n",
       "...                  ...                   ...                      ...   \n",
       "2020-02-01  2.360382e+07          7.081147e+07                 3.511564   \n",
       "2020-02-01  3.127129e+06          9.381387e+06                 3.047154   \n",
       "2020-02-01  2.308662e+07          6.925985e+07                 3.047154   \n",
       "2020-02-01  2.455531e+07          7.366593e+07                 3.511564   \n",
       "2020-02-01  2.153265e+08          8.613060e+08                 3.511564   \n",
       "\n",
       "            count_violence_lag_3  ndvi_anom_lag_3  food_price_idx_lag_3  \\\n",
       "datetime                                                                  \n",
       "2009-07-01                   NaN              NaN                   NaN   \n",
       "2009-07-01                   NaN              NaN                   NaN   \n",
       "2009-07-01                   NaN              NaN                   NaN   \n",
       "2009-07-01                   NaN              NaN                   NaN   \n",
       "2009-07-01                   NaN              NaN                   NaN   \n",
       "...                          ...              ...                   ...   \n",
       "2020-02-01              0.166667       111.294617              2.234340   \n",
       "2020-02-01              0.000000       105.971917              3.064545   \n",
       "2020-02-01              0.166667       106.954817              2.734335   \n",
       "2020-02-01              0.333333       108.414300              2.334342   \n",
       "2020-02-01              0.166667       111.723767              3.677937   \n",
       "\n",
       "            ipc_lag_1  ipc_lag_2  ipc_lag_3  \n",
       "datetime                                     \n",
       "2009-07-01        NaN        NaN        NaN  \n",
       "2009-07-01        NaN        NaN        NaN  \n",
       "2009-07-01        NaN        NaN        NaN  \n",
       "2009-07-01        NaN        NaN        NaN  \n",
       "2009-07-01        NaN        NaN        NaN  \n",
       "...               ...        ...        ...  \n",
       "2020-02-01        3.0        3.0        3.0  \n",
       "2020-02-01        3.0        3.0        3.0  \n",
       "2020-02-01        3.0        2.0        2.0  \n",
       "2020-02-01        3.0        3.0        3.0  \n",
       "2020-02-01        4.0        3.0        3.0  \n",
       "\n",
       "[9984 rows x 41 columns]"
      ]
     },
     "execution_count": 39,
     "metadata": {},
     "output_type": "execute_result"
    }
   ],
   "source": [
    "\n",
    "density_df = create_lag_df(density_df, ['count_violence', 'ndvi_anom'], 3, rolling=6) # 3-month-lagged rolling mean window of size 6\n",
    "density_df = create_lag_df(density_df, ['food_price_idx'], 3, difference=True, rolling=6) # difference of the 3-month-lagged rolling mean window of size 6\n",
    "density_df = create_lag_df(density_df, ['ipc'], 1, dropna=True) # 1-month-lag\n",
    "density_df = create_lag_df(density_df, ['ipc'], 2, dropna=True) # 2-month-lag\n",
    "density_df = create_lag_df(density_df, ['ipc'], 3, dropna=True) # 3-month-lag\n",
    "\n",
    "density_df.reset_index(inplace=True)\n",
    "density_df.set_index('datetime', inplace=True)\n",
    "density_df.sort_index(level=0, inplace=True) # Sort DataFrame by date\n",
    "#d.index = pd.to_datetime(df.index)\n",
    "density_df"
   ]
  },
  {
   "cell_type": "code",
   "execution_count": 40,
   "id": "e09b5e8b7ee8fbe9",
   "metadata": {
    "ExecuteTime": {
     "end_time": "2023-10-15T17:22:47.435888034Z",
     "start_time": "2023-10-15T17:22:47.302145291Z"
    },
    "collapsed": false
   },
   "outputs": [],
   "source": [
    "news_df = pd.read_csv(\"data/articles_topics_extra_topics.csv\") # Read news data into DataFrame\n",
    "\n",
    "# Create date column\n",
    "news_df[\"datetime\"] = pd.to_datetime(\n",
    "    pd.to_datetime(news_df[\"date\"], format=\"%Y-%m-%d\").dt.strftime(\"%Y-%m\"),\n",
    "    format=\"%Y-%m\",\n",
    ")"
   ]
  },
  {
   "cell_type": "code",
   "execution_count": 41,
   "id": "3b5be4714bde2bfe",
   "metadata": {
    "ExecuteTime": {
     "end_time": "2023-10-15T17:22:48.826752259Z",
     "start_time": "2023-10-15T17:22:48.802190704Z"
    },
    "collapsed": false
   },
   "outputs": [
    {
     "data": {
      "text/html": [
       "<div>\n",
       "<style scoped>\n",
       "    .dataframe tbody tr th:only-of-type {\n",
       "        vertical-align: middle;\n",
       "    }\n",
       "\n",
       "    .dataframe tbody tr th {\n",
       "        vertical-align: top;\n",
       "    }\n",
       "\n",
       "    .dataframe thead th {\n",
       "        text-align: right;\n",
       "    }\n",
       "</style>\n",
       "<table border=\"1\" class=\"dataframe\">\n",
       "  <thead>\n",
       "    <tr style=\"text-align: right;\">\n",
       "      <th></th>\n",
       "      <th>hunger</th>\n",
       "      <th>refugees</th>\n",
       "      <th>conflict</th>\n",
       "      <th>humanitarian</th>\n",
       "      <th>corruption</th>\n",
       "      <th>terrorism</th>\n",
       "      <th>nature</th>\n",
       "      <th>oil</th>\n",
       "      <th>livestock</th>\n",
       "    </tr>\n",
       "    <tr>\n",
       "      <th>datetime</th>\n",
       "      <th></th>\n",
       "      <th></th>\n",
       "      <th></th>\n",
       "      <th></th>\n",
       "      <th></th>\n",
       "      <th></th>\n",
       "      <th></th>\n",
       "      <th></th>\n",
       "      <th></th>\n",
       "    </tr>\n",
       "  </thead>\n",
       "  <tbody>\n",
       "    <tr>\n",
       "      <th>2011-11-01</th>\n",
       "      <td>0.027155</td>\n",
       "      <td>6.201550e-03</td>\n",
       "      <td>2.356393e-02</td>\n",
       "      <td>3.971097e-03</td>\n",
       "      <td>0.012104</td>\n",
       "      <td>0.010363</td>\n",
       "      <td>0.024734</td>\n",
       "      <td>0.032530</td>\n",
       "      <td>0.052759</td>\n",
       "    </tr>\n",
       "    <tr>\n",
       "      <th>2011-12-01</th>\n",
       "      <td>0.025570</td>\n",
       "      <td>1.369219e-02</td>\n",
       "      <td>1.823405e-02</td>\n",
       "      <td>5.843756e-03</td>\n",
       "      <td>0.027085</td>\n",
       "      <td>0.010363</td>\n",
       "      <td>0.023149</td>\n",
       "      <td>0.041893</td>\n",
       "      <td>0.042099</td>\n",
       "    </tr>\n",
       "    <tr>\n",
       "      <th>2012-01-01</th>\n",
       "      <td>0.039725</td>\n",
       "      <td>2.074686e-02</td>\n",
       "      <td>2.096014e-02</td>\n",
       "      <td>6.737103e-03</td>\n",
       "      <td>0.029788</td>\n",
       "      <td>0.011279</td>\n",
       "      <td>0.034648</td>\n",
       "      <td>0.043841</td>\n",
       "      <td>0.056300</td>\n",
       "    </tr>\n",
       "    <tr>\n",
       "      <th>2012-02-01</th>\n",
       "      <td>0.032431</td>\n",
       "      <td>2.759395e-02</td>\n",
       "      <td>3.291633e-02</td>\n",
       "      <td>7.195046e-03</td>\n",
       "      <td>0.035085</td>\n",
       "      <td>0.016576</td>\n",
       "      <td>0.028904</td>\n",
       "      <td>0.054892</td>\n",
       "      <td>0.038518</td>\n",
       "    </tr>\n",
       "    <tr>\n",
       "      <th>2012-03-01</th>\n",
       "      <td>0.027833</td>\n",
       "      <td>2.895287e-02</td>\n",
       "      <td>2.911301e-02</td>\n",
       "      <td>9.009703e-03</td>\n",
       "      <td>0.029690</td>\n",
       "      <td>0.025426</td>\n",
       "      <td>0.022830</td>\n",
       "      <td>0.064703</td>\n",
       "      <td>0.030174</td>\n",
       "    </tr>\n",
       "    <tr>\n",
       "      <th>...</th>\n",
       "      <td>...</td>\n",
       "      <td>...</td>\n",
       "      <td>...</td>\n",
       "      <td>...</td>\n",
       "      <td>...</td>\n",
       "      <td>...</td>\n",
       "      <td>...</td>\n",
       "      <td>...</td>\n",
       "      <td>...</td>\n",
       "    </tr>\n",
       "    <tr>\n",
       "      <th>2022-12-01</th>\n",
       "      <td>0.022222</td>\n",
       "      <td>4.625929e-18</td>\n",
       "      <td>9.251859e-18</td>\n",
       "      <td>4.444444e-02</td>\n",
       "      <td>0.000000</td>\n",
       "      <td>0.022222</td>\n",
       "      <td>0.022222</td>\n",
       "      <td>0.027778</td>\n",
       "      <td>0.000000</td>\n",
       "    </tr>\n",
       "    <tr>\n",
       "      <th>2023-01-01</th>\n",
       "      <td>0.022222</td>\n",
       "      <td>4.625929e-18</td>\n",
       "      <td>9.251859e-18</td>\n",
       "      <td>4.444444e-02</td>\n",
       "      <td>0.027778</td>\n",
       "      <td>0.022222</td>\n",
       "      <td>0.077778</td>\n",
       "      <td>0.027778</td>\n",
       "      <td>0.000000</td>\n",
       "    </tr>\n",
       "    <tr>\n",
       "      <th>2023-02-01</th>\n",
       "      <td>0.083333</td>\n",
       "      <td>4.625929e-18</td>\n",
       "      <td>9.251859e-18</td>\n",
       "      <td>9.251859e-18</td>\n",
       "      <td>0.027778</td>\n",
       "      <td>0.000000</td>\n",
       "      <td>0.138889</td>\n",
       "      <td>0.027778</td>\n",
       "      <td>0.083333</td>\n",
       "    </tr>\n",
       "    <tr>\n",
       "      <th>2023-03-01</th>\n",
       "      <td>0.083333</td>\n",
       "      <td>1.754386e-02</td>\n",
       "      <td>9.251859e-18</td>\n",
       "      <td>1.754386e-02</td>\n",
       "      <td>0.027778</td>\n",
       "      <td>0.000000</td>\n",
       "      <td>0.156433</td>\n",
       "      <td>0.000000</td>\n",
       "      <td>0.083333</td>\n",
       "    </tr>\n",
       "    <tr>\n",
       "      <th>2023-04-01</th>\n",
       "      <td>0.108974</td>\n",
       "      <td>1.754386e-02</td>\n",
       "      <td>9.251859e-18</td>\n",
       "      <td>1.754386e-02</td>\n",
       "      <td>0.000000</td>\n",
       "      <td>0.000000</td>\n",
       "      <td>0.100877</td>\n",
       "      <td>0.000000</td>\n",
       "      <td>0.108974</td>\n",
       "    </tr>\n",
       "  </tbody>\n",
       "</table>\n",
       "<p>138 rows × 9 columns</p>\n",
       "</div>"
      ],
      "text/plain": [
       "              hunger      refugees      conflict  humanitarian  corruption  \\\n",
       "datetime                                                                     \n",
       "2011-11-01  0.027155  6.201550e-03  2.356393e-02  3.971097e-03    0.012104   \n",
       "2011-12-01  0.025570  1.369219e-02  1.823405e-02  5.843756e-03    0.027085   \n",
       "2012-01-01  0.039725  2.074686e-02  2.096014e-02  6.737103e-03    0.029788   \n",
       "2012-02-01  0.032431  2.759395e-02  3.291633e-02  7.195046e-03    0.035085   \n",
       "2012-03-01  0.027833  2.895287e-02  2.911301e-02  9.009703e-03    0.029690   \n",
       "...              ...           ...           ...           ...         ...   \n",
       "2022-12-01  0.022222  4.625929e-18  9.251859e-18  4.444444e-02    0.000000   \n",
       "2023-01-01  0.022222  4.625929e-18  9.251859e-18  4.444444e-02    0.027778   \n",
       "2023-02-01  0.083333  4.625929e-18  9.251859e-18  9.251859e-18    0.027778   \n",
       "2023-03-01  0.083333  1.754386e-02  9.251859e-18  1.754386e-02    0.027778   \n",
       "2023-04-01  0.108974  1.754386e-02  9.251859e-18  1.754386e-02    0.000000   \n",
       "\n",
       "            terrorism    nature       oil  livestock  \n",
       "datetime                                              \n",
       "2011-11-01   0.010363  0.024734  0.032530   0.052759  \n",
       "2011-12-01   0.010363  0.023149  0.041893   0.042099  \n",
       "2012-01-01   0.011279  0.034648  0.043841   0.056300  \n",
       "2012-02-01   0.016576  0.028904  0.054892   0.038518  \n",
       "2012-03-01   0.025426  0.022830  0.064703   0.030174  \n",
       "...               ...       ...       ...        ...  \n",
       "2022-12-01   0.022222  0.022222  0.027778   0.000000  \n",
       "2023-01-01   0.022222  0.077778  0.027778   0.000000  \n",
       "2023-02-01   0.000000  0.138889  0.027778   0.083333  \n",
       "2023-03-01   0.000000  0.156433  0.000000   0.083333  \n",
       "2023-04-01   0.000000  0.100877  0.000000   0.108974  \n",
       "\n",
       "[138 rows x 9 columns]"
      ]
     },
     "execution_count": 41,
     "metadata": {},
     "output_type": "execute_result"
    }
   ],
   "source": [
    "def create_news_features(columns):\n",
    "    cols = []\n",
    "    for column in columns:\n",
    "        col = news_df.groupby([\"datetime\"])[column].mean()\n",
    "        col = col.fillna(0)\n",
    "        col = col.rolling(3).mean()\n",
    "        col = col.shift(3)\n",
    "        cols.append(col)\n",
    "    return pd.concat(cols, axis=1)\n",
    "\n",
    "# country wide news features\n",
    "news_features = create_news_features(\n",
    "    [\"hunger\", 'refugees', 'conflict', 'humanitarian', 'corruption', 'terrorism', 'nature', 'oil', 'livestock'])\n",
    "news_features.dropna(how='all', inplace=True)\n",
    "news_features.index = pd.to_datetime(news_features.index)\n",
    "\n",
    "news_features"
   ]
  },
  {
   "cell_type": "code",
   "execution_count": 42,
   "id": "37e30ccaac3dce50",
   "metadata": {
    "ExecuteTime": {
     "end_time": "2023-10-15T17:22:51.127425791Z",
     "start_time": "2023-10-15T17:22:51.096295719Z"
    },
    "collapsed": false
   },
   "outputs": [
    {
     "data": {
      "text/html": [
       "<div>\n",
       "<style scoped>\n",
       "    .dataframe tbody tr th:only-of-type {\n",
       "        vertical-align: middle;\n",
       "    }\n",
       "\n",
       "    .dataframe tbody tr th {\n",
       "        vertical-align: top;\n",
       "    }\n",
       "\n",
       "    .dataframe thead th {\n",
       "        text-align: right;\n",
       "    }\n",
       "</style>\n",
       "<table border=\"1\" class=\"dataframe\">\n",
       "  <thead>\n",
       "    <tr style=\"text-align: right;\">\n",
       "      <th></th>\n",
       "      <th>district</th>\n",
       "      <th>country</th>\n",
       "      <th>district_code</th>\n",
       "      <th>centx</th>\n",
       "      <th>centy</th>\n",
       "      <th>year_month</th>\n",
       "      <th>year</th>\n",
       "      <th>month</th>\n",
       "      <th>ipc</th>\n",
       "      <th>ha</th>\n",
       "      <th>...</th>\n",
       "      <th>ipc_lag_3</th>\n",
       "      <th>hunger</th>\n",
       "      <th>refugees</th>\n",
       "      <th>conflict</th>\n",
       "      <th>humanitarian</th>\n",
       "      <th>corruption</th>\n",
       "      <th>terrorism</th>\n",
       "      <th>nature</th>\n",
       "      <th>oil</th>\n",
       "      <th>livestock</th>\n",
       "    </tr>\n",
       "    <tr>\n",
       "      <th>datetime</th>\n",
       "      <th></th>\n",
       "      <th></th>\n",
       "      <th></th>\n",
       "      <th></th>\n",
       "      <th></th>\n",
       "      <th></th>\n",
       "      <th></th>\n",
       "      <th></th>\n",
       "      <th></th>\n",
       "      <th></th>\n",
       "      <th></th>\n",
       "      <th></th>\n",
       "      <th></th>\n",
       "      <th></th>\n",
       "      <th></th>\n",
       "      <th></th>\n",
       "      <th></th>\n",
       "      <th></th>\n",
       "      <th></th>\n",
       "      <th></th>\n",
       "      <th></th>\n",
       "    </tr>\n",
       "  </thead>\n",
       "  <tbody>\n",
       "    <tr>\n",
       "      <th>2009-07-01</th>\n",
       "      <td>Bor</td>\n",
       "      <td>South Sudan</td>\n",
       "      <td>74</td>\n",
       "      <td>32.00486</td>\n",
       "      <td>6.465644</td>\n",
       "      <td>2009_07</td>\n",
       "      <td>2009</td>\n",
       "      <td>7</td>\n",
       "      <td>2.0</td>\n",
       "      <td>NaN</td>\n",
       "      <td>...</td>\n",
       "      <td>NaN</td>\n",
       "      <td>NaN</td>\n",
       "      <td>NaN</td>\n",
       "      <td>NaN</td>\n",
       "      <td>NaN</td>\n",
       "      <td>NaN</td>\n",
       "      <td>NaN</td>\n",
       "      <td>NaN</td>\n",
       "      <td>NaN</td>\n",
       "      <td>NaN</td>\n",
       "    </tr>\n",
       "    <tr>\n",
       "      <th>2009-07-01</th>\n",
       "      <td>Mundri East</td>\n",
       "      <td>South Sudan</td>\n",
       "      <td>92</td>\n",
       "      <td>30.68256</td>\n",
       "      <td>5.307882</td>\n",
       "      <td>2009_07</td>\n",
       "      <td>2009</td>\n",
       "      <td>7</td>\n",
       "      <td>1.0</td>\n",
       "      <td>NaN</td>\n",
       "      <td>...</td>\n",
       "      <td>NaN</td>\n",
       "      <td>NaN</td>\n",
       "      <td>NaN</td>\n",
       "      <td>NaN</td>\n",
       "      <td>NaN</td>\n",
       "      <td>NaN</td>\n",
       "      <td>NaN</td>\n",
       "      <td>NaN</td>\n",
       "      <td>NaN</td>\n",
       "      <td>NaN</td>\n",
       "    </tr>\n",
       "    <tr>\n",
       "      <th>2009-07-01</th>\n",
       "      <td>Nyirol</td>\n",
       "      <td>South Sudan</td>\n",
       "      <td>130</td>\n",
       "      <td>32.11970</td>\n",
       "      <td>8.583063</td>\n",
       "      <td>2009_07</td>\n",
       "      <td>2009</td>\n",
       "      <td>7</td>\n",
       "      <td>3.0</td>\n",
       "      <td>NaN</td>\n",
       "      <td>...</td>\n",
       "      <td>NaN</td>\n",
       "      <td>NaN</td>\n",
       "      <td>NaN</td>\n",
       "      <td>NaN</td>\n",
       "      <td>NaN</td>\n",
       "      <td>NaN</td>\n",
       "      <td>NaN</td>\n",
       "      <td>NaN</td>\n",
       "      <td>NaN</td>\n",
       "      <td>NaN</td>\n",
       "    </tr>\n",
       "    <tr>\n",
       "      <th>2009-07-01</th>\n",
       "      <td>Aweil East</td>\n",
       "      <td>South Sudan</td>\n",
       "      <td>141</td>\n",
       "      <td>27.61364</td>\n",
       "      <td>9.243139</td>\n",
       "      <td>2009_07</td>\n",
       "      <td>2009</td>\n",
       "      <td>7</td>\n",
       "      <td>3.0</td>\n",
       "      <td>NaN</td>\n",
       "      <td>...</td>\n",
       "      <td>NaN</td>\n",
       "      <td>NaN</td>\n",
       "      <td>NaN</td>\n",
       "      <td>NaN</td>\n",
       "      <td>NaN</td>\n",
       "      <td>NaN</td>\n",
       "      <td>NaN</td>\n",
       "      <td>NaN</td>\n",
       "      <td>NaN</td>\n",
       "      <td>NaN</td>\n",
       "    </tr>\n",
       "    <tr>\n",
       "      <th>2009-07-01</th>\n",
       "      <td>Yei</td>\n",
       "      <td>South Sudan</td>\n",
       "      <td>81</td>\n",
       "      <td>30.34454</td>\n",
       "      <td>4.252148</td>\n",
       "      <td>2009_07</td>\n",
       "      <td>2009</td>\n",
       "      <td>7</td>\n",
       "      <td>1.0</td>\n",
       "      <td>NaN</td>\n",
       "      <td>...</td>\n",
       "      <td>NaN</td>\n",
       "      <td>NaN</td>\n",
       "      <td>NaN</td>\n",
       "      <td>NaN</td>\n",
       "      <td>NaN</td>\n",
       "      <td>NaN</td>\n",
       "      <td>NaN</td>\n",
       "      <td>NaN</td>\n",
       "      <td>NaN</td>\n",
       "      <td>NaN</td>\n",
       "    </tr>\n",
       "    <tr>\n",
       "      <th>...</th>\n",
       "      <td>...</td>\n",
       "      <td>...</td>\n",
       "      <td>...</td>\n",
       "      <td>...</td>\n",
       "      <td>...</td>\n",
       "      <td>...</td>\n",
       "      <td>...</td>\n",
       "      <td>...</td>\n",
       "      <td>...</td>\n",
       "      <td>...</td>\n",
       "      <td>...</td>\n",
       "      <td>...</td>\n",
       "      <td>...</td>\n",
       "      <td>...</td>\n",
       "      <td>...</td>\n",
       "      <td>...</td>\n",
       "      <td>...</td>\n",
       "      <td>...</td>\n",
       "      <td>...</td>\n",
       "      <td>...</td>\n",
       "      <td>...</td>\n",
       "    </tr>\n",
       "    <tr>\n",
       "      <th>2020-02-01</th>\n",
       "      <td>Jur River</td>\n",
       "      <td>South Sudan</td>\n",
       "      <td>75</td>\n",
       "      <td>28.02439</td>\n",
       "      <td>7.592506</td>\n",
       "      <td>2020_02</td>\n",
       "      <td>2020</td>\n",
       "      <td>2</td>\n",
       "      <td>2.0</td>\n",
       "      <td>0.0</td>\n",
       "      <td>...</td>\n",
       "      <td>3.0</td>\n",
       "      <td>0.0</td>\n",
       "      <td>4.625929e-18</td>\n",
       "      <td>9.251859e-18</td>\n",
       "      <td>0.010753</td>\n",
       "      <td>0.062379</td>\n",
       "      <td>0.0</td>\n",
       "      <td>0.022052</td>\n",
       "      <td>0.050144</td>\n",
       "      <td>0.0</td>\n",
       "    </tr>\n",
       "    <tr>\n",
       "      <th>2020-02-01</th>\n",
       "      <td>Bor</td>\n",
       "      <td>South Sudan</td>\n",
       "      <td>74</td>\n",
       "      <td>32.00486</td>\n",
       "      <td>6.465644</td>\n",
       "      <td>2020_02</td>\n",
       "      <td>2020</td>\n",
       "      <td>2</td>\n",
       "      <td>3.0</td>\n",
       "      <td>0.0</td>\n",
       "      <td>...</td>\n",
       "      <td>3.0</td>\n",
       "      <td>0.0</td>\n",
       "      <td>4.625929e-18</td>\n",
       "      <td>9.251859e-18</td>\n",
       "      <td>0.010753</td>\n",
       "      <td>0.062379</td>\n",
       "      <td>0.0</td>\n",
       "      <td>0.022052</td>\n",
       "      <td>0.050144</td>\n",
       "      <td>0.0</td>\n",
       "    </tr>\n",
       "    <tr>\n",
       "      <th>2020-02-01</th>\n",
       "      <td>Juba</td>\n",
       "      <td>South Sudan</td>\n",
       "      <td>90</td>\n",
       "      <td>31.48342</td>\n",
       "      <td>4.717081</td>\n",
       "      <td>2020_02</td>\n",
       "      <td>2020</td>\n",
       "      <td>2</td>\n",
       "      <td>3.0</td>\n",
       "      <td>0.0</td>\n",
       "      <td>...</td>\n",
       "      <td>3.0</td>\n",
       "      <td>0.0</td>\n",
       "      <td>4.625929e-18</td>\n",
       "      <td>9.251859e-18</td>\n",
       "      <td>0.010753</td>\n",
       "      <td>0.062379</td>\n",
       "      <td>0.0</td>\n",
       "      <td>0.022052</td>\n",
       "      <td>0.050144</td>\n",
       "      <td>0.0</td>\n",
       "    </tr>\n",
       "    <tr>\n",
       "      <th>2020-02-01</th>\n",
       "      <td>Ikotos</td>\n",
       "      <td>South Sudan</td>\n",
       "      <td>80</td>\n",
       "      <td>33.13061</td>\n",
       "      <td>4.027118</td>\n",
       "      <td>2020_02</td>\n",
       "      <td>2020</td>\n",
       "      <td>2</td>\n",
       "      <td>3.0</td>\n",
       "      <td>0.0</td>\n",
       "      <td>...</td>\n",
       "      <td>2.0</td>\n",
       "      <td>0.0</td>\n",
       "      <td>4.625929e-18</td>\n",
       "      <td>9.251859e-18</td>\n",
       "      <td>0.010753</td>\n",
       "      <td>0.062379</td>\n",
       "      <td>0.0</td>\n",
       "      <td>0.022052</td>\n",
       "      <td>0.050144</td>\n",
       "      <td>0.0</td>\n",
       "    </tr>\n",
       "    <tr>\n",
       "      <th>2020-02-01</th>\n",
       "      <td>Malakal</td>\n",
       "      <td>South Sudan</td>\n",
       "      <td>151</td>\n",
       "      <td>31.64280</td>\n",
       "      <td>9.658457</td>\n",
       "      <td>2020_02</td>\n",
       "      <td>2020</td>\n",
       "      <td>2</td>\n",
       "      <td>4.0</td>\n",
       "      <td>0.0</td>\n",
       "      <td>...</td>\n",
       "      <td>3.0</td>\n",
       "      <td>0.0</td>\n",
       "      <td>4.625929e-18</td>\n",
       "      <td>9.251859e-18</td>\n",
       "      <td>0.010753</td>\n",
       "      <td>0.062379</td>\n",
       "      <td>0.0</td>\n",
       "      <td>0.022052</td>\n",
       "      <td>0.050144</td>\n",
       "      <td>0.0</td>\n",
       "    </tr>\n",
       "  </tbody>\n",
       "</table>\n",
       "<p>9984 rows × 46 columns</p>\n",
       "</div>"
      ],
      "text/plain": [
       "               district      country  district_code     centx     centy  \\\n",
       "datetime                                                                  \n",
       "2009-07-01          Bor  South Sudan             74  32.00486  6.465644   \n",
       "2009-07-01  Mundri East  South Sudan             92  30.68256  5.307882   \n",
       "2009-07-01       Nyirol  South Sudan            130  32.11970  8.583063   \n",
       "2009-07-01   Aweil East  South Sudan            141  27.61364  9.243139   \n",
       "2009-07-01          Yei  South Sudan             81  30.34454  4.252148   \n",
       "...                 ...          ...            ...       ...       ...   \n",
       "2020-02-01    Jur River  South Sudan             75  28.02439  7.592506   \n",
       "2020-02-01          Bor  South Sudan             74  32.00486  6.465644   \n",
       "2020-02-01         Juba  South Sudan             90  31.48342  4.717081   \n",
       "2020-02-01       Ikotos  South Sudan             80  33.13061  4.027118   \n",
       "2020-02-01      Malakal  South Sudan            151  31.64280  9.658457   \n",
       "\n",
       "           year_month  year  month  ipc   ha  ...  ipc_lag_3  hunger  \\\n",
       "datetime                                      ...                      \n",
       "2009-07-01    2009_07  2009      7  2.0  NaN  ...        NaN     NaN   \n",
       "2009-07-01    2009_07  2009      7  1.0  NaN  ...        NaN     NaN   \n",
       "2009-07-01    2009_07  2009      7  3.0  NaN  ...        NaN     NaN   \n",
       "2009-07-01    2009_07  2009      7  3.0  NaN  ...        NaN     NaN   \n",
       "2009-07-01    2009_07  2009      7  1.0  NaN  ...        NaN     NaN   \n",
       "...               ...   ...    ...  ...  ...  ...        ...     ...   \n",
       "2020-02-01    2020_02  2020      2  2.0  0.0  ...        3.0     0.0   \n",
       "2020-02-01    2020_02  2020      2  3.0  0.0  ...        3.0     0.0   \n",
       "2020-02-01    2020_02  2020      2  3.0  0.0  ...        3.0     0.0   \n",
       "2020-02-01    2020_02  2020      2  3.0  0.0  ...        2.0     0.0   \n",
       "2020-02-01    2020_02  2020      2  4.0  0.0  ...        3.0     0.0   \n",
       "\n",
       "                refugees      conflict  humanitarian  corruption  terrorism  \\\n",
       "datetime                                                                      \n",
       "2009-07-01           NaN           NaN           NaN         NaN        NaN   \n",
       "2009-07-01           NaN           NaN           NaN         NaN        NaN   \n",
       "2009-07-01           NaN           NaN           NaN         NaN        NaN   \n",
       "2009-07-01           NaN           NaN           NaN         NaN        NaN   \n",
       "2009-07-01           NaN           NaN           NaN         NaN        NaN   \n",
       "...                  ...           ...           ...         ...        ...   \n",
       "2020-02-01  4.625929e-18  9.251859e-18      0.010753    0.062379        0.0   \n",
       "2020-02-01  4.625929e-18  9.251859e-18      0.010753    0.062379        0.0   \n",
       "2020-02-01  4.625929e-18  9.251859e-18      0.010753    0.062379        0.0   \n",
       "2020-02-01  4.625929e-18  9.251859e-18      0.010753    0.062379        0.0   \n",
       "2020-02-01  4.625929e-18  9.251859e-18      0.010753    0.062379        0.0   \n",
       "\n",
       "              nature       oil  livestock  \n",
       "datetime                                   \n",
       "2009-07-01       NaN       NaN        NaN  \n",
       "2009-07-01       NaN       NaN        NaN  \n",
       "2009-07-01       NaN       NaN        NaN  \n",
       "2009-07-01       NaN       NaN        NaN  \n",
       "2009-07-01       NaN       NaN        NaN  \n",
       "...              ...       ...        ...  \n",
       "2020-02-01  0.022052  0.050144        0.0  \n",
       "2020-02-01  0.022052  0.050144        0.0  \n",
       "2020-02-01  0.022052  0.050144        0.0  \n",
       "2020-02-01  0.022052  0.050144        0.0  \n",
       "2020-02-01  0.022052  0.050144        0.0  \n",
       "\n",
       "[9984 rows x 46 columns]"
      ]
     },
     "execution_count": 42,
     "metadata": {},
     "output_type": "execute_result"
    }
   ],
   "source": [
    "weighted_df.sort_index(level=0, inplace=True) # Sort DataFrame by date\n",
    "# weighted_df = weighted_df.iloc[weighted_df['ipc'].notnull().argmax():].copy() # Drop rows until first notna value in ipc column\n",
    "weighted_df = weighted_df.merge(news_features, left_index=True, right_index=True, how='left')\n",
    "weighted_df.drop(['province'], axis=1, inplace=True)\n",
    "weighted_df"
   ]
  },
  {
   "cell_type": "code",
   "execution_count": 43,
   "id": "4e64737d21bcd1eb",
   "metadata": {
    "ExecuteTime": {
     "end_time": "2023-10-15T17:22:54.081482949Z",
     "start_time": "2023-10-15T17:22:54.056389562Z"
    },
    "collapsed": false
   },
   "outputs": [
    {
     "data": {
      "text/html": [
       "<div>\n",
       "<style scoped>\n",
       "    .dataframe tbody tr th:only-of-type {\n",
       "        vertical-align: middle;\n",
       "    }\n",
       "\n",
       "    .dataframe tbody tr th {\n",
       "        vertical-align: top;\n",
       "    }\n",
       "\n",
       "    .dataframe thead th {\n",
       "        text-align: right;\n",
       "    }\n",
       "</style>\n",
       "<table border=\"1\" class=\"dataframe\">\n",
       "  <thead>\n",
       "    <tr style=\"text-align: right;\">\n",
       "      <th></th>\n",
       "      <th>district</th>\n",
       "      <th>country</th>\n",
       "      <th>district_code</th>\n",
       "      <th>centx</th>\n",
       "      <th>centy</th>\n",
       "      <th>year_month</th>\n",
       "      <th>year</th>\n",
       "      <th>month</th>\n",
       "      <th>ipc</th>\n",
       "      <th>ha</th>\n",
       "      <th>...</th>\n",
       "      <th>ipc_lag_3</th>\n",
       "      <th>hunger</th>\n",
       "      <th>refugees</th>\n",
       "      <th>conflict</th>\n",
       "      <th>humanitarian</th>\n",
       "      <th>corruption</th>\n",
       "      <th>terrorism</th>\n",
       "      <th>nature</th>\n",
       "      <th>oil</th>\n",
       "      <th>livestock</th>\n",
       "    </tr>\n",
       "    <tr>\n",
       "      <th>datetime</th>\n",
       "      <th></th>\n",
       "      <th></th>\n",
       "      <th></th>\n",
       "      <th></th>\n",
       "      <th></th>\n",
       "      <th></th>\n",
       "      <th></th>\n",
       "      <th></th>\n",
       "      <th></th>\n",
       "      <th></th>\n",
       "      <th></th>\n",
       "      <th></th>\n",
       "      <th></th>\n",
       "      <th></th>\n",
       "      <th></th>\n",
       "      <th></th>\n",
       "      <th></th>\n",
       "      <th></th>\n",
       "      <th></th>\n",
       "      <th></th>\n",
       "      <th></th>\n",
       "    </tr>\n",
       "  </thead>\n",
       "  <tbody>\n",
       "    <tr>\n",
       "      <th>2009-07-01</th>\n",
       "      <td>Bor</td>\n",
       "      <td>South Sudan</td>\n",
       "      <td>74</td>\n",
       "      <td>32.00486</td>\n",
       "      <td>6.465644</td>\n",
       "      <td>2009_07</td>\n",
       "      <td>2009</td>\n",
       "      <td>7</td>\n",
       "      <td>2.0</td>\n",
       "      <td>NaN</td>\n",
       "      <td>...</td>\n",
       "      <td>NaN</td>\n",
       "      <td>NaN</td>\n",
       "      <td>NaN</td>\n",
       "      <td>NaN</td>\n",
       "      <td>NaN</td>\n",
       "      <td>NaN</td>\n",
       "      <td>NaN</td>\n",
       "      <td>NaN</td>\n",
       "      <td>NaN</td>\n",
       "      <td>NaN</td>\n",
       "    </tr>\n",
       "    <tr>\n",
       "      <th>2009-07-01</th>\n",
       "      <td>Mundri East</td>\n",
       "      <td>South Sudan</td>\n",
       "      <td>92</td>\n",
       "      <td>30.68256</td>\n",
       "      <td>5.307882</td>\n",
       "      <td>2009_07</td>\n",
       "      <td>2009</td>\n",
       "      <td>7</td>\n",
       "      <td>1.0</td>\n",
       "      <td>NaN</td>\n",
       "      <td>...</td>\n",
       "      <td>NaN</td>\n",
       "      <td>NaN</td>\n",
       "      <td>NaN</td>\n",
       "      <td>NaN</td>\n",
       "      <td>NaN</td>\n",
       "      <td>NaN</td>\n",
       "      <td>NaN</td>\n",
       "      <td>NaN</td>\n",
       "      <td>NaN</td>\n",
       "      <td>NaN</td>\n",
       "    </tr>\n",
       "    <tr>\n",
       "      <th>2009-07-01</th>\n",
       "      <td>Nyirol</td>\n",
       "      <td>South Sudan</td>\n",
       "      <td>130</td>\n",
       "      <td>32.11970</td>\n",
       "      <td>8.583063</td>\n",
       "      <td>2009_07</td>\n",
       "      <td>2009</td>\n",
       "      <td>7</td>\n",
       "      <td>3.0</td>\n",
       "      <td>NaN</td>\n",
       "      <td>...</td>\n",
       "      <td>NaN</td>\n",
       "      <td>NaN</td>\n",
       "      <td>NaN</td>\n",
       "      <td>NaN</td>\n",
       "      <td>NaN</td>\n",
       "      <td>NaN</td>\n",
       "      <td>NaN</td>\n",
       "      <td>NaN</td>\n",
       "      <td>NaN</td>\n",
       "      <td>NaN</td>\n",
       "    </tr>\n",
       "    <tr>\n",
       "      <th>2009-07-01</th>\n",
       "      <td>Aweil East</td>\n",
       "      <td>South Sudan</td>\n",
       "      <td>141</td>\n",
       "      <td>27.61364</td>\n",
       "      <td>9.243139</td>\n",
       "      <td>2009_07</td>\n",
       "      <td>2009</td>\n",
       "      <td>7</td>\n",
       "      <td>3.0</td>\n",
       "      <td>NaN</td>\n",
       "      <td>...</td>\n",
       "      <td>NaN</td>\n",
       "      <td>NaN</td>\n",
       "      <td>NaN</td>\n",
       "      <td>NaN</td>\n",
       "      <td>NaN</td>\n",
       "      <td>NaN</td>\n",
       "      <td>NaN</td>\n",
       "      <td>NaN</td>\n",
       "      <td>NaN</td>\n",
       "      <td>NaN</td>\n",
       "    </tr>\n",
       "    <tr>\n",
       "      <th>2009-07-01</th>\n",
       "      <td>Yei</td>\n",
       "      <td>South Sudan</td>\n",
       "      <td>81</td>\n",
       "      <td>30.34454</td>\n",
       "      <td>4.252148</td>\n",
       "      <td>2009_07</td>\n",
       "      <td>2009</td>\n",
       "      <td>7</td>\n",
       "      <td>1.0</td>\n",
       "      <td>NaN</td>\n",
       "      <td>...</td>\n",
       "      <td>NaN</td>\n",
       "      <td>NaN</td>\n",
       "      <td>NaN</td>\n",
       "      <td>NaN</td>\n",
       "      <td>NaN</td>\n",
       "      <td>NaN</td>\n",
       "      <td>NaN</td>\n",
       "      <td>NaN</td>\n",
       "      <td>NaN</td>\n",
       "      <td>NaN</td>\n",
       "    </tr>\n",
       "    <tr>\n",
       "      <th>...</th>\n",
       "      <td>...</td>\n",
       "      <td>...</td>\n",
       "      <td>...</td>\n",
       "      <td>...</td>\n",
       "      <td>...</td>\n",
       "      <td>...</td>\n",
       "      <td>...</td>\n",
       "      <td>...</td>\n",
       "      <td>...</td>\n",
       "      <td>...</td>\n",
       "      <td>...</td>\n",
       "      <td>...</td>\n",
       "      <td>...</td>\n",
       "      <td>...</td>\n",
       "      <td>...</td>\n",
       "      <td>...</td>\n",
       "      <td>...</td>\n",
       "      <td>...</td>\n",
       "      <td>...</td>\n",
       "      <td>...</td>\n",
       "      <td>...</td>\n",
       "    </tr>\n",
       "    <tr>\n",
       "      <th>2020-02-01</th>\n",
       "      <td>Jur River</td>\n",
       "      <td>South Sudan</td>\n",
       "      <td>75</td>\n",
       "      <td>28.02439</td>\n",
       "      <td>7.592506</td>\n",
       "      <td>2020_02</td>\n",
       "      <td>2020</td>\n",
       "      <td>2</td>\n",
       "      <td>2.0</td>\n",
       "      <td>0.0</td>\n",
       "      <td>...</td>\n",
       "      <td>3.0</td>\n",
       "      <td>0.0</td>\n",
       "      <td>4.625929e-18</td>\n",
       "      <td>9.251859e-18</td>\n",
       "      <td>0.010753</td>\n",
       "      <td>0.062379</td>\n",
       "      <td>0.0</td>\n",
       "      <td>0.022052</td>\n",
       "      <td>0.050144</td>\n",
       "      <td>0.0</td>\n",
       "    </tr>\n",
       "    <tr>\n",
       "      <th>2020-02-01</th>\n",
       "      <td>Bor</td>\n",
       "      <td>South Sudan</td>\n",
       "      <td>74</td>\n",
       "      <td>32.00486</td>\n",
       "      <td>6.465644</td>\n",
       "      <td>2020_02</td>\n",
       "      <td>2020</td>\n",
       "      <td>2</td>\n",
       "      <td>3.0</td>\n",
       "      <td>0.0</td>\n",
       "      <td>...</td>\n",
       "      <td>3.0</td>\n",
       "      <td>0.0</td>\n",
       "      <td>4.625929e-18</td>\n",
       "      <td>9.251859e-18</td>\n",
       "      <td>0.010753</td>\n",
       "      <td>0.062379</td>\n",
       "      <td>0.0</td>\n",
       "      <td>0.022052</td>\n",
       "      <td>0.050144</td>\n",
       "      <td>0.0</td>\n",
       "    </tr>\n",
       "    <tr>\n",
       "      <th>2020-02-01</th>\n",
       "      <td>Juba</td>\n",
       "      <td>South Sudan</td>\n",
       "      <td>90</td>\n",
       "      <td>31.48342</td>\n",
       "      <td>4.717081</td>\n",
       "      <td>2020_02</td>\n",
       "      <td>2020</td>\n",
       "      <td>2</td>\n",
       "      <td>3.0</td>\n",
       "      <td>0.0</td>\n",
       "      <td>...</td>\n",
       "      <td>3.0</td>\n",
       "      <td>0.0</td>\n",
       "      <td>4.625929e-18</td>\n",
       "      <td>9.251859e-18</td>\n",
       "      <td>0.010753</td>\n",
       "      <td>0.062379</td>\n",
       "      <td>0.0</td>\n",
       "      <td>0.022052</td>\n",
       "      <td>0.050144</td>\n",
       "      <td>0.0</td>\n",
       "    </tr>\n",
       "    <tr>\n",
       "      <th>2020-02-01</th>\n",
       "      <td>Ikotos</td>\n",
       "      <td>South Sudan</td>\n",
       "      <td>80</td>\n",
       "      <td>33.13061</td>\n",
       "      <td>4.027118</td>\n",
       "      <td>2020_02</td>\n",
       "      <td>2020</td>\n",
       "      <td>2</td>\n",
       "      <td>3.0</td>\n",
       "      <td>0.0</td>\n",
       "      <td>...</td>\n",
       "      <td>2.0</td>\n",
       "      <td>0.0</td>\n",
       "      <td>4.625929e-18</td>\n",
       "      <td>9.251859e-18</td>\n",
       "      <td>0.010753</td>\n",
       "      <td>0.062379</td>\n",
       "      <td>0.0</td>\n",
       "      <td>0.022052</td>\n",
       "      <td>0.050144</td>\n",
       "      <td>0.0</td>\n",
       "    </tr>\n",
       "    <tr>\n",
       "      <th>2020-02-01</th>\n",
       "      <td>Malakal</td>\n",
       "      <td>South Sudan</td>\n",
       "      <td>151</td>\n",
       "      <td>31.64280</td>\n",
       "      <td>9.658457</td>\n",
       "      <td>2020_02</td>\n",
       "      <td>2020</td>\n",
       "      <td>2</td>\n",
       "      <td>4.0</td>\n",
       "      <td>0.0</td>\n",
       "      <td>...</td>\n",
       "      <td>3.0</td>\n",
       "      <td>0.0</td>\n",
       "      <td>4.625929e-18</td>\n",
       "      <td>9.251859e-18</td>\n",
       "      <td>0.010753</td>\n",
       "      <td>0.062379</td>\n",
       "      <td>0.0</td>\n",
       "      <td>0.022052</td>\n",
       "      <td>0.050144</td>\n",
       "      <td>0.0</td>\n",
       "    </tr>\n",
       "  </tbody>\n",
       "</table>\n",
       "<p>9984 rows × 49 columns</p>\n",
       "</div>"
      ],
      "text/plain": [
       "               district      country  district_code     centx     centy  \\\n",
       "datetime                                                                  \n",
       "2009-07-01          Bor  South Sudan             74  32.00486  6.465644   \n",
       "2009-07-01  Mundri East  South Sudan             92  30.68256  5.307882   \n",
       "2009-07-01       Nyirol  South Sudan            130  32.11970  8.583063   \n",
       "2009-07-01   Aweil East  South Sudan            141  27.61364  9.243139   \n",
       "2009-07-01          Yei  South Sudan             81  30.34454  4.252148   \n",
       "...                 ...          ...            ...       ...       ...   \n",
       "2020-02-01    Jur River  South Sudan             75  28.02439  7.592506   \n",
       "2020-02-01          Bor  South Sudan             74  32.00486  6.465644   \n",
       "2020-02-01         Juba  South Sudan             90  31.48342  4.717081   \n",
       "2020-02-01       Ikotos  South Sudan             80  33.13061  4.027118   \n",
       "2020-02-01      Malakal  South Sudan            151  31.64280  9.658457   \n",
       "\n",
       "           year_month  year  month  ipc   ha  ...  ipc_lag_3  hunger  \\\n",
       "datetime                                      ...                      \n",
       "2009-07-01    2009_07  2009      7  2.0  NaN  ...        NaN     NaN   \n",
       "2009-07-01    2009_07  2009      7  1.0  NaN  ...        NaN     NaN   \n",
       "2009-07-01    2009_07  2009      7  3.0  NaN  ...        NaN     NaN   \n",
       "2009-07-01    2009_07  2009      7  3.0  NaN  ...        NaN     NaN   \n",
       "2009-07-01    2009_07  2009      7  1.0  NaN  ...        NaN     NaN   \n",
       "...               ...   ...    ...  ...  ...  ...        ...     ...   \n",
       "2020-02-01    2020_02  2020      2  2.0  0.0  ...        3.0     0.0   \n",
       "2020-02-01    2020_02  2020      2  3.0  0.0  ...        3.0     0.0   \n",
       "2020-02-01    2020_02  2020      2  3.0  0.0  ...        3.0     0.0   \n",
       "2020-02-01    2020_02  2020      2  3.0  0.0  ...        2.0     0.0   \n",
       "2020-02-01    2020_02  2020      2  4.0  0.0  ...        3.0     0.0   \n",
       "\n",
       "                refugees      conflict  humanitarian  corruption  terrorism  \\\n",
       "datetime                                                                      \n",
       "2009-07-01           NaN           NaN           NaN         NaN        NaN   \n",
       "2009-07-01           NaN           NaN           NaN         NaN        NaN   \n",
       "2009-07-01           NaN           NaN           NaN         NaN        NaN   \n",
       "2009-07-01           NaN           NaN           NaN         NaN        NaN   \n",
       "2009-07-01           NaN           NaN           NaN         NaN        NaN   \n",
       "...                  ...           ...           ...         ...        ...   \n",
       "2020-02-01  4.625929e-18  9.251859e-18      0.010753    0.062379        0.0   \n",
       "2020-02-01  4.625929e-18  9.251859e-18      0.010753    0.062379        0.0   \n",
       "2020-02-01  4.625929e-18  9.251859e-18      0.010753    0.062379        0.0   \n",
       "2020-02-01  4.625929e-18  9.251859e-18      0.010753    0.062379        0.0   \n",
       "2020-02-01  4.625929e-18  9.251859e-18      0.010753    0.062379        0.0   \n",
       "\n",
       "              nature       oil  livestock  \n",
       "datetime                                   \n",
       "2009-07-01       NaN       NaN        NaN  \n",
       "2009-07-01       NaN       NaN        NaN  \n",
       "2009-07-01       NaN       NaN        NaN  \n",
       "2009-07-01       NaN       NaN        NaN  \n",
       "2009-07-01       NaN       NaN        NaN  \n",
       "...              ...       ...        ...  \n",
       "2020-02-01  0.022052  0.050144        0.0  \n",
       "2020-02-01  0.022052  0.050144        0.0  \n",
       "2020-02-01  0.022052  0.050144        0.0  \n",
       "2020-02-01  0.022052  0.050144        0.0  \n",
       "2020-02-01  0.022052  0.050144        0.0  \n",
       "\n",
       "[9984 rows x 49 columns]"
      ]
     },
     "execution_count": 43,
     "metadata": {},
     "output_type": "execute_result"
    }
   ],
   "source": [
    "density_df.index = pd.to_datetime(density_df.index)\n",
    "density_df.sort_index(level=0, inplace=True) # Sort DataFrame by date\n",
    "# df = df.iloc[df['ipc'].notnull().argmax():].copy() # Drop rows until first notna value in ipc column\n",
    "density_df = density_df.merge(news_features, left_index=True, right_index=True, how='left')\n",
    "density_df.drop(['province'], axis=1, inplace=True)\n",
    "density_df"
   ]
  },
  {
   "cell_type": "markdown",
   "id": "23dde25bda265eb4",
   "metadata": {
    "collapsed": false
   },
   "source": [
    "### PREDICTING IPC WITH NEWS FEATURES"
   ]
  },
  {
   "cell_type": "code",
   "execution_count": 44,
   "id": "22ebc6e1c1269d8",
   "metadata": {
    "ExecuteTime": {
     "start_time": "2023-10-08T20:36:39.611817251Z"
    },
    "collapsed": false
   },
   "outputs": [
    {
     "name": "stderr",
     "output_type": "stream",
     "text": [
      "c:\\Users\\Rafi\\AppData\\Local\\Programs\\Python\\Python310\\lib\\site-packages\\sklearn\\utils\\extmath.py:981: RuntimeWarning: invalid value encountered in divide\n",
      "  updated_mean = (last_sum + new_sum) / updated_sample_count\n",
      "c:\\Users\\Rafi\\AppData\\Local\\Programs\\Python\\Python310\\lib\\site-packages\\sklearn\\utils\\extmath.py:986: RuntimeWarning: invalid value encountered in divide\n",
      "  T = new_sum / new_sample_count\n",
      "c:\\Users\\Rafi\\AppData\\Local\\Programs\\Python\\Python310\\lib\\site-packages\\sklearn\\utils\\extmath.py:1006: RuntimeWarning: invalid value encountered in divide\n",
      "  new_unnormalized_variance -= correction**2 / new_sample_count\n",
      "c:\\Users\\Rafi\\AppData\\Local\\Programs\\Python\\Python310\\lib\\site-packages\\sklearn\\utils\\validation.py:1111: DataConversionWarning: A column-vector y was passed when a 1d array was expected. Please change the shape of y to (n_samples, ), for example using ravel().\n",
      "  y = column_or_1d(y, warn=True)\n"
     ]
    },
    {
     "data": {
      "image/png": "[encoded data removed]",
      "text/plain": [
       "<Figure size 432x288 with 2 Axes>"
      ]
     },
     "metadata": {
      "needs_background": "light"
     },
     "output_type": "display_data"
    },
    {
     "name": "stderr",
     "output_type": "stream",
     "text": [
      "c:\\Users\\Rafi\\AppData\\Local\\Programs\\Python\\Python310\\lib\\site-packages\\sklearn\\metrics\\_classification.py:1334: UndefinedMetricWarning: Precision and F-score are ill-defined and being set to 0.0 in labels with no predicted samples. Use `zero_division` parameter to control this behavior.\n",
      "  _warn_prf(average, modifier, msg_start, len(result))\n",
      "c:\\Users\\Rafi\\AppData\\Local\\Programs\\Python\\Python310\\lib\\site-packages\\sklearn\\metrics\\_classification.py:1334: UndefinedMetricWarning: Precision and F-score are ill-defined and being set to 0.0 in labels with no predicted samples. Use `zero_division` parameter to control this behavior.\n",
      "  _warn_prf(average, modifier, msg_start, len(result))\n",
      "c:\\Users\\Rafi\\AppData\\Local\\Programs\\Python\\Python310\\lib\\site-packages\\sklearn\\metrics\\_classification.py:1334: UndefinedMetricWarning: Precision and F-score are ill-defined and being set to 0.0 in labels with no predicted samples. Use `zero_division` parameter to control this behavior.\n",
      "  _warn_prf(average, modifier, msg_start, len(result))\n",
      "c:\\Users\\Rafi\\AppData\\Local\\Programs\\Python\\Python310\\lib\\site-packages\\sklearn\\utils\\validation.py:1111: DataConversionWarning: A column-vector y was passed when a 1d array was expected. Please change the shape of y to (n_samples, ), for example using ravel().\n",
      "  y = column_or_1d(y, warn=True)\n"
     ]
    },
    {
     "name": "stdout",
     "output_type": "stream",
     "text": [
      "              precision    recall  f1-score   support\n",
      "\n",
      "           1       0.89      0.90      0.90       746\n",
      "           2       0.62      0.89      0.73       632\n",
      "           3       0.00      0.00      0.00       286\n",
      "\n",
      "    accuracy                           0.74      1664\n",
      "   macro avg       0.50      0.60      0.54      1664\n",
      "weighted avg       0.64      0.74      0.68      1664\n",
      "\n"
     ]
    },
    {
     "data": {
      "image/png": "[encoded data removed]",
      "text/plain": [
       "<Figure size 432x288 with 2 Axes>"
      ]
     },
     "metadata": {
      "needs_background": "light"
     },
     "output_type": "display_data"
    },
    {
     "name": "stderr",
     "output_type": "stream",
     "text": [
      "c:\\Users\\Rafi\\AppData\\Local\\Programs\\Python\\Python310\\lib\\site-packages\\sklearn\\metrics\\_classification.py:1334: UndefinedMetricWarning: Precision and F-score are ill-defined and being set to 0.0 in labels with no predicted samples. Use `zero_division` parameter to control this behavior.\n",
      "  _warn_prf(average, modifier, msg_start, len(result))\n",
      "c:\\Users\\Rafi\\AppData\\Local\\Programs\\Python\\Python310\\lib\\site-packages\\sklearn\\metrics\\_classification.py:1334: UndefinedMetricWarning: Precision and F-score are ill-defined and being set to 0.0 in labels with no predicted samples. Use `zero_division` parameter to control this behavior.\n",
      "  _warn_prf(average, modifier, msg_start, len(result))\n",
      "c:\\Users\\Rafi\\AppData\\Local\\Programs\\Python\\Python310\\lib\\site-packages\\sklearn\\metrics\\_classification.py:1334: UndefinedMetricWarning: Precision and F-score are ill-defined and being set to 0.0 in labels with no predicted samples. Use `zero_division` parameter to control this behavior.\n",
      "  _warn_prf(average, modifier, msg_start, len(result))\n",
      "c:\\Users\\Rafi\\AppData\\Local\\Programs\\Python\\Python310\\lib\\site-packages\\sklearn\\utils\\validation.py:1111: DataConversionWarning: A column-vector y was passed when a 1d array was expected. Please change the shape of y to (n_samples, ), for example using ravel().\n",
      "  y = column_or_1d(y, warn=True)\n"
     ]
    },
    {
     "name": "stdout",
     "output_type": "stream",
     "text": [
      "              precision    recall  f1-score   support\n",
      "\n",
      "           1       0.87      0.88      0.88       630\n",
      "           2       0.84      0.85      0.85       778\n",
      "           3       0.71      0.79      0.75       220\n",
      "           4       0.00      0.00      0.00        36\n",
      "\n",
      "    accuracy                           0.84      1664\n",
      "   macro avg       0.61      0.63      0.62      1664\n",
      "weighted avg       0.82      0.84      0.83      1664\n",
      "\n"
     ]
    },
    {
     "data": {
      "image/png": "[encoded data removed]",
      "text/plain": [
       "<Figure size 432x288 with 2 Axes>"
      ]
     },
     "metadata": {
      "needs_background": "light"
     },
     "output_type": "display_data"
    },
    {
     "name": "stderr",
     "output_type": "stream",
     "text": [
      "c:\\Users\\Rafi\\AppData\\Local\\Programs\\Python\\Python310\\lib\\site-packages\\sklearn\\metrics\\_classification.py:1334: UndefinedMetricWarning: Precision and F-score are ill-defined and being set to 0.0 in labels with no predicted samples. Use `zero_division` parameter to control this behavior.\n",
      "  _warn_prf(average, modifier, msg_start, len(result))\n",
      "c:\\Users\\Rafi\\AppData\\Local\\Programs\\Python\\Python310\\lib\\site-packages\\sklearn\\metrics\\_classification.py:1334: UndefinedMetricWarning: Precision and F-score are ill-defined and being set to 0.0 in labels with no predicted samples. Use `zero_division` parameter to control this behavior.\n",
      "  _warn_prf(average, modifier, msg_start, len(result))\n",
      "c:\\Users\\Rafi\\AppData\\Local\\Programs\\Python\\Python310\\lib\\site-packages\\sklearn\\metrics\\_classification.py:1334: UndefinedMetricWarning: Precision and F-score are ill-defined and being set to 0.0 in labels with no predicted samples. Use `zero_division` parameter to control this behavior.\n",
      "  _warn_prf(average, modifier, msg_start, len(result))\n",
      "c:\\Users\\Rafi\\AppData\\Local\\Programs\\Python\\Python310\\lib\\site-packages\\sklearn\\utils\\validation.py:1111: DataConversionWarning: A column-vector y was passed when a 1d array was expected. Please change the shape of y to (n_samples, ), for example using ravel().\n",
      "  y = column_or_1d(y, warn=True)\n"
     ]
    },
    {
     "name": "stdout",
     "output_type": "stream",
     "text": [
      "              precision    recall  f1-score   support\n",
      "\n",
      "           1       0.87      0.98      0.92       338\n",
      "           2       0.91      0.84      0.87       823\n",
      "           3       0.68      0.86      0.76       410\n",
      "           4       0.00      0.00      0.00        93\n",
      "\n",
      "    accuracy                           0.83      1664\n",
      "   macro avg       0.61      0.67      0.64      1664\n",
      "weighted avg       0.79      0.83      0.81      1664\n",
      "\n"
     ]
    },
    {
     "data": {
      "image/png": "[encoded data removed]",
      "text/plain": [
       "<Figure size 432x288 with 2 Axes>"
      ]
     },
     "metadata": {
      "needs_background": "light"
     },
     "output_type": "display_data"
    },
    {
     "name": "stderr",
     "output_type": "stream",
     "text": [
      "c:\\Users\\Rafi\\AppData\\Local\\Programs\\Python\\Python310\\lib\\site-packages\\sklearn\\metrics\\_classification.py:1334: UndefinedMetricWarning: Precision and F-score are ill-defined and being set to 0.0 in labels with no predicted samples. Use `zero_division` parameter to control this behavior.\n",
      "  _warn_prf(average, modifier, msg_start, len(result))\n",
      "c:\\Users\\Rafi\\AppData\\Local\\Programs\\Python\\Python310\\lib\\site-packages\\sklearn\\metrics\\_classification.py:1334: UndefinedMetricWarning: Precision and F-score are ill-defined and being set to 0.0 in labels with no predicted samples. Use `zero_division` parameter to control this behavior.\n",
      "  _warn_prf(average, modifier, msg_start, len(result))\n",
      "c:\\Users\\Rafi\\AppData\\Local\\Programs\\Python\\Python310\\lib\\site-packages\\sklearn\\metrics\\_classification.py:1334: UndefinedMetricWarning: Precision and F-score are ill-defined and being set to 0.0 in labels with no predicted samples. Use `zero_division` parameter to control this behavior.\n",
      "  _warn_prf(average, modifier, msg_start, len(result))\n",
      "c:\\Users\\Rafi\\AppData\\Local\\Programs\\Python\\Python310\\lib\\site-packages\\sklearn\\utils\\validation.py:1111: DataConversionWarning: A column-vector y was passed when a 1d array was expected. Please change the shape of y to (n_samples, ), for example using ravel().\n",
      "  y = column_or_1d(y, warn=True)\n"
     ]
    },
    {
     "name": "stdout",
     "output_type": "stream",
     "text": [
      "              precision    recall  f1-score   support\n",
      "\n",
      "           2       0.61      0.96      0.75       701\n",
      "           3       0.66      0.49      0.56       768\n",
      "           4       0.00      0.00      0.00       192\n",
      "           5       0.00      0.00      0.00         3\n",
      "\n",
      "    accuracy                           0.63      1664\n",
      "   macro avg       0.32      0.36      0.33      1664\n",
      "weighted avg       0.56      0.63      0.57      1664\n",
      "\n"
     ]
    },
    {
     "data": {
      "image/png": "[encoded data removed]",
      "text/plain": [
       "<Figure size 432x288 with 2 Axes>"
      ]
     },
     "metadata": {
      "needs_background": "light"
     },
     "output_type": "display_data"
    },
    {
     "name": "stdout",
     "output_type": "stream",
     "text": [
      "              precision    recall  f1-score   support\n",
      "\n",
      "           2       0.76      0.77      0.77       632\n",
      "           3       0.67      0.84      0.75       830\n",
      "           4       0.00      0.00      0.00       202\n",
      "\n",
      "    accuracy                           0.71      1664\n",
      "   macro avg       0.48      0.53      0.50      1664\n",
      "weighted avg       0.63      0.71      0.66      1664\n",
      "\n",
      "Mean MSE: 0.275000\n",
      "Mean R-squared: 0.445058\n",
      "Mean Accuracy: 0.748077\n",
      "Accuracy of each set: [0.7415865384615384, 0.8353365384615384, 0.8269230769230769, 0.6280048076923077, 0.7085336538461539]\n"
     ]
    },
    {
     "name": "stderr",
     "output_type": "stream",
     "text": [
      "c:\\Users\\Rafi\\AppData\\Local\\Programs\\Python\\Python310\\lib\\site-packages\\sklearn\\metrics\\_classification.py:1334: UndefinedMetricWarning: Precision and F-score are ill-defined and being set to 0.0 in labels with no predicted samples. Use `zero_division` parameter to control this behavior.\n",
      "  _warn_prf(average, modifier, msg_start, len(result))\n",
      "c:\\Users\\Rafi\\AppData\\Local\\Programs\\Python\\Python310\\lib\\site-packages\\sklearn\\metrics\\_classification.py:1334: UndefinedMetricWarning: Precision and F-score are ill-defined and being set to 0.0 in labels with no predicted samples. Use `zero_division` parameter to control this behavior.\n",
      "  _warn_prf(average, modifier, msg_start, len(result))\n",
      "c:\\Users\\Rafi\\AppData\\Local\\Programs\\Python\\Python310\\lib\\site-packages\\sklearn\\metrics\\_classification.py:1334: UndefinedMetricWarning: Precision and F-score are ill-defined and being set to 0.0 in labels with no predicted samples. Use `zero_division` parameter to control this behavior.\n",
      "  _warn_prf(average, modifier, msg_start, len(result))\n"
     ]
    },
    {
     "data": {
      "text/plain": [
       "<Figure size 432x288 with 0 Axes>"
      ]
     },
     "metadata": {},
     "output_type": "display_data"
    }
   ],
   "source": [
    "\n",
    "imputer = SimpleImputer(strategy='mean') \n",
    "\n",
    "df_copy = weighted_df.copy()\n",
    "df_copy.drop(['quarters', 'ha'], axis=1, inplace=True)\n",
    "X = df_copy.iloc[:, -14:] # Define explanatory variables\n",
    "y = df_copy[[\"ipc\"]]  # Define target data\n",
    "y = y.astype(int)\n",
    "\n",
    "scaler = StandardScaler()\n",
    "# Use StratifiedKFold for stratified splitting\n",
    "cv = TimeSeriesSplit(n_splits=5)\n",
    "\n",
    "# Initialize empty lists to store scores.6f}\"\n",
    "mse_values = list()\n",
    "r2_values = list()\n",
    "accuracy_values = list()\n",
    "\n",
    "for train_index, val_index in cv.split(X, y):  # Use X and y as inputs for splitting\n",
    "\n",
    "    X_train, X_test = X.iloc[train_index], X.iloc[val_index]\n",
    "    y_train, y_val = y.iloc[train_index], y.iloc[val_index]\n",
    "    X_train = scaler.fit_transform(X_train)\n",
    "    X_test = scaler.transform(X_test)\n",
    "    \n",
    "    X_train = imputer.fit_transform(X_train)\n",
    "    X_test = imputer.transform(X_test)\n",
    "    \n",
    "    model = LogisticRegression(C=0.01, max_iter=100, penalty='l1', random_state=42, solver='saga')\n",
    "    model.fit(X_train, y_train)\n",
    "    y_pred = model.predict(X_test)\n",
    "    \n",
    "    mse = mean_squared_error(y_val, y_pred)\n",
    "    r2 = r2_score(y_val, y_pred)\n",
    "\n",
    "    mse_values.append(mse)\n",
    "    r2_values.append(r2)\n",
    "    \n",
    "    accuracy = accuracy_score(y_val, y_pred)\n",
    "    accuracy_values.append(accuracy)\n",
    "    \n",
    "    plt.title('train %s - %s | test %s - %s' % (train_index[0], train_index[-1], val_index[0], val_index[-1]))\n",
    "    plot_ConfusionMatrix(prediction = y_pred, true = y_val['ipc']) # Plot confusion matrix\n",
    "\n",
    "    print (classification_report(y_val,y_pred))\n",
    "    \n",
    "print(f\"Mean MSE: {np.mean(mse_values):.6f}\")\n",
    "print(f\"Mean R-squared: {np.mean(r2_values):.6f}\")\n",
    "print(f\"Mean Accuracy: {np.mean(accuracy_values):.6f}\") # Print MAE\n",
    "print(f\"Accuracy of each set: {accuracy_values}\")"
   ]
  },
  {
   "cell_type": "markdown",
   "id": "65a91f16f82b5b65",
   "metadata": {
    "collapsed": false
   },
   "source": [
    "### PREDICTING WITH BINARY MODEL"
   ]
  },
  {
   "cell_type": "code",
   "execution_count": 45,
   "id": "78ed76e4dc73ca28",
   "metadata": {
    "ExecuteTime": {
     "end_time": "2023-10-15T17:25:54.739433859Z",
     "start_time": "2023-10-15T17:25:53.839427714Z"
    },
    "collapsed": false
   },
   "outputs": [
    {
     "name": "stderr",
     "output_type": "stream",
     "text": [
      "c:\\Users\\Rafi\\AppData\\Local\\Programs\\Python\\Python310\\lib\\site-packages\\sklearn\\utils\\extmath.py:981: RuntimeWarning: invalid value encountered in divide\n",
      "  updated_mean = (last_sum + new_sum) / updated_sample_count\n",
      "c:\\Users\\Rafi\\AppData\\Local\\Programs\\Python\\Python310\\lib\\site-packages\\sklearn\\utils\\extmath.py:986: RuntimeWarning: invalid value encountered in divide\n",
      "  T = new_sum / new_sample_count\n",
      "c:\\Users\\Rafi\\AppData\\Local\\Programs\\Python\\Python310\\lib\\site-packages\\sklearn\\utils\\extmath.py:1006: RuntimeWarning: invalid value encountered in divide\n",
      "  new_unnormalized_variance -= correction**2 / new_sample_count\n",
      "c:\\Users\\Rafi\\AppData\\Local\\Programs\\Python\\Python310\\lib\\site-packages\\sklearn\\utils\\validation.py:1111: DataConversionWarning: A column-vector y was passed when a 1d array was expected. Please change the shape of y to (n_samples, ), for example using ravel().\n",
      "  y = column_or_1d(y, warn=True)\n"
     ]
    },
    {
     "data": {
      "image/png": "[encoded data removed]",
      "text/plain": [
       "<Figure size 432x288 with 2 Axes>"
      ]
     },
     "metadata": {
      "needs_background": "light"
     },
     "output_type": "display_data"
    },
    {
     "name": "stderr",
     "output_type": "stream",
     "text": [
      "c:\\Users\\Rafi\\AppData\\Local\\Programs\\Python\\Python310\\lib\\site-packages\\sklearn\\metrics\\_classification.py:1334: UndefinedMetricWarning: Precision and F-score are ill-defined and being set to 0.0 in labels with no predicted samples. Use `zero_division` parameter to control this behavior.\n",
      "  _warn_prf(average, modifier, msg_start, len(result))\n",
      "c:\\Users\\Rafi\\AppData\\Local\\Programs\\Python\\Python310\\lib\\site-packages\\sklearn\\metrics\\_classification.py:1334: UndefinedMetricWarning: Precision and F-score are ill-defined and being set to 0.0 in labels with no predicted samples. Use `zero_division` parameter to control this behavior.\n",
      "  _warn_prf(average, modifier, msg_start, len(result))\n",
      "c:\\Users\\Rafi\\AppData\\Local\\Programs\\Python\\Python310\\lib\\site-packages\\sklearn\\metrics\\_classification.py:1334: UndefinedMetricWarning: Precision and F-score are ill-defined and being set to 0.0 in labels with no predicted samples. Use `zero_division` parameter to control this behavior.\n",
      "  _warn_prf(average, modifier, msg_start, len(result))\n",
      "c:\\Users\\Rafi\\AppData\\Local\\Programs\\Python\\Python310\\lib\\site-packages\\sklearn\\utils\\validation.py:1111: DataConversionWarning: A column-vector y was passed when a 1d array was expected. Please change the shape of y to (n_samples, ), for example using ravel().\n",
      "  y = column_or_1d(y, warn=True)\n"
     ]
    },
    {
     "name": "stdout",
     "output_type": "stream",
     "text": [
      "              precision    recall  f1-score   support\n",
      "\n",
      "       False       0.83      1.00      0.91      1378\n",
      "        True       0.00      0.00      0.00       286\n",
      "\n",
      "    accuracy                           0.83      1664\n",
      "   macro avg       0.41      0.50      0.45      1664\n",
      "weighted avg       0.69      0.83      0.75      1664\n",
      "\n"
     ]
    },
    {
     "data": {
      "image/png": "[encoded data removed]",
      "text/plain": [
       "<Figure size 432x288 with 2 Axes>"
      ]
     },
     "metadata": {
      "needs_background": "light"
     },
     "output_type": "display_data"
    },
    {
     "name": "stderr",
     "output_type": "stream",
     "text": [
      "c:\\Users\\Rafi\\AppData\\Local\\Programs\\Python\\Python310\\lib\\site-packages\\sklearn\\utils\\validation.py:1111: DataConversionWarning: A column-vector y was passed when a 1d array was expected. Please change the shape of y to (n_samples, ), for example using ravel().\n",
      "  y = column_or_1d(y, warn=True)\n"
     ]
    },
    {
     "name": "stdout",
     "output_type": "stream",
     "text": [
      "              precision    recall  f1-score   support\n",
      "\n",
      "       False       0.97      0.98      0.97      1408\n",
      "        True       0.86      0.82      0.84       256\n",
      "\n",
      "    accuracy                           0.95      1664\n",
      "   macro avg       0.91      0.90      0.90      1664\n",
      "weighted avg       0.95      0.95      0.95      1664\n",
      "\n"
     ]
    },
    {
     "data": {
      "image/png": "[encoded data removed]",
      "text/plain": [
       "<Figure size 432x288 with 2 Axes>"
      ]
     },
     "metadata": {
      "needs_background": "light"
     },
     "output_type": "display_data"
    },
    {
     "name": "stderr",
     "output_type": "stream",
     "text": [
      "c:\\Users\\Rafi\\AppData\\Local\\Programs\\Python\\Python310\\lib\\site-packages\\sklearn\\utils\\validation.py:1111: DataConversionWarning: A column-vector y was passed when a 1d array was expected. Please change the shape of y to (n_samples, ), for example using ravel().\n",
      "  y = column_or_1d(y, warn=True)\n"
     ]
    },
    {
     "name": "stdout",
     "output_type": "stream",
     "text": [
      "              precision    recall  f1-score   support\n",
      "\n",
      "       False       0.94      0.93      0.94      1161\n",
      "        True       0.85      0.87      0.86       503\n",
      "\n",
      "    accuracy                           0.92      1664\n",
      "   macro avg       0.90      0.90      0.90      1664\n",
      "weighted avg       0.92      0.92      0.92      1664\n",
      "\n"
     ]
    },
    {
     "data": {
      "image/png": "[encoded data removed]",
      "text/plain": [
       "<Figure size 432x288 with 2 Axes>"
      ]
     },
     "metadata": {
      "needs_background": "light"
     },
     "output_type": "display_data"
    },
    {
     "name": "stdout",
     "output_type": "stream",
     "text": [
      "              precision    recall  f1-score   support\n",
      "\n",
      "       False       0.81      0.90      0.85       701\n",
      "        True       0.92      0.85      0.88       963\n",
      "\n",
      "    accuracy                           0.87      1664\n",
      "   macro avg       0.87      0.87      0.87      1664\n",
      "weighted avg       0.87      0.87      0.87      1664\n",
      "\n"
     ]
    },
    {
     "name": "stderr",
     "output_type": "stream",
     "text": [
      "c:\\Users\\Rafi\\AppData\\Local\\Programs\\Python\\Python310\\lib\\site-packages\\sklearn\\utils\\validation.py:1111: DataConversionWarning: A column-vector y was passed when a 1d array was expected. Please change the shape of y to (n_samples, ), for example using ravel().\n",
      "  y = column_or_1d(y, warn=True)\n"
     ]
    },
    {
     "data": {
      "image/png": "[encoded data removed]",
      "text/plain": [
       "<Figure size 432x288 with 2 Axes>"
      ]
     },
     "metadata": {
      "needs_background": "light"
     },
     "output_type": "display_data"
    },
    {
     "name": "stdout",
     "output_type": "stream",
     "text": [
      "              precision    recall  f1-score   support\n",
      "\n",
      "       False       0.76      0.77      0.77       632\n",
      "        True       0.86      0.86      0.86      1032\n",
      "\n",
      "    accuracy                           0.82      1664\n",
      "   macro avg       0.81      0.81      0.81      1664\n",
      "weighted avg       0.82      0.82      0.82      1664\n",
      "\n",
      "Mean Accuracy: 0.877404\n",
      "Accuracy of each set: [0.828125, 0.9513221153846154, 0.9152644230769231, 0.8701923076923077, 0.8221153846153846]\n"
     ]
    },
    {
     "data": {
      "text/plain": [
       "<Figure size 432x288 with 0 Axes>"
      ]
     },
     "metadata": {},
     "output_type": "display_data"
    }
   ],
   "source": [
    "\n",
    "imputer = SimpleImputer(strategy='mean') \n",
    "\n",
    "df_copy = weighted_df.copy()\n",
    "df_copy.drop(['quarters', 'ha'], axis=1, inplace=True)\n",
    "X = df_copy.iloc[:, -14:] # Define explanatory variables\n",
    "y = df_copy[[\"ipc\"]]  # Define target data\n",
    "y = y.astype(int)\n",
    "\n",
    "scaler = StandardScaler()\n",
    "\n",
    "cv = TimeSeriesSplit(n_splits=5)\n",
    "\n",
    "# Initialize empty lists to store scores\n",
    "mse_values = list()\n",
    "r2_values = list()\n",
    "accuracy_values = list()\n",
    "train_loss_values_w = list()\n",
    "val_loss_values_w = list()\n",
    "\n",
    "for train_index, val_index in cv.split(X, y):  # Use X and y as inputs for splitting\n",
    "\n",
    "    y_binary = y > 2.5 # Convert y to binary variable\n",
    "    y_binary[y.isna()] = pd.NA # Conserve NaN values\n",
    "    y_binary = y_binary.astype(\"float32\") # Convert y to float\n",
    "\n",
    "\n",
    "    X_train, X_test = X.iloc[train_index], X.iloc[val_index]\n",
    "    y_train, y_val = y_binary.iloc[train_index], y_binary.iloc[val_index]\n",
    "    X_train = scaler.fit_transform(X_train)\n",
    "    X_test = scaler.transform(X_test)\n",
    "    \n",
    "    X_train = imputer.fit_transform(X_train)\n",
    "    X_test = imputer.transform(X_test)\n",
    "    \n",
    "    model = LogisticRegression(C=0.01, max_iter=100, penalty='l1', random_state=42, solver='saga')\n",
    "    model.fit(X_train, y_train)\n",
    "    y_pred = model.predict(X_test)\n",
    "    \n",
    "    y_pred = y_pred.round().astype(bool)\n",
    "    y_val = y_val.round().astype(bool)\n",
    "    \n",
    "    y_pred = y_pred[list(y_val.isnull()['ipc']==False)]\n",
    "    y_val.dropna(inplace=True)\n",
    "    \n",
    "    \n",
    "    # mse = mean_squared_error(y_val, y_pred)\n",
    "    # r2 = r2_score(y_val, y_pred)\n",
    "\n",
    "    # mse_values.append(mse)\n",
    "    # r2_values.append(r2)\n",
    "    \n",
    "    accuracy = accuracy_score(y_val, y_pred)\n",
    "    accuracy_values.append(accuracy)\n",
    "    train_loss = log_loss(y_train, model.predict_proba(X_train)[:, 1])\n",
    "    val_loss = log_loss(y_val, model.predict_proba(X_test)[:, 1])\n",
    "\n",
    "    train_loss_values_w.append(train_loss)\n",
    "    val_loss_values_w.append(val_loss)\n",
    "\n",
    "    plt.title('train %s - %s | test %s - %s' % (train_index[0], train_index[-1], val_index[0], val_index[-1]))\n",
    "    plot_ConfusionMatrix(prediction = y_pred, true = y_val['ipc'], binary = True) # Plot confusion matrix\n",
    "\n",
    "    print (classification_report(y_val,y_pred))\n",
    "    \n",
    "# print(f\"Mean MSE: {np.mean(mse_values):.6f}\")\n",
    "# print(f\"Mean R-squared: {np.mean(r2_values):.6f}\")\n",
    "print(f\"Mean Accuracy: {np.mean(accuracy_values):.6f}\") # Print MAE\n",
    "print(f\"Accuracy of each set: {accuracy_values}\")"
   ]
  },
  {
   "cell_type": "code",
   "execution_count": 46,
   "id": "1f53623521b84695",
   "metadata": {
    "ExecuteTime": {
     "end_time": "2023-10-15T17:26:00.047683584Z",
     "start_time": "2023-10-15T17:25:59.148336240Z"
    },
    "collapsed": false
   },
   "outputs": [
    {
     "name": "stderr",
     "output_type": "stream",
     "text": [
      "c:\\Users\\Rafi\\AppData\\Local\\Programs\\Python\\Python310\\lib\\site-packages\\sklearn\\utils\\extmath.py:981: RuntimeWarning: invalid value encountered in divide\n",
      "  updated_mean = (last_sum + new_sum) / updated_sample_count\n",
      "c:\\Users\\Rafi\\AppData\\Local\\Programs\\Python\\Python310\\lib\\site-packages\\sklearn\\utils\\extmath.py:986: RuntimeWarning: invalid value encountered in divide\n",
      "  T = new_sum / new_sample_count\n",
      "c:\\Users\\Rafi\\AppData\\Local\\Programs\\Python\\Python310\\lib\\site-packages\\sklearn\\utils\\extmath.py:1006: RuntimeWarning: invalid value encountered in divide\n",
      "  new_unnormalized_variance -= correction**2 / new_sample_count\n",
      "c:\\Users\\Rafi\\AppData\\Local\\Programs\\Python\\Python310\\lib\\site-packages\\sklearn\\utils\\validation.py:1111: DataConversionWarning: A column-vector y was passed when a 1d array was expected. Please change the shape of y to (n_samples, ), for example using ravel().\n",
      "  y = column_or_1d(y, warn=True)\n"
     ]
    },
    {
     "data": {
      "image/png": "[encoded data removed]",
      "text/plain": [
       "<Figure size 432x288 with 2 Axes>"
      ]
     },
     "metadata": {
      "needs_background": "light"
     },
     "output_type": "display_data"
    },
    {
     "name": "stderr",
     "output_type": "stream",
     "text": [
      "c:\\Users\\Rafi\\AppData\\Local\\Programs\\Python\\Python310\\lib\\site-packages\\sklearn\\metrics\\_classification.py:1334: UndefinedMetricWarning: Precision and F-score are ill-defined and being set to 0.0 in labels with no predicted samples. Use `zero_division` parameter to control this behavior.\n",
      "  _warn_prf(average, modifier, msg_start, len(result))\n",
      "c:\\Users\\Rafi\\AppData\\Local\\Programs\\Python\\Python310\\lib\\site-packages\\sklearn\\metrics\\_classification.py:1334: UndefinedMetricWarning: Precision and F-score are ill-defined and being set to 0.0 in labels with no predicted samples. Use `zero_division` parameter to control this behavior.\n",
      "  _warn_prf(average, modifier, msg_start, len(result))\n",
      "c:\\Users\\Rafi\\AppData\\Local\\Programs\\Python\\Python310\\lib\\site-packages\\sklearn\\metrics\\_classification.py:1334: UndefinedMetricWarning: Precision and F-score are ill-defined and being set to 0.0 in labels with no predicted samples. Use `zero_division` parameter to control this behavior.\n",
      "  _warn_prf(average, modifier, msg_start, len(result))\n",
      "c:\\Users\\Rafi\\AppData\\Local\\Programs\\Python\\Python310\\lib\\site-packages\\sklearn\\utils\\validation.py:1111: DataConversionWarning: A column-vector y was passed when a 1d array was expected. Please change the shape of y to (n_samples, ), for example using ravel().\n",
      "  y = column_or_1d(y, warn=True)\n"
     ]
    },
    {
     "name": "stdout",
     "output_type": "stream",
     "text": [
      "              precision    recall  f1-score   support\n",
      "\n",
      "       False       0.82      1.00      0.90      1337\n",
      "        True       0.00      0.00      0.00       288\n",
      "\n",
      "    accuracy                           0.82      1625\n",
      "   macro avg       0.41      0.50      0.45      1625\n",
      "weighted avg       0.68      0.82      0.74      1625\n",
      "\n"
     ]
    },
    {
     "data": {
      "image/png": "[encoded data removed]",
      "text/plain": [
       "<Figure size 432x288 with 2 Axes>"
      ]
     },
     "metadata": {
      "needs_background": "light"
     },
     "output_type": "display_data"
    },
    {
     "name": "stdout",
     "output_type": "stream",
     "text": [
      "              precision    recall  f1-score   support\n",
      "\n",
      "       False       0.97      0.99      0.98      1400\n",
      "        True       0.91      0.80      0.85       225\n",
      "\n",
      "    accuracy                           0.96      1625\n",
      "   macro avg       0.94      0.89      0.91      1625\n",
      "weighted avg       0.96      0.96      0.96      1625\n",
      "\n"
     ]
    },
    {
     "name": "stderr",
     "output_type": "stream",
     "text": [
      "c:\\Users\\Rafi\\AppData\\Local\\Programs\\Python\\Python310\\lib\\site-packages\\sklearn\\utils\\validation.py:1111: DataConversionWarning: A column-vector y was passed when a 1d array was expected. Please change the shape of y to (n_samples, ), for example using ravel().\n",
      "  y = column_or_1d(y, warn=True)\n"
     ]
    },
    {
     "data": {
      "image/png": "[encoded data removed]",
      "text/plain": [
       "<Figure size 432x288 with 2 Axes>"
      ]
     },
     "metadata": {
      "needs_background": "light"
     },
     "output_type": "display_data"
    },
    {
     "name": "stderr",
     "output_type": "stream",
     "text": [
      "c:\\Users\\Rafi\\AppData\\Local\\Programs\\Python\\Python310\\lib\\site-packages\\sklearn\\utils\\validation.py:1111: DataConversionWarning: A column-vector y was passed when a 1d array was expected. Please change the shape of y to (n_samples, ), for example using ravel().\n",
      "  y = column_or_1d(y, warn=True)\n"
     ]
    },
    {
     "name": "stdout",
     "output_type": "stream",
     "text": [
      "              precision    recall  f1-score   support\n",
      "\n",
      "       False       0.94      0.96      0.95      1126\n",
      "        True       0.91      0.87      0.89       499\n",
      "\n",
      "    accuracy                           0.93      1625\n",
      "   macro avg       0.93      0.92      0.92      1625\n",
      "weighted avg       0.93      0.93      0.93      1625\n",
      "\n"
     ]
    },
    {
     "data": {
      "image/png": "[encoded data removed]",
      "text/plain": [
       "<Figure size 432x288 with 2 Axes>"
      ]
     },
     "metadata": {
      "needs_background": "light"
     },
     "output_type": "display_data"
    },
    {
     "name": "stdout",
     "output_type": "stream",
     "text": [
      "              precision    recall  f1-score   support\n",
      "\n",
      "       False       0.83      0.84      0.84       803\n",
      "        True       0.85      0.83      0.84       822\n",
      "\n",
      "    accuracy                           0.84      1625\n",
      "   macro avg       0.84      0.84      0.84      1625\n",
      "weighted avg       0.84      0.84      0.84      1625\n",
      "\n"
     ]
    },
    {
     "name": "stderr",
     "output_type": "stream",
     "text": [
      "c:\\Users\\Rafi\\AppData\\Local\\Programs\\Python\\Python310\\lib\\site-packages\\sklearn\\utils\\validation.py:1111: DataConversionWarning: A column-vector y was passed when a 1d array was expected. Please change the shape of y to (n_samples, ), for example using ravel().\n",
      "  y = column_or_1d(y, warn=True)\n"
     ]
    },
    {
     "data": {
      "image/png": "[encoded data removed]",
      "text/plain": [
       "<Figure size 432x288 with 2 Axes>"
      ]
     },
     "metadata": {
      "needs_background": "light"
     },
     "output_type": "display_data"
    },
    {
     "name": "stdout",
     "output_type": "stream",
     "text": [
      "              precision    recall  f1-score   support\n",
      "\n",
      "       False       0.77      0.76      0.77       620\n",
      "        True       0.85      0.86      0.86      1005\n",
      "\n",
      "    accuracy                           0.82      1625\n",
      "   macro avg       0.81      0.81      0.81      1625\n",
      "weighted avg       0.82      0.82      0.82      1625\n",
      "\n",
      "Mean Accuracy: 0.875692\n",
      "Accuracy of each set: [0.8227692307692308, 0.9612307692307692, 0.9335384615384615, 0.8369230769230769, 0.824]\n"
     ]
    },
    {
     "data": {
      "text/plain": [
       "<Figure size 432x288 with 0 Axes>"
      ]
     },
     "metadata": {},
     "output_type": "display_data"
    }
   ],
   "source": [
    "\n",
    "imputer = SimpleImputer(strategy='mean') \n",
    "\n",
    "df_copy = density_df.copy()\n",
    "exclude_df = df_copy.loc[((df_copy[\"year\"] == 2020) & (df_copy[\"month\"] >= 1)) | ((df_copy[\"year\"] == 2019) & (df_copy[\"month\"] == 12))]\n",
    "df_copy = pd.concat([df_copy, exclude_df]).drop_duplicates(keep=False)\n",
    "df_copy.drop(['quarters', 'ha'], axis=1, inplace=True)\n",
    "X = df_copy.iloc[:, -14:] # Define explanatory variables\n",
    "y = df_copy[[\"ipc\"]]  # Define target data\n",
    "y = y.astype(int)\n",
    "\n",
    "scaler = StandardScaler()\n",
    "# Use StratifiedKFold for stratified splitting\n",
    "cv = TimeSeriesSplit(n_splits=5)\n",
    "\n",
    "# Initialize empty lists to store scores\n",
    "mse_values \\\n",
    "    = list()\n",
    "r2_values = list()\n",
    "accuracy_values = list()\n",
    "train_loss_values_d = list()\n",
    "val_loss_values_d = list()\n",
    "\n",
    "model = LogisticRegression(C=0.01, max_iter=100, penalty='l1', random_state=42, solver='saga')\n",
    "\n",
    "for train_index, val_index in cv.split(X, y):  # Use X and y as inputs for splitting\n",
    "\n",
    "    y_binary = y > 2.5 # Convert y to binary variable\n",
    "    y_binary[y.isna()] = pd.NA # Conserve NaN values\n",
    "    y_binary = y_binary.astype(\"float32\") # Convert y to float\n",
    "\n",
    "\n",
    "    X_train, X_test = X.iloc[train_index], X.iloc[val_index]\n",
    "    y_train, y_val = y_binary.iloc[train_index], y_binary.iloc[val_index]\n",
    "    X_train = scaler.fit_transform(X_train)\n",
    "    X_test = scaler.transform(X_test)\n",
    "    \n",
    "    X_train = imputer.fit_transform(X_train)\n",
    "    X_test = imputer.transform(X_test)\n",
    "    \n",
    "    model.fit(X_train, y_train)\n",
    "    y_pred = model.predict(X_test)\n",
    "    \n",
    "    y_pred = y_pred.round().astype(bool)\n",
    "    y_val = y_val.round().astype(bool)\n",
    "    \n",
    "    y_pred = y_pred[list(y_val.isnull()['ipc']==False)]\n",
    "    y_val.dropna(inplace=True)\n",
    "    \n",
    "    \n",
    "    # mse = mean_squared_error(y_val, y_pred)\n",
    "    # r2 = r2_score(y_val, y_pred)\n",
    "\n",
    "    # mse_values.append(mse)\n",
    "    # r2_values.append(r2)\n",
    "    \n",
    "    accuracy = accuracy_score(y_val, y_pred)\n",
    "    accuracy_values.append(accuracy)\n",
    "    train_loss = log_loss(y_train, model.predict_proba(X_train)[:, 1])\n",
    "    val_loss = log_loss(y_val, model.predict_proba(X_test)[:, 1])\n",
    "\n",
    "    train_loss_values_d.append(train_loss)\n",
    "    val_loss_values_d.append(val_loss)\n",
    "\n",
    "    plt.title('train %s - %s | test %s - %s' % (train_index[0], train_index[-1], val_index[0], val_index[-1]))\n",
    "    plot_ConfusionMatrix(prediction = y_pred, true = y_val['ipc'], binary = True) # Plot confusion matrix\n",
    "\n",
    "    print (classification_report(y_val,y_pred))\n",
    "    \n",
    "# print(f\"Mean MSE: {np.mean(mse_values):.6f}\")\n",
    "# print(f\"Mean R-squared: {np.mean(r2_values):.6f}\")\n",
    "print(f\"Mean Accuracy: {np.mean(accuracy_values):.6f}\") # Print MAE\n",
    "print(f\"Accuracy of each set: {accuracy_values}\")"
   ]
  },
  {
   "cell_type": "code",
   "execution_count": 53,
   "id": "6fe3d61b",
   "metadata": {},
   "outputs": [
    {
     "name": "stdout",
     "output_type": "stream",
     "text": [
      "0 occurs 209 times\n",
      "1 occurs 25 times\n",
      "0 occurs 30 times\n",
      "1 occurs 204 times\n"
     ]
    },
    {
     "name": "stderr",
     "output_type": "stream",
     "text": [
      "C:\\Users\\Rafi\\AppData\\Local\\Temp\\ipykernel_25372\\1417590721.py:6: SettingWithCopyWarning: \n",
      "A value is trying to be set on a copy of a slice from a DataFrame.\n",
      "Try using .loc[row_indexer,col_indexer] = value instead\n",
      "\n",
      "See the caveats in the documentation: https://pandas.pydata.org/pandas-docs/stable/user_guide/indexing.html#returning-a-view-versus-a-copy\n",
      "  three_month_target['crisis'] = three_month_target['ipc'] > 2.5\n",
      "C:\\Users\\Rafi\\AppData\\Local\\Temp\\ipykernel_25372\\1417590721.py:7: SettingWithCopyWarning: \n",
      "A value is trying to be set on a copy of a slice from a DataFrame.\n",
      "Try using .loc[row_indexer,col_indexer] = value instead\n",
      "\n",
      "See the caveats in the documentation: https://pandas.pydata.org/pandas-docs/stable/user_guide/indexing.html#returning-a-view-versus-a-copy\n",
      "  three_month_target['crisis'] = three_month_target['crisis'].map(binary_classification)\n"
     ]
    }
   ],
   "source": [
    "three_month_data = exclude_df.iloc[:, -14:]\n",
    "three_month_data = scaler.fit_transform(three_month_data)\n",
    "three_month_data = imputer.fit_transform(three_month_data)\n",
    "three_month_target = exclude_df[[\"ipc\"]]\n",
    "binary_classification = {False: 0, True: 1}\n",
    "three_month_target['crisis'] = three_month_target['ipc'] > 2.5\n",
    "three_month_target['crisis'] = three_month_target['crisis'].map(binary_classification)\n",
    "y_train_pred = model.predict(three_month_data)\n",
    "rounded_y_train_pred = np.where(y_train_pred > 0.5, 1, 0)\n",
    "# Get the unique values and their counts\n",
    "unique_values, counts = np.unique(rounded_y_train_pred, return_counts=True)\n",
    "\n",
    "# Print the results\n",
    "for value, count in zip(unique_values, counts):\n",
    "    print(f\"{value} occurs {count} times\")\n",
    "\n",
    "\n",
    "# Get the unique values and their counts\n",
    "unique_values, counts = np.unique(three_month_target['crisis'].values, return_counts=True)\n",
    "\n",
    "# Print the results\n",
    "for value, count in zip(unique_values, counts):\n",
    "    print(f\"{value} occurs {count} times\")"
   ]
  },
  {
   "cell_type": "code",
   "execution_count": 77,
   "id": "6144449c",
   "metadata": {},
   "outputs": [
    {
     "data": {
      "application/vnd.plotly.v1+json": {
       "config": {
        "plotlyServerURL": "https://plot.ly"
       },
       "data": [
        {
         "customdata": [
          [
           1
          ],
          [
           1
          ],
          [
           0
          ],
          [
           0
          ]
         ],
         "hovertemplate": "Crisis?: %{customdata[0]}<br>Count: %{y}",
         "marker": {
          "color": "rgb(55, 83, 109)"
         },
         "name": "Actual",
         "type": "bar",
         "x": [
          2020,
          2019,
          2019,
          2020
         ],
         "y": [
          144,
          60,
          18,
          12
         ]
        },
        {
         "customdata": [
          [
           0
          ],
          [
           0
          ],
          [
           1
          ],
          [
           1
          ]
         ],
         "hovertemplate": "Crisis?: %{customdata[0]}<br>Count: %{y}",
         "marker": {
          "color": "rgb(26, 118, 255)"
         },
         "name": "Predicted",
         "type": "bar",
         "x": [
          2020,
          2019,
          2019,
          2020
         ],
         "y": [
          135,
          74,
          21,
          4
         ]
        }
       ],
       "layout": {
        "bargap": 0.3,
        "bargroupgap": 0.01,
        "barmode": "group",
        "height": 500,
        "legend": {
         "bgcolor": "rgba(255, 255, 255, 0)",
         "bordercolor": "rgba(255, 255, 255, 0)",
         "x": 0,
         "y": 1
        },
        "template": {
         "data": {
          "bar": [
           {
            "error_x": {
             "color": "#2a3f5f"
            },
            "error_y": {
             "color": "#2a3f5f"
            },
            "marker": {
             "line": {
              "color": "#E5ECF6",
              "width": 0.5
             },
             "pattern": {
              "fillmode": "overlay",
              "size": 10,
              "solidity": 0.2
             }
            },
            "type": "bar"
           }
          ],
          "barpolar": [
           {
            "marker": {
             "line": {
              "color": "#E5ECF6",
              "width": 0.5
             },
             "pattern": {
              "fillmode": "overlay",
              "size": 10,
              "solidity": 0.2
             }
            },
            "type": "barpolar"
           }
          ],
          "carpet": [
           {
            "aaxis": {
             "endlinecolor": "#2a3f5f",
             "gridcolor": "white",
             "linecolor": "white",
             "minorgridcolor": "white",
             "startlinecolor": "#2a3f5f"
            },
            "baxis": {
             "endlinecolor": "#2a3f5f",
             "gridcolor": "white",
             "linecolor": "white",
             "minorgridcolor": "white",
             "startlinecolor": "#2a3f5f"
            },
            "type": "carpet"
           }
          ],
          "choropleth": [
           {
            "colorbar": {
             "outlinewidth": 0,
             "ticks": ""
            },
            "type": "choropleth"
           }
          ],
          "contour": [
           {
            "colorbar": {
             "outlinewidth": 0,
             "ticks": ""
            },
            "colorscale": [
             [
              0,
              "#0d0887"
             ],
             [
              0.1111111111111111,
              "#46039f"
             ],
             [
              0.2222222222222222,
              "#7201a8"
             ],
             [
              0.3333333333333333,
              "#9c179e"
             ],
             [
              0.4444444444444444,
              "#bd3786"
             ],
             [
              0.5555555555555556,
              "#d8576b"
             ],
             [
              0.6666666666666666,
              "#ed7953"
             ],
             [
              0.7777777777777778,
              "#fb9f3a"
             ],
             [
              0.8888888888888888,
              "#fdca26"
             ],
             [
              1,
              "#f0f921"
             ]
            ],
            "type": "contour"
           }
          ],
          "contourcarpet": [
           {
            "colorbar": {
             "outlinewidth": 0,
             "ticks": ""
            },
            "type": "contourcarpet"
           }
          ],
          "heatmap": [
           {
            "colorbar": {
             "outlinewidth": 0,
             "ticks": ""
            },
            "colorscale": [
             [
              0,
              "#0d0887"
             ],
             [
              0.1111111111111111,
              "#46039f"
             ],
             [
              0.2222222222222222,
              "#7201a8"
             ],
             [
              0.3333333333333333,
              "#9c179e"
             ],
             [
              0.4444444444444444,
              "#bd3786"
             ],
             [
              0.5555555555555556,
              "#d8576b"
             ],
             [
              0.6666666666666666,
              "#ed7953"
             ],
             [
              0.7777777777777778,
              "#fb9f3a"
             ],
             [
              0.8888888888888888,
              "#fdca26"
             ],
             [
              1,
              "#f0f921"
             ]
            ],
            "type": "heatmap"
           }
          ],
          "heatmapgl": [
           {
            "colorbar": {
             "outlinewidth": 0,
             "ticks": ""
            },
            "colorscale": [
             [
              0,
              "#0d0887"
             ],
             [
              0.1111111111111111,
              "#46039f"
             ],
             [
              0.2222222222222222,
              "#7201a8"
             ],
             [
              0.3333333333333333,
              "#9c179e"
             ],
             [
              0.4444444444444444,
              "#bd3786"
             ],
             [
              0.5555555555555556,
              "#d8576b"
             ],
             [
              0.6666666666666666,
              "#ed7953"
             ],
             [
              0.7777777777777778,
              "#fb9f3a"
             ],
             [
              0.8888888888888888,
              "#fdca26"
             ],
             [
              1,
              "#f0f921"
             ]
            ],
            "type": "heatmapgl"
           }
          ],
          "histogram": [
           {
            "marker": {
             "pattern": {
              "fillmode": "overlay",
              "size": 10,
              "solidity": 0.2
             }
            },
            "type": "histogram"
           }
          ],
          "histogram2d": [
           {
            "colorbar": {
             "outlinewidth": 0,
             "ticks": ""
            },
            "colorscale": [
             [
              0,
              "#0d0887"
             ],
             [
              0.1111111111111111,
              "#46039f"
             ],
             [
              0.2222222222222222,
              "#7201a8"
             ],
             [
              0.3333333333333333,
              "#9c179e"
             ],
             [
              0.4444444444444444,
              "#bd3786"
             ],
             [
              0.5555555555555556,
              "#d8576b"
             ],
             [
              0.6666666666666666,
              "#ed7953"
             ],
             [
              0.7777777777777778,
              "#fb9f3a"
             ],
             [
              0.8888888888888888,
              "#fdca26"
             ],
             [
              1,
              "#f0f921"
             ]
            ],
            "type": "histogram2d"
           }
          ],
          "histogram2dcontour": [
           {
            "colorbar": {
             "outlinewidth": 0,
             "ticks": ""
            },
            "colorscale": [
             [
              0,
              "#0d0887"
             ],
             [
              0.1111111111111111,
              "#46039f"
             ],
             [
              0.2222222222222222,
              "#7201a8"
             ],
             [
              0.3333333333333333,
              "#9c179e"
             ],
             [
              0.4444444444444444,
              "#bd3786"
             ],
             [
              0.5555555555555556,
              "#d8576b"
             ],
             [
              0.6666666666666666,
              "#ed7953"
             ],
             [
              0.7777777777777778,
              "#fb9f3a"
             ],
             [
              0.8888888888888888,
              "#fdca26"
             ],
             [
              1,
              "#f0f921"
             ]
            ],
            "type": "histogram2dcontour"
           }
          ],
          "mesh3d": [
           {
            "colorbar": {
             "outlinewidth": 0,
             "ticks": ""
            },
            "type": "mesh3d"
           }
          ],
          "parcoords": [
           {
            "line": {
             "colorbar": {
              "outlinewidth": 0,
              "ticks": ""
             }
            },
            "type": "parcoords"
           }
          ],
          "pie": [
           {
            "automargin": true,
            "type": "pie"
           }
          ],
          "scatter": [
           {
            "fillpattern": {
             "fillmode": "overlay",
             "size": 10,
             "solidity": 0.2
            },
            "type": "scatter"
           }
          ],
          "scatter3d": [
           {
            "line": {
             "colorbar": {
              "outlinewidth": 0,
              "ticks": ""
             }
            },
            "marker": {
             "colorbar": {
              "outlinewidth": 0,
              "ticks": ""
             }
            },
            "type": "scatter3d"
           }
          ],
          "scattercarpet": [
           {
            "marker": {
             "colorbar": {
              "outlinewidth": 0,
              "ticks": ""
             }
            },
            "type": "scattercarpet"
           }
          ],
          "scattergeo": [
           {
            "marker": {
             "colorbar": {
              "outlinewidth": 0,
              "ticks": ""
             }
            },
            "type": "scattergeo"
           }
          ],
          "scattergl": [
           {
            "marker": {
             "colorbar": {
              "outlinewidth": 0,
              "ticks": ""
             }
            },
            "type": "scattergl"
           }
          ],
          "scattermapbox": [
           {
            "marker": {
             "colorbar": {
              "outlinewidth": 0,
              "ticks": ""
             }
            },
            "type": "scattermapbox"
           }
          ],
          "scatterpolar": [
           {
            "marker": {
             "colorbar": {
              "outlinewidth": 0,
              "ticks": ""
             }
            },
            "type": "scatterpolar"
           }
          ],
          "scatterpolargl": [
           {
            "marker": {
             "colorbar": {
              "outlinewidth": 0,
              "ticks": ""
             }
            },
            "type": "scatterpolargl"
           }
          ],
          "scatterternary": [
           {
            "marker": {
             "colorbar": {
              "outlinewidth": 0,
              "ticks": ""
             }
            },
            "type": "scatterternary"
           }
          ],
          "surface": [
           {
            "colorbar": {
             "outlinewidth": 0,
             "ticks": ""
            },
            "colorscale": [
             [
              0,
              "#0d0887"
             ],
             [
              0.1111111111111111,
              "#46039f"
             ],
             [
              0.2222222222222222,
              "#7201a8"
             ],
             [
              0.3333333333333333,
              "#9c179e"
             ],
             [
              0.4444444444444444,
              "#bd3786"
             ],
             [
              0.5555555555555556,
              "#d8576b"
             ],
             [
              0.6666666666666666,
              "#ed7953"
             ],
             [
              0.7777777777777778,
              "#fb9f3a"
             ],
             [
              0.8888888888888888,
              "#fdca26"
             ],
             [
              1,
              "#f0f921"
             ]
            ],
            "type": "surface"
           }
          ],
          "table": [
           {
            "cells": {
             "fill": {
              "color": "#EBF0F8"
             },
             "line": {
              "color": "white"
             }
            },
            "header": {
             "fill": {
              "color": "#C8D4E3"
             },
             "line": {
              "color": "white"
             }
            },
            "type": "table"
           }
          ]
         },
         "layout": {
          "annotationdefaults": {
           "arrowcolor": "#2a3f5f",
           "arrowhead": 0,
           "arrowwidth": 1
          },
          "autotypenumbers": "strict",
          "coloraxis": {
           "colorbar": {
            "outlinewidth": 0,
            "ticks": ""
           }
          },
          "colorscale": {
           "diverging": [
            [
             0,
             "#8e0152"
            ],
            [
             0.1,
             "#c51b7d"
            ],
            [
             0.2,
             "#de77ae"
            ],
            [
             0.3,
             "#f1b6da"
            ],
            [
             0.4,
             "#fde0ef"
            ],
            [
             0.5,
             "#f7f7f7"
            ],
            [
             0.6,
             "#e6f5d0"
            ],
            [
             0.7,
             "#b8e186"
            ],
            [
             0.8,
             "#7fbc41"
            ],
            [
             0.9,
             "#4d9221"
            ],
            [
             1,
             "#276419"
            ]
           ],
           "sequential": [
            [
             0,
             "#0d0887"
            ],
            [
             0.1111111111111111,
             "#46039f"
            ],
            [
             0.2222222222222222,
             "#7201a8"
            ],
            [
             0.3333333333333333,
             "#9c179e"
            ],
            [
             0.4444444444444444,
             "#bd3786"
            ],
            [
             0.5555555555555556,
             "#d8576b"
            ],
            [
             0.6666666666666666,
             "#ed7953"
            ],
            [
             0.7777777777777778,
             "#fb9f3a"
            ],
            [
             0.8888888888888888,
             "#fdca26"
            ],
            [
             1,
             "#f0f921"
            ]
           ],
           "sequentialminus": [
            [
             0,
             "#0d0887"
            ],
            [
             0.1111111111111111,
             "#46039f"
            ],
            [
             0.2222222222222222,
             "#7201a8"
            ],
            [
             0.3333333333333333,
             "#9c179e"
            ],
            [
             0.4444444444444444,
             "#bd3786"
            ],
            [
             0.5555555555555556,
             "#d8576b"
            ],
            [
             0.6666666666666666,
             "#ed7953"
            ],
            [
             0.7777777777777778,
             "#fb9f3a"
            ],
            [
             0.8888888888888888,
             "#fdca26"
            ],
            [
             1,
             "#f0f921"
            ]
           ]
          },
          "colorway": [
           "#636efa",
           "#EF553B",
           "#00cc96",
           "#ab63fa",
           "#FFA15A",
           "#19d3f3",
           "#FF6692",
           "#B6E880",
           "#FF97FF",
           "#FECB52"
          ],
          "font": {
           "color": "#2a3f5f"
          },
          "geo": {
           "bgcolor": "white",
           "lakecolor": "white",
           "landcolor": "#E5ECF6",
           "showlakes": true,
           "showland": true,
           "subunitcolor": "white"
          },
          "hoverlabel": {
           "align": "left"
          },
          "hovermode": "closest",
          "mapbox": {
           "style": "light"
          },
          "paper_bgcolor": "white",
          "plot_bgcolor": "#E5ECF6",
          "polar": {
           "angularaxis": {
            "gridcolor": "white",
            "linecolor": "white",
            "ticks": ""
           },
           "bgcolor": "#E5ECF6",
           "radialaxis": {
            "gridcolor": "white",
            "linecolor": "white",
            "ticks": ""
           }
          },
          "scene": {
           "xaxis": {
            "backgroundcolor": "#E5ECF6",
            "gridcolor": "white",
            "gridwidth": 2,
            "linecolor": "white",
            "showbackground": true,
            "ticks": "",
            "zerolinecolor": "white"
           },
           "yaxis": {
            "backgroundcolor": "#E5ECF6",
            "gridcolor": "white",
            "gridwidth": 2,
            "linecolor": "white",
            "showbackground": true,
            "ticks": "",
            "zerolinecolor": "white"
           },
           "zaxis": {
            "backgroundcolor": "#E5ECF6",
            "gridcolor": "white",
            "gridwidth": 2,
            "linecolor": "white",
            "showbackground": true,
            "ticks": "",
            "zerolinecolor": "white"
           }
          },
          "shapedefaults": {
           "line": {
            "color": "#2a3f5f"
           }
          },
          "ternary": {
           "aaxis": {
            "gridcolor": "white",
            "linecolor": "white",
            "ticks": ""
           },
           "baxis": {
            "gridcolor": "white",
            "linecolor": "white",
            "ticks": ""
           },
           "bgcolor": "#E5ECF6",
           "caxis": {
            "gridcolor": "white",
            "linecolor": "white",
            "ticks": ""
           }
          },
          "title": {
           "x": 0.05
          },
          "xaxis": {
           "automargin": true,
           "gridcolor": "white",
           "linecolor": "white",
           "ticks": "",
           "title": {
            "standoff": 15
           },
           "zerolinecolor": "white",
           "zerolinewidth": 2
          },
          "yaxis": {
           "automargin": true,
           "gridcolor": "white",
           "linecolor": "white",
           "ticks": "",
           "title": {
            "standoff": 15
           },
           "zerolinecolor": "white",
           "zerolinewidth": 2
          }
         }
        },
        "title": {
         "text": "3-month Future Prediction Performance Logistic Regression"
        },
        "width": 600,
        "xaxis": {
         "tickfont": {
          "size": 14
         },
         "title": {
          "font": {
           "size": 16
          },
          "text": "Year"
         }
        },
        "yaxis": {
         "tickfont": {
          "size": 14
         },
         "title": {
          "font": {
           "size": 16
          },
          "text": "Count of Occurrences"
         }
        }
       }
      }
     },
     "metadata": {},
     "output_type": "display_data"
    }
   ],
   "source": [
    "import plotly.express as px\n",
    "import plotly.graph_objects as go\n",
    "\n",
    "predicted_df = exclude_df\n",
    "predicted_df['predicted'] = rounded_y_train_pred.tolist()\n",
    "predicted_df['crisis'] = predicted_df['ipc'] > 2.5\n",
    "predicted_df['crisis'] = predicted_df['crisis'].map(binary_classification)\n",
    "\n",
    "\n",
    "b = predicted_df[['year', 'crisis']].value_counts()\n",
    "e = predicted_df[['year', \"predicted\"]].value_counts()\n",
    "c = b.to_frame(name='count')\n",
    "e = e.to_frame(name='count').reset_index()\n",
    "d = c.reset_index()\n",
    "\n",
    "plot = go.Figure()\n",
    "plot.add_trace(go.Bar(x=d[\"year\"],\n",
    "                y=d[\"count\"],\n",
    "                name='Actual',\n",
    "                marker_color='rgb(55, 83, 109)',\n",
    "                customdata=np.transpose([d['crisis'].tolist()]),\n",
    "                hovertemplate=\"<br>\".join([\n",
    "                \"Crisis?: %{customdata[0]}\",\n",
    "                \"Count: %{y}\"\n",
    "        ])\n",
    "                ))\n",
    "plot.add_trace(go.Bar(x=d[\"year\"],\n",
    "                y=e[\"count\"],\n",
    "                name='Predicted',\n",
    "                marker_color='rgb(26, 118, 255)',\n",
    "                customdata=np.transpose([e['predicted'].tolist()]),\n",
    "                hovertemplate=\"<br>\".join([\n",
    "                \"Crisis?: %{customdata[0]}\",\n",
    "                \"Count: %{y}\"\n",
    "        ])\n",
    "                ))\n",
    "\n",
    "plot.update_layout(\n",
    "    title='3-month Future Prediction Performance Logistic Regression',\n",
    "    width=600,\n",
    "    height=500,\n",
    "    yaxis=dict(\n",
    "        title='Count of Occurrences',\n",
    "        titlefont_size=16,\n",
    "        tickfont_size=14,\n",
    "    ),\n",
    "    xaxis=dict(\n",
    "        title='Year',\n",
    "        titlefont_size=16,\n",
    "        tickfont_size=14,\n",
    "    ),\n",
    "    legend=dict(\n",
    "        x=0,\n",
    "        y=1.0,\n",
    "        bgcolor='rgba(255, 255, 255, 0)',\n",
    "        bordercolor='rgba(255, 255, 255, 0)'\n",
    "    ),\n",
    "    barmode='group',\n",
    "    bargap=0.3, # gap between bars of adjacent location coordinates.\n",
    "    bargroupgap=0.01 # gap between bars of the same location coordinate.\n",
    ")\n",
    "plot.show()"
   ]
  },
  {
   "cell_type": "markdown",
   "id": "1e50792466a5e42e",
   "metadata": {
    "collapsed": false
   },
   "source": [
    "### TEST OVERFITTING"
   ]
  },
  {
   "cell_type": "code",
   "execution_count": null,
   "id": "aada27db8025ecf",
   "metadata": {
    "ExecuteTime": {
     "end_time": "2023-10-15T17:26:04.910176345Z",
     "start_time": "2023-10-15T17:26:04.775290396Z"
    },
    "collapsed": false
   },
   "outputs": [
    {
     "data": {
      "image/png": "[encoded data removed]",
      "text/plain": [
       "<Figure size 1000x600 with 1 Axes>"
      ]
     },
     "metadata": {},
     "output_type": "display_data"
    }
   ],
   "source": [
    "# After the loop, you can plot training and validation loss values for each split\n",
    "plt.figure(figsize=(10, 6))\n",
    "plt.plot(range(1, len(train_loss_values_w) + 1), train_loss_values_w, marker='o', label='Training Loss')\n",
    "plt.plot(range(1, len(val_loss_values_w) + 1), val_loss_values_w, marker='o', label='Validation Loss')\n",
    "plt.xlabel('Split')\n",
    "plt.ylabel('Log Loss')\n",
    "plt.title('Training and Validation Loss for Each Split - Weighted Population')\n",
    "plt.legend()\n",
    "plt.grid(True)\n",
    "plt.show()\n"
   ]
  },
  {
   "cell_type": "code",
   "execution_count": null,
   "id": "13aed5a0822cfc22",
   "metadata": {
    "ExecuteTime": {
     "end_time": "2023-10-15T17:26:21.271379253Z",
     "start_time": "2023-10-15T17:26:21.132623954Z"
    },
    "collapsed": false
   },
   "outputs": [
    {
     "data": {
      "image/png": "[encoded data removed]",
      "text/plain": [
       "<Figure size 1000x600 with 1 Axes>"
      ]
     },
     "metadata": {},
     "output_type": "display_data"
    }
   ],
   "source": [
    "# After the loop, you can plot training and validation loss values for each split\n",
    "plt.figure(figsize=(10, 6))\n",
    "plt.plot(range(1, len(train_loss_values_d) + 1), train_loss_values_d, marker='o', label='Training Loss')\n",
    "plt.plot(range(1, len(val_loss_values_d) + 1), val_loss_values_d, marker='o', label='Validation Loss')\n",
    "plt.xlabel('Split')\n",
    "plt.ylabel('Log Loss')\n",
    "plt.title('Training and Validation Loss for Each Split - Density Population')\n",
    "plt.legend()\n",
    "plt.grid(True)\n",
    "plt.show()\n"
   ]
  },
  {
   "cell_type": "code",
   "execution_count": null,
   "id": "a41f2604ecf593c0",
   "metadata": {
    "collapsed": false
   },
   "outputs": [],
   "source": []
  }
 ],
 "metadata": {
  "kernelspec": {
   "display_name": "Python 3",
   "language": "python",
   "name": "python3"
  },
  "language_info": {
   "codemirror_mode": {
    "name": "ipython",
    "version": 3
   },
   "file_extension": ".py",
   "mimetype": "text/x-python",
   "name": "python",
   "nbconvert_exporter": "python",
   "pygments_lexer": "ipython3",
   "version": "3.10.11"
  }
 },
 "nbformat": 4,
 "nbformat_minor": 5
}
